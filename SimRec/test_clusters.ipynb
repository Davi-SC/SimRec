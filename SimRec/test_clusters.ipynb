{
 "cells": [
  {
   "cell_type": "markdown",
   "id": "5ebfce51",
   "metadata": {},
   "source": [
    "### Arquivo para teste e avaliação de clusters"
   ]
  },
  {
   "cell_type": "code",
   "execution_count": 1,
   "id": "625b7bfc",
   "metadata": {},
   "outputs": [],
   "source": [
    "#imports\n",
    "import sys\n",
    "import os\n",
    "import pandas as pd\n",
    "import matplotlib.pyplot as plt\n",
    "import numpy as np\n",
    "sys.path.append('./clusters')\n",
    "\n",
    "from clusters.clusters import *\n",
    "from clusters.utils_clusters import *"
   ]
  },
  {
   "cell_type": "code",
   "execution_count": 2,
   "id": "e6bd1347",
   "metadata": {},
   "outputs": [],
   "source": [
    "# executa os metodos de clusterização que recebem apenas k como parametro : run_kmeans, run_fasterpam, run_fastermsc, run_dynmsc, run_agnes\n",
    "def run_methods_with_k(embeddings, methods, k_values, output_path, dataset_name):\n",
    "    os.makedirs(output_path, exist_ok=True)\n",
    "    \n",
    "    for method in methods:\n",
    "        print(f\"Executando {method.__name__}\")\n",
    "        results = []\n",
    "        for k in k_values:\n",
    "            print(f\" - k = {k}\")\n",
    "            try:\n",
    "                cluster_ids, model = method(embeddings, k)\n",
    "\n",
    "                method_path = os.path.join(output_path, method.__name__)\n",
    "                os.makedirs(method_path, exist_ok=True)\n",
    "\n",
    "                save_path = os.path.join(method_path, f\"{dataset_name}_cluster_{method.__name__}_k{k}.csv\")\n",
    "                save_clusters(cluster_ids, save_path)\n",
    "\n",
    "                silhouette = evaluate_silhouette(embeddings, cluster_ids)\n",
    "                dunn = evaluate_dunn(embeddings, cluster_ids)\n",
    "\n",
    "                results.append({\n",
    "                    \"Method\": method.__name__,\n",
    "                    \"k\": k,\n",
    "                    \"Silhouette\": silhouette,\n",
    "                    \"Dunn\": dunn\n",
    "                })\n",
    "            except Exception as e:\n",
    "                print(f\"Erro ao executar {method.__name__} com k = {k}: {e}\")\n",
    "        \n",
    "        results_df = pd.DataFrame(results)\n",
    "        results_csv_path = os.path.join(output_path, f\"{dataset_name}_{method.__name__}_results.csv\")\n",
    "        results_df.to_csv(results_csv_path, index=False)    \n",
    "    print(\"Clusterização concluída e resultados salvos\")       "
   ]
  },
  {
   "cell_type": "code",
   "execution_count": 3,
   "id": "c4addcc1",
   "metadata": {},
   "outputs": [],
   "source": [
    "def run_spectral_grid(embeddings, k_values, n_values):\n",
    "    print(\"Spectral\")"
   ]
  },
  {
   "cell_type": "code",
   "execution_count": 4,
   "id": "08d63017",
   "metadata": {},
   "outputs": [],
   "source": [
    "def run_dbscan_grid(embbeddings, eps_values, min_samples_values):\n",
    "    print(\"DBSCAN\")"
   ]
  },
  {
   "cell_type": "code",
   "execution_count": 5,
   "id": "679feaba",
   "metadata": {},
   "outputs": [],
   "source": [
    "def run_hdbscan_variantes(embeddings, min_cluster_sizes):\n",
    "    print(\"HDBSCAN\")"
   ]
  },
  {
   "cell_type": "code",
   "execution_count": 6,
   "id": "883df020",
   "metadata": {},
   "outputs": [],
   "source": [
    "# parametros de teste\n",
    "dataset = 'Beauty'\n",
    "embedding_path = f'../data_preprocessing/{dataset}/{dataset}-similarity-values-thenlper_gte-large.pt'\n",
    "output_path = f'clusters/{dataset}'\n",
    "os.makedirs(output_path, exist_ok=True)\n",
    "embeddings = load_embeddings(embedding_path) #carregando embeddings"
   ]
  },
  {
   "cell_type": "code",
   "execution_count": 7,
   "id": "bba93803",
   "metadata": {},
   "outputs": [
    {
     "name": "stdout",
     "output_type": "stream",
     "text": [
      "Executando run_kmeans\n",
      " - k = 2\n",
      "Clusters salvos em clusters/Beauty\\run_kmeans\\Beauty_cluster_run_kmeans_k2.csv\n",
      " - k = 4\n",
      "Clusters salvos em clusters/Beauty\\run_kmeans\\Beauty_cluster_run_kmeans_k4.csv\n",
      " - k = 6\n",
      "Clusters salvos em clusters/Beauty\\run_kmeans\\Beauty_cluster_run_kmeans_k6.csv\n",
      " - k = 8\n",
      "Clusters salvos em clusters/Beauty\\run_kmeans\\Beauty_cluster_run_kmeans_k8.csv\n",
      " - k = 10\n",
      "Clusters salvos em clusters/Beauty\\run_kmeans\\Beauty_cluster_run_kmeans_k10.csv\n",
      " - k = 12\n",
      "Clusters salvos em clusters/Beauty\\run_kmeans\\Beauty_cluster_run_kmeans_k12.csv\n",
      " - k = 14\n",
      "Clusters salvos em clusters/Beauty\\run_kmeans\\Beauty_cluster_run_kmeans_k14.csv\n",
      " - k = 16\n",
      "Clusters salvos em clusters/Beauty\\run_kmeans\\Beauty_cluster_run_kmeans_k16.csv\n",
      " - k = 18\n",
      "Clusters salvos em clusters/Beauty\\run_kmeans\\Beauty_cluster_run_kmeans_k18.csv\n",
      " - k = 20\n",
      "Clusters salvos em clusters/Beauty\\run_kmeans\\Beauty_cluster_run_kmeans_k20.csv\n",
      " - k = 22\n",
      "Clusters salvos em clusters/Beauty\\run_kmeans\\Beauty_cluster_run_kmeans_k22.csv\n",
      " - k = 24\n",
      "Clusters salvos em clusters/Beauty\\run_kmeans\\Beauty_cluster_run_kmeans_k24.csv\n",
      " - k = 26\n",
      "Clusters salvos em clusters/Beauty\\run_kmeans\\Beauty_cluster_run_kmeans_k26.csv\n",
      " - k = 28\n",
      "Clusters salvos em clusters/Beauty\\run_kmeans\\Beauty_cluster_run_kmeans_k28.csv\n",
      " - k = 30\n",
      "Clusters salvos em clusters/Beauty\\run_kmeans\\Beauty_cluster_run_kmeans_k30.csv\n",
      "Executando run_agnes\n",
      " - k = 2\n",
      "Clusters salvos em clusters/Beauty\\run_agnes\\Beauty_cluster_run_agnes_k2.csv\n",
      " - k = 4\n",
      "Clusters salvos em clusters/Beauty\\run_agnes\\Beauty_cluster_run_agnes_k4.csv\n",
      " - k = 6\n",
      "Clusters salvos em clusters/Beauty\\run_agnes\\Beauty_cluster_run_agnes_k6.csv\n",
      " - k = 8\n",
      "Clusters salvos em clusters/Beauty\\run_agnes\\Beauty_cluster_run_agnes_k8.csv\n",
      " - k = 10\n",
      "Clusters salvos em clusters/Beauty\\run_agnes\\Beauty_cluster_run_agnes_k10.csv\n",
      " - k = 12\n",
      "Clusters salvos em clusters/Beauty\\run_agnes\\Beauty_cluster_run_agnes_k12.csv\n",
      " - k = 14\n",
      "Clusters salvos em clusters/Beauty\\run_agnes\\Beauty_cluster_run_agnes_k14.csv\n",
      " - k = 16\n",
      "Clusters salvos em clusters/Beauty\\run_agnes\\Beauty_cluster_run_agnes_k16.csv\n",
      " - k = 18\n",
      "Clusters salvos em clusters/Beauty\\run_agnes\\Beauty_cluster_run_agnes_k18.csv\n",
      " - k = 20\n",
      "Clusters salvos em clusters/Beauty\\run_agnes\\Beauty_cluster_run_agnes_k20.csv\n",
      " - k = 22\n",
      "Clusters salvos em clusters/Beauty\\run_agnes\\Beauty_cluster_run_agnes_k22.csv\n",
      " - k = 24\n",
      "Clusters salvos em clusters/Beauty\\run_agnes\\Beauty_cluster_run_agnes_k24.csv\n",
      " - k = 26\n",
      "Clusters salvos em clusters/Beauty\\run_agnes\\Beauty_cluster_run_agnes_k26.csv\n",
      " - k = 28\n",
      "Clusters salvos em clusters/Beauty\\run_agnes\\Beauty_cluster_run_agnes_k28.csv\n",
      " - k = 30\n",
      "Clusters salvos em clusters/Beauty\\run_agnes\\Beauty_cluster_run_agnes_k30.csv\n",
      "Executando run_fasterpam\n",
      " - k = 2\n",
      "Clusters salvos em clusters/Beauty\\run_fasterpam\\Beauty_cluster_run_fasterpam_k2.csv\n",
      " - k = 4\n",
      "Clusters salvos em clusters/Beauty\\run_fasterpam\\Beauty_cluster_run_fasterpam_k4.csv\n",
      " - k = 6\n",
      "Clusters salvos em clusters/Beauty\\run_fasterpam\\Beauty_cluster_run_fasterpam_k6.csv\n",
      " - k = 8\n",
      "Clusters salvos em clusters/Beauty\\run_fasterpam\\Beauty_cluster_run_fasterpam_k8.csv\n",
      " - k = 10\n",
      "Clusters salvos em clusters/Beauty\\run_fasterpam\\Beauty_cluster_run_fasterpam_k10.csv\n",
      " - k = 12\n",
      "Clusters salvos em clusters/Beauty\\run_fasterpam\\Beauty_cluster_run_fasterpam_k12.csv\n",
      " - k = 14\n",
      "Clusters salvos em clusters/Beauty\\run_fasterpam\\Beauty_cluster_run_fasterpam_k14.csv\n",
      " - k = 16\n",
      "Clusters salvos em clusters/Beauty\\run_fasterpam\\Beauty_cluster_run_fasterpam_k16.csv\n",
      " - k = 18\n",
      "Clusters salvos em clusters/Beauty\\run_fasterpam\\Beauty_cluster_run_fasterpam_k18.csv\n",
      " - k = 20\n",
      "Clusters salvos em clusters/Beauty\\run_fasterpam\\Beauty_cluster_run_fasterpam_k20.csv\n",
      " - k = 22\n",
      "Clusters salvos em clusters/Beauty\\run_fasterpam\\Beauty_cluster_run_fasterpam_k22.csv\n",
      " - k = 24\n",
      "Clusters salvos em clusters/Beauty\\run_fasterpam\\Beauty_cluster_run_fasterpam_k24.csv\n",
      " - k = 26\n",
      "Clusters salvos em clusters/Beauty\\run_fasterpam\\Beauty_cluster_run_fasterpam_k26.csv\n",
      " - k = 28\n",
      "Clusters salvos em clusters/Beauty\\run_fasterpam\\Beauty_cluster_run_fasterpam_k28.csv\n",
      " - k = 30\n",
      "Clusters salvos em clusters/Beauty\\run_fasterpam\\Beauty_cluster_run_fasterpam_k30.csv\n",
      "Executando run_fastermsc\n",
      " - k = 2\n",
      "Clusters salvos em clusters/Beauty\\run_fastermsc\\Beauty_cluster_run_fastermsc_k2.csv\n",
      " - k = 4\n",
      "Clusters salvos em clusters/Beauty\\run_fastermsc\\Beauty_cluster_run_fastermsc_k4.csv\n",
      " - k = 6\n",
      "Clusters salvos em clusters/Beauty\\run_fastermsc\\Beauty_cluster_run_fastermsc_k6.csv\n",
      " - k = 8\n",
      "Clusters salvos em clusters/Beauty\\run_fastermsc\\Beauty_cluster_run_fastermsc_k8.csv\n",
      " - k = 10\n",
      "Clusters salvos em clusters/Beauty\\run_fastermsc\\Beauty_cluster_run_fastermsc_k10.csv\n",
      " - k = 12\n",
      "Clusters salvos em clusters/Beauty\\run_fastermsc\\Beauty_cluster_run_fastermsc_k12.csv\n",
      " - k = 14\n",
      "Clusters salvos em clusters/Beauty\\run_fastermsc\\Beauty_cluster_run_fastermsc_k14.csv\n",
      " - k = 16\n",
      "Clusters salvos em clusters/Beauty\\run_fastermsc\\Beauty_cluster_run_fastermsc_k16.csv\n",
      " - k = 18\n",
      "Clusters salvos em clusters/Beauty\\run_fastermsc\\Beauty_cluster_run_fastermsc_k18.csv\n",
      " - k = 20\n",
      "Clusters salvos em clusters/Beauty\\run_fastermsc\\Beauty_cluster_run_fastermsc_k20.csv\n",
      " - k = 22\n",
      "Clusters salvos em clusters/Beauty\\run_fastermsc\\Beauty_cluster_run_fastermsc_k22.csv\n",
      " - k = 24\n",
      "Clusters salvos em clusters/Beauty\\run_fastermsc\\Beauty_cluster_run_fastermsc_k24.csv\n",
      " - k = 26\n",
      "Clusters salvos em clusters/Beauty\\run_fastermsc\\Beauty_cluster_run_fastermsc_k26.csv\n",
      " - k = 28\n",
      "Clusters salvos em clusters/Beauty\\run_fastermsc\\Beauty_cluster_run_fastermsc_k28.csv\n",
      " - k = 30\n",
      "Clusters salvos em clusters/Beauty\\run_fastermsc\\Beauty_cluster_run_fastermsc_k30.csv\n",
      "Executando run_dynmsc\n",
      " - k = 2\n",
      "Clusters salvos em clusters/Beauty\\run_dynmsc\\Beauty_cluster_run_dynmsc_k2.csv\n",
      " - k = 4\n",
      "Clusters salvos em clusters/Beauty\\run_dynmsc\\Beauty_cluster_run_dynmsc_k4.csv\n",
      " - k = 6\n",
      "Clusters salvos em clusters/Beauty\\run_dynmsc\\Beauty_cluster_run_dynmsc_k6.csv\n",
      " - k = 8\n",
      "Clusters salvos em clusters/Beauty\\run_dynmsc\\Beauty_cluster_run_dynmsc_k8.csv\n",
      " - k = 10\n",
      "Clusters salvos em clusters/Beauty\\run_dynmsc\\Beauty_cluster_run_dynmsc_k10.csv\n",
      " - k = 12\n",
      "Clusters salvos em clusters/Beauty\\run_dynmsc\\Beauty_cluster_run_dynmsc_k12.csv\n",
      " - k = 14\n",
      "Clusters salvos em clusters/Beauty\\run_dynmsc\\Beauty_cluster_run_dynmsc_k14.csv\n",
      " - k = 16\n",
      "Clusters salvos em clusters/Beauty\\run_dynmsc\\Beauty_cluster_run_dynmsc_k16.csv\n",
      " - k = 18\n",
      "Clusters salvos em clusters/Beauty\\run_dynmsc\\Beauty_cluster_run_dynmsc_k18.csv\n",
      " - k = 20\n",
      "Clusters salvos em clusters/Beauty\\run_dynmsc\\Beauty_cluster_run_dynmsc_k20.csv\n",
      " - k = 22\n",
      "Clusters salvos em clusters/Beauty\\run_dynmsc\\Beauty_cluster_run_dynmsc_k22.csv\n",
      " - k = 24\n",
      "Clusters salvos em clusters/Beauty\\run_dynmsc\\Beauty_cluster_run_dynmsc_k24.csv\n",
      " - k = 26\n",
      "Clusters salvos em clusters/Beauty\\run_dynmsc\\Beauty_cluster_run_dynmsc_k26.csv\n",
      " - k = 28\n",
      "Clusters salvos em clusters/Beauty\\run_dynmsc\\Beauty_cluster_run_dynmsc_k28.csv\n",
      " - k = 30\n",
      "Clusters salvos em clusters/Beauty\\run_dynmsc\\Beauty_cluster_run_dynmsc_k30.csv\n",
      "Clusterização concluída e resultados salvos\n"
     ]
    }
   ],
   "source": [
    "#teste dos clusters com algoritmos que usam k\n",
    "\n",
    "methods = [run_kmeans, run_agnes, run_fasterpam, run_fastermsc, run_dynmsc]\n",
    "k_values = [2, 4, 6, 8, 10, 12, 14, 16, 18, 20, 22, 24, 26, 28, 30]\n",
    "\n",
    "\n",
    "run_methods_with_k(embeddings=embeddings, methods = methods, k_values = k_values, output_path = output_path, dataset_name=dataset)"
   ]
  },
  {
   "cell_type": "code",
   "execution_count": null,
   "id": "56453d94",
   "metadata": {},
   "outputs": [],
   "source": []
  },
  {
   "cell_type": "code",
   "execution_count": null,
   "id": "c8ac93d4",
   "metadata": {},
   "outputs": [
    {
     "name": "stdout",
     "output_type": "stream",
     "text": [
      "\n",
      "Testando FASTERMSC com k=10...\n"
     ]
    }
   ],
   "source": [
    "def test_method(name, func, embeddings, k):\n",
    "    try:\n",
    "        print(f\"\\nTestando {name} com k={k}...\")\n",
    "        cluster_ids, model = func(embeddings, n_clusters=k)\n",
    "        num_clusters = len(set(cluster_ids))\n",
    "        print(f\"{name} executado com sucesso.\")\n",
    "        print(f\"Número de clusters encontrados: {num_clusters}\")\n",
    "        assert len(cluster_ids) == embeddings.shape[0], \"Tamanho do cluster_ids não bate com embeddings!\"\n",
    "    except Exception as e:\n",
    "        print(f\"Erro no {name}: {e}\")\n",
    "\n",
    "k=10\n",
    "test_method(\"FASTERMSC\", run_fastermsc, embeddings, k)\n",
    "test_method(\"DYNMSC\", run_dynmsc, embeddings, k)\n",
    "test_method(\"FASTERPAM\", run_fasterpam, embeddings, k)\n",
    "test_method(\"KMeans\", run_kmeans, embeddings, k)\n",
    "test_method(\"AGNES\", run_agnes, embeddings, k)\n",
    "\n"
   ]
  },
  {
   "cell_type": "code",
   "execution_count": null,
   "id": "7698a6d9",
   "metadata": {},
   "outputs": [
    {
     "name": "stdout",
     "output_type": "stream",
     "text": [
      "\n",
      "Testando SPECTRAL com k=7...\n"
     ]
    },
    {
     "name": "stderr",
     "output_type": "stream",
     "text": [
      "C:\\Users\\cruzd\\AppData\\Local\\Packages\\PythonSoftwareFoundation.Python.3.12_qbz5n2kfra8p0\\LocalCache\\local-packages\\Python312\\site-packages\\sklearn\\manifold\\_spectral_embedding.py:329: UserWarning: Graph is not fully connected, spectral embedding may not work as expected.\n",
      "  warnings.warn(\n"
     ]
    },
    {
     "name": "stdout",
     "output_type": "stream",
     "text": [
      "SPECTRAL executado com sucesso.\n",
      "Número de clusters encontrados: 7\n"
     ]
    }
   ],
   "source": [
    "k=7\n",
    "n = 15\n",
    "print(f\"\\nTestando SPECTRAL com k={k}...\")\n",
    "cluster_ids, model = run_spectral(embeddings, n_clusters=k, n_neighbors=n)\n",
    "num_clusters = len(set(cluster_ids))\n",
    "print(\"SPECTRAL executado com sucesso.\")\n",
    "print(f\"Número de clusters encontrados: {num_clusters}\")\n"
   ]
  },
  {
   "cell_type": "code",
   "execution_count": 7,
   "id": "528a5991",
   "metadata": {},
   "outputs": [
    {
     "name": "stdout",
     "output_type": "stream",
     "text": [
      "\n",
      "Testando DBSCAN ...\n",
      "DBSCAN executado com sucesso.\n",
      "Número de clusters encontrados: 1\n"
     ]
    }
   ],
   "source": [
    "print(\"\\nTestando DBSCAN ...\")\n",
    "cluster_ids, model = run_dbscan(embeddings, eps=0.4, min_samples=10)\n",
    "num_clusters = len(set(cluster_ids))\n",
    "print(\"DBSCAN executado com sucesso.\")\n",
    "print(f\"Número de clusters encontrados: {num_clusters}\")"
   ]
  },
  {
   "cell_type": "code",
   "execution_count": null,
   "id": "9756443a",
   "metadata": {},
   "outputs": [
    {
     "name": "stdout",
     "output_type": "stream",
     "text": [
      "\n",
      "Testando HDBSCAN ...\n"
     ]
    },
    {
     "name": "stderr",
     "output_type": "stream",
     "text": [
      "C:\\Users\\cruzd\\AppData\\Local\\Packages\\PythonSoftwareFoundation.Python.3.12_qbz5n2kfra8p0\\LocalCache\\local-packages\\Python312\\site-packages\\sklearn\\utils\\deprecation.py:151: FutureWarning: 'force_all_finite' was renamed to 'ensure_all_finite' in 1.6 and will be removed in 1.8.\n",
      "  warnings.warn(\n",
      "C:\\Users\\cruzd\\AppData\\Local\\Packages\\PythonSoftwareFoundation.Python.3.12_qbz5n2kfra8p0\\LocalCache\\local-packages\\Python312\\site-packages\\sklearn\\utils\\deprecation.py:151: FutureWarning: 'force_all_finite' was renamed to 'ensure_all_finite' in 1.6 and will be removed in 1.8.\n",
      "  warnings.warn(\n"
     ]
    },
    {
     "name": "stdout",
     "output_type": "stream",
     "text": [
      "HDBSCAN executado com sucesso.\n",
      "Número de clusters encontrados: 6\n"
     ]
    }
   ],
   "source": [
    "print(\"\\nTestando HDBSCAN ...\")\n",
    "cluster_ids, model = run_hdbscan(embeddings, min_cluster_size=10)\n",
    "num_clusters = len(set(cluster_ids))\n",
    "print(\"HDBSCAN executado com sucesso.\")\n",
    "print(f\"Número de clusters encontrados: {num_clusters}\")"
   ]
  },
  {
   "cell_type": "code",
   "execution_count": 20,
   "id": "63628c08",
   "metadata": {},
   "outputs": [
    {
     "name": "stdout",
     "output_type": "stream",
     "text": [
      "Clusters salvos em clusters/Beauty/kmeansk2_clusters.csv\n",
      "Clusters salvos em clusters/Beauty/kmeansk3_clusters.csv\n",
      "Clusters salvos em clusters/Beauty/kmeansk4_clusters.csv\n",
      "Clusters salvos em clusters/Beauty/kmeansk5_clusters.csv\n",
      "Clusters salvos em clusters/Beauty/kmeansk6_clusters.csv\n",
      "Clusters salvos em clusters/Beauty/kmeansk7_clusters.csv\n",
      "Clusters salvos em clusters/Beauty/kmeansk8_clusters.csv\n",
      "Clusters salvos em clusters/Beauty/kmeansk9_clusters.csv\n"
     ]
    }
   ],
   "source": [
    "# kmeans para diferentes k\n",
    "scores = []\n",
    "k_values = [2, 3, 4, 5, 6, 7, 8, 9]\n",
    "inertias= []\n",
    "for k in k_values:\n",
    "    # run KMeans\n",
    "    cluster_ids, kmeans_model = run_kmeans(embeddings, n_clusters=k)\n",
    "\n",
    "    # slvar clusters\n",
    "    output_path = f'clusters/Beauty/kmeansk{k}_clusters.csv'\n",
    "    save_clusters(cluster_ids, output_path)\n",
    "\n",
    "    # #inércia do modelo kmeans\n",
    "    # inertias.append({'k': k, 'inertia': kmeans_model.inertia_})\n",
    "    # print(f'Inertia (k = {k}): {kmeans_model.inertia_:.4f}')\n",
    "    \n",
    "    # # Silhouette\n",
    "    # score = evaluate_silhouette(embeddings, cluster_ids)\n",
    "    # scores.append({'k': k, 'silhouette_score': score})\n",
    "    # print(f'Silhouette score (k = {k}): {score:.4f}')\n",
    "\n",
    "# # Salvar os resultados ddo coeficiente de silhueta em um arquivo CSV\n",
    "# df_scores = pd.DataFrame(scores)\n",
    "# df_scores.to_csv('clusters/Beauty/kmeans_silhouette_scores.csv', index=False)\n",
    "\n",
    "# # Salvar os resultados da inercia em um arquivo CSV\n",
    "# df_inertias = pd.DataFrame(inertias)\n",
    "# df_inertias.to_csv('clusters/Beauty/kmeans_inertia_scores.csv', index=False)"
   ]
  },
  {
   "cell_type": "code",
   "execution_count": 21,
   "id": "9f7147aa",
   "metadata": {},
   "outputs": [
    {
     "ename": "FileNotFoundError",
     "evalue": "[Errno 2] No such file or directory: 'clusters/Beauty/kmeans_silhouette_scores.csv'",
     "output_type": "error",
     "traceback": [
      "\u001b[1;31m---------------------------------------------------------------------------\u001b[0m",
      "\u001b[1;31mFileNotFoundError\u001b[0m                         Traceback (most recent call last)",
      "Cell \u001b[1;32mIn[21], line 3\u001b[0m\n\u001b[0;32m      1\u001b[0m \u001b[38;5;66;03m#plotando grafico silhouette score X k\u001b[39;00m\n\u001b[1;32m----> 3\u001b[0m df_scores \u001b[38;5;241m=\u001b[39m \u001b[43mpd\u001b[49m\u001b[38;5;241;43m.\u001b[39;49m\u001b[43mread_csv\u001b[49m\u001b[43m(\u001b[49m\u001b[38;5;124;43m'\u001b[39;49m\u001b[38;5;124;43mclusters/Beauty/kmeans_silhouette_scores.csv\u001b[39;49m\u001b[38;5;124;43m'\u001b[39;49m\u001b[43m)\u001b[49m\n\u001b[0;32m      5\u001b[0m plt\u001b[38;5;241m.\u001b[39mfigure(figsize\u001b[38;5;241m=\u001b[39m(\u001b[38;5;241m10\u001b[39m, \u001b[38;5;241m5\u001b[39m))\n\u001b[0;32m      6\u001b[0m plt\u001b[38;5;241m.\u001b[39mplot(df_scores[\u001b[38;5;124m'\u001b[39m\u001b[38;5;124mk\u001b[39m\u001b[38;5;124m'\u001b[39m], df_scores[\u001b[38;5;124m'\u001b[39m\u001b[38;5;124msilhouette_score\u001b[39m\u001b[38;5;124m'\u001b[39m], marker\u001b[38;5;241m=\u001b[39m\u001b[38;5;124m'\u001b[39m\u001b[38;5;124mo\u001b[39m\u001b[38;5;124m'\u001b[39m, linestyle\u001b[38;5;241m=\u001b[39m\u001b[38;5;124m'\u001b[39m\u001b[38;5;124m--\u001b[39m\u001b[38;5;124m'\u001b[39m, color\u001b[38;5;241m=\u001b[39m\u001b[38;5;124m'\u001b[39m\u001b[38;5;124mblue\u001b[39m\u001b[38;5;124m'\u001b[39m)\n",
      "File \u001b[1;32m~\\AppData\\Local\\Packages\\PythonSoftwareFoundation.Python.3.12_qbz5n2kfra8p0\\LocalCache\\local-packages\\Python312\\site-packages\\pandas\\io\\parsers\\readers.py:1026\u001b[0m, in \u001b[0;36mread_csv\u001b[1;34m(filepath_or_buffer, sep, delimiter, header, names, index_col, usecols, dtype, engine, converters, true_values, false_values, skipinitialspace, skiprows, skipfooter, nrows, na_values, keep_default_na, na_filter, verbose, skip_blank_lines, parse_dates, infer_datetime_format, keep_date_col, date_parser, date_format, dayfirst, cache_dates, iterator, chunksize, compression, thousands, decimal, lineterminator, quotechar, quoting, doublequote, escapechar, comment, encoding, encoding_errors, dialect, on_bad_lines, delim_whitespace, low_memory, memory_map, float_precision, storage_options, dtype_backend)\u001b[0m\n\u001b[0;32m   1013\u001b[0m kwds_defaults \u001b[38;5;241m=\u001b[39m _refine_defaults_read(\n\u001b[0;32m   1014\u001b[0m     dialect,\n\u001b[0;32m   1015\u001b[0m     delimiter,\n\u001b[1;32m   (...)\u001b[0m\n\u001b[0;32m   1022\u001b[0m     dtype_backend\u001b[38;5;241m=\u001b[39mdtype_backend,\n\u001b[0;32m   1023\u001b[0m )\n\u001b[0;32m   1024\u001b[0m kwds\u001b[38;5;241m.\u001b[39mupdate(kwds_defaults)\n\u001b[1;32m-> 1026\u001b[0m \u001b[38;5;28;01mreturn\u001b[39;00m \u001b[43m_read\u001b[49m\u001b[43m(\u001b[49m\u001b[43mfilepath_or_buffer\u001b[49m\u001b[43m,\u001b[49m\u001b[43m \u001b[49m\u001b[43mkwds\u001b[49m\u001b[43m)\u001b[49m\n",
      "File \u001b[1;32m~\\AppData\\Local\\Packages\\PythonSoftwareFoundation.Python.3.12_qbz5n2kfra8p0\\LocalCache\\local-packages\\Python312\\site-packages\\pandas\\io\\parsers\\readers.py:620\u001b[0m, in \u001b[0;36m_read\u001b[1;34m(filepath_or_buffer, kwds)\u001b[0m\n\u001b[0;32m    617\u001b[0m _validate_names(kwds\u001b[38;5;241m.\u001b[39mget(\u001b[38;5;124m\"\u001b[39m\u001b[38;5;124mnames\u001b[39m\u001b[38;5;124m\"\u001b[39m, \u001b[38;5;28;01mNone\u001b[39;00m))\n\u001b[0;32m    619\u001b[0m \u001b[38;5;66;03m# Create the parser.\u001b[39;00m\n\u001b[1;32m--> 620\u001b[0m parser \u001b[38;5;241m=\u001b[39m \u001b[43mTextFileReader\u001b[49m\u001b[43m(\u001b[49m\u001b[43mfilepath_or_buffer\u001b[49m\u001b[43m,\u001b[49m\u001b[43m \u001b[49m\u001b[38;5;241;43m*\u001b[39;49m\u001b[38;5;241;43m*\u001b[39;49m\u001b[43mkwds\u001b[49m\u001b[43m)\u001b[49m\n\u001b[0;32m    622\u001b[0m \u001b[38;5;28;01mif\u001b[39;00m chunksize \u001b[38;5;129;01mor\u001b[39;00m iterator:\n\u001b[0;32m    623\u001b[0m     \u001b[38;5;28;01mreturn\u001b[39;00m parser\n",
      "File \u001b[1;32m~\\AppData\\Local\\Packages\\PythonSoftwareFoundation.Python.3.12_qbz5n2kfra8p0\\LocalCache\\local-packages\\Python312\\site-packages\\pandas\\io\\parsers\\readers.py:1620\u001b[0m, in \u001b[0;36mTextFileReader.__init__\u001b[1;34m(self, f, engine, **kwds)\u001b[0m\n\u001b[0;32m   1617\u001b[0m     \u001b[38;5;28mself\u001b[39m\u001b[38;5;241m.\u001b[39moptions[\u001b[38;5;124m\"\u001b[39m\u001b[38;5;124mhas_index_names\u001b[39m\u001b[38;5;124m\"\u001b[39m] \u001b[38;5;241m=\u001b[39m kwds[\u001b[38;5;124m\"\u001b[39m\u001b[38;5;124mhas_index_names\u001b[39m\u001b[38;5;124m\"\u001b[39m]\n\u001b[0;32m   1619\u001b[0m \u001b[38;5;28mself\u001b[39m\u001b[38;5;241m.\u001b[39mhandles: IOHandles \u001b[38;5;241m|\u001b[39m \u001b[38;5;28;01mNone\u001b[39;00m \u001b[38;5;241m=\u001b[39m \u001b[38;5;28;01mNone\u001b[39;00m\n\u001b[1;32m-> 1620\u001b[0m \u001b[38;5;28mself\u001b[39m\u001b[38;5;241m.\u001b[39m_engine \u001b[38;5;241m=\u001b[39m \u001b[38;5;28;43mself\u001b[39;49m\u001b[38;5;241;43m.\u001b[39;49m\u001b[43m_make_engine\u001b[49m\u001b[43m(\u001b[49m\u001b[43mf\u001b[49m\u001b[43m,\u001b[49m\u001b[43m \u001b[49m\u001b[38;5;28;43mself\u001b[39;49m\u001b[38;5;241;43m.\u001b[39;49m\u001b[43mengine\u001b[49m\u001b[43m)\u001b[49m\n",
      "File \u001b[1;32m~\\AppData\\Local\\Packages\\PythonSoftwareFoundation.Python.3.12_qbz5n2kfra8p0\\LocalCache\\local-packages\\Python312\\site-packages\\pandas\\io\\parsers\\readers.py:1880\u001b[0m, in \u001b[0;36mTextFileReader._make_engine\u001b[1;34m(self, f, engine)\u001b[0m\n\u001b[0;32m   1878\u001b[0m     \u001b[38;5;28;01mif\u001b[39;00m \u001b[38;5;124m\"\u001b[39m\u001b[38;5;124mb\u001b[39m\u001b[38;5;124m\"\u001b[39m \u001b[38;5;129;01mnot\u001b[39;00m \u001b[38;5;129;01min\u001b[39;00m mode:\n\u001b[0;32m   1879\u001b[0m         mode \u001b[38;5;241m+\u001b[39m\u001b[38;5;241m=\u001b[39m \u001b[38;5;124m\"\u001b[39m\u001b[38;5;124mb\u001b[39m\u001b[38;5;124m\"\u001b[39m\n\u001b[1;32m-> 1880\u001b[0m \u001b[38;5;28mself\u001b[39m\u001b[38;5;241m.\u001b[39mhandles \u001b[38;5;241m=\u001b[39m \u001b[43mget_handle\u001b[49m\u001b[43m(\u001b[49m\n\u001b[0;32m   1881\u001b[0m \u001b[43m    \u001b[49m\u001b[43mf\u001b[49m\u001b[43m,\u001b[49m\n\u001b[0;32m   1882\u001b[0m \u001b[43m    \u001b[49m\u001b[43mmode\u001b[49m\u001b[43m,\u001b[49m\n\u001b[0;32m   1883\u001b[0m \u001b[43m    \u001b[49m\u001b[43mencoding\u001b[49m\u001b[38;5;241;43m=\u001b[39;49m\u001b[38;5;28;43mself\u001b[39;49m\u001b[38;5;241;43m.\u001b[39;49m\u001b[43moptions\u001b[49m\u001b[38;5;241;43m.\u001b[39;49m\u001b[43mget\u001b[49m\u001b[43m(\u001b[49m\u001b[38;5;124;43m\"\u001b[39;49m\u001b[38;5;124;43mencoding\u001b[39;49m\u001b[38;5;124;43m\"\u001b[39;49m\u001b[43m,\u001b[49m\u001b[43m \u001b[49m\u001b[38;5;28;43;01mNone\u001b[39;49;00m\u001b[43m)\u001b[49m\u001b[43m,\u001b[49m\n\u001b[0;32m   1884\u001b[0m \u001b[43m    \u001b[49m\u001b[43mcompression\u001b[49m\u001b[38;5;241;43m=\u001b[39;49m\u001b[38;5;28;43mself\u001b[39;49m\u001b[38;5;241;43m.\u001b[39;49m\u001b[43moptions\u001b[49m\u001b[38;5;241;43m.\u001b[39;49m\u001b[43mget\u001b[49m\u001b[43m(\u001b[49m\u001b[38;5;124;43m\"\u001b[39;49m\u001b[38;5;124;43mcompression\u001b[39;49m\u001b[38;5;124;43m\"\u001b[39;49m\u001b[43m,\u001b[49m\u001b[43m \u001b[49m\u001b[38;5;28;43;01mNone\u001b[39;49;00m\u001b[43m)\u001b[49m\u001b[43m,\u001b[49m\n\u001b[0;32m   1885\u001b[0m \u001b[43m    \u001b[49m\u001b[43mmemory_map\u001b[49m\u001b[38;5;241;43m=\u001b[39;49m\u001b[38;5;28;43mself\u001b[39;49m\u001b[38;5;241;43m.\u001b[39;49m\u001b[43moptions\u001b[49m\u001b[38;5;241;43m.\u001b[39;49m\u001b[43mget\u001b[49m\u001b[43m(\u001b[49m\u001b[38;5;124;43m\"\u001b[39;49m\u001b[38;5;124;43mmemory_map\u001b[39;49m\u001b[38;5;124;43m\"\u001b[39;49m\u001b[43m,\u001b[49m\u001b[43m \u001b[49m\u001b[38;5;28;43;01mFalse\u001b[39;49;00m\u001b[43m)\u001b[49m\u001b[43m,\u001b[49m\n\u001b[0;32m   1886\u001b[0m \u001b[43m    \u001b[49m\u001b[43mis_text\u001b[49m\u001b[38;5;241;43m=\u001b[39;49m\u001b[43mis_text\u001b[49m\u001b[43m,\u001b[49m\n\u001b[0;32m   1887\u001b[0m \u001b[43m    \u001b[49m\u001b[43merrors\u001b[49m\u001b[38;5;241;43m=\u001b[39;49m\u001b[38;5;28;43mself\u001b[39;49m\u001b[38;5;241;43m.\u001b[39;49m\u001b[43moptions\u001b[49m\u001b[38;5;241;43m.\u001b[39;49m\u001b[43mget\u001b[49m\u001b[43m(\u001b[49m\u001b[38;5;124;43m\"\u001b[39;49m\u001b[38;5;124;43mencoding_errors\u001b[39;49m\u001b[38;5;124;43m\"\u001b[39;49m\u001b[43m,\u001b[49m\u001b[43m \u001b[49m\u001b[38;5;124;43m\"\u001b[39;49m\u001b[38;5;124;43mstrict\u001b[39;49m\u001b[38;5;124;43m\"\u001b[39;49m\u001b[43m)\u001b[49m\u001b[43m,\u001b[49m\n\u001b[0;32m   1888\u001b[0m \u001b[43m    \u001b[49m\u001b[43mstorage_options\u001b[49m\u001b[38;5;241;43m=\u001b[39;49m\u001b[38;5;28;43mself\u001b[39;49m\u001b[38;5;241;43m.\u001b[39;49m\u001b[43moptions\u001b[49m\u001b[38;5;241;43m.\u001b[39;49m\u001b[43mget\u001b[49m\u001b[43m(\u001b[49m\u001b[38;5;124;43m\"\u001b[39;49m\u001b[38;5;124;43mstorage_options\u001b[39;49m\u001b[38;5;124;43m\"\u001b[39;49m\u001b[43m,\u001b[49m\u001b[43m \u001b[49m\u001b[38;5;28;43;01mNone\u001b[39;49;00m\u001b[43m)\u001b[49m\u001b[43m,\u001b[49m\n\u001b[0;32m   1889\u001b[0m \u001b[43m\u001b[49m\u001b[43m)\u001b[49m\n\u001b[0;32m   1890\u001b[0m \u001b[38;5;28;01massert\u001b[39;00m \u001b[38;5;28mself\u001b[39m\u001b[38;5;241m.\u001b[39mhandles \u001b[38;5;129;01mis\u001b[39;00m \u001b[38;5;129;01mnot\u001b[39;00m \u001b[38;5;28;01mNone\u001b[39;00m\n\u001b[0;32m   1891\u001b[0m f \u001b[38;5;241m=\u001b[39m \u001b[38;5;28mself\u001b[39m\u001b[38;5;241m.\u001b[39mhandles\u001b[38;5;241m.\u001b[39mhandle\n",
      "File \u001b[1;32m~\\AppData\\Local\\Packages\\PythonSoftwareFoundation.Python.3.12_qbz5n2kfra8p0\\LocalCache\\local-packages\\Python312\\site-packages\\pandas\\io\\common.py:873\u001b[0m, in \u001b[0;36mget_handle\u001b[1;34m(path_or_buf, mode, encoding, compression, memory_map, is_text, errors, storage_options)\u001b[0m\n\u001b[0;32m    868\u001b[0m \u001b[38;5;28;01melif\u001b[39;00m \u001b[38;5;28misinstance\u001b[39m(handle, \u001b[38;5;28mstr\u001b[39m):\n\u001b[0;32m    869\u001b[0m     \u001b[38;5;66;03m# Check whether the filename is to be opened in binary mode.\u001b[39;00m\n\u001b[0;32m    870\u001b[0m     \u001b[38;5;66;03m# Binary mode does not support 'encoding' and 'newline'.\u001b[39;00m\n\u001b[0;32m    871\u001b[0m     \u001b[38;5;28;01mif\u001b[39;00m ioargs\u001b[38;5;241m.\u001b[39mencoding \u001b[38;5;129;01mand\u001b[39;00m \u001b[38;5;124m\"\u001b[39m\u001b[38;5;124mb\u001b[39m\u001b[38;5;124m\"\u001b[39m \u001b[38;5;129;01mnot\u001b[39;00m \u001b[38;5;129;01min\u001b[39;00m ioargs\u001b[38;5;241m.\u001b[39mmode:\n\u001b[0;32m    872\u001b[0m         \u001b[38;5;66;03m# Encoding\u001b[39;00m\n\u001b[1;32m--> 873\u001b[0m         handle \u001b[38;5;241m=\u001b[39m \u001b[38;5;28;43mopen\u001b[39;49m\u001b[43m(\u001b[49m\n\u001b[0;32m    874\u001b[0m \u001b[43m            \u001b[49m\u001b[43mhandle\u001b[49m\u001b[43m,\u001b[49m\n\u001b[0;32m    875\u001b[0m \u001b[43m            \u001b[49m\u001b[43mioargs\u001b[49m\u001b[38;5;241;43m.\u001b[39;49m\u001b[43mmode\u001b[49m\u001b[43m,\u001b[49m\n\u001b[0;32m    876\u001b[0m \u001b[43m            \u001b[49m\u001b[43mencoding\u001b[49m\u001b[38;5;241;43m=\u001b[39;49m\u001b[43mioargs\u001b[49m\u001b[38;5;241;43m.\u001b[39;49m\u001b[43mencoding\u001b[49m\u001b[43m,\u001b[49m\n\u001b[0;32m    877\u001b[0m \u001b[43m            \u001b[49m\u001b[43merrors\u001b[49m\u001b[38;5;241;43m=\u001b[39;49m\u001b[43merrors\u001b[49m\u001b[43m,\u001b[49m\n\u001b[0;32m    878\u001b[0m \u001b[43m            \u001b[49m\u001b[43mnewline\u001b[49m\u001b[38;5;241;43m=\u001b[39;49m\u001b[38;5;124;43m\"\u001b[39;49m\u001b[38;5;124;43m\"\u001b[39;49m\u001b[43m,\u001b[49m\n\u001b[0;32m    879\u001b[0m \u001b[43m        \u001b[49m\u001b[43m)\u001b[49m\n\u001b[0;32m    880\u001b[0m     \u001b[38;5;28;01melse\u001b[39;00m:\n\u001b[0;32m    881\u001b[0m         \u001b[38;5;66;03m# Binary mode\u001b[39;00m\n\u001b[0;32m    882\u001b[0m         handle \u001b[38;5;241m=\u001b[39m \u001b[38;5;28mopen\u001b[39m(handle, ioargs\u001b[38;5;241m.\u001b[39mmode)\n",
      "\u001b[1;31mFileNotFoundError\u001b[0m: [Errno 2] No such file or directory: 'clusters/Beauty/kmeans_silhouette_scores.csv'"
     ]
    }
   ],
   "source": [
    "#plotando grafico silhouette score X k\n",
    "\n",
    "df_scores = pd.read_csv('clusters/Beauty/kmeans_silhouette_scores.csv')\n",
    "\n",
    "plt.figure(figsize=(10, 5))\n",
    "plt.plot(df_scores['k'], df_scores['silhouette_score'], marker='o', linestyle='--', color='blue')\n",
    "plt.title('Silhouette Score vs Número de Clusters (k)')\n",
    "plt.xlabel('Número de Clusters (k)')\n",
    "plt.ylabel('Silhouette Score')\n",
    "plt.grid(True)\n",
    "plt.show()"
   ]
  },
  {
   "cell_type": "code",
   "execution_count": null,
   "id": "8b8dc737",
   "metadata": {},
   "outputs": [
    {
     "data": {
      "image/png": "[encoded data removed]",
      "text/plain": [
       "<Figure size 1000x500 with 1 Axes>"
      ]
     },
     "metadata": {},
     "output_type": "display_data"
    }
   ],
   "source": [
    "# método de cotovelo (grafico inertia X k)\n",
    "df_scores = pd.read_csv('clusters/Beauty/kmeans_inertia_scores.csv')\n",
    "\n",
    "plt.figure(figsize=(10, 5))\n",
    "plt.plot(df_inertias['k'], df_inertias['inertia'], marker='o', linestyle='--', color='green')\n",
    "plt.title('Método do Cotovelo (Inércia vs Número de Clusters)')\n",
    "plt.xlabel('Número de Clusters (k)')\n",
    "plt.ylabel('Inertia')\n",
    "plt.grid(True)\n",
    "plt.show()"
   ]
  }
 ],
 "metadata": {
  "kernelspec": {
   "display_name": "Python 3",
   "language": "python",
   "name": "python3"
  },
  "language_info": {
   "codemirror_mode": {
    "name": "ipython",
    "version": 3
   },
   "file_extension": ".py",
   "mimetype": "text/x-python",
   "name": "python",
   "nbconvert_exporter": "python",
   "pygments_lexer": "ipython3",
   "version": "3.12.10"
  }
 },
 "nbformat": 4,
 "nbformat_minor": 5
}
