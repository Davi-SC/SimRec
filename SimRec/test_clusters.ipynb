{
 "cells": [
  {
   "cell_type": "markdown",
   "id": "5ebfce51",
   "metadata": {},
   "source": [
    "# Arquivo para teste de clusters"
   ]
  },
  {
   "cell_type": "code",
   "execution_count": 20,
   "id": "625b7bfc",
   "metadata": {},
   "outputs": [],
   "source": [
    "#imports\n",
    "import sys\n",
    "import os\n",
    "import pandas as pd\n",
    "import matplotlib.pyplot as plt\n",
    "import numpy as np\n",
    "sys.path.append('./clusters')\n",
    "\n",
    "from clusters.clusters import *\n",
    "from clusters.utils_clusters import *"
   ]
  },
  {
   "cell_type": "markdown",
   "id": "dce97c4a",
   "metadata": {},
   "source": [
    "# Testando os algoritmos de clustering sem redução de dimensionalidade"
   ]
  },
  {
   "cell_type": "code",
   "execution_count": null,
   "id": "883df020",
   "metadata": {},
   "outputs": [
    {
     "name": "stdout",
     "output_type": "stream",
     "text": [
      "Embeddings originais shape: torch.Size([3416, 1000])\n"
     ]
    }
   ],
   "source": [
    "# parametros de teste\n",
    "# dataset = 'Beauty'\n",
    "# dataset = 'ML-1M'\n",
    "# dataset = 'Steam'\n",
    "# dataset = 'HomeKitchen'\n",
    "# dataset = 'PetSupplies'\n",
    "dataset = 'Tools'\n",
    "\n",
    "\n",
    "embedding_path = f'../data_preprocessing/{dataset}/{dataset}-similarity-values-thenlper_gte-large.pt'\n",
    "# embedding_path = f'../data_preprocessing/{dataset}/Pet-similarity-values-thenlper_gte-large.pt'\n",
    "output_path = f'clusters/{dataset}/embeddings_completos_metricastrocadas'\n",
    "\n",
    "os.makedirs(output_path, exist_ok=True)\n",
    "\n",
    "embeddings = load_embeddings(embedding_path) \n",
    "print(f\"Embeddings originais shape: {embeddings.shape}\")"
   ]
  },
  {
   "cell_type": "code",
   "execution_count": 3,
   "id": "bba93803",
   "metadata": {},
   "outputs": [
    {
     "name": "stdout",
     "output_type": "stream",
     "text": [
      "Executando run_fasterpam\n",
      " - k = 2\n",
      "Clusters salvos em clusters/ML-1M/embeddings_completos_metricastrocadas\\run_fasterpam\\ML-1M_cluster_run_fasterpam_k2.csv\n",
      " - k = 6\n",
      "Clusters salvos em clusters/ML-1M/embeddings_completos_metricastrocadas\\run_fasterpam\\ML-1M_cluster_run_fasterpam_k6.csv\n",
      " - k = 10\n",
      "Clusters salvos em clusters/ML-1M/embeddings_completos_metricastrocadas\\run_fasterpam\\ML-1M_cluster_run_fasterpam_k10.csv\n",
      " - k = 20\n",
      "Clusters salvos em clusters/ML-1M/embeddings_completos_metricastrocadas\\run_fasterpam\\ML-1M_cluster_run_fasterpam_k20.csv\n",
      " - k = 30\n",
      "Clusters salvos em clusters/ML-1M/embeddings_completos_metricastrocadas\\run_fasterpam\\ML-1M_cluster_run_fasterpam_k30.csv\n",
      " - k = 50\n",
      "Clusters salvos em clusters/ML-1M/embeddings_completos_metricastrocadas\\run_fasterpam\\ML-1M_cluster_run_fasterpam_k50.csv\n",
      " - k = 70\n",
      "Clusters salvos em clusters/ML-1M/embeddings_completos_metricastrocadas\\run_fasterpam\\ML-1M_cluster_run_fasterpam_k70.csv\n",
      " - k = 100\n",
      "Clusters salvos em clusters/ML-1M/embeddings_completos_metricastrocadas\\run_fasterpam\\ML-1M_cluster_run_fasterpam_k100.csv\n",
      " - k = 150\n",
      "Clusters salvos em clusters/ML-1M/embeddings_completos_metricastrocadas\\run_fasterpam\\ML-1M_cluster_run_fasterpam_k150.csv\n",
      " - k = 200\n",
      "Clusters salvos em clusters/ML-1M/embeddings_completos_metricastrocadas\\run_fasterpam\\ML-1M_cluster_run_fasterpam_k200.csv\n",
      " - k = 300\n",
      "Clusters salvos em clusters/ML-1M/embeddings_completos_metricastrocadas\\run_fasterpam\\ML-1M_cluster_run_fasterpam_k300.csv\n",
      " - k = 400\n",
      "Clusters salvos em clusters/ML-1M/embeddings_completos_metricastrocadas\\run_fasterpam\\ML-1M_cluster_run_fasterpam_k400.csv\n",
      " - k = 500\n",
      "Clusters salvos em clusters/ML-1M/embeddings_completos_metricastrocadas\\run_fasterpam\\ML-1M_cluster_run_fasterpam_k500.csv\n",
      " - k = 750\n",
      "Clusters salvos em clusters/ML-1M/embeddings_completos_metricastrocadas\\run_fasterpam\\ML-1M_cluster_run_fasterpam_k750.csv\n",
      " - k = 1000\n",
      "Clusters salvos em clusters/ML-1M/embeddings_completos_metricastrocadas\\run_fasterpam\\ML-1M_cluster_run_fasterpam_k1000.csv\n",
      "Executando run_fastermsc\n",
      " - k = 2\n",
      "Clusters salvos em clusters/ML-1M/embeddings_completos_metricastrocadas\\run_fastermsc\\ML-1M_cluster_run_fastermsc_k2.csv\n",
      " - k = 6\n",
      "Clusters salvos em clusters/ML-1M/embeddings_completos_metricastrocadas\\run_fastermsc\\ML-1M_cluster_run_fastermsc_k6.csv\n",
      " - k = 10\n",
      "Clusters salvos em clusters/ML-1M/embeddings_completos_metricastrocadas\\run_fastermsc\\ML-1M_cluster_run_fastermsc_k10.csv\n",
      " - k = 20\n",
      "Clusters salvos em clusters/ML-1M/embeddings_completos_metricastrocadas\\run_fastermsc\\ML-1M_cluster_run_fastermsc_k20.csv\n",
      " - k = 30\n",
      "Clusters salvos em clusters/ML-1M/embeddings_completos_metricastrocadas\\run_fastermsc\\ML-1M_cluster_run_fastermsc_k30.csv\n",
      " - k = 50\n",
      "Clusters salvos em clusters/ML-1M/embeddings_completos_metricastrocadas\\run_fastermsc\\ML-1M_cluster_run_fastermsc_k50.csv\n",
      " - k = 70\n",
      "Clusters salvos em clusters/ML-1M/embeddings_completos_metricastrocadas\\run_fastermsc\\ML-1M_cluster_run_fastermsc_k70.csv\n",
      " - k = 100\n",
      "Clusters salvos em clusters/ML-1M/embeddings_completos_metricastrocadas\\run_fastermsc\\ML-1M_cluster_run_fastermsc_k100.csv\n",
      " - k = 150\n",
      "Clusters salvos em clusters/ML-1M/embeddings_completos_metricastrocadas\\run_fastermsc\\ML-1M_cluster_run_fastermsc_k150.csv\n",
      " - k = 200\n",
      "Clusters salvos em clusters/ML-1M/embeddings_completos_metricastrocadas\\run_fastermsc\\ML-1M_cluster_run_fastermsc_k200.csv\n",
      " - k = 300\n",
      "Clusters salvos em clusters/ML-1M/embeddings_completos_metricastrocadas\\run_fastermsc\\ML-1M_cluster_run_fastermsc_k300.csv\n",
      " - k = 400\n",
      "Clusters salvos em clusters/ML-1M/embeddings_completos_metricastrocadas\\run_fastermsc\\ML-1M_cluster_run_fastermsc_k400.csv\n",
      " - k = 500\n",
      "Clusters salvos em clusters/ML-1M/embeddings_completos_metricastrocadas\\run_fastermsc\\ML-1M_cluster_run_fastermsc_k500.csv\n",
      " - k = 750\n",
      "Clusters salvos em clusters/ML-1M/embeddings_completos_metricastrocadas\\run_fastermsc\\ML-1M_cluster_run_fastermsc_k750.csv\n",
      " - k = 1000\n",
      "Clusters salvos em clusters/ML-1M/embeddings_completos_metricastrocadas\\run_fastermsc\\ML-1M_cluster_run_fastermsc_k1000.csv\n",
      "Executando run_dynmsc\n",
      " - k = 2\n",
      "Clusters salvos em clusters/ML-1M/embeddings_completos_metricastrocadas\\run_dynmsc\\ML-1M_cluster_run_dynmsc_k2.csv\n",
      " - k = 6\n",
      "Clusters salvos em clusters/ML-1M/embeddings_completos_metricastrocadas\\run_dynmsc\\ML-1M_cluster_run_dynmsc_k6.csv\n",
      " - k = 10\n",
      "Clusters salvos em clusters/ML-1M/embeddings_completos_metricastrocadas\\run_dynmsc\\ML-1M_cluster_run_dynmsc_k10.csv\n",
      " - k = 20\n",
      "Clusters salvos em clusters/ML-1M/embeddings_completos_metricastrocadas\\run_dynmsc\\ML-1M_cluster_run_dynmsc_k20.csv\n",
      " - k = 30\n",
      "Clusters salvos em clusters/ML-1M/embeddings_completos_metricastrocadas\\run_dynmsc\\ML-1M_cluster_run_dynmsc_k30.csv\n",
      " - k = 50\n",
      "Clusters salvos em clusters/ML-1M/embeddings_completos_metricastrocadas\\run_dynmsc\\ML-1M_cluster_run_dynmsc_k50.csv\n",
      " - k = 70\n",
      "Clusters salvos em clusters/ML-1M/embeddings_completos_metricastrocadas\\run_dynmsc\\ML-1M_cluster_run_dynmsc_k70.csv\n",
      " - k = 100\n",
      "Clusters salvos em clusters/ML-1M/embeddings_completos_metricastrocadas\\run_dynmsc\\ML-1M_cluster_run_dynmsc_k100.csv\n",
      " - k = 150\n",
      "Clusters salvos em clusters/ML-1M/embeddings_completos_metricastrocadas\\run_dynmsc\\ML-1M_cluster_run_dynmsc_k150.csv\n",
      " - k = 200\n",
      "Clusters salvos em clusters/ML-1M/embeddings_completos_metricastrocadas\\run_dynmsc\\ML-1M_cluster_run_dynmsc_k200.csv\n",
      " - k = 300\n",
      "Clusters salvos em clusters/ML-1M/embeddings_completos_metricastrocadas\\run_dynmsc\\ML-1M_cluster_run_dynmsc_k300.csv\n",
      " - k = 400\n",
      "Clusters salvos em clusters/ML-1M/embeddings_completos_metricastrocadas\\run_dynmsc\\ML-1M_cluster_run_dynmsc_k400.csv\n",
      " - k = 500\n",
      "Clusters salvos em clusters/ML-1M/embeddings_completos_metricastrocadas\\run_dynmsc\\ML-1M_cluster_run_dynmsc_k500.csv\n",
      " - k = 750\n",
      "Clusters salvos em clusters/ML-1M/embeddings_completos_metricastrocadas\\run_dynmsc\\ML-1M_cluster_run_dynmsc_k750.csv\n",
      " - k = 1000\n",
      "Clusters salvos em clusters/ML-1M/embeddings_completos_metricastrocadas\\run_dynmsc\\ML-1M_cluster_run_dynmsc_k1000.csv\n",
      "Clusterização concluída e resultados salvos\n"
     ]
    }
   ],
   "source": [
    "#teste dos clusters com algoritmos que usam k\n",
    "\n",
    "# methods = [run_kmeans, run_agnes, run_fasterpam, run_fastermsc, run_dynmsc]\n",
    "methods = [run_fasterpam, run_fastermsc, run_dynmsc]\n",
    "# k_values = [6, 20, 50, 100, 200, 400, 750, 1000]\n",
    "k_values = [2,6,10,20,30,50,70,100,150,200,300,400,500,750,1000]\n",
    "\n",
    "\n",
    "run_methods_with_k(\n",
    "    embeddings=embeddings, \n",
    "    methods = methods, \n",
    "    k_values = k_values, \n",
    "    output_path = output_path, \n",
    "    dataset_name=dataset\n",
    ")"
   ]
  },
  {
   "cell_type": "code",
   "execution_count": null,
   "id": "2d9602d2",
   "metadata": {},
   "outputs": [],
   "source": [
    "# teste spectral clustering\n",
    "k_values = [10, 50, 100, 300,500]\n",
    "n_values = [20, 50, 75, 100, 150]                              \n",
    "\n",
    "run_spectral_combinations(\n",
    "    embeddings=embeddings,\n",
    "    k_values=k_values,\n",
    "    neighbor_values=n_values,\n",
    "    output_path=output_path,\n",
    "    dataset_name=dataset\n",
    ")\n"
   ]
  },
  {
   "cell_type": "code",
   "execution_count": 4,
   "id": "1c402f6e",
   "metadata": {},
   "outputs": [
    {
     "name": "stdout",
     "output_type": "stream",
     "text": [
      "Executando run_dbscan...\n",
      "DBSCAN - eps = 0.05, min_samples = 10\n",
      "DBSCAN (eps=0.05, min_samples=10) gerou 1 cluster ou só ruído, ignorado.\n",
      "DBSCAN - eps = 0.05, min_samples = 20\n",
      "DBSCAN (eps=0.05, min_samples=20) gerou 1 cluster ou só ruído, ignorado.\n",
      "DBSCAN - eps = 0.05, min_samples = 30\n",
      "DBSCAN (eps=0.05, min_samples=30) gerou 1 cluster ou só ruído, ignorado.\n",
      "DBSCAN - eps = 0.05, min_samples = 50\n",
      "DBSCAN (eps=0.05, min_samples=50) gerou 1 cluster ou só ruído, ignorado.\n",
      "DBSCAN - eps = 0.05, min_samples = 100\n",
      "DBSCAN (eps=0.05, min_samples=100) gerou 1 cluster ou só ruído, ignorado.\n",
      "DBSCAN - eps = 0.05, min_samples = 200\n",
      "DBSCAN (eps=0.05, min_samples=200) gerou 1 cluster ou só ruído, ignorado.\n",
      "DBSCAN - eps = 0.1, min_samples = 10\n",
      "DBSCAN (eps=0.1, min_samples=10) gerou 1 cluster ou só ruído, ignorado.\n",
      "DBSCAN - eps = 0.1, min_samples = 20\n",
      "DBSCAN (eps=0.1, min_samples=20) gerou 1 cluster ou só ruído, ignorado.\n",
      "DBSCAN - eps = 0.1, min_samples = 30\n",
      "DBSCAN (eps=0.1, min_samples=30) gerou 1 cluster ou só ruído, ignorado.\n",
      "DBSCAN - eps = 0.1, min_samples = 50\n",
      "DBSCAN (eps=0.1, min_samples=50) gerou 1 cluster ou só ruído, ignorado.\n",
      "DBSCAN - eps = 0.1, min_samples = 100\n",
      "DBSCAN (eps=0.1, min_samples=100) gerou 1 cluster ou só ruído, ignorado.\n",
      "DBSCAN - eps = 0.1, min_samples = 200\n",
      "DBSCAN (eps=0.1, min_samples=200) gerou 1 cluster ou só ruído, ignorado.\n",
      "DBSCAN - eps = 0.2, min_samples = 10\n",
      "DBSCAN (eps=0.2, min_samples=10) gerou 1 cluster ou só ruído, ignorado.\n",
      "DBSCAN - eps = 0.2, min_samples = 20\n",
      "DBSCAN (eps=0.2, min_samples=20) gerou 1 cluster ou só ruído, ignorado.\n",
      "DBSCAN - eps = 0.2, min_samples = 30\n",
      "DBSCAN (eps=0.2, min_samples=30) gerou 1 cluster ou só ruído, ignorado.\n",
      "DBSCAN - eps = 0.2, min_samples = 50\n",
      "DBSCAN (eps=0.2, min_samples=50) gerou 1 cluster ou só ruído, ignorado.\n",
      "DBSCAN - eps = 0.2, min_samples = 100\n",
      "DBSCAN (eps=0.2, min_samples=100) gerou 1 cluster ou só ruído, ignorado.\n",
      "DBSCAN - eps = 0.2, min_samples = 200\n",
      "DBSCAN (eps=0.2, min_samples=200) gerou 1 cluster ou só ruído, ignorado.\n",
      "DBSCAN - eps = 0.5, min_samples = 10\n",
      "DBSCAN (eps=0.5, min_samples=10) gerou 1 cluster ou só ruído, ignorado.\n",
      "DBSCAN - eps = 0.5, min_samples = 20\n",
      "DBSCAN (eps=0.5, min_samples=20) gerou 1 cluster ou só ruído, ignorado.\n",
      "DBSCAN - eps = 0.5, min_samples = 30\n",
      "DBSCAN (eps=0.5, min_samples=30) gerou 1 cluster ou só ruído, ignorado.\n",
      "DBSCAN - eps = 0.5, min_samples = 50\n",
      "DBSCAN (eps=0.5, min_samples=50) gerou 1 cluster ou só ruído, ignorado.\n",
      "DBSCAN - eps = 0.5, min_samples = 100\n",
      "DBSCAN (eps=0.5, min_samples=100) gerou 1 cluster ou só ruído, ignorado.\n",
      "DBSCAN - eps = 0.5, min_samples = 200\n",
      "DBSCAN (eps=0.5, min_samples=200) gerou 1 cluster ou só ruído, ignorado.\n",
      "DBSCAN - eps = 1.0, min_samples = 10\n",
      "DBSCAN (eps=1.0, min_samples=10) gerou 1 cluster ou só ruído, ignorado.\n",
      "DBSCAN - eps = 1.0, min_samples = 20\n",
      "DBSCAN (eps=1.0, min_samples=20) gerou 1 cluster ou só ruído, ignorado.\n",
      "DBSCAN - eps = 1.0, min_samples = 30\n",
      "DBSCAN (eps=1.0, min_samples=30) gerou 1 cluster ou só ruído, ignorado.\n",
      "DBSCAN - eps = 1.0, min_samples = 50\n",
      "DBSCAN (eps=1.0, min_samples=50) gerou 1 cluster ou só ruído, ignorado.\n",
      "DBSCAN - eps = 1.0, min_samples = 100\n",
      "DBSCAN (eps=1.0, min_samples=100) gerou 1 cluster ou só ruído, ignorado.\n",
      "DBSCAN - eps = 1.0, min_samples = 200\n",
      "DBSCAN (eps=1.0, min_samples=200) gerou 1 cluster ou só ruído, ignorado.\n",
      "Clusterização concluída e resultados salvos\n"
     ]
    }
   ],
   "source": [
    "#teste dbscan\n",
    "eps_values = [0.05, 0.1, 0.2, 0.5, 1.0]          \n",
    "min_samples_values = [10, 20, 30, 50, 100, 200]\n",
    "\n",
    "run_dbscan_combinations(\n",
    "    embeddings=embeddings,\n",
    "    eps_values=eps_values,\n",
    "    min_samples_values=min_samples_values,\n",
    "    output_path=output_path,\n",
    "    dataset_name=dataset\n",
    ")"
   ]
  },
  {
   "cell_type": "code",
   "execution_count": 5,
   "id": "01dcb5b2",
   "metadata": {},
   "outputs": [
    {
     "name": "stdout",
     "output_type": "stream",
     "text": [
      "Executando run_hdbscan...\n",
      "HDBSCAN - min_cluster_size = 30, min_samples = 20\n",
      "Erro no HDBSCAN (min_cluster_size=30 e min_samples =20): Unrecognized metric 'cosine'\n",
      "HDBSCAN - min_cluster_size = 30, min_samples = 100\n",
      "Erro no HDBSCAN (min_cluster_size=30 e min_samples =100): Unrecognized metric 'cosine'\n",
      "HDBSCAN - min_cluster_size = 200, min_samples = 20\n",
      "Erro no HDBSCAN (min_cluster_size=200 e min_samples =20): Unrecognized metric 'cosine'\n",
      "HDBSCAN - min_cluster_size = 200, min_samples = 100\n",
      "Erro no HDBSCAN (min_cluster_size=200 e min_samples =100): Unrecognized metric 'cosine'\n",
      "Clusterização concluída e resultados salvos\n"
     ]
    },
    {
     "name": "stderr",
     "output_type": "stream",
     "text": [
      "C:\\Users\\cruzd\\AppData\\Local\\Packages\\PythonSoftwareFoundation.Python.3.12_qbz5n2kfra8p0\\LocalCache\\local-packages\\Python312\\site-packages\\sklearn\\utils\\deprecation.py:151: FutureWarning: 'force_all_finite' was renamed to 'ensure_all_finite' in 1.6 and will be removed in 1.8.\n",
      "  warnings.warn(\n",
      "C:\\Users\\cruzd\\AppData\\Local\\Packages\\PythonSoftwareFoundation.Python.3.12_qbz5n2kfra8p0\\LocalCache\\local-packages\\Python312\\site-packages\\sklearn\\utils\\deprecation.py:151: FutureWarning: 'force_all_finite' was renamed to 'ensure_all_finite' in 1.6 and will be removed in 1.8.\n",
      "  warnings.warn(\n",
      "C:\\Users\\cruzd\\AppData\\Local\\Packages\\PythonSoftwareFoundation.Python.3.12_qbz5n2kfra8p0\\LocalCache\\local-packages\\Python312\\site-packages\\sklearn\\utils\\deprecation.py:151: FutureWarning: 'force_all_finite' was renamed to 'ensure_all_finite' in 1.6 and will be removed in 1.8.\n",
      "  warnings.warn(\n",
      "C:\\Users\\cruzd\\AppData\\Local\\Packages\\PythonSoftwareFoundation.Python.3.12_qbz5n2kfra8p0\\LocalCache\\local-packages\\Python312\\site-packages\\sklearn\\utils\\deprecation.py:151: FutureWarning: 'force_all_finite' was renamed to 'ensure_all_finite' in 1.6 and will be removed in 1.8.\n",
      "  warnings.warn(\n",
      "C:\\Users\\cruzd\\AppData\\Local\\Packages\\PythonSoftwareFoundation.Python.3.12_qbz5n2kfra8p0\\LocalCache\\local-packages\\Python312\\site-packages\\sklearn\\utils\\deprecation.py:151: FutureWarning: 'force_all_finite' was renamed to 'ensure_all_finite' in 1.6 and will be removed in 1.8.\n",
      "  warnings.warn(\n",
      "C:\\Users\\cruzd\\AppData\\Local\\Packages\\PythonSoftwareFoundation.Python.3.12_qbz5n2kfra8p0\\LocalCache\\local-packages\\Python312\\site-packages\\sklearn\\utils\\deprecation.py:151: FutureWarning: 'force_all_finite' was renamed to 'ensure_all_finite' in 1.6 and will be removed in 1.8.\n",
      "  warnings.warn(\n",
      "C:\\Users\\cruzd\\AppData\\Local\\Packages\\PythonSoftwareFoundation.Python.3.12_qbz5n2kfra8p0\\LocalCache\\local-packages\\Python312\\site-packages\\sklearn\\utils\\deprecation.py:151: FutureWarning: 'force_all_finite' was renamed to 'ensure_all_finite' in 1.6 and will be removed in 1.8.\n",
      "  warnings.warn(\n",
      "C:\\Users\\cruzd\\AppData\\Local\\Packages\\PythonSoftwareFoundation.Python.3.12_qbz5n2kfra8p0\\LocalCache\\local-packages\\Python312\\site-packages\\sklearn\\utils\\deprecation.py:151: FutureWarning: 'force_all_finite' was renamed to 'ensure_all_finite' in 1.6 and will be removed in 1.8.\n",
      "  warnings.warn(\n"
     ]
    }
   ],
   "source": [
    "#teste hdbscan\n",
    "# min_clusters_sizes = [20, 30, 100, 200]\n",
    "# min_samples_values = [10, 20, 30, 50, 100] \n",
    "min_clusters_sizes = [30, 200] \n",
    "min_samples_values = [20, 100] \n",
    "run_hdbscan_combinations(\n",
    "    embeddings=embeddings,\n",
    "    min_cluster_sizes=min_clusters_sizes,\n",
    "    min_samples = min_samples_values,\n",
    "    output_path=output_path,\n",
    "    dataset_name=dataset\n",
    ")"
   ]
  },
  {
   "cell_type": "markdown",
   "id": "c4c0ea66",
   "metadata": {},
   "source": [
    "# Testando com redução de dimensionalidade"
   ]
  },
  {
   "cell_type": "code",
   "execution_count": 17,
   "id": "c0863139",
   "metadata": {},
   "outputs": [
    {
     "name": "stdout",
     "output_type": "stream",
     "text": [
      "Embeddings originais shape: torch.Size([57226, 1000])\n"
     ]
    }
   ],
   "source": [
    "# parametros de teste\n",
    "dataset = 'Beauty'\n",
    "# dataset = 'ML-1M'\n",
    "# dataset = 'Steam'\n",
    "# dataset = 'PetSupplies'\n",
    "# dataset = 'Tools'\n",
    "\n",
    "\n",
    "embedding_path = f'../data_preprocessing/{dataset}/{dataset}-similarity-values-thenlper_gte-large.pt'\n",
    "# embedding_path = f'../data_preprocessing/{dataset}/Pet-similarity-values-thenlper_gte-large.pt'\n",
    "embeddings = load_embeddings(embedding_path)\n",
    "print(f\"Embeddings originais shape: {embeddings.shape}\")\n",
    "\n",
    "# methods_reducing = ['pca','umap']\n",
    "methods_reducing = ['umap']\n",
    "# n_components = [8,32,64,128,256,512]\n",
    "n_components = [16,4]\n"
   ]
  },
  {
   "cell_type": "code",
   "execution_count": 18,
   "id": "c8ac93d4",
   "metadata": {},
   "outputs": [
    {
     "name": "stdout",
     "output_type": "stream",
     "text": [
      "\n",
      " Embeddings reduzidos com umap e n_components 16\n",
      "Aplicando UMAP com n_components = 16...\n"
     ]
    },
    {
     "name": "stderr",
     "output_type": "stream",
     "text": [
      "C:\\Users\\cruzd\\AppData\\Local\\Packages\\PythonSoftwareFoundation.Python.3.12_qbz5n2kfra8p0\\LocalCache\\local-packages\\Python312\\site-packages\\sklearn\\utils\\deprecation.py:151: FutureWarning: 'force_all_finite' was renamed to 'ensure_all_finite' in 1.6 and will be removed in 1.8.\n",
      "  warnings.warn(\n",
      "C:\\Users\\cruzd\\AppData\\Local\\Packages\\PythonSoftwareFoundation.Python.3.12_qbz5n2kfra8p0\\LocalCache\\local-packages\\Python312\\site-packages\\umap\\umap_.py:1952: UserWarning: n_jobs value 1 overridden to 1 by setting random_state. Use no seed for parallelism.\n",
      "  warn(\n"
     ]
    },
    {
     "name": "stdout",
     "output_type": "stream",
     "text": [
      "Dimensionalidade reduzida de 1000 para 16\n",
      "Metodos com numero de clusters (k) como parametro ...\n",
      "Executando run_kmeans\n",
      " - k = 2\n",
      "Clusters salvos em clusters/Beauty/umap/n_components16\\run_kmeans\\Beauty_cluster_run_kmeans_k2.csv\n",
      " - k = 5\n",
      "Clusters salvos em clusters/Beauty/umap/n_components16\\run_kmeans\\Beauty_cluster_run_kmeans_k5.csv\n",
      " - k = 10\n",
      "Clusters salvos em clusters/Beauty/umap/n_components16\\run_kmeans\\Beauty_cluster_run_kmeans_k10.csv\n",
      " - k = 30\n",
      "Clusters salvos em clusters/Beauty/umap/n_components16\\run_kmeans\\Beauty_cluster_run_kmeans_k30.csv\n",
      " - k = 50\n",
      "Clusters salvos em clusters/Beauty/umap/n_components16\\run_kmeans\\Beauty_cluster_run_kmeans_k50.csv\n",
      " - k = 100\n",
      "Clusters salvos em clusters/Beauty/umap/n_components16\\run_kmeans\\Beauty_cluster_run_kmeans_k100.csv\n",
      " - k = 150\n",
      "Clusters salvos em clusters/Beauty/umap/n_components16\\run_kmeans\\Beauty_cluster_run_kmeans_k150.csv\n",
      " - k = 200\n",
      "Clusters salvos em clusters/Beauty/umap/n_components16\\run_kmeans\\Beauty_cluster_run_kmeans_k200.csv\n",
      " - k = 400\n",
      "Clusters salvos em clusters/Beauty/umap/n_components16\\run_kmeans\\Beauty_cluster_run_kmeans_k400.csv\n",
      " - k = 500\n",
      "Clusters salvos em clusters/Beauty/umap/n_components16\\run_kmeans\\Beauty_cluster_run_kmeans_k500.csv\n",
      " - k = 750\n",
      "Clusters salvos em clusters/Beauty/umap/n_components16\\run_kmeans\\Beauty_cluster_run_kmeans_k750.csv\n",
      " - k = 1000\n",
      "Clusters salvos em clusters/Beauty/umap/n_components16\\run_kmeans\\Beauty_cluster_run_kmeans_k1000.csv\n",
      " - k = 1250\n",
      "Clusters salvos em clusters/Beauty/umap/n_components16\\run_kmeans\\Beauty_cluster_run_kmeans_k1250.csv\n",
      " - k = 1500\n",
      "Clusters salvos em clusters/Beauty/umap/n_components16\\run_kmeans\\Beauty_cluster_run_kmeans_k1500.csv\n",
      " - k = 1750\n",
      "Clusters salvos em clusters/Beauty/umap/n_components16\\run_kmeans\\Beauty_cluster_run_kmeans_k1750.csv\n",
      " - k = 2000\n",
      "Clusters salvos em clusters/Beauty/umap/n_components16\\run_kmeans\\Beauty_cluster_run_kmeans_k2000.csv\n",
      " - k = 2250\n",
      "Clusters salvos em clusters/Beauty/umap/n_components16\\run_kmeans\\Beauty_cluster_run_kmeans_k2250.csv\n",
      " - k = 2500\n",
      "Clusters salvos em clusters/Beauty/umap/n_components16\\run_kmeans\\Beauty_cluster_run_kmeans_k2500.csv\n",
      " - k = 2750\n",
      "Clusters salvos em clusters/Beauty/umap/n_components16\\run_kmeans\\Beauty_cluster_run_kmeans_k2750.csv\n",
      " - k = 3000\n",
      "Clusters salvos em clusters/Beauty/umap/n_components16\\run_kmeans\\Beauty_cluster_run_kmeans_k3000.csv\n",
      "Executando run_agnes\n",
      " - k = 2\n",
      "Clusters salvos em clusters/Beauty/umap/n_components16\\run_agnes\\Beauty_cluster_run_agnes_k2.csv\n",
      " - k = 5\n",
      "Clusters salvos em clusters/Beauty/umap/n_components16\\run_agnes\\Beauty_cluster_run_agnes_k5.csv\n",
      " - k = 10\n",
      "Clusters salvos em clusters/Beauty/umap/n_components16\\run_agnes\\Beauty_cluster_run_agnes_k10.csv\n",
      " - k = 30\n",
      "Clusters salvos em clusters/Beauty/umap/n_components16\\run_agnes\\Beauty_cluster_run_agnes_k30.csv\n",
      " - k = 50\n",
      "Clusters salvos em clusters/Beauty/umap/n_components16\\run_agnes\\Beauty_cluster_run_agnes_k50.csv\n",
      " - k = 100\n",
      "Clusters salvos em clusters/Beauty/umap/n_components16\\run_agnes\\Beauty_cluster_run_agnes_k100.csv\n",
      " - k = 150\n",
      "Clusters salvos em clusters/Beauty/umap/n_components16\\run_agnes\\Beauty_cluster_run_agnes_k150.csv\n",
      " - k = 200\n",
      "Clusters salvos em clusters/Beauty/umap/n_components16\\run_agnes\\Beauty_cluster_run_agnes_k200.csv\n",
      " - k = 400\n",
      "Clusters salvos em clusters/Beauty/umap/n_components16\\run_agnes\\Beauty_cluster_run_agnes_k400.csv\n",
      " - k = 500\n",
      "Clusters salvos em clusters/Beauty/umap/n_components16\\run_agnes\\Beauty_cluster_run_agnes_k500.csv\n",
      " - k = 750\n",
      "Clusters salvos em clusters/Beauty/umap/n_components16\\run_agnes\\Beauty_cluster_run_agnes_k750.csv\n",
      " - k = 1000\n",
      "Clusters salvos em clusters/Beauty/umap/n_components16\\run_agnes\\Beauty_cluster_run_agnes_k1000.csv\n",
      " - k = 1250\n",
      "Clusters salvos em clusters/Beauty/umap/n_components16\\run_agnes\\Beauty_cluster_run_agnes_k1250.csv\n",
      " - k = 1500\n",
      "Clusters salvos em clusters/Beauty/umap/n_components16\\run_agnes\\Beauty_cluster_run_agnes_k1500.csv\n",
      " - k = 1750\n",
      "Clusters salvos em clusters/Beauty/umap/n_components16\\run_agnes\\Beauty_cluster_run_agnes_k1750.csv\n",
      " - k = 2000\n",
      "Clusters salvos em clusters/Beauty/umap/n_components16\\run_agnes\\Beauty_cluster_run_agnes_k2000.csv\n",
      " - k = 2250\n",
      "Clusters salvos em clusters/Beauty/umap/n_components16\\run_agnes\\Beauty_cluster_run_agnes_k2250.csv\n",
      " - k = 2500\n",
      "Clusters salvos em clusters/Beauty/umap/n_components16\\run_agnes\\Beauty_cluster_run_agnes_k2500.csv\n",
      " - k = 2750\n",
      "Clusters salvos em clusters/Beauty/umap/n_components16\\run_agnes\\Beauty_cluster_run_agnes_k2750.csv\n",
      " - k = 3000\n",
      "Clusters salvos em clusters/Beauty/umap/n_components16\\run_agnes\\Beauty_cluster_run_agnes_k3000.csv\n",
      "Executando run_fasterpam\n",
      " - k = 2\n",
      "Clusters salvos em clusters/Beauty/umap/n_components16\\run_fasterpam\\Beauty_cluster_run_fasterpam_k2.csv\n",
      " - k = 5\n",
      "Clusters salvos em clusters/Beauty/umap/n_components16\\run_fasterpam\\Beauty_cluster_run_fasterpam_k5.csv\n",
      " - k = 10\n",
      "Clusters salvos em clusters/Beauty/umap/n_components16\\run_fasterpam\\Beauty_cluster_run_fasterpam_k10.csv\n",
      " - k = 30\n",
      "Clusters salvos em clusters/Beauty/umap/n_components16\\run_fasterpam\\Beauty_cluster_run_fasterpam_k30.csv\n",
      " - k = 50\n",
      "Clusters salvos em clusters/Beauty/umap/n_components16\\run_fasterpam\\Beauty_cluster_run_fasterpam_k50.csv\n",
      " - k = 100\n",
      "Clusters salvos em clusters/Beauty/umap/n_components16\\run_fasterpam\\Beauty_cluster_run_fasterpam_k100.csv\n",
      " - k = 150\n",
      "Clusters salvos em clusters/Beauty/umap/n_components16\\run_fasterpam\\Beauty_cluster_run_fasterpam_k150.csv\n",
      " - k = 200\n",
      "Clusters salvos em clusters/Beauty/umap/n_components16\\run_fasterpam\\Beauty_cluster_run_fasterpam_k200.csv\n",
      " - k = 400\n",
      "Clusters salvos em clusters/Beauty/umap/n_components16\\run_fasterpam\\Beauty_cluster_run_fasterpam_k400.csv\n",
      " - k = 500\n",
      "Clusters salvos em clusters/Beauty/umap/n_components16\\run_fasterpam\\Beauty_cluster_run_fasterpam_k500.csv\n",
      " - k = 750\n",
      "Clusters salvos em clusters/Beauty/umap/n_components16\\run_fasterpam\\Beauty_cluster_run_fasterpam_k750.csv\n",
      " - k = 1000\n",
      "Clusters salvos em clusters/Beauty/umap/n_components16\\run_fasterpam\\Beauty_cluster_run_fasterpam_k1000.csv\n",
      " - k = 1250\n",
      "Clusters salvos em clusters/Beauty/umap/n_components16\\run_fasterpam\\Beauty_cluster_run_fasterpam_k1250.csv\n",
      " - k = 1500\n",
      "Clusters salvos em clusters/Beauty/umap/n_components16\\run_fasterpam\\Beauty_cluster_run_fasterpam_k1500.csv\n",
      " - k = 1750\n",
      "Clusters salvos em clusters/Beauty/umap/n_components16\\run_fasterpam\\Beauty_cluster_run_fasterpam_k1750.csv\n",
      " - k = 2000\n",
      "Clusters salvos em clusters/Beauty/umap/n_components16\\run_fasterpam\\Beauty_cluster_run_fasterpam_k2000.csv\n",
      " - k = 2250\n",
      "Clusters salvos em clusters/Beauty/umap/n_components16\\run_fasterpam\\Beauty_cluster_run_fasterpam_k2250.csv\n",
      " - k = 2500\n",
      "Clusters salvos em clusters/Beauty/umap/n_components16\\run_fasterpam\\Beauty_cluster_run_fasterpam_k2500.csv\n",
      " - k = 2750\n",
      "Clusters salvos em clusters/Beauty/umap/n_components16\\run_fasterpam\\Beauty_cluster_run_fasterpam_k2750.csv\n",
      " - k = 3000\n",
      "Clusters salvos em clusters/Beauty/umap/n_components16\\run_fasterpam\\Beauty_cluster_run_fasterpam_k3000.csv\n",
      "Clusterização concluída e resultados salvos\n",
      "\n",
      " Embeddings reduzidos com umap e n_components 4\n",
      "Aplicando UMAP com n_components = 4...\n"
     ]
    },
    {
     "name": "stderr",
     "output_type": "stream",
     "text": [
      "C:\\Users\\cruzd\\AppData\\Local\\Packages\\PythonSoftwareFoundation.Python.3.12_qbz5n2kfra8p0\\LocalCache\\local-packages\\Python312\\site-packages\\sklearn\\utils\\deprecation.py:151: FutureWarning: 'force_all_finite' was renamed to 'ensure_all_finite' in 1.6 and will be removed in 1.8.\n",
      "  warnings.warn(\n",
      "C:\\Users\\cruzd\\AppData\\Local\\Packages\\PythonSoftwareFoundation.Python.3.12_qbz5n2kfra8p0\\LocalCache\\local-packages\\Python312\\site-packages\\umap\\umap_.py:1952: UserWarning: n_jobs value 1 overridden to 1 by setting random_state. Use no seed for parallelism.\n",
      "  warn(\n"
     ]
    },
    {
     "name": "stdout",
     "output_type": "stream",
     "text": [
      "Dimensionalidade reduzida de 1000 para 4\n",
      "Metodos com numero de clusters (k) como parametro ...\n",
      "Executando run_kmeans\n",
      " - k = 2\n",
      "Clusters salvos em clusters/Beauty/umap/n_components4\\run_kmeans\\Beauty_cluster_run_kmeans_k2.csv\n",
      " - k = 5\n",
      "Clusters salvos em clusters/Beauty/umap/n_components4\\run_kmeans\\Beauty_cluster_run_kmeans_k5.csv\n",
      " - k = 10\n",
      "Clusters salvos em clusters/Beauty/umap/n_components4\\run_kmeans\\Beauty_cluster_run_kmeans_k10.csv\n",
      " - k = 30\n",
      "Clusters salvos em clusters/Beauty/umap/n_components4\\run_kmeans\\Beauty_cluster_run_kmeans_k30.csv\n",
      " - k = 50\n",
      "Clusters salvos em clusters/Beauty/umap/n_components4\\run_kmeans\\Beauty_cluster_run_kmeans_k50.csv\n",
      " - k = 100\n",
      "Clusters salvos em clusters/Beauty/umap/n_components4\\run_kmeans\\Beauty_cluster_run_kmeans_k100.csv\n",
      " - k = 150\n",
      "Clusters salvos em clusters/Beauty/umap/n_components4\\run_kmeans\\Beauty_cluster_run_kmeans_k150.csv\n",
      " - k = 200\n",
      "Clusters salvos em clusters/Beauty/umap/n_components4\\run_kmeans\\Beauty_cluster_run_kmeans_k200.csv\n",
      " - k = 400\n",
      "Clusters salvos em clusters/Beauty/umap/n_components4\\run_kmeans\\Beauty_cluster_run_kmeans_k400.csv\n",
      " - k = 500\n",
      "Clusters salvos em clusters/Beauty/umap/n_components4\\run_kmeans\\Beauty_cluster_run_kmeans_k500.csv\n",
      " - k = 750\n",
      "Clusters salvos em clusters/Beauty/umap/n_components4\\run_kmeans\\Beauty_cluster_run_kmeans_k750.csv\n",
      " - k = 1000\n",
      "Clusters salvos em clusters/Beauty/umap/n_components4\\run_kmeans\\Beauty_cluster_run_kmeans_k1000.csv\n",
      " - k = 1250\n",
      "Clusters salvos em clusters/Beauty/umap/n_components4\\run_kmeans\\Beauty_cluster_run_kmeans_k1250.csv\n",
      " - k = 1500\n",
      "Clusters salvos em clusters/Beauty/umap/n_components4\\run_kmeans\\Beauty_cluster_run_kmeans_k1500.csv\n",
      " - k = 1750\n",
      "Clusters salvos em clusters/Beauty/umap/n_components4\\run_kmeans\\Beauty_cluster_run_kmeans_k1750.csv\n",
      " - k = 2000\n",
      "Clusters salvos em clusters/Beauty/umap/n_components4\\run_kmeans\\Beauty_cluster_run_kmeans_k2000.csv\n",
      " - k = 2250\n",
      "Clusters salvos em clusters/Beauty/umap/n_components4\\run_kmeans\\Beauty_cluster_run_kmeans_k2250.csv\n",
      " - k = 2500\n",
      "Clusters salvos em clusters/Beauty/umap/n_components4\\run_kmeans\\Beauty_cluster_run_kmeans_k2500.csv\n",
      " - k = 2750\n",
      "Clusters salvos em clusters/Beauty/umap/n_components4\\run_kmeans\\Beauty_cluster_run_kmeans_k2750.csv\n",
      " - k = 3000\n",
      "Clusters salvos em clusters/Beauty/umap/n_components4\\run_kmeans\\Beauty_cluster_run_kmeans_k3000.csv\n",
      "Executando run_agnes\n",
      " - k = 2\n",
      "Clusters salvos em clusters/Beauty/umap/n_components4\\run_agnes\\Beauty_cluster_run_agnes_k2.csv\n",
      " - k = 5\n",
      "Clusters salvos em clusters/Beauty/umap/n_components4\\run_agnes\\Beauty_cluster_run_agnes_k5.csv\n",
      " - k = 10\n",
      "Clusters salvos em clusters/Beauty/umap/n_components4\\run_agnes\\Beauty_cluster_run_agnes_k10.csv\n",
      " - k = 30\n",
      "Clusters salvos em clusters/Beauty/umap/n_components4\\run_agnes\\Beauty_cluster_run_agnes_k30.csv\n",
      " - k = 50\n",
      "Clusters salvos em clusters/Beauty/umap/n_components4\\run_agnes\\Beauty_cluster_run_agnes_k50.csv\n",
      " - k = 100\n",
      "Clusters salvos em clusters/Beauty/umap/n_components4\\run_agnes\\Beauty_cluster_run_agnes_k100.csv\n",
      " - k = 150\n",
      "Clusters salvos em clusters/Beauty/umap/n_components4\\run_agnes\\Beauty_cluster_run_agnes_k150.csv\n",
      " - k = 200\n",
      "Clusters salvos em clusters/Beauty/umap/n_components4\\run_agnes\\Beauty_cluster_run_agnes_k200.csv\n",
      " - k = 400\n",
      "Clusters salvos em clusters/Beauty/umap/n_components4\\run_agnes\\Beauty_cluster_run_agnes_k400.csv\n",
      " - k = 500\n",
      "Clusters salvos em clusters/Beauty/umap/n_components4\\run_agnes\\Beauty_cluster_run_agnes_k500.csv\n",
      " - k = 750\n",
      "Clusters salvos em clusters/Beauty/umap/n_components4\\run_agnes\\Beauty_cluster_run_agnes_k750.csv\n",
      " - k = 1000\n",
      "Clusters salvos em clusters/Beauty/umap/n_components4\\run_agnes\\Beauty_cluster_run_agnes_k1000.csv\n",
      " - k = 1250\n",
      "Clusters salvos em clusters/Beauty/umap/n_components4\\run_agnes\\Beauty_cluster_run_agnes_k1250.csv\n",
      " - k = 1500\n",
      "Clusters salvos em clusters/Beauty/umap/n_components4\\run_agnes\\Beauty_cluster_run_agnes_k1500.csv\n",
      " - k = 1750\n",
      "Clusters salvos em clusters/Beauty/umap/n_components4\\run_agnes\\Beauty_cluster_run_agnes_k1750.csv\n",
      " - k = 2000\n",
      "Clusters salvos em clusters/Beauty/umap/n_components4\\run_agnes\\Beauty_cluster_run_agnes_k2000.csv\n",
      " - k = 2250\n",
      "Clusters salvos em clusters/Beauty/umap/n_components4\\run_agnes\\Beauty_cluster_run_agnes_k2250.csv\n",
      " - k = 2500\n",
      "Clusters salvos em clusters/Beauty/umap/n_components4\\run_agnes\\Beauty_cluster_run_agnes_k2500.csv\n",
      " - k = 2750\n",
      "Clusters salvos em clusters/Beauty/umap/n_components4\\run_agnes\\Beauty_cluster_run_agnes_k2750.csv\n",
      " - k = 3000\n",
      "Clusters salvos em clusters/Beauty/umap/n_components4\\run_agnes\\Beauty_cluster_run_agnes_k3000.csv\n",
      "Executando run_fasterpam\n",
      " - k = 2\n",
      "Clusters salvos em clusters/Beauty/umap/n_components4\\run_fasterpam\\Beauty_cluster_run_fasterpam_k2.csv\n",
      " - k = 5\n",
      "Clusters salvos em clusters/Beauty/umap/n_components4\\run_fasterpam\\Beauty_cluster_run_fasterpam_k5.csv\n",
      " - k = 10\n",
      "Clusters salvos em clusters/Beauty/umap/n_components4\\run_fasterpam\\Beauty_cluster_run_fasterpam_k10.csv\n",
      " - k = 30\n",
      "Clusters salvos em clusters/Beauty/umap/n_components4\\run_fasterpam\\Beauty_cluster_run_fasterpam_k30.csv\n",
      " - k = 50\n",
      "Clusters salvos em clusters/Beauty/umap/n_components4\\run_fasterpam\\Beauty_cluster_run_fasterpam_k50.csv\n",
      " - k = 100\n",
      "Clusters salvos em clusters/Beauty/umap/n_components4\\run_fasterpam\\Beauty_cluster_run_fasterpam_k100.csv\n",
      " - k = 150\n",
      "Clusters salvos em clusters/Beauty/umap/n_components4\\run_fasterpam\\Beauty_cluster_run_fasterpam_k150.csv\n",
      " - k = 200\n",
      "Clusters salvos em clusters/Beauty/umap/n_components4\\run_fasterpam\\Beauty_cluster_run_fasterpam_k200.csv\n",
      " - k = 400\n",
      "Clusters salvos em clusters/Beauty/umap/n_components4\\run_fasterpam\\Beauty_cluster_run_fasterpam_k400.csv\n",
      " - k = 500\n",
      "Clusters salvos em clusters/Beauty/umap/n_components4\\run_fasterpam\\Beauty_cluster_run_fasterpam_k500.csv\n",
      " - k = 750\n",
      "Clusters salvos em clusters/Beauty/umap/n_components4\\run_fasterpam\\Beauty_cluster_run_fasterpam_k750.csv\n",
      " - k = 1000\n",
      "Clusters salvos em clusters/Beauty/umap/n_components4\\run_fasterpam\\Beauty_cluster_run_fasterpam_k1000.csv\n",
      " - k = 1250\n",
      "Clusters salvos em clusters/Beauty/umap/n_components4\\run_fasterpam\\Beauty_cluster_run_fasterpam_k1250.csv\n",
      " - k = 1500\n",
      "Clusters salvos em clusters/Beauty/umap/n_components4\\run_fasterpam\\Beauty_cluster_run_fasterpam_k1500.csv\n",
      " - k = 1750\n",
      "Clusters salvos em clusters/Beauty/umap/n_components4\\run_fasterpam\\Beauty_cluster_run_fasterpam_k1750.csv\n",
      " - k = 2000\n",
      "Clusters salvos em clusters/Beauty/umap/n_components4\\run_fasterpam\\Beauty_cluster_run_fasterpam_k2000.csv\n",
      " - k = 2250\n",
      "Clusters salvos em clusters/Beauty/umap/n_components4\\run_fasterpam\\Beauty_cluster_run_fasterpam_k2250.csv\n",
      " - k = 2500\n",
      "Clusters salvos em clusters/Beauty/umap/n_components4\\run_fasterpam\\Beauty_cluster_run_fasterpam_k2500.csv\n",
      " - k = 2750\n",
      "Clusters salvos em clusters/Beauty/umap/n_components4\\run_fasterpam\\Beauty_cluster_run_fasterpam_k2750.csv\n",
      " - k = 3000\n",
      "Clusters salvos em clusters/Beauty/umap/n_components4\\run_fasterpam\\Beauty_cluster_run_fasterpam_k3000.csv\n",
      "Clusterização concluída e resultados salvos\n",
      "\n",
      "Todos os testes para métodos com k fixo concluídos\n"
     ]
    }
   ],
   "source": [
    "# testando metodos com k usando redução de dimensionalidade\n",
    "# methods_clustering = [run_kmeans, run_agnes, run_fasterpam, run_fastermsc]\n",
    "methods_clustering = [run_kmeans, run_agnes, run_fasterpam]\n",
    "k_values = [2, 5, 10, 30, 50, 100, 150, 200, 400, 500, 750, 1000, 1250, 1500, 1750, 2000, 2250, 2500, 2750,3000]\n",
    "\n",
    "for method_red in methods_reducing:\n",
    "    for n in n_components:\n",
    "        print(f'\\n Embeddings reduzidos com {method_red} e n_components {n}')\n",
    "        reduced_embeddings = dimensionality_reduction(embeddings=embeddings, method=method_red, n_components=n)\n",
    "        if not isinstance(reduced_embeddings, torch.Tensor):\n",
    "            reduced_embeddings = torch.tensor(reduced_embeddings, dtype=torch.float32)\n",
    "        output_path = f'clusters/{dataset}/{method_red}/n_components{n}'\n",
    "        os.makedirs(output_path, exist_ok=True)\n",
    "        \n",
    "        print('Metodos com numero de clusters (k) como parametro ...')\n",
    "\n",
    "        run_methods_with_k(\n",
    "            embeddings = reduced_embeddings, \n",
    "            methods = methods_clustering, \n",
    "            k_values = k_values, \n",
    "            output_path = output_path, \n",
    "            dataset_name=dataset\n",
    "        )  \n",
    "                        \n",
    "print(\"\\nTodos os testes para métodos com k fixo concluídos\")"
   ]
  },
  {
   "cell_type": "code",
   "execution_count": 21,
   "id": "d1f87592",
   "metadata": {},
   "outputs": [
    {
     "name": "stdout",
     "output_type": "stream",
     "text": [
      "\n",
      " Embeddings reduzidos com umap e n_components 32\n",
      "Aplicando UMAP com n_components = 32...\n"
     ]
    },
    {
     "name": "stderr",
     "output_type": "stream",
     "text": [
      "C:\\Users\\cruzd\\AppData\\Local\\Packages\\PythonSoftwareFoundation.Python.3.12_qbz5n2kfra8p0\\LocalCache\\local-packages\\Python312\\site-packages\\sklearn\\utils\\deprecation.py:151: FutureWarning: 'force_all_finite' was renamed to 'ensure_all_finite' in 1.6 and will be removed in 1.8.\n",
      "  warnings.warn(\n",
      "C:\\Users\\cruzd\\AppData\\Local\\Packages\\PythonSoftwareFoundation.Python.3.12_qbz5n2kfra8p0\\LocalCache\\local-packages\\Python312\\site-packages\\umap\\umap_.py:1952: UserWarning: n_jobs value 1 overridden to 1 by setting random_state. Use no seed for parallelism.\n",
      "  warn(\n"
     ]
    },
    {
     "name": "stdout",
     "output_type": "stream",
     "text": [
      "Dimensionalidade reduzida de 1000 para 32\n",
      "Metodos com numero de clusters (k) como parametro ...\n",
      "Executando run_kmeans\n",
      " - k = 2\n",
      "Clusters salvos em clusters/ML-1M/umap/n_components32\\run_kmeans\\ML-1M_cluster_run_kmeans_k2.csv\n",
      " - k = 5\n",
      "Clusters salvos em clusters/ML-1M/umap/n_components32\\run_kmeans\\ML-1M_cluster_run_kmeans_k5.csv\n",
      " - k = 10\n",
      "Clusters salvos em clusters/ML-1M/umap/n_components32\\run_kmeans\\ML-1M_cluster_run_kmeans_k10.csv\n",
      " - k = 30\n",
      "Clusters salvos em clusters/ML-1M/umap/n_components32\\run_kmeans\\ML-1M_cluster_run_kmeans_k30.csv\n",
      " - k = 50\n",
      "Clusters salvos em clusters/ML-1M/umap/n_components32\\run_kmeans\\ML-1M_cluster_run_kmeans_k50.csv\n",
      " - k = 100\n",
      "Clusters salvos em clusters/ML-1M/umap/n_components32\\run_kmeans\\ML-1M_cluster_run_kmeans_k100.csv\n",
      " - k = 150\n",
      "Clusters salvos em clusters/ML-1M/umap/n_components32\\run_kmeans\\ML-1M_cluster_run_kmeans_k150.csv\n",
      " - k = 200\n",
      "Clusters salvos em clusters/ML-1M/umap/n_components32\\run_kmeans\\ML-1M_cluster_run_kmeans_k200.csv\n",
      " - k = 400\n",
      "Clusters salvos em clusters/ML-1M/umap/n_components32\\run_kmeans\\ML-1M_cluster_run_kmeans_k400.csv\n",
      " - k = 500\n",
      "Clusters salvos em clusters/ML-1M/umap/n_components32\\run_kmeans\\ML-1M_cluster_run_kmeans_k500.csv\n",
      " - k = 750\n",
      "Clusters salvos em clusters/ML-1M/umap/n_components32\\run_kmeans\\ML-1M_cluster_run_kmeans_k750.csv\n",
      " - k = 1000\n",
      "Clusters salvos em clusters/ML-1M/umap/n_components32\\run_kmeans\\ML-1M_cluster_run_kmeans_k1000.csv\n",
      " - k = 1250\n",
      "Clusters salvos em clusters/ML-1M/umap/n_components32\\run_kmeans\\ML-1M_cluster_run_kmeans_k1250.csv\n",
      " - k = 1500\n",
      "Clusters salvos em clusters/ML-1M/umap/n_components32\\run_kmeans\\ML-1M_cluster_run_kmeans_k1500.csv\n",
      " - k = 2000\n",
      "Clusters salvos em clusters/ML-1M/umap/n_components32\\run_kmeans\\ML-1M_cluster_run_kmeans_k2000.csv\n",
      " - k = 2500\n",
      "Clusters salvos em clusters/ML-1M/umap/n_components32\\run_kmeans\\ML-1M_cluster_run_kmeans_k2500.csv\n",
      " - k = 3000\n",
      "Clusters salvos em clusters/ML-1M/umap/n_components32\\run_kmeans\\ML-1M_cluster_run_kmeans_k3000.csv\n",
      "Executando run_fasterpam\n",
      " - k = 2\n",
      "Clusters salvos em clusters/ML-1M/umap/n_components32\\run_fasterpam\\ML-1M_cluster_run_fasterpam_k2.csv\n",
      " - k = 5\n",
      "Clusters salvos em clusters/ML-1M/umap/n_components32\\run_fasterpam\\ML-1M_cluster_run_fasterpam_k5.csv\n",
      " - k = 10\n",
      "Clusters salvos em clusters/ML-1M/umap/n_components32\\run_fasterpam\\ML-1M_cluster_run_fasterpam_k10.csv\n",
      " - k = 30\n",
      "Clusters salvos em clusters/ML-1M/umap/n_components32\\run_fasterpam\\ML-1M_cluster_run_fasterpam_k30.csv\n",
      " - k = 50\n",
      "Clusters salvos em clusters/ML-1M/umap/n_components32\\run_fasterpam\\ML-1M_cluster_run_fasterpam_k50.csv\n",
      " - k = 100\n",
      "Clusters salvos em clusters/ML-1M/umap/n_components32\\run_fasterpam\\ML-1M_cluster_run_fasterpam_k100.csv\n",
      " - k = 150\n",
      "Clusters salvos em clusters/ML-1M/umap/n_components32\\run_fasterpam\\ML-1M_cluster_run_fasterpam_k150.csv\n",
      " - k = 200\n",
      "Clusters salvos em clusters/ML-1M/umap/n_components32\\run_fasterpam\\ML-1M_cluster_run_fasterpam_k200.csv\n",
      " - k = 400\n",
      "Clusters salvos em clusters/ML-1M/umap/n_components32\\run_fasterpam\\ML-1M_cluster_run_fasterpam_k400.csv\n",
      " - k = 500\n",
      "Clusters salvos em clusters/ML-1M/umap/n_components32\\run_fasterpam\\ML-1M_cluster_run_fasterpam_k500.csv\n",
      " - k = 750\n",
      "Clusters salvos em clusters/ML-1M/umap/n_components32\\run_fasterpam\\ML-1M_cluster_run_fasterpam_k750.csv\n",
      " - k = 1000\n",
      "Clusters salvos em clusters/ML-1M/umap/n_components32\\run_fasterpam\\ML-1M_cluster_run_fasterpam_k1000.csv\n",
      " - k = 1250\n",
      "Clusters salvos em clusters/ML-1M/umap/n_components32\\run_fasterpam\\ML-1M_cluster_run_fasterpam_k1250.csv\n",
      " - k = 1500\n",
      "Clusters salvos em clusters/ML-1M/umap/n_components32\\run_fasterpam\\ML-1M_cluster_run_fasterpam_k1500.csv\n",
      " - k = 2000\n",
      "Clusters salvos em clusters/ML-1M/umap/n_components32\\run_fasterpam\\ML-1M_cluster_run_fasterpam_k2000.csv\n",
      " - k = 2500\n",
      "Clusters salvos em clusters/ML-1M/umap/n_components32\\run_fasterpam\\ML-1M_cluster_run_fasterpam_k2500.csv\n",
      " - k = 3000\n",
      "Clusters salvos em clusters/ML-1M/umap/n_components32\\run_fasterpam\\ML-1M_cluster_run_fasterpam_k3000.csv\n",
      "Executando run_agnes\n",
      " - k = 2\n",
      "Clusters salvos em clusters/ML-1M/umap/n_components32\\run_agnes\\ML-1M_cluster_run_agnes_k2.csv\n",
      " - k = 5\n",
      "Clusters salvos em clusters/ML-1M/umap/n_components32\\run_agnes\\ML-1M_cluster_run_agnes_k5.csv\n",
      " - k = 10\n",
      "Clusters salvos em clusters/ML-1M/umap/n_components32\\run_agnes\\ML-1M_cluster_run_agnes_k10.csv\n",
      " - k = 30\n",
      "Clusters salvos em clusters/ML-1M/umap/n_components32\\run_agnes\\ML-1M_cluster_run_agnes_k30.csv\n",
      " - k = 50\n",
      "Clusters salvos em clusters/ML-1M/umap/n_components32\\run_agnes\\ML-1M_cluster_run_agnes_k50.csv\n",
      " - k = 100\n",
      "Clusters salvos em clusters/ML-1M/umap/n_components32\\run_agnes\\ML-1M_cluster_run_agnes_k100.csv\n",
      " - k = 150\n",
      "Clusters salvos em clusters/ML-1M/umap/n_components32\\run_agnes\\ML-1M_cluster_run_agnes_k150.csv\n",
      " - k = 200\n",
      "Clusters salvos em clusters/ML-1M/umap/n_components32\\run_agnes\\ML-1M_cluster_run_agnes_k200.csv\n",
      " - k = 400\n",
      "Clusters salvos em clusters/ML-1M/umap/n_components32\\run_agnes\\ML-1M_cluster_run_agnes_k400.csv\n",
      " - k = 500\n",
      "Clusters salvos em clusters/ML-1M/umap/n_components32\\run_agnes\\ML-1M_cluster_run_agnes_k500.csv\n",
      " - k = 750\n",
      "Clusters salvos em clusters/ML-1M/umap/n_components32\\run_agnes\\ML-1M_cluster_run_agnes_k750.csv\n",
      " - k = 1000\n",
      "Clusters salvos em clusters/ML-1M/umap/n_components32\\run_agnes\\ML-1M_cluster_run_agnes_k1000.csv\n",
      " - k = 1250\n",
      "Clusters salvos em clusters/ML-1M/umap/n_components32\\run_agnes\\ML-1M_cluster_run_agnes_k1250.csv\n",
      " - k = 1500\n",
      "Clusters salvos em clusters/ML-1M/umap/n_components32\\run_agnes\\ML-1M_cluster_run_agnes_k1500.csv\n",
      " - k = 2000\n",
      "Clusters salvos em clusters/ML-1M/umap/n_components32\\run_agnes\\ML-1M_cluster_run_agnes_k2000.csv\n",
      " - k = 2500\n",
      "Clusters salvos em clusters/ML-1M/umap/n_components32\\run_agnes\\ML-1M_cluster_run_agnes_k2500.csv\n",
      " - k = 3000\n",
      "Clusters salvos em clusters/ML-1M/umap/n_components32\\run_agnes\\ML-1M_cluster_run_agnes_k3000.csv\n",
      "Clusterização concluída e resultados salvos\n",
      "\n",
      " Embeddings reduzidos com umap e n_components 64\n",
      "Aplicando UMAP com n_components = 64...\n"
     ]
    },
    {
     "name": "stderr",
     "output_type": "stream",
     "text": [
      "C:\\Users\\cruzd\\AppData\\Local\\Packages\\PythonSoftwareFoundation.Python.3.12_qbz5n2kfra8p0\\LocalCache\\local-packages\\Python312\\site-packages\\sklearn\\utils\\deprecation.py:151: FutureWarning: 'force_all_finite' was renamed to 'ensure_all_finite' in 1.6 and will be removed in 1.8.\n",
      "  warnings.warn(\n",
      "C:\\Users\\cruzd\\AppData\\Local\\Packages\\PythonSoftwareFoundation.Python.3.12_qbz5n2kfra8p0\\LocalCache\\local-packages\\Python312\\site-packages\\umap\\umap_.py:1952: UserWarning: n_jobs value 1 overridden to 1 by setting random_state. Use no seed for parallelism.\n",
      "  warn(\n"
     ]
    },
    {
     "name": "stdout",
     "output_type": "stream",
     "text": [
      "Dimensionalidade reduzida de 1000 para 64\n",
      "Metodos com numero de clusters (k) como parametro ...\n",
      "Executando run_kmeans\n",
      " - k = 2\n",
      "Clusters salvos em clusters/ML-1M/umap/n_components64\\run_kmeans\\ML-1M_cluster_run_kmeans_k2.csv\n",
      " - k = 5\n",
      "Clusters salvos em clusters/ML-1M/umap/n_components64\\run_kmeans\\ML-1M_cluster_run_kmeans_k5.csv\n",
      " - k = 10\n",
      "Clusters salvos em clusters/ML-1M/umap/n_components64\\run_kmeans\\ML-1M_cluster_run_kmeans_k10.csv\n",
      " - k = 30\n",
      "Clusters salvos em clusters/ML-1M/umap/n_components64\\run_kmeans\\ML-1M_cluster_run_kmeans_k30.csv\n",
      " - k = 50\n",
      "Clusters salvos em clusters/ML-1M/umap/n_components64\\run_kmeans\\ML-1M_cluster_run_kmeans_k50.csv\n",
      " - k = 100\n",
      "Clusters salvos em clusters/ML-1M/umap/n_components64\\run_kmeans\\ML-1M_cluster_run_kmeans_k100.csv\n",
      " - k = 150\n",
      "Clusters salvos em clusters/ML-1M/umap/n_components64\\run_kmeans\\ML-1M_cluster_run_kmeans_k150.csv\n",
      " - k = 200\n",
      "Clusters salvos em clusters/ML-1M/umap/n_components64\\run_kmeans\\ML-1M_cluster_run_kmeans_k200.csv\n",
      " - k = 400\n",
      "Clusters salvos em clusters/ML-1M/umap/n_components64\\run_kmeans\\ML-1M_cluster_run_kmeans_k400.csv\n",
      " - k = 500\n",
      "Clusters salvos em clusters/ML-1M/umap/n_components64\\run_kmeans\\ML-1M_cluster_run_kmeans_k500.csv\n",
      " - k = 750\n",
      "Clusters salvos em clusters/ML-1M/umap/n_components64\\run_kmeans\\ML-1M_cluster_run_kmeans_k750.csv\n",
      " - k = 1000\n",
      "Clusters salvos em clusters/ML-1M/umap/n_components64\\run_kmeans\\ML-1M_cluster_run_kmeans_k1000.csv\n",
      " - k = 1250\n",
      "Clusters salvos em clusters/ML-1M/umap/n_components64\\run_kmeans\\ML-1M_cluster_run_kmeans_k1250.csv\n",
      " - k = 1500\n",
      "Clusters salvos em clusters/ML-1M/umap/n_components64\\run_kmeans\\ML-1M_cluster_run_kmeans_k1500.csv\n",
      " - k = 2000\n",
      "Clusters salvos em clusters/ML-1M/umap/n_components64\\run_kmeans\\ML-1M_cluster_run_kmeans_k2000.csv\n",
      " - k = 2500\n",
      "Clusters salvos em clusters/ML-1M/umap/n_components64\\run_kmeans\\ML-1M_cluster_run_kmeans_k2500.csv\n",
      " - k = 3000\n",
      "Clusters salvos em clusters/ML-1M/umap/n_components64\\run_kmeans\\ML-1M_cluster_run_kmeans_k3000.csv\n",
      "Executando run_fasterpam\n",
      " - k = 2\n",
      "Clusters salvos em clusters/ML-1M/umap/n_components64\\run_fasterpam\\ML-1M_cluster_run_fasterpam_k2.csv\n",
      " - k = 5\n",
      "Clusters salvos em clusters/ML-1M/umap/n_components64\\run_fasterpam\\ML-1M_cluster_run_fasterpam_k5.csv\n",
      " - k = 10\n",
      "Clusters salvos em clusters/ML-1M/umap/n_components64\\run_fasterpam\\ML-1M_cluster_run_fasterpam_k10.csv\n",
      " - k = 30\n",
      "Clusters salvos em clusters/ML-1M/umap/n_components64\\run_fasterpam\\ML-1M_cluster_run_fasterpam_k30.csv\n",
      " - k = 50\n",
      "Clusters salvos em clusters/ML-1M/umap/n_components64\\run_fasterpam\\ML-1M_cluster_run_fasterpam_k50.csv\n",
      " - k = 100\n",
      "Clusters salvos em clusters/ML-1M/umap/n_components64\\run_fasterpam\\ML-1M_cluster_run_fasterpam_k100.csv\n",
      " - k = 150\n",
      "Clusters salvos em clusters/ML-1M/umap/n_components64\\run_fasterpam\\ML-1M_cluster_run_fasterpam_k150.csv\n",
      " - k = 200\n",
      "Clusters salvos em clusters/ML-1M/umap/n_components64\\run_fasterpam\\ML-1M_cluster_run_fasterpam_k200.csv\n",
      " - k = 400\n",
      "Clusters salvos em clusters/ML-1M/umap/n_components64\\run_fasterpam\\ML-1M_cluster_run_fasterpam_k400.csv\n",
      " - k = 500\n",
      "Clusters salvos em clusters/ML-1M/umap/n_components64\\run_fasterpam\\ML-1M_cluster_run_fasterpam_k500.csv\n",
      " - k = 750\n",
      "Clusters salvos em clusters/ML-1M/umap/n_components64\\run_fasterpam\\ML-1M_cluster_run_fasterpam_k750.csv\n",
      " - k = 1000\n",
      "Clusters salvos em clusters/ML-1M/umap/n_components64\\run_fasterpam\\ML-1M_cluster_run_fasterpam_k1000.csv\n",
      " - k = 1250\n",
      "Clusters salvos em clusters/ML-1M/umap/n_components64\\run_fasterpam\\ML-1M_cluster_run_fasterpam_k1250.csv\n",
      " - k = 1500\n",
      "Clusters salvos em clusters/ML-1M/umap/n_components64\\run_fasterpam\\ML-1M_cluster_run_fasterpam_k1500.csv\n",
      " - k = 2000\n",
      "Clusters salvos em clusters/ML-1M/umap/n_components64\\run_fasterpam\\ML-1M_cluster_run_fasterpam_k2000.csv\n",
      " - k = 2500\n",
      "Clusters salvos em clusters/ML-1M/umap/n_components64\\run_fasterpam\\ML-1M_cluster_run_fasterpam_k2500.csv\n",
      " - k = 3000\n",
      "Clusters salvos em clusters/ML-1M/umap/n_components64\\run_fasterpam\\ML-1M_cluster_run_fasterpam_k3000.csv\n",
      "Executando run_agnes\n",
      " - k = 2\n",
      "Clusters salvos em clusters/ML-1M/umap/n_components64\\run_agnes\\ML-1M_cluster_run_agnes_k2.csv\n",
      " - k = 5\n",
      "Clusters salvos em clusters/ML-1M/umap/n_components64\\run_agnes\\ML-1M_cluster_run_agnes_k5.csv\n",
      " - k = 10\n",
      "Clusters salvos em clusters/ML-1M/umap/n_components64\\run_agnes\\ML-1M_cluster_run_agnes_k10.csv\n",
      " - k = 30\n",
      "Clusters salvos em clusters/ML-1M/umap/n_components64\\run_agnes\\ML-1M_cluster_run_agnes_k30.csv\n",
      " - k = 50\n",
      "Clusters salvos em clusters/ML-1M/umap/n_components64\\run_agnes\\ML-1M_cluster_run_agnes_k50.csv\n",
      " - k = 100\n",
      "Clusters salvos em clusters/ML-1M/umap/n_components64\\run_agnes\\ML-1M_cluster_run_agnes_k100.csv\n",
      " - k = 150\n",
      "Clusters salvos em clusters/ML-1M/umap/n_components64\\run_agnes\\ML-1M_cluster_run_agnes_k150.csv\n",
      " - k = 200\n",
      "Clusters salvos em clusters/ML-1M/umap/n_components64\\run_agnes\\ML-1M_cluster_run_agnes_k200.csv\n",
      " - k = 400\n",
      "Clusters salvos em clusters/ML-1M/umap/n_components64\\run_agnes\\ML-1M_cluster_run_agnes_k400.csv\n",
      " - k = 500\n",
      "Clusters salvos em clusters/ML-1M/umap/n_components64\\run_agnes\\ML-1M_cluster_run_agnes_k500.csv\n",
      " - k = 750\n",
      "Clusters salvos em clusters/ML-1M/umap/n_components64\\run_agnes\\ML-1M_cluster_run_agnes_k750.csv\n",
      " - k = 1000\n",
      "Clusters salvos em clusters/ML-1M/umap/n_components64\\run_agnes\\ML-1M_cluster_run_agnes_k1000.csv\n",
      " - k = 1250\n",
      "Clusters salvos em clusters/ML-1M/umap/n_components64\\run_agnes\\ML-1M_cluster_run_agnes_k1250.csv\n",
      " - k = 1500\n",
      "Clusters salvos em clusters/ML-1M/umap/n_components64\\run_agnes\\ML-1M_cluster_run_agnes_k1500.csv\n",
      " - k = 2000\n",
      "Clusters salvos em clusters/ML-1M/umap/n_components64\\run_agnes\\ML-1M_cluster_run_agnes_k2000.csv\n",
      " - k = 2500\n",
      "Clusters salvos em clusters/ML-1M/umap/n_components64\\run_agnes\\ML-1M_cluster_run_agnes_k2500.csv\n",
      " - k = 3000\n",
      "Clusters salvos em clusters/ML-1M/umap/n_components64\\run_agnes\\ML-1M_cluster_run_agnes_k3000.csv\n",
      "Clusterização concluída e resultados salvos\n",
      "\n",
      " Embeddings reduzidos com umap e n_components 128\n",
      "Aplicando UMAP com n_components = 128...\n"
     ]
    },
    {
     "name": "stderr",
     "output_type": "stream",
     "text": [
      "C:\\Users\\cruzd\\AppData\\Local\\Packages\\PythonSoftwareFoundation.Python.3.12_qbz5n2kfra8p0\\LocalCache\\local-packages\\Python312\\site-packages\\sklearn\\utils\\deprecation.py:151: FutureWarning: 'force_all_finite' was renamed to 'ensure_all_finite' in 1.6 and will be removed in 1.8.\n",
      "  warnings.warn(\n",
      "C:\\Users\\cruzd\\AppData\\Local\\Packages\\PythonSoftwareFoundation.Python.3.12_qbz5n2kfra8p0\\LocalCache\\local-packages\\Python312\\site-packages\\umap\\umap_.py:1952: UserWarning: n_jobs value 1 overridden to 1 by setting random_state. Use no seed for parallelism.\n",
      "  warn(\n"
     ]
    },
    {
     "name": "stdout",
     "output_type": "stream",
     "text": [
      "Dimensionalidade reduzida de 1000 para 128\n",
      "Metodos com numero de clusters (k) como parametro ...\n",
      "Executando run_kmeans\n",
      " - k = 2\n",
      "Clusters salvos em clusters/ML-1M/umap/n_components128\\run_kmeans\\ML-1M_cluster_run_kmeans_k2.csv\n",
      " - k = 5\n",
      "Clusters salvos em clusters/ML-1M/umap/n_components128\\run_kmeans\\ML-1M_cluster_run_kmeans_k5.csv\n",
      " - k = 10\n",
      "Clusters salvos em clusters/ML-1M/umap/n_components128\\run_kmeans\\ML-1M_cluster_run_kmeans_k10.csv\n",
      " - k = 30\n",
      "Clusters salvos em clusters/ML-1M/umap/n_components128\\run_kmeans\\ML-1M_cluster_run_kmeans_k30.csv\n",
      " - k = 50\n",
      "Clusters salvos em clusters/ML-1M/umap/n_components128\\run_kmeans\\ML-1M_cluster_run_kmeans_k50.csv\n",
      " - k = 100\n",
      "Clusters salvos em clusters/ML-1M/umap/n_components128\\run_kmeans\\ML-1M_cluster_run_kmeans_k100.csv\n",
      " - k = 150\n",
      "Clusters salvos em clusters/ML-1M/umap/n_components128\\run_kmeans\\ML-1M_cluster_run_kmeans_k150.csv\n",
      " - k = 200\n",
      "Clusters salvos em clusters/ML-1M/umap/n_components128\\run_kmeans\\ML-1M_cluster_run_kmeans_k200.csv\n",
      " - k = 400\n",
      "Clusters salvos em clusters/ML-1M/umap/n_components128\\run_kmeans\\ML-1M_cluster_run_kmeans_k400.csv\n",
      " - k = 500\n",
      "Clusters salvos em clusters/ML-1M/umap/n_components128\\run_kmeans\\ML-1M_cluster_run_kmeans_k500.csv\n",
      " - k = 750\n",
      "Clusters salvos em clusters/ML-1M/umap/n_components128\\run_kmeans\\ML-1M_cluster_run_kmeans_k750.csv\n",
      " - k = 1000\n",
      "Clusters salvos em clusters/ML-1M/umap/n_components128\\run_kmeans\\ML-1M_cluster_run_kmeans_k1000.csv\n",
      " - k = 1250\n",
      "Clusters salvos em clusters/ML-1M/umap/n_components128\\run_kmeans\\ML-1M_cluster_run_kmeans_k1250.csv\n",
      " - k = 1500\n",
      "Clusters salvos em clusters/ML-1M/umap/n_components128\\run_kmeans\\ML-1M_cluster_run_kmeans_k1500.csv\n",
      " - k = 2000\n",
      "Clusters salvos em clusters/ML-1M/umap/n_components128\\run_kmeans\\ML-1M_cluster_run_kmeans_k2000.csv\n",
      " - k = 2500\n",
      "Clusters salvos em clusters/ML-1M/umap/n_components128\\run_kmeans\\ML-1M_cluster_run_kmeans_k2500.csv\n",
      " - k = 3000\n",
      "Clusters salvos em clusters/ML-1M/umap/n_components128\\run_kmeans\\ML-1M_cluster_run_kmeans_k3000.csv\n",
      "Executando run_fasterpam\n",
      " - k = 2\n",
      "Clusters salvos em clusters/ML-1M/umap/n_components128\\run_fasterpam\\ML-1M_cluster_run_fasterpam_k2.csv\n",
      " - k = 5\n",
      "Clusters salvos em clusters/ML-1M/umap/n_components128\\run_fasterpam\\ML-1M_cluster_run_fasterpam_k5.csv\n",
      " - k = 10\n",
      "Clusters salvos em clusters/ML-1M/umap/n_components128\\run_fasterpam\\ML-1M_cluster_run_fasterpam_k10.csv\n",
      " - k = 30\n",
      "Clusters salvos em clusters/ML-1M/umap/n_components128\\run_fasterpam\\ML-1M_cluster_run_fasterpam_k30.csv\n",
      " - k = 50\n",
      "Clusters salvos em clusters/ML-1M/umap/n_components128\\run_fasterpam\\ML-1M_cluster_run_fasterpam_k50.csv\n",
      " - k = 100\n",
      "Clusters salvos em clusters/ML-1M/umap/n_components128\\run_fasterpam\\ML-1M_cluster_run_fasterpam_k100.csv\n",
      " - k = 150\n",
      "Clusters salvos em clusters/ML-1M/umap/n_components128\\run_fasterpam\\ML-1M_cluster_run_fasterpam_k150.csv\n",
      " - k = 200\n",
      "Clusters salvos em clusters/ML-1M/umap/n_components128\\run_fasterpam\\ML-1M_cluster_run_fasterpam_k200.csv\n",
      " - k = 400\n",
      "Clusters salvos em clusters/ML-1M/umap/n_components128\\run_fasterpam\\ML-1M_cluster_run_fasterpam_k400.csv\n",
      " - k = 500\n",
      "Clusters salvos em clusters/ML-1M/umap/n_components128\\run_fasterpam\\ML-1M_cluster_run_fasterpam_k500.csv\n",
      " - k = 750\n",
      "Clusters salvos em clusters/ML-1M/umap/n_components128\\run_fasterpam\\ML-1M_cluster_run_fasterpam_k750.csv\n",
      " - k = 1000\n",
      "Clusters salvos em clusters/ML-1M/umap/n_components128\\run_fasterpam\\ML-1M_cluster_run_fasterpam_k1000.csv\n",
      " - k = 1250\n",
      "Clusters salvos em clusters/ML-1M/umap/n_components128\\run_fasterpam\\ML-1M_cluster_run_fasterpam_k1250.csv\n",
      " - k = 1500\n",
      "Clusters salvos em clusters/ML-1M/umap/n_components128\\run_fasterpam\\ML-1M_cluster_run_fasterpam_k1500.csv\n",
      " - k = 2000\n",
      "Clusters salvos em clusters/ML-1M/umap/n_components128\\run_fasterpam\\ML-1M_cluster_run_fasterpam_k2000.csv\n",
      " - k = 2500\n",
      "Clusters salvos em clusters/ML-1M/umap/n_components128\\run_fasterpam\\ML-1M_cluster_run_fasterpam_k2500.csv\n",
      " - k = 3000\n",
      "Clusters salvos em clusters/ML-1M/umap/n_components128\\run_fasterpam\\ML-1M_cluster_run_fasterpam_k3000.csv\n",
      "Executando run_agnes\n",
      " - k = 2\n",
      "Clusters salvos em clusters/ML-1M/umap/n_components128\\run_agnes\\ML-1M_cluster_run_agnes_k2.csv\n",
      " - k = 5\n",
      "Clusters salvos em clusters/ML-1M/umap/n_components128\\run_agnes\\ML-1M_cluster_run_agnes_k5.csv\n",
      " - k = 10\n",
      "Clusters salvos em clusters/ML-1M/umap/n_components128\\run_agnes\\ML-1M_cluster_run_agnes_k10.csv\n",
      " - k = 30\n",
      "Clusters salvos em clusters/ML-1M/umap/n_components128\\run_agnes\\ML-1M_cluster_run_agnes_k30.csv\n",
      " - k = 50\n",
      "Clusters salvos em clusters/ML-1M/umap/n_components128\\run_agnes\\ML-1M_cluster_run_agnes_k50.csv\n",
      " - k = 100\n",
      "Clusters salvos em clusters/ML-1M/umap/n_components128\\run_agnes\\ML-1M_cluster_run_agnes_k100.csv\n",
      " - k = 150\n",
      "Clusters salvos em clusters/ML-1M/umap/n_components128\\run_agnes\\ML-1M_cluster_run_agnes_k150.csv\n",
      " - k = 200\n",
      "Clusters salvos em clusters/ML-1M/umap/n_components128\\run_agnes\\ML-1M_cluster_run_agnes_k200.csv\n",
      " - k = 400\n",
      "Clusters salvos em clusters/ML-1M/umap/n_components128\\run_agnes\\ML-1M_cluster_run_agnes_k400.csv\n",
      " - k = 500\n",
      "Clusters salvos em clusters/ML-1M/umap/n_components128\\run_agnes\\ML-1M_cluster_run_agnes_k500.csv\n",
      " - k = 750\n",
      "Clusters salvos em clusters/ML-1M/umap/n_components128\\run_agnes\\ML-1M_cluster_run_agnes_k750.csv\n",
      " - k = 1000\n",
      "Clusters salvos em clusters/ML-1M/umap/n_components128\\run_agnes\\ML-1M_cluster_run_agnes_k1000.csv\n",
      " - k = 1250\n",
      "Clusters salvos em clusters/ML-1M/umap/n_components128\\run_agnes\\ML-1M_cluster_run_agnes_k1250.csv\n",
      " - k = 1500\n",
      "Clusters salvos em clusters/ML-1M/umap/n_components128\\run_agnes\\ML-1M_cluster_run_agnes_k1500.csv\n",
      " - k = 2000\n",
      "Clusters salvos em clusters/ML-1M/umap/n_components128\\run_agnes\\ML-1M_cluster_run_agnes_k2000.csv\n",
      " - k = 2500\n",
      "Clusters salvos em clusters/ML-1M/umap/n_components128\\run_agnes\\ML-1M_cluster_run_agnes_k2500.csv\n",
      " - k = 3000\n",
      "Clusters salvos em clusters/ML-1M/umap/n_components128\\run_agnes\\ML-1M_cluster_run_agnes_k3000.csv\n",
      "Clusterização concluída e resultados salvos\n",
      "\n",
      " Embeddings reduzidos com umap e n_components 256\n",
      "Aplicando UMAP com n_components = 256...\n"
     ]
    },
    {
     "name": "stderr",
     "output_type": "stream",
     "text": [
      "C:\\Users\\cruzd\\AppData\\Local\\Packages\\PythonSoftwareFoundation.Python.3.12_qbz5n2kfra8p0\\LocalCache\\local-packages\\Python312\\site-packages\\sklearn\\utils\\deprecation.py:151: FutureWarning: 'force_all_finite' was renamed to 'ensure_all_finite' in 1.6 and will be removed in 1.8.\n",
      "  warnings.warn(\n",
      "C:\\Users\\cruzd\\AppData\\Local\\Packages\\PythonSoftwareFoundation.Python.3.12_qbz5n2kfra8p0\\LocalCache\\local-packages\\Python312\\site-packages\\umap\\umap_.py:1952: UserWarning: n_jobs value 1 overridden to 1 by setting random_state. Use no seed for parallelism.\n",
      "  warn(\n"
     ]
    },
    {
     "name": "stdout",
     "output_type": "stream",
     "text": [
      "Dimensionalidade reduzida de 1000 para 256\n",
      "Metodos com numero de clusters (k) como parametro ...\n",
      "Executando run_kmeans\n",
      " - k = 2\n",
      "Clusters salvos em clusters/ML-1M/umap/n_components256\\run_kmeans\\ML-1M_cluster_run_kmeans_k2.csv\n",
      " - k = 5\n",
      "Clusters salvos em clusters/ML-1M/umap/n_components256\\run_kmeans\\ML-1M_cluster_run_kmeans_k5.csv\n",
      " - k = 10\n",
      "Clusters salvos em clusters/ML-1M/umap/n_components256\\run_kmeans\\ML-1M_cluster_run_kmeans_k10.csv\n",
      " - k = 30\n",
      "Clusters salvos em clusters/ML-1M/umap/n_components256\\run_kmeans\\ML-1M_cluster_run_kmeans_k30.csv\n",
      " - k = 50\n",
      "Clusters salvos em clusters/ML-1M/umap/n_components256\\run_kmeans\\ML-1M_cluster_run_kmeans_k50.csv\n",
      " - k = 100\n",
      "Clusters salvos em clusters/ML-1M/umap/n_components256\\run_kmeans\\ML-1M_cluster_run_kmeans_k100.csv\n",
      " - k = 150\n",
      "Clusters salvos em clusters/ML-1M/umap/n_components256\\run_kmeans\\ML-1M_cluster_run_kmeans_k150.csv\n",
      " - k = 200\n",
      "Clusters salvos em clusters/ML-1M/umap/n_components256\\run_kmeans\\ML-1M_cluster_run_kmeans_k200.csv\n",
      " - k = 400\n",
      "Clusters salvos em clusters/ML-1M/umap/n_components256\\run_kmeans\\ML-1M_cluster_run_kmeans_k400.csv\n",
      " - k = 500\n",
      "Clusters salvos em clusters/ML-1M/umap/n_components256\\run_kmeans\\ML-1M_cluster_run_kmeans_k500.csv\n",
      " - k = 750\n",
      "Clusters salvos em clusters/ML-1M/umap/n_components256\\run_kmeans\\ML-1M_cluster_run_kmeans_k750.csv\n",
      " - k = 1000\n",
      "Clusters salvos em clusters/ML-1M/umap/n_components256\\run_kmeans\\ML-1M_cluster_run_kmeans_k1000.csv\n",
      " - k = 1250\n",
      "Clusters salvos em clusters/ML-1M/umap/n_components256\\run_kmeans\\ML-1M_cluster_run_kmeans_k1250.csv\n",
      " - k = 1500\n",
      "Clusters salvos em clusters/ML-1M/umap/n_components256\\run_kmeans\\ML-1M_cluster_run_kmeans_k1500.csv\n",
      " - k = 2000\n",
      "Clusters salvos em clusters/ML-1M/umap/n_components256\\run_kmeans\\ML-1M_cluster_run_kmeans_k2000.csv\n",
      " - k = 2500\n",
      "Clusters salvos em clusters/ML-1M/umap/n_components256\\run_kmeans\\ML-1M_cluster_run_kmeans_k2500.csv\n",
      " - k = 3000\n",
      "Clusters salvos em clusters/ML-1M/umap/n_components256\\run_kmeans\\ML-1M_cluster_run_kmeans_k3000.csv\n",
      "Executando run_fasterpam\n",
      " - k = 2\n",
      "Clusters salvos em clusters/ML-1M/umap/n_components256\\run_fasterpam\\ML-1M_cluster_run_fasterpam_k2.csv\n",
      " - k = 5\n",
      "Clusters salvos em clusters/ML-1M/umap/n_components256\\run_fasterpam\\ML-1M_cluster_run_fasterpam_k5.csv\n",
      " - k = 10\n",
      "Clusters salvos em clusters/ML-1M/umap/n_components256\\run_fasterpam\\ML-1M_cluster_run_fasterpam_k10.csv\n",
      " - k = 30\n",
      "Clusters salvos em clusters/ML-1M/umap/n_components256\\run_fasterpam\\ML-1M_cluster_run_fasterpam_k30.csv\n",
      " - k = 50\n",
      "Clusters salvos em clusters/ML-1M/umap/n_components256\\run_fasterpam\\ML-1M_cluster_run_fasterpam_k50.csv\n",
      " - k = 100\n",
      "Clusters salvos em clusters/ML-1M/umap/n_components256\\run_fasterpam\\ML-1M_cluster_run_fasterpam_k100.csv\n",
      " - k = 150\n",
      "Clusters salvos em clusters/ML-1M/umap/n_components256\\run_fasterpam\\ML-1M_cluster_run_fasterpam_k150.csv\n",
      " - k = 200\n",
      "Clusters salvos em clusters/ML-1M/umap/n_components256\\run_fasterpam\\ML-1M_cluster_run_fasterpam_k200.csv\n",
      " - k = 400\n",
      "Clusters salvos em clusters/ML-1M/umap/n_components256\\run_fasterpam\\ML-1M_cluster_run_fasterpam_k400.csv\n",
      " - k = 500\n",
      "Clusters salvos em clusters/ML-1M/umap/n_components256\\run_fasterpam\\ML-1M_cluster_run_fasterpam_k500.csv\n",
      " - k = 750\n",
      "Clusters salvos em clusters/ML-1M/umap/n_components256\\run_fasterpam\\ML-1M_cluster_run_fasterpam_k750.csv\n",
      " - k = 1000\n",
      "Clusters salvos em clusters/ML-1M/umap/n_components256\\run_fasterpam\\ML-1M_cluster_run_fasterpam_k1000.csv\n",
      " - k = 1250\n",
      "Clusters salvos em clusters/ML-1M/umap/n_components256\\run_fasterpam\\ML-1M_cluster_run_fasterpam_k1250.csv\n",
      " - k = 1500\n",
      "Clusters salvos em clusters/ML-1M/umap/n_components256\\run_fasterpam\\ML-1M_cluster_run_fasterpam_k1500.csv\n",
      " - k = 2000\n",
      "Clusters salvos em clusters/ML-1M/umap/n_components256\\run_fasterpam\\ML-1M_cluster_run_fasterpam_k2000.csv\n",
      " - k = 2500\n",
      "Clusters salvos em clusters/ML-1M/umap/n_components256\\run_fasterpam\\ML-1M_cluster_run_fasterpam_k2500.csv\n",
      " - k = 3000\n",
      "Clusters salvos em clusters/ML-1M/umap/n_components256\\run_fasterpam\\ML-1M_cluster_run_fasterpam_k3000.csv\n",
      "Executando run_agnes\n",
      " - k = 2\n",
      "Clusters salvos em clusters/ML-1M/umap/n_components256\\run_agnes\\ML-1M_cluster_run_agnes_k2.csv\n",
      " - k = 5\n",
      "Clusters salvos em clusters/ML-1M/umap/n_components256\\run_agnes\\ML-1M_cluster_run_agnes_k5.csv\n",
      " - k = 10\n",
      "Clusters salvos em clusters/ML-1M/umap/n_components256\\run_agnes\\ML-1M_cluster_run_agnes_k10.csv\n",
      " - k = 30\n",
      "Clusters salvos em clusters/ML-1M/umap/n_components256\\run_agnes\\ML-1M_cluster_run_agnes_k30.csv\n",
      " - k = 50\n",
      "Clusters salvos em clusters/ML-1M/umap/n_components256\\run_agnes\\ML-1M_cluster_run_agnes_k50.csv\n",
      " - k = 100\n",
      "Clusters salvos em clusters/ML-1M/umap/n_components256\\run_agnes\\ML-1M_cluster_run_agnes_k100.csv\n",
      " - k = 150\n",
      "Clusters salvos em clusters/ML-1M/umap/n_components256\\run_agnes\\ML-1M_cluster_run_agnes_k150.csv\n",
      " - k = 200\n",
      "Clusters salvos em clusters/ML-1M/umap/n_components256\\run_agnes\\ML-1M_cluster_run_agnes_k200.csv\n",
      " - k = 400\n",
      "Clusters salvos em clusters/ML-1M/umap/n_components256\\run_agnes\\ML-1M_cluster_run_agnes_k400.csv\n",
      " - k = 500\n",
      "Clusters salvos em clusters/ML-1M/umap/n_components256\\run_agnes\\ML-1M_cluster_run_agnes_k500.csv\n",
      " - k = 750\n",
      "Clusters salvos em clusters/ML-1M/umap/n_components256\\run_agnes\\ML-1M_cluster_run_agnes_k750.csv\n",
      " - k = 1000\n",
      "Clusters salvos em clusters/ML-1M/umap/n_components256\\run_agnes\\ML-1M_cluster_run_agnes_k1000.csv\n",
      " - k = 1250\n",
      "Clusters salvos em clusters/ML-1M/umap/n_components256\\run_agnes\\ML-1M_cluster_run_agnes_k1250.csv\n",
      " - k = 1500\n",
      "Clusters salvos em clusters/ML-1M/umap/n_components256\\run_agnes\\ML-1M_cluster_run_agnes_k1500.csv\n",
      " - k = 2000\n",
      "Clusters salvos em clusters/ML-1M/umap/n_components256\\run_agnes\\ML-1M_cluster_run_agnes_k2000.csv\n",
      " - k = 2500\n",
      "Clusters salvos em clusters/ML-1M/umap/n_components256\\run_agnes\\ML-1M_cluster_run_agnes_k2500.csv\n",
      " - k = 3000\n",
      "Clusters salvos em clusters/ML-1M/umap/n_components256\\run_agnes\\ML-1M_cluster_run_agnes_k3000.csv\n",
      "Clusterização concluída e resultados salvos\n",
      "\n",
      " Embeddings reduzidos com umap e n_components 512\n",
      "Aplicando UMAP com n_components = 512...\n"
     ]
    },
    {
     "name": "stderr",
     "output_type": "stream",
     "text": [
      "C:\\Users\\cruzd\\AppData\\Local\\Packages\\PythonSoftwareFoundation.Python.3.12_qbz5n2kfra8p0\\LocalCache\\local-packages\\Python312\\site-packages\\sklearn\\utils\\deprecation.py:151: FutureWarning: 'force_all_finite' was renamed to 'ensure_all_finite' in 1.6 and will be removed in 1.8.\n",
      "  warnings.warn(\n",
      "C:\\Users\\cruzd\\AppData\\Local\\Packages\\PythonSoftwareFoundation.Python.3.12_qbz5n2kfra8p0\\LocalCache\\local-packages\\Python312\\site-packages\\umap\\umap_.py:1952: UserWarning: n_jobs value 1 overridden to 1 by setting random_state. Use no seed for parallelism.\n",
      "  warn(\n"
     ]
    },
    {
     "name": "stdout",
     "output_type": "stream",
     "text": [
      "Dimensionalidade reduzida de 1000 para 512\n",
      "Metodos com numero de clusters (k) como parametro ...\n",
      "Executando run_kmeans\n",
      " - k = 2\n",
      "Clusters salvos em clusters/ML-1M/umap/n_components512\\run_kmeans\\ML-1M_cluster_run_kmeans_k2.csv\n",
      " - k = 5\n",
      "Clusters salvos em clusters/ML-1M/umap/n_components512\\run_kmeans\\ML-1M_cluster_run_kmeans_k5.csv\n",
      " - k = 10\n",
      "Clusters salvos em clusters/ML-1M/umap/n_components512\\run_kmeans\\ML-1M_cluster_run_kmeans_k10.csv\n",
      " - k = 30\n",
      "Clusters salvos em clusters/ML-1M/umap/n_components512\\run_kmeans\\ML-1M_cluster_run_kmeans_k30.csv\n",
      " - k = 50\n",
      "Clusters salvos em clusters/ML-1M/umap/n_components512\\run_kmeans\\ML-1M_cluster_run_kmeans_k50.csv\n",
      " - k = 100\n",
      "Clusters salvos em clusters/ML-1M/umap/n_components512\\run_kmeans\\ML-1M_cluster_run_kmeans_k100.csv\n",
      " - k = 150\n",
      "Clusters salvos em clusters/ML-1M/umap/n_components512\\run_kmeans\\ML-1M_cluster_run_kmeans_k150.csv\n",
      " - k = 200\n",
      "Clusters salvos em clusters/ML-1M/umap/n_components512\\run_kmeans\\ML-1M_cluster_run_kmeans_k200.csv\n",
      " - k = 400\n",
      "Clusters salvos em clusters/ML-1M/umap/n_components512\\run_kmeans\\ML-1M_cluster_run_kmeans_k400.csv\n",
      " - k = 500\n",
      "Clusters salvos em clusters/ML-1M/umap/n_components512\\run_kmeans\\ML-1M_cluster_run_kmeans_k500.csv\n",
      " - k = 750\n",
      "Clusters salvos em clusters/ML-1M/umap/n_components512\\run_kmeans\\ML-1M_cluster_run_kmeans_k750.csv\n",
      " - k = 1000\n",
      "Clusters salvos em clusters/ML-1M/umap/n_components512\\run_kmeans\\ML-1M_cluster_run_kmeans_k1000.csv\n",
      " - k = 1250\n",
      "Clusters salvos em clusters/ML-1M/umap/n_components512\\run_kmeans\\ML-1M_cluster_run_kmeans_k1250.csv\n",
      " - k = 1500\n",
      "Clusters salvos em clusters/ML-1M/umap/n_components512\\run_kmeans\\ML-1M_cluster_run_kmeans_k1500.csv\n",
      " - k = 2000\n",
      "Clusters salvos em clusters/ML-1M/umap/n_components512\\run_kmeans\\ML-1M_cluster_run_kmeans_k2000.csv\n",
      " - k = 2500\n",
      "Clusters salvos em clusters/ML-1M/umap/n_components512\\run_kmeans\\ML-1M_cluster_run_kmeans_k2500.csv\n",
      " - k = 3000\n",
      "Clusters salvos em clusters/ML-1M/umap/n_components512\\run_kmeans\\ML-1M_cluster_run_kmeans_k3000.csv\n",
      "Executando run_fasterpam\n",
      " - k = 2\n",
      "Clusters salvos em clusters/ML-1M/umap/n_components512\\run_fasterpam\\ML-1M_cluster_run_fasterpam_k2.csv\n",
      " - k = 5\n",
      "Clusters salvos em clusters/ML-1M/umap/n_components512\\run_fasterpam\\ML-1M_cluster_run_fasterpam_k5.csv\n",
      " - k = 10\n",
      "Clusters salvos em clusters/ML-1M/umap/n_components512\\run_fasterpam\\ML-1M_cluster_run_fasterpam_k10.csv\n",
      " - k = 30\n",
      "Clusters salvos em clusters/ML-1M/umap/n_components512\\run_fasterpam\\ML-1M_cluster_run_fasterpam_k30.csv\n",
      " - k = 50\n",
      "Clusters salvos em clusters/ML-1M/umap/n_components512\\run_fasterpam\\ML-1M_cluster_run_fasterpam_k50.csv\n",
      " - k = 100\n",
      "Clusters salvos em clusters/ML-1M/umap/n_components512\\run_fasterpam\\ML-1M_cluster_run_fasterpam_k100.csv\n",
      " - k = 150\n",
      "Clusters salvos em clusters/ML-1M/umap/n_components512\\run_fasterpam\\ML-1M_cluster_run_fasterpam_k150.csv\n",
      " - k = 200\n",
      "Clusters salvos em clusters/ML-1M/umap/n_components512\\run_fasterpam\\ML-1M_cluster_run_fasterpam_k200.csv\n",
      " - k = 400\n",
      "Clusters salvos em clusters/ML-1M/umap/n_components512\\run_fasterpam\\ML-1M_cluster_run_fasterpam_k400.csv\n",
      " - k = 500\n",
      "Clusters salvos em clusters/ML-1M/umap/n_components512\\run_fasterpam\\ML-1M_cluster_run_fasterpam_k500.csv\n",
      " - k = 750\n",
      "Clusters salvos em clusters/ML-1M/umap/n_components512\\run_fasterpam\\ML-1M_cluster_run_fasterpam_k750.csv\n",
      " - k = 1000\n",
      "Clusters salvos em clusters/ML-1M/umap/n_components512\\run_fasterpam\\ML-1M_cluster_run_fasterpam_k1000.csv\n",
      " - k = 1250\n",
      "Clusters salvos em clusters/ML-1M/umap/n_components512\\run_fasterpam\\ML-1M_cluster_run_fasterpam_k1250.csv\n",
      " - k = 1500\n",
      "Clusters salvos em clusters/ML-1M/umap/n_components512\\run_fasterpam\\ML-1M_cluster_run_fasterpam_k1500.csv\n",
      " - k = 2000\n",
      "Clusters salvos em clusters/ML-1M/umap/n_components512\\run_fasterpam\\ML-1M_cluster_run_fasterpam_k2000.csv\n",
      " - k = 2500\n",
      "Clusters salvos em clusters/ML-1M/umap/n_components512\\run_fasterpam\\ML-1M_cluster_run_fasterpam_k2500.csv\n",
      " - k = 3000\n",
      "Clusters salvos em clusters/ML-1M/umap/n_components512\\run_fasterpam\\ML-1M_cluster_run_fasterpam_k3000.csv\n",
      "Executando run_agnes\n",
      " - k = 2\n",
      "Clusters salvos em clusters/ML-1M/umap/n_components512\\run_agnes\\ML-1M_cluster_run_agnes_k2.csv\n",
      " - k = 5\n",
      "Clusters salvos em clusters/ML-1M/umap/n_components512\\run_agnes\\ML-1M_cluster_run_agnes_k5.csv\n",
      " - k = 10\n",
      "Clusters salvos em clusters/ML-1M/umap/n_components512\\run_agnes\\ML-1M_cluster_run_agnes_k10.csv\n",
      " - k = 30\n",
      "Clusters salvos em clusters/ML-1M/umap/n_components512\\run_agnes\\ML-1M_cluster_run_agnes_k30.csv\n",
      " - k = 50\n",
      "Clusters salvos em clusters/ML-1M/umap/n_components512\\run_agnes\\ML-1M_cluster_run_agnes_k50.csv\n",
      " - k = 100\n",
      "Clusters salvos em clusters/ML-1M/umap/n_components512\\run_agnes\\ML-1M_cluster_run_agnes_k100.csv\n",
      " - k = 150\n",
      "Clusters salvos em clusters/ML-1M/umap/n_components512\\run_agnes\\ML-1M_cluster_run_agnes_k150.csv\n",
      " - k = 200\n",
      "Clusters salvos em clusters/ML-1M/umap/n_components512\\run_agnes\\ML-1M_cluster_run_agnes_k200.csv\n",
      " - k = 400\n",
      "Clusters salvos em clusters/ML-1M/umap/n_components512\\run_agnes\\ML-1M_cluster_run_agnes_k400.csv\n",
      " - k = 500\n",
      "Clusters salvos em clusters/ML-1M/umap/n_components512\\run_agnes\\ML-1M_cluster_run_agnes_k500.csv\n",
      " - k = 750\n",
      "Clusters salvos em clusters/ML-1M/umap/n_components512\\run_agnes\\ML-1M_cluster_run_agnes_k750.csv\n",
      " - k = 1000\n",
      "Clusters salvos em clusters/ML-1M/umap/n_components512\\run_agnes\\ML-1M_cluster_run_agnes_k1000.csv\n",
      " - k = 1250\n",
      "Clusters salvos em clusters/ML-1M/umap/n_components512\\run_agnes\\ML-1M_cluster_run_agnes_k1250.csv\n",
      " - k = 1500\n",
      "Clusters salvos em clusters/ML-1M/umap/n_components512\\run_agnes\\ML-1M_cluster_run_agnes_k1500.csv\n",
      " - k = 2000\n",
      "Clusters salvos em clusters/ML-1M/umap/n_components512\\run_agnes\\ML-1M_cluster_run_agnes_k2000.csv\n",
      " - k = 2500\n",
      "Clusters salvos em clusters/ML-1M/umap/n_components512\\run_agnes\\ML-1M_cluster_run_agnes_k2500.csv\n",
      " - k = 3000\n",
      "Clusters salvos em clusters/ML-1M/umap/n_components512\\run_agnes\\ML-1M_cluster_run_agnes_k3000.csv\n",
      "Clusterização concluída e resultados salvos\n",
      "\n",
      "Todos os testes para métodos com k fixo concluídos\n",
      "\n",
      " Embeddings reduzidos com umap e n_components 32\n",
      "Aplicando UMAP com n_components = 32...\n"
     ]
    },
    {
     "name": "stderr",
     "output_type": "stream",
     "text": [
      "C:\\Users\\cruzd\\AppData\\Local\\Packages\\PythonSoftwareFoundation.Python.3.12_qbz5n2kfra8p0\\LocalCache\\local-packages\\Python312\\site-packages\\sklearn\\utils\\deprecation.py:151: FutureWarning: 'force_all_finite' was renamed to 'ensure_all_finite' in 1.6 and will be removed in 1.8.\n",
      "  warnings.warn(\n",
      "C:\\Users\\cruzd\\AppData\\Local\\Packages\\PythonSoftwareFoundation.Python.3.12_qbz5n2kfra8p0\\LocalCache\\local-packages\\Python312\\site-packages\\umap\\umap_.py:1952: UserWarning: n_jobs value 1 overridden to 1 by setting random_state. Use no seed for parallelism.\n",
      "  warn(\n"
     ]
    },
    {
     "name": "stdout",
     "output_type": "stream",
     "text": [
      "Dimensionalidade reduzida de 1000 para 32\n",
      "Metodos com numero de clusters (k) como parametro ...\n",
      "Executando run_kmeans\n",
      " - k = 2\n",
      "Clusters salvos em clusters/Beauty/umap/n_components32\\run_kmeans\\Beauty_cluster_run_kmeans_k2.csv\n",
      " - k = 5\n",
      "Clusters salvos em clusters/Beauty/umap/n_components32\\run_kmeans\\Beauty_cluster_run_kmeans_k5.csv\n",
      " - k = 10\n",
      "Clusters salvos em clusters/Beauty/umap/n_components32\\run_kmeans\\Beauty_cluster_run_kmeans_k10.csv\n",
      " - k = 30\n",
      "Clusters salvos em clusters/Beauty/umap/n_components32\\run_kmeans\\Beauty_cluster_run_kmeans_k30.csv\n",
      " - k = 50\n",
      "Clusters salvos em clusters/Beauty/umap/n_components32\\run_kmeans\\Beauty_cluster_run_kmeans_k50.csv\n",
      " - k = 100\n",
      "Clusters salvos em clusters/Beauty/umap/n_components32\\run_kmeans\\Beauty_cluster_run_kmeans_k100.csv\n",
      " - k = 150\n",
      "Clusters salvos em clusters/Beauty/umap/n_components32\\run_kmeans\\Beauty_cluster_run_kmeans_k150.csv\n",
      " - k = 200\n",
      "Clusters salvos em clusters/Beauty/umap/n_components32\\run_kmeans\\Beauty_cluster_run_kmeans_k200.csv\n",
      " - k = 400\n",
      "Clusters salvos em clusters/Beauty/umap/n_components32\\run_kmeans\\Beauty_cluster_run_kmeans_k400.csv\n",
      " - k = 500\n",
      "Clusters salvos em clusters/Beauty/umap/n_components32\\run_kmeans\\Beauty_cluster_run_kmeans_k500.csv\n",
      " - k = 750\n",
      "Clusters salvos em clusters/Beauty/umap/n_components32\\run_kmeans\\Beauty_cluster_run_kmeans_k750.csv\n",
      " - k = 1000\n",
      "Clusters salvos em clusters/Beauty/umap/n_components32\\run_kmeans\\Beauty_cluster_run_kmeans_k1000.csv\n",
      " - k = 1250\n",
      "Clusters salvos em clusters/Beauty/umap/n_components32\\run_kmeans\\Beauty_cluster_run_kmeans_k1250.csv\n",
      " - k = 1500\n",
      "Clusters salvos em clusters/Beauty/umap/n_components32\\run_kmeans\\Beauty_cluster_run_kmeans_k1500.csv\n",
      " - k = 2000\n",
      "Clusters salvos em clusters/Beauty/umap/n_components32\\run_kmeans\\Beauty_cluster_run_kmeans_k2000.csv\n",
      " - k = 2500\n",
      "Clusters salvos em clusters/Beauty/umap/n_components32\\run_kmeans\\Beauty_cluster_run_kmeans_k2500.csv\n",
      " - k = 3000\n",
      "Clusters salvos em clusters/Beauty/umap/n_components32\\run_kmeans\\Beauty_cluster_run_kmeans_k3000.csv\n",
      "Executando run_agnes\n",
      " - k = 2\n",
      "Clusters salvos em clusters/Beauty/umap/n_components32\\run_agnes\\Beauty_cluster_run_agnes_k2.csv\n",
      " - k = 5\n",
      "Clusters salvos em clusters/Beauty/umap/n_components32\\run_agnes\\Beauty_cluster_run_agnes_k5.csv\n",
      " - k = 10\n",
      "Clusters salvos em clusters/Beauty/umap/n_components32\\run_agnes\\Beauty_cluster_run_agnes_k10.csv\n",
      " - k = 30\n",
      "Clusters salvos em clusters/Beauty/umap/n_components32\\run_agnes\\Beauty_cluster_run_agnes_k30.csv\n",
      " - k = 50\n",
      "Clusters salvos em clusters/Beauty/umap/n_components32\\run_agnes\\Beauty_cluster_run_agnes_k50.csv\n",
      " - k = 100\n",
      "Clusters salvos em clusters/Beauty/umap/n_components32\\run_agnes\\Beauty_cluster_run_agnes_k100.csv\n",
      " - k = 150\n",
      "Clusters salvos em clusters/Beauty/umap/n_components32\\run_agnes\\Beauty_cluster_run_agnes_k150.csv\n",
      " - k = 200\n",
      "Clusters salvos em clusters/Beauty/umap/n_components32\\run_agnes\\Beauty_cluster_run_agnes_k200.csv\n",
      " - k = 400\n",
      "Clusters salvos em clusters/Beauty/umap/n_components32\\run_agnes\\Beauty_cluster_run_agnes_k400.csv\n",
      " - k = 500\n",
      "Clusters salvos em clusters/Beauty/umap/n_components32\\run_agnes\\Beauty_cluster_run_agnes_k500.csv\n",
      " - k = 750\n",
      "Clusters salvos em clusters/Beauty/umap/n_components32\\run_agnes\\Beauty_cluster_run_agnes_k750.csv\n",
      " - k = 1000\n",
      "Clusters salvos em clusters/Beauty/umap/n_components32\\run_agnes\\Beauty_cluster_run_agnes_k1000.csv\n",
      " - k = 1250\n",
      "Clusters salvos em clusters/Beauty/umap/n_components32\\run_agnes\\Beauty_cluster_run_agnes_k1250.csv\n",
      " - k = 1500\n",
      "Clusters salvos em clusters/Beauty/umap/n_components32\\run_agnes\\Beauty_cluster_run_agnes_k1500.csv\n",
      " - k = 2000\n",
      "Clusters salvos em clusters/Beauty/umap/n_components32\\run_agnes\\Beauty_cluster_run_agnes_k2000.csv\n",
      " - k = 2500\n",
      "Clusters salvos em clusters/Beauty/umap/n_components32\\run_agnes\\Beauty_cluster_run_agnes_k2500.csv\n",
      " - k = 3000\n",
      "Clusters salvos em clusters/Beauty/umap/n_components32\\run_agnes\\Beauty_cluster_run_agnes_k3000.csv\n",
      "Executando run_fasterpam\n",
      " - k = 2\n",
      "Clusters salvos em clusters/Beauty/umap/n_components32\\run_fasterpam\\Beauty_cluster_run_fasterpam_k2.csv\n",
      " - k = 5\n",
      "Clusters salvos em clusters/Beauty/umap/n_components32\\run_fasterpam\\Beauty_cluster_run_fasterpam_k5.csv\n",
      " - k = 10\n",
      "Clusters salvos em clusters/Beauty/umap/n_components32\\run_fasterpam\\Beauty_cluster_run_fasterpam_k10.csv\n",
      " - k = 30\n",
      "Clusters salvos em clusters/Beauty/umap/n_components32\\run_fasterpam\\Beauty_cluster_run_fasterpam_k30.csv\n",
      " - k = 50\n",
      "Clusters salvos em clusters/Beauty/umap/n_components32\\run_fasterpam\\Beauty_cluster_run_fasterpam_k50.csv\n",
      " - k = 100\n",
      "Clusters salvos em clusters/Beauty/umap/n_components32\\run_fasterpam\\Beauty_cluster_run_fasterpam_k100.csv\n",
      " - k = 150\n",
      "Clusters salvos em clusters/Beauty/umap/n_components32\\run_fasterpam\\Beauty_cluster_run_fasterpam_k150.csv\n",
      " - k = 200\n",
      "Clusters salvos em clusters/Beauty/umap/n_components32\\run_fasterpam\\Beauty_cluster_run_fasterpam_k200.csv\n",
      " - k = 400\n",
      "Clusters salvos em clusters/Beauty/umap/n_components32\\run_fasterpam\\Beauty_cluster_run_fasterpam_k400.csv\n",
      " - k = 500\n",
      "Clusters salvos em clusters/Beauty/umap/n_components32\\run_fasterpam\\Beauty_cluster_run_fasterpam_k500.csv\n",
      " - k = 750\n",
      "Clusters salvos em clusters/Beauty/umap/n_components32\\run_fasterpam\\Beauty_cluster_run_fasterpam_k750.csv\n",
      " - k = 1000\n",
      "Clusters salvos em clusters/Beauty/umap/n_components32\\run_fasterpam\\Beauty_cluster_run_fasterpam_k1000.csv\n",
      " - k = 1250\n",
      "Clusters salvos em clusters/Beauty/umap/n_components32\\run_fasterpam\\Beauty_cluster_run_fasterpam_k1250.csv\n",
      " - k = 1500\n",
      "Clusters salvos em clusters/Beauty/umap/n_components32\\run_fasterpam\\Beauty_cluster_run_fasterpam_k1500.csv\n",
      " - k = 2000\n",
      "Clusters salvos em clusters/Beauty/umap/n_components32\\run_fasterpam\\Beauty_cluster_run_fasterpam_k2000.csv\n",
      " - k = 2500\n",
      "Clusters salvos em clusters/Beauty/umap/n_components32\\run_fasterpam\\Beauty_cluster_run_fasterpam_k2500.csv\n",
      " - k = 3000\n",
      "Clusters salvos em clusters/Beauty/umap/n_components32\\run_fasterpam\\Beauty_cluster_run_fasterpam_k3000.csv\n",
      "Clusterização concluída e resultados salvos\n",
      "\n",
      " Embeddings reduzidos com umap e n_components 64\n",
      "Aplicando UMAP com n_components = 64...\n"
     ]
    },
    {
     "name": "stderr",
     "output_type": "stream",
     "text": [
      "C:\\Users\\cruzd\\AppData\\Local\\Packages\\PythonSoftwareFoundation.Python.3.12_qbz5n2kfra8p0\\LocalCache\\local-packages\\Python312\\site-packages\\sklearn\\utils\\deprecation.py:151: FutureWarning: 'force_all_finite' was renamed to 'ensure_all_finite' in 1.6 and will be removed in 1.8.\n",
      "  warnings.warn(\n",
      "C:\\Users\\cruzd\\AppData\\Local\\Packages\\PythonSoftwareFoundation.Python.3.12_qbz5n2kfra8p0\\LocalCache\\local-packages\\Python312\\site-packages\\umap\\umap_.py:1952: UserWarning: n_jobs value 1 overridden to 1 by setting random_state. Use no seed for parallelism.\n",
      "  warn(\n"
     ]
    },
    {
     "name": "stdout",
     "output_type": "stream",
     "text": [
      "Dimensionalidade reduzida de 1000 para 64\n",
      "Metodos com numero de clusters (k) como parametro ...\n",
      "Executando run_kmeans\n",
      " - k = 2\n",
      "Clusters salvos em clusters/Beauty/umap/n_components64\\run_kmeans\\Beauty_cluster_run_kmeans_k2.csv\n",
      " - k = 5\n",
      "Clusters salvos em clusters/Beauty/umap/n_components64\\run_kmeans\\Beauty_cluster_run_kmeans_k5.csv\n",
      " - k = 10\n",
      "Clusters salvos em clusters/Beauty/umap/n_components64\\run_kmeans\\Beauty_cluster_run_kmeans_k10.csv\n",
      " - k = 30\n",
      "Clusters salvos em clusters/Beauty/umap/n_components64\\run_kmeans\\Beauty_cluster_run_kmeans_k30.csv\n",
      " - k = 50\n",
      "Clusters salvos em clusters/Beauty/umap/n_components64\\run_kmeans\\Beauty_cluster_run_kmeans_k50.csv\n",
      " - k = 100\n",
      "Clusters salvos em clusters/Beauty/umap/n_components64\\run_kmeans\\Beauty_cluster_run_kmeans_k100.csv\n",
      " - k = 150\n",
      "Clusters salvos em clusters/Beauty/umap/n_components64\\run_kmeans\\Beauty_cluster_run_kmeans_k150.csv\n",
      " - k = 200\n",
      "Clusters salvos em clusters/Beauty/umap/n_components64\\run_kmeans\\Beauty_cluster_run_kmeans_k200.csv\n",
      " - k = 400\n",
      "Clusters salvos em clusters/Beauty/umap/n_components64\\run_kmeans\\Beauty_cluster_run_kmeans_k400.csv\n",
      " - k = 500\n",
      "Clusters salvos em clusters/Beauty/umap/n_components64\\run_kmeans\\Beauty_cluster_run_kmeans_k500.csv\n",
      " - k = 750\n",
      "Clusters salvos em clusters/Beauty/umap/n_components64\\run_kmeans\\Beauty_cluster_run_kmeans_k750.csv\n",
      " - k = 1000\n",
      "Clusters salvos em clusters/Beauty/umap/n_components64\\run_kmeans\\Beauty_cluster_run_kmeans_k1000.csv\n",
      " - k = 1250\n",
      "Clusters salvos em clusters/Beauty/umap/n_components64\\run_kmeans\\Beauty_cluster_run_kmeans_k1250.csv\n",
      " - k = 1500\n",
      "Clusters salvos em clusters/Beauty/umap/n_components64\\run_kmeans\\Beauty_cluster_run_kmeans_k1500.csv\n",
      " - k = 2000\n",
      "Clusters salvos em clusters/Beauty/umap/n_components64\\run_kmeans\\Beauty_cluster_run_kmeans_k2000.csv\n",
      " - k = 2500\n",
      "Clusters salvos em clusters/Beauty/umap/n_components64\\run_kmeans\\Beauty_cluster_run_kmeans_k2500.csv\n",
      " - k = 3000\n",
      "Clusters salvos em clusters/Beauty/umap/n_components64\\run_kmeans\\Beauty_cluster_run_kmeans_k3000.csv\n",
      "Executando run_agnes\n",
      " - k = 2\n",
      "Clusters salvos em clusters/Beauty/umap/n_components64\\run_agnes\\Beauty_cluster_run_agnes_k2.csv\n",
      " - k = 5\n",
      "Clusters salvos em clusters/Beauty/umap/n_components64\\run_agnes\\Beauty_cluster_run_agnes_k5.csv\n",
      " - k = 10\n",
      "Clusters salvos em clusters/Beauty/umap/n_components64\\run_agnes\\Beauty_cluster_run_agnes_k10.csv\n",
      " - k = 30\n",
      "Clusters salvos em clusters/Beauty/umap/n_components64\\run_agnes\\Beauty_cluster_run_agnes_k30.csv\n",
      " - k = 50\n",
      "Clusters salvos em clusters/Beauty/umap/n_components64\\run_agnes\\Beauty_cluster_run_agnes_k50.csv\n",
      " - k = 100\n",
      "Clusters salvos em clusters/Beauty/umap/n_components64\\run_agnes\\Beauty_cluster_run_agnes_k100.csv\n",
      " - k = 150\n",
      "Clusters salvos em clusters/Beauty/umap/n_components64\\run_agnes\\Beauty_cluster_run_agnes_k150.csv\n",
      " - k = 200\n",
      "Clusters salvos em clusters/Beauty/umap/n_components64\\run_agnes\\Beauty_cluster_run_agnes_k200.csv\n",
      " - k = 400\n",
      "Clusters salvos em clusters/Beauty/umap/n_components64\\run_agnes\\Beauty_cluster_run_agnes_k400.csv\n",
      " - k = 500\n",
      "Clusters salvos em clusters/Beauty/umap/n_components64\\run_agnes\\Beauty_cluster_run_agnes_k500.csv\n",
      " - k = 750\n",
      "Clusters salvos em clusters/Beauty/umap/n_components64\\run_agnes\\Beauty_cluster_run_agnes_k750.csv\n",
      " - k = 1000\n",
      "Clusters salvos em clusters/Beauty/umap/n_components64\\run_agnes\\Beauty_cluster_run_agnes_k1000.csv\n",
      " - k = 1250\n",
      "Clusters salvos em clusters/Beauty/umap/n_components64\\run_agnes\\Beauty_cluster_run_agnes_k1250.csv\n",
      " - k = 1500\n",
      "Clusters salvos em clusters/Beauty/umap/n_components64\\run_agnes\\Beauty_cluster_run_agnes_k1500.csv\n",
      " - k = 2000\n",
      "Clusters salvos em clusters/Beauty/umap/n_components64\\run_agnes\\Beauty_cluster_run_agnes_k2000.csv\n",
      " - k = 2500\n",
      "Clusters salvos em clusters/Beauty/umap/n_components64\\run_agnes\\Beauty_cluster_run_agnes_k2500.csv\n",
      " - k = 3000\n",
      "Clusters salvos em clusters/Beauty/umap/n_components64\\run_agnes\\Beauty_cluster_run_agnes_k3000.csv\n",
      "Executando run_fasterpam\n",
      " - k = 2\n",
      "Clusters salvos em clusters/Beauty/umap/n_components64\\run_fasterpam\\Beauty_cluster_run_fasterpam_k2.csv\n",
      " - k = 5\n",
      "Clusters salvos em clusters/Beauty/umap/n_components64\\run_fasterpam\\Beauty_cluster_run_fasterpam_k5.csv\n",
      " - k = 10\n",
      "Clusters salvos em clusters/Beauty/umap/n_components64\\run_fasterpam\\Beauty_cluster_run_fasterpam_k10.csv\n",
      " - k = 30\n",
      "Clusters salvos em clusters/Beauty/umap/n_components64\\run_fasterpam\\Beauty_cluster_run_fasterpam_k30.csv\n",
      " - k = 50\n",
      "Clusters salvos em clusters/Beauty/umap/n_components64\\run_fasterpam\\Beauty_cluster_run_fasterpam_k50.csv\n",
      " - k = 100\n",
      "Clusters salvos em clusters/Beauty/umap/n_components64\\run_fasterpam\\Beauty_cluster_run_fasterpam_k100.csv\n",
      " - k = 150\n",
      "Clusters salvos em clusters/Beauty/umap/n_components64\\run_fasterpam\\Beauty_cluster_run_fasterpam_k150.csv\n",
      " - k = 200\n",
      "Clusters salvos em clusters/Beauty/umap/n_components64\\run_fasterpam\\Beauty_cluster_run_fasterpam_k200.csv\n",
      " - k = 400\n",
      "Clusters salvos em clusters/Beauty/umap/n_components64\\run_fasterpam\\Beauty_cluster_run_fasterpam_k400.csv\n",
      " - k = 500\n",
      "Clusters salvos em clusters/Beauty/umap/n_components64\\run_fasterpam\\Beauty_cluster_run_fasterpam_k500.csv\n",
      " - k = 750\n",
      "Clusters salvos em clusters/Beauty/umap/n_components64\\run_fasterpam\\Beauty_cluster_run_fasterpam_k750.csv\n",
      " - k = 1000\n",
      "Clusters salvos em clusters/Beauty/umap/n_components64\\run_fasterpam\\Beauty_cluster_run_fasterpam_k1000.csv\n",
      " - k = 1250\n",
      "Clusters salvos em clusters/Beauty/umap/n_components64\\run_fasterpam\\Beauty_cluster_run_fasterpam_k1250.csv\n",
      " - k = 1500\n",
      "Clusters salvos em clusters/Beauty/umap/n_components64\\run_fasterpam\\Beauty_cluster_run_fasterpam_k1500.csv\n",
      " - k = 2000\n",
      "Clusters salvos em clusters/Beauty/umap/n_components64\\run_fasterpam\\Beauty_cluster_run_fasterpam_k2000.csv\n",
      " - k = 2500\n",
      "Clusters salvos em clusters/Beauty/umap/n_components64\\run_fasterpam\\Beauty_cluster_run_fasterpam_k2500.csv\n",
      " - k = 3000\n",
      "Clusters salvos em clusters/Beauty/umap/n_components64\\run_fasterpam\\Beauty_cluster_run_fasterpam_k3000.csv\n",
      "Clusterização concluída e resultados salvos\n",
      "\n",
      " Embeddings reduzidos com umap e n_components 128\n",
      "Aplicando UMAP com n_components = 128...\n"
     ]
    },
    {
     "name": "stderr",
     "output_type": "stream",
     "text": [
      "C:\\Users\\cruzd\\AppData\\Local\\Packages\\PythonSoftwareFoundation.Python.3.12_qbz5n2kfra8p0\\LocalCache\\local-packages\\Python312\\site-packages\\sklearn\\utils\\deprecation.py:151: FutureWarning: 'force_all_finite' was renamed to 'ensure_all_finite' in 1.6 and will be removed in 1.8.\n",
      "  warnings.warn(\n",
      "C:\\Users\\cruzd\\AppData\\Local\\Packages\\PythonSoftwareFoundation.Python.3.12_qbz5n2kfra8p0\\LocalCache\\local-packages\\Python312\\site-packages\\umap\\umap_.py:1952: UserWarning: n_jobs value 1 overridden to 1 by setting random_state. Use no seed for parallelism.\n",
      "  warn(\n"
     ]
    },
    {
     "name": "stdout",
     "output_type": "stream",
     "text": [
      "Dimensionalidade reduzida de 1000 para 128\n",
      "Metodos com numero de clusters (k) como parametro ...\n",
      "Executando run_kmeans\n",
      " - k = 2\n",
      "Clusters salvos em clusters/Beauty/umap/n_components128\\run_kmeans\\Beauty_cluster_run_kmeans_k2.csv\n",
      " - k = 5\n",
      "Clusters salvos em clusters/Beauty/umap/n_components128\\run_kmeans\\Beauty_cluster_run_kmeans_k5.csv\n",
      " - k = 10\n",
      "Clusters salvos em clusters/Beauty/umap/n_components128\\run_kmeans\\Beauty_cluster_run_kmeans_k10.csv\n",
      " - k = 30\n",
      "Clusters salvos em clusters/Beauty/umap/n_components128\\run_kmeans\\Beauty_cluster_run_kmeans_k30.csv\n",
      " - k = 50\n",
      "Clusters salvos em clusters/Beauty/umap/n_components128\\run_kmeans\\Beauty_cluster_run_kmeans_k50.csv\n",
      " - k = 100\n",
      "Clusters salvos em clusters/Beauty/umap/n_components128\\run_kmeans\\Beauty_cluster_run_kmeans_k100.csv\n",
      " - k = 150\n",
      "Clusters salvos em clusters/Beauty/umap/n_components128\\run_kmeans\\Beauty_cluster_run_kmeans_k150.csv\n",
      " - k = 200\n",
      "Clusters salvos em clusters/Beauty/umap/n_components128\\run_kmeans\\Beauty_cluster_run_kmeans_k200.csv\n",
      " - k = 400\n",
      "Clusters salvos em clusters/Beauty/umap/n_components128\\run_kmeans\\Beauty_cluster_run_kmeans_k400.csv\n",
      " - k = 500\n",
      "Clusters salvos em clusters/Beauty/umap/n_components128\\run_kmeans\\Beauty_cluster_run_kmeans_k500.csv\n",
      " - k = 750\n",
      "Clusters salvos em clusters/Beauty/umap/n_components128\\run_kmeans\\Beauty_cluster_run_kmeans_k750.csv\n",
      " - k = 1000\n",
      "Clusters salvos em clusters/Beauty/umap/n_components128\\run_kmeans\\Beauty_cluster_run_kmeans_k1000.csv\n",
      " - k = 1250\n",
      "Clusters salvos em clusters/Beauty/umap/n_components128\\run_kmeans\\Beauty_cluster_run_kmeans_k1250.csv\n",
      " - k = 1500\n",
      "Clusters salvos em clusters/Beauty/umap/n_components128\\run_kmeans\\Beauty_cluster_run_kmeans_k1500.csv\n",
      " - k = 2000\n",
      "Clusters salvos em clusters/Beauty/umap/n_components128\\run_kmeans\\Beauty_cluster_run_kmeans_k2000.csv\n",
      " - k = 2500\n",
      "Clusters salvos em clusters/Beauty/umap/n_components128\\run_kmeans\\Beauty_cluster_run_kmeans_k2500.csv\n",
      " - k = 3000\n",
      "Clusters salvos em clusters/Beauty/umap/n_components128\\run_kmeans\\Beauty_cluster_run_kmeans_k3000.csv\n",
      "Executando run_agnes\n",
      " - k = 2\n",
      "Clusters salvos em clusters/Beauty/umap/n_components128\\run_agnes\\Beauty_cluster_run_agnes_k2.csv\n",
      " - k = 5\n",
      "Clusters salvos em clusters/Beauty/umap/n_components128\\run_agnes\\Beauty_cluster_run_agnes_k5.csv\n",
      " - k = 10\n",
      "Clusters salvos em clusters/Beauty/umap/n_components128\\run_agnes\\Beauty_cluster_run_agnes_k10.csv\n",
      " - k = 30\n",
      "Clusters salvos em clusters/Beauty/umap/n_components128\\run_agnes\\Beauty_cluster_run_agnes_k30.csv\n",
      " - k = 50\n",
      "Clusters salvos em clusters/Beauty/umap/n_components128\\run_agnes\\Beauty_cluster_run_agnes_k50.csv\n",
      " - k = 100\n",
      "Clusters salvos em clusters/Beauty/umap/n_components128\\run_agnes\\Beauty_cluster_run_agnes_k100.csv\n",
      " - k = 150\n",
      "Clusters salvos em clusters/Beauty/umap/n_components128\\run_agnes\\Beauty_cluster_run_agnes_k150.csv\n",
      " - k = 200\n",
      "Clusters salvos em clusters/Beauty/umap/n_components128\\run_agnes\\Beauty_cluster_run_agnes_k200.csv\n",
      " - k = 400\n",
      "Clusters salvos em clusters/Beauty/umap/n_components128\\run_agnes\\Beauty_cluster_run_agnes_k400.csv\n",
      " - k = 500\n",
      "Clusters salvos em clusters/Beauty/umap/n_components128\\run_agnes\\Beauty_cluster_run_agnes_k500.csv\n",
      " - k = 750\n",
      "Clusters salvos em clusters/Beauty/umap/n_components128\\run_agnes\\Beauty_cluster_run_agnes_k750.csv\n",
      " - k = 1000\n",
      "Clusters salvos em clusters/Beauty/umap/n_components128\\run_agnes\\Beauty_cluster_run_agnes_k1000.csv\n",
      " - k = 1250\n",
      "Clusters salvos em clusters/Beauty/umap/n_components128\\run_agnes\\Beauty_cluster_run_agnes_k1250.csv\n",
      " - k = 1500\n",
      "Clusters salvos em clusters/Beauty/umap/n_components128\\run_agnes\\Beauty_cluster_run_agnes_k1500.csv\n",
      " - k = 2000\n",
      "Clusters salvos em clusters/Beauty/umap/n_components128\\run_agnes\\Beauty_cluster_run_agnes_k2000.csv\n",
      " - k = 2500\n",
      "Clusters salvos em clusters/Beauty/umap/n_components128\\run_agnes\\Beauty_cluster_run_agnes_k2500.csv\n",
      " - k = 3000\n",
      "Clusters salvos em clusters/Beauty/umap/n_components128\\run_agnes\\Beauty_cluster_run_agnes_k3000.csv\n",
      "Executando run_fasterpam\n",
      " - k = 2\n",
      "Clusters salvos em clusters/Beauty/umap/n_components128\\run_fasterpam\\Beauty_cluster_run_fasterpam_k2.csv\n",
      " - k = 5\n",
      "Clusters salvos em clusters/Beauty/umap/n_components128\\run_fasterpam\\Beauty_cluster_run_fasterpam_k5.csv\n",
      " - k = 10\n",
      "Clusters salvos em clusters/Beauty/umap/n_components128\\run_fasterpam\\Beauty_cluster_run_fasterpam_k10.csv\n",
      " - k = 30\n",
      "Clusters salvos em clusters/Beauty/umap/n_components128\\run_fasterpam\\Beauty_cluster_run_fasterpam_k30.csv\n",
      " - k = 50\n",
      "Clusters salvos em clusters/Beauty/umap/n_components128\\run_fasterpam\\Beauty_cluster_run_fasterpam_k50.csv\n",
      " - k = 100\n",
      "Clusters salvos em clusters/Beauty/umap/n_components128\\run_fasterpam\\Beauty_cluster_run_fasterpam_k100.csv\n",
      " - k = 150\n",
      "Clusters salvos em clusters/Beauty/umap/n_components128\\run_fasterpam\\Beauty_cluster_run_fasterpam_k150.csv\n",
      " - k = 200\n",
      "Clusters salvos em clusters/Beauty/umap/n_components128\\run_fasterpam\\Beauty_cluster_run_fasterpam_k200.csv\n",
      " - k = 400\n",
      "Clusters salvos em clusters/Beauty/umap/n_components128\\run_fasterpam\\Beauty_cluster_run_fasterpam_k400.csv\n",
      " - k = 500\n",
      "Clusters salvos em clusters/Beauty/umap/n_components128\\run_fasterpam\\Beauty_cluster_run_fasterpam_k500.csv\n",
      " - k = 750\n",
      "Clusters salvos em clusters/Beauty/umap/n_components128\\run_fasterpam\\Beauty_cluster_run_fasterpam_k750.csv\n",
      " - k = 1000\n",
      "Clusters salvos em clusters/Beauty/umap/n_components128\\run_fasterpam\\Beauty_cluster_run_fasterpam_k1000.csv\n",
      " - k = 1250\n",
      "Clusters salvos em clusters/Beauty/umap/n_components128\\run_fasterpam\\Beauty_cluster_run_fasterpam_k1250.csv\n",
      " - k = 1500\n",
      "Clusters salvos em clusters/Beauty/umap/n_components128\\run_fasterpam\\Beauty_cluster_run_fasterpam_k1500.csv\n",
      " - k = 2000\n",
      "Clusters salvos em clusters/Beauty/umap/n_components128\\run_fasterpam\\Beauty_cluster_run_fasterpam_k2000.csv\n",
      " - k = 2500\n",
      "Clusters salvos em clusters/Beauty/umap/n_components128\\run_fasterpam\\Beauty_cluster_run_fasterpam_k2500.csv\n",
      " - k = 3000\n",
      "Clusters salvos em clusters/Beauty/umap/n_components128\\run_fasterpam\\Beauty_cluster_run_fasterpam_k3000.csv\n",
      "Clusterização concluída e resultados salvos\n",
      "\n",
      " Embeddings reduzidos com umap e n_components 256\n",
      "Aplicando UMAP com n_components = 256...\n"
     ]
    },
    {
     "name": "stderr",
     "output_type": "stream",
     "text": [
      "C:\\Users\\cruzd\\AppData\\Local\\Packages\\PythonSoftwareFoundation.Python.3.12_qbz5n2kfra8p0\\LocalCache\\local-packages\\Python312\\site-packages\\sklearn\\utils\\deprecation.py:151: FutureWarning: 'force_all_finite' was renamed to 'ensure_all_finite' in 1.6 and will be removed in 1.8.\n",
      "  warnings.warn(\n",
      "C:\\Users\\cruzd\\AppData\\Local\\Packages\\PythonSoftwareFoundation.Python.3.12_qbz5n2kfra8p0\\LocalCache\\local-packages\\Python312\\site-packages\\umap\\umap_.py:1952: UserWarning: n_jobs value 1 overridden to 1 by setting random_state. Use no seed for parallelism.\n",
      "  warn(\n"
     ]
    },
    {
     "name": "stdout",
     "output_type": "stream",
     "text": [
      "Dimensionalidade reduzida de 1000 para 256\n",
      "Metodos com numero de clusters (k) como parametro ...\n",
      "Executando run_kmeans\n",
      " - k = 2\n",
      "Clusters salvos em clusters/Beauty/umap/n_components256\\run_kmeans\\Beauty_cluster_run_kmeans_k2.csv\n",
      " - k = 5\n",
      "Clusters salvos em clusters/Beauty/umap/n_components256\\run_kmeans\\Beauty_cluster_run_kmeans_k5.csv\n",
      " - k = 10\n",
      "Clusters salvos em clusters/Beauty/umap/n_components256\\run_kmeans\\Beauty_cluster_run_kmeans_k10.csv\n",
      " - k = 30\n",
      "Clusters salvos em clusters/Beauty/umap/n_components256\\run_kmeans\\Beauty_cluster_run_kmeans_k30.csv\n",
      " - k = 50\n",
      "Clusters salvos em clusters/Beauty/umap/n_components256\\run_kmeans\\Beauty_cluster_run_kmeans_k50.csv\n",
      " - k = 100\n",
      "Clusters salvos em clusters/Beauty/umap/n_components256\\run_kmeans\\Beauty_cluster_run_kmeans_k100.csv\n",
      " - k = 150\n",
      "Clusters salvos em clusters/Beauty/umap/n_components256\\run_kmeans\\Beauty_cluster_run_kmeans_k150.csv\n",
      " - k = 200\n",
      "Clusters salvos em clusters/Beauty/umap/n_components256\\run_kmeans\\Beauty_cluster_run_kmeans_k200.csv\n",
      " - k = 400\n",
      "Clusters salvos em clusters/Beauty/umap/n_components256\\run_kmeans\\Beauty_cluster_run_kmeans_k400.csv\n",
      " - k = 500\n",
      "Clusters salvos em clusters/Beauty/umap/n_components256\\run_kmeans\\Beauty_cluster_run_kmeans_k500.csv\n",
      " - k = 750\n",
      "Clusters salvos em clusters/Beauty/umap/n_components256\\run_kmeans\\Beauty_cluster_run_kmeans_k750.csv\n",
      " - k = 1000\n",
      "Clusters salvos em clusters/Beauty/umap/n_components256\\run_kmeans\\Beauty_cluster_run_kmeans_k1000.csv\n",
      " - k = 1250\n",
      "Clusters salvos em clusters/Beauty/umap/n_components256\\run_kmeans\\Beauty_cluster_run_kmeans_k1250.csv\n",
      " - k = 1500\n",
      "Clusters salvos em clusters/Beauty/umap/n_components256\\run_kmeans\\Beauty_cluster_run_kmeans_k1500.csv\n",
      " - k = 2000\n",
      "Clusters salvos em clusters/Beauty/umap/n_components256\\run_kmeans\\Beauty_cluster_run_kmeans_k2000.csv\n",
      " - k = 2500\n",
      "Clusters salvos em clusters/Beauty/umap/n_components256\\run_kmeans\\Beauty_cluster_run_kmeans_k2500.csv\n",
      " - k = 3000\n",
      "Clusters salvos em clusters/Beauty/umap/n_components256\\run_kmeans\\Beauty_cluster_run_kmeans_k3000.csv\n",
      "Executando run_agnes\n",
      " - k = 2\n",
      "Clusters salvos em clusters/Beauty/umap/n_components256\\run_agnes\\Beauty_cluster_run_agnes_k2.csv\n",
      " - k = 5\n",
      "Clusters salvos em clusters/Beauty/umap/n_components256\\run_agnes\\Beauty_cluster_run_agnes_k5.csv\n",
      " - k = 10\n",
      "Clusters salvos em clusters/Beauty/umap/n_components256\\run_agnes\\Beauty_cluster_run_agnes_k10.csv\n",
      " - k = 30\n",
      "Clusters salvos em clusters/Beauty/umap/n_components256\\run_agnes\\Beauty_cluster_run_agnes_k30.csv\n",
      " - k = 50\n",
      "Clusters salvos em clusters/Beauty/umap/n_components256\\run_agnes\\Beauty_cluster_run_agnes_k50.csv\n",
      " - k = 100\n",
      "Clusters salvos em clusters/Beauty/umap/n_components256\\run_agnes\\Beauty_cluster_run_agnes_k100.csv\n",
      " - k = 150\n",
      "Clusters salvos em clusters/Beauty/umap/n_components256\\run_agnes\\Beauty_cluster_run_agnes_k150.csv\n",
      " - k = 200\n",
      "Clusters salvos em clusters/Beauty/umap/n_components256\\run_agnes\\Beauty_cluster_run_agnes_k200.csv\n",
      " - k = 400\n",
      "Clusters salvos em clusters/Beauty/umap/n_components256\\run_agnes\\Beauty_cluster_run_agnes_k400.csv\n",
      " - k = 500\n",
      "Clusters salvos em clusters/Beauty/umap/n_components256\\run_agnes\\Beauty_cluster_run_agnes_k500.csv\n",
      " - k = 750\n",
      "Clusters salvos em clusters/Beauty/umap/n_components256\\run_agnes\\Beauty_cluster_run_agnes_k750.csv\n",
      " - k = 1000\n",
      "Clusters salvos em clusters/Beauty/umap/n_components256\\run_agnes\\Beauty_cluster_run_agnes_k1000.csv\n",
      " - k = 1250\n",
      "Clusters salvos em clusters/Beauty/umap/n_components256\\run_agnes\\Beauty_cluster_run_agnes_k1250.csv\n",
      " - k = 1500\n",
      "Clusters salvos em clusters/Beauty/umap/n_components256\\run_agnes\\Beauty_cluster_run_agnes_k1500.csv\n",
      " - k = 2000\n",
      "Clusters salvos em clusters/Beauty/umap/n_components256\\run_agnes\\Beauty_cluster_run_agnes_k2000.csv\n",
      " - k = 2500\n",
      "Clusters salvos em clusters/Beauty/umap/n_components256\\run_agnes\\Beauty_cluster_run_agnes_k2500.csv\n",
      " - k = 3000\n",
      "Clusters salvos em clusters/Beauty/umap/n_components256\\run_agnes\\Beauty_cluster_run_agnes_k3000.csv\n",
      "Executando run_fasterpam\n",
      " - k = 2\n",
      "Clusters salvos em clusters/Beauty/umap/n_components256\\run_fasterpam\\Beauty_cluster_run_fasterpam_k2.csv\n",
      " - k = 5\n",
      "Clusters salvos em clusters/Beauty/umap/n_components256\\run_fasterpam\\Beauty_cluster_run_fasterpam_k5.csv\n",
      " - k = 10\n",
      "Clusters salvos em clusters/Beauty/umap/n_components256\\run_fasterpam\\Beauty_cluster_run_fasterpam_k10.csv\n",
      " - k = 30\n",
      "Clusters salvos em clusters/Beauty/umap/n_components256\\run_fasterpam\\Beauty_cluster_run_fasterpam_k30.csv\n",
      " - k = 50\n",
      "Clusters salvos em clusters/Beauty/umap/n_components256\\run_fasterpam\\Beauty_cluster_run_fasterpam_k50.csv\n",
      " - k = 100\n",
      "Clusters salvos em clusters/Beauty/umap/n_components256\\run_fasterpam\\Beauty_cluster_run_fasterpam_k100.csv\n",
      " - k = 150\n",
      "Clusters salvos em clusters/Beauty/umap/n_components256\\run_fasterpam\\Beauty_cluster_run_fasterpam_k150.csv\n",
      " - k = 200\n",
      "Clusters salvos em clusters/Beauty/umap/n_components256\\run_fasterpam\\Beauty_cluster_run_fasterpam_k200.csv\n",
      " - k = 400\n",
      "Clusters salvos em clusters/Beauty/umap/n_components256\\run_fasterpam\\Beauty_cluster_run_fasterpam_k400.csv\n",
      " - k = 500\n",
      "Clusters salvos em clusters/Beauty/umap/n_components256\\run_fasterpam\\Beauty_cluster_run_fasterpam_k500.csv\n",
      " - k = 750\n",
      "Clusters salvos em clusters/Beauty/umap/n_components256\\run_fasterpam\\Beauty_cluster_run_fasterpam_k750.csv\n",
      " - k = 1000\n",
      "Clusters salvos em clusters/Beauty/umap/n_components256\\run_fasterpam\\Beauty_cluster_run_fasterpam_k1000.csv\n",
      " - k = 1250\n",
      "Clusters salvos em clusters/Beauty/umap/n_components256\\run_fasterpam\\Beauty_cluster_run_fasterpam_k1250.csv\n",
      " - k = 1500\n",
      "Clusters salvos em clusters/Beauty/umap/n_components256\\run_fasterpam\\Beauty_cluster_run_fasterpam_k1500.csv\n",
      " - k = 2000\n",
      "Clusters salvos em clusters/Beauty/umap/n_components256\\run_fasterpam\\Beauty_cluster_run_fasterpam_k2000.csv\n",
      " - k = 2500\n",
      "Clusters salvos em clusters/Beauty/umap/n_components256\\run_fasterpam\\Beauty_cluster_run_fasterpam_k2500.csv\n",
      " - k = 3000\n",
      "Clusters salvos em clusters/Beauty/umap/n_components256\\run_fasterpam\\Beauty_cluster_run_fasterpam_k3000.csv\n",
      "Clusterização concluída e resultados salvos\n",
      "\n",
      " Embeddings reduzidos com umap e n_components 512\n",
      "Aplicando UMAP com n_components = 512...\n"
     ]
    },
    {
     "name": "stderr",
     "output_type": "stream",
     "text": [
      "C:\\Users\\cruzd\\AppData\\Local\\Packages\\PythonSoftwareFoundation.Python.3.12_qbz5n2kfra8p0\\LocalCache\\local-packages\\Python312\\site-packages\\sklearn\\utils\\deprecation.py:151: FutureWarning: 'force_all_finite' was renamed to 'ensure_all_finite' in 1.6 and will be removed in 1.8.\n",
      "  warnings.warn(\n",
      "C:\\Users\\cruzd\\AppData\\Local\\Packages\\PythonSoftwareFoundation.Python.3.12_qbz5n2kfra8p0\\LocalCache\\local-packages\\Python312\\site-packages\\umap\\umap_.py:1952: UserWarning: n_jobs value 1 overridden to 1 by setting random_state. Use no seed for parallelism.\n",
      "  warn(\n"
     ]
    },
    {
     "name": "stdout",
     "output_type": "stream",
     "text": [
      "Dimensionalidade reduzida de 1000 para 512\n",
      "Metodos com numero de clusters (k) como parametro ...\n",
      "Executando run_kmeans\n",
      " - k = 2\n",
      "Clusters salvos em clusters/Beauty/umap/n_components512\\run_kmeans\\Beauty_cluster_run_kmeans_k2.csv\n",
      " - k = 5\n",
      "Clusters salvos em clusters/Beauty/umap/n_components512\\run_kmeans\\Beauty_cluster_run_kmeans_k5.csv\n",
      " - k = 10\n",
      "Clusters salvos em clusters/Beauty/umap/n_components512\\run_kmeans\\Beauty_cluster_run_kmeans_k10.csv\n",
      " - k = 30\n",
      "Clusters salvos em clusters/Beauty/umap/n_components512\\run_kmeans\\Beauty_cluster_run_kmeans_k30.csv\n",
      " - k = 50\n",
      "Clusters salvos em clusters/Beauty/umap/n_components512\\run_kmeans\\Beauty_cluster_run_kmeans_k50.csv\n",
      " - k = 100\n",
      "Clusters salvos em clusters/Beauty/umap/n_components512\\run_kmeans\\Beauty_cluster_run_kmeans_k100.csv\n",
      " - k = 150\n",
      "Clusters salvos em clusters/Beauty/umap/n_components512\\run_kmeans\\Beauty_cluster_run_kmeans_k150.csv\n",
      " - k = 200\n",
      "Clusters salvos em clusters/Beauty/umap/n_components512\\run_kmeans\\Beauty_cluster_run_kmeans_k200.csv\n",
      " - k = 400\n",
      "Clusters salvos em clusters/Beauty/umap/n_components512\\run_kmeans\\Beauty_cluster_run_kmeans_k400.csv\n",
      " - k = 500\n",
      "Clusters salvos em clusters/Beauty/umap/n_components512\\run_kmeans\\Beauty_cluster_run_kmeans_k500.csv\n",
      " - k = 750\n",
      "Clusters salvos em clusters/Beauty/umap/n_components512\\run_kmeans\\Beauty_cluster_run_kmeans_k750.csv\n",
      " - k = 1000\n",
      "Clusters salvos em clusters/Beauty/umap/n_components512\\run_kmeans\\Beauty_cluster_run_kmeans_k1000.csv\n",
      " - k = 1250\n",
      "Clusters salvos em clusters/Beauty/umap/n_components512\\run_kmeans\\Beauty_cluster_run_kmeans_k1250.csv\n",
      " - k = 1500\n",
      "Clusters salvos em clusters/Beauty/umap/n_components512\\run_kmeans\\Beauty_cluster_run_kmeans_k1500.csv\n",
      " - k = 2000\n",
      "Clusters salvos em clusters/Beauty/umap/n_components512\\run_kmeans\\Beauty_cluster_run_kmeans_k2000.csv\n",
      " - k = 2500\n",
      "Clusters salvos em clusters/Beauty/umap/n_components512\\run_kmeans\\Beauty_cluster_run_kmeans_k2500.csv\n",
      " - k = 3000\n",
      "Clusters salvos em clusters/Beauty/umap/n_components512\\run_kmeans\\Beauty_cluster_run_kmeans_k3000.csv\n",
      "Executando run_agnes\n",
      " - k = 2\n",
      "Clusters salvos em clusters/Beauty/umap/n_components512\\run_agnes\\Beauty_cluster_run_agnes_k2.csv\n",
      " - k = 5\n",
      "Clusters salvos em clusters/Beauty/umap/n_components512\\run_agnes\\Beauty_cluster_run_agnes_k5.csv\n",
      " - k = 10\n",
      "Clusters salvos em clusters/Beauty/umap/n_components512\\run_agnes\\Beauty_cluster_run_agnes_k10.csv\n",
      " - k = 30\n",
      "Clusters salvos em clusters/Beauty/umap/n_components512\\run_agnes\\Beauty_cluster_run_agnes_k30.csv\n",
      " - k = 50\n",
      "Clusters salvos em clusters/Beauty/umap/n_components512\\run_agnes\\Beauty_cluster_run_agnes_k50.csv\n",
      " - k = 100\n",
      "Clusters salvos em clusters/Beauty/umap/n_components512\\run_agnes\\Beauty_cluster_run_agnes_k100.csv\n",
      " - k = 150\n",
      "Clusters salvos em clusters/Beauty/umap/n_components512\\run_agnes\\Beauty_cluster_run_agnes_k150.csv\n",
      " - k = 200\n",
      "Clusters salvos em clusters/Beauty/umap/n_components512\\run_agnes\\Beauty_cluster_run_agnes_k200.csv\n",
      " - k = 400\n",
      "Clusters salvos em clusters/Beauty/umap/n_components512\\run_agnes\\Beauty_cluster_run_agnes_k400.csv\n",
      " - k = 500\n",
      "Clusters salvos em clusters/Beauty/umap/n_components512\\run_agnes\\Beauty_cluster_run_agnes_k500.csv\n",
      " - k = 750\n",
      "Clusters salvos em clusters/Beauty/umap/n_components512\\run_agnes\\Beauty_cluster_run_agnes_k750.csv\n",
      " - k = 1000\n",
      "Clusters salvos em clusters/Beauty/umap/n_components512\\run_agnes\\Beauty_cluster_run_agnes_k1000.csv\n",
      " - k = 1250\n",
      "Clusters salvos em clusters/Beauty/umap/n_components512\\run_agnes\\Beauty_cluster_run_agnes_k1250.csv\n",
      " - k = 1500\n",
      "Clusters salvos em clusters/Beauty/umap/n_components512\\run_agnes\\Beauty_cluster_run_agnes_k1500.csv\n",
      " - k = 2000\n",
      "Clusters salvos em clusters/Beauty/umap/n_components512\\run_agnes\\Beauty_cluster_run_agnes_k2000.csv\n",
      " - k = 2500\n",
      "Clusters salvos em clusters/Beauty/umap/n_components512\\run_agnes\\Beauty_cluster_run_agnes_k2500.csv\n",
      " - k = 3000\n",
      "Clusters salvos em clusters/Beauty/umap/n_components512\\run_agnes\\Beauty_cluster_run_agnes_k3000.csv\n",
      "Executando run_fasterpam\n",
      " - k = 2\n",
      "Clusters salvos em clusters/Beauty/umap/n_components512\\run_fasterpam\\Beauty_cluster_run_fasterpam_k2.csv\n",
      " - k = 5\n",
      "Clusters salvos em clusters/Beauty/umap/n_components512\\run_fasterpam\\Beauty_cluster_run_fasterpam_k5.csv\n",
      " - k = 10\n",
      "Clusters salvos em clusters/Beauty/umap/n_components512\\run_fasterpam\\Beauty_cluster_run_fasterpam_k10.csv\n",
      " - k = 30\n",
      "Clusters salvos em clusters/Beauty/umap/n_components512\\run_fasterpam\\Beauty_cluster_run_fasterpam_k30.csv\n",
      " - k = 50\n",
      "Clusters salvos em clusters/Beauty/umap/n_components512\\run_fasterpam\\Beauty_cluster_run_fasterpam_k50.csv\n",
      " - k = 100\n",
      "Clusters salvos em clusters/Beauty/umap/n_components512\\run_fasterpam\\Beauty_cluster_run_fasterpam_k100.csv\n",
      " - k = 150\n",
      "Clusters salvos em clusters/Beauty/umap/n_components512\\run_fasterpam\\Beauty_cluster_run_fasterpam_k150.csv\n",
      " - k = 200\n",
      "Clusters salvos em clusters/Beauty/umap/n_components512\\run_fasterpam\\Beauty_cluster_run_fasterpam_k200.csv\n",
      " - k = 400\n",
      "Clusters salvos em clusters/Beauty/umap/n_components512\\run_fasterpam\\Beauty_cluster_run_fasterpam_k400.csv\n",
      " - k = 500\n",
      "Clusters salvos em clusters/Beauty/umap/n_components512\\run_fasterpam\\Beauty_cluster_run_fasterpam_k500.csv\n",
      " - k = 750\n",
      "Clusters salvos em clusters/Beauty/umap/n_components512\\run_fasterpam\\Beauty_cluster_run_fasterpam_k750.csv\n",
      " - k = 1000\n",
      "Clusters salvos em clusters/Beauty/umap/n_components512\\run_fasterpam\\Beauty_cluster_run_fasterpam_k1000.csv\n",
      " - k = 1250\n",
      "Clusters salvos em clusters/Beauty/umap/n_components512\\run_fasterpam\\Beauty_cluster_run_fasterpam_k1250.csv\n",
      " - k = 1500\n",
      "Clusters salvos em clusters/Beauty/umap/n_components512\\run_fasterpam\\Beauty_cluster_run_fasterpam_k1500.csv\n",
      " - k = 2000\n",
      "Clusters salvos em clusters/Beauty/umap/n_components512\\run_fasterpam\\Beauty_cluster_run_fasterpam_k2000.csv\n",
      " - k = 2500\n",
      "Clusters salvos em clusters/Beauty/umap/n_components512\\run_fasterpam\\Beauty_cluster_run_fasterpam_k2500.csv\n",
      " - k = 3000\n",
      "Clusters salvos em clusters/Beauty/umap/n_components512\\run_fasterpam\\Beauty_cluster_run_fasterpam_k3000.csv\n",
      "Clusterização concluída e resultados salvos\n",
      "\n",
      "Todos os testes para métodos com k fixo concluídos\n"
     ]
    }
   ],
   "source": [
    "dataset = 'ML-1M'\n",
    "\n",
    "embedding_path = f'../data_preprocessing/{dataset}/{dataset}-similarity-values-thenlper_gte-large.pt'\n",
    "embeddings = load_embeddings(embedding_path)\n",
    "\n",
    "methods_reducing = ['umap']\n",
    "n_components = [32,64,128,256,512]\n",
    "methods_clustering = [run_kmeans, run_fasterpam, run_agnes]\n",
    "k_values = [2, 5, 10, 30, 50, 100, 150, 200, 400, 500, 750, 1000, 1250, 1500, 2000, 2500,3000]\n",
    "\n",
    "for method_red in methods_reducing:\n",
    "    for n in n_components:\n",
    "        print(f'\\n Embeddings reduzidos com {method_red} e n_components {n}')\n",
    "        reduced_embeddings = dimensionality_reduction(embeddings=embeddings, method=method_red, n_components=n)\n",
    "        if not isinstance(reduced_embeddings, torch.Tensor):\n",
    "            reduced_embeddings = torch.tensor(reduced_embeddings, dtype=torch.float32)\n",
    "        output_path = f'clusters/{dataset}/{method_red}/n_components{n}'\n",
    "        os.makedirs(output_path, exist_ok=True)\n",
    "        \n",
    "        print('Metodos com numero de clusters (k) como parametro ...')\n",
    "\n",
    "        run_methods_with_k(\n",
    "            embeddings = reduced_embeddings, \n",
    "            methods = methods_clustering, \n",
    "            k_values = k_values, \n",
    "            output_path = output_path, \n",
    "            dataset_name=dataset\n",
    "        )  \n",
    "                        \n",
    "print(\"\\nTodos os testes para métodos com k fixo concluídos\")\n",
    "\n",
    "dataset = 'Beauty'\n",
    "\n",
    "embedding_path = f'../data_preprocessing/{dataset}/{dataset}-similarity-values-thenlper_gte-large.pt'\n",
    "embeddings = load_embeddings(embedding_path)\n",
    "\n",
    "methods_reducing = ['umap']\n",
    "n_components = [32,64,128,256,512]\n",
    "methods_clustering = [run_kmeans, run_agnes, run_fasterpam]\n",
    "k_values = [2, 5, 10, 30, 50, 100, 150, 200, 400, 500, 750, 1000, 1250, 1500, 2000, 2500,3000]\n",
    "\n",
    "for method_red in methods_reducing:\n",
    "    for n in n_components:\n",
    "        print(f'\\n Embeddings reduzidos com {method_red} e n_components {n}')\n",
    "        reduced_embeddings = dimensionality_reduction(embeddings=embeddings, method=method_red, n_components=n)\n",
    "        if not isinstance(reduced_embeddings, torch.Tensor):\n",
    "            reduced_embeddings = torch.tensor(reduced_embeddings, dtype=torch.float32)\n",
    "        output_path = f'clusters/{dataset}/{method_red}/n_components{n}'\n",
    "        os.makedirs(output_path, exist_ok=True)\n",
    "        \n",
    "        print('Metodos com numero de clusters (k) como parametro ...')\n",
    "\n",
    "        run_methods_with_k(\n",
    "            embeddings = reduced_embeddings, \n",
    "            methods = methods_clustering, \n",
    "            k_values = k_values, \n",
    "            output_path = output_path, \n",
    "            dataset_name=dataset\n",
    "        )  \n",
    "                        \n",
    "print(\"\\nTodos os testes para métodos com k fixo concluídos\")\n"
   ]
  },
  {
   "cell_type": "code",
   "execution_count": 13,
   "id": "92bfab09",
   "metadata": {},
   "outputs": [
    {
     "name": "stdout",
     "output_type": "stream",
     "text": [
      "Testes para Spectral Clustering\n",
      "\n",
      " Embeddings reduzidos com umap e n_components 16\n",
      "Aplicando UMAP com n_components = 16...\n"
     ]
    },
    {
     "name": "stderr",
     "output_type": "stream",
     "text": [
      "C:\\Users\\cruzd\\AppData\\Local\\Packages\\PythonSoftwareFoundation.Python.3.12_qbz5n2kfra8p0\\LocalCache\\local-packages\\Python312\\site-packages\\sklearn\\utils\\deprecation.py:151: FutureWarning: 'force_all_finite' was renamed to 'ensure_all_finite' in 1.6 and will be removed in 1.8.\n",
      "  warnings.warn(\n",
      "C:\\Users\\cruzd\\AppData\\Local\\Packages\\PythonSoftwareFoundation.Python.3.12_qbz5n2kfra8p0\\LocalCache\\local-packages\\Python312\\site-packages\\umap\\umap_.py:1952: UserWarning: n_jobs value 1 overridden to 1 by setting random_state. Use no seed for parallelism.\n",
      "  warn(\n"
     ]
    },
    {
     "ename": "KeyboardInterrupt",
     "evalue": "",
     "output_type": "error",
     "traceback": [
      "\u001b[1;31m---------------------------------------------------------------------------\u001b[0m",
      "\u001b[1;31mKeyboardInterrupt\u001b[0m                         Traceback (most recent call last)",
      "Cell \u001b[1;32mIn[13], line 8\u001b[0m\n\u001b[0;32m      6\u001b[0m \u001b[38;5;28;01mfor\u001b[39;00m n \u001b[38;5;129;01min\u001b[39;00m n_components:\n\u001b[0;32m      7\u001b[0m     \u001b[38;5;28mprint\u001b[39m(\u001b[38;5;124mf\u001b[39m\u001b[38;5;124m'\u001b[39m\u001b[38;5;130;01m\\n\u001b[39;00m\u001b[38;5;124m Embeddings reduzidos com \u001b[39m\u001b[38;5;132;01m{\u001b[39;00mmethod_red\u001b[38;5;132;01m}\u001b[39;00m\u001b[38;5;124m e n_components \u001b[39m\u001b[38;5;132;01m{\u001b[39;00mn\u001b[38;5;132;01m}\u001b[39;00m\u001b[38;5;124m'\u001b[39m)\n\u001b[1;32m----> 8\u001b[0m     reduced_embeddings \u001b[38;5;241m=\u001b[39m \u001b[43mdimensionality_reduction\u001b[49m\u001b[43m(\u001b[49m\u001b[43membeddings\u001b[49m\u001b[38;5;241;43m=\u001b[39;49m\u001b[43membeddings\u001b[49m\u001b[43m,\u001b[49m\u001b[43m \u001b[49m\u001b[43mmethod\u001b[49m\u001b[38;5;241;43m=\u001b[39;49m\u001b[43mmethod_red\u001b[49m\u001b[43m,\u001b[49m\u001b[43m \u001b[49m\u001b[43mn_components\u001b[49m\u001b[38;5;241;43m=\u001b[39;49m\u001b[43mn\u001b[49m\u001b[43m)\u001b[49m\n\u001b[0;32m      9\u001b[0m     \u001b[38;5;28;01mif\u001b[39;00m \u001b[38;5;129;01mnot\u001b[39;00m \u001b[38;5;28misinstance\u001b[39m(reduced_embeddings, torch\u001b[38;5;241m.\u001b[39mTensor):\n\u001b[0;32m     10\u001b[0m         reduced_embeddings \u001b[38;5;241m=\u001b[39m torch\u001b[38;5;241m.\u001b[39mtensor(reduced_embeddings, dtype\u001b[38;5;241m=\u001b[39mtorch\u001b[38;5;241m.\u001b[39mfloat32)\n",
      "File \u001b[1;32mc:\\Users\\cruzd\\OneDrive\\Área de Trabalho\\PIBIC_RecSys\\SimRec\\SimRec\\clusters\\utils_clusters.py:35\u001b[0m, in \u001b[0;36mdimensionality_reduction\u001b[1;34m(embeddings, method, n_components, random_state)\u001b[0m\n\u001b[0;32m     32\u001b[0m \u001b[38;5;28;01melse\u001b[39;00m:\n\u001b[0;32m     33\u001b[0m     \u001b[38;5;28;01mraise\u001b[39;00m \u001b[38;5;167;01mValueError\u001b[39;00m(\u001b[38;5;124m'\u001b[39m\u001b[38;5;124mMetodo invalido !!!\u001b[39m\u001b[38;5;124m'\u001b[39m)\n\u001b[1;32m---> 35\u001b[0m reduced_embeddings \u001b[38;5;241m=\u001b[39m \u001b[43mreducer\u001b[49m\u001b[38;5;241;43m.\u001b[39;49m\u001b[43mfit_transform\u001b[49m\u001b[43m(\u001b[49m\u001b[43membeddings\u001b[49m\u001b[43m)\u001b[49m\n\u001b[0;32m     36\u001b[0m \u001b[38;5;28mprint\u001b[39m(\u001b[38;5;124mf\u001b[39m\u001b[38;5;124m\"\u001b[39m\u001b[38;5;124mDimensionalidade reduzida de \u001b[39m\u001b[38;5;132;01m{\u001b[39;00membeddings\u001b[38;5;241m.\u001b[39mshape[\u001b[38;5;241m1\u001b[39m]\u001b[38;5;132;01m}\u001b[39;00m\u001b[38;5;124m para \u001b[39m\u001b[38;5;132;01m{\u001b[39;00mreduced_embeddings\u001b[38;5;241m.\u001b[39mshape[\u001b[38;5;241m1\u001b[39m]\u001b[38;5;132;01m}\u001b[39;00m\u001b[38;5;124m\"\u001b[39m)\n\u001b[0;32m     37\u001b[0m \u001b[38;5;28;01mreturn\u001b[39;00m reduced_embeddings\n",
      "File \u001b[1;32m~\\AppData\\Local\\Packages\\PythonSoftwareFoundation.Python.3.12_qbz5n2kfra8p0\\LocalCache\\local-packages\\Python312\\site-packages\\umap\\umap_.py:2928\u001b[0m, in \u001b[0;36mUMAP.fit_transform\u001b[1;34m(self, X, y, force_all_finite, **kwargs)\u001b[0m\n\u001b[0;32m   2890\u001b[0m \u001b[38;5;28;01mdef\u001b[39;00m \u001b[38;5;21mfit_transform\u001b[39m(\u001b[38;5;28mself\u001b[39m, X, y\u001b[38;5;241m=\u001b[39m\u001b[38;5;28;01mNone\u001b[39;00m, force_all_finite\u001b[38;5;241m=\u001b[39m\u001b[38;5;28;01mTrue\u001b[39;00m, \u001b[38;5;241m*\u001b[39m\u001b[38;5;241m*\u001b[39mkwargs):\n\u001b[0;32m   2891\u001b[0m \u001b[38;5;250m    \u001b[39m\u001b[38;5;124;03m\"\"\"Fit X into an embedded space and return that transformed\u001b[39;00m\n\u001b[0;32m   2892\u001b[0m \u001b[38;5;124;03m    output.\u001b[39;00m\n\u001b[0;32m   2893\u001b[0m \n\u001b[1;32m   (...)\u001b[0m\n\u001b[0;32m   2926\u001b[0m \u001b[38;5;124;03m        Local radii of data points in the embedding (log-transformed).\u001b[39;00m\n\u001b[0;32m   2927\u001b[0m \u001b[38;5;124;03m    \"\"\"\u001b[39;00m\n\u001b[1;32m-> 2928\u001b[0m     \u001b[38;5;28;43mself\u001b[39;49m\u001b[38;5;241;43m.\u001b[39;49m\u001b[43mfit\u001b[49m\u001b[43m(\u001b[49m\u001b[43mX\u001b[49m\u001b[43m,\u001b[49m\u001b[43m \u001b[49m\u001b[43my\u001b[49m\u001b[43m,\u001b[49m\u001b[43m \u001b[49m\u001b[43mforce_all_finite\u001b[49m\u001b[43m,\u001b[49m\u001b[43m \u001b[49m\u001b[38;5;241;43m*\u001b[39;49m\u001b[38;5;241;43m*\u001b[39;49m\u001b[43mkwargs\u001b[49m\u001b[43m)\u001b[49m\n\u001b[0;32m   2929\u001b[0m     \u001b[38;5;28;01mif\u001b[39;00m \u001b[38;5;28mself\u001b[39m\u001b[38;5;241m.\u001b[39mtransform_mode \u001b[38;5;241m==\u001b[39m \u001b[38;5;124m\"\u001b[39m\u001b[38;5;124membedding\u001b[39m\u001b[38;5;124m\"\u001b[39m:\n\u001b[0;32m   2930\u001b[0m         \u001b[38;5;28;01mif\u001b[39;00m \u001b[38;5;28mself\u001b[39m\u001b[38;5;241m.\u001b[39moutput_dens:\n",
      "File \u001b[1;32m~\\AppData\\Local\\Packages\\PythonSoftwareFoundation.Python.3.12_qbz5n2kfra8p0\\LocalCache\\local-packages\\Python312\\site-packages\\umap\\umap_.py:2555\u001b[0m, in \u001b[0;36mUMAP.fit\u001b[1;34m(self, X, y, force_all_finite, **kwargs)\u001b[0m\n\u001b[0;32m   2552\u001b[0m \u001b[38;5;28;01mtry\u001b[39;00m:\n\u001b[0;32m   2553\u001b[0m     \u001b[38;5;66;03m# sklearn pairwise_distances fails for callable metric on sparse data\u001b[39;00m\n\u001b[0;32m   2554\u001b[0m     _m \u001b[38;5;241m=\u001b[39m \u001b[38;5;28mself\u001b[39m\u001b[38;5;241m.\u001b[39mmetric \u001b[38;5;28;01mif\u001b[39;00m \u001b[38;5;28mself\u001b[39m\u001b[38;5;241m.\u001b[39m_sparse_data \u001b[38;5;28;01melse\u001b[39;00m \u001b[38;5;28mself\u001b[39m\u001b[38;5;241m.\u001b[39m_input_distance_func\n\u001b[1;32m-> 2555\u001b[0m     dmat \u001b[38;5;241m=\u001b[39m \u001b[43mpairwise_distances\u001b[49m\u001b[43m(\u001b[49m\u001b[43mX\u001b[49m\u001b[43m[\u001b[49m\u001b[43mindex\u001b[49m\u001b[43m]\u001b[49m\u001b[43m,\u001b[49m\u001b[43m \u001b[49m\u001b[43mmetric\u001b[49m\u001b[38;5;241;43m=\u001b[39;49m\u001b[43m_m\u001b[49m\u001b[43m,\u001b[49m\u001b[43m \u001b[49m\u001b[38;5;241;43m*\u001b[39;49m\u001b[38;5;241;43m*\u001b[39;49m\u001b[38;5;28;43mself\u001b[39;49m\u001b[38;5;241;43m.\u001b[39;49m\u001b[43m_metric_kwds\u001b[49m\u001b[43m)\u001b[49m\n\u001b[0;32m   2556\u001b[0m \u001b[38;5;28;01mexcept\u001b[39;00m (\u001b[38;5;167;01mValueError\u001b[39;00m, \u001b[38;5;167;01mTypeError\u001b[39;00m) \u001b[38;5;28;01mas\u001b[39;00m e:\n\u001b[0;32m   2557\u001b[0m     \u001b[38;5;66;03m# metric is numba.jit'd or not supported by sklearn,\u001b[39;00m\n\u001b[0;32m   2558\u001b[0m     \u001b[38;5;66;03m# fallback to pairwise special\u001b[39;00m\n\u001b[0;32m   2560\u001b[0m     \u001b[38;5;28;01mif\u001b[39;00m \u001b[38;5;28mself\u001b[39m\u001b[38;5;241m.\u001b[39m_sparse_data:\n\u001b[0;32m   2561\u001b[0m         \u001b[38;5;66;03m# Get a fresh metric since we are casting to dense\u001b[39;00m\n",
      "File \u001b[1;32m~\\AppData\\Local\\Packages\\PythonSoftwareFoundation.Python.3.12_qbz5n2kfra8p0\\LocalCache\\local-packages\\Python312\\site-packages\\sklearn\\utils\\_param_validation.py:216\u001b[0m, in \u001b[0;36mvalidate_params.<locals>.decorator.<locals>.wrapper\u001b[1;34m(*args, **kwargs)\u001b[0m\n\u001b[0;32m    210\u001b[0m \u001b[38;5;28;01mtry\u001b[39;00m:\n\u001b[0;32m    211\u001b[0m     \u001b[38;5;28;01mwith\u001b[39;00m config_context(\n\u001b[0;32m    212\u001b[0m         skip_parameter_validation\u001b[38;5;241m=\u001b[39m(\n\u001b[0;32m    213\u001b[0m             prefer_skip_nested_validation \u001b[38;5;129;01mor\u001b[39;00m global_skip_validation\n\u001b[0;32m    214\u001b[0m         )\n\u001b[0;32m    215\u001b[0m     ):\n\u001b[1;32m--> 216\u001b[0m         \u001b[38;5;28;01mreturn\u001b[39;00m \u001b[43mfunc\u001b[49m\u001b[43m(\u001b[49m\u001b[38;5;241;43m*\u001b[39;49m\u001b[43margs\u001b[49m\u001b[43m,\u001b[49m\u001b[43m \u001b[49m\u001b[38;5;241;43m*\u001b[39;49m\u001b[38;5;241;43m*\u001b[39;49m\u001b[43mkwargs\u001b[49m\u001b[43m)\u001b[49m\n\u001b[0;32m    217\u001b[0m \u001b[38;5;28;01mexcept\u001b[39;00m InvalidParameterError \u001b[38;5;28;01mas\u001b[39;00m e:\n\u001b[0;32m    218\u001b[0m     \u001b[38;5;66;03m# When the function is just a wrapper around an estimator, we allow\u001b[39;00m\n\u001b[0;32m    219\u001b[0m     \u001b[38;5;66;03m# the function to delegate validation to the estimator, but we replace\u001b[39;00m\n\u001b[0;32m    220\u001b[0m     \u001b[38;5;66;03m# the name of the estimator by the name of the function in the error\u001b[39;00m\n\u001b[0;32m    221\u001b[0m     \u001b[38;5;66;03m# message to avoid confusion.\u001b[39;00m\n\u001b[0;32m    222\u001b[0m     msg \u001b[38;5;241m=\u001b[39m re\u001b[38;5;241m.\u001b[39msub(\n\u001b[0;32m    223\u001b[0m         \u001b[38;5;124mr\u001b[39m\u001b[38;5;124m\"\u001b[39m\u001b[38;5;124mparameter of \u001b[39m\u001b[38;5;124m\\\u001b[39m\u001b[38;5;124mw+ must be\u001b[39m\u001b[38;5;124m\"\u001b[39m,\n\u001b[0;32m    224\u001b[0m         \u001b[38;5;124mf\u001b[39m\u001b[38;5;124m\"\u001b[39m\u001b[38;5;124mparameter of \u001b[39m\u001b[38;5;132;01m{\u001b[39;00mfunc\u001b[38;5;241m.\u001b[39m\u001b[38;5;18m__qualname__\u001b[39m\u001b[38;5;132;01m}\u001b[39;00m\u001b[38;5;124m must be\u001b[39m\u001b[38;5;124m\"\u001b[39m,\n\u001b[0;32m    225\u001b[0m         \u001b[38;5;28mstr\u001b[39m(e),\n\u001b[0;32m    226\u001b[0m     )\n",
      "File \u001b[1;32m~\\AppData\\Local\\Packages\\PythonSoftwareFoundation.Python.3.12_qbz5n2kfra8p0\\LocalCache\\local-packages\\Python312\\site-packages\\sklearn\\metrics\\pairwise.py:2480\u001b[0m, in \u001b[0;36mpairwise_distances\u001b[1;34m(X, Y, metric, n_jobs, force_all_finite, ensure_all_finite, **kwds)\u001b[0m\n\u001b[0;32m   2477\u001b[0m         \u001b[38;5;28;01mreturn\u001b[39;00m distance\u001b[38;5;241m.\u001b[39msquareform(distance\u001b[38;5;241m.\u001b[39mpdist(X, metric\u001b[38;5;241m=\u001b[39mmetric, \u001b[38;5;241m*\u001b[39m\u001b[38;5;241m*\u001b[39mkwds))\n\u001b[0;32m   2478\u001b[0m     func \u001b[38;5;241m=\u001b[39m partial(distance\u001b[38;5;241m.\u001b[39mcdist, metric\u001b[38;5;241m=\u001b[39mmetric, \u001b[38;5;241m*\u001b[39m\u001b[38;5;241m*\u001b[39mkwds)\n\u001b[1;32m-> 2480\u001b[0m \u001b[38;5;28;01mreturn\u001b[39;00m \u001b[43m_parallel_pairwise\u001b[49m\u001b[43m(\u001b[49m\u001b[43mX\u001b[49m\u001b[43m,\u001b[49m\u001b[43m \u001b[49m\u001b[43mY\u001b[49m\u001b[43m,\u001b[49m\u001b[43m \u001b[49m\u001b[43mfunc\u001b[49m\u001b[43m,\u001b[49m\u001b[43m \u001b[49m\u001b[43mn_jobs\u001b[49m\u001b[43m,\u001b[49m\u001b[43m \u001b[49m\u001b[38;5;241;43m*\u001b[39;49m\u001b[38;5;241;43m*\u001b[39;49m\u001b[43mkwds\u001b[49m\u001b[43m)\u001b[49m\n",
      "File \u001b[1;32m~\\AppData\\Local\\Packages\\PythonSoftwareFoundation.Python.3.12_qbz5n2kfra8p0\\LocalCache\\local-packages\\Python312\\site-packages\\sklearn\\metrics\\pairwise.py:1973\u001b[0m, in \u001b[0;36m_parallel_pairwise\u001b[1;34m(X, Y, func, n_jobs, **kwds)\u001b[0m\n\u001b[0;32m   1970\u001b[0m X, Y, dtype \u001b[38;5;241m=\u001b[39m _return_float_dtype(X, Y)\n\u001b[0;32m   1972\u001b[0m \u001b[38;5;28;01mif\u001b[39;00m effective_n_jobs(n_jobs) \u001b[38;5;241m==\u001b[39m \u001b[38;5;241m1\u001b[39m:\n\u001b[1;32m-> 1973\u001b[0m     \u001b[38;5;28;01mreturn\u001b[39;00m \u001b[43mfunc\u001b[49m\u001b[43m(\u001b[49m\u001b[43mX\u001b[49m\u001b[43m,\u001b[49m\u001b[43m \u001b[49m\u001b[43mY\u001b[49m\u001b[43m,\u001b[49m\u001b[43m \u001b[49m\u001b[38;5;241;43m*\u001b[39;49m\u001b[38;5;241;43m*\u001b[39;49m\u001b[43mkwds\u001b[49m\u001b[43m)\u001b[49m\n\u001b[0;32m   1975\u001b[0m \u001b[38;5;66;03m# enforce a threading backend to prevent data communication overhead\u001b[39;00m\n\u001b[0;32m   1976\u001b[0m fd \u001b[38;5;241m=\u001b[39m delayed(_dist_wrapper)\n",
      "File \u001b[1;32m~\\AppData\\Local\\Packages\\PythonSoftwareFoundation.Python.3.12_qbz5n2kfra8p0\\LocalCache\\local-packages\\Python312\\site-packages\\sklearn\\metrics\\pairwise.py:2018\u001b[0m, in \u001b[0;36m_pairwise_callable\u001b[1;34m(X, Y, metric, ensure_all_finite, **kwds)\u001b[0m\n\u001b[0;32m   2014\u001b[0m out \u001b[38;5;241m=\u001b[39m out \u001b[38;5;241m+\u001b[39m out\u001b[38;5;241m.\u001b[39mT\n\u001b[0;32m   2016\u001b[0m \u001b[38;5;66;03m# Calculate diagonal\u001b[39;00m\n\u001b[0;32m   2017\u001b[0m \u001b[38;5;66;03m# NB: nonzero diagonals are allowed for both metrics and kernels\u001b[39;00m\n\u001b[1;32m-> 2018\u001b[0m \u001b[38;5;28;01mfor\u001b[39;00m i \u001b[38;5;129;01min\u001b[39;00m \u001b[38;5;28;43mrange\u001b[39;49m\u001b[43m(\u001b[49m\u001b[43mX\u001b[49m\u001b[38;5;241;43m.\u001b[39;49m\u001b[43mshape\u001b[49m\u001b[43m[\u001b[49m\u001b[38;5;241;43m0\u001b[39;49m\u001b[43m]\u001b[49m\u001b[43m)\u001b[49m:\n\u001b[0;32m   2019\u001b[0m     \u001b[38;5;66;03m# scipy has not yet implemented 1D sparse slices; once implemented this can\u001b[39;00m\n\u001b[0;32m   2020\u001b[0m     \u001b[38;5;66;03m# be removed and `arr[ind]` can be simply used.\u001b[39;00m\n\u001b[0;32m   2021\u001b[0m     x \u001b[38;5;241m=\u001b[39m X[[i], :] \u001b[38;5;28;01mif\u001b[39;00m issparse(X) \u001b[38;5;28;01melse\u001b[39;00m X[i]\n\u001b[0;32m   2022\u001b[0m     out[i, i] \u001b[38;5;241m=\u001b[39m metric(x, x, \u001b[38;5;241m*\u001b[39m\u001b[38;5;241m*\u001b[39mkwds)\n",
      "\u001b[1;31mKeyboardInterrupt\u001b[0m: "
     ]
    }
   ],
   "source": [
    "k_values = [10, 20, 50, 100, 300, 450]\n",
    "n_values = [30, 75, 100, 150, 200]   \n",
    "\n",
    "print('Testes para Spectral Clustering')\n",
    "for method_red in methods_reducing:\n",
    "    for n in n_components:\n",
    "        print(f'\\n Embeddings reduzidos com {method_red} e n_components {n}')\n",
    "        reduced_embeddings = dimensionality_reduction(embeddings=embeddings, method=method_red, n_components=n)\n",
    "        if not isinstance(reduced_embeddings, torch.Tensor):\n",
    "            reduced_embeddings = torch.tensor(reduced_embeddings, dtype=torch.float32)\n",
    "        output_path = f'clusters/{dataset}/{method_red}/n_components{n}'\n",
    "        os.makedirs(output_path, exist_ok=True)               \n",
    "\n",
    "        run_spectral_combinations(\n",
    "            embeddings=reduced_embeddings,\n",
    "            k_values=k_values,\n",
    "            neighbor_values=n_values,\n",
    "            output_path=output_path,\n",
    "            dataset_name=dataset\n",
    "        )\n",
    "\n",
    "print(\"\\nTodos os testes para Spectral Clustering concluídos\")"
   ]
  },
  {
   "cell_type": "code",
   "execution_count": null,
   "id": "3a43b167",
   "metadata": {},
   "outputs": [
    {
     "name": "stdout",
     "output_type": "stream",
     "text": [
      "Testes para DBSCAN Clustering\n",
      "\n",
      " Embeddings reduzidos com umap e n_components 8\n",
      "Aplicando UMAP com n_components = 8...\n"
     ]
    },
    {
     "name": "stderr",
     "output_type": "stream",
     "text": [
      "C:\\Users\\cruzd\\AppData\\Local\\Packages\\PythonSoftwareFoundation.Python.3.12_qbz5n2kfra8p0\\LocalCache\\local-packages\\Python312\\site-packages\\sklearn\\utils\\deprecation.py:151: FutureWarning: 'force_all_finite' was renamed to 'ensure_all_finite' in 1.6 and will be removed in 1.8.\n",
      "  warnings.warn(\n",
      "C:\\Users\\cruzd\\AppData\\Local\\Packages\\PythonSoftwareFoundation.Python.3.12_qbz5n2kfra8p0\\LocalCache\\local-packages\\Python312\\site-packages\\umap\\umap_.py:1952: UserWarning: n_jobs value 1 overridden to 1 by setting random_state. Use no seed for parallelism.\n",
      "  warn(\n"
     ]
    },
    {
     "name": "stdout",
     "output_type": "stream",
     "text": [
      "Dimensionalidade reduzida de 1000 para 8\n",
      "Executando run_dbscan...\n",
      "DBSCAN - eps = 0.05, min_samples = 10\n",
      "Clusters salvos em clusters/Tools/umap/n_components8\\run_dbscan/Tools_clusters_run_dbscan_eps0.05_min10.csv\n",
      "DBSCAN - eps = 0.05, min_samples = 20\n",
      "Clusters salvos em clusters/Tools/umap/n_components8\\run_dbscan/Tools_clusters_run_dbscan_eps0.05_min20.csv\n",
      "DBSCAN - eps = 0.05, min_samples = 50\n",
      "DBSCAN (eps=0.05, min_samples=50) gerou 1 cluster ou só ruído, ignorado.\n",
      "DBSCAN - eps = 0.05, min_samples = 100\n",
      "DBSCAN (eps=0.05, min_samples=100) gerou 1 cluster ou só ruído, ignorado.\n",
      "DBSCAN - eps = 0.05, min_samples = 200\n",
      "DBSCAN (eps=0.05, min_samples=200) gerou 1 cluster ou só ruído, ignorado.\n",
      "DBSCAN - eps = 0.1, min_samples = 10\n",
      "Clusters salvos em clusters/Tools/umap/n_components8\\run_dbscan/Tools_clusters_run_dbscan_eps0.1_min10.csv\n",
      "DBSCAN - eps = 0.1, min_samples = 20\n",
      "Clusters salvos em clusters/Tools/umap/n_components8\\run_dbscan/Tools_clusters_run_dbscan_eps0.1_min20.csv\n",
      "DBSCAN - eps = 0.1, min_samples = 50\n",
      "DBSCAN (eps=0.1, min_samples=50) gerou 1 cluster ou só ruído, ignorado.\n",
      "DBSCAN - eps = 0.1, min_samples = 100\n",
      "DBSCAN (eps=0.1, min_samples=100) gerou 1 cluster ou só ruído, ignorado.\n",
      "DBSCAN - eps = 0.1, min_samples = 200\n",
      "DBSCAN (eps=0.1, min_samples=200) gerou 1 cluster ou só ruído, ignorado.\n",
      "DBSCAN - eps = 0.2, min_samples = 10\n",
      "Clusters salvos em clusters/Tools/umap/n_components8\\run_dbscan/Tools_clusters_run_dbscan_eps0.2_min10.csv\n",
      "DBSCAN - eps = 0.2, min_samples = 20\n",
      "Clusters salvos em clusters/Tools/umap/n_components8\\run_dbscan/Tools_clusters_run_dbscan_eps0.2_min20.csv\n",
      "DBSCAN - eps = 0.2, min_samples = 50\n",
      "Clusters salvos em clusters/Tools/umap/n_components8\\run_dbscan/Tools_clusters_run_dbscan_eps0.2_min50.csv\n",
      "DBSCAN - eps = 0.2, min_samples = 100\n",
      "DBSCAN (eps=0.2, min_samples=100) gerou 1 cluster ou só ruído, ignorado.\n",
      "DBSCAN - eps = 0.2, min_samples = 200\n",
      "DBSCAN (eps=0.2, min_samples=200) gerou 1 cluster ou só ruído, ignorado.\n",
      "DBSCAN - eps = 0.6, min_samples = 10\n",
      "Clusters salvos em clusters/Tools/umap/n_components8\\run_dbscan/Tools_clusters_run_dbscan_eps0.6_min10.csv\n",
      "DBSCAN - eps = 0.6, min_samples = 20\n",
      "Clusters salvos em clusters/Tools/umap/n_components8\\run_dbscan/Tools_clusters_run_dbscan_eps0.6_min20.csv\n",
      "DBSCAN - eps = 0.6, min_samples = 50\n",
      "Clusters salvos em clusters/Tools/umap/n_components8\\run_dbscan/Tools_clusters_run_dbscan_eps0.6_min50.csv\n",
      "DBSCAN - eps = 0.6, min_samples = 100\n",
      "Clusters salvos em clusters/Tools/umap/n_components8\\run_dbscan/Tools_clusters_run_dbscan_eps0.6_min100.csv\n",
      "DBSCAN - eps = 0.6, min_samples = 200\n",
      "Clusters salvos em clusters/Tools/umap/n_components8\\run_dbscan/Tools_clusters_run_dbscan_eps0.6_min200.csv\n",
      "DBSCAN - eps = 1.0, min_samples = 10\n",
      "Clusters salvos em clusters/Tools/umap/n_components8\\run_dbscan/Tools_clusters_run_dbscan_eps1.0_min10.csv\n",
      "DBSCAN - eps = 1.0, min_samples = 20\n",
      "Clusters salvos em clusters/Tools/umap/n_components8\\run_dbscan/Tools_clusters_run_dbscan_eps1.0_min20.csv\n",
      "DBSCAN - eps = 1.0, min_samples = 50\n",
      "Clusters salvos em clusters/Tools/umap/n_components8\\run_dbscan/Tools_clusters_run_dbscan_eps1.0_min50.csv\n",
      "DBSCAN - eps = 1.0, min_samples = 100\n",
      "DBSCAN (eps=1.0, min_samples=100) gerou 1 cluster ou só ruído, ignorado.\n",
      "DBSCAN - eps = 1.0, min_samples = 200\n",
      "DBSCAN (eps=1.0, min_samples=200) gerou 1 cluster ou só ruído, ignorado.\n",
      "Clusterização concluída e resultados salvos\n",
      "\n",
      " Embeddings reduzidos com umap e n_components 32\n",
      "Aplicando UMAP com n_components = 32...\n"
     ]
    },
    {
     "name": "stderr",
     "output_type": "stream",
     "text": [
      "C:\\Users\\cruzd\\AppData\\Local\\Packages\\PythonSoftwareFoundation.Python.3.12_qbz5n2kfra8p0\\LocalCache\\local-packages\\Python312\\site-packages\\sklearn\\utils\\deprecation.py:151: FutureWarning: 'force_all_finite' was renamed to 'ensure_all_finite' in 1.6 and will be removed in 1.8.\n",
      "  warnings.warn(\n",
      "C:\\Users\\cruzd\\AppData\\Local\\Packages\\PythonSoftwareFoundation.Python.3.12_qbz5n2kfra8p0\\LocalCache\\local-packages\\Python312\\site-packages\\umap\\umap_.py:1952: UserWarning: n_jobs value 1 overridden to 1 by setting random_state. Use no seed for parallelism.\n",
      "  warn(\n"
     ]
    },
    {
     "name": "stdout",
     "output_type": "stream",
     "text": [
      "Dimensionalidade reduzida de 1000 para 32\n",
      "Executando run_dbscan...\n",
      "DBSCAN - eps = 0.05, min_samples = 10\n",
      "Clusters salvos em clusters/Tools/umap/n_components32\\run_dbscan/Tools_clusters_run_dbscan_eps0.05_min10.csv\n",
      "DBSCAN - eps = 0.05, min_samples = 20\n",
      "Clusters salvos em clusters/Tools/umap/n_components32\\run_dbscan/Tools_clusters_run_dbscan_eps0.05_min20.csv\n",
      "DBSCAN - eps = 0.05, min_samples = 50\n",
      "DBSCAN (eps=0.05, min_samples=50) gerou 1 cluster ou só ruído, ignorado.\n",
      "DBSCAN - eps = 0.05, min_samples = 100\n",
      "DBSCAN (eps=0.05, min_samples=100) gerou 1 cluster ou só ruído, ignorado.\n",
      "DBSCAN - eps = 0.05, min_samples = 200\n",
      "DBSCAN (eps=0.05, min_samples=200) gerou 1 cluster ou só ruído, ignorado.\n",
      "DBSCAN - eps = 0.1, min_samples = 10\n",
      "Clusters salvos em clusters/Tools/umap/n_components32\\run_dbscan/Tools_clusters_run_dbscan_eps0.1_min10.csv\n",
      "DBSCAN - eps = 0.1, min_samples = 20\n",
      "Clusters salvos em clusters/Tools/umap/n_components32\\run_dbscan/Tools_clusters_run_dbscan_eps0.1_min20.csv\n",
      "DBSCAN - eps = 0.1, min_samples = 50\n",
      "DBSCAN (eps=0.1, min_samples=50) gerou 1 cluster ou só ruído, ignorado.\n",
      "DBSCAN - eps = 0.1, min_samples = 100\n",
      "DBSCAN (eps=0.1, min_samples=100) gerou 1 cluster ou só ruído, ignorado.\n",
      "DBSCAN - eps = 0.1, min_samples = 200\n",
      "DBSCAN (eps=0.1, min_samples=200) gerou 1 cluster ou só ruído, ignorado.\n",
      "DBSCAN - eps = 0.2, min_samples = 10\n",
      "Clusters salvos em clusters/Tools/umap/n_components32\\run_dbscan/Tools_clusters_run_dbscan_eps0.2_min10.csv\n",
      "DBSCAN - eps = 0.2, min_samples = 20\n",
      "Clusters salvos em clusters/Tools/umap/n_components32\\run_dbscan/Tools_clusters_run_dbscan_eps0.2_min20.csv\n",
      "DBSCAN - eps = 0.2, min_samples = 50\n",
      "Clusters salvos em clusters/Tools/umap/n_components32\\run_dbscan/Tools_clusters_run_dbscan_eps0.2_min50.csv\n",
      "DBSCAN - eps = 0.2, min_samples = 100\n",
      "DBSCAN (eps=0.2, min_samples=100) gerou 1 cluster ou só ruído, ignorado.\n",
      "DBSCAN - eps = 0.2, min_samples = 200\n",
      "DBSCAN (eps=0.2, min_samples=200) gerou 1 cluster ou só ruído, ignorado.\n",
      "DBSCAN - eps = 0.6, min_samples = 10\n",
      "Clusters salvos em clusters/Tools/umap/n_components32\\run_dbscan/Tools_clusters_run_dbscan_eps0.6_min10.csv\n",
      "DBSCAN - eps = 0.6, min_samples = 20\n",
      "Clusters salvos em clusters/Tools/umap/n_components32\\run_dbscan/Tools_clusters_run_dbscan_eps0.6_min20.csv\n",
      "DBSCAN - eps = 0.6, min_samples = 50\n",
      "Clusters salvos em clusters/Tools/umap/n_components32\\run_dbscan/Tools_clusters_run_dbscan_eps0.6_min50.csv\n",
      "DBSCAN - eps = 0.6, min_samples = 100\n",
      "Clusters salvos em clusters/Tools/umap/n_components32\\run_dbscan/Tools_clusters_run_dbscan_eps0.6_min100.csv\n",
      "DBSCAN - eps = 0.6, min_samples = 200\n",
      "Clusters salvos em clusters/Tools/umap/n_components32\\run_dbscan/Tools_clusters_run_dbscan_eps0.6_min200.csv\n",
      "DBSCAN - eps = 1.0, min_samples = 10\n",
      "Clusters salvos em clusters/Tools/umap/n_components32\\run_dbscan/Tools_clusters_run_dbscan_eps1.0_min10.csv\n",
      "DBSCAN - eps = 1.0, min_samples = 20\n",
      "Clusters salvos em clusters/Tools/umap/n_components32\\run_dbscan/Tools_clusters_run_dbscan_eps1.0_min20.csv\n",
      "DBSCAN - eps = 1.0, min_samples = 50\n",
      "Clusters salvos em clusters/Tools/umap/n_components32\\run_dbscan/Tools_clusters_run_dbscan_eps1.0_min50.csv\n",
      "DBSCAN - eps = 1.0, min_samples = 100\n",
      "DBSCAN (eps=1.0, min_samples=100) gerou 1 cluster ou só ruído, ignorado.\n",
      "DBSCAN - eps = 1.0, min_samples = 200\n",
      "DBSCAN (eps=1.0, min_samples=200) gerou 1 cluster ou só ruído, ignorado.\n",
      "Clusterização concluída e resultados salvos\n",
      "\n",
      " Embeddings reduzidos com umap e n_components 64\n",
      "Aplicando UMAP com n_components = 64...\n"
     ]
    },
    {
     "name": "stderr",
     "output_type": "stream",
     "text": [
      "C:\\Users\\cruzd\\AppData\\Local\\Packages\\PythonSoftwareFoundation.Python.3.12_qbz5n2kfra8p0\\LocalCache\\local-packages\\Python312\\site-packages\\sklearn\\utils\\deprecation.py:151: FutureWarning: 'force_all_finite' was renamed to 'ensure_all_finite' in 1.6 and will be removed in 1.8.\n",
      "  warnings.warn(\n",
      "C:\\Users\\cruzd\\AppData\\Local\\Packages\\PythonSoftwareFoundation.Python.3.12_qbz5n2kfra8p0\\LocalCache\\local-packages\\Python312\\site-packages\\umap\\umap_.py:1952: UserWarning: n_jobs value 1 overridden to 1 by setting random_state. Use no seed for parallelism.\n",
      "  warn(\n"
     ]
    },
    {
     "name": "stdout",
     "output_type": "stream",
     "text": [
      "Dimensionalidade reduzida de 1000 para 64\n",
      "Executando run_dbscan...\n",
      "DBSCAN - eps = 0.05, min_samples = 10\n",
      "Clusters salvos em clusters/Tools/umap/n_components64\\run_dbscan/Tools_clusters_run_dbscan_eps0.05_min10.csv\n",
      "DBSCAN - eps = 0.05, min_samples = 20\n",
      "Clusters salvos em clusters/Tools/umap/n_components64\\run_dbscan/Tools_clusters_run_dbscan_eps0.05_min20.csv\n",
      "DBSCAN - eps = 0.05, min_samples = 50\n",
      "DBSCAN (eps=0.05, min_samples=50) gerou 1 cluster ou só ruído, ignorado.\n",
      "DBSCAN - eps = 0.05, min_samples = 100\n",
      "DBSCAN (eps=0.05, min_samples=100) gerou 1 cluster ou só ruído, ignorado.\n",
      "DBSCAN - eps = 0.05, min_samples = 200\n",
      "DBSCAN (eps=0.05, min_samples=200) gerou 1 cluster ou só ruído, ignorado.\n",
      "DBSCAN - eps = 0.1, min_samples = 10\n",
      "Clusters salvos em clusters/Tools/umap/n_components64\\run_dbscan/Tools_clusters_run_dbscan_eps0.1_min10.csv\n",
      "DBSCAN - eps = 0.1, min_samples = 20\n",
      "Clusters salvos em clusters/Tools/umap/n_components64\\run_dbscan/Tools_clusters_run_dbscan_eps0.1_min20.csv\n",
      "DBSCAN - eps = 0.1, min_samples = 50\n",
      "DBSCAN (eps=0.1, min_samples=50) gerou 1 cluster ou só ruído, ignorado.\n",
      "DBSCAN - eps = 0.1, min_samples = 100\n",
      "DBSCAN (eps=0.1, min_samples=100) gerou 1 cluster ou só ruído, ignorado.\n",
      "DBSCAN - eps = 0.1, min_samples = 200\n",
      "DBSCAN (eps=0.1, min_samples=200) gerou 1 cluster ou só ruído, ignorado.\n",
      "DBSCAN - eps = 0.2, min_samples = 10\n",
      "Clusters salvos em clusters/Tools/umap/n_components64\\run_dbscan/Tools_clusters_run_dbscan_eps0.2_min10.csv\n",
      "DBSCAN - eps = 0.2, min_samples = 20\n",
      "Clusters salvos em clusters/Tools/umap/n_components64\\run_dbscan/Tools_clusters_run_dbscan_eps0.2_min20.csv\n",
      "DBSCAN - eps = 0.2, min_samples = 50\n",
      "Clusters salvos em clusters/Tools/umap/n_components64\\run_dbscan/Tools_clusters_run_dbscan_eps0.2_min50.csv\n",
      "DBSCAN - eps = 0.2, min_samples = 100\n",
      "DBSCAN (eps=0.2, min_samples=100) gerou 1 cluster ou só ruído, ignorado.\n",
      "DBSCAN - eps = 0.2, min_samples = 200\n",
      "DBSCAN (eps=0.2, min_samples=200) gerou 1 cluster ou só ruído, ignorado.\n",
      "DBSCAN - eps = 0.6, min_samples = 10\n",
      "Clusters salvos em clusters/Tools/umap/n_components64\\run_dbscan/Tools_clusters_run_dbscan_eps0.6_min10.csv\n",
      "DBSCAN - eps = 0.6, min_samples = 20\n",
      "Clusters salvos em clusters/Tools/umap/n_components64\\run_dbscan/Tools_clusters_run_dbscan_eps0.6_min20.csv\n",
      "DBSCAN - eps = 0.6, min_samples = 50\n",
      "Clusters salvos em clusters/Tools/umap/n_components64\\run_dbscan/Tools_clusters_run_dbscan_eps0.6_min50.csv\n",
      "DBSCAN - eps = 0.6, min_samples = 100\n",
      "Clusters salvos em clusters/Tools/umap/n_components64\\run_dbscan/Tools_clusters_run_dbscan_eps0.6_min100.csv\n",
      "DBSCAN - eps = 0.6, min_samples = 200\n",
      "Clusters salvos em clusters/Tools/umap/n_components64\\run_dbscan/Tools_clusters_run_dbscan_eps0.6_min200.csv\n",
      "DBSCAN - eps = 1.0, min_samples = 10\n",
      "Clusters salvos em clusters/Tools/umap/n_components64\\run_dbscan/Tools_clusters_run_dbscan_eps1.0_min10.csv\n",
      "DBSCAN - eps = 1.0, min_samples = 20\n",
      "Clusters salvos em clusters/Tools/umap/n_components64\\run_dbscan/Tools_clusters_run_dbscan_eps1.0_min20.csv\n",
      "DBSCAN - eps = 1.0, min_samples = 50\n",
      "Clusters salvos em clusters/Tools/umap/n_components64\\run_dbscan/Tools_clusters_run_dbscan_eps1.0_min50.csv\n",
      "DBSCAN - eps = 1.0, min_samples = 100\n",
      "DBSCAN (eps=1.0, min_samples=100) gerou 1 cluster ou só ruído, ignorado.\n",
      "DBSCAN - eps = 1.0, min_samples = 200\n",
      "DBSCAN (eps=1.0, min_samples=200) gerou 1 cluster ou só ruído, ignorado.\n",
      "Clusterização concluída e resultados salvos\n",
      "\n",
      " Embeddings reduzidos com umap e n_components 128\n",
      "Aplicando UMAP com n_components = 128...\n"
     ]
    },
    {
     "name": "stderr",
     "output_type": "stream",
     "text": [
      "C:\\Users\\cruzd\\AppData\\Local\\Packages\\PythonSoftwareFoundation.Python.3.12_qbz5n2kfra8p0\\LocalCache\\local-packages\\Python312\\site-packages\\sklearn\\utils\\deprecation.py:151: FutureWarning: 'force_all_finite' was renamed to 'ensure_all_finite' in 1.6 and will be removed in 1.8.\n",
      "  warnings.warn(\n",
      "C:\\Users\\cruzd\\AppData\\Local\\Packages\\PythonSoftwareFoundation.Python.3.12_qbz5n2kfra8p0\\LocalCache\\local-packages\\Python312\\site-packages\\umap\\umap_.py:1952: UserWarning: n_jobs value 1 overridden to 1 by setting random_state. Use no seed for parallelism.\n",
      "  warn(\n"
     ]
    },
    {
     "name": "stdout",
     "output_type": "stream",
     "text": [
      "Dimensionalidade reduzida de 1000 para 128\n",
      "Executando run_dbscan...\n",
      "DBSCAN - eps = 0.05, min_samples = 10\n",
      "Clusters salvos em clusters/Tools/umap/n_components128\\run_dbscan/Tools_clusters_run_dbscan_eps0.05_min10.csv\n",
      "DBSCAN - eps = 0.05, min_samples = 20\n",
      "Clusters salvos em clusters/Tools/umap/n_components128\\run_dbscan/Tools_clusters_run_dbscan_eps0.05_min20.csv\n",
      "DBSCAN - eps = 0.05, min_samples = 50\n",
      "DBSCAN (eps=0.05, min_samples=50) gerou 1 cluster ou só ruído, ignorado.\n",
      "DBSCAN - eps = 0.05, min_samples = 100\n",
      "DBSCAN (eps=0.05, min_samples=100) gerou 1 cluster ou só ruído, ignorado.\n",
      "DBSCAN - eps = 0.05, min_samples = 200\n",
      "DBSCAN (eps=0.05, min_samples=200) gerou 1 cluster ou só ruído, ignorado.\n",
      "DBSCAN - eps = 0.1, min_samples = 10\n",
      "Clusters salvos em clusters/Tools/umap/n_components128\\run_dbscan/Tools_clusters_run_dbscan_eps0.1_min10.csv\n",
      "DBSCAN - eps = 0.1, min_samples = 20\n",
      "Clusters salvos em clusters/Tools/umap/n_components128\\run_dbscan/Tools_clusters_run_dbscan_eps0.1_min20.csv\n",
      "DBSCAN - eps = 0.1, min_samples = 50\n",
      "DBSCAN (eps=0.1, min_samples=50) gerou 1 cluster ou só ruído, ignorado.\n",
      "DBSCAN - eps = 0.1, min_samples = 100\n",
      "DBSCAN (eps=0.1, min_samples=100) gerou 1 cluster ou só ruído, ignorado.\n",
      "DBSCAN - eps = 0.1, min_samples = 200\n",
      "DBSCAN (eps=0.1, min_samples=200) gerou 1 cluster ou só ruído, ignorado.\n",
      "DBSCAN - eps = 0.2, min_samples = 10\n",
      "Clusters salvos em clusters/Tools/umap/n_components128\\run_dbscan/Tools_clusters_run_dbscan_eps0.2_min10.csv\n",
      "DBSCAN - eps = 0.2, min_samples = 20\n",
      "Clusters salvos em clusters/Tools/umap/n_components128\\run_dbscan/Tools_clusters_run_dbscan_eps0.2_min20.csv\n",
      "DBSCAN - eps = 0.2, min_samples = 50\n",
      "Clusters salvos em clusters/Tools/umap/n_components128\\run_dbscan/Tools_clusters_run_dbscan_eps0.2_min50.csv\n",
      "DBSCAN - eps = 0.2, min_samples = 100\n",
      "DBSCAN (eps=0.2, min_samples=100) gerou 1 cluster ou só ruído, ignorado.\n",
      "DBSCAN - eps = 0.2, min_samples = 200\n",
      "DBSCAN (eps=0.2, min_samples=200) gerou 1 cluster ou só ruído, ignorado.\n",
      "DBSCAN - eps = 0.6, min_samples = 10\n",
      "Clusters salvos em clusters/Tools/umap/n_components128\\run_dbscan/Tools_clusters_run_dbscan_eps0.6_min10.csv\n",
      "DBSCAN - eps = 0.6, min_samples = 20\n",
      "Clusters salvos em clusters/Tools/umap/n_components128\\run_dbscan/Tools_clusters_run_dbscan_eps0.6_min20.csv\n",
      "DBSCAN - eps = 0.6, min_samples = 50\n",
      "Clusters salvos em clusters/Tools/umap/n_components128\\run_dbscan/Tools_clusters_run_dbscan_eps0.6_min50.csv\n",
      "DBSCAN - eps = 0.6, min_samples = 100\n",
      "Clusters salvos em clusters/Tools/umap/n_components128\\run_dbscan/Tools_clusters_run_dbscan_eps0.6_min100.csv\n",
      "DBSCAN - eps = 0.6, min_samples = 200\n",
      "Clusters salvos em clusters/Tools/umap/n_components128\\run_dbscan/Tools_clusters_run_dbscan_eps0.6_min200.csv\n",
      "DBSCAN - eps = 1.0, min_samples = 10\n",
      "Clusters salvos em clusters/Tools/umap/n_components128\\run_dbscan/Tools_clusters_run_dbscan_eps1.0_min10.csv\n",
      "DBSCAN - eps = 1.0, min_samples = 20\n",
      "Clusters salvos em clusters/Tools/umap/n_components128\\run_dbscan/Tools_clusters_run_dbscan_eps1.0_min20.csv\n",
      "DBSCAN - eps = 1.0, min_samples = 50\n",
      "Clusters salvos em clusters/Tools/umap/n_components128\\run_dbscan/Tools_clusters_run_dbscan_eps1.0_min50.csv\n",
      "DBSCAN - eps = 1.0, min_samples = 100\n",
      "DBSCAN (eps=1.0, min_samples=100) gerou 1 cluster ou só ruído, ignorado.\n",
      "DBSCAN - eps = 1.0, min_samples = 200\n",
      "DBSCAN (eps=1.0, min_samples=200) gerou 1 cluster ou só ruído, ignorado.\n",
      "Clusterização concluída e resultados salvos\n",
      "\n",
      " Embeddings reduzidos com umap e n_components 256\n",
      "Aplicando UMAP com n_components = 256...\n"
     ]
    },
    {
     "name": "stderr",
     "output_type": "stream",
     "text": [
      "C:\\Users\\cruzd\\AppData\\Local\\Packages\\PythonSoftwareFoundation.Python.3.12_qbz5n2kfra8p0\\LocalCache\\local-packages\\Python312\\site-packages\\sklearn\\utils\\deprecation.py:151: FutureWarning: 'force_all_finite' was renamed to 'ensure_all_finite' in 1.6 and will be removed in 1.8.\n",
      "  warnings.warn(\n",
      "C:\\Users\\cruzd\\AppData\\Local\\Packages\\PythonSoftwareFoundation.Python.3.12_qbz5n2kfra8p0\\LocalCache\\local-packages\\Python312\\site-packages\\umap\\umap_.py:1952: UserWarning: n_jobs value 1 overridden to 1 by setting random_state. Use no seed for parallelism.\n",
      "  warn(\n"
     ]
    },
    {
     "name": "stdout",
     "output_type": "stream",
     "text": [
      "Dimensionalidade reduzida de 1000 para 256\n",
      "Executando run_dbscan...\n",
      "DBSCAN - eps = 0.05, min_samples = 10\n",
      "Clusters salvos em clusters/Tools/umap/n_components256\\run_dbscan/Tools_clusters_run_dbscan_eps0.05_min10.csv\n",
      "DBSCAN - eps = 0.05, min_samples = 20\n",
      "Clusters salvos em clusters/Tools/umap/n_components256\\run_dbscan/Tools_clusters_run_dbscan_eps0.05_min20.csv\n",
      "DBSCAN - eps = 0.05, min_samples = 50\n",
      "DBSCAN (eps=0.05, min_samples=50) gerou 1 cluster ou só ruído, ignorado.\n",
      "DBSCAN - eps = 0.05, min_samples = 100\n",
      "DBSCAN (eps=0.05, min_samples=100) gerou 1 cluster ou só ruído, ignorado.\n",
      "DBSCAN - eps = 0.05, min_samples = 200\n",
      "DBSCAN (eps=0.05, min_samples=200) gerou 1 cluster ou só ruído, ignorado.\n",
      "DBSCAN - eps = 0.1, min_samples = 10\n",
      "Clusters salvos em clusters/Tools/umap/n_components256\\run_dbscan/Tools_clusters_run_dbscan_eps0.1_min10.csv\n",
      "DBSCAN - eps = 0.1, min_samples = 20\n",
      "Clusters salvos em clusters/Tools/umap/n_components256\\run_dbscan/Tools_clusters_run_dbscan_eps0.1_min20.csv\n",
      "DBSCAN - eps = 0.1, min_samples = 50\n",
      "DBSCAN (eps=0.1, min_samples=50) gerou 1 cluster ou só ruído, ignorado.\n",
      "DBSCAN - eps = 0.1, min_samples = 100\n",
      "DBSCAN (eps=0.1, min_samples=100) gerou 1 cluster ou só ruído, ignorado.\n",
      "DBSCAN - eps = 0.1, min_samples = 200\n",
      "DBSCAN (eps=0.1, min_samples=200) gerou 1 cluster ou só ruído, ignorado.\n",
      "DBSCAN - eps = 0.2, min_samples = 10\n",
      "Clusters salvos em clusters/Tools/umap/n_components256\\run_dbscan/Tools_clusters_run_dbscan_eps0.2_min10.csv\n",
      "DBSCAN - eps = 0.2, min_samples = 20\n",
      "Clusters salvos em clusters/Tools/umap/n_components256\\run_dbscan/Tools_clusters_run_dbscan_eps0.2_min20.csv\n",
      "DBSCAN - eps = 0.2, min_samples = 50\n",
      "Clusters salvos em clusters/Tools/umap/n_components256\\run_dbscan/Tools_clusters_run_dbscan_eps0.2_min50.csv\n",
      "DBSCAN - eps = 0.2, min_samples = 100\n",
      "DBSCAN (eps=0.2, min_samples=100) gerou 1 cluster ou só ruído, ignorado.\n",
      "DBSCAN - eps = 0.2, min_samples = 200\n",
      "DBSCAN (eps=0.2, min_samples=200) gerou 1 cluster ou só ruído, ignorado.\n",
      "DBSCAN - eps = 0.6, min_samples = 10\n",
      "Clusters salvos em clusters/Tools/umap/n_components256\\run_dbscan/Tools_clusters_run_dbscan_eps0.6_min10.csv\n",
      "DBSCAN - eps = 0.6, min_samples = 20\n",
      "Clusters salvos em clusters/Tools/umap/n_components256\\run_dbscan/Tools_clusters_run_dbscan_eps0.6_min20.csv\n",
      "DBSCAN - eps = 0.6, min_samples = 50\n",
      "Clusters salvos em clusters/Tools/umap/n_components256\\run_dbscan/Tools_clusters_run_dbscan_eps0.6_min50.csv\n",
      "DBSCAN - eps = 0.6, min_samples = 100\n",
      "Clusters salvos em clusters/Tools/umap/n_components256\\run_dbscan/Tools_clusters_run_dbscan_eps0.6_min100.csv\n",
      "DBSCAN - eps = 0.6, min_samples = 200\n",
      "Clusters salvos em clusters/Tools/umap/n_components256\\run_dbscan/Tools_clusters_run_dbscan_eps0.6_min200.csv\n",
      "DBSCAN - eps = 1.0, min_samples = 10\n",
      "Clusters salvos em clusters/Tools/umap/n_components256\\run_dbscan/Tools_clusters_run_dbscan_eps1.0_min10.csv\n",
      "DBSCAN - eps = 1.0, min_samples = 20\n",
      "Clusters salvos em clusters/Tools/umap/n_components256\\run_dbscan/Tools_clusters_run_dbscan_eps1.0_min20.csv\n",
      "DBSCAN - eps = 1.0, min_samples = 50\n",
      "Clusters salvos em clusters/Tools/umap/n_components256\\run_dbscan/Tools_clusters_run_dbscan_eps1.0_min50.csv\n",
      "DBSCAN - eps = 1.0, min_samples = 100\n",
      "DBSCAN (eps=1.0, min_samples=100) gerou 1 cluster ou só ruído, ignorado.\n",
      "DBSCAN - eps = 1.0, min_samples = 200\n",
      "DBSCAN (eps=1.0, min_samples=200) gerou 1 cluster ou só ruído, ignorado.\n",
      "Clusterização concluída e resultados salvos\n",
      "\n",
      " Embeddings reduzidos com umap e n_components 512\n",
      "Aplicando UMAP com n_components = 512...\n"
     ]
    },
    {
     "name": "stderr",
     "output_type": "stream",
     "text": [
      "C:\\Users\\cruzd\\AppData\\Local\\Packages\\PythonSoftwareFoundation.Python.3.12_qbz5n2kfra8p0\\LocalCache\\local-packages\\Python312\\site-packages\\sklearn\\utils\\deprecation.py:151: FutureWarning: 'force_all_finite' was renamed to 'ensure_all_finite' in 1.6 and will be removed in 1.8.\n",
      "  warnings.warn(\n",
      "C:\\Users\\cruzd\\AppData\\Local\\Packages\\PythonSoftwareFoundation.Python.3.12_qbz5n2kfra8p0\\LocalCache\\local-packages\\Python312\\site-packages\\umap\\umap_.py:1952: UserWarning: n_jobs value 1 overridden to 1 by setting random_state. Use no seed for parallelism.\n",
      "  warn(\n"
     ]
    },
    {
     "name": "stdout",
     "output_type": "stream",
     "text": [
      "Dimensionalidade reduzida de 1000 para 512\n",
      "Executando run_dbscan...\n",
      "DBSCAN - eps = 0.05, min_samples = 10\n",
      "Clusters salvos em clusters/Tools/umap/n_components512\\run_dbscan/Tools_clusters_run_dbscan_eps0.05_min10.csv\n",
      "DBSCAN - eps = 0.05, min_samples = 20\n",
      "Clusters salvos em clusters/Tools/umap/n_components512\\run_dbscan/Tools_clusters_run_dbscan_eps0.05_min20.csv\n",
      "DBSCAN - eps = 0.05, min_samples = 50\n",
      "DBSCAN (eps=0.05, min_samples=50) gerou 1 cluster ou só ruído, ignorado.\n",
      "DBSCAN - eps = 0.05, min_samples = 100\n",
      "DBSCAN (eps=0.05, min_samples=100) gerou 1 cluster ou só ruído, ignorado.\n",
      "DBSCAN - eps = 0.05, min_samples = 200\n",
      "DBSCAN (eps=0.05, min_samples=200) gerou 1 cluster ou só ruído, ignorado.\n",
      "DBSCAN - eps = 0.1, min_samples = 10\n",
      "Clusters salvos em clusters/Tools/umap/n_components512\\run_dbscan/Tools_clusters_run_dbscan_eps0.1_min10.csv\n",
      "DBSCAN - eps = 0.1, min_samples = 20\n",
      "Clusters salvos em clusters/Tools/umap/n_components512\\run_dbscan/Tools_clusters_run_dbscan_eps0.1_min20.csv\n",
      "DBSCAN - eps = 0.1, min_samples = 50\n",
      "DBSCAN (eps=0.1, min_samples=50) gerou 1 cluster ou só ruído, ignorado.\n",
      "DBSCAN - eps = 0.1, min_samples = 100\n",
      "DBSCAN (eps=0.1, min_samples=100) gerou 1 cluster ou só ruído, ignorado.\n",
      "DBSCAN - eps = 0.1, min_samples = 200\n",
      "DBSCAN (eps=0.1, min_samples=200) gerou 1 cluster ou só ruído, ignorado.\n",
      "DBSCAN - eps = 0.2, min_samples = 10\n",
      "Clusters salvos em clusters/Tools/umap/n_components512\\run_dbscan/Tools_clusters_run_dbscan_eps0.2_min10.csv\n",
      "DBSCAN - eps = 0.2, min_samples = 20\n",
      "Clusters salvos em clusters/Tools/umap/n_components512\\run_dbscan/Tools_clusters_run_dbscan_eps0.2_min20.csv\n",
      "DBSCAN - eps = 0.2, min_samples = 50\n",
      "Clusters salvos em clusters/Tools/umap/n_components512\\run_dbscan/Tools_clusters_run_dbscan_eps0.2_min50.csv\n",
      "DBSCAN - eps = 0.2, min_samples = 100\n",
      "DBSCAN (eps=0.2, min_samples=100) gerou 1 cluster ou só ruído, ignorado.\n",
      "DBSCAN - eps = 0.2, min_samples = 200\n",
      "DBSCAN (eps=0.2, min_samples=200) gerou 1 cluster ou só ruído, ignorado.\n",
      "DBSCAN - eps = 0.6, min_samples = 10\n",
      "Clusters salvos em clusters/Tools/umap/n_components512\\run_dbscan/Tools_clusters_run_dbscan_eps0.6_min10.csv\n",
      "DBSCAN - eps = 0.6, min_samples = 20\n",
      "Clusters salvos em clusters/Tools/umap/n_components512\\run_dbscan/Tools_clusters_run_dbscan_eps0.6_min20.csv\n",
      "DBSCAN - eps = 0.6, min_samples = 50\n",
      "Clusters salvos em clusters/Tools/umap/n_components512\\run_dbscan/Tools_clusters_run_dbscan_eps0.6_min50.csv\n",
      "DBSCAN - eps = 0.6, min_samples = 100\n",
      "Clusters salvos em clusters/Tools/umap/n_components512\\run_dbscan/Tools_clusters_run_dbscan_eps0.6_min100.csv\n",
      "DBSCAN - eps = 0.6, min_samples = 200\n",
      "Clusters salvos em clusters/Tools/umap/n_components512\\run_dbscan/Tools_clusters_run_dbscan_eps0.6_min200.csv\n",
      "DBSCAN - eps = 1.0, min_samples = 10\n",
      "Clusters salvos em clusters/Tools/umap/n_components512\\run_dbscan/Tools_clusters_run_dbscan_eps1.0_min10.csv\n",
      "DBSCAN - eps = 1.0, min_samples = 20\n",
      "Clusters salvos em clusters/Tools/umap/n_components512\\run_dbscan/Tools_clusters_run_dbscan_eps1.0_min20.csv\n",
      "DBSCAN - eps = 1.0, min_samples = 50\n",
      "Clusters salvos em clusters/Tools/umap/n_components512\\run_dbscan/Tools_clusters_run_dbscan_eps1.0_min50.csv\n",
      "DBSCAN - eps = 1.0, min_samples = 100\n",
      "Clusters salvos em clusters/Tools/umap/n_components512\\run_dbscan/Tools_clusters_run_dbscan_eps1.0_min100.csv\n",
      "DBSCAN - eps = 1.0, min_samples = 200\n",
      "DBSCAN (eps=1.0, min_samples=200) gerou 1 cluster ou só ruído, ignorado.\n",
      "Clusterização concluída e resultados salvos\n",
      "\n",
      "Todos os testes para DBSCAN concluídos\n"
     ]
    }
   ],
   "source": [
    "#teste dbscan\n",
    "eps_values = [0.05, 0.1, 0.2, 0.6, 1.0]          \n",
    "min_samples_values = [10, 20, 50, 100, 200]\n",
    "\n",
    "\n",
    "print('Testes para DBSCAN Clustering')\n",
    "for method_red in methods_reducing:\n",
    "    for n in n_components:\n",
    "        print(f'\\n Embeddings reduzidos com {method_red} e n_components {n}')\n",
    "        reduced_embeddings = dimensionality_reduction(embeddings=embeddings, method=method_red, n_components=n)\n",
    "        if not isinstance(reduced_embeddings, torch.Tensor):\n",
    "            reduced_embeddings = torch.tensor(reduced_embeddings, dtype=torch.float32)\n",
    "        output_path = f'clusters/{dataset}/{method_red}/n_components{n}'\n",
    "        os.makedirs(output_path, exist_ok=True)               \n",
    "\n",
    "        run_dbscan_combinations(\n",
    "            embeddings=reduced_embeddings,\n",
    "            eps_values=eps_values,\n",
    "            min_samples_values=min_samples_values,\n",
    "            output_path=output_path,\n",
    "            dataset_name=dataset\n",
    "        )\n",
    "\n",
    "print(\"\\nTodos os testes para DBSCAN concluídos\")"
   ]
  },
  {
   "cell_type": "code",
   "execution_count": null,
   "id": "df81376d",
   "metadata": {},
   "outputs": [
    {
     "name": "stdout",
     "output_type": "stream",
     "text": [
      "Testes para HDBSCAN Clustering\n",
      "\n",
      " Embeddings reduzidos com umap e n_components 8\n",
      "Aplicando UMAP com n_components = 8...\n"
     ]
    },
    {
     "name": "stderr",
     "output_type": "stream",
     "text": [
      "C:\\Users\\cruzd\\AppData\\Local\\Packages\\PythonSoftwareFoundation.Python.3.12_qbz5n2kfra8p0\\LocalCache\\local-packages\\Python312\\site-packages\\sklearn\\utils\\deprecation.py:151: FutureWarning: 'force_all_finite' was renamed to 'ensure_all_finite' in 1.6 and will be removed in 1.8.\n",
      "  warnings.warn(\n",
      "C:\\Users\\cruzd\\AppData\\Local\\Packages\\PythonSoftwareFoundation.Python.3.12_qbz5n2kfra8p0\\LocalCache\\local-packages\\Python312\\site-packages\\umap\\umap_.py:1952: UserWarning: n_jobs value 1 overridden to 1 by setting random_state. Use no seed for parallelism.\n",
      "  warn(\n"
     ]
    },
    {
     "name": "stdout",
     "output_type": "stream",
     "text": [
      "Dimensionalidade reduzida de 1000 para 8\n",
      "Executando run_hdbscan...\n",
      "HDBSCAN - min_cluster_size = 30, min_samples = 10\n"
     ]
    },
    {
     "name": "stderr",
     "output_type": "stream",
     "text": [
      "C:\\Users\\cruzd\\AppData\\Local\\Packages\\PythonSoftwareFoundation.Python.3.12_qbz5n2kfra8p0\\LocalCache\\local-packages\\Python312\\site-packages\\sklearn\\utils\\deprecation.py:151: FutureWarning: 'force_all_finite' was renamed to 'ensure_all_finite' in 1.6 and will be removed in 1.8.\n",
      "  warnings.warn(\n",
      "C:\\Users\\cruzd\\AppData\\Local\\Packages\\PythonSoftwareFoundation.Python.3.12_qbz5n2kfra8p0\\LocalCache\\local-packages\\Python312\\site-packages\\sklearn\\utils\\deprecation.py:151: FutureWarning: 'force_all_finite' was renamed to 'ensure_all_finite' in 1.6 and will be removed in 1.8.\n",
      "  warnings.warn(\n"
     ]
    },
    {
     "name": "stdout",
     "output_type": "stream",
     "text": [
      "Clusters salvos em clusters/Tools/umap/n_components8\\run_hdbscan/Tools_clusters_run_hdbscan_minsize30_minsample10.csv\n",
      "HDBSCAN - min_cluster_size = 30, min_samples = 20\n"
     ]
    },
    {
     "name": "stderr",
     "output_type": "stream",
     "text": [
      "C:\\Users\\cruzd\\AppData\\Local\\Packages\\PythonSoftwareFoundation.Python.3.12_qbz5n2kfra8p0\\LocalCache\\local-packages\\Python312\\site-packages\\sklearn\\utils\\deprecation.py:151: FutureWarning: 'force_all_finite' was renamed to 'ensure_all_finite' in 1.6 and will be removed in 1.8.\n",
      "  warnings.warn(\n",
      "C:\\Users\\cruzd\\AppData\\Local\\Packages\\PythonSoftwareFoundation.Python.3.12_qbz5n2kfra8p0\\LocalCache\\local-packages\\Python312\\site-packages\\sklearn\\utils\\deprecation.py:151: FutureWarning: 'force_all_finite' was renamed to 'ensure_all_finite' in 1.6 and will be removed in 1.8.\n",
      "  warnings.warn(\n"
     ]
    },
    {
     "name": "stdout",
     "output_type": "stream",
     "text": [
      "Clusters salvos em clusters/Tools/umap/n_components8\\run_hdbscan/Tools_clusters_run_hdbscan_minsize30_minsample20.csv\n",
      "HDBSCAN - min_cluster_size = 30, min_samples = 30\n"
     ]
    },
    {
     "name": "stderr",
     "output_type": "stream",
     "text": [
      "C:\\Users\\cruzd\\AppData\\Local\\Packages\\PythonSoftwareFoundation.Python.3.12_qbz5n2kfra8p0\\LocalCache\\local-packages\\Python312\\site-packages\\sklearn\\utils\\deprecation.py:151: FutureWarning: 'force_all_finite' was renamed to 'ensure_all_finite' in 1.6 and will be removed in 1.8.\n",
      "  warnings.warn(\n",
      "C:\\Users\\cruzd\\AppData\\Local\\Packages\\PythonSoftwareFoundation.Python.3.12_qbz5n2kfra8p0\\LocalCache\\local-packages\\Python312\\site-packages\\sklearn\\utils\\deprecation.py:151: FutureWarning: 'force_all_finite' was renamed to 'ensure_all_finite' in 1.6 and will be removed in 1.8.\n",
      "  warnings.warn(\n"
     ]
    },
    {
     "name": "stdout",
     "output_type": "stream",
     "text": [
      "Clusters salvos em clusters/Tools/umap/n_components8\\run_hdbscan/Tools_clusters_run_hdbscan_minsize30_minsample30.csv\n",
      "HDBSCAN - min_cluster_size = 30, min_samples = 50\n"
     ]
    },
    {
     "name": "stderr",
     "output_type": "stream",
     "text": [
      "C:\\Users\\cruzd\\AppData\\Local\\Packages\\PythonSoftwareFoundation.Python.3.12_qbz5n2kfra8p0\\LocalCache\\local-packages\\Python312\\site-packages\\sklearn\\utils\\deprecation.py:151: FutureWarning: 'force_all_finite' was renamed to 'ensure_all_finite' in 1.6 and will be removed in 1.8.\n",
      "  warnings.warn(\n",
      "C:\\Users\\cruzd\\AppData\\Local\\Packages\\PythonSoftwareFoundation.Python.3.12_qbz5n2kfra8p0\\LocalCache\\local-packages\\Python312\\site-packages\\sklearn\\utils\\deprecation.py:151: FutureWarning: 'force_all_finite' was renamed to 'ensure_all_finite' in 1.6 and will be removed in 1.8.\n",
      "  warnings.warn(\n"
     ]
    },
    {
     "name": "stdout",
     "output_type": "stream",
     "text": [
      "Clusters salvos em clusters/Tools/umap/n_components8\\run_hdbscan/Tools_clusters_run_hdbscan_minsize30_minsample50.csv\n",
      "HDBSCAN - min_cluster_size = 30, min_samples = 100\n"
     ]
    },
    {
     "name": "stderr",
     "output_type": "stream",
     "text": [
      "C:\\Users\\cruzd\\AppData\\Local\\Packages\\PythonSoftwareFoundation.Python.3.12_qbz5n2kfra8p0\\LocalCache\\local-packages\\Python312\\site-packages\\sklearn\\utils\\deprecation.py:151: FutureWarning: 'force_all_finite' was renamed to 'ensure_all_finite' in 1.6 and will be removed in 1.8.\n",
      "  warnings.warn(\n",
      "C:\\Users\\cruzd\\AppData\\Local\\Packages\\PythonSoftwareFoundation.Python.3.12_qbz5n2kfra8p0\\LocalCache\\local-packages\\Python312\\site-packages\\sklearn\\utils\\deprecation.py:151: FutureWarning: 'force_all_finite' was renamed to 'ensure_all_finite' in 1.6 and will be removed in 1.8.\n",
      "  warnings.warn(\n"
     ]
    },
    {
     "name": "stdout",
     "output_type": "stream",
     "text": [
      "Clusters salvos em clusters/Tools/umap/n_components8\\run_hdbscan/Tools_clusters_run_hdbscan_minsize30_minsample100.csv\n",
      "HDBSCAN - min_cluster_size = 50, min_samples = 10\n"
     ]
    },
    {
     "name": "stderr",
     "output_type": "stream",
     "text": [
      "C:\\Users\\cruzd\\AppData\\Local\\Packages\\PythonSoftwareFoundation.Python.3.12_qbz5n2kfra8p0\\LocalCache\\local-packages\\Python312\\site-packages\\sklearn\\utils\\deprecation.py:151: FutureWarning: 'force_all_finite' was renamed to 'ensure_all_finite' in 1.6 and will be removed in 1.8.\n",
      "  warnings.warn(\n",
      "C:\\Users\\cruzd\\AppData\\Local\\Packages\\PythonSoftwareFoundation.Python.3.12_qbz5n2kfra8p0\\LocalCache\\local-packages\\Python312\\site-packages\\sklearn\\utils\\deprecation.py:151: FutureWarning: 'force_all_finite' was renamed to 'ensure_all_finite' in 1.6 and will be removed in 1.8.\n",
      "  warnings.warn(\n"
     ]
    },
    {
     "name": "stdout",
     "output_type": "stream",
     "text": [
      "Clusters salvos em clusters/Tools/umap/n_components8\\run_hdbscan/Tools_clusters_run_hdbscan_minsize50_minsample10.csv\n",
      "HDBSCAN - min_cluster_size = 50, min_samples = 20\n"
     ]
    },
    {
     "name": "stderr",
     "output_type": "stream",
     "text": [
      "C:\\Users\\cruzd\\AppData\\Local\\Packages\\PythonSoftwareFoundation.Python.3.12_qbz5n2kfra8p0\\LocalCache\\local-packages\\Python312\\site-packages\\sklearn\\utils\\deprecation.py:151: FutureWarning: 'force_all_finite' was renamed to 'ensure_all_finite' in 1.6 and will be removed in 1.8.\n",
      "  warnings.warn(\n",
      "C:\\Users\\cruzd\\AppData\\Local\\Packages\\PythonSoftwareFoundation.Python.3.12_qbz5n2kfra8p0\\LocalCache\\local-packages\\Python312\\site-packages\\sklearn\\utils\\deprecation.py:151: FutureWarning: 'force_all_finite' was renamed to 'ensure_all_finite' in 1.6 and will be removed in 1.8.\n",
      "  warnings.warn(\n"
     ]
    },
    {
     "name": "stdout",
     "output_type": "stream",
     "text": [
      "Clusters salvos em clusters/Tools/umap/n_components8\\run_hdbscan/Tools_clusters_run_hdbscan_minsize50_minsample20.csv\n",
      "HDBSCAN - min_cluster_size = 50, min_samples = 30\n"
     ]
    },
    {
     "name": "stderr",
     "output_type": "stream",
     "text": [
      "C:\\Users\\cruzd\\AppData\\Local\\Packages\\PythonSoftwareFoundation.Python.3.12_qbz5n2kfra8p0\\LocalCache\\local-packages\\Python312\\site-packages\\sklearn\\utils\\deprecation.py:151: FutureWarning: 'force_all_finite' was renamed to 'ensure_all_finite' in 1.6 and will be removed in 1.8.\n",
      "  warnings.warn(\n",
      "C:\\Users\\cruzd\\AppData\\Local\\Packages\\PythonSoftwareFoundation.Python.3.12_qbz5n2kfra8p0\\LocalCache\\local-packages\\Python312\\site-packages\\sklearn\\utils\\deprecation.py:151: FutureWarning: 'force_all_finite' was renamed to 'ensure_all_finite' in 1.6 and will be removed in 1.8.\n",
      "  warnings.warn(\n"
     ]
    },
    {
     "name": "stdout",
     "output_type": "stream",
     "text": [
      "Clusters salvos em clusters/Tools/umap/n_components8\\run_hdbscan/Tools_clusters_run_hdbscan_minsize50_minsample30.csv\n",
      "HDBSCAN - min_cluster_size = 50, min_samples = 50\n"
     ]
    },
    {
     "name": "stderr",
     "output_type": "stream",
     "text": [
      "C:\\Users\\cruzd\\AppData\\Local\\Packages\\PythonSoftwareFoundation.Python.3.12_qbz5n2kfra8p0\\LocalCache\\local-packages\\Python312\\site-packages\\sklearn\\utils\\deprecation.py:151: FutureWarning: 'force_all_finite' was renamed to 'ensure_all_finite' in 1.6 and will be removed in 1.8.\n",
      "  warnings.warn(\n",
      "C:\\Users\\cruzd\\AppData\\Local\\Packages\\PythonSoftwareFoundation.Python.3.12_qbz5n2kfra8p0\\LocalCache\\local-packages\\Python312\\site-packages\\sklearn\\utils\\deprecation.py:151: FutureWarning: 'force_all_finite' was renamed to 'ensure_all_finite' in 1.6 and will be removed in 1.8.\n",
      "  warnings.warn(\n"
     ]
    },
    {
     "name": "stdout",
     "output_type": "stream",
     "text": [
      "Clusters salvos em clusters/Tools/umap/n_components8\\run_hdbscan/Tools_clusters_run_hdbscan_minsize50_minsample50.csv\n",
      "HDBSCAN - min_cluster_size = 50, min_samples = 100\n"
     ]
    },
    {
     "name": "stderr",
     "output_type": "stream",
     "text": [
      "C:\\Users\\cruzd\\AppData\\Local\\Packages\\PythonSoftwareFoundation.Python.3.12_qbz5n2kfra8p0\\LocalCache\\local-packages\\Python312\\site-packages\\sklearn\\utils\\deprecation.py:151: FutureWarning: 'force_all_finite' was renamed to 'ensure_all_finite' in 1.6 and will be removed in 1.8.\n",
      "  warnings.warn(\n",
      "C:\\Users\\cruzd\\AppData\\Local\\Packages\\PythonSoftwareFoundation.Python.3.12_qbz5n2kfra8p0\\LocalCache\\local-packages\\Python312\\site-packages\\sklearn\\utils\\deprecation.py:151: FutureWarning: 'force_all_finite' was renamed to 'ensure_all_finite' in 1.6 and will be removed in 1.8.\n",
      "  warnings.warn(\n"
     ]
    },
    {
     "name": "stdout",
     "output_type": "stream",
     "text": [
      "Clusters salvos em clusters/Tools/umap/n_components8\\run_hdbscan/Tools_clusters_run_hdbscan_minsize50_minsample100.csv\n",
      "HDBSCAN - min_cluster_size = 100, min_samples = 10\n"
     ]
    },
    {
     "name": "stderr",
     "output_type": "stream",
     "text": [
      "C:\\Users\\cruzd\\AppData\\Local\\Packages\\PythonSoftwareFoundation.Python.3.12_qbz5n2kfra8p0\\LocalCache\\local-packages\\Python312\\site-packages\\sklearn\\utils\\deprecation.py:151: FutureWarning: 'force_all_finite' was renamed to 'ensure_all_finite' in 1.6 and will be removed in 1.8.\n",
      "  warnings.warn(\n",
      "C:\\Users\\cruzd\\AppData\\Local\\Packages\\PythonSoftwareFoundation.Python.3.12_qbz5n2kfra8p0\\LocalCache\\local-packages\\Python312\\site-packages\\sklearn\\utils\\deprecation.py:151: FutureWarning: 'force_all_finite' was renamed to 'ensure_all_finite' in 1.6 and will be removed in 1.8.\n",
      "  warnings.warn(\n"
     ]
    },
    {
     "name": "stdout",
     "output_type": "stream",
     "text": [
      "Clusters salvos em clusters/Tools/umap/n_components8\\run_hdbscan/Tools_clusters_run_hdbscan_minsize100_minsample10.csv\n",
      "HDBSCAN - min_cluster_size = 100, min_samples = 20\n"
     ]
    },
    {
     "name": "stderr",
     "output_type": "stream",
     "text": [
      "C:\\Users\\cruzd\\AppData\\Local\\Packages\\PythonSoftwareFoundation.Python.3.12_qbz5n2kfra8p0\\LocalCache\\local-packages\\Python312\\site-packages\\sklearn\\utils\\deprecation.py:151: FutureWarning: 'force_all_finite' was renamed to 'ensure_all_finite' in 1.6 and will be removed in 1.8.\n",
      "  warnings.warn(\n",
      "C:\\Users\\cruzd\\AppData\\Local\\Packages\\PythonSoftwareFoundation.Python.3.12_qbz5n2kfra8p0\\LocalCache\\local-packages\\Python312\\site-packages\\sklearn\\utils\\deprecation.py:151: FutureWarning: 'force_all_finite' was renamed to 'ensure_all_finite' in 1.6 and will be removed in 1.8.\n",
      "  warnings.warn(\n"
     ]
    },
    {
     "name": "stdout",
     "output_type": "stream",
     "text": [
      "Clusters salvos em clusters/Tools/umap/n_components8\\run_hdbscan/Tools_clusters_run_hdbscan_minsize100_minsample20.csv\n",
      "HDBSCAN - min_cluster_size = 100, min_samples = 30\n"
     ]
    },
    {
     "name": "stderr",
     "output_type": "stream",
     "text": [
      "C:\\Users\\cruzd\\AppData\\Local\\Packages\\PythonSoftwareFoundation.Python.3.12_qbz5n2kfra8p0\\LocalCache\\local-packages\\Python312\\site-packages\\sklearn\\utils\\deprecation.py:151: FutureWarning: 'force_all_finite' was renamed to 'ensure_all_finite' in 1.6 and will be removed in 1.8.\n",
      "  warnings.warn(\n",
      "C:\\Users\\cruzd\\AppData\\Local\\Packages\\PythonSoftwareFoundation.Python.3.12_qbz5n2kfra8p0\\LocalCache\\local-packages\\Python312\\site-packages\\sklearn\\utils\\deprecation.py:151: FutureWarning: 'force_all_finite' was renamed to 'ensure_all_finite' in 1.6 and will be removed in 1.8.\n",
      "  warnings.warn(\n"
     ]
    },
    {
     "name": "stdout",
     "output_type": "stream",
     "text": [
      "Clusters salvos em clusters/Tools/umap/n_components8\\run_hdbscan/Tools_clusters_run_hdbscan_minsize100_minsample30.csv\n",
      "HDBSCAN - min_cluster_size = 100, min_samples = 50\n"
     ]
    },
    {
     "name": "stderr",
     "output_type": "stream",
     "text": [
      "C:\\Users\\cruzd\\AppData\\Local\\Packages\\PythonSoftwareFoundation.Python.3.12_qbz5n2kfra8p0\\LocalCache\\local-packages\\Python312\\site-packages\\sklearn\\utils\\deprecation.py:151: FutureWarning: 'force_all_finite' was renamed to 'ensure_all_finite' in 1.6 and will be removed in 1.8.\n",
      "  warnings.warn(\n",
      "C:\\Users\\cruzd\\AppData\\Local\\Packages\\PythonSoftwareFoundation.Python.3.12_qbz5n2kfra8p0\\LocalCache\\local-packages\\Python312\\site-packages\\sklearn\\utils\\deprecation.py:151: FutureWarning: 'force_all_finite' was renamed to 'ensure_all_finite' in 1.6 and will be removed in 1.8.\n",
      "  warnings.warn(\n"
     ]
    },
    {
     "name": "stdout",
     "output_type": "stream",
     "text": [
      "Clusters salvos em clusters/Tools/umap/n_components8\\run_hdbscan/Tools_clusters_run_hdbscan_minsize100_minsample50.csv\n",
      "HDBSCAN - min_cluster_size = 100, min_samples = 100\n"
     ]
    },
    {
     "name": "stderr",
     "output_type": "stream",
     "text": [
      "C:\\Users\\cruzd\\AppData\\Local\\Packages\\PythonSoftwareFoundation.Python.3.12_qbz5n2kfra8p0\\LocalCache\\local-packages\\Python312\\site-packages\\sklearn\\utils\\deprecation.py:151: FutureWarning: 'force_all_finite' was renamed to 'ensure_all_finite' in 1.6 and will be removed in 1.8.\n",
      "  warnings.warn(\n",
      "C:\\Users\\cruzd\\AppData\\Local\\Packages\\PythonSoftwareFoundation.Python.3.12_qbz5n2kfra8p0\\LocalCache\\local-packages\\Python312\\site-packages\\sklearn\\utils\\deprecation.py:151: FutureWarning: 'force_all_finite' was renamed to 'ensure_all_finite' in 1.6 and will be removed in 1.8.\n",
      "  warnings.warn(\n"
     ]
    },
    {
     "name": "stdout",
     "output_type": "stream",
     "text": [
      "Clusters salvos em clusters/Tools/umap/n_components8\\run_hdbscan/Tools_clusters_run_hdbscan_minsize100_minsample100.csv\n",
      "HDBSCAN - min_cluster_size = 200, min_samples = 10\n"
     ]
    },
    {
     "name": "stderr",
     "output_type": "stream",
     "text": [
      "C:\\Users\\cruzd\\AppData\\Local\\Packages\\PythonSoftwareFoundation.Python.3.12_qbz5n2kfra8p0\\LocalCache\\local-packages\\Python312\\site-packages\\sklearn\\utils\\deprecation.py:151: FutureWarning: 'force_all_finite' was renamed to 'ensure_all_finite' in 1.6 and will be removed in 1.8.\n",
      "  warnings.warn(\n",
      "C:\\Users\\cruzd\\AppData\\Local\\Packages\\PythonSoftwareFoundation.Python.3.12_qbz5n2kfra8p0\\LocalCache\\local-packages\\Python312\\site-packages\\sklearn\\utils\\deprecation.py:151: FutureWarning: 'force_all_finite' was renamed to 'ensure_all_finite' in 1.6 and will be removed in 1.8.\n",
      "  warnings.warn(\n"
     ]
    },
    {
     "name": "stdout",
     "output_type": "stream",
     "text": [
      "Clusters salvos em clusters/Tools/umap/n_components8\\run_hdbscan/Tools_clusters_run_hdbscan_minsize200_minsample10.csv\n",
      "HDBSCAN - min_cluster_size = 200, min_samples = 20\n"
     ]
    },
    {
     "name": "stderr",
     "output_type": "stream",
     "text": [
      "C:\\Users\\cruzd\\AppData\\Local\\Packages\\PythonSoftwareFoundation.Python.3.12_qbz5n2kfra8p0\\LocalCache\\local-packages\\Python312\\site-packages\\sklearn\\utils\\deprecation.py:151: FutureWarning: 'force_all_finite' was renamed to 'ensure_all_finite' in 1.6 and will be removed in 1.8.\n",
      "  warnings.warn(\n",
      "C:\\Users\\cruzd\\AppData\\Local\\Packages\\PythonSoftwareFoundation.Python.3.12_qbz5n2kfra8p0\\LocalCache\\local-packages\\Python312\\site-packages\\sklearn\\utils\\deprecation.py:151: FutureWarning: 'force_all_finite' was renamed to 'ensure_all_finite' in 1.6 and will be removed in 1.8.\n",
      "  warnings.warn(\n"
     ]
    },
    {
     "name": "stdout",
     "output_type": "stream",
     "text": [
      "Clusters salvos em clusters/Tools/umap/n_components8\\run_hdbscan/Tools_clusters_run_hdbscan_minsize200_minsample20.csv\n",
      "HDBSCAN - min_cluster_size = 200, min_samples = 30\n"
     ]
    },
    {
     "name": "stderr",
     "output_type": "stream",
     "text": [
      "C:\\Users\\cruzd\\AppData\\Local\\Packages\\PythonSoftwareFoundation.Python.3.12_qbz5n2kfra8p0\\LocalCache\\local-packages\\Python312\\site-packages\\sklearn\\utils\\deprecation.py:151: FutureWarning: 'force_all_finite' was renamed to 'ensure_all_finite' in 1.6 and will be removed in 1.8.\n",
      "  warnings.warn(\n",
      "C:\\Users\\cruzd\\AppData\\Local\\Packages\\PythonSoftwareFoundation.Python.3.12_qbz5n2kfra8p0\\LocalCache\\local-packages\\Python312\\site-packages\\sklearn\\utils\\deprecation.py:151: FutureWarning: 'force_all_finite' was renamed to 'ensure_all_finite' in 1.6 and will be removed in 1.8.\n",
      "  warnings.warn(\n"
     ]
    },
    {
     "name": "stdout",
     "output_type": "stream",
     "text": [
      "Clusters salvos em clusters/Tools/umap/n_components8\\run_hdbscan/Tools_clusters_run_hdbscan_minsize200_minsample30.csv\n",
      "HDBSCAN - min_cluster_size = 200, min_samples = 50\n"
     ]
    },
    {
     "name": "stderr",
     "output_type": "stream",
     "text": [
      "C:\\Users\\cruzd\\AppData\\Local\\Packages\\PythonSoftwareFoundation.Python.3.12_qbz5n2kfra8p0\\LocalCache\\local-packages\\Python312\\site-packages\\sklearn\\utils\\deprecation.py:151: FutureWarning: 'force_all_finite' was renamed to 'ensure_all_finite' in 1.6 and will be removed in 1.8.\n",
      "  warnings.warn(\n",
      "C:\\Users\\cruzd\\AppData\\Local\\Packages\\PythonSoftwareFoundation.Python.3.12_qbz5n2kfra8p0\\LocalCache\\local-packages\\Python312\\site-packages\\sklearn\\utils\\deprecation.py:151: FutureWarning: 'force_all_finite' was renamed to 'ensure_all_finite' in 1.6 and will be removed in 1.8.\n",
      "  warnings.warn(\n"
     ]
    },
    {
     "name": "stdout",
     "output_type": "stream",
     "text": [
      "Clusters salvos em clusters/Tools/umap/n_components8\\run_hdbscan/Tools_clusters_run_hdbscan_minsize200_minsample50.csv\n",
      "HDBSCAN - min_cluster_size = 200, min_samples = 100\n"
     ]
    },
    {
     "name": "stderr",
     "output_type": "stream",
     "text": [
      "C:\\Users\\cruzd\\AppData\\Local\\Packages\\PythonSoftwareFoundation.Python.3.12_qbz5n2kfra8p0\\LocalCache\\local-packages\\Python312\\site-packages\\sklearn\\utils\\deprecation.py:151: FutureWarning: 'force_all_finite' was renamed to 'ensure_all_finite' in 1.6 and will be removed in 1.8.\n",
      "  warnings.warn(\n",
      "C:\\Users\\cruzd\\AppData\\Local\\Packages\\PythonSoftwareFoundation.Python.3.12_qbz5n2kfra8p0\\LocalCache\\local-packages\\Python312\\site-packages\\sklearn\\utils\\deprecation.py:151: FutureWarning: 'force_all_finite' was renamed to 'ensure_all_finite' in 1.6 and will be removed in 1.8.\n",
      "  warnings.warn(\n"
     ]
    },
    {
     "name": "stdout",
     "output_type": "stream",
     "text": [
      "Clusters salvos em clusters/Tools/umap/n_components8\\run_hdbscan/Tools_clusters_run_hdbscan_minsize200_minsample100.csv\n",
      "HDBSCAN - min_cluster_size = 300, min_samples = 10\n"
     ]
    },
    {
     "name": "stderr",
     "output_type": "stream",
     "text": [
      "C:\\Users\\cruzd\\AppData\\Local\\Packages\\PythonSoftwareFoundation.Python.3.12_qbz5n2kfra8p0\\LocalCache\\local-packages\\Python312\\site-packages\\sklearn\\utils\\deprecation.py:151: FutureWarning: 'force_all_finite' was renamed to 'ensure_all_finite' in 1.6 and will be removed in 1.8.\n",
      "  warnings.warn(\n",
      "C:\\Users\\cruzd\\AppData\\Local\\Packages\\PythonSoftwareFoundation.Python.3.12_qbz5n2kfra8p0\\LocalCache\\local-packages\\Python312\\site-packages\\sklearn\\utils\\deprecation.py:151: FutureWarning: 'force_all_finite' was renamed to 'ensure_all_finite' in 1.6 and will be removed in 1.8.\n",
      "  warnings.warn(\n"
     ]
    },
    {
     "name": "stdout",
     "output_type": "stream",
     "text": [
      "Clusters salvos em clusters/Tools/umap/n_components8\\run_hdbscan/Tools_clusters_run_hdbscan_minsize300_minsample10.csv\n",
      "HDBSCAN - min_cluster_size = 300, min_samples = 20\n"
     ]
    },
    {
     "name": "stderr",
     "output_type": "stream",
     "text": [
      "C:\\Users\\cruzd\\AppData\\Local\\Packages\\PythonSoftwareFoundation.Python.3.12_qbz5n2kfra8p0\\LocalCache\\local-packages\\Python312\\site-packages\\sklearn\\utils\\deprecation.py:151: FutureWarning: 'force_all_finite' was renamed to 'ensure_all_finite' in 1.6 and will be removed in 1.8.\n",
      "  warnings.warn(\n",
      "C:\\Users\\cruzd\\AppData\\Local\\Packages\\PythonSoftwareFoundation.Python.3.12_qbz5n2kfra8p0\\LocalCache\\local-packages\\Python312\\site-packages\\sklearn\\utils\\deprecation.py:151: FutureWarning: 'force_all_finite' was renamed to 'ensure_all_finite' in 1.6 and will be removed in 1.8.\n",
      "  warnings.warn(\n"
     ]
    },
    {
     "name": "stdout",
     "output_type": "stream",
     "text": [
      "Clusters salvos em clusters/Tools/umap/n_components8\\run_hdbscan/Tools_clusters_run_hdbscan_minsize300_minsample20.csv\n",
      "HDBSCAN - min_cluster_size = 300, min_samples = 30\n"
     ]
    },
    {
     "name": "stderr",
     "output_type": "stream",
     "text": [
      "C:\\Users\\cruzd\\AppData\\Local\\Packages\\PythonSoftwareFoundation.Python.3.12_qbz5n2kfra8p0\\LocalCache\\local-packages\\Python312\\site-packages\\sklearn\\utils\\deprecation.py:151: FutureWarning: 'force_all_finite' was renamed to 'ensure_all_finite' in 1.6 and will be removed in 1.8.\n",
      "  warnings.warn(\n",
      "C:\\Users\\cruzd\\AppData\\Local\\Packages\\PythonSoftwareFoundation.Python.3.12_qbz5n2kfra8p0\\LocalCache\\local-packages\\Python312\\site-packages\\sklearn\\utils\\deprecation.py:151: FutureWarning: 'force_all_finite' was renamed to 'ensure_all_finite' in 1.6 and will be removed in 1.8.\n",
      "  warnings.warn(\n"
     ]
    },
    {
     "name": "stdout",
     "output_type": "stream",
     "text": [
      "Clusters salvos em clusters/Tools/umap/n_components8\\run_hdbscan/Tools_clusters_run_hdbscan_minsize300_minsample30.csv\n",
      "HDBSCAN - min_cluster_size = 300, min_samples = 50\n"
     ]
    },
    {
     "name": "stderr",
     "output_type": "stream",
     "text": [
      "C:\\Users\\cruzd\\AppData\\Local\\Packages\\PythonSoftwareFoundation.Python.3.12_qbz5n2kfra8p0\\LocalCache\\local-packages\\Python312\\site-packages\\sklearn\\utils\\deprecation.py:151: FutureWarning: 'force_all_finite' was renamed to 'ensure_all_finite' in 1.6 and will be removed in 1.8.\n",
      "  warnings.warn(\n",
      "C:\\Users\\cruzd\\AppData\\Local\\Packages\\PythonSoftwareFoundation.Python.3.12_qbz5n2kfra8p0\\LocalCache\\local-packages\\Python312\\site-packages\\sklearn\\utils\\deprecation.py:151: FutureWarning: 'force_all_finite' was renamed to 'ensure_all_finite' in 1.6 and will be removed in 1.8.\n",
      "  warnings.warn(\n"
     ]
    },
    {
     "name": "stdout",
     "output_type": "stream",
     "text": [
      "Clusters salvos em clusters/Tools/umap/n_components8\\run_hdbscan/Tools_clusters_run_hdbscan_minsize300_minsample50.csv\n",
      "HDBSCAN - min_cluster_size = 300, min_samples = 100\n"
     ]
    },
    {
     "name": "stderr",
     "output_type": "stream",
     "text": [
      "C:\\Users\\cruzd\\AppData\\Local\\Packages\\PythonSoftwareFoundation.Python.3.12_qbz5n2kfra8p0\\LocalCache\\local-packages\\Python312\\site-packages\\sklearn\\utils\\deprecation.py:151: FutureWarning: 'force_all_finite' was renamed to 'ensure_all_finite' in 1.6 and will be removed in 1.8.\n",
      "  warnings.warn(\n",
      "C:\\Users\\cruzd\\AppData\\Local\\Packages\\PythonSoftwareFoundation.Python.3.12_qbz5n2kfra8p0\\LocalCache\\local-packages\\Python312\\site-packages\\sklearn\\utils\\deprecation.py:151: FutureWarning: 'force_all_finite' was renamed to 'ensure_all_finite' in 1.6 and will be removed in 1.8.\n",
      "  warnings.warn(\n"
     ]
    },
    {
     "name": "stdout",
     "output_type": "stream",
     "text": [
      "Clusters salvos em clusters/Tools/umap/n_components8\\run_hdbscan/Tools_clusters_run_hdbscan_minsize300_minsample100.csv\n",
      "Clusterização concluída e resultados salvos\n",
      "\n",
      " Embeddings reduzidos com umap e n_components 32\n",
      "Aplicando UMAP com n_components = 32...\n"
     ]
    },
    {
     "name": "stderr",
     "output_type": "stream",
     "text": [
      "C:\\Users\\cruzd\\AppData\\Local\\Packages\\PythonSoftwareFoundation.Python.3.12_qbz5n2kfra8p0\\LocalCache\\local-packages\\Python312\\site-packages\\sklearn\\utils\\deprecation.py:151: FutureWarning: 'force_all_finite' was renamed to 'ensure_all_finite' in 1.6 and will be removed in 1.8.\n",
      "  warnings.warn(\n",
      "C:\\Users\\cruzd\\AppData\\Local\\Packages\\PythonSoftwareFoundation.Python.3.12_qbz5n2kfra8p0\\LocalCache\\local-packages\\Python312\\site-packages\\umap\\umap_.py:1952: UserWarning: n_jobs value 1 overridden to 1 by setting random_state. Use no seed for parallelism.\n",
      "  warn(\n"
     ]
    },
    {
     "name": "stdout",
     "output_type": "stream",
     "text": [
      "Dimensionalidade reduzida de 1000 para 32\n",
      "Executando run_hdbscan...\n",
      "HDBSCAN - min_cluster_size = 30, min_samples = 10\n"
     ]
    },
    {
     "name": "stderr",
     "output_type": "stream",
     "text": [
      "C:\\Users\\cruzd\\AppData\\Local\\Packages\\PythonSoftwareFoundation.Python.3.12_qbz5n2kfra8p0\\LocalCache\\local-packages\\Python312\\site-packages\\sklearn\\utils\\deprecation.py:151: FutureWarning: 'force_all_finite' was renamed to 'ensure_all_finite' in 1.6 and will be removed in 1.8.\n",
      "  warnings.warn(\n",
      "C:\\Users\\cruzd\\AppData\\Local\\Packages\\PythonSoftwareFoundation.Python.3.12_qbz5n2kfra8p0\\LocalCache\\local-packages\\Python312\\site-packages\\sklearn\\utils\\deprecation.py:151: FutureWarning: 'force_all_finite' was renamed to 'ensure_all_finite' in 1.6 and will be removed in 1.8.\n",
      "  warnings.warn(\n"
     ]
    },
    {
     "name": "stdout",
     "output_type": "stream",
     "text": [
      "Clusters salvos em clusters/Tools/umap/n_components32\\run_hdbscan/Tools_clusters_run_hdbscan_minsize30_minsample10.csv\n",
      "HDBSCAN - min_cluster_size = 30, min_samples = 20\n"
     ]
    },
    {
     "name": "stderr",
     "output_type": "stream",
     "text": [
      "C:\\Users\\cruzd\\AppData\\Local\\Packages\\PythonSoftwareFoundation.Python.3.12_qbz5n2kfra8p0\\LocalCache\\local-packages\\Python312\\site-packages\\sklearn\\utils\\deprecation.py:151: FutureWarning: 'force_all_finite' was renamed to 'ensure_all_finite' in 1.6 and will be removed in 1.8.\n",
      "  warnings.warn(\n",
      "C:\\Users\\cruzd\\AppData\\Local\\Packages\\PythonSoftwareFoundation.Python.3.12_qbz5n2kfra8p0\\LocalCache\\local-packages\\Python312\\site-packages\\sklearn\\utils\\deprecation.py:151: FutureWarning: 'force_all_finite' was renamed to 'ensure_all_finite' in 1.6 and will be removed in 1.8.\n",
      "  warnings.warn(\n"
     ]
    },
    {
     "name": "stdout",
     "output_type": "stream",
     "text": [
      "Clusters salvos em clusters/Tools/umap/n_components32\\run_hdbscan/Tools_clusters_run_hdbscan_minsize30_minsample20.csv\n",
      "HDBSCAN - min_cluster_size = 30, min_samples = 30\n"
     ]
    },
    {
     "name": "stderr",
     "output_type": "stream",
     "text": [
      "C:\\Users\\cruzd\\AppData\\Local\\Packages\\PythonSoftwareFoundation.Python.3.12_qbz5n2kfra8p0\\LocalCache\\local-packages\\Python312\\site-packages\\sklearn\\utils\\deprecation.py:151: FutureWarning: 'force_all_finite' was renamed to 'ensure_all_finite' in 1.6 and will be removed in 1.8.\n",
      "  warnings.warn(\n",
      "C:\\Users\\cruzd\\AppData\\Local\\Packages\\PythonSoftwareFoundation.Python.3.12_qbz5n2kfra8p0\\LocalCache\\local-packages\\Python312\\site-packages\\sklearn\\utils\\deprecation.py:151: FutureWarning: 'force_all_finite' was renamed to 'ensure_all_finite' in 1.6 and will be removed in 1.8.\n",
      "  warnings.warn(\n"
     ]
    },
    {
     "name": "stdout",
     "output_type": "stream",
     "text": [
      "Clusters salvos em clusters/Tools/umap/n_components32\\run_hdbscan/Tools_clusters_run_hdbscan_minsize30_minsample30.csv\n",
      "HDBSCAN - min_cluster_size = 30, min_samples = 50\n"
     ]
    },
    {
     "name": "stderr",
     "output_type": "stream",
     "text": [
      "C:\\Users\\cruzd\\AppData\\Local\\Packages\\PythonSoftwareFoundation.Python.3.12_qbz5n2kfra8p0\\LocalCache\\local-packages\\Python312\\site-packages\\sklearn\\utils\\deprecation.py:151: FutureWarning: 'force_all_finite' was renamed to 'ensure_all_finite' in 1.6 and will be removed in 1.8.\n",
      "  warnings.warn(\n",
      "C:\\Users\\cruzd\\AppData\\Local\\Packages\\PythonSoftwareFoundation.Python.3.12_qbz5n2kfra8p0\\LocalCache\\local-packages\\Python312\\site-packages\\sklearn\\utils\\deprecation.py:151: FutureWarning: 'force_all_finite' was renamed to 'ensure_all_finite' in 1.6 and will be removed in 1.8.\n",
      "  warnings.warn(\n"
     ]
    },
    {
     "name": "stdout",
     "output_type": "stream",
     "text": [
      "Clusters salvos em clusters/Tools/umap/n_components32\\run_hdbscan/Tools_clusters_run_hdbscan_minsize30_minsample50.csv\n",
      "HDBSCAN - min_cluster_size = 30, min_samples = 100\n"
     ]
    },
    {
     "name": "stderr",
     "output_type": "stream",
     "text": [
      "C:\\Users\\cruzd\\AppData\\Local\\Packages\\PythonSoftwareFoundation.Python.3.12_qbz5n2kfra8p0\\LocalCache\\local-packages\\Python312\\site-packages\\sklearn\\utils\\deprecation.py:151: FutureWarning: 'force_all_finite' was renamed to 'ensure_all_finite' in 1.6 and will be removed in 1.8.\n",
      "  warnings.warn(\n",
      "C:\\Users\\cruzd\\AppData\\Local\\Packages\\PythonSoftwareFoundation.Python.3.12_qbz5n2kfra8p0\\LocalCache\\local-packages\\Python312\\site-packages\\sklearn\\utils\\deprecation.py:151: FutureWarning: 'force_all_finite' was renamed to 'ensure_all_finite' in 1.6 and will be removed in 1.8.\n",
      "  warnings.warn(\n"
     ]
    },
    {
     "name": "stdout",
     "output_type": "stream",
     "text": [
      "Clusters salvos em clusters/Tools/umap/n_components32\\run_hdbscan/Tools_clusters_run_hdbscan_minsize30_minsample100.csv\n",
      "HDBSCAN - min_cluster_size = 50, min_samples = 10\n"
     ]
    },
    {
     "name": "stderr",
     "output_type": "stream",
     "text": [
      "C:\\Users\\cruzd\\AppData\\Local\\Packages\\PythonSoftwareFoundation.Python.3.12_qbz5n2kfra8p0\\LocalCache\\local-packages\\Python312\\site-packages\\sklearn\\utils\\deprecation.py:151: FutureWarning: 'force_all_finite' was renamed to 'ensure_all_finite' in 1.6 and will be removed in 1.8.\n",
      "  warnings.warn(\n",
      "C:\\Users\\cruzd\\AppData\\Local\\Packages\\PythonSoftwareFoundation.Python.3.12_qbz5n2kfra8p0\\LocalCache\\local-packages\\Python312\\site-packages\\sklearn\\utils\\deprecation.py:151: FutureWarning: 'force_all_finite' was renamed to 'ensure_all_finite' in 1.6 and will be removed in 1.8.\n",
      "  warnings.warn(\n"
     ]
    },
    {
     "name": "stdout",
     "output_type": "stream",
     "text": [
      "Clusters salvos em clusters/Tools/umap/n_components32\\run_hdbscan/Tools_clusters_run_hdbscan_minsize50_minsample10.csv\n",
      "HDBSCAN - min_cluster_size = 50, min_samples = 20\n"
     ]
    },
    {
     "name": "stderr",
     "output_type": "stream",
     "text": [
      "C:\\Users\\cruzd\\AppData\\Local\\Packages\\PythonSoftwareFoundation.Python.3.12_qbz5n2kfra8p0\\LocalCache\\local-packages\\Python312\\site-packages\\sklearn\\utils\\deprecation.py:151: FutureWarning: 'force_all_finite' was renamed to 'ensure_all_finite' in 1.6 and will be removed in 1.8.\n",
      "  warnings.warn(\n",
      "C:\\Users\\cruzd\\AppData\\Local\\Packages\\PythonSoftwareFoundation.Python.3.12_qbz5n2kfra8p0\\LocalCache\\local-packages\\Python312\\site-packages\\sklearn\\utils\\deprecation.py:151: FutureWarning: 'force_all_finite' was renamed to 'ensure_all_finite' in 1.6 and will be removed in 1.8.\n",
      "  warnings.warn(\n"
     ]
    },
    {
     "name": "stdout",
     "output_type": "stream",
     "text": [
      "Clusters salvos em clusters/Tools/umap/n_components32\\run_hdbscan/Tools_clusters_run_hdbscan_minsize50_minsample20.csv\n",
      "HDBSCAN - min_cluster_size = 50, min_samples = 30\n"
     ]
    },
    {
     "name": "stderr",
     "output_type": "stream",
     "text": [
      "C:\\Users\\cruzd\\AppData\\Local\\Packages\\PythonSoftwareFoundation.Python.3.12_qbz5n2kfra8p0\\LocalCache\\local-packages\\Python312\\site-packages\\sklearn\\utils\\deprecation.py:151: FutureWarning: 'force_all_finite' was renamed to 'ensure_all_finite' in 1.6 and will be removed in 1.8.\n",
      "  warnings.warn(\n",
      "C:\\Users\\cruzd\\AppData\\Local\\Packages\\PythonSoftwareFoundation.Python.3.12_qbz5n2kfra8p0\\LocalCache\\local-packages\\Python312\\site-packages\\sklearn\\utils\\deprecation.py:151: FutureWarning: 'force_all_finite' was renamed to 'ensure_all_finite' in 1.6 and will be removed in 1.8.\n",
      "  warnings.warn(\n"
     ]
    },
    {
     "name": "stdout",
     "output_type": "stream",
     "text": [
      "Clusters salvos em clusters/Tools/umap/n_components32\\run_hdbscan/Tools_clusters_run_hdbscan_minsize50_minsample30.csv\n",
      "HDBSCAN - min_cluster_size = 50, min_samples = 50\n"
     ]
    },
    {
     "name": "stderr",
     "output_type": "stream",
     "text": [
      "C:\\Users\\cruzd\\AppData\\Local\\Packages\\PythonSoftwareFoundation.Python.3.12_qbz5n2kfra8p0\\LocalCache\\local-packages\\Python312\\site-packages\\sklearn\\utils\\deprecation.py:151: FutureWarning: 'force_all_finite' was renamed to 'ensure_all_finite' in 1.6 and will be removed in 1.8.\n",
      "  warnings.warn(\n",
      "C:\\Users\\cruzd\\AppData\\Local\\Packages\\PythonSoftwareFoundation.Python.3.12_qbz5n2kfra8p0\\LocalCache\\local-packages\\Python312\\site-packages\\sklearn\\utils\\deprecation.py:151: FutureWarning: 'force_all_finite' was renamed to 'ensure_all_finite' in 1.6 and will be removed in 1.8.\n",
      "  warnings.warn(\n"
     ]
    },
    {
     "name": "stdout",
     "output_type": "stream",
     "text": [
      "Clusters salvos em clusters/Tools/umap/n_components32\\run_hdbscan/Tools_clusters_run_hdbscan_minsize50_minsample50.csv\n",
      "HDBSCAN - min_cluster_size = 50, min_samples = 100\n"
     ]
    },
    {
     "name": "stderr",
     "output_type": "stream",
     "text": [
      "C:\\Users\\cruzd\\AppData\\Local\\Packages\\PythonSoftwareFoundation.Python.3.12_qbz5n2kfra8p0\\LocalCache\\local-packages\\Python312\\site-packages\\sklearn\\utils\\deprecation.py:151: FutureWarning: 'force_all_finite' was renamed to 'ensure_all_finite' in 1.6 and will be removed in 1.8.\n",
      "  warnings.warn(\n",
      "C:\\Users\\cruzd\\AppData\\Local\\Packages\\PythonSoftwareFoundation.Python.3.12_qbz5n2kfra8p0\\LocalCache\\local-packages\\Python312\\site-packages\\sklearn\\utils\\deprecation.py:151: FutureWarning: 'force_all_finite' was renamed to 'ensure_all_finite' in 1.6 and will be removed in 1.8.\n",
      "  warnings.warn(\n"
     ]
    },
    {
     "name": "stdout",
     "output_type": "stream",
     "text": [
      "Clusters salvos em clusters/Tools/umap/n_components32\\run_hdbscan/Tools_clusters_run_hdbscan_minsize50_minsample100.csv\n",
      "HDBSCAN - min_cluster_size = 100, min_samples = 10\n"
     ]
    },
    {
     "name": "stderr",
     "output_type": "stream",
     "text": [
      "C:\\Users\\cruzd\\AppData\\Local\\Packages\\PythonSoftwareFoundation.Python.3.12_qbz5n2kfra8p0\\LocalCache\\local-packages\\Python312\\site-packages\\sklearn\\utils\\deprecation.py:151: FutureWarning: 'force_all_finite' was renamed to 'ensure_all_finite' in 1.6 and will be removed in 1.8.\n",
      "  warnings.warn(\n",
      "C:\\Users\\cruzd\\AppData\\Local\\Packages\\PythonSoftwareFoundation.Python.3.12_qbz5n2kfra8p0\\LocalCache\\local-packages\\Python312\\site-packages\\sklearn\\utils\\deprecation.py:151: FutureWarning: 'force_all_finite' was renamed to 'ensure_all_finite' in 1.6 and will be removed in 1.8.\n",
      "  warnings.warn(\n"
     ]
    },
    {
     "name": "stdout",
     "output_type": "stream",
     "text": [
      "Clusters salvos em clusters/Tools/umap/n_components32\\run_hdbscan/Tools_clusters_run_hdbscan_minsize100_minsample10.csv\n",
      "HDBSCAN - min_cluster_size = 100, min_samples = 20\n"
     ]
    },
    {
     "name": "stderr",
     "output_type": "stream",
     "text": [
      "C:\\Users\\cruzd\\AppData\\Local\\Packages\\PythonSoftwareFoundation.Python.3.12_qbz5n2kfra8p0\\LocalCache\\local-packages\\Python312\\site-packages\\sklearn\\utils\\deprecation.py:151: FutureWarning: 'force_all_finite' was renamed to 'ensure_all_finite' in 1.6 and will be removed in 1.8.\n",
      "  warnings.warn(\n",
      "C:\\Users\\cruzd\\AppData\\Local\\Packages\\PythonSoftwareFoundation.Python.3.12_qbz5n2kfra8p0\\LocalCache\\local-packages\\Python312\\site-packages\\sklearn\\utils\\deprecation.py:151: FutureWarning: 'force_all_finite' was renamed to 'ensure_all_finite' in 1.6 and will be removed in 1.8.\n",
      "  warnings.warn(\n"
     ]
    },
    {
     "name": "stdout",
     "output_type": "stream",
     "text": [
      "Clusters salvos em clusters/Tools/umap/n_components32\\run_hdbscan/Tools_clusters_run_hdbscan_minsize100_minsample20.csv\n",
      "HDBSCAN - min_cluster_size = 100, min_samples = 30\n"
     ]
    },
    {
     "name": "stderr",
     "output_type": "stream",
     "text": [
      "C:\\Users\\cruzd\\AppData\\Local\\Packages\\PythonSoftwareFoundation.Python.3.12_qbz5n2kfra8p0\\LocalCache\\local-packages\\Python312\\site-packages\\sklearn\\utils\\deprecation.py:151: FutureWarning: 'force_all_finite' was renamed to 'ensure_all_finite' in 1.6 and will be removed in 1.8.\n",
      "  warnings.warn(\n",
      "C:\\Users\\cruzd\\AppData\\Local\\Packages\\PythonSoftwareFoundation.Python.3.12_qbz5n2kfra8p0\\LocalCache\\local-packages\\Python312\\site-packages\\sklearn\\utils\\deprecation.py:151: FutureWarning: 'force_all_finite' was renamed to 'ensure_all_finite' in 1.6 and will be removed in 1.8.\n",
      "  warnings.warn(\n"
     ]
    },
    {
     "name": "stdout",
     "output_type": "stream",
     "text": [
      "Clusters salvos em clusters/Tools/umap/n_components32\\run_hdbscan/Tools_clusters_run_hdbscan_minsize100_minsample30.csv\n",
      "HDBSCAN - min_cluster_size = 100, min_samples = 50\n"
     ]
    },
    {
     "name": "stderr",
     "output_type": "stream",
     "text": [
      "C:\\Users\\cruzd\\AppData\\Local\\Packages\\PythonSoftwareFoundation.Python.3.12_qbz5n2kfra8p0\\LocalCache\\local-packages\\Python312\\site-packages\\sklearn\\utils\\deprecation.py:151: FutureWarning: 'force_all_finite' was renamed to 'ensure_all_finite' in 1.6 and will be removed in 1.8.\n",
      "  warnings.warn(\n",
      "C:\\Users\\cruzd\\AppData\\Local\\Packages\\PythonSoftwareFoundation.Python.3.12_qbz5n2kfra8p0\\LocalCache\\local-packages\\Python312\\site-packages\\sklearn\\utils\\deprecation.py:151: FutureWarning: 'force_all_finite' was renamed to 'ensure_all_finite' in 1.6 and will be removed in 1.8.\n",
      "  warnings.warn(\n"
     ]
    },
    {
     "name": "stdout",
     "output_type": "stream",
     "text": [
      "Clusters salvos em clusters/Tools/umap/n_components32\\run_hdbscan/Tools_clusters_run_hdbscan_minsize100_minsample50.csv\n",
      "HDBSCAN - min_cluster_size = 100, min_samples = 100\n"
     ]
    },
    {
     "name": "stderr",
     "output_type": "stream",
     "text": [
      "C:\\Users\\cruzd\\AppData\\Local\\Packages\\PythonSoftwareFoundation.Python.3.12_qbz5n2kfra8p0\\LocalCache\\local-packages\\Python312\\site-packages\\sklearn\\utils\\deprecation.py:151: FutureWarning: 'force_all_finite' was renamed to 'ensure_all_finite' in 1.6 and will be removed in 1.8.\n",
      "  warnings.warn(\n",
      "C:\\Users\\cruzd\\AppData\\Local\\Packages\\PythonSoftwareFoundation.Python.3.12_qbz5n2kfra8p0\\LocalCache\\local-packages\\Python312\\site-packages\\sklearn\\utils\\deprecation.py:151: FutureWarning: 'force_all_finite' was renamed to 'ensure_all_finite' in 1.6 and will be removed in 1.8.\n",
      "  warnings.warn(\n"
     ]
    },
    {
     "name": "stdout",
     "output_type": "stream",
     "text": [
      "Clusters salvos em clusters/Tools/umap/n_components32\\run_hdbscan/Tools_clusters_run_hdbscan_minsize100_minsample100.csv\n",
      "HDBSCAN - min_cluster_size = 200, min_samples = 10\n"
     ]
    },
    {
     "name": "stderr",
     "output_type": "stream",
     "text": [
      "C:\\Users\\cruzd\\AppData\\Local\\Packages\\PythonSoftwareFoundation.Python.3.12_qbz5n2kfra8p0\\LocalCache\\local-packages\\Python312\\site-packages\\sklearn\\utils\\deprecation.py:151: FutureWarning: 'force_all_finite' was renamed to 'ensure_all_finite' in 1.6 and will be removed in 1.8.\n",
      "  warnings.warn(\n",
      "C:\\Users\\cruzd\\AppData\\Local\\Packages\\PythonSoftwareFoundation.Python.3.12_qbz5n2kfra8p0\\LocalCache\\local-packages\\Python312\\site-packages\\sklearn\\utils\\deprecation.py:151: FutureWarning: 'force_all_finite' was renamed to 'ensure_all_finite' in 1.6 and will be removed in 1.8.\n",
      "  warnings.warn(\n"
     ]
    },
    {
     "name": "stdout",
     "output_type": "stream",
     "text": [
      "Clusters salvos em clusters/Tools/umap/n_components32\\run_hdbscan/Tools_clusters_run_hdbscan_minsize200_minsample10.csv\n",
      "HDBSCAN - min_cluster_size = 200, min_samples = 20\n"
     ]
    },
    {
     "name": "stderr",
     "output_type": "stream",
     "text": [
      "C:\\Users\\cruzd\\AppData\\Local\\Packages\\PythonSoftwareFoundation.Python.3.12_qbz5n2kfra8p0\\LocalCache\\local-packages\\Python312\\site-packages\\sklearn\\utils\\deprecation.py:151: FutureWarning: 'force_all_finite' was renamed to 'ensure_all_finite' in 1.6 and will be removed in 1.8.\n",
      "  warnings.warn(\n",
      "C:\\Users\\cruzd\\AppData\\Local\\Packages\\PythonSoftwareFoundation.Python.3.12_qbz5n2kfra8p0\\LocalCache\\local-packages\\Python312\\site-packages\\sklearn\\utils\\deprecation.py:151: FutureWarning: 'force_all_finite' was renamed to 'ensure_all_finite' in 1.6 and will be removed in 1.8.\n",
      "  warnings.warn(\n"
     ]
    },
    {
     "name": "stdout",
     "output_type": "stream",
     "text": [
      "Clusters salvos em clusters/Tools/umap/n_components32\\run_hdbscan/Tools_clusters_run_hdbscan_minsize200_minsample20.csv\n",
      "HDBSCAN - min_cluster_size = 200, min_samples = 30\n"
     ]
    },
    {
     "name": "stderr",
     "output_type": "stream",
     "text": [
      "C:\\Users\\cruzd\\AppData\\Local\\Packages\\PythonSoftwareFoundation.Python.3.12_qbz5n2kfra8p0\\LocalCache\\local-packages\\Python312\\site-packages\\sklearn\\utils\\deprecation.py:151: FutureWarning: 'force_all_finite' was renamed to 'ensure_all_finite' in 1.6 and will be removed in 1.8.\n",
      "  warnings.warn(\n",
      "C:\\Users\\cruzd\\AppData\\Local\\Packages\\PythonSoftwareFoundation.Python.3.12_qbz5n2kfra8p0\\LocalCache\\local-packages\\Python312\\site-packages\\sklearn\\utils\\deprecation.py:151: FutureWarning: 'force_all_finite' was renamed to 'ensure_all_finite' in 1.6 and will be removed in 1.8.\n",
      "  warnings.warn(\n"
     ]
    },
    {
     "name": "stdout",
     "output_type": "stream",
     "text": [
      "Clusters salvos em clusters/Tools/umap/n_components32\\run_hdbscan/Tools_clusters_run_hdbscan_minsize200_minsample30.csv\n",
      "HDBSCAN - min_cluster_size = 200, min_samples = 50\n"
     ]
    },
    {
     "name": "stderr",
     "output_type": "stream",
     "text": [
      "C:\\Users\\cruzd\\AppData\\Local\\Packages\\PythonSoftwareFoundation.Python.3.12_qbz5n2kfra8p0\\LocalCache\\local-packages\\Python312\\site-packages\\sklearn\\utils\\deprecation.py:151: FutureWarning: 'force_all_finite' was renamed to 'ensure_all_finite' in 1.6 and will be removed in 1.8.\n",
      "  warnings.warn(\n",
      "C:\\Users\\cruzd\\AppData\\Local\\Packages\\PythonSoftwareFoundation.Python.3.12_qbz5n2kfra8p0\\LocalCache\\local-packages\\Python312\\site-packages\\sklearn\\utils\\deprecation.py:151: FutureWarning: 'force_all_finite' was renamed to 'ensure_all_finite' in 1.6 and will be removed in 1.8.\n",
      "  warnings.warn(\n"
     ]
    },
    {
     "name": "stdout",
     "output_type": "stream",
     "text": [
      "Clusters salvos em clusters/Tools/umap/n_components32\\run_hdbscan/Tools_clusters_run_hdbscan_minsize200_minsample50.csv\n",
      "HDBSCAN - min_cluster_size = 200, min_samples = 100\n"
     ]
    },
    {
     "name": "stderr",
     "output_type": "stream",
     "text": [
      "C:\\Users\\cruzd\\AppData\\Local\\Packages\\PythonSoftwareFoundation.Python.3.12_qbz5n2kfra8p0\\LocalCache\\local-packages\\Python312\\site-packages\\sklearn\\utils\\deprecation.py:151: FutureWarning: 'force_all_finite' was renamed to 'ensure_all_finite' in 1.6 and will be removed in 1.8.\n",
      "  warnings.warn(\n",
      "C:\\Users\\cruzd\\AppData\\Local\\Packages\\PythonSoftwareFoundation.Python.3.12_qbz5n2kfra8p0\\LocalCache\\local-packages\\Python312\\site-packages\\sklearn\\utils\\deprecation.py:151: FutureWarning: 'force_all_finite' was renamed to 'ensure_all_finite' in 1.6 and will be removed in 1.8.\n",
      "  warnings.warn(\n"
     ]
    },
    {
     "name": "stdout",
     "output_type": "stream",
     "text": [
      "Clusters salvos em clusters/Tools/umap/n_components32\\run_hdbscan/Tools_clusters_run_hdbscan_minsize200_minsample100.csv\n",
      "HDBSCAN - min_cluster_size = 300, min_samples = 10\n"
     ]
    },
    {
     "name": "stderr",
     "output_type": "stream",
     "text": [
      "C:\\Users\\cruzd\\AppData\\Local\\Packages\\PythonSoftwareFoundation.Python.3.12_qbz5n2kfra8p0\\LocalCache\\local-packages\\Python312\\site-packages\\sklearn\\utils\\deprecation.py:151: FutureWarning: 'force_all_finite' was renamed to 'ensure_all_finite' in 1.6 and will be removed in 1.8.\n",
      "  warnings.warn(\n",
      "C:\\Users\\cruzd\\AppData\\Local\\Packages\\PythonSoftwareFoundation.Python.3.12_qbz5n2kfra8p0\\LocalCache\\local-packages\\Python312\\site-packages\\sklearn\\utils\\deprecation.py:151: FutureWarning: 'force_all_finite' was renamed to 'ensure_all_finite' in 1.6 and will be removed in 1.8.\n",
      "  warnings.warn(\n"
     ]
    },
    {
     "name": "stdout",
     "output_type": "stream",
     "text": [
      "Clusters salvos em clusters/Tools/umap/n_components32\\run_hdbscan/Tools_clusters_run_hdbscan_minsize300_minsample10.csv\n",
      "HDBSCAN - min_cluster_size = 300, min_samples = 20\n"
     ]
    },
    {
     "name": "stderr",
     "output_type": "stream",
     "text": [
      "C:\\Users\\cruzd\\AppData\\Local\\Packages\\PythonSoftwareFoundation.Python.3.12_qbz5n2kfra8p0\\LocalCache\\local-packages\\Python312\\site-packages\\sklearn\\utils\\deprecation.py:151: FutureWarning: 'force_all_finite' was renamed to 'ensure_all_finite' in 1.6 and will be removed in 1.8.\n",
      "  warnings.warn(\n",
      "C:\\Users\\cruzd\\AppData\\Local\\Packages\\PythonSoftwareFoundation.Python.3.12_qbz5n2kfra8p0\\LocalCache\\local-packages\\Python312\\site-packages\\sklearn\\utils\\deprecation.py:151: FutureWarning: 'force_all_finite' was renamed to 'ensure_all_finite' in 1.6 and will be removed in 1.8.\n",
      "  warnings.warn(\n"
     ]
    },
    {
     "name": "stdout",
     "output_type": "stream",
     "text": [
      "Clusters salvos em clusters/Tools/umap/n_components32\\run_hdbscan/Tools_clusters_run_hdbscan_minsize300_minsample20.csv\n",
      "HDBSCAN - min_cluster_size = 300, min_samples = 30\n"
     ]
    },
    {
     "name": "stderr",
     "output_type": "stream",
     "text": [
      "C:\\Users\\cruzd\\AppData\\Local\\Packages\\PythonSoftwareFoundation.Python.3.12_qbz5n2kfra8p0\\LocalCache\\local-packages\\Python312\\site-packages\\sklearn\\utils\\deprecation.py:151: FutureWarning: 'force_all_finite' was renamed to 'ensure_all_finite' in 1.6 and will be removed in 1.8.\n",
      "  warnings.warn(\n",
      "C:\\Users\\cruzd\\AppData\\Local\\Packages\\PythonSoftwareFoundation.Python.3.12_qbz5n2kfra8p0\\LocalCache\\local-packages\\Python312\\site-packages\\sklearn\\utils\\deprecation.py:151: FutureWarning: 'force_all_finite' was renamed to 'ensure_all_finite' in 1.6 and will be removed in 1.8.\n",
      "  warnings.warn(\n"
     ]
    },
    {
     "name": "stdout",
     "output_type": "stream",
     "text": [
      "Clusters salvos em clusters/Tools/umap/n_components32\\run_hdbscan/Tools_clusters_run_hdbscan_minsize300_minsample30.csv\n",
      "HDBSCAN - min_cluster_size = 300, min_samples = 50\n"
     ]
    },
    {
     "name": "stderr",
     "output_type": "stream",
     "text": [
      "C:\\Users\\cruzd\\AppData\\Local\\Packages\\PythonSoftwareFoundation.Python.3.12_qbz5n2kfra8p0\\LocalCache\\local-packages\\Python312\\site-packages\\sklearn\\utils\\deprecation.py:151: FutureWarning: 'force_all_finite' was renamed to 'ensure_all_finite' in 1.6 and will be removed in 1.8.\n",
      "  warnings.warn(\n",
      "C:\\Users\\cruzd\\AppData\\Local\\Packages\\PythonSoftwareFoundation.Python.3.12_qbz5n2kfra8p0\\LocalCache\\local-packages\\Python312\\site-packages\\sklearn\\utils\\deprecation.py:151: FutureWarning: 'force_all_finite' was renamed to 'ensure_all_finite' in 1.6 and will be removed in 1.8.\n",
      "  warnings.warn(\n"
     ]
    },
    {
     "name": "stdout",
     "output_type": "stream",
     "text": [
      "Clusters salvos em clusters/Tools/umap/n_components32\\run_hdbscan/Tools_clusters_run_hdbscan_minsize300_minsample50.csv\n",
      "HDBSCAN - min_cluster_size = 300, min_samples = 100\n"
     ]
    },
    {
     "name": "stderr",
     "output_type": "stream",
     "text": [
      "C:\\Users\\cruzd\\AppData\\Local\\Packages\\PythonSoftwareFoundation.Python.3.12_qbz5n2kfra8p0\\LocalCache\\local-packages\\Python312\\site-packages\\sklearn\\utils\\deprecation.py:151: FutureWarning: 'force_all_finite' was renamed to 'ensure_all_finite' in 1.6 and will be removed in 1.8.\n",
      "  warnings.warn(\n",
      "C:\\Users\\cruzd\\AppData\\Local\\Packages\\PythonSoftwareFoundation.Python.3.12_qbz5n2kfra8p0\\LocalCache\\local-packages\\Python312\\site-packages\\sklearn\\utils\\deprecation.py:151: FutureWarning: 'force_all_finite' was renamed to 'ensure_all_finite' in 1.6 and will be removed in 1.8.\n",
      "  warnings.warn(\n"
     ]
    },
    {
     "name": "stdout",
     "output_type": "stream",
     "text": [
      "Clusters salvos em clusters/Tools/umap/n_components32\\run_hdbscan/Tools_clusters_run_hdbscan_minsize300_minsample100.csv\n",
      "Clusterização concluída e resultados salvos\n",
      "\n",
      " Embeddings reduzidos com umap e n_components 64\n",
      "Aplicando UMAP com n_components = 64...\n"
     ]
    },
    {
     "name": "stderr",
     "output_type": "stream",
     "text": [
      "C:\\Users\\cruzd\\AppData\\Local\\Packages\\PythonSoftwareFoundation.Python.3.12_qbz5n2kfra8p0\\LocalCache\\local-packages\\Python312\\site-packages\\sklearn\\utils\\deprecation.py:151: FutureWarning: 'force_all_finite' was renamed to 'ensure_all_finite' in 1.6 and will be removed in 1.8.\n",
      "  warnings.warn(\n",
      "C:\\Users\\cruzd\\AppData\\Local\\Packages\\PythonSoftwareFoundation.Python.3.12_qbz5n2kfra8p0\\LocalCache\\local-packages\\Python312\\site-packages\\umap\\umap_.py:1952: UserWarning: n_jobs value 1 overridden to 1 by setting random_state. Use no seed for parallelism.\n",
      "  warn(\n"
     ]
    },
    {
     "name": "stdout",
     "output_type": "stream",
     "text": [
      "Dimensionalidade reduzida de 1000 para 64\n",
      "Executando run_hdbscan...\n",
      "HDBSCAN - min_cluster_size = 30, min_samples = 10\n"
     ]
    },
    {
     "name": "stderr",
     "output_type": "stream",
     "text": [
      "C:\\Users\\cruzd\\AppData\\Local\\Packages\\PythonSoftwareFoundation.Python.3.12_qbz5n2kfra8p0\\LocalCache\\local-packages\\Python312\\site-packages\\sklearn\\utils\\deprecation.py:151: FutureWarning: 'force_all_finite' was renamed to 'ensure_all_finite' in 1.6 and will be removed in 1.8.\n",
      "  warnings.warn(\n",
      "C:\\Users\\cruzd\\AppData\\Local\\Packages\\PythonSoftwareFoundation.Python.3.12_qbz5n2kfra8p0\\LocalCache\\local-packages\\Python312\\site-packages\\sklearn\\utils\\deprecation.py:151: FutureWarning: 'force_all_finite' was renamed to 'ensure_all_finite' in 1.6 and will be removed in 1.8.\n",
      "  warnings.warn(\n"
     ]
    },
    {
     "name": "stdout",
     "output_type": "stream",
     "text": [
      "Clusters salvos em clusters/Tools/umap/n_components64\\run_hdbscan/Tools_clusters_run_hdbscan_minsize30_minsample10.csv\n",
      "HDBSCAN - min_cluster_size = 30, min_samples = 20\n"
     ]
    },
    {
     "name": "stderr",
     "output_type": "stream",
     "text": [
      "C:\\Users\\cruzd\\AppData\\Local\\Packages\\PythonSoftwareFoundation.Python.3.12_qbz5n2kfra8p0\\LocalCache\\local-packages\\Python312\\site-packages\\sklearn\\utils\\deprecation.py:151: FutureWarning: 'force_all_finite' was renamed to 'ensure_all_finite' in 1.6 and will be removed in 1.8.\n",
      "  warnings.warn(\n",
      "C:\\Users\\cruzd\\AppData\\Local\\Packages\\PythonSoftwareFoundation.Python.3.12_qbz5n2kfra8p0\\LocalCache\\local-packages\\Python312\\site-packages\\sklearn\\utils\\deprecation.py:151: FutureWarning: 'force_all_finite' was renamed to 'ensure_all_finite' in 1.6 and will be removed in 1.8.\n",
      "  warnings.warn(\n"
     ]
    },
    {
     "name": "stdout",
     "output_type": "stream",
     "text": [
      "Clusters salvos em clusters/Tools/umap/n_components64\\run_hdbscan/Tools_clusters_run_hdbscan_minsize30_minsample20.csv\n",
      "HDBSCAN - min_cluster_size = 30, min_samples = 30\n"
     ]
    },
    {
     "name": "stderr",
     "output_type": "stream",
     "text": [
      "C:\\Users\\cruzd\\AppData\\Local\\Packages\\PythonSoftwareFoundation.Python.3.12_qbz5n2kfra8p0\\LocalCache\\local-packages\\Python312\\site-packages\\sklearn\\utils\\deprecation.py:151: FutureWarning: 'force_all_finite' was renamed to 'ensure_all_finite' in 1.6 and will be removed in 1.8.\n",
      "  warnings.warn(\n",
      "C:\\Users\\cruzd\\AppData\\Local\\Packages\\PythonSoftwareFoundation.Python.3.12_qbz5n2kfra8p0\\LocalCache\\local-packages\\Python312\\site-packages\\sklearn\\utils\\deprecation.py:151: FutureWarning: 'force_all_finite' was renamed to 'ensure_all_finite' in 1.6 and will be removed in 1.8.\n",
      "  warnings.warn(\n"
     ]
    },
    {
     "name": "stdout",
     "output_type": "stream",
     "text": [
      "Clusters salvos em clusters/Tools/umap/n_components64\\run_hdbscan/Tools_clusters_run_hdbscan_minsize30_minsample30.csv\n",
      "HDBSCAN - min_cluster_size = 30, min_samples = 50\n"
     ]
    },
    {
     "name": "stderr",
     "output_type": "stream",
     "text": [
      "C:\\Users\\cruzd\\AppData\\Local\\Packages\\PythonSoftwareFoundation.Python.3.12_qbz5n2kfra8p0\\LocalCache\\local-packages\\Python312\\site-packages\\sklearn\\utils\\deprecation.py:151: FutureWarning: 'force_all_finite' was renamed to 'ensure_all_finite' in 1.6 and will be removed in 1.8.\n",
      "  warnings.warn(\n",
      "C:\\Users\\cruzd\\AppData\\Local\\Packages\\PythonSoftwareFoundation.Python.3.12_qbz5n2kfra8p0\\LocalCache\\local-packages\\Python312\\site-packages\\sklearn\\utils\\deprecation.py:151: FutureWarning: 'force_all_finite' was renamed to 'ensure_all_finite' in 1.6 and will be removed in 1.8.\n",
      "  warnings.warn(\n"
     ]
    },
    {
     "name": "stdout",
     "output_type": "stream",
     "text": [
      "Clusters salvos em clusters/Tools/umap/n_components64\\run_hdbscan/Tools_clusters_run_hdbscan_minsize30_minsample50.csv\n",
      "HDBSCAN - min_cluster_size = 30, min_samples = 100\n"
     ]
    },
    {
     "name": "stderr",
     "output_type": "stream",
     "text": [
      "C:\\Users\\cruzd\\AppData\\Local\\Packages\\PythonSoftwareFoundation.Python.3.12_qbz5n2kfra8p0\\LocalCache\\local-packages\\Python312\\site-packages\\sklearn\\utils\\deprecation.py:151: FutureWarning: 'force_all_finite' was renamed to 'ensure_all_finite' in 1.6 and will be removed in 1.8.\n",
      "  warnings.warn(\n",
      "C:\\Users\\cruzd\\AppData\\Local\\Packages\\PythonSoftwareFoundation.Python.3.12_qbz5n2kfra8p0\\LocalCache\\local-packages\\Python312\\site-packages\\sklearn\\utils\\deprecation.py:151: FutureWarning: 'force_all_finite' was renamed to 'ensure_all_finite' in 1.6 and will be removed in 1.8.\n",
      "  warnings.warn(\n"
     ]
    },
    {
     "name": "stdout",
     "output_type": "stream",
     "text": [
      "Clusters salvos em clusters/Tools/umap/n_components64\\run_hdbscan/Tools_clusters_run_hdbscan_minsize30_minsample100.csv\n",
      "HDBSCAN - min_cluster_size = 50, min_samples = 10\n"
     ]
    },
    {
     "name": "stderr",
     "output_type": "stream",
     "text": [
      "C:\\Users\\cruzd\\AppData\\Local\\Packages\\PythonSoftwareFoundation.Python.3.12_qbz5n2kfra8p0\\LocalCache\\local-packages\\Python312\\site-packages\\sklearn\\utils\\deprecation.py:151: FutureWarning: 'force_all_finite' was renamed to 'ensure_all_finite' in 1.6 and will be removed in 1.8.\n",
      "  warnings.warn(\n",
      "C:\\Users\\cruzd\\AppData\\Local\\Packages\\PythonSoftwareFoundation.Python.3.12_qbz5n2kfra8p0\\LocalCache\\local-packages\\Python312\\site-packages\\sklearn\\utils\\deprecation.py:151: FutureWarning: 'force_all_finite' was renamed to 'ensure_all_finite' in 1.6 and will be removed in 1.8.\n",
      "  warnings.warn(\n"
     ]
    },
    {
     "name": "stdout",
     "output_type": "stream",
     "text": [
      "Clusters salvos em clusters/Tools/umap/n_components64\\run_hdbscan/Tools_clusters_run_hdbscan_minsize50_minsample10.csv\n",
      "HDBSCAN - min_cluster_size = 50, min_samples = 20\n"
     ]
    },
    {
     "name": "stderr",
     "output_type": "stream",
     "text": [
      "C:\\Users\\cruzd\\AppData\\Local\\Packages\\PythonSoftwareFoundation.Python.3.12_qbz5n2kfra8p0\\LocalCache\\local-packages\\Python312\\site-packages\\sklearn\\utils\\deprecation.py:151: FutureWarning: 'force_all_finite' was renamed to 'ensure_all_finite' in 1.6 and will be removed in 1.8.\n",
      "  warnings.warn(\n",
      "C:\\Users\\cruzd\\AppData\\Local\\Packages\\PythonSoftwareFoundation.Python.3.12_qbz5n2kfra8p0\\LocalCache\\local-packages\\Python312\\site-packages\\sklearn\\utils\\deprecation.py:151: FutureWarning: 'force_all_finite' was renamed to 'ensure_all_finite' in 1.6 and will be removed in 1.8.\n",
      "  warnings.warn(\n"
     ]
    },
    {
     "name": "stdout",
     "output_type": "stream",
     "text": [
      "Clusters salvos em clusters/Tools/umap/n_components64\\run_hdbscan/Tools_clusters_run_hdbscan_minsize50_minsample20.csv\n",
      "HDBSCAN - min_cluster_size = 50, min_samples = 30\n"
     ]
    },
    {
     "name": "stderr",
     "output_type": "stream",
     "text": [
      "C:\\Users\\cruzd\\AppData\\Local\\Packages\\PythonSoftwareFoundation.Python.3.12_qbz5n2kfra8p0\\LocalCache\\local-packages\\Python312\\site-packages\\sklearn\\utils\\deprecation.py:151: FutureWarning: 'force_all_finite' was renamed to 'ensure_all_finite' in 1.6 and will be removed in 1.8.\n",
      "  warnings.warn(\n",
      "C:\\Users\\cruzd\\AppData\\Local\\Packages\\PythonSoftwareFoundation.Python.3.12_qbz5n2kfra8p0\\LocalCache\\local-packages\\Python312\\site-packages\\sklearn\\utils\\deprecation.py:151: FutureWarning: 'force_all_finite' was renamed to 'ensure_all_finite' in 1.6 and will be removed in 1.8.\n",
      "  warnings.warn(\n"
     ]
    },
    {
     "name": "stdout",
     "output_type": "stream",
     "text": [
      "Clusters salvos em clusters/Tools/umap/n_components64\\run_hdbscan/Tools_clusters_run_hdbscan_minsize50_minsample30.csv\n",
      "HDBSCAN - min_cluster_size = 50, min_samples = 50\n"
     ]
    },
    {
     "name": "stderr",
     "output_type": "stream",
     "text": [
      "C:\\Users\\cruzd\\AppData\\Local\\Packages\\PythonSoftwareFoundation.Python.3.12_qbz5n2kfra8p0\\LocalCache\\local-packages\\Python312\\site-packages\\sklearn\\utils\\deprecation.py:151: FutureWarning: 'force_all_finite' was renamed to 'ensure_all_finite' in 1.6 and will be removed in 1.8.\n",
      "  warnings.warn(\n",
      "C:\\Users\\cruzd\\AppData\\Local\\Packages\\PythonSoftwareFoundation.Python.3.12_qbz5n2kfra8p0\\LocalCache\\local-packages\\Python312\\site-packages\\sklearn\\utils\\deprecation.py:151: FutureWarning: 'force_all_finite' was renamed to 'ensure_all_finite' in 1.6 and will be removed in 1.8.\n",
      "  warnings.warn(\n"
     ]
    },
    {
     "name": "stdout",
     "output_type": "stream",
     "text": [
      "Clusters salvos em clusters/Tools/umap/n_components64\\run_hdbscan/Tools_clusters_run_hdbscan_minsize50_minsample50.csv\n",
      "HDBSCAN - min_cluster_size = 50, min_samples = 100\n"
     ]
    },
    {
     "name": "stderr",
     "output_type": "stream",
     "text": [
      "C:\\Users\\cruzd\\AppData\\Local\\Packages\\PythonSoftwareFoundation.Python.3.12_qbz5n2kfra8p0\\LocalCache\\local-packages\\Python312\\site-packages\\sklearn\\utils\\deprecation.py:151: FutureWarning: 'force_all_finite' was renamed to 'ensure_all_finite' in 1.6 and will be removed in 1.8.\n",
      "  warnings.warn(\n",
      "C:\\Users\\cruzd\\AppData\\Local\\Packages\\PythonSoftwareFoundation.Python.3.12_qbz5n2kfra8p0\\LocalCache\\local-packages\\Python312\\site-packages\\sklearn\\utils\\deprecation.py:151: FutureWarning: 'force_all_finite' was renamed to 'ensure_all_finite' in 1.6 and will be removed in 1.8.\n",
      "  warnings.warn(\n"
     ]
    },
    {
     "name": "stdout",
     "output_type": "stream",
     "text": [
      "Clusters salvos em clusters/Tools/umap/n_components64\\run_hdbscan/Tools_clusters_run_hdbscan_minsize50_minsample100.csv\n",
      "HDBSCAN - min_cluster_size = 100, min_samples = 10\n"
     ]
    },
    {
     "name": "stderr",
     "output_type": "stream",
     "text": [
      "C:\\Users\\cruzd\\AppData\\Local\\Packages\\PythonSoftwareFoundation.Python.3.12_qbz5n2kfra8p0\\LocalCache\\local-packages\\Python312\\site-packages\\sklearn\\utils\\deprecation.py:151: FutureWarning: 'force_all_finite' was renamed to 'ensure_all_finite' in 1.6 and will be removed in 1.8.\n",
      "  warnings.warn(\n",
      "C:\\Users\\cruzd\\AppData\\Local\\Packages\\PythonSoftwareFoundation.Python.3.12_qbz5n2kfra8p0\\LocalCache\\local-packages\\Python312\\site-packages\\sklearn\\utils\\deprecation.py:151: FutureWarning: 'force_all_finite' was renamed to 'ensure_all_finite' in 1.6 and will be removed in 1.8.\n",
      "  warnings.warn(\n"
     ]
    },
    {
     "name": "stdout",
     "output_type": "stream",
     "text": [
      "Clusters salvos em clusters/Tools/umap/n_components64\\run_hdbscan/Tools_clusters_run_hdbscan_minsize100_minsample10.csv\n",
      "HDBSCAN - min_cluster_size = 100, min_samples = 20\n"
     ]
    },
    {
     "name": "stderr",
     "output_type": "stream",
     "text": [
      "C:\\Users\\cruzd\\AppData\\Local\\Packages\\PythonSoftwareFoundation.Python.3.12_qbz5n2kfra8p0\\LocalCache\\local-packages\\Python312\\site-packages\\sklearn\\utils\\deprecation.py:151: FutureWarning: 'force_all_finite' was renamed to 'ensure_all_finite' in 1.6 and will be removed in 1.8.\n",
      "  warnings.warn(\n",
      "C:\\Users\\cruzd\\AppData\\Local\\Packages\\PythonSoftwareFoundation.Python.3.12_qbz5n2kfra8p0\\LocalCache\\local-packages\\Python312\\site-packages\\sklearn\\utils\\deprecation.py:151: FutureWarning: 'force_all_finite' was renamed to 'ensure_all_finite' in 1.6 and will be removed in 1.8.\n",
      "  warnings.warn(\n"
     ]
    },
    {
     "name": "stdout",
     "output_type": "stream",
     "text": [
      "Clusters salvos em clusters/Tools/umap/n_components64\\run_hdbscan/Tools_clusters_run_hdbscan_minsize100_minsample20.csv\n",
      "HDBSCAN - min_cluster_size = 100, min_samples = 30\n"
     ]
    },
    {
     "name": "stderr",
     "output_type": "stream",
     "text": [
      "C:\\Users\\cruzd\\AppData\\Local\\Packages\\PythonSoftwareFoundation.Python.3.12_qbz5n2kfra8p0\\LocalCache\\local-packages\\Python312\\site-packages\\sklearn\\utils\\deprecation.py:151: FutureWarning: 'force_all_finite' was renamed to 'ensure_all_finite' in 1.6 and will be removed in 1.8.\n",
      "  warnings.warn(\n",
      "C:\\Users\\cruzd\\AppData\\Local\\Packages\\PythonSoftwareFoundation.Python.3.12_qbz5n2kfra8p0\\LocalCache\\local-packages\\Python312\\site-packages\\sklearn\\utils\\deprecation.py:151: FutureWarning: 'force_all_finite' was renamed to 'ensure_all_finite' in 1.6 and will be removed in 1.8.\n",
      "  warnings.warn(\n"
     ]
    },
    {
     "name": "stdout",
     "output_type": "stream",
     "text": [
      "Clusters salvos em clusters/Tools/umap/n_components64\\run_hdbscan/Tools_clusters_run_hdbscan_minsize100_minsample30.csv\n",
      "HDBSCAN - min_cluster_size = 100, min_samples = 50\n"
     ]
    },
    {
     "name": "stderr",
     "output_type": "stream",
     "text": [
      "C:\\Users\\cruzd\\AppData\\Local\\Packages\\PythonSoftwareFoundation.Python.3.12_qbz5n2kfra8p0\\LocalCache\\local-packages\\Python312\\site-packages\\sklearn\\utils\\deprecation.py:151: FutureWarning: 'force_all_finite' was renamed to 'ensure_all_finite' in 1.6 and will be removed in 1.8.\n",
      "  warnings.warn(\n",
      "C:\\Users\\cruzd\\AppData\\Local\\Packages\\PythonSoftwareFoundation.Python.3.12_qbz5n2kfra8p0\\LocalCache\\local-packages\\Python312\\site-packages\\sklearn\\utils\\deprecation.py:151: FutureWarning: 'force_all_finite' was renamed to 'ensure_all_finite' in 1.6 and will be removed in 1.8.\n",
      "  warnings.warn(\n"
     ]
    },
    {
     "name": "stdout",
     "output_type": "stream",
     "text": [
      "Clusters salvos em clusters/Tools/umap/n_components64\\run_hdbscan/Tools_clusters_run_hdbscan_minsize100_minsample50.csv\n",
      "HDBSCAN - min_cluster_size = 100, min_samples = 100\n"
     ]
    },
    {
     "name": "stderr",
     "output_type": "stream",
     "text": [
      "C:\\Users\\cruzd\\AppData\\Local\\Packages\\PythonSoftwareFoundation.Python.3.12_qbz5n2kfra8p0\\LocalCache\\local-packages\\Python312\\site-packages\\sklearn\\utils\\deprecation.py:151: FutureWarning: 'force_all_finite' was renamed to 'ensure_all_finite' in 1.6 and will be removed in 1.8.\n",
      "  warnings.warn(\n",
      "C:\\Users\\cruzd\\AppData\\Local\\Packages\\PythonSoftwareFoundation.Python.3.12_qbz5n2kfra8p0\\LocalCache\\local-packages\\Python312\\site-packages\\sklearn\\utils\\deprecation.py:151: FutureWarning: 'force_all_finite' was renamed to 'ensure_all_finite' in 1.6 and will be removed in 1.8.\n",
      "  warnings.warn(\n"
     ]
    },
    {
     "name": "stdout",
     "output_type": "stream",
     "text": [
      "Clusters salvos em clusters/Tools/umap/n_components64\\run_hdbscan/Tools_clusters_run_hdbscan_minsize100_minsample100.csv\n",
      "HDBSCAN - min_cluster_size = 200, min_samples = 10\n"
     ]
    },
    {
     "name": "stderr",
     "output_type": "stream",
     "text": [
      "C:\\Users\\cruzd\\AppData\\Local\\Packages\\PythonSoftwareFoundation.Python.3.12_qbz5n2kfra8p0\\LocalCache\\local-packages\\Python312\\site-packages\\sklearn\\utils\\deprecation.py:151: FutureWarning: 'force_all_finite' was renamed to 'ensure_all_finite' in 1.6 and will be removed in 1.8.\n",
      "  warnings.warn(\n",
      "C:\\Users\\cruzd\\AppData\\Local\\Packages\\PythonSoftwareFoundation.Python.3.12_qbz5n2kfra8p0\\LocalCache\\local-packages\\Python312\\site-packages\\sklearn\\utils\\deprecation.py:151: FutureWarning: 'force_all_finite' was renamed to 'ensure_all_finite' in 1.6 and will be removed in 1.8.\n",
      "  warnings.warn(\n"
     ]
    },
    {
     "name": "stdout",
     "output_type": "stream",
     "text": [
      "Clusters salvos em clusters/Tools/umap/n_components64\\run_hdbscan/Tools_clusters_run_hdbscan_minsize200_minsample10.csv\n",
      "HDBSCAN - min_cluster_size = 200, min_samples = 20\n"
     ]
    },
    {
     "name": "stderr",
     "output_type": "stream",
     "text": [
      "C:\\Users\\cruzd\\AppData\\Local\\Packages\\PythonSoftwareFoundation.Python.3.12_qbz5n2kfra8p0\\LocalCache\\local-packages\\Python312\\site-packages\\sklearn\\utils\\deprecation.py:151: FutureWarning: 'force_all_finite' was renamed to 'ensure_all_finite' in 1.6 and will be removed in 1.8.\n",
      "  warnings.warn(\n",
      "C:\\Users\\cruzd\\AppData\\Local\\Packages\\PythonSoftwareFoundation.Python.3.12_qbz5n2kfra8p0\\LocalCache\\local-packages\\Python312\\site-packages\\sklearn\\utils\\deprecation.py:151: FutureWarning: 'force_all_finite' was renamed to 'ensure_all_finite' in 1.6 and will be removed in 1.8.\n",
      "  warnings.warn(\n"
     ]
    },
    {
     "name": "stdout",
     "output_type": "stream",
     "text": [
      "Clusters salvos em clusters/Tools/umap/n_components64\\run_hdbscan/Tools_clusters_run_hdbscan_minsize200_minsample20.csv\n",
      "HDBSCAN - min_cluster_size = 200, min_samples = 30\n"
     ]
    },
    {
     "name": "stderr",
     "output_type": "stream",
     "text": [
      "C:\\Users\\cruzd\\AppData\\Local\\Packages\\PythonSoftwareFoundation.Python.3.12_qbz5n2kfra8p0\\LocalCache\\local-packages\\Python312\\site-packages\\sklearn\\utils\\deprecation.py:151: FutureWarning: 'force_all_finite' was renamed to 'ensure_all_finite' in 1.6 and will be removed in 1.8.\n",
      "  warnings.warn(\n",
      "C:\\Users\\cruzd\\AppData\\Local\\Packages\\PythonSoftwareFoundation.Python.3.12_qbz5n2kfra8p0\\LocalCache\\local-packages\\Python312\\site-packages\\sklearn\\utils\\deprecation.py:151: FutureWarning: 'force_all_finite' was renamed to 'ensure_all_finite' in 1.6 and will be removed in 1.8.\n",
      "  warnings.warn(\n"
     ]
    },
    {
     "name": "stdout",
     "output_type": "stream",
     "text": [
      "Clusters salvos em clusters/Tools/umap/n_components64\\run_hdbscan/Tools_clusters_run_hdbscan_minsize200_minsample30.csv\n",
      "HDBSCAN - min_cluster_size = 200, min_samples = 50\n"
     ]
    },
    {
     "name": "stderr",
     "output_type": "stream",
     "text": [
      "C:\\Users\\cruzd\\AppData\\Local\\Packages\\PythonSoftwareFoundation.Python.3.12_qbz5n2kfra8p0\\LocalCache\\local-packages\\Python312\\site-packages\\sklearn\\utils\\deprecation.py:151: FutureWarning: 'force_all_finite' was renamed to 'ensure_all_finite' in 1.6 and will be removed in 1.8.\n",
      "  warnings.warn(\n",
      "C:\\Users\\cruzd\\AppData\\Local\\Packages\\PythonSoftwareFoundation.Python.3.12_qbz5n2kfra8p0\\LocalCache\\local-packages\\Python312\\site-packages\\sklearn\\utils\\deprecation.py:151: FutureWarning: 'force_all_finite' was renamed to 'ensure_all_finite' in 1.6 and will be removed in 1.8.\n",
      "  warnings.warn(\n"
     ]
    },
    {
     "name": "stdout",
     "output_type": "stream",
     "text": [
      "Clusters salvos em clusters/Tools/umap/n_components64\\run_hdbscan/Tools_clusters_run_hdbscan_minsize200_minsample50.csv\n",
      "HDBSCAN - min_cluster_size = 200, min_samples = 100\n"
     ]
    },
    {
     "name": "stderr",
     "output_type": "stream",
     "text": [
      "C:\\Users\\cruzd\\AppData\\Local\\Packages\\PythonSoftwareFoundation.Python.3.12_qbz5n2kfra8p0\\LocalCache\\local-packages\\Python312\\site-packages\\sklearn\\utils\\deprecation.py:151: FutureWarning: 'force_all_finite' was renamed to 'ensure_all_finite' in 1.6 and will be removed in 1.8.\n",
      "  warnings.warn(\n",
      "C:\\Users\\cruzd\\AppData\\Local\\Packages\\PythonSoftwareFoundation.Python.3.12_qbz5n2kfra8p0\\LocalCache\\local-packages\\Python312\\site-packages\\sklearn\\utils\\deprecation.py:151: FutureWarning: 'force_all_finite' was renamed to 'ensure_all_finite' in 1.6 and will be removed in 1.8.\n",
      "  warnings.warn(\n"
     ]
    },
    {
     "name": "stdout",
     "output_type": "stream",
     "text": [
      "Clusters salvos em clusters/Tools/umap/n_components64\\run_hdbscan/Tools_clusters_run_hdbscan_minsize200_minsample100.csv\n",
      "HDBSCAN - min_cluster_size = 300, min_samples = 10\n"
     ]
    },
    {
     "name": "stderr",
     "output_type": "stream",
     "text": [
      "C:\\Users\\cruzd\\AppData\\Local\\Packages\\PythonSoftwareFoundation.Python.3.12_qbz5n2kfra8p0\\LocalCache\\local-packages\\Python312\\site-packages\\sklearn\\utils\\deprecation.py:151: FutureWarning: 'force_all_finite' was renamed to 'ensure_all_finite' in 1.6 and will be removed in 1.8.\n",
      "  warnings.warn(\n",
      "C:\\Users\\cruzd\\AppData\\Local\\Packages\\PythonSoftwareFoundation.Python.3.12_qbz5n2kfra8p0\\LocalCache\\local-packages\\Python312\\site-packages\\sklearn\\utils\\deprecation.py:151: FutureWarning: 'force_all_finite' was renamed to 'ensure_all_finite' in 1.6 and will be removed in 1.8.\n",
      "  warnings.warn(\n"
     ]
    },
    {
     "name": "stdout",
     "output_type": "stream",
     "text": [
      "Clusters salvos em clusters/Tools/umap/n_components64\\run_hdbscan/Tools_clusters_run_hdbscan_minsize300_minsample10.csv\n",
      "HDBSCAN - min_cluster_size = 300, min_samples = 20\n"
     ]
    },
    {
     "name": "stderr",
     "output_type": "stream",
     "text": [
      "C:\\Users\\cruzd\\AppData\\Local\\Packages\\PythonSoftwareFoundation.Python.3.12_qbz5n2kfra8p0\\LocalCache\\local-packages\\Python312\\site-packages\\sklearn\\utils\\deprecation.py:151: FutureWarning: 'force_all_finite' was renamed to 'ensure_all_finite' in 1.6 and will be removed in 1.8.\n",
      "  warnings.warn(\n",
      "C:\\Users\\cruzd\\AppData\\Local\\Packages\\PythonSoftwareFoundation.Python.3.12_qbz5n2kfra8p0\\LocalCache\\local-packages\\Python312\\site-packages\\sklearn\\utils\\deprecation.py:151: FutureWarning: 'force_all_finite' was renamed to 'ensure_all_finite' in 1.6 and will be removed in 1.8.\n",
      "  warnings.warn(\n"
     ]
    },
    {
     "name": "stdout",
     "output_type": "stream",
     "text": [
      "Clusters salvos em clusters/Tools/umap/n_components64\\run_hdbscan/Tools_clusters_run_hdbscan_minsize300_minsample20.csv\n",
      "HDBSCAN - min_cluster_size = 300, min_samples = 30\n"
     ]
    },
    {
     "name": "stderr",
     "output_type": "stream",
     "text": [
      "C:\\Users\\cruzd\\AppData\\Local\\Packages\\PythonSoftwareFoundation.Python.3.12_qbz5n2kfra8p0\\LocalCache\\local-packages\\Python312\\site-packages\\sklearn\\utils\\deprecation.py:151: FutureWarning: 'force_all_finite' was renamed to 'ensure_all_finite' in 1.6 and will be removed in 1.8.\n",
      "  warnings.warn(\n",
      "C:\\Users\\cruzd\\AppData\\Local\\Packages\\PythonSoftwareFoundation.Python.3.12_qbz5n2kfra8p0\\LocalCache\\local-packages\\Python312\\site-packages\\sklearn\\utils\\deprecation.py:151: FutureWarning: 'force_all_finite' was renamed to 'ensure_all_finite' in 1.6 and will be removed in 1.8.\n",
      "  warnings.warn(\n"
     ]
    },
    {
     "name": "stdout",
     "output_type": "stream",
     "text": [
      "Clusters salvos em clusters/Tools/umap/n_components64\\run_hdbscan/Tools_clusters_run_hdbscan_minsize300_minsample30.csv\n",
      "HDBSCAN - min_cluster_size = 300, min_samples = 50\n"
     ]
    },
    {
     "name": "stderr",
     "output_type": "stream",
     "text": [
      "C:\\Users\\cruzd\\AppData\\Local\\Packages\\PythonSoftwareFoundation.Python.3.12_qbz5n2kfra8p0\\LocalCache\\local-packages\\Python312\\site-packages\\sklearn\\utils\\deprecation.py:151: FutureWarning: 'force_all_finite' was renamed to 'ensure_all_finite' in 1.6 and will be removed in 1.8.\n",
      "  warnings.warn(\n",
      "C:\\Users\\cruzd\\AppData\\Local\\Packages\\PythonSoftwareFoundation.Python.3.12_qbz5n2kfra8p0\\LocalCache\\local-packages\\Python312\\site-packages\\sklearn\\utils\\deprecation.py:151: FutureWarning: 'force_all_finite' was renamed to 'ensure_all_finite' in 1.6 and will be removed in 1.8.\n",
      "  warnings.warn(\n"
     ]
    },
    {
     "name": "stdout",
     "output_type": "stream",
     "text": [
      "Clusters salvos em clusters/Tools/umap/n_components64\\run_hdbscan/Tools_clusters_run_hdbscan_minsize300_minsample50.csv\n",
      "HDBSCAN - min_cluster_size = 300, min_samples = 100\n"
     ]
    },
    {
     "name": "stderr",
     "output_type": "stream",
     "text": [
      "C:\\Users\\cruzd\\AppData\\Local\\Packages\\PythonSoftwareFoundation.Python.3.12_qbz5n2kfra8p0\\LocalCache\\local-packages\\Python312\\site-packages\\sklearn\\utils\\deprecation.py:151: FutureWarning: 'force_all_finite' was renamed to 'ensure_all_finite' in 1.6 and will be removed in 1.8.\n",
      "  warnings.warn(\n",
      "C:\\Users\\cruzd\\AppData\\Local\\Packages\\PythonSoftwareFoundation.Python.3.12_qbz5n2kfra8p0\\LocalCache\\local-packages\\Python312\\site-packages\\sklearn\\utils\\deprecation.py:151: FutureWarning: 'force_all_finite' was renamed to 'ensure_all_finite' in 1.6 and will be removed in 1.8.\n",
      "  warnings.warn(\n"
     ]
    },
    {
     "name": "stdout",
     "output_type": "stream",
     "text": [
      "Clusters salvos em clusters/Tools/umap/n_components64\\run_hdbscan/Tools_clusters_run_hdbscan_minsize300_minsample100.csv\n",
      "Clusterização concluída e resultados salvos\n",
      "\n",
      " Embeddings reduzidos com umap e n_components 128\n",
      "Aplicando UMAP com n_components = 128...\n"
     ]
    },
    {
     "name": "stderr",
     "output_type": "stream",
     "text": [
      "C:\\Users\\cruzd\\AppData\\Local\\Packages\\PythonSoftwareFoundation.Python.3.12_qbz5n2kfra8p0\\LocalCache\\local-packages\\Python312\\site-packages\\sklearn\\utils\\deprecation.py:151: FutureWarning: 'force_all_finite' was renamed to 'ensure_all_finite' in 1.6 and will be removed in 1.8.\n",
      "  warnings.warn(\n",
      "C:\\Users\\cruzd\\AppData\\Local\\Packages\\PythonSoftwareFoundation.Python.3.12_qbz5n2kfra8p0\\LocalCache\\local-packages\\Python312\\site-packages\\umap\\umap_.py:1952: UserWarning: n_jobs value 1 overridden to 1 by setting random_state. Use no seed for parallelism.\n",
      "  warn(\n"
     ]
    },
    {
     "name": "stdout",
     "output_type": "stream",
     "text": [
      "Dimensionalidade reduzida de 1000 para 128\n",
      "Executando run_hdbscan...\n",
      "HDBSCAN - min_cluster_size = 30, min_samples = 10\n"
     ]
    },
    {
     "name": "stderr",
     "output_type": "stream",
     "text": [
      "C:\\Users\\cruzd\\AppData\\Local\\Packages\\PythonSoftwareFoundation.Python.3.12_qbz5n2kfra8p0\\LocalCache\\local-packages\\Python312\\site-packages\\sklearn\\utils\\deprecation.py:151: FutureWarning: 'force_all_finite' was renamed to 'ensure_all_finite' in 1.6 and will be removed in 1.8.\n",
      "  warnings.warn(\n",
      "C:\\Users\\cruzd\\AppData\\Local\\Packages\\PythonSoftwareFoundation.Python.3.12_qbz5n2kfra8p0\\LocalCache\\local-packages\\Python312\\site-packages\\sklearn\\utils\\deprecation.py:151: FutureWarning: 'force_all_finite' was renamed to 'ensure_all_finite' in 1.6 and will be removed in 1.8.\n",
      "  warnings.warn(\n"
     ]
    },
    {
     "name": "stdout",
     "output_type": "stream",
     "text": [
      "Clusters salvos em clusters/Tools/umap/n_components128\\run_hdbscan/Tools_clusters_run_hdbscan_minsize30_minsample10.csv\n",
      "HDBSCAN - min_cluster_size = 30, min_samples = 20\n"
     ]
    },
    {
     "name": "stderr",
     "output_type": "stream",
     "text": [
      "C:\\Users\\cruzd\\AppData\\Local\\Packages\\PythonSoftwareFoundation.Python.3.12_qbz5n2kfra8p0\\LocalCache\\local-packages\\Python312\\site-packages\\sklearn\\utils\\deprecation.py:151: FutureWarning: 'force_all_finite' was renamed to 'ensure_all_finite' in 1.6 and will be removed in 1.8.\n",
      "  warnings.warn(\n",
      "C:\\Users\\cruzd\\AppData\\Local\\Packages\\PythonSoftwareFoundation.Python.3.12_qbz5n2kfra8p0\\LocalCache\\local-packages\\Python312\\site-packages\\sklearn\\utils\\deprecation.py:151: FutureWarning: 'force_all_finite' was renamed to 'ensure_all_finite' in 1.6 and will be removed in 1.8.\n",
      "  warnings.warn(\n"
     ]
    },
    {
     "name": "stdout",
     "output_type": "stream",
     "text": [
      "Clusters salvos em clusters/Tools/umap/n_components128\\run_hdbscan/Tools_clusters_run_hdbscan_minsize30_minsample20.csv\n",
      "HDBSCAN - min_cluster_size = 30, min_samples = 30\n"
     ]
    },
    {
     "name": "stderr",
     "output_type": "stream",
     "text": [
      "C:\\Users\\cruzd\\AppData\\Local\\Packages\\PythonSoftwareFoundation.Python.3.12_qbz5n2kfra8p0\\LocalCache\\local-packages\\Python312\\site-packages\\sklearn\\utils\\deprecation.py:151: FutureWarning: 'force_all_finite' was renamed to 'ensure_all_finite' in 1.6 and will be removed in 1.8.\n",
      "  warnings.warn(\n",
      "C:\\Users\\cruzd\\AppData\\Local\\Packages\\PythonSoftwareFoundation.Python.3.12_qbz5n2kfra8p0\\LocalCache\\local-packages\\Python312\\site-packages\\sklearn\\utils\\deprecation.py:151: FutureWarning: 'force_all_finite' was renamed to 'ensure_all_finite' in 1.6 and will be removed in 1.8.\n",
      "  warnings.warn(\n"
     ]
    },
    {
     "name": "stdout",
     "output_type": "stream",
     "text": [
      "Clusters salvos em clusters/Tools/umap/n_components128\\run_hdbscan/Tools_clusters_run_hdbscan_minsize30_minsample30.csv\n",
      "HDBSCAN - min_cluster_size = 30, min_samples = 50\n"
     ]
    },
    {
     "name": "stderr",
     "output_type": "stream",
     "text": [
      "C:\\Users\\cruzd\\AppData\\Local\\Packages\\PythonSoftwareFoundation.Python.3.12_qbz5n2kfra8p0\\LocalCache\\local-packages\\Python312\\site-packages\\sklearn\\utils\\deprecation.py:151: FutureWarning: 'force_all_finite' was renamed to 'ensure_all_finite' in 1.6 and will be removed in 1.8.\n",
      "  warnings.warn(\n",
      "C:\\Users\\cruzd\\AppData\\Local\\Packages\\PythonSoftwareFoundation.Python.3.12_qbz5n2kfra8p0\\LocalCache\\local-packages\\Python312\\site-packages\\sklearn\\utils\\deprecation.py:151: FutureWarning: 'force_all_finite' was renamed to 'ensure_all_finite' in 1.6 and will be removed in 1.8.\n",
      "  warnings.warn(\n"
     ]
    },
    {
     "name": "stdout",
     "output_type": "stream",
     "text": [
      "Clusters salvos em clusters/Tools/umap/n_components128\\run_hdbscan/Tools_clusters_run_hdbscan_minsize30_minsample50.csv\n",
      "HDBSCAN - min_cluster_size = 30, min_samples = 100\n"
     ]
    },
    {
     "name": "stderr",
     "output_type": "stream",
     "text": [
      "C:\\Users\\cruzd\\AppData\\Local\\Packages\\PythonSoftwareFoundation.Python.3.12_qbz5n2kfra8p0\\LocalCache\\local-packages\\Python312\\site-packages\\sklearn\\utils\\deprecation.py:151: FutureWarning: 'force_all_finite' was renamed to 'ensure_all_finite' in 1.6 and will be removed in 1.8.\n",
      "  warnings.warn(\n",
      "C:\\Users\\cruzd\\AppData\\Local\\Packages\\PythonSoftwareFoundation.Python.3.12_qbz5n2kfra8p0\\LocalCache\\local-packages\\Python312\\site-packages\\sklearn\\utils\\deprecation.py:151: FutureWarning: 'force_all_finite' was renamed to 'ensure_all_finite' in 1.6 and will be removed in 1.8.\n",
      "  warnings.warn(\n"
     ]
    },
    {
     "name": "stdout",
     "output_type": "stream",
     "text": [
      "Clusters salvos em clusters/Tools/umap/n_components128\\run_hdbscan/Tools_clusters_run_hdbscan_minsize30_minsample100.csv\n",
      "HDBSCAN - min_cluster_size = 50, min_samples = 10\n"
     ]
    },
    {
     "name": "stderr",
     "output_type": "stream",
     "text": [
      "C:\\Users\\cruzd\\AppData\\Local\\Packages\\PythonSoftwareFoundation.Python.3.12_qbz5n2kfra8p0\\LocalCache\\local-packages\\Python312\\site-packages\\sklearn\\utils\\deprecation.py:151: FutureWarning: 'force_all_finite' was renamed to 'ensure_all_finite' in 1.6 and will be removed in 1.8.\n",
      "  warnings.warn(\n",
      "C:\\Users\\cruzd\\AppData\\Local\\Packages\\PythonSoftwareFoundation.Python.3.12_qbz5n2kfra8p0\\LocalCache\\local-packages\\Python312\\site-packages\\sklearn\\utils\\deprecation.py:151: FutureWarning: 'force_all_finite' was renamed to 'ensure_all_finite' in 1.6 and will be removed in 1.8.\n",
      "  warnings.warn(\n"
     ]
    },
    {
     "name": "stdout",
     "output_type": "stream",
     "text": [
      "Clusters salvos em clusters/Tools/umap/n_components128\\run_hdbscan/Tools_clusters_run_hdbscan_minsize50_minsample10.csv\n",
      "HDBSCAN - min_cluster_size = 50, min_samples = 20\n"
     ]
    },
    {
     "name": "stderr",
     "output_type": "stream",
     "text": [
      "C:\\Users\\cruzd\\AppData\\Local\\Packages\\PythonSoftwareFoundation.Python.3.12_qbz5n2kfra8p0\\LocalCache\\local-packages\\Python312\\site-packages\\sklearn\\utils\\deprecation.py:151: FutureWarning: 'force_all_finite' was renamed to 'ensure_all_finite' in 1.6 and will be removed in 1.8.\n",
      "  warnings.warn(\n",
      "C:\\Users\\cruzd\\AppData\\Local\\Packages\\PythonSoftwareFoundation.Python.3.12_qbz5n2kfra8p0\\LocalCache\\local-packages\\Python312\\site-packages\\sklearn\\utils\\deprecation.py:151: FutureWarning: 'force_all_finite' was renamed to 'ensure_all_finite' in 1.6 and will be removed in 1.8.\n",
      "  warnings.warn(\n"
     ]
    },
    {
     "name": "stdout",
     "output_type": "stream",
     "text": [
      "Clusters salvos em clusters/Tools/umap/n_components128\\run_hdbscan/Tools_clusters_run_hdbscan_minsize50_minsample20.csv\n",
      "HDBSCAN - min_cluster_size = 50, min_samples = 30\n"
     ]
    },
    {
     "name": "stderr",
     "output_type": "stream",
     "text": [
      "C:\\Users\\cruzd\\AppData\\Local\\Packages\\PythonSoftwareFoundation.Python.3.12_qbz5n2kfra8p0\\LocalCache\\local-packages\\Python312\\site-packages\\sklearn\\utils\\deprecation.py:151: FutureWarning: 'force_all_finite' was renamed to 'ensure_all_finite' in 1.6 and will be removed in 1.8.\n",
      "  warnings.warn(\n",
      "C:\\Users\\cruzd\\AppData\\Local\\Packages\\PythonSoftwareFoundation.Python.3.12_qbz5n2kfra8p0\\LocalCache\\local-packages\\Python312\\site-packages\\sklearn\\utils\\deprecation.py:151: FutureWarning: 'force_all_finite' was renamed to 'ensure_all_finite' in 1.6 and will be removed in 1.8.\n",
      "  warnings.warn(\n"
     ]
    },
    {
     "name": "stdout",
     "output_type": "stream",
     "text": [
      "Clusters salvos em clusters/Tools/umap/n_components128\\run_hdbscan/Tools_clusters_run_hdbscan_minsize50_minsample30.csv\n",
      "HDBSCAN - min_cluster_size = 50, min_samples = 50\n"
     ]
    },
    {
     "name": "stderr",
     "output_type": "stream",
     "text": [
      "C:\\Users\\cruzd\\AppData\\Local\\Packages\\PythonSoftwareFoundation.Python.3.12_qbz5n2kfra8p0\\LocalCache\\local-packages\\Python312\\site-packages\\sklearn\\utils\\deprecation.py:151: FutureWarning: 'force_all_finite' was renamed to 'ensure_all_finite' in 1.6 and will be removed in 1.8.\n",
      "  warnings.warn(\n",
      "C:\\Users\\cruzd\\AppData\\Local\\Packages\\PythonSoftwareFoundation.Python.3.12_qbz5n2kfra8p0\\LocalCache\\local-packages\\Python312\\site-packages\\sklearn\\utils\\deprecation.py:151: FutureWarning: 'force_all_finite' was renamed to 'ensure_all_finite' in 1.6 and will be removed in 1.8.\n",
      "  warnings.warn(\n"
     ]
    },
    {
     "name": "stdout",
     "output_type": "stream",
     "text": [
      "Clusters salvos em clusters/Tools/umap/n_components128\\run_hdbscan/Tools_clusters_run_hdbscan_minsize50_minsample50.csv\n",
      "HDBSCAN - min_cluster_size = 50, min_samples = 100\n"
     ]
    },
    {
     "name": "stderr",
     "output_type": "stream",
     "text": [
      "C:\\Users\\cruzd\\AppData\\Local\\Packages\\PythonSoftwareFoundation.Python.3.12_qbz5n2kfra8p0\\LocalCache\\local-packages\\Python312\\site-packages\\sklearn\\utils\\deprecation.py:151: FutureWarning: 'force_all_finite' was renamed to 'ensure_all_finite' in 1.6 and will be removed in 1.8.\n",
      "  warnings.warn(\n",
      "C:\\Users\\cruzd\\AppData\\Local\\Packages\\PythonSoftwareFoundation.Python.3.12_qbz5n2kfra8p0\\LocalCache\\local-packages\\Python312\\site-packages\\sklearn\\utils\\deprecation.py:151: FutureWarning: 'force_all_finite' was renamed to 'ensure_all_finite' in 1.6 and will be removed in 1.8.\n",
      "  warnings.warn(\n"
     ]
    },
    {
     "name": "stdout",
     "output_type": "stream",
     "text": [
      "Clusters salvos em clusters/Tools/umap/n_components128\\run_hdbscan/Tools_clusters_run_hdbscan_minsize50_minsample100.csv\n",
      "HDBSCAN - min_cluster_size = 100, min_samples = 10\n"
     ]
    },
    {
     "name": "stderr",
     "output_type": "stream",
     "text": [
      "C:\\Users\\cruzd\\AppData\\Local\\Packages\\PythonSoftwareFoundation.Python.3.12_qbz5n2kfra8p0\\LocalCache\\local-packages\\Python312\\site-packages\\sklearn\\utils\\deprecation.py:151: FutureWarning: 'force_all_finite' was renamed to 'ensure_all_finite' in 1.6 and will be removed in 1.8.\n",
      "  warnings.warn(\n",
      "C:\\Users\\cruzd\\AppData\\Local\\Packages\\PythonSoftwareFoundation.Python.3.12_qbz5n2kfra8p0\\LocalCache\\local-packages\\Python312\\site-packages\\sklearn\\utils\\deprecation.py:151: FutureWarning: 'force_all_finite' was renamed to 'ensure_all_finite' in 1.6 and will be removed in 1.8.\n",
      "  warnings.warn(\n"
     ]
    },
    {
     "name": "stdout",
     "output_type": "stream",
     "text": [
      "Clusters salvos em clusters/Tools/umap/n_components128\\run_hdbscan/Tools_clusters_run_hdbscan_minsize100_minsample10.csv\n",
      "HDBSCAN - min_cluster_size = 100, min_samples = 20\n"
     ]
    },
    {
     "name": "stderr",
     "output_type": "stream",
     "text": [
      "C:\\Users\\cruzd\\AppData\\Local\\Packages\\PythonSoftwareFoundation.Python.3.12_qbz5n2kfra8p0\\LocalCache\\local-packages\\Python312\\site-packages\\sklearn\\utils\\deprecation.py:151: FutureWarning: 'force_all_finite' was renamed to 'ensure_all_finite' in 1.6 and will be removed in 1.8.\n",
      "  warnings.warn(\n",
      "C:\\Users\\cruzd\\AppData\\Local\\Packages\\PythonSoftwareFoundation.Python.3.12_qbz5n2kfra8p0\\LocalCache\\local-packages\\Python312\\site-packages\\sklearn\\utils\\deprecation.py:151: FutureWarning: 'force_all_finite' was renamed to 'ensure_all_finite' in 1.6 and will be removed in 1.8.\n",
      "  warnings.warn(\n"
     ]
    },
    {
     "name": "stdout",
     "output_type": "stream",
     "text": [
      "Clusters salvos em clusters/Tools/umap/n_components128\\run_hdbscan/Tools_clusters_run_hdbscan_minsize100_minsample20.csv\n",
      "HDBSCAN - min_cluster_size = 100, min_samples = 30\n"
     ]
    },
    {
     "name": "stderr",
     "output_type": "stream",
     "text": [
      "C:\\Users\\cruzd\\AppData\\Local\\Packages\\PythonSoftwareFoundation.Python.3.12_qbz5n2kfra8p0\\LocalCache\\local-packages\\Python312\\site-packages\\sklearn\\utils\\deprecation.py:151: FutureWarning: 'force_all_finite' was renamed to 'ensure_all_finite' in 1.6 and will be removed in 1.8.\n",
      "  warnings.warn(\n",
      "C:\\Users\\cruzd\\AppData\\Local\\Packages\\PythonSoftwareFoundation.Python.3.12_qbz5n2kfra8p0\\LocalCache\\local-packages\\Python312\\site-packages\\sklearn\\utils\\deprecation.py:151: FutureWarning: 'force_all_finite' was renamed to 'ensure_all_finite' in 1.6 and will be removed in 1.8.\n",
      "  warnings.warn(\n"
     ]
    },
    {
     "name": "stdout",
     "output_type": "stream",
     "text": [
      "Clusters salvos em clusters/Tools/umap/n_components128\\run_hdbscan/Tools_clusters_run_hdbscan_minsize100_minsample30.csv\n",
      "HDBSCAN - min_cluster_size = 100, min_samples = 50\n"
     ]
    },
    {
     "name": "stderr",
     "output_type": "stream",
     "text": [
      "C:\\Users\\cruzd\\AppData\\Local\\Packages\\PythonSoftwareFoundation.Python.3.12_qbz5n2kfra8p0\\LocalCache\\local-packages\\Python312\\site-packages\\sklearn\\utils\\deprecation.py:151: FutureWarning: 'force_all_finite' was renamed to 'ensure_all_finite' in 1.6 and will be removed in 1.8.\n",
      "  warnings.warn(\n",
      "C:\\Users\\cruzd\\AppData\\Local\\Packages\\PythonSoftwareFoundation.Python.3.12_qbz5n2kfra8p0\\LocalCache\\local-packages\\Python312\\site-packages\\sklearn\\utils\\deprecation.py:151: FutureWarning: 'force_all_finite' was renamed to 'ensure_all_finite' in 1.6 and will be removed in 1.8.\n",
      "  warnings.warn(\n"
     ]
    },
    {
     "name": "stdout",
     "output_type": "stream",
     "text": [
      "Clusters salvos em clusters/Tools/umap/n_components128\\run_hdbscan/Tools_clusters_run_hdbscan_minsize100_minsample50.csv\n",
      "HDBSCAN - min_cluster_size = 100, min_samples = 100\n"
     ]
    },
    {
     "name": "stderr",
     "output_type": "stream",
     "text": [
      "C:\\Users\\cruzd\\AppData\\Local\\Packages\\PythonSoftwareFoundation.Python.3.12_qbz5n2kfra8p0\\LocalCache\\local-packages\\Python312\\site-packages\\sklearn\\utils\\deprecation.py:151: FutureWarning: 'force_all_finite' was renamed to 'ensure_all_finite' in 1.6 and will be removed in 1.8.\n",
      "  warnings.warn(\n",
      "C:\\Users\\cruzd\\AppData\\Local\\Packages\\PythonSoftwareFoundation.Python.3.12_qbz5n2kfra8p0\\LocalCache\\local-packages\\Python312\\site-packages\\sklearn\\utils\\deprecation.py:151: FutureWarning: 'force_all_finite' was renamed to 'ensure_all_finite' in 1.6 and will be removed in 1.8.\n",
      "  warnings.warn(\n"
     ]
    },
    {
     "name": "stdout",
     "output_type": "stream",
     "text": [
      "Clusters salvos em clusters/Tools/umap/n_components128\\run_hdbscan/Tools_clusters_run_hdbscan_minsize100_minsample100.csv\n",
      "HDBSCAN - min_cluster_size = 200, min_samples = 10\n"
     ]
    },
    {
     "name": "stderr",
     "output_type": "stream",
     "text": [
      "C:\\Users\\cruzd\\AppData\\Local\\Packages\\PythonSoftwareFoundation.Python.3.12_qbz5n2kfra8p0\\LocalCache\\local-packages\\Python312\\site-packages\\sklearn\\utils\\deprecation.py:151: FutureWarning: 'force_all_finite' was renamed to 'ensure_all_finite' in 1.6 and will be removed in 1.8.\n",
      "  warnings.warn(\n",
      "C:\\Users\\cruzd\\AppData\\Local\\Packages\\PythonSoftwareFoundation.Python.3.12_qbz5n2kfra8p0\\LocalCache\\local-packages\\Python312\\site-packages\\sklearn\\utils\\deprecation.py:151: FutureWarning: 'force_all_finite' was renamed to 'ensure_all_finite' in 1.6 and will be removed in 1.8.\n",
      "  warnings.warn(\n"
     ]
    },
    {
     "name": "stdout",
     "output_type": "stream",
     "text": [
      "Clusters salvos em clusters/Tools/umap/n_components128\\run_hdbscan/Tools_clusters_run_hdbscan_minsize200_minsample10.csv\n",
      "HDBSCAN - min_cluster_size = 200, min_samples = 20\n"
     ]
    },
    {
     "name": "stderr",
     "output_type": "stream",
     "text": [
      "C:\\Users\\cruzd\\AppData\\Local\\Packages\\PythonSoftwareFoundation.Python.3.12_qbz5n2kfra8p0\\LocalCache\\local-packages\\Python312\\site-packages\\sklearn\\utils\\deprecation.py:151: FutureWarning: 'force_all_finite' was renamed to 'ensure_all_finite' in 1.6 and will be removed in 1.8.\n",
      "  warnings.warn(\n",
      "C:\\Users\\cruzd\\AppData\\Local\\Packages\\PythonSoftwareFoundation.Python.3.12_qbz5n2kfra8p0\\LocalCache\\local-packages\\Python312\\site-packages\\sklearn\\utils\\deprecation.py:151: FutureWarning: 'force_all_finite' was renamed to 'ensure_all_finite' in 1.6 and will be removed in 1.8.\n",
      "  warnings.warn(\n"
     ]
    },
    {
     "name": "stdout",
     "output_type": "stream",
     "text": [
      "Clusters salvos em clusters/Tools/umap/n_components128\\run_hdbscan/Tools_clusters_run_hdbscan_minsize200_minsample20.csv\n",
      "HDBSCAN - min_cluster_size = 200, min_samples = 30\n"
     ]
    },
    {
     "name": "stderr",
     "output_type": "stream",
     "text": [
      "C:\\Users\\cruzd\\AppData\\Local\\Packages\\PythonSoftwareFoundation.Python.3.12_qbz5n2kfra8p0\\LocalCache\\local-packages\\Python312\\site-packages\\sklearn\\utils\\deprecation.py:151: FutureWarning: 'force_all_finite' was renamed to 'ensure_all_finite' in 1.6 and will be removed in 1.8.\n",
      "  warnings.warn(\n",
      "C:\\Users\\cruzd\\AppData\\Local\\Packages\\PythonSoftwareFoundation.Python.3.12_qbz5n2kfra8p0\\LocalCache\\local-packages\\Python312\\site-packages\\sklearn\\utils\\deprecation.py:151: FutureWarning: 'force_all_finite' was renamed to 'ensure_all_finite' in 1.6 and will be removed in 1.8.\n",
      "  warnings.warn(\n"
     ]
    },
    {
     "name": "stdout",
     "output_type": "stream",
     "text": [
      "Clusters salvos em clusters/Tools/umap/n_components128\\run_hdbscan/Tools_clusters_run_hdbscan_minsize200_minsample30.csv\n",
      "HDBSCAN - min_cluster_size = 200, min_samples = 50\n"
     ]
    },
    {
     "name": "stderr",
     "output_type": "stream",
     "text": [
      "C:\\Users\\cruzd\\AppData\\Local\\Packages\\PythonSoftwareFoundation.Python.3.12_qbz5n2kfra8p0\\LocalCache\\local-packages\\Python312\\site-packages\\sklearn\\utils\\deprecation.py:151: FutureWarning: 'force_all_finite' was renamed to 'ensure_all_finite' in 1.6 and will be removed in 1.8.\n",
      "  warnings.warn(\n",
      "C:\\Users\\cruzd\\AppData\\Local\\Packages\\PythonSoftwareFoundation.Python.3.12_qbz5n2kfra8p0\\LocalCache\\local-packages\\Python312\\site-packages\\sklearn\\utils\\deprecation.py:151: FutureWarning: 'force_all_finite' was renamed to 'ensure_all_finite' in 1.6 and will be removed in 1.8.\n",
      "  warnings.warn(\n"
     ]
    },
    {
     "name": "stdout",
     "output_type": "stream",
     "text": [
      "Clusters salvos em clusters/Tools/umap/n_components128\\run_hdbscan/Tools_clusters_run_hdbscan_minsize200_minsample50.csv\n",
      "HDBSCAN - min_cluster_size = 200, min_samples = 100\n"
     ]
    },
    {
     "name": "stderr",
     "output_type": "stream",
     "text": [
      "C:\\Users\\cruzd\\AppData\\Local\\Packages\\PythonSoftwareFoundation.Python.3.12_qbz5n2kfra8p0\\LocalCache\\local-packages\\Python312\\site-packages\\sklearn\\utils\\deprecation.py:151: FutureWarning: 'force_all_finite' was renamed to 'ensure_all_finite' in 1.6 and will be removed in 1.8.\n",
      "  warnings.warn(\n",
      "C:\\Users\\cruzd\\AppData\\Local\\Packages\\PythonSoftwareFoundation.Python.3.12_qbz5n2kfra8p0\\LocalCache\\local-packages\\Python312\\site-packages\\sklearn\\utils\\deprecation.py:151: FutureWarning: 'force_all_finite' was renamed to 'ensure_all_finite' in 1.6 and will be removed in 1.8.\n",
      "  warnings.warn(\n"
     ]
    },
    {
     "name": "stdout",
     "output_type": "stream",
     "text": [
      "Clusters salvos em clusters/Tools/umap/n_components128\\run_hdbscan/Tools_clusters_run_hdbscan_minsize200_minsample100.csv\n",
      "HDBSCAN - min_cluster_size = 300, min_samples = 10\n"
     ]
    },
    {
     "name": "stderr",
     "output_type": "stream",
     "text": [
      "C:\\Users\\cruzd\\AppData\\Local\\Packages\\PythonSoftwareFoundation.Python.3.12_qbz5n2kfra8p0\\LocalCache\\local-packages\\Python312\\site-packages\\sklearn\\utils\\deprecation.py:151: FutureWarning: 'force_all_finite' was renamed to 'ensure_all_finite' in 1.6 and will be removed in 1.8.\n",
      "  warnings.warn(\n",
      "C:\\Users\\cruzd\\AppData\\Local\\Packages\\PythonSoftwareFoundation.Python.3.12_qbz5n2kfra8p0\\LocalCache\\local-packages\\Python312\\site-packages\\sklearn\\utils\\deprecation.py:151: FutureWarning: 'force_all_finite' was renamed to 'ensure_all_finite' in 1.6 and will be removed in 1.8.\n",
      "  warnings.warn(\n"
     ]
    },
    {
     "name": "stdout",
     "output_type": "stream",
     "text": [
      "Clusters salvos em clusters/Tools/umap/n_components128\\run_hdbscan/Tools_clusters_run_hdbscan_minsize300_minsample10.csv\n",
      "HDBSCAN - min_cluster_size = 300, min_samples = 20\n"
     ]
    },
    {
     "name": "stderr",
     "output_type": "stream",
     "text": [
      "C:\\Users\\cruzd\\AppData\\Local\\Packages\\PythonSoftwareFoundation.Python.3.12_qbz5n2kfra8p0\\LocalCache\\local-packages\\Python312\\site-packages\\sklearn\\utils\\deprecation.py:151: FutureWarning: 'force_all_finite' was renamed to 'ensure_all_finite' in 1.6 and will be removed in 1.8.\n",
      "  warnings.warn(\n",
      "C:\\Users\\cruzd\\AppData\\Local\\Packages\\PythonSoftwareFoundation.Python.3.12_qbz5n2kfra8p0\\LocalCache\\local-packages\\Python312\\site-packages\\sklearn\\utils\\deprecation.py:151: FutureWarning: 'force_all_finite' was renamed to 'ensure_all_finite' in 1.6 and will be removed in 1.8.\n",
      "  warnings.warn(\n"
     ]
    },
    {
     "name": "stdout",
     "output_type": "stream",
     "text": [
      "Clusters salvos em clusters/Tools/umap/n_components128\\run_hdbscan/Tools_clusters_run_hdbscan_minsize300_minsample20.csv\n",
      "HDBSCAN - min_cluster_size = 300, min_samples = 30\n"
     ]
    },
    {
     "name": "stderr",
     "output_type": "stream",
     "text": [
      "C:\\Users\\cruzd\\AppData\\Local\\Packages\\PythonSoftwareFoundation.Python.3.12_qbz5n2kfra8p0\\LocalCache\\local-packages\\Python312\\site-packages\\sklearn\\utils\\deprecation.py:151: FutureWarning: 'force_all_finite' was renamed to 'ensure_all_finite' in 1.6 and will be removed in 1.8.\n",
      "  warnings.warn(\n",
      "C:\\Users\\cruzd\\AppData\\Local\\Packages\\PythonSoftwareFoundation.Python.3.12_qbz5n2kfra8p0\\LocalCache\\local-packages\\Python312\\site-packages\\sklearn\\utils\\deprecation.py:151: FutureWarning: 'force_all_finite' was renamed to 'ensure_all_finite' in 1.6 and will be removed in 1.8.\n",
      "  warnings.warn(\n"
     ]
    },
    {
     "name": "stdout",
     "output_type": "stream",
     "text": [
      "Clusters salvos em clusters/Tools/umap/n_components128\\run_hdbscan/Tools_clusters_run_hdbscan_minsize300_minsample30.csv\n",
      "HDBSCAN - min_cluster_size = 300, min_samples = 50\n"
     ]
    },
    {
     "name": "stderr",
     "output_type": "stream",
     "text": [
      "C:\\Users\\cruzd\\AppData\\Local\\Packages\\PythonSoftwareFoundation.Python.3.12_qbz5n2kfra8p0\\LocalCache\\local-packages\\Python312\\site-packages\\sklearn\\utils\\deprecation.py:151: FutureWarning: 'force_all_finite' was renamed to 'ensure_all_finite' in 1.6 and will be removed in 1.8.\n",
      "  warnings.warn(\n",
      "C:\\Users\\cruzd\\AppData\\Local\\Packages\\PythonSoftwareFoundation.Python.3.12_qbz5n2kfra8p0\\LocalCache\\local-packages\\Python312\\site-packages\\sklearn\\utils\\deprecation.py:151: FutureWarning: 'force_all_finite' was renamed to 'ensure_all_finite' in 1.6 and will be removed in 1.8.\n",
      "  warnings.warn(\n"
     ]
    },
    {
     "name": "stdout",
     "output_type": "stream",
     "text": [
      "Clusters salvos em clusters/Tools/umap/n_components128\\run_hdbscan/Tools_clusters_run_hdbscan_minsize300_minsample50.csv\n",
      "HDBSCAN - min_cluster_size = 300, min_samples = 100\n"
     ]
    },
    {
     "name": "stderr",
     "output_type": "stream",
     "text": [
      "C:\\Users\\cruzd\\AppData\\Local\\Packages\\PythonSoftwareFoundation.Python.3.12_qbz5n2kfra8p0\\LocalCache\\local-packages\\Python312\\site-packages\\sklearn\\utils\\deprecation.py:151: FutureWarning: 'force_all_finite' was renamed to 'ensure_all_finite' in 1.6 and will be removed in 1.8.\n",
      "  warnings.warn(\n",
      "C:\\Users\\cruzd\\AppData\\Local\\Packages\\PythonSoftwareFoundation.Python.3.12_qbz5n2kfra8p0\\LocalCache\\local-packages\\Python312\\site-packages\\sklearn\\utils\\deprecation.py:151: FutureWarning: 'force_all_finite' was renamed to 'ensure_all_finite' in 1.6 and will be removed in 1.8.\n",
      "  warnings.warn(\n"
     ]
    },
    {
     "name": "stdout",
     "output_type": "stream",
     "text": [
      "Clusters salvos em clusters/Tools/umap/n_components128\\run_hdbscan/Tools_clusters_run_hdbscan_minsize300_minsample100.csv\n",
      "Clusterização concluída e resultados salvos\n",
      "\n",
      " Embeddings reduzidos com umap e n_components 256\n",
      "Aplicando UMAP com n_components = 256...\n"
     ]
    },
    {
     "name": "stderr",
     "output_type": "stream",
     "text": [
      "C:\\Users\\cruzd\\AppData\\Local\\Packages\\PythonSoftwareFoundation.Python.3.12_qbz5n2kfra8p0\\LocalCache\\local-packages\\Python312\\site-packages\\sklearn\\utils\\deprecation.py:151: FutureWarning: 'force_all_finite' was renamed to 'ensure_all_finite' in 1.6 and will be removed in 1.8.\n",
      "  warnings.warn(\n",
      "C:\\Users\\cruzd\\AppData\\Local\\Packages\\PythonSoftwareFoundation.Python.3.12_qbz5n2kfra8p0\\LocalCache\\local-packages\\Python312\\site-packages\\umap\\umap_.py:1952: UserWarning: n_jobs value 1 overridden to 1 by setting random_state. Use no seed for parallelism.\n",
      "  warn(\n"
     ]
    },
    {
     "name": "stdout",
     "output_type": "stream",
     "text": [
      "Dimensionalidade reduzida de 1000 para 256\n",
      "Executando run_hdbscan...\n",
      "HDBSCAN - min_cluster_size = 30, min_samples = 10\n"
     ]
    },
    {
     "name": "stderr",
     "output_type": "stream",
     "text": [
      "C:\\Users\\cruzd\\AppData\\Local\\Packages\\PythonSoftwareFoundation.Python.3.12_qbz5n2kfra8p0\\LocalCache\\local-packages\\Python312\\site-packages\\sklearn\\utils\\deprecation.py:151: FutureWarning: 'force_all_finite' was renamed to 'ensure_all_finite' in 1.6 and will be removed in 1.8.\n",
      "  warnings.warn(\n",
      "C:\\Users\\cruzd\\AppData\\Local\\Packages\\PythonSoftwareFoundation.Python.3.12_qbz5n2kfra8p0\\LocalCache\\local-packages\\Python312\\site-packages\\sklearn\\utils\\deprecation.py:151: FutureWarning: 'force_all_finite' was renamed to 'ensure_all_finite' in 1.6 and will be removed in 1.8.\n",
      "  warnings.warn(\n"
     ]
    },
    {
     "name": "stdout",
     "output_type": "stream",
     "text": [
      "Clusters salvos em clusters/Tools/umap/n_components256\\run_hdbscan/Tools_clusters_run_hdbscan_minsize30_minsample10.csv\n",
      "HDBSCAN - min_cluster_size = 30, min_samples = 20\n"
     ]
    },
    {
     "name": "stderr",
     "output_type": "stream",
     "text": [
      "C:\\Users\\cruzd\\AppData\\Local\\Packages\\PythonSoftwareFoundation.Python.3.12_qbz5n2kfra8p0\\LocalCache\\local-packages\\Python312\\site-packages\\sklearn\\utils\\deprecation.py:151: FutureWarning: 'force_all_finite' was renamed to 'ensure_all_finite' in 1.6 and will be removed in 1.8.\n",
      "  warnings.warn(\n",
      "C:\\Users\\cruzd\\AppData\\Local\\Packages\\PythonSoftwareFoundation.Python.3.12_qbz5n2kfra8p0\\LocalCache\\local-packages\\Python312\\site-packages\\sklearn\\utils\\deprecation.py:151: FutureWarning: 'force_all_finite' was renamed to 'ensure_all_finite' in 1.6 and will be removed in 1.8.\n",
      "  warnings.warn(\n"
     ]
    },
    {
     "name": "stdout",
     "output_type": "stream",
     "text": [
      "Clusters salvos em clusters/Tools/umap/n_components256\\run_hdbscan/Tools_clusters_run_hdbscan_minsize30_minsample20.csv\n",
      "HDBSCAN - min_cluster_size = 30, min_samples = 30\n"
     ]
    },
    {
     "name": "stderr",
     "output_type": "stream",
     "text": [
      "C:\\Users\\cruzd\\AppData\\Local\\Packages\\PythonSoftwareFoundation.Python.3.12_qbz5n2kfra8p0\\LocalCache\\local-packages\\Python312\\site-packages\\sklearn\\utils\\deprecation.py:151: FutureWarning: 'force_all_finite' was renamed to 'ensure_all_finite' in 1.6 and will be removed in 1.8.\n",
      "  warnings.warn(\n",
      "C:\\Users\\cruzd\\AppData\\Local\\Packages\\PythonSoftwareFoundation.Python.3.12_qbz5n2kfra8p0\\LocalCache\\local-packages\\Python312\\site-packages\\sklearn\\utils\\deprecation.py:151: FutureWarning: 'force_all_finite' was renamed to 'ensure_all_finite' in 1.6 and will be removed in 1.8.\n",
      "  warnings.warn(\n"
     ]
    },
    {
     "name": "stdout",
     "output_type": "stream",
     "text": [
      "Clusters salvos em clusters/Tools/umap/n_components256\\run_hdbscan/Tools_clusters_run_hdbscan_minsize30_minsample30.csv\n",
      "HDBSCAN - min_cluster_size = 30, min_samples = 50\n"
     ]
    },
    {
     "name": "stderr",
     "output_type": "stream",
     "text": [
      "C:\\Users\\cruzd\\AppData\\Local\\Packages\\PythonSoftwareFoundation.Python.3.12_qbz5n2kfra8p0\\LocalCache\\local-packages\\Python312\\site-packages\\sklearn\\utils\\deprecation.py:151: FutureWarning: 'force_all_finite' was renamed to 'ensure_all_finite' in 1.6 and will be removed in 1.8.\n",
      "  warnings.warn(\n",
      "C:\\Users\\cruzd\\AppData\\Local\\Packages\\PythonSoftwareFoundation.Python.3.12_qbz5n2kfra8p0\\LocalCache\\local-packages\\Python312\\site-packages\\sklearn\\utils\\deprecation.py:151: FutureWarning: 'force_all_finite' was renamed to 'ensure_all_finite' in 1.6 and will be removed in 1.8.\n",
      "  warnings.warn(\n"
     ]
    },
    {
     "name": "stdout",
     "output_type": "stream",
     "text": [
      "Clusters salvos em clusters/Tools/umap/n_components256\\run_hdbscan/Tools_clusters_run_hdbscan_minsize30_minsample50.csv\n",
      "HDBSCAN - min_cluster_size = 30, min_samples = 100\n"
     ]
    },
    {
     "name": "stderr",
     "output_type": "stream",
     "text": [
      "C:\\Users\\cruzd\\AppData\\Local\\Packages\\PythonSoftwareFoundation.Python.3.12_qbz5n2kfra8p0\\LocalCache\\local-packages\\Python312\\site-packages\\sklearn\\utils\\deprecation.py:151: FutureWarning: 'force_all_finite' was renamed to 'ensure_all_finite' in 1.6 and will be removed in 1.8.\n",
      "  warnings.warn(\n",
      "C:\\Users\\cruzd\\AppData\\Local\\Packages\\PythonSoftwareFoundation.Python.3.12_qbz5n2kfra8p0\\LocalCache\\local-packages\\Python312\\site-packages\\sklearn\\utils\\deprecation.py:151: FutureWarning: 'force_all_finite' was renamed to 'ensure_all_finite' in 1.6 and will be removed in 1.8.\n",
      "  warnings.warn(\n"
     ]
    },
    {
     "name": "stdout",
     "output_type": "stream",
     "text": [
      "Clusters salvos em clusters/Tools/umap/n_components256\\run_hdbscan/Tools_clusters_run_hdbscan_minsize30_minsample100.csv\n",
      "HDBSCAN - min_cluster_size = 50, min_samples = 10\n"
     ]
    },
    {
     "name": "stderr",
     "output_type": "stream",
     "text": [
      "C:\\Users\\cruzd\\AppData\\Local\\Packages\\PythonSoftwareFoundation.Python.3.12_qbz5n2kfra8p0\\LocalCache\\local-packages\\Python312\\site-packages\\sklearn\\utils\\deprecation.py:151: FutureWarning: 'force_all_finite' was renamed to 'ensure_all_finite' in 1.6 and will be removed in 1.8.\n",
      "  warnings.warn(\n",
      "C:\\Users\\cruzd\\AppData\\Local\\Packages\\PythonSoftwareFoundation.Python.3.12_qbz5n2kfra8p0\\LocalCache\\local-packages\\Python312\\site-packages\\sklearn\\utils\\deprecation.py:151: FutureWarning: 'force_all_finite' was renamed to 'ensure_all_finite' in 1.6 and will be removed in 1.8.\n",
      "  warnings.warn(\n"
     ]
    },
    {
     "name": "stdout",
     "output_type": "stream",
     "text": [
      "Clusters salvos em clusters/Tools/umap/n_components256\\run_hdbscan/Tools_clusters_run_hdbscan_minsize50_minsample10.csv\n",
      "HDBSCAN - min_cluster_size = 50, min_samples = 20\n"
     ]
    },
    {
     "name": "stderr",
     "output_type": "stream",
     "text": [
      "C:\\Users\\cruzd\\AppData\\Local\\Packages\\PythonSoftwareFoundation.Python.3.12_qbz5n2kfra8p0\\LocalCache\\local-packages\\Python312\\site-packages\\sklearn\\utils\\deprecation.py:151: FutureWarning: 'force_all_finite' was renamed to 'ensure_all_finite' in 1.6 and will be removed in 1.8.\n",
      "  warnings.warn(\n",
      "C:\\Users\\cruzd\\AppData\\Local\\Packages\\PythonSoftwareFoundation.Python.3.12_qbz5n2kfra8p0\\LocalCache\\local-packages\\Python312\\site-packages\\sklearn\\utils\\deprecation.py:151: FutureWarning: 'force_all_finite' was renamed to 'ensure_all_finite' in 1.6 and will be removed in 1.8.\n",
      "  warnings.warn(\n"
     ]
    },
    {
     "name": "stdout",
     "output_type": "stream",
     "text": [
      "Clusters salvos em clusters/Tools/umap/n_components256\\run_hdbscan/Tools_clusters_run_hdbscan_minsize50_minsample20.csv\n",
      "HDBSCAN - min_cluster_size = 50, min_samples = 30\n"
     ]
    },
    {
     "name": "stderr",
     "output_type": "stream",
     "text": [
      "C:\\Users\\cruzd\\AppData\\Local\\Packages\\PythonSoftwareFoundation.Python.3.12_qbz5n2kfra8p0\\LocalCache\\local-packages\\Python312\\site-packages\\sklearn\\utils\\deprecation.py:151: FutureWarning: 'force_all_finite' was renamed to 'ensure_all_finite' in 1.6 and will be removed in 1.8.\n",
      "  warnings.warn(\n",
      "C:\\Users\\cruzd\\AppData\\Local\\Packages\\PythonSoftwareFoundation.Python.3.12_qbz5n2kfra8p0\\LocalCache\\local-packages\\Python312\\site-packages\\sklearn\\utils\\deprecation.py:151: FutureWarning: 'force_all_finite' was renamed to 'ensure_all_finite' in 1.6 and will be removed in 1.8.\n",
      "  warnings.warn(\n"
     ]
    },
    {
     "name": "stdout",
     "output_type": "stream",
     "text": [
      "Clusters salvos em clusters/Tools/umap/n_components256\\run_hdbscan/Tools_clusters_run_hdbscan_minsize50_minsample30.csv\n",
      "HDBSCAN - min_cluster_size = 50, min_samples = 50\n"
     ]
    },
    {
     "name": "stderr",
     "output_type": "stream",
     "text": [
      "C:\\Users\\cruzd\\AppData\\Local\\Packages\\PythonSoftwareFoundation.Python.3.12_qbz5n2kfra8p0\\LocalCache\\local-packages\\Python312\\site-packages\\sklearn\\utils\\deprecation.py:151: FutureWarning: 'force_all_finite' was renamed to 'ensure_all_finite' in 1.6 and will be removed in 1.8.\n",
      "  warnings.warn(\n",
      "C:\\Users\\cruzd\\AppData\\Local\\Packages\\PythonSoftwareFoundation.Python.3.12_qbz5n2kfra8p0\\LocalCache\\local-packages\\Python312\\site-packages\\sklearn\\utils\\deprecation.py:151: FutureWarning: 'force_all_finite' was renamed to 'ensure_all_finite' in 1.6 and will be removed in 1.8.\n",
      "  warnings.warn(\n"
     ]
    },
    {
     "name": "stdout",
     "output_type": "stream",
     "text": [
      "Clusters salvos em clusters/Tools/umap/n_components256\\run_hdbscan/Tools_clusters_run_hdbscan_minsize50_minsample50.csv\n",
      "HDBSCAN - min_cluster_size = 50, min_samples = 100\n"
     ]
    },
    {
     "name": "stderr",
     "output_type": "stream",
     "text": [
      "C:\\Users\\cruzd\\AppData\\Local\\Packages\\PythonSoftwareFoundation.Python.3.12_qbz5n2kfra8p0\\LocalCache\\local-packages\\Python312\\site-packages\\sklearn\\utils\\deprecation.py:151: FutureWarning: 'force_all_finite' was renamed to 'ensure_all_finite' in 1.6 and will be removed in 1.8.\n",
      "  warnings.warn(\n",
      "C:\\Users\\cruzd\\AppData\\Local\\Packages\\PythonSoftwareFoundation.Python.3.12_qbz5n2kfra8p0\\LocalCache\\local-packages\\Python312\\site-packages\\sklearn\\utils\\deprecation.py:151: FutureWarning: 'force_all_finite' was renamed to 'ensure_all_finite' in 1.6 and will be removed in 1.8.\n",
      "  warnings.warn(\n"
     ]
    },
    {
     "name": "stdout",
     "output_type": "stream",
     "text": [
      "Clusters salvos em clusters/Tools/umap/n_components256\\run_hdbscan/Tools_clusters_run_hdbscan_minsize50_minsample100.csv\n",
      "HDBSCAN - min_cluster_size = 100, min_samples = 10\n"
     ]
    },
    {
     "name": "stderr",
     "output_type": "stream",
     "text": [
      "C:\\Users\\cruzd\\AppData\\Local\\Packages\\PythonSoftwareFoundation.Python.3.12_qbz5n2kfra8p0\\LocalCache\\local-packages\\Python312\\site-packages\\sklearn\\utils\\deprecation.py:151: FutureWarning: 'force_all_finite' was renamed to 'ensure_all_finite' in 1.6 and will be removed in 1.8.\n",
      "  warnings.warn(\n",
      "C:\\Users\\cruzd\\AppData\\Local\\Packages\\PythonSoftwareFoundation.Python.3.12_qbz5n2kfra8p0\\LocalCache\\local-packages\\Python312\\site-packages\\sklearn\\utils\\deprecation.py:151: FutureWarning: 'force_all_finite' was renamed to 'ensure_all_finite' in 1.6 and will be removed in 1.8.\n",
      "  warnings.warn(\n"
     ]
    },
    {
     "name": "stdout",
     "output_type": "stream",
     "text": [
      "Clusters salvos em clusters/Tools/umap/n_components256\\run_hdbscan/Tools_clusters_run_hdbscan_minsize100_minsample10.csv\n",
      "HDBSCAN - min_cluster_size = 100, min_samples = 20\n"
     ]
    },
    {
     "name": "stderr",
     "output_type": "stream",
     "text": [
      "C:\\Users\\cruzd\\AppData\\Local\\Packages\\PythonSoftwareFoundation.Python.3.12_qbz5n2kfra8p0\\LocalCache\\local-packages\\Python312\\site-packages\\sklearn\\utils\\deprecation.py:151: FutureWarning: 'force_all_finite' was renamed to 'ensure_all_finite' in 1.6 and will be removed in 1.8.\n",
      "  warnings.warn(\n",
      "C:\\Users\\cruzd\\AppData\\Local\\Packages\\PythonSoftwareFoundation.Python.3.12_qbz5n2kfra8p0\\LocalCache\\local-packages\\Python312\\site-packages\\sklearn\\utils\\deprecation.py:151: FutureWarning: 'force_all_finite' was renamed to 'ensure_all_finite' in 1.6 and will be removed in 1.8.\n",
      "  warnings.warn(\n"
     ]
    },
    {
     "name": "stdout",
     "output_type": "stream",
     "text": [
      "Clusters salvos em clusters/Tools/umap/n_components256\\run_hdbscan/Tools_clusters_run_hdbscan_minsize100_minsample20.csv\n",
      "HDBSCAN - min_cluster_size = 100, min_samples = 30\n"
     ]
    },
    {
     "name": "stderr",
     "output_type": "stream",
     "text": [
      "C:\\Users\\cruzd\\AppData\\Local\\Packages\\PythonSoftwareFoundation.Python.3.12_qbz5n2kfra8p0\\LocalCache\\local-packages\\Python312\\site-packages\\sklearn\\utils\\deprecation.py:151: FutureWarning: 'force_all_finite' was renamed to 'ensure_all_finite' in 1.6 and will be removed in 1.8.\n",
      "  warnings.warn(\n",
      "C:\\Users\\cruzd\\AppData\\Local\\Packages\\PythonSoftwareFoundation.Python.3.12_qbz5n2kfra8p0\\LocalCache\\local-packages\\Python312\\site-packages\\sklearn\\utils\\deprecation.py:151: FutureWarning: 'force_all_finite' was renamed to 'ensure_all_finite' in 1.6 and will be removed in 1.8.\n",
      "  warnings.warn(\n"
     ]
    },
    {
     "name": "stdout",
     "output_type": "stream",
     "text": [
      "Clusters salvos em clusters/Tools/umap/n_components256\\run_hdbscan/Tools_clusters_run_hdbscan_minsize100_minsample30.csv\n",
      "HDBSCAN - min_cluster_size = 100, min_samples = 50\n"
     ]
    },
    {
     "name": "stderr",
     "output_type": "stream",
     "text": [
      "C:\\Users\\cruzd\\AppData\\Local\\Packages\\PythonSoftwareFoundation.Python.3.12_qbz5n2kfra8p0\\LocalCache\\local-packages\\Python312\\site-packages\\sklearn\\utils\\deprecation.py:151: FutureWarning: 'force_all_finite' was renamed to 'ensure_all_finite' in 1.6 and will be removed in 1.8.\n",
      "  warnings.warn(\n",
      "C:\\Users\\cruzd\\AppData\\Local\\Packages\\PythonSoftwareFoundation.Python.3.12_qbz5n2kfra8p0\\LocalCache\\local-packages\\Python312\\site-packages\\sklearn\\utils\\deprecation.py:151: FutureWarning: 'force_all_finite' was renamed to 'ensure_all_finite' in 1.6 and will be removed in 1.8.\n",
      "  warnings.warn(\n"
     ]
    },
    {
     "name": "stdout",
     "output_type": "stream",
     "text": [
      "Clusters salvos em clusters/Tools/umap/n_components256\\run_hdbscan/Tools_clusters_run_hdbscan_minsize100_minsample50.csv\n",
      "HDBSCAN - min_cluster_size = 100, min_samples = 100\n"
     ]
    },
    {
     "name": "stderr",
     "output_type": "stream",
     "text": [
      "C:\\Users\\cruzd\\AppData\\Local\\Packages\\PythonSoftwareFoundation.Python.3.12_qbz5n2kfra8p0\\LocalCache\\local-packages\\Python312\\site-packages\\sklearn\\utils\\deprecation.py:151: FutureWarning: 'force_all_finite' was renamed to 'ensure_all_finite' in 1.6 and will be removed in 1.8.\n",
      "  warnings.warn(\n",
      "C:\\Users\\cruzd\\AppData\\Local\\Packages\\PythonSoftwareFoundation.Python.3.12_qbz5n2kfra8p0\\LocalCache\\local-packages\\Python312\\site-packages\\sklearn\\utils\\deprecation.py:151: FutureWarning: 'force_all_finite' was renamed to 'ensure_all_finite' in 1.6 and will be removed in 1.8.\n",
      "  warnings.warn(\n"
     ]
    },
    {
     "name": "stdout",
     "output_type": "stream",
     "text": [
      "Clusters salvos em clusters/Tools/umap/n_components256\\run_hdbscan/Tools_clusters_run_hdbscan_minsize100_minsample100.csv\n",
      "HDBSCAN - min_cluster_size = 200, min_samples = 10\n"
     ]
    },
    {
     "name": "stderr",
     "output_type": "stream",
     "text": [
      "C:\\Users\\cruzd\\AppData\\Local\\Packages\\PythonSoftwareFoundation.Python.3.12_qbz5n2kfra8p0\\LocalCache\\local-packages\\Python312\\site-packages\\sklearn\\utils\\deprecation.py:151: FutureWarning: 'force_all_finite' was renamed to 'ensure_all_finite' in 1.6 and will be removed in 1.8.\n",
      "  warnings.warn(\n",
      "C:\\Users\\cruzd\\AppData\\Local\\Packages\\PythonSoftwareFoundation.Python.3.12_qbz5n2kfra8p0\\LocalCache\\local-packages\\Python312\\site-packages\\sklearn\\utils\\deprecation.py:151: FutureWarning: 'force_all_finite' was renamed to 'ensure_all_finite' in 1.6 and will be removed in 1.8.\n",
      "  warnings.warn(\n"
     ]
    },
    {
     "name": "stdout",
     "output_type": "stream",
     "text": [
      "Clusters salvos em clusters/Tools/umap/n_components256\\run_hdbscan/Tools_clusters_run_hdbscan_minsize200_minsample10.csv\n",
      "HDBSCAN - min_cluster_size = 200, min_samples = 20\n"
     ]
    },
    {
     "name": "stderr",
     "output_type": "stream",
     "text": [
      "C:\\Users\\cruzd\\AppData\\Local\\Packages\\PythonSoftwareFoundation.Python.3.12_qbz5n2kfra8p0\\LocalCache\\local-packages\\Python312\\site-packages\\sklearn\\utils\\deprecation.py:151: FutureWarning: 'force_all_finite' was renamed to 'ensure_all_finite' in 1.6 and will be removed in 1.8.\n",
      "  warnings.warn(\n",
      "C:\\Users\\cruzd\\AppData\\Local\\Packages\\PythonSoftwareFoundation.Python.3.12_qbz5n2kfra8p0\\LocalCache\\local-packages\\Python312\\site-packages\\sklearn\\utils\\deprecation.py:151: FutureWarning: 'force_all_finite' was renamed to 'ensure_all_finite' in 1.6 and will be removed in 1.8.\n",
      "  warnings.warn(\n"
     ]
    },
    {
     "name": "stdout",
     "output_type": "stream",
     "text": [
      "Clusters salvos em clusters/Tools/umap/n_components256\\run_hdbscan/Tools_clusters_run_hdbscan_minsize200_minsample20.csv\n",
      "HDBSCAN - min_cluster_size = 200, min_samples = 30\n"
     ]
    },
    {
     "name": "stderr",
     "output_type": "stream",
     "text": [
      "C:\\Users\\cruzd\\AppData\\Local\\Packages\\PythonSoftwareFoundation.Python.3.12_qbz5n2kfra8p0\\LocalCache\\local-packages\\Python312\\site-packages\\sklearn\\utils\\deprecation.py:151: FutureWarning: 'force_all_finite' was renamed to 'ensure_all_finite' in 1.6 and will be removed in 1.8.\n",
      "  warnings.warn(\n",
      "C:\\Users\\cruzd\\AppData\\Local\\Packages\\PythonSoftwareFoundation.Python.3.12_qbz5n2kfra8p0\\LocalCache\\local-packages\\Python312\\site-packages\\sklearn\\utils\\deprecation.py:151: FutureWarning: 'force_all_finite' was renamed to 'ensure_all_finite' in 1.6 and will be removed in 1.8.\n",
      "  warnings.warn(\n"
     ]
    },
    {
     "name": "stdout",
     "output_type": "stream",
     "text": [
      "Clusters salvos em clusters/Tools/umap/n_components256\\run_hdbscan/Tools_clusters_run_hdbscan_minsize200_minsample30.csv\n",
      "HDBSCAN - min_cluster_size = 200, min_samples = 50\n"
     ]
    },
    {
     "name": "stderr",
     "output_type": "stream",
     "text": [
      "C:\\Users\\cruzd\\AppData\\Local\\Packages\\PythonSoftwareFoundation.Python.3.12_qbz5n2kfra8p0\\LocalCache\\local-packages\\Python312\\site-packages\\sklearn\\utils\\deprecation.py:151: FutureWarning: 'force_all_finite' was renamed to 'ensure_all_finite' in 1.6 and will be removed in 1.8.\n",
      "  warnings.warn(\n",
      "C:\\Users\\cruzd\\AppData\\Local\\Packages\\PythonSoftwareFoundation.Python.3.12_qbz5n2kfra8p0\\LocalCache\\local-packages\\Python312\\site-packages\\sklearn\\utils\\deprecation.py:151: FutureWarning: 'force_all_finite' was renamed to 'ensure_all_finite' in 1.6 and will be removed in 1.8.\n",
      "  warnings.warn(\n"
     ]
    },
    {
     "name": "stdout",
     "output_type": "stream",
     "text": [
      "Clusters salvos em clusters/Tools/umap/n_components256\\run_hdbscan/Tools_clusters_run_hdbscan_minsize200_minsample50.csv\n",
      "HDBSCAN - min_cluster_size = 200, min_samples = 100\n"
     ]
    },
    {
     "name": "stderr",
     "output_type": "stream",
     "text": [
      "C:\\Users\\cruzd\\AppData\\Local\\Packages\\PythonSoftwareFoundation.Python.3.12_qbz5n2kfra8p0\\LocalCache\\local-packages\\Python312\\site-packages\\sklearn\\utils\\deprecation.py:151: FutureWarning: 'force_all_finite' was renamed to 'ensure_all_finite' in 1.6 and will be removed in 1.8.\n",
      "  warnings.warn(\n",
      "C:\\Users\\cruzd\\AppData\\Local\\Packages\\PythonSoftwareFoundation.Python.3.12_qbz5n2kfra8p0\\LocalCache\\local-packages\\Python312\\site-packages\\sklearn\\utils\\deprecation.py:151: FutureWarning: 'force_all_finite' was renamed to 'ensure_all_finite' in 1.6 and will be removed in 1.8.\n",
      "  warnings.warn(\n"
     ]
    },
    {
     "name": "stdout",
     "output_type": "stream",
     "text": [
      "Clusters salvos em clusters/Tools/umap/n_components256\\run_hdbscan/Tools_clusters_run_hdbscan_minsize200_minsample100.csv\n",
      "HDBSCAN - min_cluster_size = 300, min_samples = 10\n"
     ]
    },
    {
     "name": "stderr",
     "output_type": "stream",
     "text": [
      "C:\\Users\\cruzd\\AppData\\Local\\Packages\\PythonSoftwareFoundation.Python.3.12_qbz5n2kfra8p0\\LocalCache\\local-packages\\Python312\\site-packages\\sklearn\\utils\\deprecation.py:151: FutureWarning: 'force_all_finite' was renamed to 'ensure_all_finite' in 1.6 and will be removed in 1.8.\n",
      "  warnings.warn(\n",
      "C:\\Users\\cruzd\\AppData\\Local\\Packages\\PythonSoftwareFoundation.Python.3.12_qbz5n2kfra8p0\\LocalCache\\local-packages\\Python312\\site-packages\\sklearn\\utils\\deprecation.py:151: FutureWarning: 'force_all_finite' was renamed to 'ensure_all_finite' in 1.6 and will be removed in 1.8.\n",
      "  warnings.warn(\n"
     ]
    },
    {
     "name": "stdout",
     "output_type": "stream",
     "text": [
      "Clusters salvos em clusters/Tools/umap/n_components256\\run_hdbscan/Tools_clusters_run_hdbscan_minsize300_minsample10.csv\n",
      "HDBSCAN - min_cluster_size = 300, min_samples = 20\n"
     ]
    },
    {
     "name": "stderr",
     "output_type": "stream",
     "text": [
      "C:\\Users\\cruzd\\AppData\\Local\\Packages\\PythonSoftwareFoundation.Python.3.12_qbz5n2kfra8p0\\LocalCache\\local-packages\\Python312\\site-packages\\sklearn\\utils\\deprecation.py:151: FutureWarning: 'force_all_finite' was renamed to 'ensure_all_finite' in 1.6 and will be removed in 1.8.\n",
      "  warnings.warn(\n",
      "C:\\Users\\cruzd\\AppData\\Local\\Packages\\PythonSoftwareFoundation.Python.3.12_qbz5n2kfra8p0\\LocalCache\\local-packages\\Python312\\site-packages\\sklearn\\utils\\deprecation.py:151: FutureWarning: 'force_all_finite' was renamed to 'ensure_all_finite' in 1.6 and will be removed in 1.8.\n",
      "  warnings.warn(\n"
     ]
    },
    {
     "name": "stdout",
     "output_type": "stream",
     "text": [
      "Clusters salvos em clusters/Tools/umap/n_components256\\run_hdbscan/Tools_clusters_run_hdbscan_minsize300_minsample20.csv\n",
      "HDBSCAN - min_cluster_size = 300, min_samples = 30\n"
     ]
    },
    {
     "name": "stderr",
     "output_type": "stream",
     "text": [
      "C:\\Users\\cruzd\\AppData\\Local\\Packages\\PythonSoftwareFoundation.Python.3.12_qbz5n2kfra8p0\\LocalCache\\local-packages\\Python312\\site-packages\\sklearn\\utils\\deprecation.py:151: FutureWarning: 'force_all_finite' was renamed to 'ensure_all_finite' in 1.6 and will be removed in 1.8.\n",
      "  warnings.warn(\n",
      "C:\\Users\\cruzd\\AppData\\Local\\Packages\\PythonSoftwareFoundation.Python.3.12_qbz5n2kfra8p0\\LocalCache\\local-packages\\Python312\\site-packages\\sklearn\\utils\\deprecation.py:151: FutureWarning: 'force_all_finite' was renamed to 'ensure_all_finite' in 1.6 and will be removed in 1.8.\n",
      "  warnings.warn(\n"
     ]
    },
    {
     "name": "stdout",
     "output_type": "stream",
     "text": [
      "Clusters salvos em clusters/Tools/umap/n_components256\\run_hdbscan/Tools_clusters_run_hdbscan_minsize300_minsample30.csv\n",
      "HDBSCAN - min_cluster_size = 300, min_samples = 50\n"
     ]
    },
    {
     "name": "stderr",
     "output_type": "stream",
     "text": [
      "C:\\Users\\cruzd\\AppData\\Local\\Packages\\PythonSoftwareFoundation.Python.3.12_qbz5n2kfra8p0\\LocalCache\\local-packages\\Python312\\site-packages\\sklearn\\utils\\deprecation.py:151: FutureWarning: 'force_all_finite' was renamed to 'ensure_all_finite' in 1.6 and will be removed in 1.8.\n",
      "  warnings.warn(\n",
      "C:\\Users\\cruzd\\AppData\\Local\\Packages\\PythonSoftwareFoundation.Python.3.12_qbz5n2kfra8p0\\LocalCache\\local-packages\\Python312\\site-packages\\sklearn\\utils\\deprecation.py:151: FutureWarning: 'force_all_finite' was renamed to 'ensure_all_finite' in 1.6 and will be removed in 1.8.\n",
      "  warnings.warn(\n"
     ]
    },
    {
     "name": "stdout",
     "output_type": "stream",
     "text": [
      "Clusters salvos em clusters/Tools/umap/n_components256\\run_hdbscan/Tools_clusters_run_hdbscan_minsize300_minsample50.csv\n",
      "HDBSCAN - min_cluster_size = 300, min_samples = 100\n"
     ]
    },
    {
     "name": "stderr",
     "output_type": "stream",
     "text": [
      "C:\\Users\\cruzd\\AppData\\Local\\Packages\\PythonSoftwareFoundation.Python.3.12_qbz5n2kfra8p0\\LocalCache\\local-packages\\Python312\\site-packages\\sklearn\\utils\\deprecation.py:151: FutureWarning: 'force_all_finite' was renamed to 'ensure_all_finite' in 1.6 and will be removed in 1.8.\n",
      "  warnings.warn(\n",
      "C:\\Users\\cruzd\\AppData\\Local\\Packages\\PythonSoftwareFoundation.Python.3.12_qbz5n2kfra8p0\\LocalCache\\local-packages\\Python312\\site-packages\\sklearn\\utils\\deprecation.py:151: FutureWarning: 'force_all_finite' was renamed to 'ensure_all_finite' in 1.6 and will be removed in 1.8.\n",
      "  warnings.warn(\n"
     ]
    },
    {
     "name": "stdout",
     "output_type": "stream",
     "text": [
      "Clusters salvos em clusters/Tools/umap/n_components256\\run_hdbscan/Tools_clusters_run_hdbscan_minsize300_minsample100.csv\n",
      "Clusterização concluída e resultados salvos\n",
      "\n",
      " Embeddings reduzidos com umap e n_components 512\n",
      "Aplicando UMAP com n_components = 512...\n"
     ]
    },
    {
     "name": "stderr",
     "output_type": "stream",
     "text": [
      "C:\\Users\\cruzd\\AppData\\Local\\Packages\\PythonSoftwareFoundation.Python.3.12_qbz5n2kfra8p0\\LocalCache\\local-packages\\Python312\\site-packages\\sklearn\\utils\\deprecation.py:151: FutureWarning: 'force_all_finite' was renamed to 'ensure_all_finite' in 1.6 and will be removed in 1.8.\n",
      "  warnings.warn(\n",
      "C:\\Users\\cruzd\\AppData\\Local\\Packages\\PythonSoftwareFoundation.Python.3.12_qbz5n2kfra8p0\\LocalCache\\local-packages\\Python312\\site-packages\\umap\\umap_.py:1952: UserWarning: n_jobs value 1 overridden to 1 by setting random_state. Use no seed for parallelism.\n",
      "  warn(\n"
     ]
    },
    {
     "name": "stdout",
     "output_type": "stream",
     "text": [
      "Dimensionalidade reduzida de 1000 para 512\n",
      "Executando run_hdbscan...\n",
      "HDBSCAN - min_cluster_size = 30, min_samples = 10\n"
     ]
    },
    {
     "name": "stderr",
     "output_type": "stream",
     "text": [
      "C:\\Users\\cruzd\\AppData\\Local\\Packages\\PythonSoftwareFoundation.Python.3.12_qbz5n2kfra8p0\\LocalCache\\local-packages\\Python312\\site-packages\\sklearn\\utils\\deprecation.py:151: FutureWarning: 'force_all_finite' was renamed to 'ensure_all_finite' in 1.6 and will be removed in 1.8.\n",
      "  warnings.warn(\n",
      "C:\\Users\\cruzd\\AppData\\Local\\Packages\\PythonSoftwareFoundation.Python.3.12_qbz5n2kfra8p0\\LocalCache\\local-packages\\Python312\\site-packages\\sklearn\\utils\\deprecation.py:151: FutureWarning: 'force_all_finite' was renamed to 'ensure_all_finite' in 1.6 and will be removed in 1.8.\n",
      "  warnings.warn(\n"
     ]
    },
    {
     "name": "stdout",
     "output_type": "stream",
     "text": [
      "Clusters salvos em clusters/Tools/umap/n_components512\\run_hdbscan/Tools_clusters_run_hdbscan_minsize30_minsample10.csv\n",
      "HDBSCAN - min_cluster_size = 30, min_samples = 20\n"
     ]
    },
    {
     "name": "stderr",
     "output_type": "stream",
     "text": [
      "C:\\Users\\cruzd\\AppData\\Local\\Packages\\PythonSoftwareFoundation.Python.3.12_qbz5n2kfra8p0\\LocalCache\\local-packages\\Python312\\site-packages\\sklearn\\utils\\deprecation.py:151: FutureWarning: 'force_all_finite' was renamed to 'ensure_all_finite' in 1.6 and will be removed in 1.8.\n",
      "  warnings.warn(\n",
      "C:\\Users\\cruzd\\AppData\\Local\\Packages\\PythonSoftwareFoundation.Python.3.12_qbz5n2kfra8p0\\LocalCache\\local-packages\\Python312\\site-packages\\sklearn\\utils\\deprecation.py:151: FutureWarning: 'force_all_finite' was renamed to 'ensure_all_finite' in 1.6 and will be removed in 1.8.\n",
      "  warnings.warn(\n"
     ]
    },
    {
     "name": "stdout",
     "output_type": "stream",
     "text": [
      "Clusters salvos em clusters/Tools/umap/n_components512\\run_hdbscan/Tools_clusters_run_hdbscan_minsize30_minsample20.csv\n",
      "HDBSCAN - min_cluster_size = 30, min_samples = 30\n"
     ]
    },
    {
     "name": "stderr",
     "output_type": "stream",
     "text": [
      "C:\\Users\\cruzd\\AppData\\Local\\Packages\\PythonSoftwareFoundation.Python.3.12_qbz5n2kfra8p0\\LocalCache\\local-packages\\Python312\\site-packages\\sklearn\\utils\\deprecation.py:151: FutureWarning: 'force_all_finite' was renamed to 'ensure_all_finite' in 1.6 and will be removed in 1.8.\n",
      "  warnings.warn(\n",
      "C:\\Users\\cruzd\\AppData\\Local\\Packages\\PythonSoftwareFoundation.Python.3.12_qbz5n2kfra8p0\\LocalCache\\local-packages\\Python312\\site-packages\\sklearn\\utils\\deprecation.py:151: FutureWarning: 'force_all_finite' was renamed to 'ensure_all_finite' in 1.6 and will be removed in 1.8.\n",
      "  warnings.warn(\n"
     ]
    },
    {
     "name": "stdout",
     "output_type": "stream",
     "text": [
      "Clusters salvos em clusters/Tools/umap/n_components512\\run_hdbscan/Tools_clusters_run_hdbscan_minsize30_minsample30.csv\n",
      "HDBSCAN - min_cluster_size = 30, min_samples = 50\n"
     ]
    },
    {
     "name": "stderr",
     "output_type": "stream",
     "text": [
      "C:\\Users\\cruzd\\AppData\\Local\\Packages\\PythonSoftwareFoundation.Python.3.12_qbz5n2kfra8p0\\LocalCache\\local-packages\\Python312\\site-packages\\sklearn\\utils\\deprecation.py:151: FutureWarning: 'force_all_finite' was renamed to 'ensure_all_finite' in 1.6 and will be removed in 1.8.\n",
      "  warnings.warn(\n",
      "C:\\Users\\cruzd\\AppData\\Local\\Packages\\PythonSoftwareFoundation.Python.3.12_qbz5n2kfra8p0\\LocalCache\\local-packages\\Python312\\site-packages\\sklearn\\utils\\deprecation.py:151: FutureWarning: 'force_all_finite' was renamed to 'ensure_all_finite' in 1.6 and will be removed in 1.8.\n",
      "  warnings.warn(\n"
     ]
    },
    {
     "name": "stdout",
     "output_type": "stream",
     "text": [
      "Clusters salvos em clusters/Tools/umap/n_components512\\run_hdbscan/Tools_clusters_run_hdbscan_minsize30_minsample50.csv\n",
      "HDBSCAN - min_cluster_size = 30, min_samples = 100\n"
     ]
    },
    {
     "name": "stderr",
     "output_type": "stream",
     "text": [
      "C:\\Users\\cruzd\\AppData\\Local\\Packages\\PythonSoftwareFoundation.Python.3.12_qbz5n2kfra8p0\\LocalCache\\local-packages\\Python312\\site-packages\\sklearn\\utils\\deprecation.py:151: FutureWarning: 'force_all_finite' was renamed to 'ensure_all_finite' in 1.6 and will be removed in 1.8.\n",
      "  warnings.warn(\n",
      "C:\\Users\\cruzd\\AppData\\Local\\Packages\\PythonSoftwareFoundation.Python.3.12_qbz5n2kfra8p0\\LocalCache\\local-packages\\Python312\\site-packages\\sklearn\\utils\\deprecation.py:151: FutureWarning: 'force_all_finite' was renamed to 'ensure_all_finite' in 1.6 and will be removed in 1.8.\n",
      "  warnings.warn(\n"
     ]
    },
    {
     "name": "stdout",
     "output_type": "stream",
     "text": [
      "Clusters salvos em clusters/Tools/umap/n_components512\\run_hdbscan/Tools_clusters_run_hdbscan_minsize30_minsample100.csv\n",
      "HDBSCAN - min_cluster_size = 50, min_samples = 10\n"
     ]
    },
    {
     "name": "stderr",
     "output_type": "stream",
     "text": [
      "C:\\Users\\cruzd\\AppData\\Local\\Packages\\PythonSoftwareFoundation.Python.3.12_qbz5n2kfra8p0\\LocalCache\\local-packages\\Python312\\site-packages\\sklearn\\utils\\deprecation.py:151: FutureWarning: 'force_all_finite' was renamed to 'ensure_all_finite' in 1.6 and will be removed in 1.8.\n",
      "  warnings.warn(\n",
      "C:\\Users\\cruzd\\AppData\\Local\\Packages\\PythonSoftwareFoundation.Python.3.12_qbz5n2kfra8p0\\LocalCache\\local-packages\\Python312\\site-packages\\sklearn\\utils\\deprecation.py:151: FutureWarning: 'force_all_finite' was renamed to 'ensure_all_finite' in 1.6 and will be removed in 1.8.\n",
      "  warnings.warn(\n"
     ]
    },
    {
     "name": "stdout",
     "output_type": "stream",
     "text": [
      "Clusters salvos em clusters/Tools/umap/n_components512\\run_hdbscan/Tools_clusters_run_hdbscan_minsize50_minsample10.csv\n",
      "HDBSCAN - min_cluster_size = 50, min_samples = 20\n"
     ]
    },
    {
     "name": "stderr",
     "output_type": "stream",
     "text": [
      "C:\\Users\\cruzd\\AppData\\Local\\Packages\\PythonSoftwareFoundation.Python.3.12_qbz5n2kfra8p0\\LocalCache\\local-packages\\Python312\\site-packages\\sklearn\\utils\\deprecation.py:151: FutureWarning: 'force_all_finite' was renamed to 'ensure_all_finite' in 1.6 and will be removed in 1.8.\n",
      "  warnings.warn(\n",
      "C:\\Users\\cruzd\\AppData\\Local\\Packages\\PythonSoftwareFoundation.Python.3.12_qbz5n2kfra8p0\\LocalCache\\local-packages\\Python312\\site-packages\\sklearn\\utils\\deprecation.py:151: FutureWarning: 'force_all_finite' was renamed to 'ensure_all_finite' in 1.6 and will be removed in 1.8.\n",
      "  warnings.warn(\n"
     ]
    },
    {
     "name": "stdout",
     "output_type": "stream",
     "text": [
      "Clusters salvos em clusters/Tools/umap/n_components512\\run_hdbscan/Tools_clusters_run_hdbscan_minsize50_minsample20.csv\n",
      "HDBSCAN - min_cluster_size = 50, min_samples = 30\n"
     ]
    },
    {
     "name": "stderr",
     "output_type": "stream",
     "text": [
      "C:\\Users\\cruzd\\AppData\\Local\\Packages\\PythonSoftwareFoundation.Python.3.12_qbz5n2kfra8p0\\LocalCache\\local-packages\\Python312\\site-packages\\sklearn\\utils\\deprecation.py:151: FutureWarning: 'force_all_finite' was renamed to 'ensure_all_finite' in 1.6 and will be removed in 1.8.\n",
      "  warnings.warn(\n",
      "C:\\Users\\cruzd\\AppData\\Local\\Packages\\PythonSoftwareFoundation.Python.3.12_qbz5n2kfra8p0\\LocalCache\\local-packages\\Python312\\site-packages\\sklearn\\utils\\deprecation.py:151: FutureWarning: 'force_all_finite' was renamed to 'ensure_all_finite' in 1.6 and will be removed in 1.8.\n",
      "  warnings.warn(\n"
     ]
    },
    {
     "name": "stdout",
     "output_type": "stream",
     "text": [
      "Clusters salvos em clusters/Tools/umap/n_components512\\run_hdbscan/Tools_clusters_run_hdbscan_minsize50_minsample30.csv\n",
      "HDBSCAN - min_cluster_size = 50, min_samples = 50\n"
     ]
    },
    {
     "name": "stderr",
     "output_type": "stream",
     "text": [
      "C:\\Users\\cruzd\\AppData\\Local\\Packages\\PythonSoftwareFoundation.Python.3.12_qbz5n2kfra8p0\\LocalCache\\local-packages\\Python312\\site-packages\\sklearn\\utils\\deprecation.py:151: FutureWarning: 'force_all_finite' was renamed to 'ensure_all_finite' in 1.6 and will be removed in 1.8.\n",
      "  warnings.warn(\n",
      "C:\\Users\\cruzd\\AppData\\Local\\Packages\\PythonSoftwareFoundation.Python.3.12_qbz5n2kfra8p0\\LocalCache\\local-packages\\Python312\\site-packages\\sklearn\\utils\\deprecation.py:151: FutureWarning: 'force_all_finite' was renamed to 'ensure_all_finite' in 1.6 and will be removed in 1.8.\n",
      "  warnings.warn(\n"
     ]
    },
    {
     "name": "stdout",
     "output_type": "stream",
     "text": [
      "Clusters salvos em clusters/Tools/umap/n_components512\\run_hdbscan/Tools_clusters_run_hdbscan_minsize50_minsample50.csv\n",
      "HDBSCAN - min_cluster_size = 50, min_samples = 100\n"
     ]
    },
    {
     "name": "stderr",
     "output_type": "stream",
     "text": [
      "C:\\Users\\cruzd\\AppData\\Local\\Packages\\PythonSoftwareFoundation.Python.3.12_qbz5n2kfra8p0\\LocalCache\\local-packages\\Python312\\site-packages\\sklearn\\utils\\deprecation.py:151: FutureWarning: 'force_all_finite' was renamed to 'ensure_all_finite' in 1.6 and will be removed in 1.8.\n",
      "  warnings.warn(\n",
      "C:\\Users\\cruzd\\AppData\\Local\\Packages\\PythonSoftwareFoundation.Python.3.12_qbz5n2kfra8p0\\LocalCache\\local-packages\\Python312\\site-packages\\sklearn\\utils\\deprecation.py:151: FutureWarning: 'force_all_finite' was renamed to 'ensure_all_finite' in 1.6 and will be removed in 1.8.\n",
      "  warnings.warn(\n"
     ]
    },
    {
     "name": "stdout",
     "output_type": "stream",
     "text": [
      "Clusters salvos em clusters/Tools/umap/n_components512\\run_hdbscan/Tools_clusters_run_hdbscan_minsize50_minsample100.csv\n",
      "HDBSCAN - min_cluster_size = 100, min_samples = 10\n"
     ]
    },
    {
     "name": "stderr",
     "output_type": "stream",
     "text": [
      "C:\\Users\\cruzd\\AppData\\Local\\Packages\\PythonSoftwareFoundation.Python.3.12_qbz5n2kfra8p0\\LocalCache\\local-packages\\Python312\\site-packages\\sklearn\\utils\\deprecation.py:151: FutureWarning: 'force_all_finite' was renamed to 'ensure_all_finite' in 1.6 and will be removed in 1.8.\n",
      "  warnings.warn(\n",
      "C:\\Users\\cruzd\\AppData\\Local\\Packages\\PythonSoftwareFoundation.Python.3.12_qbz5n2kfra8p0\\LocalCache\\local-packages\\Python312\\site-packages\\sklearn\\utils\\deprecation.py:151: FutureWarning: 'force_all_finite' was renamed to 'ensure_all_finite' in 1.6 and will be removed in 1.8.\n",
      "  warnings.warn(\n"
     ]
    },
    {
     "name": "stdout",
     "output_type": "stream",
     "text": [
      "Clusters salvos em clusters/Tools/umap/n_components512\\run_hdbscan/Tools_clusters_run_hdbscan_minsize100_minsample10.csv\n",
      "HDBSCAN - min_cluster_size = 100, min_samples = 20\n"
     ]
    },
    {
     "name": "stderr",
     "output_type": "stream",
     "text": [
      "C:\\Users\\cruzd\\AppData\\Local\\Packages\\PythonSoftwareFoundation.Python.3.12_qbz5n2kfra8p0\\LocalCache\\local-packages\\Python312\\site-packages\\sklearn\\utils\\deprecation.py:151: FutureWarning: 'force_all_finite' was renamed to 'ensure_all_finite' in 1.6 and will be removed in 1.8.\n",
      "  warnings.warn(\n",
      "C:\\Users\\cruzd\\AppData\\Local\\Packages\\PythonSoftwareFoundation.Python.3.12_qbz5n2kfra8p0\\LocalCache\\local-packages\\Python312\\site-packages\\sklearn\\utils\\deprecation.py:151: FutureWarning: 'force_all_finite' was renamed to 'ensure_all_finite' in 1.6 and will be removed in 1.8.\n",
      "  warnings.warn(\n"
     ]
    },
    {
     "name": "stdout",
     "output_type": "stream",
     "text": [
      "Clusters salvos em clusters/Tools/umap/n_components512\\run_hdbscan/Tools_clusters_run_hdbscan_minsize100_minsample20.csv\n",
      "HDBSCAN - min_cluster_size = 100, min_samples = 30\n"
     ]
    },
    {
     "name": "stderr",
     "output_type": "stream",
     "text": [
      "C:\\Users\\cruzd\\AppData\\Local\\Packages\\PythonSoftwareFoundation.Python.3.12_qbz5n2kfra8p0\\LocalCache\\local-packages\\Python312\\site-packages\\sklearn\\utils\\deprecation.py:151: FutureWarning: 'force_all_finite' was renamed to 'ensure_all_finite' in 1.6 and will be removed in 1.8.\n",
      "  warnings.warn(\n",
      "C:\\Users\\cruzd\\AppData\\Local\\Packages\\PythonSoftwareFoundation.Python.3.12_qbz5n2kfra8p0\\LocalCache\\local-packages\\Python312\\site-packages\\sklearn\\utils\\deprecation.py:151: FutureWarning: 'force_all_finite' was renamed to 'ensure_all_finite' in 1.6 and will be removed in 1.8.\n",
      "  warnings.warn(\n"
     ]
    },
    {
     "name": "stdout",
     "output_type": "stream",
     "text": [
      "Clusters salvos em clusters/Tools/umap/n_components512\\run_hdbscan/Tools_clusters_run_hdbscan_minsize100_minsample30.csv\n",
      "HDBSCAN - min_cluster_size = 100, min_samples = 50\n"
     ]
    },
    {
     "name": "stderr",
     "output_type": "stream",
     "text": [
      "C:\\Users\\cruzd\\AppData\\Local\\Packages\\PythonSoftwareFoundation.Python.3.12_qbz5n2kfra8p0\\LocalCache\\local-packages\\Python312\\site-packages\\sklearn\\utils\\deprecation.py:151: FutureWarning: 'force_all_finite' was renamed to 'ensure_all_finite' in 1.6 and will be removed in 1.8.\n",
      "  warnings.warn(\n",
      "C:\\Users\\cruzd\\AppData\\Local\\Packages\\PythonSoftwareFoundation.Python.3.12_qbz5n2kfra8p0\\LocalCache\\local-packages\\Python312\\site-packages\\sklearn\\utils\\deprecation.py:151: FutureWarning: 'force_all_finite' was renamed to 'ensure_all_finite' in 1.6 and will be removed in 1.8.\n",
      "  warnings.warn(\n"
     ]
    },
    {
     "name": "stdout",
     "output_type": "stream",
     "text": [
      "Clusters salvos em clusters/Tools/umap/n_components512\\run_hdbscan/Tools_clusters_run_hdbscan_minsize100_minsample50.csv\n",
      "HDBSCAN - min_cluster_size = 100, min_samples = 100\n"
     ]
    },
    {
     "name": "stderr",
     "output_type": "stream",
     "text": [
      "C:\\Users\\cruzd\\AppData\\Local\\Packages\\PythonSoftwareFoundation.Python.3.12_qbz5n2kfra8p0\\LocalCache\\local-packages\\Python312\\site-packages\\sklearn\\utils\\deprecation.py:151: FutureWarning: 'force_all_finite' was renamed to 'ensure_all_finite' in 1.6 and will be removed in 1.8.\n",
      "  warnings.warn(\n",
      "C:\\Users\\cruzd\\AppData\\Local\\Packages\\PythonSoftwareFoundation.Python.3.12_qbz5n2kfra8p0\\LocalCache\\local-packages\\Python312\\site-packages\\sklearn\\utils\\deprecation.py:151: FutureWarning: 'force_all_finite' was renamed to 'ensure_all_finite' in 1.6 and will be removed in 1.8.\n",
      "  warnings.warn(\n"
     ]
    },
    {
     "name": "stdout",
     "output_type": "stream",
     "text": [
      "Clusters salvos em clusters/Tools/umap/n_components512\\run_hdbscan/Tools_clusters_run_hdbscan_minsize100_minsample100.csv\n",
      "HDBSCAN - min_cluster_size = 200, min_samples = 10\n"
     ]
    },
    {
     "name": "stderr",
     "output_type": "stream",
     "text": [
      "C:\\Users\\cruzd\\AppData\\Local\\Packages\\PythonSoftwareFoundation.Python.3.12_qbz5n2kfra8p0\\LocalCache\\local-packages\\Python312\\site-packages\\sklearn\\utils\\deprecation.py:151: FutureWarning: 'force_all_finite' was renamed to 'ensure_all_finite' in 1.6 and will be removed in 1.8.\n",
      "  warnings.warn(\n",
      "C:\\Users\\cruzd\\AppData\\Local\\Packages\\PythonSoftwareFoundation.Python.3.12_qbz5n2kfra8p0\\LocalCache\\local-packages\\Python312\\site-packages\\sklearn\\utils\\deprecation.py:151: FutureWarning: 'force_all_finite' was renamed to 'ensure_all_finite' in 1.6 and will be removed in 1.8.\n",
      "  warnings.warn(\n"
     ]
    },
    {
     "name": "stdout",
     "output_type": "stream",
     "text": [
      "Clusters salvos em clusters/Tools/umap/n_components512\\run_hdbscan/Tools_clusters_run_hdbscan_minsize200_minsample10.csv\n",
      "HDBSCAN - min_cluster_size = 200, min_samples = 20\n"
     ]
    },
    {
     "name": "stderr",
     "output_type": "stream",
     "text": [
      "C:\\Users\\cruzd\\AppData\\Local\\Packages\\PythonSoftwareFoundation.Python.3.12_qbz5n2kfra8p0\\LocalCache\\local-packages\\Python312\\site-packages\\sklearn\\utils\\deprecation.py:151: FutureWarning: 'force_all_finite' was renamed to 'ensure_all_finite' in 1.6 and will be removed in 1.8.\n",
      "  warnings.warn(\n",
      "C:\\Users\\cruzd\\AppData\\Local\\Packages\\PythonSoftwareFoundation.Python.3.12_qbz5n2kfra8p0\\LocalCache\\local-packages\\Python312\\site-packages\\sklearn\\utils\\deprecation.py:151: FutureWarning: 'force_all_finite' was renamed to 'ensure_all_finite' in 1.6 and will be removed in 1.8.\n",
      "  warnings.warn(\n"
     ]
    },
    {
     "name": "stdout",
     "output_type": "stream",
     "text": [
      "Clusters salvos em clusters/Tools/umap/n_components512\\run_hdbscan/Tools_clusters_run_hdbscan_minsize200_minsample20.csv\n",
      "HDBSCAN - min_cluster_size = 200, min_samples = 30\n"
     ]
    },
    {
     "name": "stderr",
     "output_type": "stream",
     "text": [
      "C:\\Users\\cruzd\\AppData\\Local\\Packages\\PythonSoftwareFoundation.Python.3.12_qbz5n2kfra8p0\\LocalCache\\local-packages\\Python312\\site-packages\\sklearn\\utils\\deprecation.py:151: FutureWarning: 'force_all_finite' was renamed to 'ensure_all_finite' in 1.6 and will be removed in 1.8.\n",
      "  warnings.warn(\n",
      "C:\\Users\\cruzd\\AppData\\Local\\Packages\\PythonSoftwareFoundation.Python.3.12_qbz5n2kfra8p0\\LocalCache\\local-packages\\Python312\\site-packages\\sklearn\\utils\\deprecation.py:151: FutureWarning: 'force_all_finite' was renamed to 'ensure_all_finite' in 1.6 and will be removed in 1.8.\n",
      "  warnings.warn(\n"
     ]
    },
    {
     "name": "stdout",
     "output_type": "stream",
     "text": [
      "Clusters salvos em clusters/Tools/umap/n_components512\\run_hdbscan/Tools_clusters_run_hdbscan_minsize200_minsample30.csv\n",
      "HDBSCAN - min_cluster_size = 200, min_samples = 50\n"
     ]
    },
    {
     "name": "stderr",
     "output_type": "stream",
     "text": [
      "C:\\Users\\cruzd\\AppData\\Local\\Packages\\PythonSoftwareFoundation.Python.3.12_qbz5n2kfra8p0\\LocalCache\\local-packages\\Python312\\site-packages\\sklearn\\utils\\deprecation.py:151: FutureWarning: 'force_all_finite' was renamed to 'ensure_all_finite' in 1.6 and will be removed in 1.8.\n",
      "  warnings.warn(\n",
      "C:\\Users\\cruzd\\AppData\\Local\\Packages\\PythonSoftwareFoundation.Python.3.12_qbz5n2kfra8p0\\LocalCache\\local-packages\\Python312\\site-packages\\sklearn\\utils\\deprecation.py:151: FutureWarning: 'force_all_finite' was renamed to 'ensure_all_finite' in 1.6 and will be removed in 1.8.\n",
      "  warnings.warn(\n"
     ]
    },
    {
     "name": "stdout",
     "output_type": "stream",
     "text": [
      "Clusters salvos em clusters/Tools/umap/n_components512\\run_hdbscan/Tools_clusters_run_hdbscan_minsize200_minsample50.csv\n",
      "HDBSCAN - min_cluster_size = 200, min_samples = 100\n"
     ]
    },
    {
     "name": "stderr",
     "output_type": "stream",
     "text": [
      "C:\\Users\\cruzd\\AppData\\Local\\Packages\\PythonSoftwareFoundation.Python.3.12_qbz5n2kfra8p0\\LocalCache\\local-packages\\Python312\\site-packages\\sklearn\\utils\\deprecation.py:151: FutureWarning: 'force_all_finite' was renamed to 'ensure_all_finite' in 1.6 and will be removed in 1.8.\n",
      "  warnings.warn(\n",
      "C:\\Users\\cruzd\\AppData\\Local\\Packages\\PythonSoftwareFoundation.Python.3.12_qbz5n2kfra8p0\\LocalCache\\local-packages\\Python312\\site-packages\\sklearn\\utils\\deprecation.py:151: FutureWarning: 'force_all_finite' was renamed to 'ensure_all_finite' in 1.6 and will be removed in 1.8.\n",
      "  warnings.warn(\n"
     ]
    },
    {
     "name": "stdout",
     "output_type": "stream",
     "text": [
      "Clusters salvos em clusters/Tools/umap/n_components512\\run_hdbscan/Tools_clusters_run_hdbscan_minsize200_minsample100.csv\n",
      "HDBSCAN - min_cluster_size = 300, min_samples = 10\n"
     ]
    },
    {
     "name": "stderr",
     "output_type": "stream",
     "text": [
      "C:\\Users\\cruzd\\AppData\\Local\\Packages\\PythonSoftwareFoundation.Python.3.12_qbz5n2kfra8p0\\LocalCache\\local-packages\\Python312\\site-packages\\sklearn\\utils\\deprecation.py:151: FutureWarning: 'force_all_finite' was renamed to 'ensure_all_finite' in 1.6 and will be removed in 1.8.\n",
      "  warnings.warn(\n",
      "C:\\Users\\cruzd\\AppData\\Local\\Packages\\PythonSoftwareFoundation.Python.3.12_qbz5n2kfra8p0\\LocalCache\\local-packages\\Python312\\site-packages\\sklearn\\utils\\deprecation.py:151: FutureWarning: 'force_all_finite' was renamed to 'ensure_all_finite' in 1.6 and will be removed in 1.8.\n",
      "  warnings.warn(\n"
     ]
    },
    {
     "name": "stdout",
     "output_type": "stream",
     "text": [
      "Clusters salvos em clusters/Tools/umap/n_components512\\run_hdbscan/Tools_clusters_run_hdbscan_minsize300_minsample10.csv\n",
      "HDBSCAN - min_cluster_size = 300, min_samples = 20\n"
     ]
    },
    {
     "name": "stderr",
     "output_type": "stream",
     "text": [
      "C:\\Users\\cruzd\\AppData\\Local\\Packages\\PythonSoftwareFoundation.Python.3.12_qbz5n2kfra8p0\\LocalCache\\local-packages\\Python312\\site-packages\\sklearn\\utils\\deprecation.py:151: FutureWarning: 'force_all_finite' was renamed to 'ensure_all_finite' in 1.6 and will be removed in 1.8.\n",
      "  warnings.warn(\n",
      "C:\\Users\\cruzd\\AppData\\Local\\Packages\\PythonSoftwareFoundation.Python.3.12_qbz5n2kfra8p0\\LocalCache\\local-packages\\Python312\\site-packages\\sklearn\\utils\\deprecation.py:151: FutureWarning: 'force_all_finite' was renamed to 'ensure_all_finite' in 1.6 and will be removed in 1.8.\n",
      "  warnings.warn(\n"
     ]
    },
    {
     "name": "stdout",
     "output_type": "stream",
     "text": [
      "Clusters salvos em clusters/Tools/umap/n_components512\\run_hdbscan/Tools_clusters_run_hdbscan_minsize300_minsample20.csv\n",
      "HDBSCAN - min_cluster_size = 300, min_samples = 30\n"
     ]
    },
    {
     "name": "stderr",
     "output_type": "stream",
     "text": [
      "C:\\Users\\cruzd\\AppData\\Local\\Packages\\PythonSoftwareFoundation.Python.3.12_qbz5n2kfra8p0\\LocalCache\\local-packages\\Python312\\site-packages\\sklearn\\utils\\deprecation.py:151: FutureWarning: 'force_all_finite' was renamed to 'ensure_all_finite' in 1.6 and will be removed in 1.8.\n",
      "  warnings.warn(\n",
      "C:\\Users\\cruzd\\AppData\\Local\\Packages\\PythonSoftwareFoundation.Python.3.12_qbz5n2kfra8p0\\LocalCache\\local-packages\\Python312\\site-packages\\sklearn\\utils\\deprecation.py:151: FutureWarning: 'force_all_finite' was renamed to 'ensure_all_finite' in 1.6 and will be removed in 1.8.\n",
      "  warnings.warn(\n"
     ]
    },
    {
     "name": "stdout",
     "output_type": "stream",
     "text": [
      "Clusters salvos em clusters/Tools/umap/n_components512\\run_hdbscan/Tools_clusters_run_hdbscan_minsize300_minsample30.csv\n",
      "HDBSCAN - min_cluster_size = 300, min_samples = 50\n"
     ]
    },
    {
     "name": "stderr",
     "output_type": "stream",
     "text": [
      "C:\\Users\\cruzd\\AppData\\Local\\Packages\\PythonSoftwareFoundation.Python.3.12_qbz5n2kfra8p0\\LocalCache\\local-packages\\Python312\\site-packages\\sklearn\\utils\\deprecation.py:151: FutureWarning: 'force_all_finite' was renamed to 'ensure_all_finite' in 1.6 and will be removed in 1.8.\n",
      "  warnings.warn(\n",
      "C:\\Users\\cruzd\\AppData\\Local\\Packages\\PythonSoftwareFoundation.Python.3.12_qbz5n2kfra8p0\\LocalCache\\local-packages\\Python312\\site-packages\\sklearn\\utils\\deprecation.py:151: FutureWarning: 'force_all_finite' was renamed to 'ensure_all_finite' in 1.6 and will be removed in 1.8.\n",
      "  warnings.warn(\n"
     ]
    },
    {
     "name": "stdout",
     "output_type": "stream",
     "text": [
      "Clusters salvos em clusters/Tools/umap/n_components512\\run_hdbscan/Tools_clusters_run_hdbscan_minsize300_minsample50.csv\n",
      "HDBSCAN - min_cluster_size = 300, min_samples = 100\n"
     ]
    },
    {
     "name": "stderr",
     "output_type": "stream",
     "text": [
      "C:\\Users\\cruzd\\AppData\\Local\\Packages\\PythonSoftwareFoundation.Python.3.12_qbz5n2kfra8p0\\LocalCache\\local-packages\\Python312\\site-packages\\sklearn\\utils\\deprecation.py:151: FutureWarning: 'force_all_finite' was renamed to 'ensure_all_finite' in 1.6 and will be removed in 1.8.\n",
      "  warnings.warn(\n",
      "C:\\Users\\cruzd\\AppData\\Local\\Packages\\PythonSoftwareFoundation.Python.3.12_qbz5n2kfra8p0\\LocalCache\\local-packages\\Python312\\site-packages\\sklearn\\utils\\deprecation.py:151: FutureWarning: 'force_all_finite' was renamed to 'ensure_all_finite' in 1.6 and will be removed in 1.8.\n",
      "  warnings.warn(\n"
     ]
    },
    {
     "name": "stdout",
     "output_type": "stream",
     "text": [
      "Clusters salvos em clusters/Tools/umap/n_components512\\run_hdbscan/Tools_clusters_run_hdbscan_minsize300_minsample100.csv\n",
      "Clusterização concluída e resultados salvos\n",
      "\n",
      "Todos os testes para HDBSCAN concluídos\n"
     ]
    }
   ],
   "source": [
    "#teste hdbscan\n",
    "min_clusters_sizes = [30, 50, 100, 200, 300]\n",
    "min_samples_values = [10, 20, 30, 50, 100]   \n",
    " \n",
    "\n",
    "print('Testes para HDBSCAN Clustering')\n",
    "for method_red in methods_reducing:\n",
    "    for n in n_components:\n",
    "        print(f'\\n Embeddings reduzidos com {method_red} e n_components {n}')\n",
    "        reduced_embeddings = dimensionality_reduction(embeddings=embeddings, method=method_red, n_components=n)\n",
    "        if not isinstance(reduced_embeddings, torch.Tensor):\n",
    "            reduced_embeddings = torch.tensor(reduced_embeddings, dtype=torch.float32)\n",
    "        output_path = f'clusters/{dataset}/{method_red}/n_components{n}'\n",
    "        os.makedirs(output_path, exist_ok=True)               \n",
    "\n",
    "        run_hdbscan_combinations(\n",
    "            embeddings=reduced_embeddings,\n",
    "            min_cluster_sizes=min_clusters_sizes,\n",
    "            min_samples = min_samples_values,\n",
    "            output_path=output_path,\n",
    "            dataset_name=dataset\n",
    "        )\n",
    "\n",
    "print(\"\\nTodos os testes para HDBSCAN concluídos\")"
   ]
  }
 ],
 "metadata": {
  "kernelspec": {
   "display_name": "Python 3",
   "language": "python",
   "name": "python3"
  },
  "language_info": {
   "codemirror_mode": {
    "name": "ipython",
    "version": 3
   },
   "file_extension": ".py",
   "mimetype": "text/x-python",
   "name": "python",
   "nbconvert_exporter": "python",
   "pygments_lexer": "ipython3",
   "version": "3.12.10"
  }
 },
 "nbformat": 4,
 "nbformat_minor": 5
}
