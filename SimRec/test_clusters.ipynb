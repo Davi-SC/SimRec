{
 "cells": [
  {
   "cell_type": "markdown",
   "id": "5ebfce51",
   "metadata": {},
   "source": [
    "# Arquivo para teste de clusters"
   ]
  },
  {
   "cell_type": "code",
   "execution_count": 1,
   "id": "625b7bfc",
   "metadata": {},
   "outputs": [],
   "source": [
    "#imports\n",
    "import sys\n",
    "import os\n",
    "import pandas as pd\n",
    "import matplotlib.pyplot as plt\n",
    "import numpy as np\n",
    "sys.path.append('./clusters')\n",
    "\n",
    "from clusters.clusters import *\n",
    "from clusters.utils_clusters import *"
   ]
  },
  {
   "cell_type": "markdown",
   "id": "dce97c4a",
   "metadata": {},
   "source": [
    "# Testando os algoritmos de clustering sem redução de dimensionalidade"
   ]
  },
  {
   "cell_type": "code",
   "execution_count": null,
   "id": "883df020",
   "metadata": {},
   "outputs": [
    {
     "name": "stdout",
     "output_type": "stream",
     "text": [
      "Embeddings originais shape: torch.Size([3416, 1000])\n"
     ]
    }
   ],
   "source": [
    "# parametros de teste\n",
    "# dataset = 'Beauty'\n",
    "# dataset = 'ML-1M'\n",
    "# dataset = 'Steam'\n",
    "# dataset = 'HomeKitchen'\n",
    "# dataset = 'PetSupplies'\n",
    "dataset = 'Tools'\n",
    "\n",
    "\n",
    "embedding_path = f'../data_preprocessing/{dataset}/{dataset}-similarity-values-thenlper_gte-large.pt'\n",
    "# embedding_path = f'../data_preprocessing/{dataset}/Pet-similarity-values-thenlper_gte-large.pt'\n",
    "output_path = f'clusters/{dataset}/embeddings_completos_metricastrocadas'\n",
    "\n",
    "os.makedirs(output_path, exist_ok=True)\n",
    "\n",
    "embeddings = load_embeddings(embedding_path) \n",
    "print(f\"Embeddings originais shape: {embeddings.shape}\")"
   ]
  },
  {
   "cell_type": "code",
   "execution_count": 3,
   "id": "bba93803",
   "metadata": {},
   "outputs": [
    {
     "name": "stdout",
     "output_type": "stream",
     "text": [
      "Executando run_fasterpam\n",
      " - k = 2\n",
      "Clusters salvos em clusters/ML-1M/embeddings_completos_metricastrocadas\\run_fasterpam\\ML-1M_cluster_run_fasterpam_k2.csv\n",
      " - k = 6\n",
      "Clusters salvos em clusters/ML-1M/embeddings_completos_metricastrocadas\\run_fasterpam\\ML-1M_cluster_run_fasterpam_k6.csv\n",
      " - k = 10\n",
      "Clusters salvos em clusters/ML-1M/embeddings_completos_metricastrocadas\\run_fasterpam\\ML-1M_cluster_run_fasterpam_k10.csv\n",
      " - k = 20\n",
      "Clusters salvos em clusters/ML-1M/embeddings_completos_metricastrocadas\\run_fasterpam\\ML-1M_cluster_run_fasterpam_k20.csv\n",
      " - k = 30\n",
      "Clusters salvos em clusters/ML-1M/embeddings_completos_metricastrocadas\\run_fasterpam\\ML-1M_cluster_run_fasterpam_k30.csv\n",
      " - k = 50\n",
      "Clusters salvos em clusters/ML-1M/embeddings_completos_metricastrocadas\\run_fasterpam\\ML-1M_cluster_run_fasterpam_k50.csv\n",
      " - k = 70\n",
      "Clusters salvos em clusters/ML-1M/embeddings_completos_metricastrocadas\\run_fasterpam\\ML-1M_cluster_run_fasterpam_k70.csv\n",
      " - k = 100\n",
      "Clusters salvos em clusters/ML-1M/embeddings_completos_metricastrocadas\\run_fasterpam\\ML-1M_cluster_run_fasterpam_k100.csv\n",
      " - k = 150\n",
      "Clusters salvos em clusters/ML-1M/embeddings_completos_metricastrocadas\\run_fasterpam\\ML-1M_cluster_run_fasterpam_k150.csv\n",
      " - k = 200\n",
      "Clusters salvos em clusters/ML-1M/embeddings_completos_metricastrocadas\\run_fasterpam\\ML-1M_cluster_run_fasterpam_k200.csv\n",
      " - k = 300\n",
      "Clusters salvos em clusters/ML-1M/embeddings_completos_metricastrocadas\\run_fasterpam\\ML-1M_cluster_run_fasterpam_k300.csv\n",
      " - k = 400\n",
      "Clusters salvos em clusters/ML-1M/embeddings_completos_metricastrocadas\\run_fasterpam\\ML-1M_cluster_run_fasterpam_k400.csv\n",
      " - k = 500\n",
      "Clusters salvos em clusters/ML-1M/embeddings_completos_metricastrocadas\\run_fasterpam\\ML-1M_cluster_run_fasterpam_k500.csv\n",
      " - k = 750\n",
      "Clusters salvos em clusters/ML-1M/embeddings_completos_metricastrocadas\\run_fasterpam\\ML-1M_cluster_run_fasterpam_k750.csv\n",
      " - k = 1000\n",
      "Clusters salvos em clusters/ML-1M/embeddings_completos_metricastrocadas\\run_fasterpam\\ML-1M_cluster_run_fasterpam_k1000.csv\n",
      "Executando run_fastermsc\n",
      " - k = 2\n",
      "Clusters salvos em clusters/ML-1M/embeddings_completos_metricastrocadas\\run_fastermsc\\ML-1M_cluster_run_fastermsc_k2.csv\n",
      " - k = 6\n",
      "Clusters salvos em clusters/ML-1M/embeddings_completos_metricastrocadas\\run_fastermsc\\ML-1M_cluster_run_fastermsc_k6.csv\n",
      " - k = 10\n",
      "Clusters salvos em clusters/ML-1M/embeddings_completos_metricastrocadas\\run_fastermsc\\ML-1M_cluster_run_fastermsc_k10.csv\n",
      " - k = 20\n",
      "Clusters salvos em clusters/ML-1M/embeddings_completos_metricastrocadas\\run_fastermsc\\ML-1M_cluster_run_fastermsc_k20.csv\n",
      " - k = 30\n",
      "Clusters salvos em clusters/ML-1M/embeddings_completos_metricastrocadas\\run_fastermsc\\ML-1M_cluster_run_fastermsc_k30.csv\n",
      " - k = 50\n",
      "Clusters salvos em clusters/ML-1M/embeddings_completos_metricastrocadas\\run_fastermsc\\ML-1M_cluster_run_fastermsc_k50.csv\n",
      " - k = 70\n",
      "Clusters salvos em clusters/ML-1M/embeddings_completos_metricastrocadas\\run_fastermsc\\ML-1M_cluster_run_fastermsc_k70.csv\n",
      " - k = 100\n",
      "Clusters salvos em clusters/ML-1M/embeddings_completos_metricastrocadas\\run_fastermsc\\ML-1M_cluster_run_fastermsc_k100.csv\n",
      " - k = 150\n",
      "Clusters salvos em clusters/ML-1M/embeddings_completos_metricastrocadas\\run_fastermsc\\ML-1M_cluster_run_fastermsc_k150.csv\n",
      " - k = 200\n",
      "Clusters salvos em clusters/ML-1M/embeddings_completos_metricastrocadas\\run_fastermsc\\ML-1M_cluster_run_fastermsc_k200.csv\n",
      " - k = 300\n",
      "Clusters salvos em clusters/ML-1M/embeddings_completos_metricastrocadas\\run_fastermsc\\ML-1M_cluster_run_fastermsc_k300.csv\n",
      " - k = 400\n",
      "Clusters salvos em clusters/ML-1M/embeddings_completos_metricastrocadas\\run_fastermsc\\ML-1M_cluster_run_fastermsc_k400.csv\n",
      " - k = 500\n",
      "Clusters salvos em clusters/ML-1M/embeddings_completos_metricastrocadas\\run_fastermsc\\ML-1M_cluster_run_fastermsc_k500.csv\n",
      " - k = 750\n",
      "Clusters salvos em clusters/ML-1M/embeddings_completos_metricastrocadas\\run_fastermsc\\ML-1M_cluster_run_fastermsc_k750.csv\n",
      " - k = 1000\n",
      "Clusters salvos em clusters/ML-1M/embeddings_completos_metricastrocadas\\run_fastermsc\\ML-1M_cluster_run_fastermsc_k1000.csv\n",
      "Executando run_dynmsc\n",
      " - k = 2\n",
      "Clusters salvos em clusters/ML-1M/embeddings_completos_metricastrocadas\\run_dynmsc\\ML-1M_cluster_run_dynmsc_k2.csv\n",
      " - k = 6\n",
      "Clusters salvos em clusters/ML-1M/embeddings_completos_metricastrocadas\\run_dynmsc\\ML-1M_cluster_run_dynmsc_k6.csv\n",
      " - k = 10\n",
      "Clusters salvos em clusters/ML-1M/embeddings_completos_metricastrocadas\\run_dynmsc\\ML-1M_cluster_run_dynmsc_k10.csv\n",
      " - k = 20\n",
      "Clusters salvos em clusters/ML-1M/embeddings_completos_metricastrocadas\\run_dynmsc\\ML-1M_cluster_run_dynmsc_k20.csv\n",
      " - k = 30\n",
      "Clusters salvos em clusters/ML-1M/embeddings_completos_metricastrocadas\\run_dynmsc\\ML-1M_cluster_run_dynmsc_k30.csv\n",
      " - k = 50\n",
      "Clusters salvos em clusters/ML-1M/embeddings_completos_metricastrocadas\\run_dynmsc\\ML-1M_cluster_run_dynmsc_k50.csv\n",
      " - k = 70\n",
      "Clusters salvos em clusters/ML-1M/embeddings_completos_metricastrocadas\\run_dynmsc\\ML-1M_cluster_run_dynmsc_k70.csv\n",
      " - k = 100\n",
      "Clusters salvos em clusters/ML-1M/embeddings_completos_metricastrocadas\\run_dynmsc\\ML-1M_cluster_run_dynmsc_k100.csv\n",
      " - k = 150\n",
      "Clusters salvos em clusters/ML-1M/embeddings_completos_metricastrocadas\\run_dynmsc\\ML-1M_cluster_run_dynmsc_k150.csv\n",
      " - k = 200\n",
      "Clusters salvos em clusters/ML-1M/embeddings_completos_metricastrocadas\\run_dynmsc\\ML-1M_cluster_run_dynmsc_k200.csv\n",
      " - k = 300\n",
      "Clusters salvos em clusters/ML-1M/embeddings_completos_metricastrocadas\\run_dynmsc\\ML-1M_cluster_run_dynmsc_k300.csv\n",
      " - k = 400\n",
      "Clusters salvos em clusters/ML-1M/embeddings_completos_metricastrocadas\\run_dynmsc\\ML-1M_cluster_run_dynmsc_k400.csv\n",
      " - k = 500\n",
      "Clusters salvos em clusters/ML-1M/embeddings_completos_metricastrocadas\\run_dynmsc\\ML-1M_cluster_run_dynmsc_k500.csv\n",
      " - k = 750\n",
      "Clusters salvos em clusters/ML-1M/embeddings_completos_metricastrocadas\\run_dynmsc\\ML-1M_cluster_run_dynmsc_k750.csv\n",
      " - k = 1000\n",
      "Clusters salvos em clusters/ML-1M/embeddings_completos_metricastrocadas\\run_dynmsc\\ML-1M_cluster_run_dynmsc_k1000.csv\n",
      "Clusterização concluída e resultados salvos\n"
     ]
    }
   ],
   "source": [
    "#teste dos clusters com algoritmos que usam k\n",
    "\n",
    "# methods = [run_kmeans, run_agnes, run_fasterpam, run_fastermsc, run_dynmsc]\n",
    "methods = [run_fasterpam, run_fastermsc, run_dynmsc]\n",
    "# k_values = [6, 20, 50, 100, 200, 400, 750, 1000]\n",
    "k_values = [2,6,10,20,30,50,70,100,150,200,300,400,500,750,1000]\n",
    "\n",
    "\n",
    "run_methods_with_k(\n",
    "    embeddings=embeddings, \n",
    "    methods = methods, \n",
    "    k_values = k_values, \n",
    "    output_path = output_path, \n",
    "    dataset_name=dataset\n",
    ")"
   ]
  },
  {
   "cell_type": "code",
   "execution_count": null,
   "id": "2d9602d2",
   "metadata": {},
   "outputs": [],
   "source": [
    "# teste spectral clustering\n",
    "k_values = [10, 50, 100, 300,500]\n",
    "n_values = [20, 50, 75, 100, 150]                              \n",
    "\n",
    "run_spectral_combinations(\n",
    "    embeddings=embeddings,\n",
    "    k_values=k_values,\n",
    "    neighbor_values=n_values,\n",
    "    output_path=output_path,\n",
    "    dataset_name=dataset\n",
    ")\n"
   ]
  },
  {
   "cell_type": "code",
   "execution_count": 4,
   "id": "1c402f6e",
   "metadata": {},
   "outputs": [
    {
     "name": "stdout",
     "output_type": "stream",
     "text": [
      "Executando run_dbscan...\n",
      "DBSCAN - eps = 0.05, min_samples = 10\n",
      "DBSCAN (eps=0.05, min_samples=10) gerou 1 cluster ou só ruído, ignorado.\n",
      "DBSCAN - eps = 0.05, min_samples = 20\n",
      "DBSCAN (eps=0.05, min_samples=20) gerou 1 cluster ou só ruído, ignorado.\n",
      "DBSCAN - eps = 0.05, min_samples = 30\n",
      "DBSCAN (eps=0.05, min_samples=30) gerou 1 cluster ou só ruído, ignorado.\n",
      "DBSCAN - eps = 0.05, min_samples = 50\n",
      "DBSCAN (eps=0.05, min_samples=50) gerou 1 cluster ou só ruído, ignorado.\n",
      "DBSCAN - eps = 0.05, min_samples = 100\n",
      "DBSCAN (eps=0.05, min_samples=100) gerou 1 cluster ou só ruído, ignorado.\n",
      "DBSCAN - eps = 0.05, min_samples = 200\n",
      "DBSCAN (eps=0.05, min_samples=200) gerou 1 cluster ou só ruído, ignorado.\n",
      "DBSCAN - eps = 0.1, min_samples = 10\n",
      "DBSCAN (eps=0.1, min_samples=10) gerou 1 cluster ou só ruído, ignorado.\n",
      "DBSCAN - eps = 0.1, min_samples = 20\n",
      "DBSCAN (eps=0.1, min_samples=20) gerou 1 cluster ou só ruído, ignorado.\n",
      "DBSCAN - eps = 0.1, min_samples = 30\n",
      "DBSCAN (eps=0.1, min_samples=30) gerou 1 cluster ou só ruído, ignorado.\n",
      "DBSCAN - eps = 0.1, min_samples = 50\n",
      "DBSCAN (eps=0.1, min_samples=50) gerou 1 cluster ou só ruído, ignorado.\n",
      "DBSCAN - eps = 0.1, min_samples = 100\n",
      "DBSCAN (eps=0.1, min_samples=100) gerou 1 cluster ou só ruído, ignorado.\n",
      "DBSCAN - eps = 0.1, min_samples = 200\n",
      "DBSCAN (eps=0.1, min_samples=200) gerou 1 cluster ou só ruído, ignorado.\n",
      "DBSCAN - eps = 0.2, min_samples = 10\n",
      "DBSCAN (eps=0.2, min_samples=10) gerou 1 cluster ou só ruído, ignorado.\n",
      "DBSCAN - eps = 0.2, min_samples = 20\n",
      "DBSCAN (eps=0.2, min_samples=20) gerou 1 cluster ou só ruído, ignorado.\n",
      "DBSCAN - eps = 0.2, min_samples = 30\n",
      "DBSCAN (eps=0.2, min_samples=30) gerou 1 cluster ou só ruído, ignorado.\n",
      "DBSCAN - eps = 0.2, min_samples = 50\n",
      "DBSCAN (eps=0.2, min_samples=50) gerou 1 cluster ou só ruído, ignorado.\n",
      "DBSCAN - eps = 0.2, min_samples = 100\n",
      "DBSCAN (eps=0.2, min_samples=100) gerou 1 cluster ou só ruído, ignorado.\n",
      "DBSCAN - eps = 0.2, min_samples = 200\n",
      "DBSCAN (eps=0.2, min_samples=200) gerou 1 cluster ou só ruído, ignorado.\n",
      "DBSCAN - eps = 0.5, min_samples = 10\n",
      "DBSCAN (eps=0.5, min_samples=10) gerou 1 cluster ou só ruído, ignorado.\n",
      "DBSCAN - eps = 0.5, min_samples = 20\n",
      "DBSCAN (eps=0.5, min_samples=20) gerou 1 cluster ou só ruído, ignorado.\n",
      "DBSCAN - eps = 0.5, min_samples = 30\n",
      "DBSCAN (eps=0.5, min_samples=30) gerou 1 cluster ou só ruído, ignorado.\n",
      "DBSCAN - eps = 0.5, min_samples = 50\n",
      "DBSCAN (eps=0.5, min_samples=50) gerou 1 cluster ou só ruído, ignorado.\n",
      "DBSCAN - eps = 0.5, min_samples = 100\n",
      "DBSCAN (eps=0.5, min_samples=100) gerou 1 cluster ou só ruído, ignorado.\n",
      "DBSCAN - eps = 0.5, min_samples = 200\n",
      "DBSCAN (eps=0.5, min_samples=200) gerou 1 cluster ou só ruído, ignorado.\n",
      "DBSCAN - eps = 1.0, min_samples = 10\n",
      "DBSCAN (eps=1.0, min_samples=10) gerou 1 cluster ou só ruído, ignorado.\n",
      "DBSCAN - eps = 1.0, min_samples = 20\n",
      "DBSCAN (eps=1.0, min_samples=20) gerou 1 cluster ou só ruído, ignorado.\n",
      "DBSCAN - eps = 1.0, min_samples = 30\n",
      "DBSCAN (eps=1.0, min_samples=30) gerou 1 cluster ou só ruído, ignorado.\n",
      "DBSCAN - eps = 1.0, min_samples = 50\n",
      "DBSCAN (eps=1.0, min_samples=50) gerou 1 cluster ou só ruído, ignorado.\n",
      "DBSCAN - eps = 1.0, min_samples = 100\n",
      "DBSCAN (eps=1.0, min_samples=100) gerou 1 cluster ou só ruído, ignorado.\n",
      "DBSCAN - eps = 1.0, min_samples = 200\n",
      "DBSCAN (eps=1.0, min_samples=200) gerou 1 cluster ou só ruído, ignorado.\n",
      "Clusterização concluída e resultados salvos\n"
     ]
    }
   ],
   "source": [
    "#teste dbscan\n",
    "eps_values = [0.05, 0.1, 0.2, 0.5, 1.0]          \n",
    "min_samples_values = [10, 20, 30, 50, 100, 200]\n",
    "\n",
    "run_dbscan_combinations(\n",
    "    embeddings=embeddings,\n",
    "    eps_values=eps_values,\n",
    "    min_samples_values=min_samples_values,\n",
    "    output_path=output_path,\n",
    "    dataset_name=dataset\n",
    ")"
   ]
  },
  {
   "cell_type": "code",
   "execution_count": 5,
   "id": "01dcb5b2",
   "metadata": {},
   "outputs": [
    {
     "name": "stdout",
     "output_type": "stream",
     "text": [
      "Executando run_hdbscan...\n",
      "HDBSCAN - min_cluster_size = 30, min_samples = 20\n",
      "Erro no HDBSCAN (min_cluster_size=30 e min_samples =20): Unrecognized metric 'cosine'\n",
      "HDBSCAN - min_cluster_size = 30, min_samples = 100\n",
      "Erro no HDBSCAN (min_cluster_size=30 e min_samples =100): Unrecognized metric 'cosine'\n",
      "HDBSCAN - min_cluster_size = 200, min_samples = 20\n",
      "Erro no HDBSCAN (min_cluster_size=200 e min_samples =20): Unrecognized metric 'cosine'\n",
      "HDBSCAN - min_cluster_size = 200, min_samples = 100\n",
      "Erro no HDBSCAN (min_cluster_size=200 e min_samples =100): Unrecognized metric 'cosine'\n",
      "Clusterização concluída e resultados salvos\n"
     ]
    },
    {
     "name": "stderr",
     "output_type": "stream",
     "text": [
      "C:\\Users\\cruzd\\AppData\\Local\\Packages\\PythonSoftwareFoundation.Python.3.12_qbz5n2kfra8p0\\LocalCache\\local-packages\\Python312\\site-packages\\sklearn\\utils\\deprecation.py:151: FutureWarning: 'force_all_finite' was renamed to 'ensure_all_finite' in 1.6 and will be removed in 1.8.\n",
      "  warnings.warn(\n",
      "C:\\Users\\cruzd\\AppData\\Local\\Packages\\PythonSoftwareFoundation.Python.3.12_qbz5n2kfra8p0\\LocalCache\\local-packages\\Python312\\site-packages\\sklearn\\utils\\deprecation.py:151: FutureWarning: 'force_all_finite' was renamed to 'ensure_all_finite' in 1.6 and will be removed in 1.8.\n",
      "  warnings.warn(\n",
      "C:\\Users\\cruzd\\AppData\\Local\\Packages\\PythonSoftwareFoundation.Python.3.12_qbz5n2kfra8p0\\LocalCache\\local-packages\\Python312\\site-packages\\sklearn\\utils\\deprecation.py:151: FutureWarning: 'force_all_finite' was renamed to 'ensure_all_finite' in 1.6 and will be removed in 1.8.\n",
      "  warnings.warn(\n",
      "C:\\Users\\cruzd\\AppData\\Local\\Packages\\PythonSoftwareFoundation.Python.3.12_qbz5n2kfra8p0\\LocalCache\\local-packages\\Python312\\site-packages\\sklearn\\utils\\deprecation.py:151: FutureWarning: 'force_all_finite' was renamed to 'ensure_all_finite' in 1.6 and will be removed in 1.8.\n",
      "  warnings.warn(\n",
      "C:\\Users\\cruzd\\AppData\\Local\\Packages\\PythonSoftwareFoundation.Python.3.12_qbz5n2kfra8p0\\LocalCache\\local-packages\\Python312\\site-packages\\sklearn\\utils\\deprecation.py:151: FutureWarning: 'force_all_finite' was renamed to 'ensure_all_finite' in 1.6 and will be removed in 1.8.\n",
      "  warnings.warn(\n",
      "C:\\Users\\cruzd\\AppData\\Local\\Packages\\PythonSoftwareFoundation.Python.3.12_qbz5n2kfra8p0\\LocalCache\\local-packages\\Python312\\site-packages\\sklearn\\utils\\deprecation.py:151: FutureWarning: 'force_all_finite' was renamed to 'ensure_all_finite' in 1.6 and will be removed in 1.8.\n",
      "  warnings.warn(\n",
      "C:\\Users\\cruzd\\AppData\\Local\\Packages\\PythonSoftwareFoundation.Python.3.12_qbz5n2kfra8p0\\LocalCache\\local-packages\\Python312\\site-packages\\sklearn\\utils\\deprecation.py:151: FutureWarning: 'force_all_finite' was renamed to 'ensure_all_finite' in 1.6 and will be removed in 1.8.\n",
      "  warnings.warn(\n",
      "C:\\Users\\cruzd\\AppData\\Local\\Packages\\PythonSoftwareFoundation.Python.3.12_qbz5n2kfra8p0\\LocalCache\\local-packages\\Python312\\site-packages\\sklearn\\utils\\deprecation.py:151: FutureWarning: 'force_all_finite' was renamed to 'ensure_all_finite' in 1.6 and will be removed in 1.8.\n",
      "  warnings.warn(\n"
     ]
    }
   ],
   "source": [
    "#teste hdbscan\n",
    "# min_clusters_sizes = [20, 30, 100, 200]\n",
    "# min_samples_values = [10, 20, 30, 50, 100] \n",
    "min_clusters_sizes = [30, 200] \n",
    "min_samples_values = [20, 100] \n",
    "run_hdbscan_combinations(\n",
    "    embeddings=embeddings,\n",
    "    min_cluster_sizes=min_clusters_sizes,\n",
    "    min_samples = min_samples_values,\n",
    "    output_path=output_path,\n",
    "    dataset_name=dataset\n",
    ")"
   ]
  },
  {
   "cell_type": "markdown",
   "id": "c4c0ea66",
   "metadata": {},
   "source": [
    "# Testando com redução de dimensionalidade"
   ]
  },
  {
   "cell_type": "code",
   "execution_count": 2,
   "id": "c0863139",
   "metadata": {},
   "outputs": [
    {
     "name": "stdout",
     "output_type": "stream",
     "text": [
      "Embeddings originais shape: torch.Size([93358, 1000])\n"
     ]
    }
   ],
   "source": [
    "# parametros de teste\n",
    "# dataset = 'Beauty'\n",
    "# dataset = 'ML-1M'\n",
    "# dataset = 'Steam'\n",
    "dataset = 'HomeKitchen'\n",
    "# dataset = 'PetSupplies'\n",
    "# dataset = 'Tools'\n",
    "\n",
    "\n",
    "embedding_path = f'../data_preprocessing/{dataset}/{dataset}-similarity-values-thenlper_gte-large.pt'\n",
    "# embedding_path = f'../data_preprocessing/{dataset}/Pet-similarity-values-thenlper_gte-large.pt'\n",
    "embeddings = load_embeddings(embedding_path)\n",
    "print(f\"Embeddings originais shape: {embeddings.shape}\")\n",
    "\n",
    "# methods_reducing = ['pca','umap']\n",
    "methods_reducing = ['umap']\n",
    "# n_components = [8,32,64,128,256,512]\n",
    "n_components = [32]\n"
   ]
  },
  {
   "cell_type": "code",
   "execution_count": null,
   "id": "c8ac93d4",
   "metadata": {},
   "outputs": [
    {
     "name": "stdout",
     "output_type": "stream",
     "text": [
      "\n",
      " Embeddings reduzidos com umap e n_components 32\n",
      "Aplicando UMAP com n_components = 32...\n"
     ]
    },
    {
     "name": "stderr",
     "output_type": "stream",
     "text": [
      "C:\\Users\\cruzd\\AppData\\Local\\Packages\\PythonSoftwareFoundation.Python.3.12_qbz5n2kfra8p0\\LocalCache\\local-packages\\Python312\\site-packages\\sklearn\\utils\\deprecation.py:151: FutureWarning: 'force_all_finite' was renamed to 'ensure_all_finite' in 1.6 and will be removed in 1.8.\n",
      "  warnings.warn(\n",
      "C:\\Users\\cruzd\\AppData\\Local\\Packages\\PythonSoftwareFoundation.Python.3.12_qbz5n2kfra8p0\\LocalCache\\local-packages\\Python312\\site-packages\\umap\\umap_.py:1952: UserWarning: n_jobs value 1 overridden to 1 by setting random_state. Use no seed for parallelism.\n",
      "  warn(\n"
     ]
    },
    {
     "name": "stdout",
     "output_type": "stream",
     "text": [
      "Dimensionalidade reduzida de 1000 para 32\n",
      "Metodos com numero de clusters (k) como parametro ...\n",
      "Executando run_agnes\n",
      " - k = 10\n"
     ]
    }
   ],
   "source": [
    "# testando metodos com k usando redução de dimensionalidade\n",
    "# methods_clustering = [run_kmeans, run_agnes, run_fasterpam, run_fastermsc]\n",
    "methods_clustering = [run_agnes]\n",
    "k_values = [10, 30, 50, 100, 150, 200, 400, 500, 750, 1000, 1250, 1500, 1750]\n",
    "\n",
    "for method_red in methods_reducing:\n",
    "    for n in n_components:\n",
    "        print(f'\\n Embeddings reduzidos com {method_red} e n_components {n}')\n",
    "        reduced_embeddings = dimensionality_reduction(embeddings=embeddings, method=method_red, n_components=n)\n",
    "        if not isinstance(reduced_embeddings, torch.Tensor):\n",
    "            reduced_embeddings = torch.tensor(reduced_embeddings, dtype=torch.float32)\n",
    "        output_path = f'clusters/{dataset}/{method_red}/n_components{n}'\n",
    "        os.makedirs(output_path, exist_ok=True)\n",
    "        \n",
    "        print('Metodos com numero de clusters (k) como parametro ...')\n",
    "\n",
    "        run_methods_with_k(\n",
    "            embeddings = reduced_embeddings, \n",
    "            methods = methods_clustering, \n",
    "            k_values = k_values, \n",
    "            output_path = output_path, \n",
    "            dataset_name=dataset\n",
    "        )  \n",
    "                        \n",
    "print(\"\\nTodos os testes para métodos com k fixo concluídos\")"
   ]
  },
  {
   "cell_type": "code",
   "execution_count": null,
   "id": "92bfab09",
   "metadata": {},
   "outputs": [
    {
     "name": "stdout",
     "output_type": "stream",
     "text": [
      "Testes para Spectral Clustering\n",
      "\n",
      " Embeddings reduzidos com umap e n_components 8\n",
      "Aplicando UMAP com n_components = 8...\n"
     ]
    },
    {
     "name": "stderr",
     "output_type": "stream",
     "text": [
      "C:\\Users\\cruzd\\AppData\\Local\\Packages\\PythonSoftwareFoundation.Python.3.12_qbz5n2kfra8p0\\LocalCache\\local-packages\\Python312\\site-packages\\sklearn\\utils\\deprecation.py:151: FutureWarning: 'force_all_finite' was renamed to 'ensure_all_finite' in 1.6 and will be removed in 1.8.\n",
      "  warnings.warn(\n",
      "C:\\Users\\cruzd\\AppData\\Local\\Packages\\PythonSoftwareFoundation.Python.3.12_qbz5n2kfra8p0\\LocalCache\\local-packages\\Python312\\site-packages\\umap\\umap_.py:1952: UserWarning: n_jobs value 1 overridden to 1 by setting random_state. Use no seed for parallelism.\n",
      "  warn(\n"
     ]
    },
    {
     "name": "stdout",
     "output_type": "stream",
     "text": [
      "Dimensionalidade reduzida de 1000 para 8\n",
      "Executando run_spectral...\n",
      "Executando SPECTRAL (k_values = 10, neighbor_values = 30)...\n"
     ]
    },
    {
     "name": "stderr",
     "output_type": "stream",
     "text": [
      "C:\\Users\\cruzd\\AppData\\Local\\Packages\\PythonSoftwareFoundation.Python.3.12_qbz5n2kfra8p0\\LocalCache\\local-packages\\Python312\\site-packages\\sklearn\\manifold\\_spectral_embedding.py:329: UserWarning: Graph is not fully connected, spectral embedding may not work as expected.\n",
      "  warnings.warn(\n"
     ]
    },
    {
     "name": "stdout",
     "output_type": "stream",
     "text": [
      "Clusters salvos em clusters/Tools/umap/n_components8\\run_spectral/Tools_clusters_run_spectral_k10_n30.csv\n",
      "Executando SPECTRAL (k_values = 10, neighbor_values = 75)...\n"
     ]
    },
    {
     "name": "stderr",
     "output_type": "stream",
     "text": [
      "C:\\Users\\cruzd\\AppData\\Local\\Packages\\PythonSoftwareFoundation.Python.3.12_qbz5n2kfra8p0\\LocalCache\\local-packages\\Python312\\site-packages\\sklearn\\manifold\\_spectral_embedding.py:329: UserWarning: Graph is not fully connected, spectral embedding may not work as expected.\n",
      "  warnings.warn(\n"
     ]
    },
    {
     "name": "stdout",
     "output_type": "stream",
     "text": [
      "Clusters salvos em clusters/Tools/umap/n_components8\\run_spectral/Tools_clusters_run_spectral_k10_n75.csv\n",
      "Executando SPECTRAL (k_values = 10, neighbor_values = 100)...\n",
      "Clusters salvos em clusters/Tools/umap/n_components8\\run_spectral/Tools_clusters_run_spectral_k10_n100.csv\n",
      "Executando SPECTRAL (k_values = 10, neighbor_values = 150)...\n",
      "Clusters salvos em clusters/Tools/umap/n_components8\\run_spectral/Tools_clusters_run_spectral_k10_n150.csv\n",
      "Executando SPECTRAL (k_values = 10, neighbor_values = 200)...\n",
      "Clusters salvos em clusters/Tools/umap/n_components8\\run_spectral/Tools_clusters_run_spectral_k10_n200.csv\n",
      "Executando SPECTRAL (k_values = 20, neighbor_values = 30)...\n"
     ]
    },
    {
     "name": "stderr",
     "output_type": "stream",
     "text": [
      "C:\\Users\\cruzd\\AppData\\Local\\Packages\\PythonSoftwareFoundation.Python.3.12_qbz5n2kfra8p0\\LocalCache\\local-packages\\Python312\\site-packages\\sklearn\\manifold\\_spectral_embedding.py:329: UserWarning: Graph is not fully connected, spectral embedding may not work as expected.\n",
      "  warnings.warn(\n"
     ]
    },
    {
     "name": "stdout",
     "output_type": "stream",
     "text": [
      "Clusters salvos em clusters/Tools/umap/n_components8\\run_spectral/Tools_clusters_run_spectral_k20_n30.csv\n",
      "Executando SPECTRAL (k_values = 20, neighbor_values = 75)...\n"
     ]
    },
    {
     "name": "stderr",
     "output_type": "stream",
     "text": [
      "C:\\Users\\cruzd\\AppData\\Local\\Packages\\PythonSoftwareFoundation.Python.3.12_qbz5n2kfra8p0\\LocalCache\\local-packages\\Python312\\site-packages\\sklearn\\manifold\\_spectral_embedding.py:329: UserWarning: Graph is not fully connected, spectral embedding may not work as expected.\n",
      "  warnings.warn(\n"
     ]
    },
    {
     "name": "stdout",
     "output_type": "stream",
     "text": [
      "Clusters salvos em clusters/Tools/umap/n_components8\\run_spectral/Tools_clusters_run_spectral_k20_n75.csv\n",
      "Executando SPECTRAL (k_values = 20, neighbor_values = 100)...\n",
      "Clusters salvos em clusters/Tools/umap/n_components8\\run_spectral/Tools_clusters_run_spectral_k20_n100.csv\n",
      "Executando SPECTRAL (k_values = 20, neighbor_values = 150)...\n",
      "Clusters salvos em clusters/Tools/umap/n_components8\\run_spectral/Tools_clusters_run_spectral_k20_n150.csv\n",
      "Executando SPECTRAL (k_values = 20, neighbor_values = 200)...\n",
      "Clusters salvos em clusters/Tools/umap/n_components8\\run_spectral/Tools_clusters_run_spectral_k20_n200.csv\n",
      "Executando SPECTRAL (k_values = 50, neighbor_values = 30)...\n"
     ]
    },
    {
     "name": "stderr",
     "output_type": "stream",
     "text": [
      "C:\\Users\\cruzd\\AppData\\Local\\Packages\\PythonSoftwareFoundation.Python.3.12_qbz5n2kfra8p0\\LocalCache\\local-packages\\Python312\\site-packages\\sklearn\\manifold\\_spectral_embedding.py:329: UserWarning: Graph is not fully connected, spectral embedding may not work as expected.\n",
      "  warnings.warn(\n"
     ]
    },
    {
     "name": "stdout",
     "output_type": "stream",
     "text": [
      "Clusters salvos em clusters/Tools/umap/n_components8\\run_spectral/Tools_clusters_run_spectral_k50_n30.csv\n",
      "Executando SPECTRAL (k_values = 50, neighbor_values = 75)...\n"
     ]
    },
    {
     "name": "stderr",
     "output_type": "stream",
     "text": [
      "C:\\Users\\cruzd\\AppData\\Local\\Packages\\PythonSoftwareFoundation.Python.3.12_qbz5n2kfra8p0\\LocalCache\\local-packages\\Python312\\site-packages\\sklearn\\manifold\\_spectral_embedding.py:329: UserWarning: Graph is not fully connected, spectral embedding may not work as expected.\n",
      "  warnings.warn(\n"
     ]
    },
    {
     "name": "stdout",
     "output_type": "stream",
     "text": [
      "Clusters salvos em clusters/Tools/umap/n_components8\\run_spectral/Tools_clusters_run_spectral_k50_n75.csv\n",
      "Executando SPECTRAL (k_values = 50, neighbor_values = 100)...\n",
      "Clusters salvos em clusters/Tools/umap/n_components8\\run_spectral/Tools_clusters_run_spectral_k50_n100.csv\n",
      "Executando SPECTRAL (k_values = 50, neighbor_values = 150)...\n",
      "Clusters salvos em clusters/Tools/umap/n_components8\\run_spectral/Tools_clusters_run_spectral_k50_n150.csv\n",
      "Executando SPECTRAL (k_values = 50, neighbor_values = 200)...\n",
      "Clusters salvos em clusters/Tools/umap/n_components8\\run_spectral/Tools_clusters_run_spectral_k50_n200.csv\n",
      "Executando SPECTRAL (k_values = 100, neighbor_values = 30)...\n"
     ]
    },
    {
     "name": "stderr",
     "output_type": "stream",
     "text": [
      "C:\\Users\\cruzd\\AppData\\Local\\Packages\\PythonSoftwareFoundation.Python.3.12_qbz5n2kfra8p0\\LocalCache\\local-packages\\Python312\\site-packages\\sklearn\\manifold\\_spectral_embedding.py:329: UserWarning: Graph is not fully connected, spectral embedding may not work as expected.\n",
      "  warnings.warn(\n"
     ]
    },
    {
     "name": "stdout",
     "output_type": "stream",
     "text": [
      "Clusters salvos em clusters/Tools/umap/n_components8\\run_spectral/Tools_clusters_run_spectral_k100_n30.csv\n",
      "Executando SPECTRAL (k_values = 100, neighbor_values = 75)...\n"
     ]
    },
    {
     "name": "stderr",
     "output_type": "stream",
     "text": [
      "C:\\Users\\cruzd\\AppData\\Local\\Packages\\PythonSoftwareFoundation.Python.3.12_qbz5n2kfra8p0\\LocalCache\\local-packages\\Python312\\site-packages\\sklearn\\manifold\\_spectral_embedding.py:329: UserWarning: Graph is not fully connected, spectral embedding may not work as expected.\n",
      "  warnings.warn(\n"
     ]
    },
    {
     "name": "stdout",
     "output_type": "stream",
     "text": [
      "Clusters salvos em clusters/Tools/umap/n_components8\\run_spectral/Tools_clusters_run_spectral_k100_n75.csv\n",
      "Executando SPECTRAL (k_values = 100, neighbor_values = 100)...\n",
      "Clusters salvos em clusters/Tools/umap/n_components8\\run_spectral/Tools_clusters_run_spectral_k100_n100.csv\n",
      "Executando SPECTRAL (k_values = 100, neighbor_values = 150)...\n",
      "Clusters salvos em clusters/Tools/umap/n_components8\\run_spectral/Tools_clusters_run_spectral_k100_n150.csv\n",
      "Executando SPECTRAL (k_values = 100, neighbor_values = 200)...\n",
      "Clusters salvos em clusters/Tools/umap/n_components8\\run_spectral/Tools_clusters_run_spectral_k100_n200.csv\n",
      "Executando SPECTRAL (k_values = 300, neighbor_values = 30)...\n"
     ]
    },
    {
     "name": "stderr",
     "output_type": "stream",
     "text": [
      "C:\\Users\\cruzd\\AppData\\Local\\Packages\\PythonSoftwareFoundation.Python.3.12_qbz5n2kfra8p0\\LocalCache\\local-packages\\Python312\\site-packages\\sklearn\\manifold\\_spectral_embedding.py:329: UserWarning: Graph is not fully connected, spectral embedding may not work as expected.\n",
      "  warnings.warn(\n"
     ]
    },
    {
     "name": "stdout",
     "output_type": "stream",
     "text": [
      "Clusters salvos em clusters/Tools/umap/n_components8\\run_spectral/Tools_clusters_run_spectral_k300_n30.csv\n",
      "Executando SPECTRAL (k_values = 300, neighbor_values = 75)...\n"
     ]
    },
    {
     "name": "stderr",
     "output_type": "stream",
     "text": [
      "C:\\Users\\cruzd\\AppData\\Local\\Packages\\PythonSoftwareFoundation.Python.3.12_qbz5n2kfra8p0\\LocalCache\\local-packages\\Python312\\site-packages\\sklearn\\manifold\\_spectral_embedding.py:329: UserWarning: Graph is not fully connected, spectral embedding may not work as expected.\n",
      "  warnings.warn(\n"
     ]
    },
    {
     "name": "stdout",
     "output_type": "stream",
     "text": [
      "Clusters salvos em clusters/Tools/umap/n_components8\\run_spectral/Tools_clusters_run_spectral_k300_n75.csv\n",
      "Executando SPECTRAL (k_values = 300, neighbor_values = 100)...\n",
      "Clusters salvos em clusters/Tools/umap/n_components8\\run_spectral/Tools_clusters_run_spectral_k300_n100.csv\n",
      "Executando SPECTRAL (k_values = 300, neighbor_values = 150)...\n",
      "Clusters salvos em clusters/Tools/umap/n_components8\\run_spectral/Tools_clusters_run_spectral_k300_n150.csv\n",
      "Executando SPECTRAL (k_values = 300, neighbor_values = 200)...\n",
      "Clusters salvos em clusters/Tools/umap/n_components8\\run_spectral/Tools_clusters_run_spectral_k300_n200.csv\n",
      "Executando SPECTRAL (k_values = 450, neighbor_values = 30)...\n"
     ]
    },
    {
     "name": "stderr",
     "output_type": "stream",
     "text": [
      "C:\\Users\\cruzd\\AppData\\Local\\Packages\\PythonSoftwareFoundation.Python.3.12_qbz5n2kfra8p0\\LocalCache\\local-packages\\Python312\\site-packages\\sklearn\\manifold\\_spectral_embedding.py:329: UserWarning: Graph is not fully connected, spectral embedding may not work as expected.\n",
      "  warnings.warn(\n"
     ]
    },
    {
     "name": "stdout",
     "output_type": "stream",
     "text": [
      "Clusters salvos em clusters/Tools/umap/n_components8\\run_spectral/Tools_clusters_run_spectral_k450_n30.csv\n",
      "Executando SPECTRAL (k_values = 450, neighbor_values = 75)...\n"
     ]
    },
    {
     "name": "stderr",
     "output_type": "stream",
     "text": [
      "C:\\Users\\cruzd\\AppData\\Local\\Packages\\PythonSoftwareFoundation.Python.3.12_qbz5n2kfra8p0\\LocalCache\\local-packages\\Python312\\site-packages\\sklearn\\manifold\\_spectral_embedding.py:329: UserWarning: Graph is not fully connected, spectral embedding may not work as expected.\n",
      "  warnings.warn(\n"
     ]
    },
    {
     "name": "stdout",
     "output_type": "stream",
     "text": [
      "Clusters salvos em clusters/Tools/umap/n_components8\\run_spectral/Tools_clusters_run_spectral_k450_n75.csv\n",
      "Executando SPECTRAL (k_values = 450, neighbor_values = 100)...\n",
      "Clusters salvos em clusters/Tools/umap/n_components8\\run_spectral/Tools_clusters_run_spectral_k450_n100.csv\n",
      "Executando SPECTRAL (k_values = 450, neighbor_values = 150)...\n",
      "Clusters salvos em clusters/Tools/umap/n_components8\\run_spectral/Tools_clusters_run_spectral_k450_n150.csv\n",
      "Executando SPECTRAL (k_values = 450, neighbor_values = 200)...\n",
      "Clusters salvos em clusters/Tools/umap/n_components8\\run_spectral/Tools_clusters_run_spectral_k450_n200.csv\n",
      "Clusterização concluída e resultados salvos\n",
      "\n",
      " Embeddings reduzidos com umap e n_components 32\n",
      "Aplicando UMAP com n_components = 32...\n"
     ]
    },
    {
     "name": "stderr",
     "output_type": "stream",
     "text": [
      "C:\\Users\\cruzd\\AppData\\Local\\Packages\\PythonSoftwareFoundation.Python.3.12_qbz5n2kfra8p0\\LocalCache\\local-packages\\Python312\\site-packages\\sklearn\\utils\\deprecation.py:151: FutureWarning: 'force_all_finite' was renamed to 'ensure_all_finite' in 1.6 and will be removed in 1.8.\n",
      "  warnings.warn(\n",
      "C:\\Users\\cruzd\\AppData\\Local\\Packages\\PythonSoftwareFoundation.Python.3.12_qbz5n2kfra8p0\\LocalCache\\local-packages\\Python312\\site-packages\\umap\\umap_.py:1952: UserWarning: n_jobs value 1 overridden to 1 by setting random_state. Use no seed for parallelism.\n",
      "  warn(\n"
     ]
    },
    {
     "name": "stdout",
     "output_type": "stream",
     "text": [
      "Dimensionalidade reduzida de 1000 para 32\n",
      "Executando run_spectral...\n",
      "Executando SPECTRAL (k_values = 10, neighbor_values = 30)...\n"
     ]
    },
    {
     "name": "stderr",
     "output_type": "stream",
     "text": [
      "C:\\Users\\cruzd\\AppData\\Local\\Packages\\PythonSoftwareFoundation.Python.3.12_qbz5n2kfra8p0\\LocalCache\\local-packages\\Python312\\site-packages\\sklearn\\manifold\\_spectral_embedding.py:329: UserWarning: Graph is not fully connected, spectral embedding may not work as expected.\n",
      "  warnings.warn(\n"
     ]
    },
    {
     "name": "stdout",
     "output_type": "stream",
     "text": [
      "Clusters salvos em clusters/Tools/umap/n_components32\\run_spectral/Tools_clusters_run_spectral_k10_n30.csv\n",
      "Executando SPECTRAL (k_values = 10, neighbor_values = 75)...\n"
     ]
    },
    {
     "name": "stderr",
     "output_type": "stream",
     "text": [
      "C:\\Users\\cruzd\\AppData\\Local\\Packages\\PythonSoftwareFoundation.Python.3.12_qbz5n2kfra8p0\\LocalCache\\local-packages\\Python312\\site-packages\\sklearn\\manifold\\_spectral_embedding.py:329: UserWarning: Graph is not fully connected, spectral embedding may not work as expected.\n",
      "  warnings.warn(\n"
     ]
    },
    {
     "name": "stdout",
     "output_type": "stream",
     "text": [
      "Clusters salvos em clusters/Tools/umap/n_components32\\run_spectral/Tools_clusters_run_spectral_k10_n75.csv\n",
      "Executando SPECTRAL (k_values = 10, neighbor_values = 100)...\n",
      "Clusters salvos em clusters/Tools/umap/n_components32\\run_spectral/Tools_clusters_run_spectral_k10_n100.csv\n",
      "Executando SPECTRAL (k_values = 10, neighbor_values = 150)...\n",
      "Clusters salvos em clusters/Tools/umap/n_components32\\run_spectral/Tools_clusters_run_spectral_k10_n150.csv\n",
      "Executando SPECTRAL (k_values = 10, neighbor_values = 200)...\n",
      "Clusters salvos em clusters/Tools/umap/n_components32\\run_spectral/Tools_clusters_run_spectral_k10_n200.csv\n",
      "Executando SPECTRAL (k_values = 20, neighbor_values = 30)...\n"
     ]
    },
    {
     "name": "stderr",
     "output_type": "stream",
     "text": [
      "C:\\Users\\cruzd\\AppData\\Local\\Packages\\PythonSoftwareFoundation.Python.3.12_qbz5n2kfra8p0\\LocalCache\\local-packages\\Python312\\site-packages\\sklearn\\manifold\\_spectral_embedding.py:329: UserWarning: Graph is not fully connected, spectral embedding may not work as expected.\n",
      "  warnings.warn(\n"
     ]
    },
    {
     "name": "stdout",
     "output_type": "stream",
     "text": [
      "Clusters salvos em clusters/Tools/umap/n_components32\\run_spectral/Tools_clusters_run_spectral_k20_n30.csv\n",
      "Executando SPECTRAL (k_values = 20, neighbor_values = 75)...\n"
     ]
    },
    {
     "name": "stderr",
     "output_type": "stream",
     "text": [
      "C:\\Users\\cruzd\\AppData\\Local\\Packages\\PythonSoftwareFoundation.Python.3.12_qbz5n2kfra8p0\\LocalCache\\local-packages\\Python312\\site-packages\\sklearn\\manifold\\_spectral_embedding.py:329: UserWarning: Graph is not fully connected, spectral embedding may not work as expected.\n",
      "  warnings.warn(\n"
     ]
    },
    {
     "name": "stdout",
     "output_type": "stream",
     "text": [
      "Clusters salvos em clusters/Tools/umap/n_components32\\run_spectral/Tools_clusters_run_spectral_k20_n75.csv\n",
      "Executando SPECTRAL (k_values = 20, neighbor_values = 100)...\n",
      "Clusters salvos em clusters/Tools/umap/n_components32\\run_spectral/Tools_clusters_run_spectral_k20_n100.csv\n",
      "Executando SPECTRAL (k_values = 20, neighbor_values = 150)...\n",
      "Clusters salvos em clusters/Tools/umap/n_components32\\run_spectral/Tools_clusters_run_spectral_k20_n150.csv\n",
      "Executando SPECTRAL (k_values = 20, neighbor_values = 200)...\n",
      "Clusters salvos em clusters/Tools/umap/n_components32\\run_spectral/Tools_clusters_run_spectral_k20_n200.csv\n",
      "Executando SPECTRAL (k_values = 50, neighbor_values = 30)...\n"
     ]
    },
    {
     "name": "stderr",
     "output_type": "stream",
     "text": [
      "C:\\Users\\cruzd\\AppData\\Local\\Packages\\PythonSoftwareFoundation.Python.3.12_qbz5n2kfra8p0\\LocalCache\\local-packages\\Python312\\site-packages\\sklearn\\manifold\\_spectral_embedding.py:329: UserWarning: Graph is not fully connected, spectral embedding may not work as expected.\n",
      "  warnings.warn(\n"
     ]
    },
    {
     "name": "stdout",
     "output_type": "stream",
     "text": [
      "Clusters salvos em clusters/Tools/umap/n_components32\\run_spectral/Tools_clusters_run_spectral_k50_n30.csv\n",
      "Executando SPECTRAL (k_values = 50, neighbor_values = 75)...\n"
     ]
    },
    {
     "name": "stderr",
     "output_type": "stream",
     "text": [
      "C:\\Users\\cruzd\\AppData\\Local\\Packages\\PythonSoftwareFoundation.Python.3.12_qbz5n2kfra8p0\\LocalCache\\local-packages\\Python312\\site-packages\\sklearn\\manifold\\_spectral_embedding.py:329: UserWarning: Graph is not fully connected, spectral embedding may not work as expected.\n",
      "  warnings.warn(\n"
     ]
    },
    {
     "name": "stdout",
     "output_type": "stream",
     "text": [
      "Clusters salvos em clusters/Tools/umap/n_components32\\run_spectral/Tools_clusters_run_spectral_k50_n75.csv\n",
      "Executando SPECTRAL (k_values = 50, neighbor_values = 100)...\n",
      "Clusters salvos em clusters/Tools/umap/n_components32\\run_spectral/Tools_clusters_run_spectral_k50_n100.csv\n",
      "Executando SPECTRAL (k_values = 50, neighbor_values = 150)...\n",
      "Clusters salvos em clusters/Tools/umap/n_components32\\run_spectral/Tools_clusters_run_spectral_k50_n150.csv\n",
      "Executando SPECTRAL (k_values = 50, neighbor_values = 200)...\n",
      "Clusters salvos em clusters/Tools/umap/n_components32\\run_spectral/Tools_clusters_run_spectral_k50_n200.csv\n",
      "Executando SPECTRAL (k_values = 100, neighbor_values = 30)...\n"
     ]
    },
    {
     "name": "stderr",
     "output_type": "stream",
     "text": [
      "C:\\Users\\cruzd\\AppData\\Local\\Packages\\PythonSoftwareFoundation.Python.3.12_qbz5n2kfra8p0\\LocalCache\\local-packages\\Python312\\site-packages\\sklearn\\manifold\\_spectral_embedding.py:329: UserWarning: Graph is not fully connected, spectral embedding may not work as expected.\n",
      "  warnings.warn(\n"
     ]
    },
    {
     "name": "stdout",
     "output_type": "stream",
     "text": [
      "Clusters salvos em clusters/Tools/umap/n_components32\\run_spectral/Tools_clusters_run_spectral_k100_n30.csv\n",
      "Executando SPECTRAL (k_values = 100, neighbor_values = 75)...\n"
     ]
    },
    {
     "name": "stderr",
     "output_type": "stream",
     "text": [
      "C:\\Users\\cruzd\\AppData\\Local\\Packages\\PythonSoftwareFoundation.Python.3.12_qbz5n2kfra8p0\\LocalCache\\local-packages\\Python312\\site-packages\\sklearn\\manifold\\_spectral_embedding.py:329: UserWarning: Graph is not fully connected, spectral embedding may not work as expected.\n",
      "  warnings.warn(\n"
     ]
    },
    {
     "name": "stdout",
     "output_type": "stream",
     "text": [
      "Clusters salvos em clusters/Tools/umap/n_components32\\run_spectral/Tools_clusters_run_spectral_k100_n75.csv\n",
      "Executando SPECTRAL (k_values = 100, neighbor_values = 100)...\n",
      "Clusters salvos em clusters/Tools/umap/n_components32\\run_spectral/Tools_clusters_run_spectral_k100_n100.csv\n",
      "Executando SPECTRAL (k_values = 100, neighbor_values = 150)...\n",
      "Clusters salvos em clusters/Tools/umap/n_components32\\run_spectral/Tools_clusters_run_spectral_k100_n150.csv\n",
      "Executando SPECTRAL (k_values = 100, neighbor_values = 200)...\n",
      "Clusters salvos em clusters/Tools/umap/n_components32\\run_spectral/Tools_clusters_run_spectral_k100_n200.csv\n",
      "Executando SPECTRAL (k_values = 300, neighbor_values = 30)...\n"
     ]
    },
    {
     "name": "stderr",
     "output_type": "stream",
     "text": [
      "C:\\Users\\cruzd\\AppData\\Local\\Packages\\PythonSoftwareFoundation.Python.3.12_qbz5n2kfra8p0\\LocalCache\\local-packages\\Python312\\site-packages\\sklearn\\manifold\\_spectral_embedding.py:329: UserWarning: Graph is not fully connected, spectral embedding may not work as expected.\n",
      "  warnings.warn(\n"
     ]
    },
    {
     "name": "stdout",
     "output_type": "stream",
     "text": [
      "Clusters salvos em clusters/Tools/umap/n_components32\\run_spectral/Tools_clusters_run_spectral_k300_n30.csv\n",
      "Executando SPECTRAL (k_values = 300, neighbor_values = 75)...\n"
     ]
    },
    {
     "name": "stderr",
     "output_type": "stream",
     "text": [
      "C:\\Users\\cruzd\\AppData\\Local\\Packages\\PythonSoftwareFoundation.Python.3.12_qbz5n2kfra8p0\\LocalCache\\local-packages\\Python312\\site-packages\\sklearn\\manifold\\_spectral_embedding.py:329: UserWarning: Graph is not fully connected, spectral embedding may not work as expected.\n",
      "  warnings.warn(\n"
     ]
    },
    {
     "name": "stdout",
     "output_type": "stream",
     "text": [
      "Clusters salvos em clusters/Tools/umap/n_components32\\run_spectral/Tools_clusters_run_spectral_k300_n75.csv\n",
      "Executando SPECTRAL (k_values = 300, neighbor_values = 100)...\n",
      "Clusters salvos em clusters/Tools/umap/n_components32\\run_spectral/Tools_clusters_run_spectral_k300_n100.csv\n",
      "Executando SPECTRAL (k_values = 300, neighbor_values = 150)...\n",
      "Clusters salvos em clusters/Tools/umap/n_components32\\run_spectral/Tools_clusters_run_spectral_k300_n150.csv\n",
      "Executando SPECTRAL (k_values = 300, neighbor_values = 200)...\n",
      "Clusters salvos em clusters/Tools/umap/n_components32\\run_spectral/Tools_clusters_run_spectral_k300_n200.csv\n",
      "Executando SPECTRAL (k_values = 450, neighbor_values = 30)...\n"
     ]
    },
    {
     "name": "stderr",
     "output_type": "stream",
     "text": [
      "C:\\Users\\cruzd\\AppData\\Local\\Packages\\PythonSoftwareFoundation.Python.3.12_qbz5n2kfra8p0\\LocalCache\\local-packages\\Python312\\site-packages\\sklearn\\manifold\\_spectral_embedding.py:329: UserWarning: Graph is not fully connected, spectral embedding may not work as expected.\n",
      "  warnings.warn(\n"
     ]
    },
    {
     "name": "stdout",
     "output_type": "stream",
     "text": [
      "Clusters salvos em clusters/Tools/umap/n_components32\\run_spectral/Tools_clusters_run_spectral_k450_n30.csv\n",
      "Executando SPECTRAL (k_values = 450, neighbor_values = 75)...\n"
     ]
    },
    {
     "name": "stderr",
     "output_type": "stream",
     "text": [
      "C:\\Users\\cruzd\\AppData\\Local\\Packages\\PythonSoftwareFoundation.Python.3.12_qbz5n2kfra8p0\\LocalCache\\local-packages\\Python312\\site-packages\\sklearn\\manifold\\_spectral_embedding.py:329: UserWarning: Graph is not fully connected, spectral embedding may not work as expected.\n",
      "  warnings.warn(\n"
     ]
    },
    {
     "name": "stdout",
     "output_type": "stream",
     "text": [
      "Clusters salvos em clusters/Tools/umap/n_components32\\run_spectral/Tools_clusters_run_spectral_k450_n75.csv\n",
      "Executando SPECTRAL (k_values = 450, neighbor_values = 100)...\n",
      "Clusters salvos em clusters/Tools/umap/n_components32\\run_spectral/Tools_clusters_run_spectral_k450_n100.csv\n",
      "Executando SPECTRAL (k_values = 450, neighbor_values = 150)...\n",
      "Clusters salvos em clusters/Tools/umap/n_components32\\run_spectral/Tools_clusters_run_spectral_k450_n150.csv\n",
      "Executando SPECTRAL (k_values = 450, neighbor_values = 200)...\n",
      "Clusters salvos em clusters/Tools/umap/n_components32\\run_spectral/Tools_clusters_run_spectral_k450_n200.csv\n",
      "Clusterização concluída e resultados salvos\n",
      "\n",
      " Embeddings reduzidos com umap e n_components 64\n",
      "Aplicando UMAP com n_components = 64...\n"
     ]
    },
    {
     "name": "stderr",
     "output_type": "stream",
     "text": [
      "C:\\Users\\cruzd\\AppData\\Local\\Packages\\PythonSoftwareFoundation.Python.3.12_qbz5n2kfra8p0\\LocalCache\\local-packages\\Python312\\site-packages\\sklearn\\utils\\deprecation.py:151: FutureWarning: 'force_all_finite' was renamed to 'ensure_all_finite' in 1.6 and will be removed in 1.8.\n",
      "  warnings.warn(\n",
      "C:\\Users\\cruzd\\AppData\\Local\\Packages\\PythonSoftwareFoundation.Python.3.12_qbz5n2kfra8p0\\LocalCache\\local-packages\\Python312\\site-packages\\umap\\umap_.py:1952: UserWarning: n_jobs value 1 overridden to 1 by setting random_state. Use no seed for parallelism.\n",
      "  warn(\n"
     ]
    },
    {
     "name": "stdout",
     "output_type": "stream",
     "text": [
      "Dimensionalidade reduzida de 1000 para 64\n",
      "Executando run_spectral...\n",
      "Executando SPECTRAL (k_values = 10, neighbor_values = 30)...\n"
     ]
    },
    {
     "name": "stderr",
     "output_type": "stream",
     "text": [
      "C:\\Users\\cruzd\\AppData\\Local\\Packages\\PythonSoftwareFoundation.Python.3.12_qbz5n2kfra8p0\\LocalCache\\local-packages\\Python312\\site-packages\\sklearn\\manifold\\_spectral_embedding.py:329: UserWarning: Graph is not fully connected, spectral embedding may not work as expected.\n",
      "  warnings.warn(\n"
     ]
    },
    {
     "name": "stdout",
     "output_type": "stream",
     "text": [
      "Clusters salvos em clusters/Tools/umap/n_components64\\run_spectral/Tools_clusters_run_spectral_k10_n30.csv\n",
      "Executando SPECTRAL (k_values = 10, neighbor_values = 75)...\n"
     ]
    },
    {
     "name": "stderr",
     "output_type": "stream",
     "text": [
      "C:\\Users\\cruzd\\AppData\\Local\\Packages\\PythonSoftwareFoundation.Python.3.12_qbz5n2kfra8p0\\LocalCache\\local-packages\\Python312\\site-packages\\sklearn\\manifold\\_spectral_embedding.py:329: UserWarning: Graph is not fully connected, spectral embedding may not work as expected.\n",
      "  warnings.warn(\n"
     ]
    },
    {
     "name": "stdout",
     "output_type": "stream",
     "text": [
      "Clusters salvos em clusters/Tools/umap/n_components64\\run_spectral/Tools_clusters_run_spectral_k10_n75.csv\n",
      "Executando SPECTRAL (k_values = 10, neighbor_values = 100)...\n",
      "Clusters salvos em clusters/Tools/umap/n_components64\\run_spectral/Tools_clusters_run_spectral_k10_n100.csv\n",
      "Executando SPECTRAL (k_values = 10, neighbor_values = 150)...\n",
      "Clusters salvos em clusters/Tools/umap/n_components64\\run_spectral/Tools_clusters_run_spectral_k10_n150.csv\n",
      "Executando SPECTRAL (k_values = 10, neighbor_values = 200)...\n",
      "Clusters salvos em clusters/Tools/umap/n_components64\\run_spectral/Tools_clusters_run_spectral_k10_n200.csv\n",
      "Executando SPECTRAL (k_values = 20, neighbor_values = 30)...\n"
     ]
    },
    {
     "name": "stderr",
     "output_type": "stream",
     "text": [
      "C:\\Users\\cruzd\\AppData\\Local\\Packages\\PythonSoftwareFoundation.Python.3.12_qbz5n2kfra8p0\\LocalCache\\local-packages\\Python312\\site-packages\\sklearn\\manifold\\_spectral_embedding.py:329: UserWarning: Graph is not fully connected, spectral embedding may not work as expected.\n",
      "  warnings.warn(\n"
     ]
    },
    {
     "name": "stdout",
     "output_type": "stream",
     "text": [
      "Clusters salvos em clusters/Tools/umap/n_components64\\run_spectral/Tools_clusters_run_spectral_k20_n30.csv\n",
      "Executando SPECTRAL (k_values = 20, neighbor_values = 75)...\n"
     ]
    },
    {
     "name": "stderr",
     "output_type": "stream",
     "text": [
      "C:\\Users\\cruzd\\AppData\\Local\\Packages\\PythonSoftwareFoundation.Python.3.12_qbz5n2kfra8p0\\LocalCache\\local-packages\\Python312\\site-packages\\sklearn\\manifold\\_spectral_embedding.py:329: UserWarning: Graph is not fully connected, spectral embedding may not work as expected.\n",
      "  warnings.warn(\n"
     ]
    },
    {
     "name": "stdout",
     "output_type": "stream",
     "text": [
      "Clusters salvos em clusters/Tools/umap/n_components64\\run_spectral/Tools_clusters_run_spectral_k20_n75.csv\n",
      "Executando SPECTRAL (k_values = 20, neighbor_values = 100)...\n",
      "Clusters salvos em clusters/Tools/umap/n_components64\\run_spectral/Tools_clusters_run_spectral_k20_n100.csv\n",
      "Executando SPECTRAL (k_values = 20, neighbor_values = 150)...\n",
      "Clusters salvos em clusters/Tools/umap/n_components64\\run_spectral/Tools_clusters_run_spectral_k20_n150.csv\n",
      "Executando SPECTRAL (k_values = 20, neighbor_values = 200)...\n",
      "Clusters salvos em clusters/Tools/umap/n_components64\\run_spectral/Tools_clusters_run_spectral_k20_n200.csv\n",
      "Executando SPECTRAL (k_values = 50, neighbor_values = 30)...\n"
     ]
    },
    {
     "name": "stderr",
     "output_type": "stream",
     "text": [
      "C:\\Users\\cruzd\\AppData\\Local\\Packages\\PythonSoftwareFoundation.Python.3.12_qbz5n2kfra8p0\\LocalCache\\local-packages\\Python312\\site-packages\\sklearn\\manifold\\_spectral_embedding.py:329: UserWarning: Graph is not fully connected, spectral embedding may not work as expected.\n",
      "  warnings.warn(\n"
     ]
    },
    {
     "name": "stdout",
     "output_type": "stream",
     "text": [
      "Clusters salvos em clusters/Tools/umap/n_components64\\run_spectral/Tools_clusters_run_spectral_k50_n30.csv\n",
      "Executando SPECTRAL (k_values = 50, neighbor_values = 75)...\n"
     ]
    },
    {
     "name": "stderr",
     "output_type": "stream",
     "text": [
      "C:\\Users\\cruzd\\AppData\\Local\\Packages\\PythonSoftwareFoundation.Python.3.12_qbz5n2kfra8p0\\LocalCache\\local-packages\\Python312\\site-packages\\sklearn\\manifold\\_spectral_embedding.py:329: UserWarning: Graph is not fully connected, spectral embedding may not work as expected.\n",
      "  warnings.warn(\n"
     ]
    },
    {
     "name": "stdout",
     "output_type": "stream",
     "text": [
      "Clusters salvos em clusters/Tools/umap/n_components64\\run_spectral/Tools_clusters_run_spectral_k50_n75.csv\n",
      "Executando SPECTRAL (k_values = 50, neighbor_values = 100)...\n",
      "Clusters salvos em clusters/Tools/umap/n_components64\\run_spectral/Tools_clusters_run_spectral_k50_n100.csv\n",
      "Executando SPECTRAL (k_values = 50, neighbor_values = 150)...\n",
      "Clusters salvos em clusters/Tools/umap/n_components64\\run_spectral/Tools_clusters_run_spectral_k50_n150.csv\n",
      "Executando SPECTRAL (k_values = 50, neighbor_values = 200)...\n",
      "Clusters salvos em clusters/Tools/umap/n_components64\\run_spectral/Tools_clusters_run_spectral_k50_n200.csv\n",
      "Executando SPECTRAL (k_values = 100, neighbor_values = 30)...\n"
     ]
    },
    {
     "name": "stderr",
     "output_type": "stream",
     "text": [
      "C:\\Users\\cruzd\\AppData\\Local\\Packages\\PythonSoftwareFoundation.Python.3.12_qbz5n2kfra8p0\\LocalCache\\local-packages\\Python312\\site-packages\\sklearn\\manifold\\_spectral_embedding.py:329: UserWarning: Graph is not fully connected, spectral embedding may not work as expected.\n",
      "  warnings.warn(\n"
     ]
    },
    {
     "name": "stdout",
     "output_type": "stream",
     "text": [
      "Clusters salvos em clusters/Tools/umap/n_components64\\run_spectral/Tools_clusters_run_spectral_k100_n30.csv\n",
      "Executando SPECTRAL (k_values = 100, neighbor_values = 75)...\n"
     ]
    },
    {
     "name": "stderr",
     "output_type": "stream",
     "text": [
      "C:\\Users\\cruzd\\AppData\\Local\\Packages\\PythonSoftwareFoundation.Python.3.12_qbz5n2kfra8p0\\LocalCache\\local-packages\\Python312\\site-packages\\sklearn\\manifold\\_spectral_embedding.py:329: UserWarning: Graph is not fully connected, spectral embedding may not work as expected.\n",
      "  warnings.warn(\n"
     ]
    },
    {
     "name": "stdout",
     "output_type": "stream",
     "text": [
      "Clusters salvos em clusters/Tools/umap/n_components64\\run_spectral/Tools_clusters_run_spectral_k100_n75.csv\n",
      "Executando SPECTRAL (k_values = 100, neighbor_values = 100)...\n",
      "Clusters salvos em clusters/Tools/umap/n_components64\\run_spectral/Tools_clusters_run_spectral_k100_n100.csv\n",
      "Executando SPECTRAL (k_values = 100, neighbor_values = 150)...\n",
      "Clusters salvos em clusters/Tools/umap/n_components64\\run_spectral/Tools_clusters_run_spectral_k100_n150.csv\n",
      "Executando SPECTRAL (k_values = 100, neighbor_values = 200)...\n",
      "Clusters salvos em clusters/Tools/umap/n_components64\\run_spectral/Tools_clusters_run_spectral_k100_n200.csv\n",
      "Executando SPECTRAL (k_values = 300, neighbor_values = 30)...\n"
     ]
    },
    {
     "name": "stderr",
     "output_type": "stream",
     "text": [
      "C:\\Users\\cruzd\\AppData\\Local\\Packages\\PythonSoftwareFoundation.Python.3.12_qbz5n2kfra8p0\\LocalCache\\local-packages\\Python312\\site-packages\\sklearn\\manifold\\_spectral_embedding.py:329: UserWarning: Graph is not fully connected, spectral embedding may not work as expected.\n",
      "  warnings.warn(\n"
     ]
    },
    {
     "name": "stdout",
     "output_type": "stream",
     "text": [
      "Clusters salvos em clusters/Tools/umap/n_components64\\run_spectral/Tools_clusters_run_spectral_k300_n30.csv\n",
      "Executando SPECTRAL (k_values = 300, neighbor_values = 75)...\n"
     ]
    },
    {
     "name": "stderr",
     "output_type": "stream",
     "text": [
      "C:\\Users\\cruzd\\AppData\\Local\\Packages\\PythonSoftwareFoundation.Python.3.12_qbz5n2kfra8p0\\LocalCache\\local-packages\\Python312\\site-packages\\sklearn\\manifold\\_spectral_embedding.py:329: UserWarning: Graph is not fully connected, spectral embedding may not work as expected.\n",
      "  warnings.warn(\n"
     ]
    },
    {
     "name": "stdout",
     "output_type": "stream",
     "text": [
      "Clusters salvos em clusters/Tools/umap/n_components64\\run_spectral/Tools_clusters_run_spectral_k300_n75.csv\n",
      "Executando SPECTRAL (k_values = 300, neighbor_values = 100)...\n",
      "Clusters salvos em clusters/Tools/umap/n_components64\\run_spectral/Tools_clusters_run_spectral_k300_n100.csv\n",
      "Executando SPECTRAL (k_values = 300, neighbor_values = 150)...\n",
      "Clusters salvos em clusters/Tools/umap/n_components64\\run_spectral/Tools_clusters_run_spectral_k300_n150.csv\n",
      "Executando SPECTRAL (k_values = 300, neighbor_values = 200)...\n",
      "Clusters salvos em clusters/Tools/umap/n_components64\\run_spectral/Tools_clusters_run_spectral_k300_n200.csv\n",
      "Executando SPECTRAL (k_values = 450, neighbor_values = 30)...\n"
     ]
    },
    {
     "name": "stderr",
     "output_type": "stream",
     "text": [
      "C:\\Users\\cruzd\\AppData\\Local\\Packages\\PythonSoftwareFoundation.Python.3.12_qbz5n2kfra8p0\\LocalCache\\local-packages\\Python312\\site-packages\\sklearn\\manifold\\_spectral_embedding.py:329: UserWarning: Graph is not fully connected, spectral embedding may not work as expected.\n",
      "  warnings.warn(\n"
     ]
    },
    {
     "name": "stdout",
     "output_type": "stream",
     "text": [
      "Clusters salvos em clusters/Tools/umap/n_components64\\run_spectral/Tools_clusters_run_spectral_k450_n30.csv\n",
      "Executando SPECTRAL (k_values = 450, neighbor_values = 75)...\n"
     ]
    },
    {
     "name": "stderr",
     "output_type": "stream",
     "text": [
      "C:\\Users\\cruzd\\AppData\\Local\\Packages\\PythonSoftwareFoundation.Python.3.12_qbz5n2kfra8p0\\LocalCache\\local-packages\\Python312\\site-packages\\sklearn\\manifold\\_spectral_embedding.py:329: UserWarning: Graph is not fully connected, spectral embedding may not work as expected.\n",
      "  warnings.warn(\n"
     ]
    },
    {
     "name": "stdout",
     "output_type": "stream",
     "text": [
      "Clusters salvos em clusters/Tools/umap/n_components64\\run_spectral/Tools_clusters_run_spectral_k450_n75.csv\n",
      "Executando SPECTRAL (k_values = 450, neighbor_values = 100)...\n",
      "Clusters salvos em clusters/Tools/umap/n_components64\\run_spectral/Tools_clusters_run_spectral_k450_n100.csv\n",
      "Executando SPECTRAL (k_values = 450, neighbor_values = 150)...\n",
      "Clusters salvos em clusters/Tools/umap/n_components64\\run_spectral/Tools_clusters_run_spectral_k450_n150.csv\n",
      "Executando SPECTRAL (k_values = 450, neighbor_values = 200)...\n",
      "Clusters salvos em clusters/Tools/umap/n_components64\\run_spectral/Tools_clusters_run_spectral_k450_n200.csv\n",
      "Clusterização concluída e resultados salvos\n",
      "\n",
      " Embeddings reduzidos com umap e n_components 128\n",
      "Aplicando UMAP com n_components = 128...\n"
     ]
    },
    {
     "name": "stderr",
     "output_type": "stream",
     "text": [
      "C:\\Users\\cruzd\\AppData\\Local\\Packages\\PythonSoftwareFoundation.Python.3.12_qbz5n2kfra8p0\\LocalCache\\local-packages\\Python312\\site-packages\\sklearn\\utils\\deprecation.py:151: FutureWarning: 'force_all_finite' was renamed to 'ensure_all_finite' in 1.6 and will be removed in 1.8.\n",
      "  warnings.warn(\n",
      "C:\\Users\\cruzd\\AppData\\Local\\Packages\\PythonSoftwareFoundation.Python.3.12_qbz5n2kfra8p0\\LocalCache\\local-packages\\Python312\\site-packages\\umap\\umap_.py:1952: UserWarning: n_jobs value 1 overridden to 1 by setting random_state. Use no seed for parallelism.\n",
      "  warn(\n"
     ]
    },
    {
     "name": "stdout",
     "output_type": "stream",
     "text": [
      "Dimensionalidade reduzida de 1000 para 128\n",
      "Executando run_spectral...\n",
      "Executando SPECTRAL (k_values = 10, neighbor_values = 30)...\n"
     ]
    },
    {
     "name": "stderr",
     "output_type": "stream",
     "text": [
      "C:\\Users\\cruzd\\AppData\\Local\\Packages\\PythonSoftwareFoundation.Python.3.12_qbz5n2kfra8p0\\LocalCache\\local-packages\\Python312\\site-packages\\sklearn\\manifold\\_spectral_embedding.py:329: UserWarning: Graph is not fully connected, spectral embedding may not work as expected.\n",
      "  warnings.warn(\n"
     ]
    },
    {
     "name": "stdout",
     "output_type": "stream",
     "text": [
      "Clusters salvos em clusters/Tools/umap/n_components128\\run_spectral/Tools_clusters_run_spectral_k10_n30.csv\n",
      "Executando SPECTRAL (k_values = 10, neighbor_values = 75)...\n"
     ]
    },
    {
     "name": "stderr",
     "output_type": "stream",
     "text": [
      "C:\\Users\\cruzd\\AppData\\Local\\Packages\\PythonSoftwareFoundation.Python.3.12_qbz5n2kfra8p0\\LocalCache\\local-packages\\Python312\\site-packages\\sklearn\\manifold\\_spectral_embedding.py:329: UserWarning: Graph is not fully connected, spectral embedding may not work as expected.\n",
      "  warnings.warn(\n"
     ]
    },
    {
     "name": "stdout",
     "output_type": "stream",
     "text": [
      "Clusters salvos em clusters/Tools/umap/n_components128\\run_spectral/Tools_clusters_run_spectral_k10_n75.csv\n",
      "Executando SPECTRAL (k_values = 10, neighbor_values = 100)...\n",
      "Clusters salvos em clusters/Tools/umap/n_components128\\run_spectral/Tools_clusters_run_spectral_k10_n100.csv\n",
      "Executando SPECTRAL (k_values = 10, neighbor_values = 150)...\n",
      "Clusters salvos em clusters/Tools/umap/n_components128\\run_spectral/Tools_clusters_run_spectral_k10_n150.csv\n",
      "Executando SPECTRAL (k_values = 10, neighbor_values = 200)...\n",
      "Clusters salvos em clusters/Tools/umap/n_components128\\run_spectral/Tools_clusters_run_spectral_k10_n200.csv\n",
      "Executando SPECTRAL (k_values = 20, neighbor_values = 30)...\n"
     ]
    },
    {
     "name": "stderr",
     "output_type": "stream",
     "text": [
      "C:\\Users\\cruzd\\AppData\\Local\\Packages\\PythonSoftwareFoundation.Python.3.12_qbz5n2kfra8p0\\LocalCache\\local-packages\\Python312\\site-packages\\sklearn\\manifold\\_spectral_embedding.py:329: UserWarning: Graph is not fully connected, spectral embedding may not work as expected.\n",
      "  warnings.warn(\n"
     ]
    },
    {
     "name": "stdout",
     "output_type": "stream",
     "text": [
      "Clusters salvos em clusters/Tools/umap/n_components128\\run_spectral/Tools_clusters_run_spectral_k20_n30.csv\n",
      "Executando SPECTRAL (k_values = 20, neighbor_values = 75)...\n"
     ]
    },
    {
     "name": "stderr",
     "output_type": "stream",
     "text": [
      "C:\\Users\\cruzd\\AppData\\Local\\Packages\\PythonSoftwareFoundation.Python.3.12_qbz5n2kfra8p0\\LocalCache\\local-packages\\Python312\\site-packages\\sklearn\\manifold\\_spectral_embedding.py:329: UserWarning: Graph is not fully connected, spectral embedding may not work as expected.\n",
      "  warnings.warn(\n"
     ]
    },
    {
     "name": "stdout",
     "output_type": "stream",
     "text": [
      "Clusters salvos em clusters/Tools/umap/n_components128\\run_spectral/Tools_clusters_run_spectral_k20_n75.csv\n",
      "Executando SPECTRAL (k_values = 20, neighbor_values = 100)...\n",
      "Clusters salvos em clusters/Tools/umap/n_components128\\run_spectral/Tools_clusters_run_spectral_k20_n100.csv\n",
      "Executando SPECTRAL (k_values = 20, neighbor_values = 150)...\n",
      "Clusters salvos em clusters/Tools/umap/n_components128\\run_spectral/Tools_clusters_run_spectral_k20_n150.csv\n",
      "Executando SPECTRAL (k_values = 20, neighbor_values = 200)...\n",
      "Clusters salvos em clusters/Tools/umap/n_components128\\run_spectral/Tools_clusters_run_spectral_k20_n200.csv\n",
      "Executando SPECTRAL (k_values = 50, neighbor_values = 30)...\n"
     ]
    },
    {
     "name": "stderr",
     "output_type": "stream",
     "text": [
      "C:\\Users\\cruzd\\AppData\\Local\\Packages\\PythonSoftwareFoundation.Python.3.12_qbz5n2kfra8p0\\LocalCache\\local-packages\\Python312\\site-packages\\sklearn\\manifold\\_spectral_embedding.py:329: UserWarning: Graph is not fully connected, spectral embedding may not work as expected.\n",
      "  warnings.warn(\n"
     ]
    },
    {
     "name": "stdout",
     "output_type": "stream",
     "text": [
      "Clusters salvos em clusters/Tools/umap/n_components128\\run_spectral/Tools_clusters_run_spectral_k50_n30.csv\n",
      "Executando SPECTRAL (k_values = 50, neighbor_values = 75)...\n"
     ]
    },
    {
     "name": "stderr",
     "output_type": "stream",
     "text": [
      "C:\\Users\\cruzd\\AppData\\Local\\Packages\\PythonSoftwareFoundation.Python.3.12_qbz5n2kfra8p0\\LocalCache\\local-packages\\Python312\\site-packages\\sklearn\\manifold\\_spectral_embedding.py:329: UserWarning: Graph is not fully connected, spectral embedding may not work as expected.\n",
      "  warnings.warn(\n"
     ]
    },
    {
     "name": "stdout",
     "output_type": "stream",
     "text": [
      "Clusters salvos em clusters/Tools/umap/n_components128\\run_spectral/Tools_clusters_run_spectral_k50_n75.csv\n",
      "Executando SPECTRAL (k_values = 50, neighbor_values = 100)...\n",
      "Clusters salvos em clusters/Tools/umap/n_components128\\run_spectral/Tools_clusters_run_spectral_k50_n100.csv\n",
      "Executando SPECTRAL (k_values = 50, neighbor_values = 150)...\n",
      "Clusters salvos em clusters/Tools/umap/n_components128\\run_spectral/Tools_clusters_run_spectral_k50_n150.csv\n",
      "Executando SPECTRAL (k_values = 50, neighbor_values = 200)...\n",
      "Clusters salvos em clusters/Tools/umap/n_components128\\run_spectral/Tools_clusters_run_spectral_k50_n200.csv\n",
      "Executando SPECTRAL (k_values = 100, neighbor_values = 30)...\n"
     ]
    },
    {
     "name": "stderr",
     "output_type": "stream",
     "text": [
      "C:\\Users\\cruzd\\AppData\\Local\\Packages\\PythonSoftwareFoundation.Python.3.12_qbz5n2kfra8p0\\LocalCache\\local-packages\\Python312\\site-packages\\sklearn\\manifold\\_spectral_embedding.py:329: UserWarning: Graph is not fully connected, spectral embedding may not work as expected.\n",
      "  warnings.warn(\n"
     ]
    },
    {
     "name": "stdout",
     "output_type": "stream",
     "text": [
      "Clusters salvos em clusters/Tools/umap/n_components128\\run_spectral/Tools_clusters_run_spectral_k100_n30.csv\n",
      "Executando SPECTRAL (k_values = 100, neighbor_values = 75)...\n"
     ]
    },
    {
     "name": "stderr",
     "output_type": "stream",
     "text": [
      "C:\\Users\\cruzd\\AppData\\Local\\Packages\\PythonSoftwareFoundation.Python.3.12_qbz5n2kfra8p0\\LocalCache\\local-packages\\Python312\\site-packages\\sklearn\\manifold\\_spectral_embedding.py:329: UserWarning: Graph is not fully connected, spectral embedding may not work as expected.\n",
      "  warnings.warn(\n"
     ]
    },
    {
     "name": "stdout",
     "output_type": "stream",
     "text": [
      "Clusters salvos em clusters/Tools/umap/n_components128\\run_spectral/Tools_clusters_run_spectral_k100_n75.csv\n",
      "Executando SPECTRAL (k_values = 100, neighbor_values = 100)...\n",
      "Clusters salvos em clusters/Tools/umap/n_components128\\run_spectral/Tools_clusters_run_spectral_k100_n100.csv\n",
      "Executando SPECTRAL (k_values = 100, neighbor_values = 150)...\n",
      "Clusters salvos em clusters/Tools/umap/n_components128\\run_spectral/Tools_clusters_run_spectral_k100_n150.csv\n",
      "Executando SPECTRAL (k_values = 100, neighbor_values = 200)...\n",
      "Clusters salvos em clusters/Tools/umap/n_components128\\run_spectral/Tools_clusters_run_spectral_k100_n200.csv\n",
      "Executando SPECTRAL (k_values = 300, neighbor_values = 30)...\n"
     ]
    },
    {
     "name": "stderr",
     "output_type": "stream",
     "text": [
      "C:\\Users\\cruzd\\AppData\\Local\\Packages\\PythonSoftwareFoundation.Python.3.12_qbz5n2kfra8p0\\LocalCache\\local-packages\\Python312\\site-packages\\sklearn\\manifold\\_spectral_embedding.py:329: UserWarning: Graph is not fully connected, spectral embedding may not work as expected.\n",
      "  warnings.warn(\n"
     ]
    },
    {
     "name": "stdout",
     "output_type": "stream",
     "text": [
      "Clusters salvos em clusters/Tools/umap/n_components128\\run_spectral/Tools_clusters_run_spectral_k300_n30.csv\n",
      "Executando SPECTRAL (k_values = 300, neighbor_values = 75)...\n"
     ]
    },
    {
     "name": "stderr",
     "output_type": "stream",
     "text": [
      "C:\\Users\\cruzd\\AppData\\Local\\Packages\\PythonSoftwareFoundation.Python.3.12_qbz5n2kfra8p0\\LocalCache\\local-packages\\Python312\\site-packages\\sklearn\\manifold\\_spectral_embedding.py:329: UserWarning: Graph is not fully connected, spectral embedding may not work as expected.\n",
      "  warnings.warn(\n"
     ]
    },
    {
     "name": "stdout",
     "output_type": "stream",
     "text": [
      "Clusters salvos em clusters/Tools/umap/n_components128\\run_spectral/Tools_clusters_run_spectral_k300_n75.csv\n",
      "Executando SPECTRAL (k_values = 300, neighbor_values = 100)...\n",
      "Clusters salvos em clusters/Tools/umap/n_components128\\run_spectral/Tools_clusters_run_spectral_k300_n100.csv\n",
      "Executando SPECTRAL (k_values = 300, neighbor_values = 150)...\n",
      "Clusters salvos em clusters/Tools/umap/n_components128\\run_spectral/Tools_clusters_run_spectral_k300_n150.csv\n",
      "Executando SPECTRAL (k_values = 300, neighbor_values = 200)...\n",
      "Clusters salvos em clusters/Tools/umap/n_components128\\run_spectral/Tools_clusters_run_spectral_k300_n200.csv\n",
      "Executando SPECTRAL (k_values = 450, neighbor_values = 30)...\n"
     ]
    },
    {
     "name": "stderr",
     "output_type": "stream",
     "text": [
      "C:\\Users\\cruzd\\AppData\\Local\\Packages\\PythonSoftwareFoundation.Python.3.12_qbz5n2kfra8p0\\LocalCache\\local-packages\\Python312\\site-packages\\sklearn\\manifold\\_spectral_embedding.py:329: UserWarning: Graph is not fully connected, spectral embedding may not work as expected.\n",
      "  warnings.warn(\n"
     ]
    },
    {
     "name": "stdout",
     "output_type": "stream",
     "text": [
      "Clusters salvos em clusters/Tools/umap/n_components128\\run_spectral/Tools_clusters_run_spectral_k450_n30.csv\n",
      "Executando SPECTRAL (k_values = 450, neighbor_values = 75)...\n"
     ]
    },
    {
     "name": "stderr",
     "output_type": "stream",
     "text": [
      "C:\\Users\\cruzd\\AppData\\Local\\Packages\\PythonSoftwareFoundation.Python.3.12_qbz5n2kfra8p0\\LocalCache\\local-packages\\Python312\\site-packages\\sklearn\\manifold\\_spectral_embedding.py:329: UserWarning: Graph is not fully connected, spectral embedding may not work as expected.\n",
      "  warnings.warn(\n"
     ]
    },
    {
     "name": "stdout",
     "output_type": "stream",
     "text": [
      "Clusters salvos em clusters/Tools/umap/n_components128\\run_spectral/Tools_clusters_run_spectral_k450_n75.csv\n",
      "Executando SPECTRAL (k_values = 450, neighbor_values = 100)...\n",
      "Clusters salvos em clusters/Tools/umap/n_components128\\run_spectral/Tools_clusters_run_spectral_k450_n100.csv\n",
      "Executando SPECTRAL (k_values = 450, neighbor_values = 150)...\n",
      "Clusters salvos em clusters/Tools/umap/n_components128\\run_spectral/Tools_clusters_run_spectral_k450_n150.csv\n",
      "Executando SPECTRAL (k_values = 450, neighbor_values = 200)...\n",
      "Clusters salvos em clusters/Tools/umap/n_components128\\run_spectral/Tools_clusters_run_spectral_k450_n200.csv\n",
      "Clusterização concluída e resultados salvos\n",
      "\n",
      " Embeddings reduzidos com umap e n_components 256\n",
      "Aplicando UMAP com n_components = 256...\n"
     ]
    },
    {
     "name": "stderr",
     "output_type": "stream",
     "text": [
      "C:\\Users\\cruzd\\AppData\\Local\\Packages\\PythonSoftwareFoundation.Python.3.12_qbz5n2kfra8p0\\LocalCache\\local-packages\\Python312\\site-packages\\sklearn\\utils\\deprecation.py:151: FutureWarning: 'force_all_finite' was renamed to 'ensure_all_finite' in 1.6 and will be removed in 1.8.\n",
      "  warnings.warn(\n",
      "C:\\Users\\cruzd\\AppData\\Local\\Packages\\PythonSoftwareFoundation.Python.3.12_qbz5n2kfra8p0\\LocalCache\\local-packages\\Python312\\site-packages\\umap\\umap_.py:1952: UserWarning: n_jobs value 1 overridden to 1 by setting random_state. Use no seed for parallelism.\n",
      "  warn(\n"
     ]
    },
    {
     "name": "stdout",
     "output_type": "stream",
     "text": [
      "Dimensionalidade reduzida de 1000 para 256\n",
      "Executando run_spectral...\n",
      "Executando SPECTRAL (k_values = 10, neighbor_values = 30)...\n"
     ]
    },
    {
     "name": "stderr",
     "output_type": "stream",
     "text": [
      "C:\\Users\\cruzd\\AppData\\Local\\Packages\\PythonSoftwareFoundation.Python.3.12_qbz5n2kfra8p0\\LocalCache\\local-packages\\Python312\\site-packages\\sklearn\\manifold\\_spectral_embedding.py:329: UserWarning: Graph is not fully connected, spectral embedding may not work as expected.\n",
      "  warnings.warn(\n"
     ]
    },
    {
     "ename": "KeyboardInterrupt",
     "evalue": "",
     "output_type": "error",
     "traceback": [
      "\u001b[1;31m---------------------------------------------------------------------------\u001b[0m",
      "\u001b[1;31mKeyboardInterrupt\u001b[0m                         Traceback (most recent call last)",
      "Cell \u001b[1;32mIn[6], line 14\u001b[0m\n\u001b[0;32m     11\u001b[0m         output_path \u001b[38;5;241m=\u001b[39m \u001b[38;5;124mf\u001b[39m\u001b[38;5;124m'\u001b[39m\u001b[38;5;124mclusters/\u001b[39m\u001b[38;5;132;01m{\u001b[39;00mdataset\u001b[38;5;132;01m}\u001b[39;00m\u001b[38;5;124m/\u001b[39m\u001b[38;5;132;01m{\u001b[39;00mmethod_red\u001b[38;5;132;01m}\u001b[39;00m\u001b[38;5;124m/n_components\u001b[39m\u001b[38;5;132;01m{\u001b[39;00mn\u001b[38;5;132;01m}\u001b[39;00m\u001b[38;5;124m'\u001b[39m\n\u001b[0;32m     12\u001b[0m         os\u001b[38;5;241m.\u001b[39mmakedirs(output_path, exist_ok\u001b[38;5;241m=\u001b[39m\u001b[38;5;28;01mTrue\u001b[39;00m)               \n\u001b[1;32m---> 14\u001b[0m         \u001b[43mrun_spectral_combinations\u001b[49m\u001b[43m(\u001b[49m\n\u001b[0;32m     15\u001b[0m \u001b[43m            \u001b[49m\u001b[43membeddings\u001b[49m\u001b[38;5;241;43m=\u001b[39;49m\u001b[43mreduced_embeddings\u001b[49m\u001b[43m,\u001b[49m\n\u001b[0;32m     16\u001b[0m \u001b[43m            \u001b[49m\u001b[43mk_values\u001b[49m\u001b[38;5;241;43m=\u001b[39;49m\u001b[43mk_values\u001b[49m\u001b[43m,\u001b[49m\n\u001b[0;32m     17\u001b[0m \u001b[43m            \u001b[49m\u001b[43mneighbor_values\u001b[49m\u001b[38;5;241;43m=\u001b[39;49m\u001b[43mn_values\u001b[49m\u001b[43m,\u001b[49m\n\u001b[0;32m     18\u001b[0m \u001b[43m            \u001b[49m\u001b[43moutput_path\u001b[49m\u001b[38;5;241;43m=\u001b[39;49m\u001b[43moutput_path\u001b[49m\u001b[43m,\u001b[49m\n\u001b[0;32m     19\u001b[0m \u001b[43m            \u001b[49m\u001b[43mdataset_name\u001b[49m\u001b[38;5;241;43m=\u001b[39;49m\u001b[43mdataset\u001b[49m\n\u001b[0;32m     20\u001b[0m \u001b[43m        \u001b[49m\u001b[43m)\u001b[49m\n\u001b[0;32m     22\u001b[0m \u001b[38;5;28mprint\u001b[39m(\u001b[38;5;124m\"\u001b[39m\u001b[38;5;130;01m\\n\u001b[39;00m\u001b[38;5;124mTodos os testes para Spectral Clustering concluídos\u001b[39m\u001b[38;5;124m\"\u001b[39m)\n",
      "File \u001b[1;32mc:\\Users\\cruzd\\OneDrive\\Área de Trabalho\\PIBIC_RecSys\\SimRec\\SimRec\\clusters\\utils_clusters.py:176\u001b[0m, in \u001b[0;36mrun_spectral_combinations\u001b[1;34m(embeddings, k_values, neighbor_values, output_path, dataset_name)\u001b[0m\n\u001b[0;32m    174\u001b[0m \u001b[38;5;28mprint\u001b[39m(\u001b[38;5;124mf\u001b[39m\u001b[38;5;124m\"\u001b[39m\u001b[38;5;124mExecutando SPECTRAL (k_values = \u001b[39m\u001b[38;5;132;01m{\u001b[39;00mk\u001b[38;5;132;01m}\u001b[39;00m\u001b[38;5;124m, neighbor_values = \u001b[39m\u001b[38;5;132;01m{\u001b[39;00mn\u001b[38;5;132;01m}\u001b[39;00m\u001b[38;5;124m)...\u001b[39m\u001b[38;5;124m\"\u001b[39m)\n\u001b[0;32m    175\u001b[0m \u001b[38;5;28;01mtry\u001b[39;00m:\n\u001b[1;32m--> 176\u001b[0m     cluster_ids, model \u001b[38;5;241m=\u001b[39m \u001b[43mrun_spectral\u001b[49m\u001b[43m(\u001b[49m\u001b[43membeddings\u001b[49m\u001b[43m,\u001b[49m\u001b[43m \u001b[49m\u001b[43mk\u001b[49m\u001b[43m,\u001b[49m\u001b[43m \u001b[49m\u001b[43mn\u001b[49m\u001b[43m)\u001b[49m\n\u001b[0;32m    177\u001b[0m     \u001b[38;5;28;01mif\u001b[39;00m \u001b[38;5;28mlen\u001b[39m(\u001b[38;5;28mset\u001b[39m(cluster_ids)) \u001b[38;5;241m<\u001b[39m\u001b[38;5;241m=\u001b[39m \u001b[38;5;241m1\u001b[39m:\n\u001b[0;32m    178\u001b[0m         \u001b[38;5;28mprint\u001b[39m(\u001b[38;5;124mf\u001b[39m\u001b[38;5;124m\"\u001b[39m\u001b[38;5;124mSPECTRAL (k_values = \u001b[39m\u001b[38;5;132;01m{\u001b[39;00mk\u001b[38;5;132;01m}\u001b[39;00m\u001b[38;5;124m, neighbor_values = \u001b[39m\u001b[38;5;132;01m{\u001b[39;00mn\u001b[38;5;132;01m}\u001b[39;00m\u001b[38;5;124m) gerou apenas um cluster ou ruído. Ignorado.\u001b[39m\u001b[38;5;124m\"\u001b[39m)\n",
      "File \u001b[1;32mc:\\Users\\cruzd\\OneDrive\\Área de Trabalho\\PIBIC_RecSys\\SimRec\\SimRec\\clusters\\clusters.py:66\u001b[0m, in \u001b[0;36mrun_spectral\u001b[1;34m(embeddings, n_clusters, n_neighbors)\u001b[0m\n\u001b[0;32m     64\u001b[0m \u001b[38;5;28;01mdef\u001b[39;00m \u001b[38;5;21mrun_spectral\u001b[39m(embeddings, n_clusters, n_neighbors):\n\u001b[0;32m     65\u001b[0m     spectral \u001b[38;5;241m=\u001b[39m SpectralClustering(n_clusters\u001b[38;5;241m=\u001b[39mn_clusters, affinity\u001b[38;5;241m=\u001b[39m\u001b[38;5;124m'\u001b[39m\u001b[38;5;124mnearest_neighbors\u001b[39m\u001b[38;5;124m'\u001b[39m, assign_labels\u001b[38;5;241m=\u001b[39m\u001b[38;5;124m'\u001b[39m\u001b[38;5;124mkmeans\u001b[39m\u001b[38;5;124m'\u001b[39m, n_neighbors\u001b[38;5;241m=\u001b[39mn_neighbors)\n\u001b[1;32m---> 66\u001b[0m     cluster_ids \u001b[38;5;241m=\u001b[39m \u001b[43mspectral\u001b[49m\u001b[38;5;241;43m.\u001b[39;49m\u001b[43mfit_predict\u001b[49m\u001b[43m(\u001b[49m\u001b[43membeddings\u001b[49m\u001b[43m)\u001b[49m\n\u001b[0;32m     67\u001b[0m     \u001b[38;5;28;01mreturn\u001b[39;00m cluster_ids, spectral\n",
      "File \u001b[1;32m~\\AppData\\Local\\Packages\\PythonSoftwareFoundation.Python.3.12_qbz5n2kfra8p0\\LocalCache\\local-packages\\Python312\\site-packages\\sklearn\\cluster\\_spectral.py:793\u001b[0m, in \u001b[0;36mSpectralClustering.fit_predict\u001b[1;34m(self, X, y)\u001b[0m\n\u001b[0;32m    771\u001b[0m \u001b[38;5;28;01mdef\u001b[39;00m \u001b[38;5;21mfit_predict\u001b[39m(\u001b[38;5;28mself\u001b[39m, X, y\u001b[38;5;241m=\u001b[39m\u001b[38;5;28;01mNone\u001b[39;00m):\n\u001b[0;32m    772\u001b[0m \u001b[38;5;250m    \u001b[39m\u001b[38;5;124;03m\"\"\"Perform spectral clustering on `X` and return cluster labels.\u001b[39;00m\n\u001b[0;32m    773\u001b[0m \n\u001b[0;32m    774\u001b[0m \u001b[38;5;124;03m    Parameters\u001b[39;00m\n\u001b[1;32m   (...)\u001b[0m\n\u001b[0;32m    791\u001b[0m \u001b[38;5;124;03m        Cluster labels.\u001b[39;00m\n\u001b[0;32m    792\u001b[0m \u001b[38;5;124;03m    \"\"\"\u001b[39;00m\n\u001b[1;32m--> 793\u001b[0m     \u001b[38;5;28;01mreturn\u001b[39;00m \u001b[38;5;28;43msuper\u001b[39;49m\u001b[43m(\u001b[49m\u001b[43m)\u001b[49m\u001b[38;5;241;43m.\u001b[39;49m\u001b[43mfit_predict\u001b[49m\u001b[43m(\u001b[49m\u001b[43mX\u001b[49m\u001b[43m,\u001b[49m\u001b[43m \u001b[49m\u001b[43my\u001b[49m\u001b[43m)\u001b[49m\n",
      "File \u001b[1;32m~\\AppData\\Local\\Packages\\PythonSoftwareFoundation.Python.3.12_qbz5n2kfra8p0\\LocalCache\\local-packages\\Python312\\site-packages\\sklearn\\base.py:719\u001b[0m, in \u001b[0;36mClusterMixin.fit_predict\u001b[1;34m(self, X, y, **kwargs)\u001b[0m\n\u001b[0;32m    696\u001b[0m \u001b[38;5;250m\u001b[39m\u001b[38;5;124;03m\"\"\"\u001b[39;00m\n\u001b[0;32m    697\u001b[0m \u001b[38;5;124;03mPerform clustering on `X` and returns cluster labels.\u001b[39;00m\n\u001b[0;32m    698\u001b[0m \n\u001b[1;32m   (...)\u001b[0m\n\u001b[0;32m    715\u001b[0m \u001b[38;5;124;03m    Cluster labels.\u001b[39;00m\n\u001b[0;32m    716\u001b[0m \u001b[38;5;124;03m\"\"\"\u001b[39;00m\n\u001b[0;32m    717\u001b[0m \u001b[38;5;66;03m# non-optimized default implementation; override when a better\u001b[39;00m\n\u001b[0;32m    718\u001b[0m \u001b[38;5;66;03m# method is possible for a given clustering algorithm\u001b[39;00m\n\u001b[1;32m--> 719\u001b[0m \u001b[38;5;28;43mself\u001b[39;49m\u001b[38;5;241;43m.\u001b[39;49m\u001b[43mfit\u001b[49m\u001b[43m(\u001b[49m\u001b[43mX\u001b[49m\u001b[43m,\u001b[49m\u001b[43m \u001b[49m\u001b[38;5;241;43m*\u001b[39;49m\u001b[38;5;241;43m*\u001b[39;49m\u001b[43mkwargs\u001b[49m\u001b[43m)\u001b[49m\n\u001b[0;32m    720\u001b[0m \u001b[38;5;28;01mreturn\u001b[39;00m \u001b[38;5;28mself\u001b[39m\u001b[38;5;241m.\u001b[39mlabels_\n",
      "File \u001b[1;32m~\\AppData\\Local\\Packages\\PythonSoftwareFoundation.Python.3.12_qbz5n2kfra8p0\\LocalCache\\local-packages\\Python312\\site-packages\\sklearn\\base.py:1389\u001b[0m, in \u001b[0;36m_fit_context.<locals>.decorator.<locals>.wrapper\u001b[1;34m(estimator, *args, **kwargs)\u001b[0m\n\u001b[0;32m   1382\u001b[0m     estimator\u001b[38;5;241m.\u001b[39m_validate_params()\n\u001b[0;32m   1384\u001b[0m \u001b[38;5;28;01mwith\u001b[39;00m config_context(\n\u001b[0;32m   1385\u001b[0m     skip_parameter_validation\u001b[38;5;241m=\u001b[39m(\n\u001b[0;32m   1386\u001b[0m         prefer_skip_nested_validation \u001b[38;5;129;01mor\u001b[39;00m global_skip_validation\n\u001b[0;32m   1387\u001b[0m     )\n\u001b[0;32m   1388\u001b[0m ):\n\u001b[1;32m-> 1389\u001b[0m     \u001b[38;5;28;01mreturn\u001b[39;00m \u001b[43mfit_method\u001b[49m\u001b[43m(\u001b[49m\u001b[43mestimator\u001b[49m\u001b[43m,\u001b[49m\u001b[43m \u001b[49m\u001b[38;5;241;43m*\u001b[39;49m\u001b[43margs\u001b[49m\u001b[43m,\u001b[49m\u001b[43m \u001b[49m\u001b[38;5;241;43m*\u001b[39;49m\u001b[38;5;241;43m*\u001b[39;49m\u001b[43mkwargs\u001b[49m\u001b[43m)\u001b[49m\n",
      "File \u001b[1;32m~\\AppData\\Local\\Packages\\PythonSoftwareFoundation.Python.3.12_qbz5n2kfra8p0\\LocalCache\\local-packages\\Python312\\site-packages\\sklearn\\cluster\\_spectral.py:745\u001b[0m, in \u001b[0;36mSpectralClustering.fit\u001b[1;34m(self, X, y)\u001b[0m\n\u001b[0;32m    736\u001b[0m n_components \u001b[38;5;241m=\u001b[39m (\n\u001b[0;32m    737\u001b[0m     \u001b[38;5;28mself\u001b[39m\u001b[38;5;241m.\u001b[39mn_clusters \u001b[38;5;28;01mif\u001b[39;00m \u001b[38;5;28mself\u001b[39m\u001b[38;5;241m.\u001b[39mn_components \u001b[38;5;129;01mis\u001b[39;00m \u001b[38;5;28;01mNone\u001b[39;00m \u001b[38;5;28;01melse\u001b[39;00m \u001b[38;5;28mself\u001b[39m\u001b[38;5;241m.\u001b[39mn_components\n\u001b[0;32m    738\u001b[0m )\n\u001b[0;32m    739\u001b[0m \u001b[38;5;66;03m# We now obtain the real valued solution matrix to the\u001b[39;00m\n\u001b[0;32m    740\u001b[0m \u001b[38;5;66;03m# relaxed Ncut problem, solving the eigenvalue problem\u001b[39;00m\n\u001b[0;32m    741\u001b[0m \u001b[38;5;66;03m# L_sym x = lambda x  and recovering u = D^-1/2 x.\u001b[39;00m\n\u001b[0;32m    742\u001b[0m \u001b[38;5;66;03m# The first eigenvector is constant only for fully connected graphs\u001b[39;00m\n\u001b[0;32m    743\u001b[0m \u001b[38;5;66;03m# and should be kept for spectral clustering (drop_first = False)\u001b[39;00m\n\u001b[0;32m    744\u001b[0m \u001b[38;5;66;03m# See spectral_embedding documentation.\u001b[39;00m\n\u001b[1;32m--> 745\u001b[0m maps \u001b[38;5;241m=\u001b[39m \u001b[43m_spectral_embedding\u001b[49m\u001b[43m(\u001b[49m\n\u001b[0;32m    746\u001b[0m \u001b[43m    \u001b[49m\u001b[38;5;28;43mself\u001b[39;49m\u001b[38;5;241;43m.\u001b[39;49m\u001b[43maffinity_matrix_\u001b[49m\u001b[43m,\u001b[49m\n\u001b[0;32m    747\u001b[0m \u001b[43m    \u001b[49m\u001b[43mn_components\u001b[49m\u001b[38;5;241;43m=\u001b[39;49m\u001b[43mn_components\u001b[49m\u001b[43m,\u001b[49m\n\u001b[0;32m    748\u001b[0m \u001b[43m    \u001b[49m\u001b[43meigen_solver\u001b[49m\u001b[38;5;241;43m=\u001b[39;49m\u001b[38;5;28;43mself\u001b[39;49m\u001b[38;5;241;43m.\u001b[39;49m\u001b[43meigen_solver\u001b[49m\u001b[43m,\u001b[49m\n\u001b[0;32m    749\u001b[0m \u001b[43m    \u001b[49m\u001b[43mrandom_state\u001b[49m\u001b[38;5;241;43m=\u001b[39;49m\u001b[43mrandom_state\u001b[49m\u001b[43m,\u001b[49m\n\u001b[0;32m    750\u001b[0m \u001b[43m    \u001b[49m\u001b[43meigen_tol\u001b[49m\u001b[38;5;241;43m=\u001b[39;49m\u001b[38;5;28;43mself\u001b[39;49m\u001b[38;5;241;43m.\u001b[39;49m\u001b[43meigen_tol\u001b[49m\u001b[43m,\u001b[49m\n\u001b[0;32m    751\u001b[0m \u001b[43m    \u001b[49m\u001b[43mdrop_first\u001b[49m\u001b[38;5;241;43m=\u001b[39;49m\u001b[38;5;28;43;01mFalse\u001b[39;49;00m\u001b[43m,\u001b[49m\n\u001b[0;32m    752\u001b[0m \u001b[43m\u001b[49m\u001b[43m)\u001b[49m\n\u001b[0;32m    753\u001b[0m \u001b[38;5;28;01mif\u001b[39;00m \u001b[38;5;28mself\u001b[39m\u001b[38;5;241m.\u001b[39mverbose:\n\u001b[0;32m    754\u001b[0m     \u001b[38;5;28mprint\u001b[39m(\u001b[38;5;124mf\u001b[39m\u001b[38;5;124m\"\u001b[39m\u001b[38;5;124mComputing label assignment using \u001b[39m\u001b[38;5;132;01m{\u001b[39;00m\u001b[38;5;28mself\u001b[39m\u001b[38;5;241m.\u001b[39massign_labels\u001b[38;5;132;01m}\u001b[39;00m\u001b[38;5;124m\"\u001b[39m)\n",
      "File \u001b[1;32m~\\AppData\\Local\\Packages\\PythonSoftwareFoundation.Python.3.12_qbz5n2kfra8p0\\LocalCache\\local-packages\\Python312\\site-packages\\sklearn\\manifold\\_spectral_embedding.py:372\u001b[0m, in \u001b[0;36m_spectral_embedding\u001b[1;34m(adjacency, n_components, eigen_solver, random_state, eigen_tol, norm_laplacian, drop_first)\u001b[0m\n\u001b[0;32m    368\u001b[0m v0 \u001b[38;5;241m=\u001b[39m _init_arpack_v0(laplacian\u001b[38;5;241m.\u001b[39mshape[\u001b[38;5;241m0\u001b[39m], random_state)\n\u001b[0;32m    369\u001b[0m laplacian \u001b[38;5;241m=\u001b[39m check_array(\n\u001b[0;32m    370\u001b[0m     laplacian, accept_sparse\u001b[38;5;241m=\u001b[39m\u001b[38;5;124m\"\u001b[39m\u001b[38;5;124mcsr\u001b[39m\u001b[38;5;124m\"\u001b[39m, accept_large_sparse\u001b[38;5;241m=\u001b[39m\u001b[38;5;28;01mFalse\u001b[39;00m\n\u001b[0;32m    371\u001b[0m )\n\u001b[1;32m--> 372\u001b[0m _, diffusion_map \u001b[38;5;241m=\u001b[39m \u001b[43meigsh\u001b[49m\u001b[43m(\u001b[49m\n\u001b[0;32m    373\u001b[0m \u001b[43m    \u001b[49m\u001b[43mlaplacian\u001b[49m\u001b[43m,\u001b[49m\u001b[43m \u001b[49m\u001b[43mk\u001b[49m\u001b[38;5;241;43m=\u001b[39;49m\u001b[43mn_components\u001b[49m\u001b[43m,\u001b[49m\u001b[43m \u001b[49m\u001b[43msigma\u001b[49m\u001b[38;5;241;43m=\u001b[39;49m\u001b[38;5;241;43m1.0\u001b[39;49m\u001b[43m,\u001b[49m\u001b[43m \u001b[49m\u001b[43mwhich\u001b[49m\u001b[38;5;241;43m=\u001b[39;49m\u001b[38;5;124;43m\"\u001b[39;49m\u001b[38;5;124;43mLM\u001b[39;49m\u001b[38;5;124;43m\"\u001b[39;49m\u001b[43m,\u001b[49m\u001b[43m \u001b[49m\u001b[43mtol\u001b[49m\u001b[38;5;241;43m=\u001b[39;49m\u001b[43mtol\u001b[49m\u001b[43m,\u001b[49m\u001b[43m \u001b[49m\u001b[43mv0\u001b[49m\u001b[38;5;241;43m=\u001b[39;49m\u001b[43mv0\u001b[49m\n\u001b[0;32m    374\u001b[0m \u001b[43m\u001b[49m\u001b[43m)\u001b[49m\n\u001b[0;32m    375\u001b[0m embedding \u001b[38;5;241m=\u001b[39m diffusion_map\u001b[38;5;241m.\u001b[39mT[n_components::\u001b[38;5;241m-\u001b[39m\u001b[38;5;241m1\u001b[39m]\n\u001b[0;32m    376\u001b[0m \u001b[38;5;28;01mif\u001b[39;00m norm_laplacian:\n\u001b[0;32m    377\u001b[0m     \u001b[38;5;66;03m# recover u = D^-1/2 x from the eigenvector output x\u001b[39;00m\n",
      "File \u001b[1;32m~\\AppData\\Local\\Packages\\PythonSoftwareFoundation.Python.3.12_qbz5n2kfra8p0\\LocalCache\\local-packages\\Python312\\site-packages\\scipy\\sparse\\linalg\\_eigen\\arpack\\arpack.py:1700\u001b[0m, in \u001b[0;36meigsh\u001b[1;34m(A, k, M, sigma, which, v0, ncv, maxiter, tol, return_eigenvectors, Minv, OPinv, mode)\u001b[0m\n\u001b[0;32m   1698\u001b[0m \u001b[38;5;28;01mwith\u001b[39;00m _ARPACK_LOCK:\n\u001b[0;32m   1699\u001b[0m     \u001b[38;5;28;01mwhile\u001b[39;00m \u001b[38;5;129;01mnot\u001b[39;00m params\u001b[38;5;241m.\u001b[39mconverged:\n\u001b[1;32m-> 1700\u001b[0m         \u001b[43mparams\u001b[49m\u001b[38;5;241;43m.\u001b[39;49m\u001b[43miterate\u001b[49m\u001b[43m(\u001b[49m\u001b[43m)\u001b[49m\n\u001b[0;32m   1702\u001b[0m     \u001b[38;5;28;01mreturn\u001b[39;00m params\u001b[38;5;241m.\u001b[39mextract(return_eigenvectors)\n",
      "File \u001b[1;32m~\\AppData\\Local\\Packages\\PythonSoftwareFoundation.Python.3.12_qbz5n2kfra8p0\\LocalCache\\local-packages\\Python312\\site-packages\\scipy\\sparse\\linalg\\_eigen\\arpack\\arpack.py:560\u001b[0m, in \u001b[0;36m_SymmetricArpackParams.iterate\u001b[1;34m(self)\u001b[0m\n\u001b[0;32m    558\u001b[0m     \u001b[38;5;28;01melse\u001b[39;00m:\n\u001b[0;32m    559\u001b[0m         Bxslice \u001b[38;5;241m=\u001b[39m \u001b[38;5;28mslice\u001b[39m(\u001b[38;5;28mself\u001b[39m\u001b[38;5;241m.\u001b[39mipntr[\u001b[38;5;241m2\u001b[39m] \u001b[38;5;241m-\u001b[39m \u001b[38;5;241m1\u001b[39m, \u001b[38;5;28mself\u001b[39m\u001b[38;5;241m.\u001b[39mipntr[\u001b[38;5;241m2\u001b[39m] \u001b[38;5;241m-\u001b[39m \u001b[38;5;241m1\u001b[39m \u001b[38;5;241m+\u001b[39m \u001b[38;5;28mself\u001b[39m\u001b[38;5;241m.\u001b[39mn)\n\u001b[1;32m--> 560\u001b[0m         \u001b[38;5;28mself\u001b[39m\u001b[38;5;241m.\u001b[39mworkd[yslice] \u001b[38;5;241m=\u001b[39m \u001b[38;5;28;43mself\u001b[39;49m\u001b[38;5;241;43m.\u001b[39;49m\u001b[43mOPa\u001b[49m\u001b[43m(\u001b[49m\u001b[38;5;28;43mself\u001b[39;49m\u001b[38;5;241;43m.\u001b[39;49m\u001b[43mworkd\u001b[49m\u001b[43m[\u001b[49m\u001b[43mBxslice\u001b[49m\u001b[43m]\u001b[49m\u001b[43m)\u001b[49m\n\u001b[0;32m    561\u001b[0m \u001b[38;5;28;01melif\u001b[39;00m \u001b[38;5;28mself\u001b[39m\u001b[38;5;241m.\u001b[39mido \u001b[38;5;241m==\u001b[39m \u001b[38;5;241m2\u001b[39m:\n\u001b[0;32m    562\u001b[0m     \u001b[38;5;28mself\u001b[39m\u001b[38;5;241m.\u001b[39mworkd[yslice] \u001b[38;5;241m=\u001b[39m \u001b[38;5;28mself\u001b[39m\u001b[38;5;241m.\u001b[39mB(\u001b[38;5;28mself\u001b[39m\u001b[38;5;241m.\u001b[39mworkd[xslice])\n",
      "File \u001b[1;32m~\\AppData\\Local\\Packages\\PythonSoftwareFoundation.Python.3.12_qbz5n2kfra8p0\\LocalCache\\local-packages\\Python312\\site-packages\\scipy\\sparse\\linalg\\_interface.py:236\u001b[0m, in \u001b[0;36mLinearOperator.matvec\u001b[1;34m(self, x)\u001b[0m\n\u001b[0;32m    233\u001b[0m \u001b[38;5;28;01mif\u001b[39;00m x\u001b[38;5;241m.\u001b[39mshape \u001b[38;5;241m!=\u001b[39m (N,) \u001b[38;5;129;01mand\u001b[39;00m x\u001b[38;5;241m.\u001b[39mshape \u001b[38;5;241m!=\u001b[39m (N,\u001b[38;5;241m1\u001b[39m):\n\u001b[0;32m    234\u001b[0m     \u001b[38;5;28;01mraise\u001b[39;00m \u001b[38;5;167;01mValueError\u001b[39;00m(\u001b[38;5;124m'\u001b[39m\u001b[38;5;124mdimension mismatch\u001b[39m\u001b[38;5;124m'\u001b[39m)\n\u001b[1;32m--> 236\u001b[0m y \u001b[38;5;241m=\u001b[39m \u001b[38;5;28;43mself\u001b[39;49m\u001b[38;5;241;43m.\u001b[39;49m\u001b[43m_matvec\u001b[49m\u001b[43m(\u001b[49m\u001b[43mx\u001b[49m\u001b[43m)\u001b[49m\n\u001b[0;32m    238\u001b[0m \u001b[38;5;28;01mif\u001b[39;00m \u001b[38;5;28misinstance\u001b[39m(x, np\u001b[38;5;241m.\u001b[39mmatrix):\n\u001b[0;32m    239\u001b[0m     y \u001b[38;5;241m=\u001b[39m asmatrix(y)\n",
      "File \u001b[1;32m~\\AppData\\Local\\Packages\\PythonSoftwareFoundation.Python.3.12_qbz5n2kfra8p0\\LocalCache\\local-packages\\Python312\\site-packages\\scipy\\sparse\\linalg\\_eigen\\arpack\\arpack.py:931\u001b[0m, in \u001b[0;36mSpLuInv._matvec\u001b[1;34m(self, x)\u001b[0m\n\u001b[0;32m    928\u001b[0m     \u001b[38;5;28;01mreturn\u001b[39;00m (\u001b[38;5;28mself\u001b[39m\u001b[38;5;241m.\u001b[39mM_lu\u001b[38;5;241m.\u001b[39msolve(np\u001b[38;5;241m.\u001b[39mreal(x)\u001b[38;5;241m.\u001b[39mastype(\u001b[38;5;28mself\u001b[39m\u001b[38;5;241m.\u001b[39mdtype))\n\u001b[0;32m    929\u001b[0m             \u001b[38;5;241m+\u001b[39m \u001b[38;5;241m1\u001b[39mj \u001b[38;5;241m*\u001b[39m \u001b[38;5;28mself\u001b[39m\u001b[38;5;241m.\u001b[39mM_lu\u001b[38;5;241m.\u001b[39msolve(np\u001b[38;5;241m.\u001b[39mimag(x)\u001b[38;5;241m.\u001b[39mastype(\u001b[38;5;28mself\u001b[39m\u001b[38;5;241m.\u001b[39mdtype)))\n\u001b[0;32m    930\u001b[0m \u001b[38;5;28;01melse\u001b[39;00m:\n\u001b[1;32m--> 931\u001b[0m     \u001b[38;5;28;01mreturn\u001b[39;00m \u001b[38;5;28;43mself\u001b[39;49m\u001b[38;5;241;43m.\u001b[39;49m\u001b[43mM_lu\u001b[49m\u001b[38;5;241;43m.\u001b[39;49m\u001b[43msolve\u001b[49m\u001b[43m(\u001b[49m\u001b[43mx\u001b[49m\u001b[38;5;241;43m.\u001b[39;49m\u001b[43mastype\u001b[49m\u001b[43m(\u001b[49m\u001b[38;5;28;43mself\u001b[39;49m\u001b[38;5;241;43m.\u001b[39;49m\u001b[43mdtype\u001b[49m\u001b[43m)\u001b[49m\u001b[43m)\u001b[49m\n",
      "\u001b[1;31mKeyboardInterrupt\u001b[0m: "
     ]
    }
   ],
   "source": [
    "k_values = [10, 20, 50, 100, 300, 450]\n",
    "n_values = [30, 75, 100, 150, 200]   \n",
    "\n",
    "print('Testes para Spectral Clustering')\n",
    "for method_red in methods_reducing:\n",
    "    for n in n_components:\n",
    "        print(f'\\n Embeddings reduzidos com {method_red} e n_components {n}')\n",
    "        reduced_embeddings = dimensionality_reduction(embeddings=embeddings, method=method_red, n_components=n)\n",
    "        if not isinstance(reduced_embeddings, torch.Tensor):\n",
    "            reduced_embeddings = torch.tensor(reduced_embeddings, dtype=torch.float32)\n",
    "        output_path = f'clusters/{dataset}/{method_red}/n_components{n}'\n",
    "        os.makedirs(output_path, exist_ok=True)               \n",
    "\n",
    "        run_spectral_combinations(\n",
    "            embeddings=reduced_embeddings,\n",
    "            k_values=k_values,\n",
    "            neighbor_values=n_values,\n",
    "            output_path=output_path,\n",
    "            dataset_name=dataset\n",
    "        )\n",
    "\n",
    "print(\"\\nTodos os testes para Spectral Clustering concluídos\")"
   ]
  },
  {
   "cell_type": "code",
   "execution_count": null,
   "id": "3a43b167",
   "metadata": {},
   "outputs": [
    {
     "name": "stdout",
     "output_type": "stream",
     "text": [
      "Testes para DBSCAN Clustering\n",
      "\n",
      " Embeddings reduzidos com umap e n_components 8\n",
      "Aplicando UMAP com n_components = 8...\n"
     ]
    },
    {
     "name": "stderr",
     "output_type": "stream",
     "text": [
      "C:\\Users\\cruzd\\AppData\\Local\\Packages\\PythonSoftwareFoundation.Python.3.12_qbz5n2kfra8p0\\LocalCache\\local-packages\\Python312\\site-packages\\sklearn\\utils\\deprecation.py:151: FutureWarning: 'force_all_finite' was renamed to 'ensure_all_finite' in 1.6 and will be removed in 1.8.\n",
      "  warnings.warn(\n",
      "C:\\Users\\cruzd\\AppData\\Local\\Packages\\PythonSoftwareFoundation.Python.3.12_qbz5n2kfra8p0\\LocalCache\\local-packages\\Python312\\site-packages\\umap\\umap_.py:1952: UserWarning: n_jobs value 1 overridden to 1 by setting random_state. Use no seed for parallelism.\n",
      "  warn(\n"
     ]
    },
    {
     "name": "stdout",
     "output_type": "stream",
     "text": [
      "Dimensionalidade reduzida de 1000 para 8\n",
      "Executando run_dbscan...\n",
      "DBSCAN - eps = 0.05, min_samples = 10\n",
      "Clusters salvos em clusters/Tools/umap/n_components8\\run_dbscan/Tools_clusters_run_dbscan_eps0.05_min10.csv\n",
      "DBSCAN - eps = 0.05, min_samples = 20\n",
      "Clusters salvos em clusters/Tools/umap/n_components8\\run_dbscan/Tools_clusters_run_dbscan_eps0.05_min20.csv\n",
      "DBSCAN - eps = 0.05, min_samples = 50\n",
      "DBSCAN (eps=0.05, min_samples=50) gerou 1 cluster ou só ruído, ignorado.\n",
      "DBSCAN - eps = 0.05, min_samples = 100\n",
      "DBSCAN (eps=0.05, min_samples=100) gerou 1 cluster ou só ruído, ignorado.\n",
      "DBSCAN - eps = 0.05, min_samples = 200\n",
      "DBSCAN (eps=0.05, min_samples=200) gerou 1 cluster ou só ruído, ignorado.\n",
      "DBSCAN - eps = 0.1, min_samples = 10\n",
      "Clusters salvos em clusters/Tools/umap/n_components8\\run_dbscan/Tools_clusters_run_dbscan_eps0.1_min10.csv\n",
      "DBSCAN - eps = 0.1, min_samples = 20\n",
      "Clusters salvos em clusters/Tools/umap/n_components8\\run_dbscan/Tools_clusters_run_dbscan_eps0.1_min20.csv\n",
      "DBSCAN - eps = 0.1, min_samples = 50\n",
      "DBSCAN (eps=0.1, min_samples=50) gerou 1 cluster ou só ruído, ignorado.\n",
      "DBSCAN - eps = 0.1, min_samples = 100\n",
      "DBSCAN (eps=0.1, min_samples=100) gerou 1 cluster ou só ruído, ignorado.\n",
      "DBSCAN - eps = 0.1, min_samples = 200\n",
      "DBSCAN (eps=0.1, min_samples=200) gerou 1 cluster ou só ruído, ignorado.\n",
      "DBSCAN - eps = 0.2, min_samples = 10\n",
      "Clusters salvos em clusters/Tools/umap/n_components8\\run_dbscan/Tools_clusters_run_dbscan_eps0.2_min10.csv\n",
      "DBSCAN - eps = 0.2, min_samples = 20\n",
      "Clusters salvos em clusters/Tools/umap/n_components8\\run_dbscan/Tools_clusters_run_dbscan_eps0.2_min20.csv\n",
      "DBSCAN - eps = 0.2, min_samples = 50\n",
      "Clusters salvos em clusters/Tools/umap/n_components8\\run_dbscan/Tools_clusters_run_dbscan_eps0.2_min50.csv\n",
      "DBSCAN - eps = 0.2, min_samples = 100\n",
      "DBSCAN (eps=0.2, min_samples=100) gerou 1 cluster ou só ruído, ignorado.\n",
      "DBSCAN - eps = 0.2, min_samples = 200\n",
      "DBSCAN (eps=0.2, min_samples=200) gerou 1 cluster ou só ruído, ignorado.\n",
      "DBSCAN - eps = 0.6, min_samples = 10\n",
      "Clusters salvos em clusters/Tools/umap/n_components8\\run_dbscan/Tools_clusters_run_dbscan_eps0.6_min10.csv\n",
      "DBSCAN - eps = 0.6, min_samples = 20\n",
      "Clusters salvos em clusters/Tools/umap/n_components8\\run_dbscan/Tools_clusters_run_dbscan_eps0.6_min20.csv\n",
      "DBSCAN - eps = 0.6, min_samples = 50\n",
      "Clusters salvos em clusters/Tools/umap/n_components8\\run_dbscan/Tools_clusters_run_dbscan_eps0.6_min50.csv\n",
      "DBSCAN - eps = 0.6, min_samples = 100\n",
      "Clusters salvos em clusters/Tools/umap/n_components8\\run_dbscan/Tools_clusters_run_dbscan_eps0.6_min100.csv\n",
      "DBSCAN - eps = 0.6, min_samples = 200\n",
      "Clusters salvos em clusters/Tools/umap/n_components8\\run_dbscan/Tools_clusters_run_dbscan_eps0.6_min200.csv\n",
      "DBSCAN - eps = 1.0, min_samples = 10\n",
      "Clusters salvos em clusters/Tools/umap/n_components8\\run_dbscan/Tools_clusters_run_dbscan_eps1.0_min10.csv\n",
      "DBSCAN - eps = 1.0, min_samples = 20\n",
      "Clusters salvos em clusters/Tools/umap/n_components8\\run_dbscan/Tools_clusters_run_dbscan_eps1.0_min20.csv\n",
      "DBSCAN - eps = 1.0, min_samples = 50\n",
      "Clusters salvos em clusters/Tools/umap/n_components8\\run_dbscan/Tools_clusters_run_dbscan_eps1.0_min50.csv\n",
      "DBSCAN - eps = 1.0, min_samples = 100\n",
      "DBSCAN (eps=1.0, min_samples=100) gerou 1 cluster ou só ruído, ignorado.\n",
      "DBSCAN - eps = 1.0, min_samples = 200\n",
      "DBSCAN (eps=1.0, min_samples=200) gerou 1 cluster ou só ruído, ignorado.\n",
      "Clusterização concluída e resultados salvos\n",
      "\n",
      " Embeddings reduzidos com umap e n_components 32\n",
      "Aplicando UMAP com n_components = 32...\n"
     ]
    },
    {
     "name": "stderr",
     "output_type": "stream",
     "text": [
      "C:\\Users\\cruzd\\AppData\\Local\\Packages\\PythonSoftwareFoundation.Python.3.12_qbz5n2kfra8p0\\LocalCache\\local-packages\\Python312\\site-packages\\sklearn\\utils\\deprecation.py:151: FutureWarning: 'force_all_finite' was renamed to 'ensure_all_finite' in 1.6 and will be removed in 1.8.\n",
      "  warnings.warn(\n",
      "C:\\Users\\cruzd\\AppData\\Local\\Packages\\PythonSoftwareFoundation.Python.3.12_qbz5n2kfra8p0\\LocalCache\\local-packages\\Python312\\site-packages\\umap\\umap_.py:1952: UserWarning: n_jobs value 1 overridden to 1 by setting random_state. Use no seed for parallelism.\n",
      "  warn(\n"
     ]
    },
    {
     "name": "stdout",
     "output_type": "stream",
     "text": [
      "Dimensionalidade reduzida de 1000 para 32\n",
      "Executando run_dbscan...\n",
      "DBSCAN - eps = 0.05, min_samples = 10\n",
      "Clusters salvos em clusters/Tools/umap/n_components32\\run_dbscan/Tools_clusters_run_dbscan_eps0.05_min10.csv\n",
      "DBSCAN - eps = 0.05, min_samples = 20\n",
      "Clusters salvos em clusters/Tools/umap/n_components32\\run_dbscan/Tools_clusters_run_dbscan_eps0.05_min20.csv\n",
      "DBSCAN - eps = 0.05, min_samples = 50\n",
      "DBSCAN (eps=0.05, min_samples=50) gerou 1 cluster ou só ruído, ignorado.\n",
      "DBSCAN - eps = 0.05, min_samples = 100\n",
      "DBSCAN (eps=0.05, min_samples=100) gerou 1 cluster ou só ruído, ignorado.\n",
      "DBSCAN - eps = 0.05, min_samples = 200\n",
      "DBSCAN (eps=0.05, min_samples=200) gerou 1 cluster ou só ruído, ignorado.\n",
      "DBSCAN - eps = 0.1, min_samples = 10\n",
      "Clusters salvos em clusters/Tools/umap/n_components32\\run_dbscan/Tools_clusters_run_dbscan_eps0.1_min10.csv\n",
      "DBSCAN - eps = 0.1, min_samples = 20\n",
      "Clusters salvos em clusters/Tools/umap/n_components32\\run_dbscan/Tools_clusters_run_dbscan_eps0.1_min20.csv\n",
      "DBSCAN - eps = 0.1, min_samples = 50\n",
      "DBSCAN (eps=0.1, min_samples=50) gerou 1 cluster ou só ruído, ignorado.\n",
      "DBSCAN - eps = 0.1, min_samples = 100\n",
      "DBSCAN (eps=0.1, min_samples=100) gerou 1 cluster ou só ruído, ignorado.\n",
      "DBSCAN - eps = 0.1, min_samples = 200\n",
      "DBSCAN (eps=0.1, min_samples=200) gerou 1 cluster ou só ruído, ignorado.\n",
      "DBSCAN - eps = 0.2, min_samples = 10\n",
      "Clusters salvos em clusters/Tools/umap/n_components32\\run_dbscan/Tools_clusters_run_dbscan_eps0.2_min10.csv\n",
      "DBSCAN - eps = 0.2, min_samples = 20\n",
      "Clusters salvos em clusters/Tools/umap/n_components32\\run_dbscan/Tools_clusters_run_dbscan_eps0.2_min20.csv\n",
      "DBSCAN - eps = 0.2, min_samples = 50\n",
      "Clusters salvos em clusters/Tools/umap/n_components32\\run_dbscan/Tools_clusters_run_dbscan_eps0.2_min50.csv\n",
      "DBSCAN - eps = 0.2, min_samples = 100\n",
      "DBSCAN (eps=0.2, min_samples=100) gerou 1 cluster ou só ruído, ignorado.\n",
      "DBSCAN - eps = 0.2, min_samples = 200\n",
      "DBSCAN (eps=0.2, min_samples=200) gerou 1 cluster ou só ruído, ignorado.\n",
      "DBSCAN - eps = 0.6, min_samples = 10\n",
      "Clusters salvos em clusters/Tools/umap/n_components32\\run_dbscan/Tools_clusters_run_dbscan_eps0.6_min10.csv\n",
      "DBSCAN - eps = 0.6, min_samples = 20\n",
      "Clusters salvos em clusters/Tools/umap/n_components32\\run_dbscan/Tools_clusters_run_dbscan_eps0.6_min20.csv\n",
      "DBSCAN - eps = 0.6, min_samples = 50\n",
      "Clusters salvos em clusters/Tools/umap/n_components32\\run_dbscan/Tools_clusters_run_dbscan_eps0.6_min50.csv\n",
      "DBSCAN - eps = 0.6, min_samples = 100\n",
      "Clusters salvos em clusters/Tools/umap/n_components32\\run_dbscan/Tools_clusters_run_dbscan_eps0.6_min100.csv\n",
      "DBSCAN - eps = 0.6, min_samples = 200\n",
      "Clusters salvos em clusters/Tools/umap/n_components32\\run_dbscan/Tools_clusters_run_dbscan_eps0.6_min200.csv\n",
      "DBSCAN - eps = 1.0, min_samples = 10\n",
      "Clusters salvos em clusters/Tools/umap/n_components32\\run_dbscan/Tools_clusters_run_dbscan_eps1.0_min10.csv\n",
      "DBSCAN - eps = 1.0, min_samples = 20\n",
      "Clusters salvos em clusters/Tools/umap/n_components32\\run_dbscan/Tools_clusters_run_dbscan_eps1.0_min20.csv\n",
      "DBSCAN - eps = 1.0, min_samples = 50\n",
      "Clusters salvos em clusters/Tools/umap/n_components32\\run_dbscan/Tools_clusters_run_dbscan_eps1.0_min50.csv\n",
      "DBSCAN - eps = 1.0, min_samples = 100\n",
      "DBSCAN (eps=1.0, min_samples=100) gerou 1 cluster ou só ruído, ignorado.\n",
      "DBSCAN - eps = 1.0, min_samples = 200\n",
      "DBSCAN (eps=1.0, min_samples=200) gerou 1 cluster ou só ruído, ignorado.\n",
      "Clusterização concluída e resultados salvos\n",
      "\n",
      " Embeddings reduzidos com umap e n_components 64\n",
      "Aplicando UMAP com n_components = 64...\n"
     ]
    },
    {
     "name": "stderr",
     "output_type": "stream",
     "text": [
      "C:\\Users\\cruzd\\AppData\\Local\\Packages\\PythonSoftwareFoundation.Python.3.12_qbz5n2kfra8p0\\LocalCache\\local-packages\\Python312\\site-packages\\sklearn\\utils\\deprecation.py:151: FutureWarning: 'force_all_finite' was renamed to 'ensure_all_finite' in 1.6 and will be removed in 1.8.\n",
      "  warnings.warn(\n",
      "C:\\Users\\cruzd\\AppData\\Local\\Packages\\PythonSoftwareFoundation.Python.3.12_qbz5n2kfra8p0\\LocalCache\\local-packages\\Python312\\site-packages\\umap\\umap_.py:1952: UserWarning: n_jobs value 1 overridden to 1 by setting random_state. Use no seed for parallelism.\n",
      "  warn(\n"
     ]
    },
    {
     "name": "stdout",
     "output_type": "stream",
     "text": [
      "Dimensionalidade reduzida de 1000 para 64\n",
      "Executando run_dbscan...\n",
      "DBSCAN - eps = 0.05, min_samples = 10\n",
      "Clusters salvos em clusters/Tools/umap/n_components64\\run_dbscan/Tools_clusters_run_dbscan_eps0.05_min10.csv\n",
      "DBSCAN - eps = 0.05, min_samples = 20\n",
      "Clusters salvos em clusters/Tools/umap/n_components64\\run_dbscan/Tools_clusters_run_dbscan_eps0.05_min20.csv\n",
      "DBSCAN - eps = 0.05, min_samples = 50\n",
      "DBSCAN (eps=0.05, min_samples=50) gerou 1 cluster ou só ruído, ignorado.\n",
      "DBSCAN - eps = 0.05, min_samples = 100\n",
      "DBSCAN (eps=0.05, min_samples=100) gerou 1 cluster ou só ruído, ignorado.\n",
      "DBSCAN - eps = 0.05, min_samples = 200\n",
      "DBSCAN (eps=0.05, min_samples=200) gerou 1 cluster ou só ruído, ignorado.\n",
      "DBSCAN - eps = 0.1, min_samples = 10\n",
      "Clusters salvos em clusters/Tools/umap/n_components64\\run_dbscan/Tools_clusters_run_dbscan_eps0.1_min10.csv\n",
      "DBSCAN - eps = 0.1, min_samples = 20\n",
      "Clusters salvos em clusters/Tools/umap/n_components64\\run_dbscan/Tools_clusters_run_dbscan_eps0.1_min20.csv\n",
      "DBSCAN - eps = 0.1, min_samples = 50\n",
      "DBSCAN (eps=0.1, min_samples=50) gerou 1 cluster ou só ruído, ignorado.\n",
      "DBSCAN - eps = 0.1, min_samples = 100\n",
      "DBSCAN (eps=0.1, min_samples=100) gerou 1 cluster ou só ruído, ignorado.\n",
      "DBSCAN - eps = 0.1, min_samples = 200\n",
      "DBSCAN (eps=0.1, min_samples=200) gerou 1 cluster ou só ruído, ignorado.\n",
      "DBSCAN - eps = 0.2, min_samples = 10\n",
      "Clusters salvos em clusters/Tools/umap/n_components64\\run_dbscan/Tools_clusters_run_dbscan_eps0.2_min10.csv\n",
      "DBSCAN - eps = 0.2, min_samples = 20\n",
      "Clusters salvos em clusters/Tools/umap/n_components64\\run_dbscan/Tools_clusters_run_dbscan_eps0.2_min20.csv\n",
      "DBSCAN - eps = 0.2, min_samples = 50\n",
      "Clusters salvos em clusters/Tools/umap/n_components64\\run_dbscan/Tools_clusters_run_dbscan_eps0.2_min50.csv\n",
      "DBSCAN - eps = 0.2, min_samples = 100\n",
      "DBSCAN (eps=0.2, min_samples=100) gerou 1 cluster ou só ruído, ignorado.\n",
      "DBSCAN - eps = 0.2, min_samples = 200\n",
      "DBSCAN (eps=0.2, min_samples=200) gerou 1 cluster ou só ruído, ignorado.\n",
      "DBSCAN - eps = 0.6, min_samples = 10\n",
      "Clusters salvos em clusters/Tools/umap/n_components64\\run_dbscan/Tools_clusters_run_dbscan_eps0.6_min10.csv\n",
      "DBSCAN - eps = 0.6, min_samples = 20\n",
      "Clusters salvos em clusters/Tools/umap/n_components64\\run_dbscan/Tools_clusters_run_dbscan_eps0.6_min20.csv\n",
      "DBSCAN - eps = 0.6, min_samples = 50\n",
      "Clusters salvos em clusters/Tools/umap/n_components64\\run_dbscan/Tools_clusters_run_dbscan_eps0.6_min50.csv\n",
      "DBSCAN - eps = 0.6, min_samples = 100\n",
      "Clusters salvos em clusters/Tools/umap/n_components64\\run_dbscan/Tools_clusters_run_dbscan_eps0.6_min100.csv\n",
      "DBSCAN - eps = 0.6, min_samples = 200\n",
      "Clusters salvos em clusters/Tools/umap/n_components64\\run_dbscan/Tools_clusters_run_dbscan_eps0.6_min200.csv\n",
      "DBSCAN - eps = 1.0, min_samples = 10\n",
      "Clusters salvos em clusters/Tools/umap/n_components64\\run_dbscan/Tools_clusters_run_dbscan_eps1.0_min10.csv\n",
      "DBSCAN - eps = 1.0, min_samples = 20\n",
      "Clusters salvos em clusters/Tools/umap/n_components64\\run_dbscan/Tools_clusters_run_dbscan_eps1.0_min20.csv\n",
      "DBSCAN - eps = 1.0, min_samples = 50\n",
      "Clusters salvos em clusters/Tools/umap/n_components64\\run_dbscan/Tools_clusters_run_dbscan_eps1.0_min50.csv\n",
      "DBSCAN - eps = 1.0, min_samples = 100\n",
      "DBSCAN (eps=1.0, min_samples=100) gerou 1 cluster ou só ruído, ignorado.\n",
      "DBSCAN - eps = 1.0, min_samples = 200\n",
      "DBSCAN (eps=1.0, min_samples=200) gerou 1 cluster ou só ruído, ignorado.\n",
      "Clusterização concluída e resultados salvos\n",
      "\n",
      " Embeddings reduzidos com umap e n_components 128\n",
      "Aplicando UMAP com n_components = 128...\n"
     ]
    },
    {
     "name": "stderr",
     "output_type": "stream",
     "text": [
      "C:\\Users\\cruzd\\AppData\\Local\\Packages\\PythonSoftwareFoundation.Python.3.12_qbz5n2kfra8p0\\LocalCache\\local-packages\\Python312\\site-packages\\sklearn\\utils\\deprecation.py:151: FutureWarning: 'force_all_finite' was renamed to 'ensure_all_finite' in 1.6 and will be removed in 1.8.\n",
      "  warnings.warn(\n",
      "C:\\Users\\cruzd\\AppData\\Local\\Packages\\PythonSoftwareFoundation.Python.3.12_qbz5n2kfra8p0\\LocalCache\\local-packages\\Python312\\site-packages\\umap\\umap_.py:1952: UserWarning: n_jobs value 1 overridden to 1 by setting random_state. Use no seed for parallelism.\n",
      "  warn(\n"
     ]
    },
    {
     "name": "stdout",
     "output_type": "stream",
     "text": [
      "Dimensionalidade reduzida de 1000 para 128\n",
      "Executando run_dbscan...\n",
      "DBSCAN - eps = 0.05, min_samples = 10\n",
      "Clusters salvos em clusters/Tools/umap/n_components128\\run_dbscan/Tools_clusters_run_dbscan_eps0.05_min10.csv\n",
      "DBSCAN - eps = 0.05, min_samples = 20\n",
      "Clusters salvos em clusters/Tools/umap/n_components128\\run_dbscan/Tools_clusters_run_dbscan_eps0.05_min20.csv\n",
      "DBSCAN - eps = 0.05, min_samples = 50\n",
      "DBSCAN (eps=0.05, min_samples=50) gerou 1 cluster ou só ruído, ignorado.\n",
      "DBSCAN - eps = 0.05, min_samples = 100\n",
      "DBSCAN (eps=0.05, min_samples=100) gerou 1 cluster ou só ruído, ignorado.\n",
      "DBSCAN - eps = 0.05, min_samples = 200\n",
      "DBSCAN (eps=0.05, min_samples=200) gerou 1 cluster ou só ruído, ignorado.\n",
      "DBSCAN - eps = 0.1, min_samples = 10\n",
      "Clusters salvos em clusters/Tools/umap/n_components128\\run_dbscan/Tools_clusters_run_dbscan_eps0.1_min10.csv\n",
      "DBSCAN - eps = 0.1, min_samples = 20\n",
      "Clusters salvos em clusters/Tools/umap/n_components128\\run_dbscan/Tools_clusters_run_dbscan_eps0.1_min20.csv\n",
      "DBSCAN - eps = 0.1, min_samples = 50\n",
      "DBSCAN (eps=0.1, min_samples=50) gerou 1 cluster ou só ruído, ignorado.\n",
      "DBSCAN - eps = 0.1, min_samples = 100\n",
      "DBSCAN (eps=0.1, min_samples=100) gerou 1 cluster ou só ruído, ignorado.\n",
      "DBSCAN - eps = 0.1, min_samples = 200\n",
      "DBSCAN (eps=0.1, min_samples=200) gerou 1 cluster ou só ruído, ignorado.\n",
      "DBSCAN - eps = 0.2, min_samples = 10\n",
      "Clusters salvos em clusters/Tools/umap/n_components128\\run_dbscan/Tools_clusters_run_dbscan_eps0.2_min10.csv\n",
      "DBSCAN - eps = 0.2, min_samples = 20\n",
      "Clusters salvos em clusters/Tools/umap/n_components128\\run_dbscan/Tools_clusters_run_dbscan_eps0.2_min20.csv\n",
      "DBSCAN - eps = 0.2, min_samples = 50\n",
      "Clusters salvos em clusters/Tools/umap/n_components128\\run_dbscan/Tools_clusters_run_dbscan_eps0.2_min50.csv\n",
      "DBSCAN - eps = 0.2, min_samples = 100\n",
      "DBSCAN (eps=0.2, min_samples=100) gerou 1 cluster ou só ruído, ignorado.\n",
      "DBSCAN - eps = 0.2, min_samples = 200\n",
      "DBSCAN (eps=0.2, min_samples=200) gerou 1 cluster ou só ruído, ignorado.\n",
      "DBSCAN - eps = 0.6, min_samples = 10\n",
      "Clusters salvos em clusters/Tools/umap/n_components128\\run_dbscan/Tools_clusters_run_dbscan_eps0.6_min10.csv\n",
      "DBSCAN - eps = 0.6, min_samples = 20\n",
      "Clusters salvos em clusters/Tools/umap/n_components128\\run_dbscan/Tools_clusters_run_dbscan_eps0.6_min20.csv\n",
      "DBSCAN - eps = 0.6, min_samples = 50\n",
      "Clusters salvos em clusters/Tools/umap/n_components128\\run_dbscan/Tools_clusters_run_dbscan_eps0.6_min50.csv\n",
      "DBSCAN - eps = 0.6, min_samples = 100\n",
      "Clusters salvos em clusters/Tools/umap/n_components128\\run_dbscan/Tools_clusters_run_dbscan_eps0.6_min100.csv\n",
      "DBSCAN - eps = 0.6, min_samples = 200\n",
      "Clusters salvos em clusters/Tools/umap/n_components128\\run_dbscan/Tools_clusters_run_dbscan_eps0.6_min200.csv\n",
      "DBSCAN - eps = 1.0, min_samples = 10\n",
      "Clusters salvos em clusters/Tools/umap/n_components128\\run_dbscan/Tools_clusters_run_dbscan_eps1.0_min10.csv\n",
      "DBSCAN - eps = 1.0, min_samples = 20\n",
      "Clusters salvos em clusters/Tools/umap/n_components128\\run_dbscan/Tools_clusters_run_dbscan_eps1.0_min20.csv\n",
      "DBSCAN - eps = 1.0, min_samples = 50\n",
      "Clusters salvos em clusters/Tools/umap/n_components128\\run_dbscan/Tools_clusters_run_dbscan_eps1.0_min50.csv\n",
      "DBSCAN - eps = 1.0, min_samples = 100\n",
      "DBSCAN (eps=1.0, min_samples=100) gerou 1 cluster ou só ruído, ignorado.\n",
      "DBSCAN - eps = 1.0, min_samples = 200\n",
      "DBSCAN (eps=1.0, min_samples=200) gerou 1 cluster ou só ruído, ignorado.\n",
      "Clusterização concluída e resultados salvos\n",
      "\n",
      " Embeddings reduzidos com umap e n_components 256\n",
      "Aplicando UMAP com n_components = 256...\n"
     ]
    },
    {
     "name": "stderr",
     "output_type": "stream",
     "text": [
      "C:\\Users\\cruzd\\AppData\\Local\\Packages\\PythonSoftwareFoundation.Python.3.12_qbz5n2kfra8p0\\LocalCache\\local-packages\\Python312\\site-packages\\sklearn\\utils\\deprecation.py:151: FutureWarning: 'force_all_finite' was renamed to 'ensure_all_finite' in 1.6 and will be removed in 1.8.\n",
      "  warnings.warn(\n",
      "C:\\Users\\cruzd\\AppData\\Local\\Packages\\PythonSoftwareFoundation.Python.3.12_qbz5n2kfra8p0\\LocalCache\\local-packages\\Python312\\site-packages\\umap\\umap_.py:1952: UserWarning: n_jobs value 1 overridden to 1 by setting random_state. Use no seed for parallelism.\n",
      "  warn(\n"
     ]
    },
    {
     "name": "stdout",
     "output_type": "stream",
     "text": [
      "Dimensionalidade reduzida de 1000 para 256\n",
      "Executando run_dbscan...\n",
      "DBSCAN - eps = 0.05, min_samples = 10\n",
      "Clusters salvos em clusters/Tools/umap/n_components256\\run_dbscan/Tools_clusters_run_dbscan_eps0.05_min10.csv\n",
      "DBSCAN - eps = 0.05, min_samples = 20\n",
      "Clusters salvos em clusters/Tools/umap/n_components256\\run_dbscan/Tools_clusters_run_dbscan_eps0.05_min20.csv\n",
      "DBSCAN - eps = 0.05, min_samples = 50\n",
      "DBSCAN (eps=0.05, min_samples=50) gerou 1 cluster ou só ruído, ignorado.\n",
      "DBSCAN - eps = 0.05, min_samples = 100\n",
      "DBSCAN (eps=0.05, min_samples=100) gerou 1 cluster ou só ruído, ignorado.\n",
      "DBSCAN - eps = 0.05, min_samples = 200\n",
      "DBSCAN (eps=0.05, min_samples=200) gerou 1 cluster ou só ruído, ignorado.\n",
      "DBSCAN - eps = 0.1, min_samples = 10\n",
      "Clusters salvos em clusters/Tools/umap/n_components256\\run_dbscan/Tools_clusters_run_dbscan_eps0.1_min10.csv\n",
      "DBSCAN - eps = 0.1, min_samples = 20\n",
      "Clusters salvos em clusters/Tools/umap/n_components256\\run_dbscan/Tools_clusters_run_dbscan_eps0.1_min20.csv\n",
      "DBSCAN - eps = 0.1, min_samples = 50\n",
      "DBSCAN (eps=0.1, min_samples=50) gerou 1 cluster ou só ruído, ignorado.\n",
      "DBSCAN - eps = 0.1, min_samples = 100\n",
      "DBSCAN (eps=0.1, min_samples=100) gerou 1 cluster ou só ruído, ignorado.\n",
      "DBSCAN - eps = 0.1, min_samples = 200\n",
      "DBSCAN (eps=0.1, min_samples=200) gerou 1 cluster ou só ruído, ignorado.\n",
      "DBSCAN - eps = 0.2, min_samples = 10\n",
      "Clusters salvos em clusters/Tools/umap/n_components256\\run_dbscan/Tools_clusters_run_dbscan_eps0.2_min10.csv\n",
      "DBSCAN - eps = 0.2, min_samples = 20\n",
      "Clusters salvos em clusters/Tools/umap/n_components256\\run_dbscan/Tools_clusters_run_dbscan_eps0.2_min20.csv\n",
      "DBSCAN - eps = 0.2, min_samples = 50\n",
      "Clusters salvos em clusters/Tools/umap/n_components256\\run_dbscan/Tools_clusters_run_dbscan_eps0.2_min50.csv\n",
      "DBSCAN - eps = 0.2, min_samples = 100\n",
      "DBSCAN (eps=0.2, min_samples=100) gerou 1 cluster ou só ruído, ignorado.\n",
      "DBSCAN - eps = 0.2, min_samples = 200\n",
      "DBSCAN (eps=0.2, min_samples=200) gerou 1 cluster ou só ruído, ignorado.\n",
      "DBSCAN - eps = 0.6, min_samples = 10\n",
      "Clusters salvos em clusters/Tools/umap/n_components256\\run_dbscan/Tools_clusters_run_dbscan_eps0.6_min10.csv\n",
      "DBSCAN - eps = 0.6, min_samples = 20\n",
      "Clusters salvos em clusters/Tools/umap/n_components256\\run_dbscan/Tools_clusters_run_dbscan_eps0.6_min20.csv\n",
      "DBSCAN - eps = 0.6, min_samples = 50\n",
      "Clusters salvos em clusters/Tools/umap/n_components256\\run_dbscan/Tools_clusters_run_dbscan_eps0.6_min50.csv\n",
      "DBSCAN - eps = 0.6, min_samples = 100\n",
      "Clusters salvos em clusters/Tools/umap/n_components256\\run_dbscan/Tools_clusters_run_dbscan_eps0.6_min100.csv\n",
      "DBSCAN - eps = 0.6, min_samples = 200\n",
      "Clusters salvos em clusters/Tools/umap/n_components256\\run_dbscan/Tools_clusters_run_dbscan_eps0.6_min200.csv\n",
      "DBSCAN - eps = 1.0, min_samples = 10\n",
      "Clusters salvos em clusters/Tools/umap/n_components256\\run_dbscan/Tools_clusters_run_dbscan_eps1.0_min10.csv\n",
      "DBSCAN - eps = 1.0, min_samples = 20\n",
      "Clusters salvos em clusters/Tools/umap/n_components256\\run_dbscan/Tools_clusters_run_dbscan_eps1.0_min20.csv\n",
      "DBSCAN - eps = 1.0, min_samples = 50\n",
      "Clusters salvos em clusters/Tools/umap/n_components256\\run_dbscan/Tools_clusters_run_dbscan_eps1.0_min50.csv\n",
      "DBSCAN - eps = 1.0, min_samples = 100\n",
      "DBSCAN (eps=1.0, min_samples=100) gerou 1 cluster ou só ruído, ignorado.\n",
      "DBSCAN - eps = 1.0, min_samples = 200\n",
      "DBSCAN (eps=1.0, min_samples=200) gerou 1 cluster ou só ruído, ignorado.\n",
      "Clusterização concluída e resultados salvos\n",
      "\n",
      " Embeddings reduzidos com umap e n_components 512\n",
      "Aplicando UMAP com n_components = 512...\n"
     ]
    },
    {
     "name": "stderr",
     "output_type": "stream",
     "text": [
      "C:\\Users\\cruzd\\AppData\\Local\\Packages\\PythonSoftwareFoundation.Python.3.12_qbz5n2kfra8p0\\LocalCache\\local-packages\\Python312\\site-packages\\sklearn\\utils\\deprecation.py:151: FutureWarning: 'force_all_finite' was renamed to 'ensure_all_finite' in 1.6 and will be removed in 1.8.\n",
      "  warnings.warn(\n",
      "C:\\Users\\cruzd\\AppData\\Local\\Packages\\PythonSoftwareFoundation.Python.3.12_qbz5n2kfra8p0\\LocalCache\\local-packages\\Python312\\site-packages\\umap\\umap_.py:1952: UserWarning: n_jobs value 1 overridden to 1 by setting random_state. Use no seed for parallelism.\n",
      "  warn(\n"
     ]
    },
    {
     "name": "stdout",
     "output_type": "stream",
     "text": [
      "Dimensionalidade reduzida de 1000 para 512\n",
      "Executando run_dbscan...\n",
      "DBSCAN - eps = 0.05, min_samples = 10\n",
      "Clusters salvos em clusters/Tools/umap/n_components512\\run_dbscan/Tools_clusters_run_dbscan_eps0.05_min10.csv\n",
      "DBSCAN - eps = 0.05, min_samples = 20\n",
      "Clusters salvos em clusters/Tools/umap/n_components512\\run_dbscan/Tools_clusters_run_dbscan_eps0.05_min20.csv\n",
      "DBSCAN - eps = 0.05, min_samples = 50\n",
      "DBSCAN (eps=0.05, min_samples=50) gerou 1 cluster ou só ruído, ignorado.\n",
      "DBSCAN - eps = 0.05, min_samples = 100\n",
      "DBSCAN (eps=0.05, min_samples=100) gerou 1 cluster ou só ruído, ignorado.\n",
      "DBSCAN - eps = 0.05, min_samples = 200\n",
      "DBSCAN (eps=0.05, min_samples=200) gerou 1 cluster ou só ruído, ignorado.\n",
      "DBSCAN - eps = 0.1, min_samples = 10\n",
      "Clusters salvos em clusters/Tools/umap/n_components512\\run_dbscan/Tools_clusters_run_dbscan_eps0.1_min10.csv\n",
      "DBSCAN - eps = 0.1, min_samples = 20\n",
      "Clusters salvos em clusters/Tools/umap/n_components512\\run_dbscan/Tools_clusters_run_dbscan_eps0.1_min20.csv\n",
      "DBSCAN - eps = 0.1, min_samples = 50\n",
      "DBSCAN (eps=0.1, min_samples=50) gerou 1 cluster ou só ruído, ignorado.\n",
      "DBSCAN - eps = 0.1, min_samples = 100\n",
      "DBSCAN (eps=0.1, min_samples=100) gerou 1 cluster ou só ruído, ignorado.\n",
      "DBSCAN - eps = 0.1, min_samples = 200\n",
      "DBSCAN (eps=0.1, min_samples=200) gerou 1 cluster ou só ruído, ignorado.\n",
      "DBSCAN - eps = 0.2, min_samples = 10\n",
      "Clusters salvos em clusters/Tools/umap/n_components512\\run_dbscan/Tools_clusters_run_dbscan_eps0.2_min10.csv\n",
      "DBSCAN - eps = 0.2, min_samples = 20\n",
      "Clusters salvos em clusters/Tools/umap/n_components512\\run_dbscan/Tools_clusters_run_dbscan_eps0.2_min20.csv\n",
      "DBSCAN - eps = 0.2, min_samples = 50\n",
      "Clusters salvos em clusters/Tools/umap/n_components512\\run_dbscan/Tools_clusters_run_dbscan_eps0.2_min50.csv\n",
      "DBSCAN - eps = 0.2, min_samples = 100\n",
      "DBSCAN (eps=0.2, min_samples=100) gerou 1 cluster ou só ruído, ignorado.\n",
      "DBSCAN - eps = 0.2, min_samples = 200\n",
      "DBSCAN (eps=0.2, min_samples=200) gerou 1 cluster ou só ruído, ignorado.\n",
      "DBSCAN - eps = 0.6, min_samples = 10\n",
      "Clusters salvos em clusters/Tools/umap/n_components512\\run_dbscan/Tools_clusters_run_dbscan_eps0.6_min10.csv\n",
      "DBSCAN - eps = 0.6, min_samples = 20\n",
      "Clusters salvos em clusters/Tools/umap/n_components512\\run_dbscan/Tools_clusters_run_dbscan_eps0.6_min20.csv\n",
      "DBSCAN - eps = 0.6, min_samples = 50\n",
      "Clusters salvos em clusters/Tools/umap/n_components512\\run_dbscan/Tools_clusters_run_dbscan_eps0.6_min50.csv\n",
      "DBSCAN - eps = 0.6, min_samples = 100\n",
      "Clusters salvos em clusters/Tools/umap/n_components512\\run_dbscan/Tools_clusters_run_dbscan_eps0.6_min100.csv\n",
      "DBSCAN - eps = 0.6, min_samples = 200\n",
      "Clusters salvos em clusters/Tools/umap/n_components512\\run_dbscan/Tools_clusters_run_dbscan_eps0.6_min200.csv\n",
      "DBSCAN - eps = 1.0, min_samples = 10\n",
      "Clusters salvos em clusters/Tools/umap/n_components512\\run_dbscan/Tools_clusters_run_dbscan_eps1.0_min10.csv\n",
      "DBSCAN - eps = 1.0, min_samples = 20\n",
      "Clusters salvos em clusters/Tools/umap/n_components512\\run_dbscan/Tools_clusters_run_dbscan_eps1.0_min20.csv\n",
      "DBSCAN - eps = 1.0, min_samples = 50\n",
      "Clusters salvos em clusters/Tools/umap/n_components512\\run_dbscan/Tools_clusters_run_dbscan_eps1.0_min50.csv\n",
      "DBSCAN - eps = 1.0, min_samples = 100\n",
      "Clusters salvos em clusters/Tools/umap/n_components512\\run_dbscan/Tools_clusters_run_dbscan_eps1.0_min100.csv\n",
      "DBSCAN - eps = 1.0, min_samples = 200\n",
      "DBSCAN (eps=1.0, min_samples=200) gerou 1 cluster ou só ruído, ignorado.\n",
      "Clusterização concluída e resultados salvos\n",
      "\n",
      "Todos os testes para DBSCAN concluídos\n"
     ]
    }
   ],
   "source": [
    "#teste dbscan\n",
    "eps_values = [0.05, 0.1, 0.2, 0.6, 1.0]          \n",
    "min_samples_values = [10, 20, 50, 100, 200]\n",
    "\n",
    "\n",
    "print('Testes para DBSCAN Clustering')\n",
    "for method_red in methods_reducing:\n",
    "    for n in n_components:\n",
    "        print(f'\\n Embeddings reduzidos com {method_red} e n_components {n}')\n",
    "        reduced_embeddings = dimensionality_reduction(embeddings=embeddings, method=method_red, n_components=n)\n",
    "        if not isinstance(reduced_embeddings, torch.Tensor):\n",
    "            reduced_embeddings = torch.tensor(reduced_embeddings, dtype=torch.float32)\n",
    "        output_path = f'clusters/{dataset}/{method_red}/n_components{n}'\n",
    "        os.makedirs(output_path, exist_ok=True)               \n",
    "\n",
    "        run_dbscan_combinations(\n",
    "            embeddings=reduced_embeddings,\n",
    "            eps_values=eps_values,\n",
    "            min_samples_values=min_samples_values,\n",
    "            output_path=output_path,\n",
    "            dataset_name=dataset\n",
    "        )\n",
    "\n",
    "print(\"\\nTodos os testes para DBSCAN concluídos\")"
   ]
  },
  {
   "cell_type": "code",
   "execution_count": null,
   "id": "df81376d",
   "metadata": {},
   "outputs": [
    {
     "name": "stdout",
     "output_type": "stream",
     "text": [
      "Testes para HDBSCAN Clustering\n",
      "\n",
      " Embeddings reduzidos com umap e n_components 8\n",
      "Aplicando UMAP com n_components = 8...\n"
     ]
    },
    {
     "name": "stderr",
     "output_type": "stream",
     "text": [
      "C:\\Users\\cruzd\\AppData\\Local\\Packages\\PythonSoftwareFoundation.Python.3.12_qbz5n2kfra8p0\\LocalCache\\local-packages\\Python312\\site-packages\\sklearn\\utils\\deprecation.py:151: FutureWarning: 'force_all_finite' was renamed to 'ensure_all_finite' in 1.6 and will be removed in 1.8.\n",
      "  warnings.warn(\n",
      "C:\\Users\\cruzd\\AppData\\Local\\Packages\\PythonSoftwareFoundation.Python.3.12_qbz5n2kfra8p0\\LocalCache\\local-packages\\Python312\\site-packages\\umap\\umap_.py:1952: UserWarning: n_jobs value 1 overridden to 1 by setting random_state. Use no seed for parallelism.\n",
      "  warn(\n"
     ]
    },
    {
     "name": "stdout",
     "output_type": "stream",
     "text": [
      "Dimensionalidade reduzida de 1000 para 8\n",
      "Executando run_hdbscan...\n",
      "HDBSCAN - min_cluster_size = 30, min_samples = 10\n"
     ]
    },
    {
     "name": "stderr",
     "output_type": "stream",
     "text": [
      "C:\\Users\\cruzd\\AppData\\Local\\Packages\\PythonSoftwareFoundation.Python.3.12_qbz5n2kfra8p0\\LocalCache\\local-packages\\Python312\\site-packages\\sklearn\\utils\\deprecation.py:151: FutureWarning: 'force_all_finite' was renamed to 'ensure_all_finite' in 1.6 and will be removed in 1.8.\n",
      "  warnings.warn(\n",
      "C:\\Users\\cruzd\\AppData\\Local\\Packages\\PythonSoftwareFoundation.Python.3.12_qbz5n2kfra8p0\\LocalCache\\local-packages\\Python312\\site-packages\\sklearn\\utils\\deprecation.py:151: FutureWarning: 'force_all_finite' was renamed to 'ensure_all_finite' in 1.6 and will be removed in 1.8.\n",
      "  warnings.warn(\n"
     ]
    },
    {
     "name": "stdout",
     "output_type": "stream",
     "text": [
      "Clusters salvos em clusters/Tools/umap/n_components8\\run_hdbscan/Tools_clusters_run_hdbscan_minsize30_minsample10.csv\n",
      "HDBSCAN - min_cluster_size = 30, min_samples = 20\n"
     ]
    },
    {
     "name": "stderr",
     "output_type": "stream",
     "text": [
      "C:\\Users\\cruzd\\AppData\\Local\\Packages\\PythonSoftwareFoundation.Python.3.12_qbz5n2kfra8p0\\LocalCache\\local-packages\\Python312\\site-packages\\sklearn\\utils\\deprecation.py:151: FutureWarning: 'force_all_finite' was renamed to 'ensure_all_finite' in 1.6 and will be removed in 1.8.\n",
      "  warnings.warn(\n",
      "C:\\Users\\cruzd\\AppData\\Local\\Packages\\PythonSoftwareFoundation.Python.3.12_qbz5n2kfra8p0\\LocalCache\\local-packages\\Python312\\site-packages\\sklearn\\utils\\deprecation.py:151: FutureWarning: 'force_all_finite' was renamed to 'ensure_all_finite' in 1.6 and will be removed in 1.8.\n",
      "  warnings.warn(\n"
     ]
    },
    {
     "name": "stdout",
     "output_type": "stream",
     "text": [
      "Clusters salvos em clusters/Tools/umap/n_components8\\run_hdbscan/Tools_clusters_run_hdbscan_minsize30_minsample20.csv\n",
      "HDBSCAN - min_cluster_size = 30, min_samples = 30\n"
     ]
    },
    {
     "name": "stderr",
     "output_type": "stream",
     "text": [
      "C:\\Users\\cruzd\\AppData\\Local\\Packages\\PythonSoftwareFoundation.Python.3.12_qbz5n2kfra8p0\\LocalCache\\local-packages\\Python312\\site-packages\\sklearn\\utils\\deprecation.py:151: FutureWarning: 'force_all_finite' was renamed to 'ensure_all_finite' in 1.6 and will be removed in 1.8.\n",
      "  warnings.warn(\n",
      "C:\\Users\\cruzd\\AppData\\Local\\Packages\\PythonSoftwareFoundation.Python.3.12_qbz5n2kfra8p0\\LocalCache\\local-packages\\Python312\\site-packages\\sklearn\\utils\\deprecation.py:151: FutureWarning: 'force_all_finite' was renamed to 'ensure_all_finite' in 1.6 and will be removed in 1.8.\n",
      "  warnings.warn(\n"
     ]
    },
    {
     "name": "stdout",
     "output_type": "stream",
     "text": [
      "Clusters salvos em clusters/Tools/umap/n_components8\\run_hdbscan/Tools_clusters_run_hdbscan_minsize30_minsample30.csv\n",
      "HDBSCAN - min_cluster_size = 30, min_samples = 50\n"
     ]
    },
    {
     "name": "stderr",
     "output_type": "stream",
     "text": [
      "C:\\Users\\cruzd\\AppData\\Local\\Packages\\PythonSoftwareFoundation.Python.3.12_qbz5n2kfra8p0\\LocalCache\\local-packages\\Python312\\site-packages\\sklearn\\utils\\deprecation.py:151: FutureWarning: 'force_all_finite' was renamed to 'ensure_all_finite' in 1.6 and will be removed in 1.8.\n",
      "  warnings.warn(\n",
      "C:\\Users\\cruzd\\AppData\\Local\\Packages\\PythonSoftwareFoundation.Python.3.12_qbz5n2kfra8p0\\LocalCache\\local-packages\\Python312\\site-packages\\sklearn\\utils\\deprecation.py:151: FutureWarning: 'force_all_finite' was renamed to 'ensure_all_finite' in 1.6 and will be removed in 1.8.\n",
      "  warnings.warn(\n"
     ]
    },
    {
     "name": "stdout",
     "output_type": "stream",
     "text": [
      "Clusters salvos em clusters/Tools/umap/n_components8\\run_hdbscan/Tools_clusters_run_hdbscan_minsize30_minsample50.csv\n",
      "HDBSCAN - min_cluster_size = 30, min_samples = 100\n"
     ]
    },
    {
     "name": "stderr",
     "output_type": "stream",
     "text": [
      "C:\\Users\\cruzd\\AppData\\Local\\Packages\\PythonSoftwareFoundation.Python.3.12_qbz5n2kfra8p0\\LocalCache\\local-packages\\Python312\\site-packages\\sklearn\\utils\\deprecation.py:151: FutureWarning: 'force_all_finite' was renamed to 'ensure_all_finite' in 1.6 and will be removed in 1.8.\n",
      "  warnings.warn(\n",
      "C:\\Users\\cruzd\\AppData\\Local\\Packages\\PythonSoftwareFoundation.Python.3.12_qbz5n2kfra8p0\\LocalCache\\local-packages\\Python312\\site-packages\\sklearn\\utils\\deprecation.py:151: FutureWarning: 'force_all_finite' was renamed to 'ensure_all_finite' in 1.6 and will be removed in 1.8.\n",
      "  warnings.warn(\n"
     ]
    },
    {
     "name": "stdout",
     "output_type": "stream",
     "text": [
      "Clusters salvos em clusters/Tools/umap/n_components8\\run_hdbscan/Tools_clusters_run_hdbscan_minsize30_minsample100.csv\n",
      "HDBSCAN - min_cluster_size = 50, min_samples = 10\n"
     ]
    },
    {
     "name": "stderr",
     "output_type": "stream",
     "text": [
      "C:\\Users\\cruzd\\AppData\\Local\\Packages\\PythonSoftwareFoundation.Python.3.12_qbz5n2kfra8p0\\LocalCache\\local-packages\\Python312\\site-packages\\sklearn\\utils\\deprecation.py:151: FutureWarning: 'force_all_finite' was renamed to 'ensure_all_finite' in 1.6 and will be removed in 1.8.\n",
      "  warnings.warn(\n",
      "C:\\Users\\cruzd\\AppData\\Local\\Packages\\PythonSoftwareFoundation.Python.3.12_qbz5n2kfra8p0\\LocalCache\\local-packages\\Python312\\site-packages\\sklearn\\utils\\deprecation.py:151: FutureWarning: 'force_all_finite' was renamed to 'ensure_all_finite' in 1.6 and will be removed in 1.8.\n",
      "  warnings.warn(\n"
     ]
    },
    {
     "name": "stdout",
     "output_type": "stream",
     "text": [
      "Clusters salvos em clusters/Tools/umap/n_components8\\run_hdbscan/Tools_clusters_run_hdbscan_minsize50_minsample10.csv\n",
      "HDBSCAN - min_cluster_size = 50, min_samples = 20\n"
     ]
    },
    {
     "name": "stderr",
     "output_type": "stream",
     "text": [
      "C:\\Users\\cruzd\\AppData\\Local\\Packages\\PythonSoftwareFoundation.Python.3.12_qbz5n2kfra8p0\\LocalCache\\local-packages\\Python312\\site-packages\\sklearn\\utils\\deprecation.py:151: FutureWarning: 'force_all_finite' was renamed to 'ensure_all_finite' in 1.6 and will be removed in 1.8.\n",
      "  warnings.warn(\n",
      "C:\\Users\\cruzd\\AppData\\Local\\Packages\\PythonSoftwareFoundation.Python.3.12_qbz5n2kfra8p0\\LocalCache\\local-packages\\Python312\\site-packages\\sklearn\\utils\\deprecation.py:151: FutureWarning: 'force_all_finite' was renamed to 'ensure_all_finite' in 1.6 and will be removed in 1.8.\n",
      "  warnings.warn(\n"
     ]
    },
    {
     "name": "stdout",
     "output_type": "stream",
     "text": [
      "Clusters salvos em clusters/Tools/umap/n_components8\\run_hdbscan/Tools_clusters_run_hdbscan_minsize50_minsample20.csv\n",
      "HDBSCAN - min_cluster_size = 50, min_samples = 30\n"
     ]
    },
    {
     "name": "stderr",
     "output_type": "stream",
     "text": [
      "C:\\Users\\cruzd\\AppData\\Local\\Packages\\PythonSoftwareFoundation.Python.3.12_qbz5n2kfra8p0\\LocalCache\\local-packages\\Python312\\site-packages\\sklearn\\utils\\deprecation.py:151: FutureWarning: 'force_all_finite' was renamed to 'ensure_all_finite' in 1.6 and will be removed in 1.8.\n",
      "  warnings.warn(\n",
      "C:\\Users\\cruzd\\AppData\\Local\\Packages\\PythonSoftwareFoundation.Python.3.12_qbz5n2kfra8p0\\LocalCache\\local-packages\\Python312\\site-packages\\sklearn\\utils\\deprecation.py:151: FutureWarning: 'force_all_finite' was renamed to 'ensure_all_finite' in 1.6 and will be removed in 1.8.\n",
      "  warnings.warn(\n"
     ]
    },
    {
     "name": "stdout",
     "output_type": "stream",
     "text": [
      "Clusters salvos em clusters/Tools/umap/n_components8\\run_hdbscan/Tools_clusters_run_hdbscan_minsize50_minsample30.csv\n",
      "HDBSCAN - min_cluster_size = 50, min_samples = 50\n"
     ]
    },
    {
     "name": "stderr",
     "output_type": "stream",
     "text": [
      "C:\\Users\\cruzd\\AppData\\Local\\Packages\\PythonSoftwareFoundation.Python.3.12_qbz5n2kfra8p0\\LocalCache\\local-packages\\Python312\\site-packages\\sklearn\\utils\\deprecation.py:151: FutureWarning: 'force_all_finite' was renamed to 'ensure_all_finite' in 1.6 and will be removed in 1.8.\n",
      "  warnings.warn(\n",
      "C:\\Users\\cruzd\\AppData\\Local\\Packages\\PythonSoftwareFoundation.Python.3.12_qbz5n2kfra8p0\\LocalCache\\local-packages\\Python312\\site-packages\\sklearn\\utils\\deprecation.py:151: FutureWarning: 'force_all_finite' was renamed to 'ensure_all_finite' in 1.6 and will be removed in 1.8.\n",
      "  warnings.warn(\n"
     ]
    },
    {
     "name": "stdout",
     "output_type": "stream",
     "text": [
      "Clusters salvos em clusters/Tools/umap/n_components8\\run_hdbscan/Tools_clusters_run_hdbscan_minsize50_minsample50.csv\n",
      "HDBSCAN - min_cluster_size = 50, min_samples = 100\n"
     ]
    },
    {
     "name": "stderr",
     "output_type": "stream",
     "text": [
      "C:\\Users\\cruzd\\AppData\\Local\\Packages\\PythonSoftwareFoundation.Python.3.12_qbz5n2kfra8p0\\LocalCache\\local-packages\\Python312\\site-packages\\sklearn\\utils\\deprecation.py:151: FutureWarning: 'force_all_finite' was renamed to 'ensure_all_finite' in 1.6 and will be removed in 1.8.\n",
      "  warnings.warn(\n",
      "C:\\Users\\cruzd\\AppData\\Local\\Packages\\PythonSoftwareFoundation.Python.3.12_qbz5n2kfra8p0\\LocalCache\\local-packages\\Python312\\site-packages\\sklearn\\utils\\deprecation.py:151: FutureWarning: 'force_all_finite' was renamed to 'ensure_all_finite' in 1.6 and will be removed in 1.8.\n",
      "  warnings.warn(\n"
     ]
    },
    {
     "name": "stdout",
     "output_type": "stream",
     "text": [
      "Clusters salvos em clusters/Tools/umap/n_components8\\run_hdbscan/Tools_clusters_run_hdbscan_minsize50_minsample100.csv\n",
      "HDBSCAN - min_cluster_size = 100, min_samples = 10\n"
     ]
    },
    {
     "name": "stderr",
     "output_type": "stream",
     "text": [
      "C:\\Users\\cruzd\\AppData\\Local\\Packages\\PythonSoftwareFoundation.Python.3.12_qbz5n2kfra8p0\\LocalCache\\local-packages\\Python312\\site-packages\\sklearn\\utils\\deprecation.py:151: FutureWarning: 'force_all_finite' was renamed to 'ensure_all_finite' in 1.6 and will be removed in 1.8.\n",
      "  warnings.warn(\n",
      "C:\\Users\\cruzd\\AppData\\Local\\Packages\\PythonSoftwareFoundation.Python.3.12_qbz5n2kfra8p0\\LocalCache\\local-packages\\Python312\\site-packages\\sklearn\\utils\\deprecation.py:151: FutureWarning: 'force_all_finite' was renamed to 'ensure_all_finite' in 1.6 and will be removed in 1.8.\n",
      "  warnings.warn(\n"
     ]
    },
    {
     "name": "stdout",
     "output_type": "stream",
     "text": [
      "Clusters salvos em clusters/Tools/umap/n_components8\\run_hdbscan/Tools_clusters_run_hdbscan_minsize100_minsample10.csv\n",
      "HDBSCAN - min_cluster_size = 100, min_samples = 20\n"
     ]
    },
    {
     "name": "stderr",
     "output_type": "stream",
     "text": [
      "C:\\Users\\cruzd\\AppData\\Local\\Packages\\PythonSoftwareFoundation.Python.3.12_qbz5n2kfra8p0\\LocalCache\\local-packages\\Python312\\site-packages\\sklearn\\utils\\deprecation.py:151: FutureWarning: 'force_all_finite' was renamed to 'ensure_all_finite' in 1.6 and will be removed in 1.8.\n",
      "  warnings.warn(\n",
      "C:\\Users\\cruzd\\AppData\\Local\\Packages\\PythonSoftwareFoundation.Python.3.12_qbz5n2kfra8p0\\LocalCache\\local-packages\\Python312\\site-packages\\sklearn\\utils\\deprecation.py:151: FutureWarning: 'force_all_finite' was renamed to 'ensure_all_finite' in 1.6 and will be removed in 1.8.\n",
      "  warnings.warn(\n"
     ]
    },
    {
     "name": "stdout",
     "output_type": "stream",
     "text": [
      "Clusters salvos em clusters/Tools/umap/n_components8\\run_hdbscan/Tools_clusters_run_hdbscan_minsize100_minsample20.csv\n",
      "HDBSCAN - min_cluster_size = 100, min_samples = 30\n"
     ]
    },
    {
     "name": "stderr",
     "output_type": "stream",
     "text": [
      "C:\\Users\\cruzd\\AppData\\Local\\Packages\\PythonSoftwareFoundation.Python.3.12_qbz5n2kfra8p0\\LocalCache\\local-packages\\Python312\\site-packages\\sklearn\\utils\\deprecation.py:151: FutureWarning: 'force_all_finite' was renamed to 'ensure_all_finite' in 1.6 and will be removed in 1.8.\n",
      "  warnings.warn(\n",
      "C:\\Users\\cruzd\\AppData\\Local\\Packages\\PythonSoftwareFoundation.Python.3.12_qbz5n2kfra8p0\\LocalCache\\local-packages\\Python312\\site-packages\\sklearn\\utils\\deprecation.py:151: FutureWarning: 'force_all_finite' was renamed to 'ensure_all_finite' in 1.6 and will be removed in 1.8.\n",
      "  warnings.warn(\n"
     ]
    },
    {
     "name": "stdout",
     "output_type": "stream",
     "text": [
      "Clusters salvos em clusters/Tools/umap/n_components8\\run_hdbscan/Tools_clusters_run_hdbscan_minsize100_minsample30.csv\n",
      "HDBSCAN - min_cluster_size = 100, min_samples = 50\n"
     ]
    },
    {
     "name": "stderr",
     "output_type": "stream",
     "text": [
      "C:\\Users\\cruzd\\AppData\\Local\\Packages\\PythonSoftwareFoundation.Python.3.12_qbz5n2kfra8p0\\LocalCache\\local-packages\\Python312\\site-packages\\sklearn\\utils\\deprecation.py:151: FutureWarning: 'force_all_finite' was renamed to 'ensure_all_finite' in 1.6 and will be removed in 1.8.\n",
      "  warnings.warn(\n",
      "C:\\Users\\cruzd\\AppData\\Local\\Packages\\PythonSoftwareFoundation.Python.3.12_qbz5n2kfra8p0\\LocalCache\\local-packages\\Python312\\site-packages\\sklearn\\utils\\deprecation.py:151: FutureWarning: 'force_all_finite' was renamed to 'ensure_all_finite' in 1.6 and will be removed in 1.8.\n",
      "  warnings.warn(\n"
     ]
    },
    {
     "name": "stdout",
     "output_type": "stream",
     "text": [
      "Clusters salvos em clusters/Tools/umap/n_components8\\run_hdbscan/Tools_clusters_run_hdbscan_minsize100_minsample50.csv\n",
      "HDBSCAN - min_cluster_size = 100, min_samples = 100\n"
     ]
    },
    {
     "name": "stderr",
     "output_type": "stream",
     "text": [
      "C:\\Users\\cruzd\\AppData\\Local\\Packages\\PythonSoftwareFoundation.Python.3.12_qbz5n2kfra8p0\\LocalCache\\local-packages\\Python312\\site-packages\\sklearn\\utils\\deprecation.py:151: FutureWarning: 'force_all_finite' was renamed to 'ensure_all_finite' in 1.6 and will be removed in 1.8.\n",
      "  warnings.warn(\n",
      "C:\\Users\\cruzd\\AppData\\Local\\Packages\\PythonSoftwareFoundation.Python.3.12_qbz5n2kfra8p0\\LocalCache\\local-packages\\Python312\\site-packages\\sklearn\\utils\\deprecation.py:151: FutureWarning: 'force_all_finite' was renamed to 'ensure_all_finite' in 1.6 and will be removed in 1.8.\n",
      "  warnings.warn(\n"
     ]
    },
    {
     "name": "stdout",
     "output_type": "stream",
     "text": [
      "Clusters salvos em clusters/Tools/umap/n_components8\\run_hdbscan/Tools_clusters_run_hdbscan_minsize100_minsample100.csv\n",
      "HDBSCAN - min_cluster_size = 200, min_samples = 10\n"
     ]
    },
    {
     "name": "stderr",
     "output_type": "stream",
     "text": [
      "C:\\Users\\cruzd\\AppData\\Local\\Packages\\PythonSoftwareFoundation.Python.3.12_qbz5n2kfra8p0\\LocalCache\\local-packages\\Python312\\site-packages\\sklearn\\utils\\deprecation.py:151: FutureWarning: 'force_all_finite' was renamed to 'ensure_all_finite' in 1.6 and will be removed in 1.8.\n",
      "  warnings.warn(\n",
      "C:\\Users\\cruzd\\AppData\\Local\\Packages\\PythonSoftwareFoundation.Python.3.12_qbz5n2kfra8p0\\LocalCache\\local-packages\\Python312\\site-packages\\sklearn\\utils\\deprecation.py:151: FutureWarning: 'force_all_finite' was renamed to 'ensure_all_finite' in 1.6 and will be removed in 1.8.\n",
      "  warnings.warn(\n"
     ]
    },
    {
     "name": "stdout",
     "output_type": "stream",
     "text": [
      "Clusters salvos em clusters/Tools/umap/n_components8\\run_hdbscan/Tools_clusters_run_hdbscan_minsize200_minsample10.csv\n",
      "HDBSCAN - min_cluster_size = 200, min_samples = 20\n"
     ]
    },
    {
     "name": "stderr",
     "output_type": "stream",
     "text": [
      "C:\\Users\\cruzd\\AppData\\Local\\Packages\\PythonSoftwareFoundation.Python.3.12_qbz5n2kfra8p0\\LocalCache\\local-packages\\Python312\\site-packages\\sklearn\\utils\\deprecation.py:151: FutureWarning: 'force_all_finite' was renamed to 'ensure_all_finite' in 1.6 and will be removed in 1.8.\n",
      "  warnings.warn(\n",
      "C:\\Users\\cruzd\\AppData\\Local\\Packages\\PythonSoftwareFoundation.Python.3.12_qbz5n2kfra8p0\\LocalCache\\local-packages\\Python312\\site-packages\\sklearn\\utils\\deprecation.py:151: FutureWarning: 'force_all_finite' was renamed to 'ensure_all_finite' in 1.6 and will be removed in 1.8.\n",
      "  warnings.warn(\n"
     ]
    },
    {
     "name": "stdout",
     "output_type": "stream",
     "text": [
      "Clusters salvos em clusters/Tools/umap/n_components8\\run_hdbscan/Tools_clusters_run_hdbscan_minsize200_minsample20.csv\n",
      "HDBSCAN - min_cluster_size = 200, min_samples = 30\n"
     ]
    },
    {
     "name": "stderr",
     "output_type": "stream",
     "text": [
      "C:\\Users\\cruzd\\AppData\\Local\\Packages\\PythonSoftwareFoundation.Python.3.12_qbz5n2kfra8p0\\LocalCache\\local-packages\\Python312\\site-packages\\sklearn\\utils\\deprecation.py:151: FutureWarning: 'force_all_finite' was renamed to 'ensure_all_finite' in 1.6 and will be removed in 1.8.\n",
      "  warnings.warn(\n",
      "C:\\Users\\cruzd\\AppData\\Local\\Packages\\PythonSoftwareFoundation.Python.3.12_qbz5n2kfra8p0\\LocalCache\\local-packages\\Python312\\site-packages\\sklearn\\utils\\deprecation.py:151: FutureWarning: 'force_all_finite' was renamed to 'ensure_all_finite' in 1.6 and will be removed in 1.8.\n",
      "  warnings.warn(\n"
     ]
    },
    {
     "name": "stdout",
     "output_type": "stream",
     "text": [
      "Clusters salvos em clusters/Tools/umap/n_components8\\run_hdbscan/Tools_clusters_run_hdbscan_minsize200_minsample30.csv\n",
      "HDBSCAN - min_cluster_size = 200, min_samples = 50\n"
     ]
    },
    {
     "name": "stderr",
     "output_type": "stream",
     "text": [
      "C:\\Users\\cruzd\\AppData\\Local\\Packages\\PythonSoftwareFoundation.Python.3.12_qbz5n2kfra8p0\\LocalCache\\local-packages\\Python312\\site-packages\\sklearn\\utils\\deprecation.py:151: FutureWarning: 'force_all_finite' was renamed to 'ensure_all_finite' in 1.6 and will be removed in 1.8.\n",
      "  warnings.warn(\n",
      "C:\\Users\\cruzd\\AppData\\Local\\Packages\\PythonSoftwareFoundation.Python.3.12_qbz5n2kfra8p0\\LocalCache\\local-packages\\Python312\\site-packages\\sklearn\\utils\\deprecation.py:151: FutureWarning: 'force_all_finite' was renamed to 'ensure_all_finite' in 1.6 and will be removed in 1.8.\n",
      "  warnings.warn(\n"
     ]
    },
    {
     "name": "stdout",
     "output_type": "stream",
     "text": [
      "Clusters salvos em clusters/Tools/umap/n_components8\\run_hdbscan/Tools_clusters_run_hdbscan_minsize200_minsample50.csv\n",
      "HDBSCAN - min_cluster_size = 200, min_samples = 100\n"
     ]
    },
    {
     "name": "stderr",
     "output_type": "stream",
     "text": [
      "C:\\Users\\cruzd\\AppData\\Local\\Packages\\PythonSoftwareFoundation.Python.3.12_qbz5n2kfra8p0\\LocalCache\\local-packages\\Python312\\site-packages\\sklearn\\utils\\deprecation.py:151: FutureWarning: 'force_all_finite' was renamed to 'ensure_all_finite' in 1.6 and will be removed in 1.8.\n",
      "  warnings.warn(\n",
      "C:\\Users\\cruzd\\AppData\\Local\\Packages\\PythonSoftwareFoundation.Python.3.12_qbz5n2kfra8p0\\LocalCache\\local-packages\\Python312\\site-packages\\sklearn\\utils\\deprecation.py:151: FutureWarning: 'force_all_finite' was renamed to 'ensure_all_finite' in 1.6 and will be removed in 1.8.\n",
      "  warnings.warn(\n"
     ]
    },
    {
     "name": "stdout",
     "output_type": "stream",
     "text": [
      "Clusters salvos em clusters/Tools/umap/n_components8\\run_hdbscan/Tools_clusters_run_hdbscan_minsize200_minsample100.csv\n",
      "HDBSCAN - min_cluster_size = 300, min_samples = 10\n"
     ]
    },
    {
     "name": "stderr",
     "output_type": "stream",
     "text": [
      "C:\\Users\\cruzd\\AppData\\Local\\Packages\\PythonSoftwareFoundation.Python.3.12_qbz5n2kfra8p0\\LocalCache\\local-packages\\Python312\\site-packages\\sklearn\\utils\\deprecation.py:151: FutureWarning: 'force_all_finite' was renamed to 'ensure_all_finite' in 1.6 and will be removed in 1.8.\n",
      "  warnings.warn(\n",
      "C:\\Users\\cruzd\\AppData\\Local\\Packages\\PythonSoftwareFoundation.Python.3.12_qbz5n2kfra8p0\\LocalCache\\local-packages\\Python312\\site-packages\\sklearn\\utils\\deprecation.py:151: FutureWarning: 'force_all_finite' was renamed to 'ensure_all_finite' in 1.6 and will be removed in 1.8.\n",
      "  warnings.warn(\n"
     ]
    },
    {
     "name": "stdout",
     "output_type": "stream",
     "text": [
      "Clusters salvos em clusters/Tools/umap/n_components8\\run_hdbscan/Tools_clusters_run_hdbscan_minsize300_minsample10.csv\n",
      "HDBSCAN - min_cluster_size = 300, min_samples = 20\n"
     ]
    },
    {
     "name": "stderr",
     "output_type": "stream",
     "text": [
      "C:\\Users\\cruzd\\AppData\\Local\\Packages\\PythonSoftwareFoundation.Python.3.12_qbz5n2kfra8p0\\LocalCache\\local-packages\\Python312\\site-packages\\sklearn\\utils\\deprecation.py:151: FutureWarning: 'force_all_finite' was renamed to 'ensure_all_finite' in 1.6 and will be removed in 1.8.\n",
      "  warnings.warn(\n",
      "C:\\Users\\cruzd\\AppData\\Local\\Packages\\PythonSoftwareFoundation.Python.3.12_qbz5n2kfra8p0\\LocalCache\\local-packages\\Python312\\site-packages\\sklearn\\utils\\deprecation.py:151: FutureWarning: 'force_all_finite' was renamed to 'ensure_all_finite' in 1.6 and will be removed in 1.8.\n",
      "  warnings.warn(\n"
     ]
    },
    {
     "name": "stdout",
     "output_type": "stream",
     "text": [
      "Clusters salvos em clusters/Tools/umap/n_components8\\run_hdbscan/Tools_clusters_run_hdbscan_minsize300_minsample20.csv\n",
      "HDBSCAN - min_cluster_size = 300, min_samples = 30\n"
     ]
    },
    {
     "name": "stderr",
     "output_type": "stream",
     "text": [
      "C:\\Users\\cruzd\\AppData\\Local\\Packages\\PythonSoftwareFoundation.Python.3.12_qbz5n2kfra8p0\\LocalCache\\local-packages\\Python312\\site-packages\\sklearn\\utils\\deprecation.py:151: FutureWarning: 'force_all_finite' was renamed to 'ensure_all_finite' in 1.6 and will be removed in 1.8.\n",
      "  warnings.warn(\n",
      "C:\\Users\\cruzd\\AppData\\Local\\Packages\\PythonSoftwareFoundation.Python.3.12_qbz5n2kfra8p0\\LocalCache\\local-packages\\Python312\\site-packages\\sklearn\\utils\\deprecation.py:151: FutureWarning: 'force_all_finite' was renamed to 'ensure_all_finite' in 1.6 and will be removed in 1.8.\n",
      "  warnings.warn(\n"
     ]
    },
    {
     "name": "stdout",
     "output_type": "stream",
     "text": [
      "Clusters salvos em clusters/Tools/umap/n_components8\\run_hdbscan/Tools_clusters_run_hdbscan_minsize300_minsample30.csv\n",
      "HDBSCAN - min_cluster_size = 300, min_samples = 50\n"
     ]
    },
    {
     "name": "stderr",
     "output_type": "stream",
     "text": [
      "C:\\Users\\cruzd\\AppData\\Local\\Packages\\PythonSoftwareFoundation.Python.3.12_qbz5n2kfra8p0\\LocalCache\\local-packages\\Python312\\site-packages\\sklearn\\utils\\deprecation.py:151: FutureWarning: 'force_all_finite' was renamed to 'ensure_all_finite' in 1.6 and will be removed in 1.8.\n",
      "  warnings.warn(\n",
      "C:\\Users\\cruzd\\AppData\\Local\\Packages\\PythonSoftwareFoundation.Python.3.12_qbz5n2kfra8p0\\LocalCache\\local-packages\\Python312\\site-packages\\sklearn\\utils\\deprecation.py:151: FutureWarning: 'force_all_finite' was renamed to 'ensure_all_finite' in 1.6 and will be removed in 1.8.\n",
      "  warnings.warn(\n"
     ]
    },
    {
     "name": "stdout",
     "output_type": "stream",
     "text": [
      "Clusters salvos em clusters/Tools/umap/n_components8\\run_hdbscan/Tools_clusters_run_hdbscan_minsize300_minsample50.csv\n",
      "HDBSCAN - min_cluster_size = 300, min_samples = 100\n"
     ]
    },
    {
     "name": "stderr",
     "output_type": "stream",
     "text": [
      "C:\\Users\\cruzd\\AppData\\Local\\Packages\\PythonSoftwareFoundation.Python.3.12_qbz5n2kfra8p0\\LocalCache\\local-packages\\Python312\\site-packages\\sklearn\\utils\\deprecation.py:151: FutureWarning: 'force_all_finite' was renamed to 'ensure_all_finite' in 1.6 and will be removed in 1.8.\n",
      "  warnings.warn(\n",
      "C:\\Users\\cruzd\\AppData\\Local\\Packages\\PythonSoftwareFoundation.Python.3.12_qbz5n2kfra8p0\\LocalCache\\local-packages\\Python312\\site-packages\\sklearn\\utils\\deprecation.py:151: FutureWarning: 'force_all_finite' was renamed to 'ensure_all_finite' in 1.6 and will be removed in 1.8.\n",
      "  warnings.warn(\n"
     ]
    },
    {
     "name": "stdout",
     "output_type": "stream",
     "text": [
      "Clusters salvos em clusters/Tools/umap/n_components8\\run_hdbscan/Tools_clusters_run_hdbscan_minsize300_minsample100.csv\n",
      "Clusterização concluída e resultados salvos\n",
      "\n",
      " Embeddings reduzidos com umap e n_components 32\n",
      "Aplicando UMAP com n_components = 32...\n"
     ]
    },
    {
     "name": "stderr",
     "output_type": "stream",
     "text": [
      "C:\\Users\\cruzd\\AppData\\Local\\Packages\\PythonSoftwareFoundation.Python.3.12_qbz5n2kfra8p0\\LocalCache\\local-packages\\Python312\\site-packages\\sklearn\\utils\\deprecation.py:151: FutureWarning: 'force_all_finite' was renamed to 'ensure_all_finite' in 1.6 and will be removed in 1.8.\n",
      "  warnings.warn(\n",
      "C:\\Users\\cruzd\\AppData\\Local\\Packages\\PythonSoftwareFoundation.Python.3.12_qbz5n2kfra8p0\\LocalCache\\local-packages\\Python312\\site-packages\\umap\\umap_.py:1952: UserWarning: n_jobs value 1 overridden to 1 by setting random_state. Use no seed for parallelism.\n",
      "  warn(\n"
     ]
    },
    {
     "name": "stdout",
     "output_type": "stream",
     "text": [
      "Dimensionalidade reduzida de 1000 para 32\n",
      "Executando run_hdbscan...\n",
      "HDBSCAN - min_cluster_size = 30, min_samples = 10\n"
     ]
    },
    {
     "name": "stderr",
     "output_type": "stream",
     "text": [
      "C:\\Users\\cruzd\\AppData\\Local\\Packages\\PythonSoftwareFoundation.Python.3.12_qbz5n2kfra8p0\\LocalCache\\local-packages\\Python312\\site-packages\\sklearn\\utils\\deprecation.py:151: FutureWarning: 'force_all_finite' was renamed to 'ensure_all_finite' in 1.6 and will be removed in 1.8.\n",
      "  warnings.warn(\n",
      "C:\\Users\\cruzd\\AppData\\Local\\Packages\\PythonSoftwareFoundation.Python.3.12_qbz5n2kfra8p0\\LocalCache\\local-packages\\Python312\\site-packages\\sklearn\\utils\\deprecation.py:151: FutureWarning: 'force_all_finite' was renamed to 'ensure_all_finite' in 1.6 and will be removed in 1.8.\n",
      "  warnings.warn(\n"
     ]
    },
    {
     "name": "stdout",
     "output_type": "stream",
     "text": [
      "Clusters salvos em clusters/Tools/umap/n_components32\\run_hdbscan/Tools_clusters_run_hdbscan_minsize30_minsample10.csv\n",
      "HDBSCAN - min_cluster_size = 30, min_samples = 20\n"
     ]
    },
    {
     "name": "stderr",
     "output_type": "stream",
     "text": [
      "C:\\Users\\cruzd\\AppData\\Local\\Packages\\PythonSoftwareFoundation.Python.3.12_qbz5n2kfra8p0\\LocalCache\\local-packages\\Python312\\site-packages\\sklearn\\utils\\deprecation.py:151: FutureWarning: 'force_all_finite' was renamed to 'ensure_all_finite' in 1.6 and will be removed in 1.8.\n",
      "  warnings.warn(\n",
      "C:\\Users\\cruzd\\AppData\\Local\\Packages\\PythonSoftwareFoundation.Python.3.12_qbz5n2kfra8p0\\LocalCache\\local-packages\\Python312\\site-packages\\sklearn\\utils\\deprecation.py:151: FutureWarning: 'force_all_finite' was renamed to 'ensure_all_finite' in 1.6 and will be removed in 1.8.\n",
      "  warnings.warn(\n"
     ]
    },
    {
     "name": "stdout",
     "output_type": "stream",
     "text": [
      "Clusters salvos em clusters/Tools/umap/n_components32\\run_hdbscan/Tools_clusters_run_hdbscan_minsize30_minsample20.csv\n",
      "HDBSCAN - min_cluster_size = 30, min_samples = 30\n"
     ]
    },
    {
     "name": "stderr",
     "output_type": "stream",
     "text": [
      "C:\\Users\\cruzd\\AppData\\Local\\Packages\\PythonSoftwareFoundation.Python.3.12_qbz5n2kfra8p0\\LocalCache\\local-packages\\Python312\\site-packages\\sklearn\\utils\\deprecation.py:151: FutureWarning: 'force_all_finite' was renamed to 'ensure_all_finite' in 1.6 and will be removed in 1.8.\n",
      "  warnings.warn(\n",
      "C:\\Users\\cruzd\\AppData\\Local\\Packages\\PythonSoftwareFoundation.Python.3.12_qbz5n2kfra8p0\\LocalCache\\local-packages\\Python312\\site-packages\\sklearn\\utils\\deprecation.py:151: FutureWarning: 'force_all_finite' was renamed to 'ensure_all_finite' in 1.6 and will be removed in 1.8.\n",
      "  warnings.warn(\n"
     ]
    },
    {
     "name": "stdout",
     "output_type": "stream",
     "text": [
      "Clusters salvos em clusters/Tools/umap/n_components32\\run_hdbscan/Tools_clusters_run_hdbscan_minsize30_minsample30.csv\n",
      "HDBSCAN - min_cluster_size = 30, min_samples = 50\n"
     ]
    },
    {
     "name": "stderr",
     "output_type": "stream",
     "text": [
      "C:\\Users\\cruzd\\AppData\\Local\\Packages\\PythonSoftwareFoundation.Python.3.12_qbz5n2kfra8p0\\LocalCache\\local-packages\\Python312\\site-packages\\sklearn\\utils\\deprecation.py:151: FutureWarning: 'force_all_finite' was renamed to 'ensure_all_finite' in 1.6 and will be removed in 1.8.\n",
      "  warnings.warn(\n",
      "C:\\Users\\cruzd\\AppData\\Local\\Packages\\PythonSoftwareFoundation.Python.3.12_qbz5n2kfra8p0\\LocalCache\\local-packages\\Python312\\site-packages\\sklearn\\utils\\deprecation.py:151: FutureWarning: 'force_all_finite' was renamed to 'ensure_all_finite' in 1.6 and will be removed in 1.8.\n",
      "  warnings.warn(\n"
     ]
    },
    {
     "name": "stdout",
     "output_type": "stream",
     "text": [
      "Clusters salvos em clusters/Tools/umap/n_components32\\run_hdbscan/Tools_clusters_run_hdbscan_minsize30_minsample50.csv\n",
      "HDBSCAN - min_cluster_size = 30, min_samples = 100\n"
     ]
    },
    {
     "name": "stderr",
     "output_type": "stream",
     "text": [
      "C:\\Users\\cruzd\\AppData\\Local\\Packages\\PythonSoftwareFoundation.Python.3.12_qbz5n2kfra8p0\\LocalCache\\local-packages\\Python312\\site-packages\\sklearn\\utils\\deprecation.py:151: FutureWarning: 'force_all_finite' was renamed to 'ensure_all_finite' in 1.6 and will be removed in 1.8.\n",
      "  warnings.warn(\n",
      "C:\\Users\\cruzd\\AppData\\Local\\Packages\\PythonSoftwareFoundation.Python.3.12_qbz5n2kfra8p0\\LocalCache\\local-packages\\Python312\\site-packages\\sklearn\\utils\\deprecation.py:151: FutureWarning: 'force_all_finite' was renamed to 'ensure_all_finite' in 1.6 and will be removed in 1.8.\n",
      "  warnings.warn(\n"
     ]
    },
    {
     "name": "stdout",
     "output_type": "stream",
     "text": [
      "Clusters salvos em clusters/Tools/umap/n_components32\\run_hdbscan/Tools_clusters_run_hdbscan_minsize30_minsample100.csv\n",
      "HDBSCAN - min_cluster_size = 50, min_samples = 10\n"
     ]
    },
    {
     "name": "stderr",
     "output_type": "stream",
     "text": [
      "C:\\Users\\cruzd\\AppData\\Local\\Packages\\PythonSoftwareFoundation.Python.3.12_qbz5n2kfra8p0\\LocalCache\\local-packages\\Python312\\site-packages\\sklearn\\utils\\deprecation.py:151: FutureWarning: 'force_all_finite' was renamed to 'ensure_all_finite' in 1.6 and will be removed in 1.8.\n",
      "  warnings.warn(\n",
      "C:\\Users\\cruzd\\AppData\\Local\\Packages\\PythonSoftwareFoundation.Python.3.12_qbz5n2kfra8p0\\LocalCache\\local-packages\\Python312\\site-packages\\sklearn\\utils\\deprecation.py:151: FutureWarning: 'force_all_finite' was renamed to 'ensure_all_finite' in 1.6 and will be removed in 1.8.\n",
      "  warnings.warn(\n"
     ]
    },
    {
     "name": "stdout",
     "output_type": "stream",
     "text": [
      "Clusters salvos em clusters/Tools/umap/n_components32\\run_hdbscan/Tools_clusters_run_hdbscan_minsize50_minsample10.csv\n",
      "HDBSCAN - min_cluster_size = 50, min_samples = 20\n"
     ]
    },
    {
     "name": "stderr",
     "output_type": "stream",
     "text": [
      "C:\\Users\\cruzd\\AppData\\Local\\Packages\\PythonSoftwareFoundation.Python.3.12_qbz5n2kfra8p0\\LocalCache\\local-packages\\Python312\\site-packages\\sklearn\\utils\\deprecation.py:151: FutureWarning: 'force_all_finite' was renamed to 'ensure_all_finite' in 1.6 and will be removed in 1.8.\n",
      "  warnings.warn(\n",
      "C:\\Users\\cruzd\\AppData\\Local\\Packages\\PythonSoftwareFoundation.Python.3.12_qbz5n2kfra8p0\\LocalCache\\local-packages\\Python312\\site-packages\\sklearn\\utils\\deprecation.py:151: FutureWarning: 'force_all_finite' was renamed to 'ensure_all_finite' in 1.6 and will be removed in 1.8.\n",
      "  warnings.warn(\n"
     ]
    },
    {
     "name": "stdout",
     "output_type": "stream",
     "text": [
      "Clusters salvos em clusters/Tools/umap/n_components32\\run_hdbscan/Tools_clusters_run_hdbscan_minsize50_minsample20.csv\n",
      "HDBSCAN - min_cluster_size = 50, min_samples = 30\n"
     ]
    },
    {
     "name": "stderr",
     "output_type": "stream",
     "text": [
      "C:\\Users\\cruzd\\AppData\\Local\\Packages\\PythonSoftwareFoundation.Python.3.12_qbz5n2kfra8p0\\LocalCache\\local-packages\\Python312\\site-packages\\sklearn\\utils\\deprecation.py:151: FutureWarning: 'force_all_finite' was renamed to 'ensure_all_finite' in 1.6 and will be removed in 1.8.\n",
      "  warnings.warn(\n",
      "C:\\Users\\cruzd\\AppData\\Local\\Packages\\PythonSoftwareFoundation.Python.3.12_qbz5n2kfra8p0\\LocalCache\\local-packages\\Python312\\site-packages\\sklearn\\utils\\deprecation.py:151: FutureWarning: 'force_all_finite' was renamed to 'ensure_all_finite' in 1.6 and will be removed in 1.8.\n",
      "  warnings.warn(\n"
     ]
    },
    {
     "name": "stdout",
     "output_type": "stream",
     "text": [
      "Clusters salvos em clusters/Tools/umap/n_components32\\run_hdbscan/Tools_clusters_run_hdbscan_minsize50_minsample30.csv\n",
      "HDBSCAN - min_cluster_size = 50, min_samples = 50\n"
     ]
    },
    {
     "name": "stderr",
     "output_type": "stream",
     "text": [
      "C:\\Users\\cruzd\\AppData\\Local\\Packages\\PythonSoftwareFoundation.Python.3.12_qbz5n2kfra8p0\\LocalCache\\local-packages\\Python312\\site-packages\\sklearn\\utils\\deprecation.py:151: FutureWarning: 'force_all_finite' was renamed to 'ensure_all_finite' in 1.6 and will be removed in 1.8.\n",
      "  warnings.warn(\n",
      "C:\\Users\\cruzd\\AppData\\Local\\Packages\\PythonSoftwareFoundation.Python.3.12_qbz5n2kfra8p0\\LocalCache\\local-packages\\Python312\\site-packages\\sklearn\\utils\\deprecation.py:151: FutureWarning: 'force_all_finite' was renamed to 'ensure_all_finite' in 1.6 and will be removed in 1.8.\n",
      "  warnings.warn(\n"
     ]
    },
    {
     "name": "stdout",
     "output_type": "stream",
     "text": [
      "Clusters salvos em clusters/Tools/umap/n_components32\\run_hdbscan/Tools_clusters_run_hdbscan_minsize50_minsample50.csv\n",
      "HDBSCAN - min_cluster_size = 50, min_samples = 100\n"
     ]
    },
    {
     "name": "stderr",
     "output_type": "stream",
     "text": [
      "C:\\Users\\cruzd\\AppData\\Local\\Packages\\PythonSoftwareFoundation.Python.3.12_qbz5n2kfra8p0\\LocalCache\\local-packages\\Python312\\site-packages\\sklearn\\utils\\deprecation.py:151: FutureWarning: 'force_all_finite' was renamed to 'ensure_all_finite' in 1.6 and will be removed in 1.8.\n",
      "  warnings.warn(\n",
      "C:\\Users\\cruzd\\AppData\\Local\\Packages\\PythonSoftwareFoundation.Python.3.12_qbz5n2kfra8p0\\LocalCache\\local-packages\\Python312\\site-packages\\sklearn\\utils\\deprecation.py:151: FutureWarning: 'force_all_finite' was renamed to 'ensure_all_finite' in 1.6 and will be removed in 1.8.\n",
      "  warnings.warn(\n"
     ]
    },
    {
     "name": "stdout",
     "output_type": "stream",
     "text": [
      "Clusters salvos em clusters/Tools/umap/n_components32\\run_hdbscan/Tools_clusters_run_hdbscan_minsize50_minsample100.csv\n",
      "HDBSCAN - min_cluster_size = 100, min_samples = 10\n"
     ]
    },
    {
     "name": "stderr",
     "output_type": "stream",
     "text": [
      "C:\\Users\\cruzd\\AppData\\Local\\Packages\\PythonSoftwareFoundation.Python.3.12_qbz5n2kfra8p0\\LocalCache\\local-packages\\Python312\\site-packages\\sklearn\\utils\\deprecation.py:151: FutureWarning: 'force_all_finite' was renamed to 'ensure_all_finite' in 1.6 and will be removed in 1.8.\n",
      "  warnings.warn(\n",
      "C:\\Users\\cruzd\\AppData\\Local\\Packages\\PythonSoftwareFoundation.Python.3.12_qbz5n2kfra8p0\\LocalCache\\local-packages\\Python312\\site-packages\\sklearn\\utils\\deprecation.py:151: FutureWarning: 'force_all_finite' was renamed to 'ensure_all_finite' in 1.6 and will be removed in 1.8.\n",
      "  warnings.warn(\n"
     ]
    },
    {
     "name": "stdout",
     "output_type": "stream",
     "text": [
      "Clusters salvos em clusters/Tools/umap/n_components32\\run_hdbscan/Tools_clusters_run_hdbscan_minsize100_minsample10.csv\n",
      "HDBSCAN - min_cluster_size = 100, min_samples = 20\n"
     ]
    },
    {
     "name": "stderr",
     "output_type": "stream",
     "text": [
      "C:\\Users\\cruzd\\AppData\\Local\\Packages\\PythonSoftwareFoundation.Python.3.12_qbz5n2kfra8p0\\LocalCache\\local-packages\\Python312\\site-packages\\sklearn\\utils\\deprecation.py:151: FutureWarning: 'force_all_finite' was renamed to 'ensure_all_finite' in 1.6 and will be removed in 1.8.\n",
      "  warnings.warn(\n",
      "C:\\Users\\cruzd\\AppData\\Local\\Packages\\PythonSoftwareFoundation.Python.3.12_qbz5n2kfra8p0\\LocalCache\\local-packages\\Python312\\site-packages\\sklearn\\utils\\deprecation.py:151: FutureWarning: 'force_all_finite' was renamed to 'ensure_all_finite' in 1.6 and will be removed in 1.8.\n",
      "  warnings.warn(\n"
     ]
    },
    {
     "name": "stdout",
     "output_type": "stream",
     "text": [
      "Clusters salvos em clusters/Tools/umap/n_components32\\run_hdbscan/Tools_clusters_run_hdbscan_minsize100_minsample20.csv\n",
      "HDBSCAN - min_cluster_size = 100, min_samples = 30\n"
     ]
    },
    {
     "name": "stderr",
     "output_type": "stream",
     "text": [
      "C:\\Users\\cruzd\\AppData\\Local\\Packages\\PythonSoftwareFoundation.Python.3.12_qbz5n2kfra8p0\\LocalCache\\local-packages\\Python312\\site-packages\\sklearn\\utils\\deprecation.py:151: FutureWarning: 'force_all_finite' was renamed to 'ensure_all_finite' in 1.6 and will be removed in 1.8.\n",
      "  warnings.warn(\n",
      "C:\\Users\\cruzd\\AppData\\Local\\Packages\\PythonSoftwareFoundation.Python.3.12_qbz5n2kfra8p0\\LocalCache\\local-packages\\Python312\\site-packages\\sklearn\\utils\\deprecation.py:151: FutureWarning: 'force_all_finite' was renamed to 'ensure_all_finite' in 1.6 and will be removed in 1.8.\n",
      "  warnings.warn(\n"
     ]
    },
    {
     "name": "stdout",
     "output_type": "stream",
     "text": [
      "Clusters salvos em clusters/Tools/umap/n_components32\\run_hdbscan/Tools_clusters_run_hdbscan_minsize100_minsample30.csv\n",
      "HDBSCAN - min_cluster_size = 100, min_samples = 50\n"
     ]
    },
    {
     "name": "stderr",
     "output_type": "stream",
     "text": [
      "C:\\Users\\cruzd\\AppData\\Local\\Packages\\PythonSoftwareFoundation.Python.3.12_qbz5n2kfra8p0\\LocalCache\\local-packages\\Python312\\site-packages\\sklearn\\utils\\deprecation.py:151: FutureWarning: 'force_all_finite' was renamed to 'ensure_all_finite' in 1.6 and will be removed in 1.8.\n",
      "  warnings.warn(\n",
      "C:\\Users\\cruzd\\AppData\\Local\\Packages\\PythonSoftwareFoundation.Python.3.12_qbz5n2kfra8p0\\LocalCache\\local-packages\\Python312\\site-packages\\sklearn\\utils\\deprecation.py:151: FutureWarning: 'force_all_finite' was renamed to 'ensure_all_finite' in 1.6 and will be removed in 1.8.\n",
      "  warnings.warn(\n"
     ]
    },
    {
     "name": "stdout",
     "output_type": "stream",
     "text": [
      "Clusters salvos em clusters/Tools/umap/n_components32\\run_hdbscan/Tools_clusters_run_hdbscan_minsize100_minsample50.csv\n",
      "HDBSCAN - min_cluster_size = 100, min_samples = 100\n"
     ]
    },
    {
     "name": "stderr",
     "output_type": "stream",
     "text": [
      "C:\\Users\\cruzd\\AppData\\Local\\Packages\\PythonSoftwareFoundation.Python.3.12_qbz5n2kfra8p0\\LocalCache\\local-packages\\Python312\\site-packages\\sklearn\\utils\\deprecation.py:151: FutureWarning: 'force_all_finite' was renamed to 'ensure_all_finite' in 1.6 and will be removed in 1.8.\n",
      "  warnings.warn(\n",
      "C:\\Users\\cruzd\\AppData\\Local\\Packages\\PythonSoftwareFoundation.Python.3.12_qbz5n2kfra8p0\\LocalCache\\local-packages\\Python312\\site-packages\\sklearn\\utils\\deprecation.py:151: FutureWarning: 'force_all_finite' was renamed to 'ensure_all_finite' in 1.6 and will be removed in 1.8.\n",
      "  warnings.warn(\n"
     ]
    },
    {
     "name": "stdout",
     "output_type": "stream",
     "text": [
      "Clusters salvos em clusters/Tools/umap/n_components32\\run_hdbscan/Tools_clusters_run_hdbscan_minsize100_minsample100.csv\n",
      "HDBSCAN - min_cluster_size = 200, min_samples = 10\n"
     ]
    },
    {
     "name": "stderr",
     "output_type": "stream",
     "text": [
      "C:\\Users\\cruzd\\AppData\\Local\\Packages\\PythonSoftwareFoundation.Python.3.12_qbz5n2kfra8p0\\LocalCache\\local-packages\\Python312\\site-packages\\sklearn\\utils\\deprecation.py:151: FutureWarning: 'force_all_finite' was renamed to 'ensure_all_finite' in 1.6 and will be removed in 1.8.\n",
      "  warnings.warn(\n",
      "C:\\Users\\cruzd\\AppData\\Local\\Packages\\PythonSoftwareFoundation.Python.3.12_qbz5n2kfra8p0\\LocalCache\\local-packages\\Python312\\site-packages\\sklearn\\utils\\deprecation.py:151: FutureWarning: 'force_all_finite' was renamed to 'ensure_all_finite' in 1.6 and will be removed in 1.8.\n",
      "  warnings.warn(\n"
     ]
    },
    {
     "name": "stdout",
     "output_type": "stream",
     "text": [
      "Clusters salvos em clusters/Tools/umap/n_components32\\run_hdbscan/Tools_clusters_run_hdbscan_minsize200_minsample10.csv\n",
      "HDBSCAN - min_cluster_size = 200, min_samples = 20\n"
     ]
    },
    {
     "name": "stderr",
     "output_type": "stream",
     "text": [
      "C:\\Users\\cruzd\\AppData\\Local\\Packages\\PythonSoftwareFoundation.Python.3.12_qbz5n2kfra8p0\\LocalCache\\local-packages\\Python312\\site-packages\\sklearn\\utils\\deprecation.py:151: FutureWarning: 'force_all_finite' was renamed to 'ensure_all_finite' in 1.6 and will be removed in 1.8.\n",
      "  warnings.warn(\n",
      "C:\\Users\\cruzd\\AppData\\Local\\Packages\\PythonSoftwareFoundation.Python.3.12_qbz5n2kfra8p0\\LocalCache\\local-packages\\Python312\\site-packages\\sklearn\\utils\\deprecation.py:151: FutureWarning: 'force_all_finite' was renamed to 'ensure_all_finite' in 1.6 and will be removed in 1.8.\n",
      "  warnings.warn(\n"
     ]
    },
    {
     "name": "stdout",
     "output_type": "stream",
     "text": [
      "Clusters salvos em clusters/Tools/umap/n_components32\\run_hdbscan/Tools_clusters_run_hdbscan_minsize200_minsample20.csv\n",
      "HDBSCAN - min_cluster_size = 200, min_samples = 30\n"
     ]
    },
    {
     "name": "stderr",
     "output_type": "stream",
     "text": [
      "C:\\Users\\cruzd\\AppData\\Local\\Packages\\PythonSoftwareFoundation.Python.3.12_qbz5n2kfra8p0\\LocalCache\\local-packages\\Python312\\site-packages\\sklearn\\utils\\deprecation.py:151: FutureWarning: 'force_all_finite' was renamed to 'ensure_all_finite' in 1.6 and will be removed in 1.8.\n",
      "  warnings.warn(\n",
      "C:\\Users\\cruzd\\AppData\\Local\\Packages\\PythonSoftwareFoundation.Python.3.12_qbz5n2kfra8p0\\LocalCache\\local-packages\\Python312\\site-packages\\sklearn\\utils\\deprecation.py:151: FutureWarning: 'force_all_finite' was renamed to 'ensure_all_finite' in 1.6 and will be removed in 1.8.\n",
      "  warnings.warn(\n"
     ]
    },
    {
     "name": "stdout",
     "output_type": "stream",
     "text": [
      "Clusters salvos em clusters/Tools/umap/n_components32\\run_hdbscan/Tools_clusters_run_hdbscan_minsize200_minsample30.csv\n",
      "HDBSCAN - min_cluster_size = 200, min_samples = 50\n"
     ]
    },
    {
     "name": "stderr",
     "output_type": "stream",
     "text": [
      "C:\\Users\\cruzd\\AppData\\Local\\Packages\\PythonSoftwareFoundation.Python.3.12_qbz5n2kfra8p0\\LocalCache\\local-packages\\Python312\\site-packages\\sklearn\\utils\\deprecation.py:151: FutureWarning: 'force_all_finite' was renamed to 'ensure_all_finite' in 1.6 and will be removed in 1.8.\n",
      "  warnings.warn(\n",
      "C:\\Users\\cruzd\\AppData\\Local\\Packages\\PythonSoftwareFoundation.Python.3.12_qbz5n2kfra8p0\\LocalCache\\local-packages\\Python312\\site-packages\\sklearn\\utils\\deprecation.py:151: FutureWarning: 'force_all_finite' was renamed to 'ensure_all_finite' in 1.6 and will be removed in 1.8.\n",
      "  warnings.warn(\n"
     ]
    },
    {
     "name": "stdout",
     "output_type": "stream",
     "text": [
      "Clusters salvos em clusters/Tools/umap/n_components32\\run_hdbscan/Tools_clusters_run_hdbscan_minsize200_minsample50.csv\n",
      "HDBSCAN - min_cluster_size = 200, min_samples = 100\n"
     ]
    },
    {
     "name": "stderr",
     "output_type": "stream",
     "text": [
      "C:\\Users\\cruzd\\AppData\\Local\\Packages\\PythonSoftwareFoundation.Python.3.12_qbz5n2kfra8p0\\LocalCache\\local-packages\\Python312\\site-packages\\sklearn\\utils\\deprecation.py:151: FutureWarning: 'force_all_finite' was renamed to 'ensure_all_finite' in 1.6 and will be removed in 1.8.\n",
      "  warnings.warn(\n",
      "C:\\Users\\cruzd\\AppData\\Local\\Packages\\PythonSoftwareFoundation.Python.3.12_qbz5n2kfra8p0\\LocalCache\\local-packages\\Python312\\site-packages\\sklearn\\utils\\deprecation.py:151: FutureWarning: 'force_all_finite' was renamed to 'ensure_all_finite' in 1.6 and will be removed in 1.8.\n",
      "  warnings.warn(\n"
     ]
    },
    {
     "name": "stdout",
     "output_type": "stream",
     "text": [
      "Clusters salvos em clusters/Tools/umap/n_components32\\run_hdbscan/Tools_clusters_run_hdbscan_minsize200_minsample100.csv\n",
      "HDBSCAN - min_cluster_size = 300, min_samples = 10\n"
     ]
    },
    {
     "name": "stderr",
     "output_type": "stream",
     "text": [
      "C:\\Users\\cruzd\\AppData\\Local\\Packages\\PythonSoftwareFoundation.Python.3.12_qbz5n2kfra8p0\\LocalCache\\local-packages\\Python312\\site-packages\\sklearn\\utils\\deprecation.py:151: FutureWarning: 'force_all_finite' was renamed to 'ensure_all_finite' in 1.6 and will be removed in 1.8.\n",
      "  warnings.warn(\n",
      "C:\\Users\\cruzd\\AppData\\Local\\Packages\\PythonSoftwareFoundation.Python.3.12_qbz5n2kfra8p0\\LocalCache\\local-packages\\Python312\\site-packages\\sklearn\\utils\\deprecation.py:151: FutureWarning: 'force_all_finite' was renamed to 'ensure_all_finite' in 1.6 and will be removed in 1.8.\n",
      "  warnings.warn(\n"
     ]
    },
    {
     "name": "stdout",
     "output_type": "stream",
     "text": [
      "Clusters salvos em clusters/Tools/umap/n_components32\\run_hdbscan/Tools_clusters_run_hdbscan_minsize300_minsample10.csv\n",
      "HDBSCAN - min_cluster_size = 300, min_samples = 20\n"
     ]
    },
    {
     "name": "stderr",
     "output_type": "stream",
     "text": [
      "C:\\Users\\cruzd\\AppData\\Local\\Packages\\PythonSoftwareFoundation.Python.3.12_qbz5n2kfra8p0\\LocalCache\\local-packages\\Python312\\site-packages\\sklearn\\utils\\deprecation.py:151: FutureWarning: 'force_all_finite' was renamed to 'ensure_all_finite' in 1.6 and will be removed in 1.8.\n",
      "  warnings.warn(\n",
      "C:\\Users\\cruzd\\AppData\\Local\\Packages\\PythonSoftwareFoundation.Python.3.12_qbz5n2kfra8p0\\LocalCache\\local-packages\\Python312\\site-packages\\sklearn\\utils\\deprecation.py:151: FutureWarning: 'force_all_finite' was renamed to 'ensure_all_finite' in 1.6 and will be removed in 1.8.\n",
      "  warnings.warn(\n"
     ]
    },
    {
     "name": "stdout",
     "output_type": "stream",
     "text": [
      "Clusters salvos em clusters/Tools/umap/n_components32\\run_hdbscan/Tools_clusters_run_hdbscan_minsize300_minsample20.csv\n",
      "HDBSCAN - min_cluster_size = 300, min_samples = 30\n"
     ]
    },
    {
     "name": "stderr",
     "output_type": "stream",
     "text": [
      "C:\\Users\\cruzd\\AppData\\Local\\Packages\\PythonSoftwareFoundation.Python.3.12_qbz5n2kfra8p0\\LocalCache\\local-packages\\Python312\\site-packages\\sklearn\\utils\\deprecation.py:151: FutureWarning: 'force_all_finite' was renamed to 'ensure_all_finite' in 1.6 and will be removed in 1.8.\n",
      "  warnings.warn(\n",
      "C:\\Users\\cruzd\\AppData\\Local\\Packages\\PythonSoftwareFoundation.Python.3.12_qbz5n2kfra8p0\\LocalCache\\local-packages\\Python312\\site-packages\\sklearn\\utils\\deprecation.py:151: FutureWarning: 'force_all_finite' was renamed to 'ensure_all_finite' in 1.6 and will be removed in 1.8.\n",
      "  warnings.warn(\n"
     ]
    },
    {
     "name": "stdout",
     "output_type": "stream",
     "text": [
      "Clusters salvos em clusters/Tools/umap/n_components32\\run_hdbscan/Tools_clusters_run_hdbscan_minsize300_minsample30.csv\n",
      "HDBSCAN - min_cluster_size = 300, min_samples = 50\n"
     ]
    },
    {
     "name": "stderr",
     "output_type": "stream",
     "text": [
      "C:\\Users\\cruzd\\AppData\\Local\\Packages\\PythonSoftwareFoundation.Python.3.12_qbz5n2kfra8p0\\LocalCache\\local-packages\\Python312\\site-packages\\sklearn\\utils\\deprecation.py:151: FutureWarning: 'force_all_finite' was renamed to 'ensure_all_finite' in 1.6 and will be removed in 1.8.\n",
      "  warnings.warn(\n",
      "C:\\Users\\cruzd\\AppData\\Local\\Packages\\PythonSoftwareFoundation.Python.3.12_qbz5n2kfra8p0\\LocalCache\\local-packages\\Python312\\site-packages\\sklearn\\utils\\deprecation.py:151: FutureWarning: 'force_all_finite' was renamed to 'ensure_all_finite' in 1.6 and will be removed in 1.8.\n",
      "  warnings.warn(\n"
     ]
    },
    {
     "name": "stdout",
     "output_type": "stream",
     "text": [
      "Clusters salvos em clusters/Tools/umap/n_components32\\run_hdbscan/Tools_clusters_run_hdbscan_minsize300_minsample50.csv\n",
      "HDBSCAN - min_cluster_size = 300, min_samples = 100\n"
     ]
    },
    {
     "name": "stderr",
     "output_type": "stream",
     "text": [
      "C:\\Users\\cruzd\\AppData\\Local\\Packages\\PythonSoftwareFoundation.Python.3.12_qbz5n2kfra8p0\\LocalCache\\local-packages\\Python312\\site-packages\\sklearn\\utils\\deprecation.py:151: FutureWarning: 'force_all_finite' was renamed to 'ensure_all_finite' in 1.6 and will be removed in 1.8.\n",
      "  warnings.warn(\n",
      "C:\\Users\\cruzd\\AppData\\Local\\Packages\\PythonSoftwareFoundation.Python.3.12_qbz5n2kfra8p0\\LocalCache\\local-packages\\Python312\\site-packages\\sklearn\\utils\\deprecation.py:151: FutureWarning: 'force_all_finite' was renamed to 'ensure_all_finite' in 1.6 and will be removed in 1.8.\n",
      "  warnings.warn(\n"
     ]
    },
    {
     "name": "stdout",
     "output_type": "stream",
     "text": [
      "Clusters salvos em clusters/Tools/umap/n_components32\\run_hdbscan/Tools_clusters_run_hdbscan_minsize300_minsample100.csv\n",
      "Clusterização concluída e resultados salvos\n",
      "\n",
      " Embeddings reduzidos com umap e n_components 64\n",
      "Aplicando UMAP com n_components = 64...\n"
     ]
    },
    {
     "name": "stderr",
     "output_type": "stream",
     "text": [
      "C:\\Users\\cruzd\\AppData\\Local\\Packages\\PythonSoftwareFoundation.Python.3.12_qbz5n2kfra8p0\\LocalCache\\local-packages\\Python312\\site-packages\\sklearn\\utils\\deprecation.py:151: FutureWarning: 'force_all_finite' was renamed to 'ensure_all_finite' in 1.6 and will be removed in 1.8.\n",
      "  warnings.warn(\n",
      "C:\\Users\\cruzd\\AppData\\Local\\Packages\\PythonSoftwareFoundation.Python.3.12_qbz5n2kfra8p0\\LocalCache\\local-packages\\Python312\\site-packages\\umap\\umap_.py:1952: UserWarning: n_jobs value 1 overridden to 1 by setting random_state. Use no seed for parallelism.\n",
      "  warn(\n"
     ]
    },
    {
     "name": "stdout",
     "output_type": "stream",
     "text": [
      "Dimensionalidade reduzida de 1000 para 64\n",
      "Executando run_hdbscan...\n",
      "HDBSCAN - min_cluster_size = 30, min_samples = 10\n"
     ]
    },
    {
     "name": "stderr",
     "output_type": "stream",
     "text": [
      "C:\\Users\\cruzd\\AppData\\Local\\Packages\\PythonSoftwareFoundation.Python.3.12_qbz5n2kfra8p0\\LocalCache\\local-packages\\Python312\\site-packages\\sklearn\\utils\\deprecation.py:151: FutureWarning: 'force_all_finite' was renamed to 'ensure_all_finite' in 1.6 and will be removed in 1.8.\n",
      "  warnings.warn(\n",
      "C:\\Users\\cruzd\\AppData\\Local\\Packages\\PythonSoftwareFoundation.Python.3.12_qbz5n2kfra8p0\\LocalCache\\local-packages\\Python312\\site-packages\\sklearn\\utils\\deprecation.py:151: FutureWarning: 'force_all_finite' was renamed to 'ensure_all_finite' in 1.6 and will be removed in 1.8.\n",
      "  warnings.warn(\n"
     ]
    },
    {
     "name": "stdout",
     "output_type": "stream",
     "text": [
      "Clusters salvos em clusters/Tools/umap/n_components64\\run_hdbscan/Tools_clusters_run_hdbscan_minsize30_minsample10.csv\n",
      "HDBSCAN - min_cluster_size = 30, min_samples = 20\n"
     ]
    },
    {
     "name": "stderr",
     "output_type": "stream",
     "text": [
      "C:\\Users\\cruzd\\AppData\\Local\\Packages\\PythonSoftwareFoundation.Python.3.12_qbz5n2kfra8p0\\LocalCache\\local-packages\\Python312\\site-packages\\sklearn\\utils\\deprecation.py:151: FutureWarning: 'force_all_finite' was renamed to 'ensure_all_finite' in 1.6 and will be removed in 1.8.\n",
      "  warnings.warn(\n",
      "C:\\Users\\cruzd\\AppData\\Local\\Packages\\PythonSoftwareFoundation.Python.3.12_qbz5n2kfra8p0\\LocalCache\\local-packages\\Python312\\site-packages\\sklearn\\utils\\deprecation.py:151: FutureWarning: 'force_all_finite' was renamed to 'ensure_all_finite' in 1.6 and will be removed in 1.8.\n",
      "  warnings.warn(\n"
     ]
    },
    {
     "name": "stdout",
     "output_type": "stream",
     "text": [
      "Clusters salvos em clusters/Tools/umap/n_components64\\run_hdbscan/Tools_clusters_run_hdbscan_minsize30_minsample20.csv\n",
      "HDBSCAN - min_cluster_size = 30, min_samples = 30\n"
     ]
    },
    {
     "name": "stderr",
     "output_type": "stream",
     "text": [
      "C:\\Users\\cruzd\\AppData\\Local\\Packages\\PythonSoftwareFoundation.Python.3.12_qbz5n2kfra8p0\\LocalCache\\local-packages\\Python312\\site-packages\\sklearn\\utils\\deprecation.py:151: FutureWarning: 'force_all_finite' was renamed to 'ensure_all_finite' in 1.6 and will be removed in 1.8.\n",
      "  warnings.warn(\n",
      "C:\\Users\\cruzd\\AppData\\Local\\Packages\\PythonSoftwareFoundation.Python.3.12_qbz5n2kfra8p0\\LocalCache\\local-packages\\Python312\\site-packages\\sklearn\\utils\\deprecation.py:151: FutureWarning: 'force_all_finite' was renamed to 'ensure_all_finite' in 1.6 and will be removed in 1.8.\n",
      "  warnings.warn(\n"
     ]
    },
    {
     "name": "stdout",
     "output_type": "stream",
     "text": [
      "Clusters salvos em clusters/Tools/umap/n_components64\\run_hdbscan/Tools_clusters_run_hdbscan_minsize30_minsample30.csv\n",
      "HDBSCAN - min_cluster_size = 30, min_samples = 50\n"
     ]
    },
    {
     "name": "stderr",
     "output_type": "stream",
     "text": [
      "C:\\Users\\cruzd\\AppData\\Local\\Packages\\PythonSoftwareFoundation.Python.3.12_qbz5n2kfra8p0\\LocalCache\\local-packages\\Python312\\site-packages\\sklearn\\utils\\deprecation.py:151: FutureWarning: 'force_all_finite' was renamed to 'ensure_all_finite' in 1.6 and will be removed in 1.8.\n",
      "  warnings.warn(\n",
      "C:\\Users\\cruzd\\AppData\\Local\\Packages\\PythonSoftwareFoundation.Python.3.12_qbz5n2kfra8p0\\LocalCache\\local-packages\\Python312\\site-packages\\sklearn\\utils\\deprecation.py:151: FutureWarning: 'force_all_finite' was renamed to 'ensure_all_finite' in 1.6 and will be removed in 1.8.\n",
      "  warnings.warn(\n"
     ]
    },
    {
     "name": "stdout",
     "output_type": "stream",
     "text": [
      "Clusters salvos em clusters/Tools/umap/n_components64\\run_hdbscan/Tools_clusters_run_hdbscan_minsize30_minsample50.csv\n",
      "HDBSCAN - min_cluster_size = 30, min_samples = 100\n"
     ]
    },
    {
     "name": "stderr",
     "output_type": "stream",
     "text": [
      "C:\\Users\\cruzd\\AppData\\Local\\Packages\\PythonSoftwareFoundation.Python.3.12_qbz5n2kfra8p0\\LocalCache\\local-packages\\Python312\\site-packages\\sklearn\\utils\\deprecation.py:151: FutureWarning: 'force_all_finite' was renamed to 'ensure_all_finite' in 1.6 and will be removed in 1.8.\n",
      "  warnings.warn(\n",
      "C:\\Users\\cruzd\\AppData\\Local\\Packages\\PythonSoftwareFoundation.Python.3.12_qbz5n2kfra8p0\\LocalCache\\local-packages\\Python312\\site-packages\\sklearn\\utils\\deprecation.py:151: FutureWarning: 'force_all_finite' was renamed to 'ensure_all_finite' in 1.6 and will be removed in 1.8.\n",
      "  warnings.warn(\n"
     ]
    },
    {
     "name": "stdout",
     "output_type": "stream",
     "text": [
      "Clusters salvos em clusters/Tools/umap/n_components64\\run_hdbscan/Tools_clusters_run_hdbscan_minsize30_minsample100.csv\n",
      "HDBSCAN - min_cluster_size = 50, min_samples = 10\n"
     ]
    },
    {
     "name": "stderr",
     "output_type": "stream",
     "text": [
      "C:\\Users\\cruzd\\AppData\\Local\\Packages\\PythonSoftwareFoundation.Python.3.12_qbz5n2kfra8p0\\LocalCache\\local-packages\\Python312\\site-packages\\sklearn\\utils\\deprecation.py:151: FutureWarning: 'force_all_finite' was renamed to 'ensure_all_finite' in 1.6 and will be removed in 1.8.\n",
      "  warnings.warn(\n",
      "C:\\Users\\cruzd\\AppData\\Local\\Packages\\PythonSoftwareFoundation.Python.3.12_qbz5n2kfra8p0\\LocalCache\\local-packages\\Python312\\site-packages\\sklearn\\utils\\deprecation.py:151: FutureWarning: 'force_all_finite' was renamed to 'ensure_all_finite' in 1.6 and will be removed in 1.8.\n",
      "  warnings.warn(\n"
     ]
    },
    {
     "name": "stdout",
     "output_type": "stream",
     "text": [
      "Clusters salvos em clusters/Tools/umap/n_components64\\run_hdbscan/Tools_clusters_run_hdbscan_minsize50_minsample10.csv\n",
      "HDBSCAN - min_cluster_size = 50, min_samples = 20\n"
     ]
    },
    {
     "name": "stderr",
     "output_type": "stream",
     "text": [
      "C:\\Users\\cruzd\\AppData\\Local\\Packages\\PythonSoftwareFoundation.Python.3.12_qbz5n2kfra8p0\\LocalCache\\local-packages\\Python312\\site-packages\\sklearn\\utils\\deprecation.py:151: FutureWarning: 'force_all_finite' was renamed to 'ensure_all_finite' in 1.6 and will be removed in 1.8.\n",
      "  warnings.warn(\n",
      "C:\\Users\\cruzd\\AppData\\Local\\Packages\\PythonSoftwareFoundation.Python.3.12_qbz5n2kfra8p0\\LocalCache\\local-packages\\Python312\\site-packages\\sklearn\\utils\\deprecation.py:151: FutureWarning: 'force_all_finite' was renamed to 'ensure_all_finite' in 1.6 and will be removed in 1.8.\n",
      "  warnings.warn(\n"
     ]
    },
    {
     "name": "stdout",
     "output_type": "stream",
     "text": [
      "Clusters salvos em clusters/Tools/umap/n_components64\\run_hdbscan/Tools_clusters_run_hdbscan_minsize50_minsample20.csv\n",
      "HDBSCAN - min_cluster_size = 50, min_samples = 30\n"
     ]
    },
    {
     "name": "stderr",
     "output_type": "stream",
     "text": [
      "C:\\Users\\cruzd\\AppData\\Local\\Packages\\PythonSoftwareFoundation.Python.3.12_qbz5n2kfra8p0\\LocalCache\\local-packages\\Python312\\site-packages\\sklearn\\utils\\deprecation.py:151: FutureWarning: 'force_all_finite' was renamed to 'ensure_all_finite' in 1.6 and will be removed in 1.8.\n",
      "  warnings.warn(\n",
      "C:\\Users\\cruzd\\AppData\\Local\\Packages\\PythonSoftwareFoundation.Python.3.12_qbz5n2kfra8p0\\LocalCache\\local-packages\\Python312\\site-packages\\sklearn\\utils\\deprecation.py:151: FutureWarning: 'force_all_finite' was renamed to 'ensure_all_finite' in 1.6 and will be removed in 1.8.\n",
      "  warnings.warn(\n"
     ]
    },
    {
     "name": "stdout",
     "output_type": "stream",
     "text": [
      "Clusters salvos em clusters/Tools/umap/n_components64\\run_hdbscan/Tools_clusters_run_hdbscan_minsize50_minsample30.csv\n",
      "HDBSCAN - min_cluster_size = 50, min_samples = 50\n"
     ]
    },
    {
     "name": "stderr",
     "output_type": "stream",
     "text": [
      "C:\\Users\\cruzd\\AppData\\Local\\Packages\\PythonSoftwareFoundation.Python.3.12_qbz5n2kfra8p0\\LocalCache\\local-packages\\Python312\\site-packages\\sklearn\\utils\\deprecation.py:151: FutureWarning: 'force_all_finite' was renamed to 'ensure_all_finite' in 1.6 and will be removed in 1.8.\n",
      "  warnings.warn(\n",
      "C:\\Users\\cruzd\\AppData\\Local\\Packages\\PythonSoftwareFoundation.Python.3.12_qbz5n2kfra8p0\\LocalCache\\local-packages\\Python312\\site-packages\\sklearn\\utils\\deprecation.py:151: FutureWarning: 'force_all_finite' was renamed to 'ensure_all_finite' in 1.6 and will be removed in 1.8.\n",
      "  warnings.warn(\n"
     ]
    },
    {
     "name": "stdout",
     "output_type": "stream",
     "text": [
      "Clusters salvos em clusters/Tools/umap/n_components64\\run_hdbscan/Tools_clusters_run_hdbscan_minsize50_minsample50.csv\n",
      "HDBSCAN - min_cluster_size = 50, min_samples = 100\n"
     ]
    },
    {
     "name": "stderr",
     "output_type": "stream",
     "text": [
      "C:\\Users\\cruzd\\AppData\\Local\\Packages\\PythonSoftwareFoundation.Python.3.12_qbz5n2kfra8p0\\LocalCache\\local-packages\\Python312\\site-packages\\sklearn\\utils\\deprecation.py:151: FutureWarning: 'force_all_finite' was renamed to 'ensure_all_finite' in 1.6 and will be removed in 1.8.\n",
      "  warnings.warn(\n",
      "C:\\Users\\cruzd\\AppData\\Local\\Packages\\PythonSoftwareFoundation.Python.3.12_qbz5n2kfra8p0\\LocalCache\\local-packages\\Python312\\site-packages\\sklearn\\utils\\deprecation.py:151: FutureWarning: 'force_all_finite' was renamed to 'ensure_all_finite' in 1.6 and will be removed in 1.8.\n",
      "  warnings.warn(\n"
     ]
    },
    {
     "name": "stdout",
     "output_type": "stream",
     "text": [
      "Clusters salvos em clusters/Tools/umap/n_components64\\run_hdbscan/Tools_clusters_run_hdbscan_minsize50_minsample100.csv\n",
      "HDBSCAN - min_cluster_size = 100, min_samples = 10\n"
     ]
    },
    {
     "name": "stderr",
     "output_type": "stream",
     "text": [
      "C:\\Users\\cruzd\\AppData\\Local\\Packages\\PythonSoftwareFoundation.Python.3.12_qbz5n2kfra8p0\\LocalCache\\local-packages\\Python312\\site-packages\\sklearn\\utils\\deprecation.py:151: FutureWarning: 'force_all_finite' was renamed to 'ensure_all_finite' in 1.6 and will be removed in 1.8.\n",
      "  warnings.warn(\n",
      "C:\\Users\\cruzd\\AppData\\Local\\Packages\\PythonSoftwareFoundation.Python.3.12_qbz5n2kfra8p0\\LocalCache\\local-packages\\Python312\\site-packages\\sklearn\\utils\\deprecation.py:151: FutureWarning: 'force_all_finite' was renamed to 'ensure_all_finite' in 1.6 and will be removed in 1.8.\n",
      "  warnings.warn(\n"
     ]
    },
    {
     "name": "stdout",
     "output_type": "stream",
     "text": [
      "Clusters salvos em clusters/Tools/umap/n_components64\\run_hdbscan/Tools_clusters_run_hdbscan_minsize100_minsample10.csv\n",
      "HDBSCAN - min_cluster_size = 100, min_samples = 20\n"
     ]
    },
    {
     "name": "stderr",
     "output_type": "stream",
     "text": [
      "C:\\Users\\cruzd\\AppData\\Local\\Packages\\PythonSoftwareFoundation.Python.3.12_qbz5n2kfra8p0\\LocalCache\\local-packages\\Python312\\site-packages\\sklearn\\utils\\deprecation.py:151: FutureWarning: 'force_all_finite' was renamed to 'ensure_all_finite' in 1.6 and will be removed in 1.8.\n",
      "  warnings.warn(\n",
      "C:\\Users\\cruzd\\AppData\\Local\\Packages\\PythonSoftwareFoundation.Python.3.12_qbz5n2kfra8p0\\LocalCache\\local-packages\\Python312\\site-packages\\sklearn\\utils\\deprecation.py:151: FutureWarning: 'force_all_finite' was renamed to 'ensure_all_finite' in 1.6 and will be removed in 1.8.\n",
      "  warnings.warn(\n"
     ]
    },
    {
     "name": "stdout",
     "output_type": "stream",
     "text": [
      "Clusters salvos em clusters/Tools/umap/n_components64\\run_hdbscan/Tools_clusters_run_hdbscan_minsize100_minsample20.csv\n",
      "HDBSCAN - min_cluster_size = 100, min_samples = 30\n"
     ]
    },
    {
     "name": "stderr",
     "output_type": "stream",
     "text": [
      "C:\\Users\\cruzd\\AppData\\Local\\Packages\\PythonSoftwareFoundation.Python.3.12_qbz5n2kfra8p0\\LocalCache\\local-packages\\Python312\\site-packages\\sklearn\\utils\\deprecation.py:151: FutureWarning: 'force_all_finite' was renamed to 'ensure_all_finite' in 1.6 and will be removed in 1.8.\n",
      "  warnings.warn(\n",
      "C:\\Users\\cruzd\\AppData\\Local\\Packages\\PythonSoftwareFoundation.Python.3.12_qbz5n2kfra8p0\\LocalCache\\local-packages\\Python312\\site-packages\\sklearn\\utils\\deprecation.py:151: FutureWarning: 'force_all_finite' was renamed to 'ensure_all_finite' in 1.6 and will be removed in 1.8.\n",
      "  warnings.warn(\n"
     ]
    },
    {
     "name": "stdout",
     "output_type": "stream",
     "text": [
      "Clusters salvos em clusters/Tools/umap/n_components64\\run_hdbscan/Tools_clusters_run_hdbscan_minsize100_minsample30.csv\n",
      "HDBSCAN - min_cluster_size = 100, min_samples = 50\n"
     ]
    },
    {
     "name": "stderr",
     "output_type": "stream",
     "text": [
      "C:\\Users\\cruzd\\AppData\\Local\\Packages\\PythonSoftwareFoundation.Python.3.12_qbz5n2kfra8p0\\LocalCache\\local-packages\\Python312\\site-packages\\sklearn\\utils\\deprecation.py:151: FutureWarning: 'force_all_finite' was renamed to 'ensure_all_finite' in 1.6 and will be removed in 1.8.\n",
      "  warnings.warn(\n",
      "C:\\Users\\cruzd\\AppData\\Local\\Packages\\PythonSoftwareFoundation.Python.3.12_qbz5n2kfra8p0\\LocalCache\\local-packages\\Python312\\site-packages\\sklearn\\utils\\deprecation.py:151: FutureWarning: 'force_all_finite' was renamed to 'ensure_all_finite' in 1.6 and will be removed in 1.8.\n",
      "  warnings.warn(\n"
     ]
    },
    {
     "name": "stdout",
     "output_type": "stream",
     "text": [
      "Clusters salvos em clusters/Tools/umap/n_components64\\run_hdbscan/Tools_clusters_run_hdbscan_minsize100_minsample50.csv\n",
      "HDBSCAN - min_cluster_size = 100, min_samples = 100\n"
     ]
    },
    {
     "name": "stderr",
     "output_type": "stream",
     "text": [
      "C:\\Users\\cruzd\\AppData\\Local\\Packages\\PythonSoftwareFoundation.Python.3.12_qbz5n2kfra8p0\\LocalCache\\local-packages\\Python312\\site-packages\\sklearn\\utils\\deprecation.py:151: FutureWarning: 'force_all_finite' was renamed to 'ensure_all_finite' in 1.6 and will be removed in 1.8.\n",
      "  warnings.warn(\n",
      "C:\\Users\\cruzd\\AppData\\Local\\Packages\\PythonSoftwareFoundation.Python.3.12_qbz5n2kfra8p0\\LocalCache\\local-packages\\Python312\\site-packages\\sklearn\\utils\\deprecation.py:151: FutureWarning: 'force_all_finite' was renamed to 'ensure_all_finite' in 1.6 and will be removed in 1.8.\n",
      "  warnings.warn(\n"
     ]
    },
    {
     "name": "stdout",
     "output_type": "stream",
     "text": [
      "Clusters salvos em clusters/Tools/umap/n_components64\\run_hdbscan/Tools_clusters_run_hdbscan_minsize100_minsample100.csv\n",
      "HDBSCAN - min_cluster_size = 200, min_samples = 10\n"
     ]
    },
    {
     "name": "stderr",
     "output_type": "stream",
     "text": [
      "C:\\Users\\cruzd\\AppData\\Local\\Packages\\PythonSoftwareFoundation.Python.3.12_qbz5n2kfra8p0\\LocalCache\\local-packages\\Python312\\site-packages\\sklearn\\utils\\deprecation.py:151: FutureWarning: 'force_all_finite' was renamed to 'ensure_all_finite' in 1.6 and will be removed in 1.8.\n",
      "  warnings.warn(\n",
      "C:\\Users\\cruzd\\AppData\\Local\\Packages\\PythonSoftwareFoundation.Python.3.12_qbz5n2kfra8p0\\LocalCache\\local-packages\\Python312\\site-packages\\sklearn\\utils\\deprecation.py:151: FutureWarning: 'force_all_finite' was renamed to 'ensure_all_finite' in 1.6 and will be removed in 1.8.\n",
      "  warnings.warn(\n"
     ]
    },
    {
     "name": "stdout",
     "output_type": "stream",
     "text": [
      "Clusters salvos em clusters/Tools/umap/n_components64\\run_hdbscan/Tools_clusters_run_hdbscan_minsize200_minsample10.csv\n",
      "HDBSCAN - min_cluster_size = 200, min_samples = 20\n"
     ]
    },
    {
     "name": "stderr",
     "output_type": "stream",
     "text": [
      "C:\\Users\\cruzd\\AppData\\Local\\Packages\\PythonSoftwareFoundation.Python.3.12_qbz5n2kfra8p0\\LocalCache\\local-packages\\Python312\\site-packages\\sklearn\\utils\\deprecation.py:151: FutureWarning: 'force_all_finite' was renamed to 'ensure_all_finite' in 1.6 and will be removed in 1.8.\n",
      "  warnings.warn(\n",
      "C:\\Users\\cruzd\\AppData\\Local\\Packages\\PythonSoftwareFoundation.Python.3.12_qbz5n2kfra8p0\\LocalCache\\local-packages\\Python312\\site-packages\\sklearn\\utils\\deprecation.py:151: FutureWarning: 'force_all_finite' was renamed to 'ensure_all_finite' in 1.6 and will be removed in 1.8.\n",
      "  warnings.warn(\n"
     ]
    },
    {
     "name": "stdout",
     "output_type": "stream",
     "text": [
      "Clusters salvos em clusters/Tools/umap/n_components64\\run_hdbscan/Tools_clusters_run_hdbscan_minsize200_minsample20.csv\n",
      "HDBSCAN - min_cluster_size = 200, min_samples = 30\n"
     ]
    },
    {
     "name": "stderr",
     "output_type": "stream",
     "text": [
      "C:\\Users\\cruzd\\AppData\\Local\\Packages\\PythonSoftwareFoundation.Python.3.12_qbz5n2kfra8p0\\LocalCache\\local-packages\\Python312\\site-packages\\sklearn\\utils\\deprecation.py:151: FutureWarning: 'force_all_finite' was renamed to 'ensure_all_finite' in 1.6 and will be removed in 1.8.\n",
      "  warnings.warn(\n",
      "C:\\Users\\cruzd\\AppData\\Local\\Packages\\PythonSoftwareFoundation.Python.3.12_qbz5n2kfra8p0\\LocalCache\\local-packages\\Python312\\site-packages\\sklearn\\utils\\deprecation.py:151: FutureWarning: 'force_all_finite' was renamed to 'ensure_all_finite' in 1.6 and will be removed in 1.8.\n",
      "  warnings.warn(\n"
     ]
    },
    {
     "name": "stdout",
     "output_type": "stream",
     "text": [
      "Clusters salvos em clusters/Tools/umap/n_components64\\run_hdbscan/Tools_clusters_run_hdbscan_minsize200_minsample30.csv\n",
      "HDBSCAN - min_cluster_size = 200, min_samples = 50\n"
     ]
    },
    {
     "name": "stderr",
     "output_type": "stream",
     "text": [
      "C:\\Users\\cruzd\\AppData\\Local\\Packages\\PythonSoftwareFoundation.Python.3.12_qbz5n2kfra8p0\\LocalCache\\local-packages\\Python312\\site-packages\\sklearn\\utils\\deprecation.py:151: FutureWarning: 'force_all_finite' was renamed to 'ensure_all_finite' in 1.6 and will be removed in 1.8.\n",
      "  warnings.warn(\n",
      "C:\\Users\\cruzd\\AppData\\Local\\Packages\\PythonSoftwareFoundation.Python.3.12_qbz5n2kfra8p0\\LocalCache\\local-packages\\Python312\\site-packages\\sklearn\\utils\\deprecation.py:151: FutureWarning: 'force_all_finite' was renamed to 'ensure_all_finite' in 1.6 and will be removed in 1.8.\n",
      "  warnings.warn(\n"
     ]
    },
    {
     "name": "stdout",
     "output_type": "stream",
     "text": [
      "Clusters salvos em clusters/Tools/umap/n_components64\\run_hdbscan/Tools_clusters_run_hdbscan_minsize200_minsample50.csv\n",
      "HDBSCAN - min_cluster_size = 200, min_samples = 100\n"
     ]
    },
    {
     "name": "stderr",
     "output_type": "stream",
     "text": [
      "C:\\Users\\cruzd\\AppData\\Local\\Packages\\PythonSoftwareFoundation.Python.3.12_qbz5n2kfra8p0\\LocalCache\\local-packages\\Python312\\site-packages\\sklearn\\utils\\deprecation.py:151: FutureWarning: 'force_all_finite' was renamed to 'ensure_all_finite' in 1.6 and will be removed in 1.8.\n",
      "  warnings.warn(\n",
      "C:\\Users\\cruzd\\AppData\\Local\\Packages\\PythonSoftwareFoundation.Python.3.12_qbz5n2kfra8p0\\LocalCache\\local-packages\\Python312\\site-packages\\sklearn\\utils\\deprecation.py:151: FutureWarning: 'force_all_finite' was renamed to 'ensure_all_finite' in 1.6 and will be removed in 1.8.\n",
      "  warnings.warn(\n"
     ]
    },
    {
     "name": "stdout",
     "output_type": "stream",
     "text": [
      "Clusters salvos em clusters/Tools/umap/n_components64\\run_hdbscan/Tools_clusters_run_hdbscan_minsize200_minsample100.csv\n",
      "HDBSCAN - min_cluster_size = 300, min_samples = 10\n"
     ]
    },
    {
     "name": "stderr",
     "output_type": "stream",
     "text": [
      "C:\\Users\\cruzd\\AppData\\Local\\Packages\\PythonSoftwareFoundation.Python.3.12_qbz5n2kfra8p0\\LocalCache\\local-packages\\Python312\\site-packages\\sklearn\\utils\\deprecation.py:151: FutureWarning: 'force_all_finite' was renamed to 'ensure_all_finite' in 1.6 and will be removed in 1.8.\n",
      "  warnings.warn(\n",
      "C:\\Users\\cruzd\\AppData\\Local\\Packages\\PythonSoftwareFoundation.Python.3.12_qbz5n2kfra8p0\\LocalCache\\local-packages\\Python312\\site-packages\\sklearn\\utils\\deprecation.py:151: FutureWarning: 'force_all_finite' was renamed to 'ensure_all_finite' in 1.6 and will be removed in 1.8.\n",
      "  warnings.warn(\n"
     ]
    },
    {
     "name": "stdout",
     "output_type": "stream",
     "text": [
      "Clusters salvos em clusters/Tools/umap/n_components64\\run_hdbscan/Tools_clusters_run_hdbscan_minsize300_minsample10.csv\n",
      "HDBSCAN - min_cluster_size = 300, min_samples = 20\n"
     ]
    },
    {
     "name": "stderr",
     "output_type": "stream",
     "text": [
      "C:\\Users\\cruzd\\AppData\\Local\\Packages\\PythonSoftwareFoundation.Python.3.12_qbz5n2kfra8p0\\LocalCache\\local-packages\\Python312\\site-packages\\sklearn\\utils\\deprecation.py:151: FutureWarning: 'force_all_finite' was renamed to 'ensure_all_finite' in 1.6 and will be removed in 1.8.\n",
      "  warnings.warn(\n",
      "C:\\Users\\cruzd\\AppData\\Local\\Packages\\PythonSoftwareFoundation.Python.3.12_qbz5n2kfra8p0\\LocalCache\\local-packages\\Python312\\site-packages\\sklearn\\utils\\deprecation.py:151: FutureWarning: 'force_all_finite' was renamed to 'ensure_all_finite' in 1.6 and will be removed in 1.8.\n",
      "  warnings.warn(\n"
     ]
    },
    {
     "name": "stdout",
     "output_type": "stream",
     "text": [
      "Clusters salvos em clusters/Tools/umap/n_components64\\run_hdbscan/Tools_clusters_run_hdbscan_minsize300_minsample20.csv\n",
      "HDBSCAN - min_cluster_size = 300, min_samples = 30\n"
     ]
    },
    {
     "name": "stderr",
     "output_type": "stream",
     "text": [
      "C:\\Users\\cruzd\\AppData\\Local\\Packages\\PythonSoftwareFoundation.Python.3.12_qbz5n2kfra8p0\\LocalCache\\local-packages\\Python312\\site-packages\\sklearn\\utils\\deprecation.py:151: FutureWarning: 'force_all_finite' was renamed to 'ensure_all_finite' in 1.6 and will be removed in 1.8.\n",
      "  warnings.warn(\n",
      "C:\\Users\\cruzd\\AppData\\Local\\Packages\\PythonSoftwareFoundation.Python.3.12_qbz5n2kfra8p0\\LocalCache\\local-packages\\Python312\\site-packages\\sklearn\\utils\\deprecation.py:151: FutureWarning: 'force_all_finite' was renamed to 'ensure_all_finite' in 1.6 and will be removed in 1.8.\n",
      "  warnings.warn(\n"
     ]
    },
    {
     "name": "stdout",
     "output_type": "stream",
     "text": [
      "Clusters salvos em clusters/Tools/umap/n_components64\\run_hdbscan/Tools_clusters_run_hdbscan_minsize300_minsample30.csv\n",
      "HDBSCAN - min_cluster_size = 300, min_samples = 50\n"
     ]
    },
    {
     "name": "stderr",
     "output_type": "stream",
     "text": [
      "C:\\Users\\cruzd\\AppData\\Local\\Packages\\PythonSoftwareFoundation.Python.3.12_qbz5n2kfra8p0\\LocalCache\\local-packages\\Python312\\site-packages\\sklearn\\utils\\deprecation.py:151: FutureWarning: 'force_all_finite' was renamed to 'ensure_all_finite' in 1.6 and will be removed in 1.8.\n",
      "  warnings.warn(\n",
      "C:\\Users\\cruzd\\AppData\\Local\\Packages\\PythonSoftwareFoundation.Python.3.12_qbz5n2kfra8p0\\LocalCache\\local-packages\\Python312\\site-packages\\sklearn\\utils\\deprecation.py:151: FutureWarning: 'force_all_finite' was renamed to 'ensure_all_finite' in 1.6 and will be removed in 1.8.\n",
      "  warnings.warn(\n"
     ]
    },
    {
     "name": "stdout",
     "output_type": "stream",
     "text": [
      "Clusters salvos em clusters/Tools/umap/n_components64\\run_hdbscan/Tools_clusters_run_hdbscan_minsize300_minsample50.csv\n",
      "HDBSCAN - min_cluster_size = 300, min_samples = 100\n"
     ]
    },
    {
     "name": "stderr",
     "output_type": "stream",
     "text": [
      "C:\\Users\\cruzd\\AppData\\Local\\Packages\\PythonSoftwareFoundation.Python.3.12_qbz5n2kfra8p0\\LocalCache\\local-packages\\Python312\\site-packages\\sklearn\\utils\\deprecation.py:151: FutureWarning: 'force_all_finite' was renamed to 'ensure_all_finite' in 1.6 and will be removed in 1.8.\n",
      "  warnings.warn(\n",
      "C:\\Users\\cruzd\\AppData\\Local\\Packages\\PythonSoftwareFoundation.Python.3.12_qbz5n2kfra8p0\\LocalCache\\local-packages\\Python312\\site-packages\\sklearn\\utils\\deprecation.py:151: FutureWarning: 'force_all_finite' was renamed to 'ensure_all_finite' in 1.6 and will be removed in 1.8.\n",
      "  warnings.warn(\n"
     ]
    },
    {
     "name": "stdout",
     "output_type": "stream",
     "text": [
      "Clusters salvos em clusters/Tools/umap/n_components64\\run_hdbscan/Tools_clusters_run_hdbscan_minsize300_minsample100.csv\n",
      "Clusterização concluída e resultados salvos\n",
      "\n",
      " Embeddings reduzidos com umap e n_components 128\n",
      "Aplicando UMAP com n_components = 128...\n"
     ]
    },
    {
     "name": "stderr",
     "output_type": "stream",
     "text": [
      "C:\\Users\\cruzd\\AppData\\Local\\Packages\\PythonSoftwareFoundation.Python.3.12_qbz5n2kfra8p0\\LocalCache\\local-packages\\Python312\\site-packages\\sklearn\\utils\\deprecation.py:151: FutureWarning: 'force_all_finite' was renamed to 'ensure_all_finite' in 1.6 and will be removed in 1.8.\n",
      "  warnings.warn(\n",
      "C:\\Users\\cruzd\\AppData\\Local\\Packages\\PythonSoftwareFoundation.Python.3.12_qbz5n2kfra8p0\\LocalCache\\local-packages\\Python312\\site-packages\\umap\\umap_.py:1952: UserWarning: n_jobs value 1 overridden to 1 by setting random_state. Use no seed for parallelism.\n",
      "  warn(\n"
     ]
    },
    {
     "name": "stdout",
     "output_type": "stream",
     "text": [
      "Dimensionalidade reduzida de 1000 para 128\n",
      "Executando run_hdbscan...\n",
      "HDBSCAN - min_cluster_size = 30, min_samples = 10\n"
     ]
    },
    {
     "name": "stderr",
     "output_type": "stream",
     "text": [
      "C:\\Users\\cruzd\\AppData\\Local\\Packages\\PythonSoftwareFoundation.Python.3.12_qbz5n2kfra8p0\\LocalCache\\local-packages\\Python312\\site-packages\\sklearn\\utils\\deprecation.py:151: FutureWarning: 'force_all_finite' was renamed to 'ensure_all_finite' in 1.6 and will be removed in 1.8.\n",
      "  warnings.warn(\n",
      "C:\\Users\\cruzd\\AppData\\Local\\Packages\\PythonSoftwareFoundation.Python.3.12_qbz5n2kfra8p0\\LocalCache\\local-packages\\Python312\\site-packages\\sklearn\\utils\\deprecation.py:151: FutureWarning: 'force_all_finite' was renamed to 'ensure_all_finite' in 1.6 and will be removed in 1.8.\n",
      "  warnings.warn(\n"
     ]
    },
    {
     "name": "stdout",
     "output_type": "stream",
     "text": [
      "Clusters salvos em clusters/Tools/umap/n_components128\\run_hdbscan/Tools_clusters_run_hdbscan_minsize30_minsample10.csv\n",
      "HDBSCAN - min_cluster_size = 30, min_samples = 20\n"
     ]
    },
    {
     "name": "stderr",
     "output_type": "stream",
     "text": [
      "C:\\Users\\cruzd\\AppData\\Local\\Packages\\PythonSoftwareFoundation.Python.3.12_qbz5n2kfra8p0\\LocalCache\\local-packages\\Python312\\site-packages\\sklearn\\utils\\deprecation.py:151: FutureWarning: 'force_all_finite' was renamed to 'ensure_all_finite' in 1.6 and will be removed in 1.8.\n",
      "  warnings.warn(\n",
      "C:\\Users\\cruzd\\AppData\\Local\\Packages\\PythonSoftwareFoundation.Python.3.12_qbz5n2kfra8p0\\LocalCache\\local-packages\\Python312\\site-packages\\sklearn\\utils\\deprecation.py:151: FutureWarning: 'force_all_finite' was renamed to 'ensure_all_finite' in 1.6 and will be removed in 1.8.\n",
      "  warnings.warn(\n"
     ]
    },
    {
     "name": "stdout",
     "output_type": "stream",
     "text": [
      "Clusters salvos em clusters/Tools/umap/n_components128\\run_hdbscan/Tools_clusters_run_hdbscan_minsize30_minsample20.csv\n",
      "HDBSCAN - min_cluster_size = 30, min_samples = 30\n"
     ]
    },
    {
     "name": "stderr",
     "output_type": "stream",
     "text": [
      "C:\\Users\\cruzd\\AppData\\Local\\Packages\\PythonSoftwareFoundation.Python.3.12_qbz5n2kfra8p0\\LocalCache\\local-packages\\Python312\\site-packages\\sklearn\\utils\\deprecation.py:151: FutureWarning: 'force_all_finite' was renamed to 'ensure_all_finite' in 1.6 and will be removed in 1.8.\n",
      "  warnings.warn(\n",
      "C:\\Users\\cruzd\\AppData\\Local\\Packages\\PythonSoftwareFoundation.Python.3.12_qbz5n2kfra8p0\\LocalCache\\local-packages\\Python312\\site-packages\\sklearn\\utils\\deprecation.py:151: FutureWarning: 'force_all_finite' was renamed to 'ensure_all_finite' in 1.6 and will be removed in 1.8.\n",
      "  warnings.warn(\n"
     ]
    },
    {
     "name": "stdout",
     "output_type": "stream",
     "text": [
      "Clusters salvos em clusters/Tools/umap/n_components128\\run_hdbscan/Tools_clusters_run_hdbscan_minsize30_minsample30.csv\n",
      "HDBSCAN - min_cluster_size = 30, min_samples = 50\n"
     ]
    },
    {
     "name": "stderr",
     "output_type": "stream",
     "text": [
      "C:\\Users\\cruzd\\AppData\\Local\\Packages\\PythonSoftwareFoundation.Python.3.12_qbz5n2kfra8p0\\LocalCache\\local-packages\\Python312\\site-packages\\sklearn\\utils\\deprecation.py:151: FutureWarning: 'force_all_finite' was renamed to 'ensure_all_finite' in 1.6 and will be removed in 1.8.\n",
      "  warnings.warn(\n",
      "C:\\Users\\cruzd\\AppData\\Local\\Packages\\PythonSoftwareFoundation.Python.3.12_qbz5n2kfra8p0\\LocalCache\\local-packages\\Python312\\site-packages\\sklearn\\utils\\deprecation.py:151: FutureWarning: 'force_all_finite' was renamed to 'ensure_all_finite' in 1.6 and will be removed in 1.8.\n",
      "  warnings.warn(\n"
     ]
    },
    {
     "name": "stdout",
     "output_type": "stream",
     "text": [
      "Clusters salvos em clusters/Tools/umap/n_components128\\run_hdbscan/Tools_clusters_run_hdbscan_minsize30_minsample50.csv\n",
      "HDBSCAN - min_cluster_size = 30, min_samples = 100\n"
     ]
    },
    {
     "name": "stderr",
     "output_type": "stream",
     "text": [
      "C:\\Users\\cruzd\\AppData\\Local\\Packages\\PythonSoftwareFoundation.Python.3.12_qbz5n2kfra8p0\\LocalCache\\local-packages\\Python312\\site-packages\\sklearn\\utils\\deprecation.py:151: FutureWarning: 'force_all_finite' was renamed to 'ensure_all_finite' in 1.6 and will be removed in 1.8.\n",
      "  warnings.warn(\n",
      "C:\\Users\\cruzd\\AppData\\Local\\Packages\\PythonSoftwareFoundation.Python.3.12_qbz5n2kfra8p0\\LocalCache\\local-packages\\Python312\\site-packages\\sklearn\\utils\\deprecation.py:151: FutureWarning: 'force_all_finite' was renamed to 'ensure_all_finite' in 1.6 and will be removed in 1.8.\n",
      "  warnings.warn(\n"
     ]
    },
    {
     "name": "stdout",
     "output_type": "stream",
     "text": [
      "Clusters salvos em clusters/Tools/umap/n_components128\\run_hdbscan/Tools_clusters_run_hdbscan_minsize30_minsample100.csv\n",
      "HDBSCAN - min_cluster_size = 50, min_samples = 10\n"
     ]
    },
    {
     "name": "stderr",
     "output_type": "stream",
     "text": [
      "C:\\Users\\cruzd\\AppData\\Local\\Packages\\PythonSoftwareFoundation.Python.3.12_qbz5n2kfra8p0\\LocalCache\\local-packages\\Python312\\site-packages\\sklearn\\utils\\deprecation.py:151: FutureWarning: 'force_all_finite' was renamed to 'ensure_all_finite' in 1.6 and will be removed in 1.8.\n",
      "  warnings.warn(\n",
      "C:\\Users\\cruzd\\AppData\\Local\\Packages\\PythonSoftwareFoundation.Python.3.12_qbz5n2kfra8p0\\LocalCache\\local-packages\\Python312\\site-packages\\sklearn\\utils\\deprecation.py:151: FutureWarning: 'force_all_finite' was renamed to 'ensure_all_finite' in 1.6 and will be removed in 1.8.\n",
      "  warnings.warn(\n"
     ]
    },
    {
     "name": "stdout",
     "output_type": "stream",
     "text": [
      "Clusters salvos em clusters/Tools/umap/n_components128\\run_hdbscan/Tools_clusters_run_hdbscan_minsize50_minsample10.csv\n",
      "HDBSCAN - min_cluster_size = 50, min_samples = 20\n"
     ]
    },
    {
     "name": "stderr",
     "output_type": "stream",
     "text": [
      "C:\\Users\\cruzd\\AppData\\Local\\Packages\\PythonSoftwareFoundation.Python.3.12_qbz5n2kfra8p0\\LocalCache\\local-packages\\Python312\\site-packages\\sklearn\\utils\\deprecation.py:151: FutureWarning: 'force_all_finite' was renamed to 'ensure_all_finite' in 1.6 and will be removed in 1.8.\n",
      "  warnings.warn(\n",
      "C:\\Users\\cruzd\\AppData\\Local\\Packages\\PythonSoftwareFoundation.Python.3.12_qbz5n2kfra8p0\\LocalCache\\local-packages\\Python312\\site-packages\\sklearn\\utils\\deprecation.py:151: FutureWarning: 'force_all_finite' was renamed to 'ensure_all_finite' in 1.6 and will be removed in 1.8.\n",
      "  warnings.warn(\n"
     ]
    },
    {
     "name": "stdout",
     "output_type": "stream",
     "text": [
      "Clusters salvos em clusters/Tools/umap/n_components128\\run_hdbscan/Tools_clusters_run_hdbscan_minsize50_minsample20.csv\n",
      "HDBSCAN - min_cluster_size = 50, min_samples = 30\n"
     ]
    },
    {
     "name": "stderr",
     "output_type": "stream",
     "text": [
      "C:\\Users\\cruzd\\AppData\\Local\\Packages\\PythonSoftwareFoundation.Python.3.12_qbz5n2kfra8p0\\LocalCache\\local-packages\\Python312\\site-packages\\sklearn\\utils\\deprecation.py:151: FutureWarning: 'force_all_finite' was renamed to 'ensure_all_finite' in 1.6 and will be removed in 1.8.\n",
      "  warnings.warn(\n",
      "C:\\Users\\cruzd\\AppData\\Local\\Packages\\PythonSoftwareFoundation.Python.3.12_qbz5n2kfra8p0\\LocalCache\\local-packages\\Python312\\site-packages\\sklearn\\utils\\deprecation.py:151: FutureWarning: 'force_all_finite' was renamed to 'ensure_all_finite' in 1.6 and will be removed in 1.8.\n",
      "  warnings.warn(\n"
     ]
    },
    {
     "name": "stdout",
     "output_type": "stream",
     "text": [
      "Clusters salvos em clusters/Tools/umap/n_components128\\run_hdbscan/Tools_clusters_run_hdbscan_minsize50_minsample30.csv\n",
      "HDBSCAN - min_cluster_size = 50, min_samples = 50\n"
     ]
    },
    {
     "name": "stderr",
     "output_type": "stream",
     "text": [
      "C:\\Users\\cruzd\\AppData\\Local\\Packages\\PythonSoftwareFoundation.Python.3.12_qbz5n2kfra8p0\\LocalCache\\local-packages\\Python312\\site-packages\\sklearn\\utils\\deprecation.py:151: FutureWarning: 'force_all_finite' was renamed to 'ensure_all_finite' in 1.6 and will be removed in 1.8.\n",
      "  warnings.warn(\n",
      "C:\\Users\\cruzd\\AppData\\Local\\Packages\\PythonSoftwareFoundation.Python.3.12_qbz5n2kfra8p0\\LocalCache\\local-packages\\Python312\\site-packages\\sklearn\\utils\\deprecation.py:151: FutureWarning: 'force_all_finite' was renamed to 'ensure_all_finite' in 1.6 and will be removed in 1.8.\n",
      "  warnings.warn(\n"
     ]
    },
    {
     "name": "stdout",
     "output_type": "stream",
     "text": [
      "Clusters salvos em clusters/Tools/umap/n_components128\\run_hdbscan/Tools_clusters_run_hdbscan_minsize50_minsample50.csv\n",
      "HDBSCAN - min_cluster_size = 50, min_samples = 100\n"
     ]
    },
    {
     "name": "stderr",
     "output_type": "stream",
     "text": [
      "C:\\Users\\cruzd\\AppData\\Local\\Packages\\PythonSoftwareFoundation.Python.3.12_qbz5n2kfra8p0\\LocalCache\\local-packages\\Python312\\site-packages\\sklearn\\utils\\deprecation.py:151: FutureWarning: 'force_all_finite' was renamed to 'ensure_all_finite' in 1.6 and will be removed in 1.8.\n",
      "  warnings.warn(\n",
      "C:\\Users\\cruzd\\AppData\\Local\\Packages\\PythonSoftwareFoundation.Python.3.12_qbz5n2kfra8p0\\LocalCache\\local-packages\\Python312\\site-packages\\sklearn\\utils\\deprecation.py:151: FutureWarning: 'force_all_finite' was renamed to 'ensure_all_finite' in 1.6 and will be removed in 1.8.\n",
      "  warnings.warn(\n"
     ]
    },
    {
     "name": "stdout",
     "output_type": "stream",
     "text": [
      "Clusters salvos em clusters/Tools/umap/n_components128\\run_hdbscan/Tools_clusters_run_hdbscan_minsize50_minsample100.csv\n",
      "HDBSCAN - min_cluster_size = 100, min_samples = 10\n"
     ]
    },
    {
     "name": "stderr",
     "output_type": "stream",
     "text": [
      "C:\\Users\\cruzd\\AppData\\Local\\Packages\\PythonSoftwareFoundation.Python.3.12_qbz5n2kfra8p0\\LocalCache\\local-packages\\Python312\\site-packages\\sklearn\\utils\\deprecation.py:151: FutureWarning: 'force_all_finite' was renamed to 'ensure_all_finite' in 1.6 and will be removed in 1.8.\n",
      "  warnings.warn(\n",
      "C:\\Users\\cruzd\\AppData\\Local\\Packages\\PythonSoftwareFoundation.Python.3.12_qbz5n2kfra8p0\\LocalCache\\local-packages\\Python312\\site-packages\\sklearn\\utils\\deprecation.py:151: FutureWarning: 'force_all_finite' was renamed to 'ensure_all_finite' in 1.6 and will be removed in 1.8.\n",
      "  warnings.warn(\n"
     ]
    },
    {
     "name": "stdout",
     "output_type": "stream",
     "text": [
      "Clusters salvos em clusters/Tools/umap/n_components128\\run_hdbscan/Tools_clusters_run_hdbscan_minsize100_minsample10.csv\n",
      "HDBSCAN - min_cluster_size = 100, min_samples = 20\n"
     ]
    },
    {
     "name": "stderr",
     "output_type": "stream",
     "text": [
      "C:\\Users\\cruzd\\AppData\\Local\\Packages\\PythonSoftwareFoundation.Python.3.12_qbz5n2kfra8p0\\LocalCache\\local-packages\\Python312\\site-packages\\sklearn\\utils\\deprecation.py:151: FutureWarning: 'force_all_finite' was renamed to 'ensure_all_finite' in 1.6 and will be removed in 1.8.\n",
      "  warnings.warn(\n",
      "C:\\Users\\cruzd\\AppData\\Local\\Packages\\PythonSoftwareFoundation.Python.3.12_qbz5n2kfra8p0\\LocalCache\\local-packages\\Python312\\site-packages\\sklearn\\utils\\deprecation.py:151: FutureWarning: 'force_all_finite' was renamed to 'ensure_all_finite' in 1.6 and will be removed in 1.8.\n",
      "  warnings.warn(\n"
     ]
    },
    {
     "name": "stdout",
     "output_type": "stream",
     "text": [
      "Clusters salvos em clusters/Tools/umap/n_components128\\run_hdbscan/Tools_clusters_run_hdbscan_minsize100_minsample20.csv\n",
      "HDBSCAN - min_cluster_size = 100, min_samples = 30\n"
     ]
    },
    {
     "name": "stderr",
     "output_type": "stream",
     "text": [
      "C:\\Users\\cruzd\\AppData\\Local\\Packages\\PythonSoftwareFoundation.Python.3.12_qbz5n2kfra8p0\\LocalCache\\local-packages\\Python312\\site-packages\\sklearn\\utils\\deprecation.py:151: FutureWarning: 'force_all_finite' was renamed to 'ensure_all_finite' in 1.6 and will be removed in 1.8.\n",
      "  warnings.warn(\n",
      "C:\\Users\\cruzd\\AppData\\Local\\Packages\\PythonSoftwareFoundation.Python.3.12_qbz5n2kfra8p0\\LocalCache\\local-packages\\Python312\\site-packages\\sklearn\\utils\\deprecation.py:151: FutureWarning: 'force_all_finite' was renamed to 'ensure_all_finite' in 1.6 and will be removed in 1.8.\n",
      "  warnings.warn(\n"
     ]
    },
    {
     "name": "stdout",
     "output_type": "stream",
     "text": [
      "Clusters salvos em clusters/Tools/umap/n_components128\\run_hdbscan/Tools_clusters_run_hdbscan_minsize100_minsample30.csv\n",
      "HDBSCAN - min_cluster_size = 100, min_samples = 50\n"
     ]
    },
    {
     "name": "stderr",
     "output_type": "stream",
     "text": [
      "C:\\Users\\cruzd\\AppData\\Local\\Packages\\PythonSoftwareFoundation.Python.3.12_qbz5n2kfra8p0\\LocalCache\\local-packages\\Python312\\site-packages\\sklearn\\utils\\deprecation.py:151: FutureWarning: 'force_all_finite' was renamed to 'ensure_all_finite' in 1.6 and will be removed in 1.8.\n",
      "  warnings.warn(\n",
      "C:\\Users\\cruzd\\AppData\\Local\\Packages\\PythonSoftwareFoundation.Python.3.12_qbz5n2kfra8p0\\LocalCache\\local-packages\\Python312\\site-packages\\sklearn\\utils\\deprecation.py:151: FutureWarning: 'force_all_finite' was renamed to 'ensure_all_finite' in 1.6 and will be removed in 1.8.\n",
      "  warnings.warn(\n"
     ]
    },
    {
     "name": "stdout",
     "output_type": "stream",
     "text": [
      "Clusters salvos em clusters/Tools/umap/n_components128\\run_hdbscan/Tools_clusters_run_hdbscan_minsize100_minsample50.csv\n",
      "HDBSCAN - min_cluster_size = 100, min_samples = 100\n"
     ]
    },
    {
     "name": "stderr",
     "output_type": "stream",
     "text": [
      "C:\\Users\\cruzd\\AppData\\Local\\Packages\\PythonSoftwareFoundation.Python.3.12_qbz5n2kfra8p0\\LocalCache\\local-packages\\Python312\\site-packages\\sklearn\\utils\\deprecation.py:151: FutureWarning: 'force_all_finite' was renamed to 'ensure_all_finite' in 1.6 and will be removed in 1.8.\n",
      "  warnings.warn(\n",
      "C:\\Users\\cruzd\\AppData\\Local\\Packages\\PythonSoftwareFoundation.Python.3.12_qbz5n2kfra8p0\\LocalCache\\local-packages\\Python312\\site-packages\\sklearn\\utils\\deprecation.py:151: FutureWarning: 'force_all_finite' was renamed to 'ensure_all_finite' in 1.6 and will be removed in 1.8.\n",
      "  warnings.warn(\n"
     ]
    },
    {
     "name": "stdout",
     "output_type": "stream",
     "text": [
      "Clusters salvos em clusters/Tools/umap/n_components128\\run_hdbscan/Tools_clusters_run_hdbscan_minsize100_minsample100.csv\n",
      "HDBSCAN - min_cluster_size = 200, min_samples = 10\n"
     ]
    },
    {
     "name": "stderr",
     "output_type": "stream",
     "text": [
      "C:\\Users\\cruzd\\AppData\\Local\\Packages\\PythonSoftwareFoundation.Python.3.12_qbz5n2kfra8p0\\LocalCache\\local-packages\\Python312\\site-packages\\sklearn\\utils\\deprecation.py:151: FutureWarning: 'force_all_finite' was renamed to 'ensure_all_finite' in 1.6 and will be removed in 1.8.\n",
      "  warnings.warn(\n",
      "C:\\Users\\cruzd\\AppData\\Local\\Packages\\PythonSoftwareFoundation.Python.3.12_qbz5n2kfra8p0\\LocalCache\\local-packages\\Python312\\site-packages\\sklearn\\utils\\deprecation.py:151: FutureWarning: 'force_all_finite' was renamed to 'ensure_all_finite' in 1.6 and will be removed in 1.8.\n",
      "  warnings.warn(\n"
     ]
    },
    {
     "name": "stdout",
     "output_type": "stream",
     "text": [
      "Clusters salvos em clusters/Tools/umap/n_components128\\run_hdbscan/Tools_clusters_run_hdbscan_minsize200_minsample10.csv\n",
      "HDBSCAN - min_cluster_size = 200, min_samples = 20\n"
     ]
    },
    {
     "name": "stderr",
     "output_type": "stream",
     "text": [
      "C:\\Users\\cruzd\\AppData\\Local\\Packages\\PythonSoftwareFoundation.Python.3.12_qbz5n2kfra8p0\\LocalCache\\local-packages\\Python312\\site-packages\\sklearn\\utils\\deprecation.py:151: FutureWarning: 'force_all_finite' was renamed to 'ensure_all_finite' in 1.6 and will be removed in 1.8.\n",
      "  warnings.warn(\n",
      "C:\\Users\\cruzd\\AppData\\Local\\Packages\\PythonSoftwareFoundation.Python.3.12_qbz5n2kfra8p0\\LocalCache\\local-packages\\Python312\\site-packages\\sklearn\\utils\\deprecation.py:151: FutureWarning: 'force_all_finite' was renamed to 'ensure_all_finite' in 1.6 and will be removed in 1.8.\n",
      "  warnings.warn(\n"
     ]
    },
    {
     "name": "stdout",
     "output_type": "stream",
     "text": [
      "Clusters salvos em clusters/Tools/umap/n_components128\\run_hdbscan/Tools_clusters_run_hdbscan_minsize200_minsample20.csv\n",
      "HDBSCAN - min_cluster_size = 200, min_samples = 30\n"
     ]
    },
    {
     "name": "stderr",
     "output_type": "stream",
     "text": [
      "C:\\Users\\cruzd\\AppData\\Local\\Packages\\PythonSoftwareFoundation.Python.3.12_qbz5n2kfra8p0\\LocalCache\\local-packages\\Python312\\site-packages\\sklearn\\utils\\deprecation.py:151: FutureWarning: 'force_all_finite' was renamed to 'ensure_all_finite' in 1.6 and will be removed in 1.8.\n",
      "  warnings.warn(\n",
      "C:\\Users\\cruzd\\AppData\\Local\\Packages\\PythonSoftwareFoundation.Python.3.12_qbz5n2kfra8p0\\LocalCache\\local-packages\\Python312\\site-packages\\sklearn\\utils\\deprecation.py:151: FutureWarning: 'force_all_finite' was renamed to 'ensure_all_finite' in 1.6 and will be removed in 1.8.\n",
      "  warnings.warn(\n"
     ]
    },
    {
     "name": "stdout",
     "output_type": "stream",
     "text": [
      "Clusters salvos em clusters/Tools/umap/n_components128\\run_hdbscan/Tools_clusters_run_hdbscan_minsize200_minsample30.csv\n",
      "HDBSCAN - min_cluster_size = 200, min_samples = 50\n"
     ]
    },
    {
     "name": "stderr",
     "output_type": "stream",
     "text": [
      "C:\\Users\\cruzd\\AppData\\Local\\Packages\\PythonSoftwareFoundation.Python.3.12_qbz5n2kfra8p0\\LocalCache\\local-packages\\Python312\\site-packages\\sklearn\\utils\\deprecation.py:151: FutureWarning: 'force_all_finite' was renamed to 'ensure_all_finite' in 1.6 and will be removed in 1.8.\n",
      "  warnings.warn(\n",
      "C:\\Users\\cruzd\\AppData\\Local\\Packages\\PythonSoftwareFoundation.Python.3.12_qbz5n2kfra8p0\\LocalCache\\local-packages\\Python312\\site-packages\\sklearn\\utils\\deprecation.py:151: FutureWarning: 'force_all_finite' was renamed to 'ensure_all_finite' in 1.6 and will be removed in 1.8.\n",
      "  warnings.warn(\n"
     ]
    },
    {
     "name": "stdout",
     "output_type": "stream",
     "text": [
      "Clusters salvos em clusters/Tools/umap/n_components128\\run_hdbscan/Tools_clusters_run_hdbscan_minsize200_minsample50.csv\n",
      "HDBSCAN - min_cluster_size = 200, min_samples = 100\n"
     ]
    },
    {
     "name": "stderr",
     "output_type": "stream",
     "text": [
      "C:\\Users\\cruzd\\AppData\\Local\\Packages\\PythonSoftwareFoundation.Python.3.12_qbz5n2kfra8p0\\LocalCache\\local-packages\\Python312\\site-packages\\sklearn\\utils\\deprecation.py:151: FutureWarning: 'force_all_finite' was renamed to 'ensure_all_finite' in 1.6 and will be removed in 1.8.\n",
      "  warnings.warn(\n",
      "C:\\Users\\cruzd\\AppData\\Local\\Packages\\PythonSoftwareFoundation.Python.3.12_qbz5n2kfra8p0\\LocalCache\\local-packages\\Python312\\site-packages\\sklearn\\utils\\deprecation.py:151: FutureWarning: 'force_all_finite' was renamed to 'ensure_all_finite' in 1.6 and will be removed in 1.8.\n",
      "  warnings.warn(\n"
     ]
    },
    {
     "name": "stdout",
     "output_type": "stream",
     "text": [
      "Clusters salvos em clusters/Tools/umap/n_components128\\run_hdbscan/Tools_clusters_run_hdbscan_minsize200_minsample100.csv\n",
      "HDBSCAN - min_cluster_size = 300, min_samples = 10\n"
     ]
    },
    {
     "name": "stderr",
     "output_type": "stream",
     "text": [
      "C:\\Users\\cruzd\\AppData\\Local\\Packages\\PythonSoftwareFoundation.Python.3.12_qbz5n2kfra8p0\\LocalCache\\local-packages\\Python312\\site-packages\\sklearn\\utils\\deprecation.py:151: FutureWarning: 'force_all_finite' was renamed to 'ensure_all_finite' in 1.6 and will be removed in 1.8.\n",
      "  warnings.warn(\n",
      "C:\\Users\\cruzd\\AppData\\Local\\Packages\\PythonSoftwareFoundation.Python.3.12_qbz5n2kfra8p0\\LocalCache\\local-packages\\Python312\\site-packages\\sklearn\\utils\\deprecation.py:151: FutureWarning: 'force_all_finite' was renamed to 'ensure_all_finite' in 1.6 and will be removed in 1.8.\n",
      "  warnings.warn(\n"
     ]
    },
    {
     "name": "stdout",
     "output_type": "stream",
     "text": [
      "Clusters salvos em clusters/Tools/umap/n_components128\\run_hdbscan/Tools_clusters_run_hdbscan_minsize300_minsample10.csv\n",
      "HDBSCAN - min_cluster_size = 300, min_samples = 20\n"
     ]
    },
    {
     "name": "stderr",
     "output_type": "stream",
     "text": [
      "C:\\Users\\cruzd\\AppData\\Local\\Packages\\PythonSoftwareFoundation.Python.3.12_qbz5n2kfra8p0\\LocalCache\\local-packages\\Python312\\site-packages\\sklearn\\utils\\deprecation.py:151: FutureWarning: 'force_all_finite' was renamed to 'ensure_all_finite' in 1.6 and will be removed in 1.8.\n",
      "  warnings.warn(\n",
      "C:\\Users\\cruzd\\AppData\\Local\\Packages\\PythonSoftwareFoundation.Python.3.12_qbz5n2kfra8p0\\LocalCache\\local-packages\\Python312\\site-packages\\sklearn\\utils\\deprecation.py:151: FutureWarning: 'force_all_finite' was renamed to 'ensure_all_finite' in 1.6 and will be removed in 1.8.\n",
      "  warnings.warn(\n"
     ]
    },
    {
     "name": "stdout",
     "output_type": "stream",
     "text": [
      "Clusters salvos em clusters/Tools/umap/n_components128\\run_hdbscan/Tools_clusters_run_hdbscan_minsize300_minsample20.csv\n",
      "HDBSCAN - min_cluster_size = 300, min_samples = 30\n"
     ]
    },
    {
     "name": "stderr",
     "output_type": "stream",
     "text": [
      "C:\\Users\\cruzd\\AppData\\Local\\Packages\\PythonSoftwareFoundation.Python.3.12_qbz5n2kfra8p0\\LocalCache\\local-packages\\Python312\\site-packages\\sklearn\\utils\\deprecation.py:151: FutureWarning: 'force_all_finite' was renamed to 'ensure_all_finite' in 1.6 and will be removed in 1.8.\n",
      "  warnings.warn(\n",
      "C:\\Users\\cruzd\\AppData\\Local\\Packages\\PythonSoftwareFoundation.Python.3.12_qbz5n2kfra8p0\\LocalCache\\local-packages\\Python312\\site-packages\\sklearn\\utils\\deprecation.py:151: FutureWarning: 'force_all_finite' was renamed to 'ensure_all_finite' in 1.6 and will be removed in 1.8.\n",
      "  warnings.warn(\n"
     ]
    },
    {
     "name": "stdout",
     "output_type": "stream",
     "text": [
      "Clusters salvos em clusters/Tools/umap/n_components128\\run_hdbscan/Tools_clusters_run_hdbscan_minsize300_minsample30.csv\n",
      "HDBSCAN - min_cluster_size = 300, min_samples = 50\n"
     ]
    },
    {
     "name": "stderr",
     "output_type": "stream",
     "text": [
      "C:\\Users\\cruzd\\AppData\\Local\\Packages\\PythonSoftwareFoundation.Python.3.12_qbz5n2kfra8p0\\LocalCache\\local-packages\\Python312\\site-packages\\sklearn\\utils\\deprecation.py:151: FutureWarning: 'force_all_finite' was renamed to 'ensure_all_finite' in 1.6 and will be removed in 1.8.\n",
      "  warnings.warn(\n",
      "C:\\Users\\cruzd\\AppData\\Local\\Packages\\PythonSoftwareFoundation.Python.3.12_qbz5n2kfra8p0\\LocalCache\\local-packages\\Python312\\site-packages\\sklearn\\utils\\deprecation.py:151: FutureWarning: 'force_all_finite' was renamed to 'ensure_all_finite' in 1.6 and will be removed in 1.8.\n",
      "  warnings.warn(\n"
     ]
    },
    {
     "name": "stdout",
     "output_type": "stream",
     "text": [
      "Clusters salvos em clusters/Tools/umap/n_components128\\run_hdbscan/Tools_clusters_run_hdbscan_minsize300_minsample50.csv\n",
      "HDBSCAN - min_cluster_size = 300, min_samples = 100\n"
     ]
    },
    {
     "name": "stderr",
     "output_type": "stream",
     "text": [
      "C:\\Users\\cruzd\\AppData\\Local\\Packages\\PythonSoftwareFoundation.Python.3.12_qbz5n2kfra8p0\\LocalCache\\local-packages\\Python312\\site-packages\\sklearn\\utils\\deprecation.py:151: FutureWarning: 'force_all_finite' was renamed to 'ensure_all_finite' in 1.6 and will be removed in 1.8.\n",
      "  warnings.warn(\n",
      "C:\\Users\\cruzd\\AppData\\Local\\Packages\\PythonSoftwareFoundation.Python.3.12_qbz5n2kfra8p0\\LocalCache\\local-packages\\Python312\\site-packages\\sklearn\\utils\\deprecation.py:151: FutureWarning: 'force_all_finite' was renamed to 'ensure_all_finite' in 1.6 and will be removed in 1.8.\n",
      "  warnings.warn(\n"
     ]
    },
    {
     "name": "stdout",
     "output_type": "stream",
     "text": [
      "Clusters salvos em clusters/Tools/umap/n_components128\\run_hdbscan/Tools_clusters_run_hdbscan_minsize300_minsample100.csv\n",
      "Clusterização concluída e resultados salvos\n",
      "\n",
      " Embeddings reduzidos com umap e n_components 256\n",
      "Aplicando UMAP com n_components = 256...\n"
     ]
    },
    {
     "name": "stderr",
     "output_type": "stream",
     "text": [
      "C:\\Users\\cruzd\\AppData\\Local\\Packages\\PythonSoftwareFoundation.Python.3.12_qbz5n2kfra8p0\\LocalCache\\local-packages\\Python312\\site-packages\\sklearn\\utils\\deprecation.py:151: FutureWarning: 'force_all_finite' was renamed to 'ensure_all_finite' in 1.6 and will be removed in 1.8.\n",
      "  warnings.warn(\n",
      "C:\\Users\\cruzd\\AppData\\Local\\Packages\\PythonSoftwareFoundation.Python.3.12_qbz5n2kfra8p0\\LocalCache\\local-packages\\Python312\\site-packages\\umap\\umap_.py:1952: UserWarning: n_jobs value 1 overridden to 1 by setting random_state. Use no seed for parallelism.\n",
      "  warn(\n"
     ]
    },
    {
     "name": "stdout",
     "output_type": "stream",
     "text": [
      "Dimensionalidade reduzida de 1000 para 256\n",
      "Executando run_hdbscan...\n",
      "HDBSCAN - min_cluster_size = 30, min_samples = 10\n"
     ]
    },
    {
     "name": "stderr",
     "output_type": "stream",
     "text": [
      "C:\\Users\\cruzd\\AppData\\Local\\Packages\\PythonSoftwareFoundation.Python.3.12_qbz5n2kfra8p0\\LocalCache\\local-packages\\Python312\\site-packages\\sklearn\\utils\\deprecation.py:151: FutureWarning: 'force_all_finite' was renamed to 'ensure_all_finite' in 1.6 and will be removed in 1.8.\n",
      "  warnings.warn(\n",
      "C:\\Users\\cruzd\\AppData\\Local\\Packages\\PythonSoftwareFoundation.Python.3.12_qbz5n2kfra8p0\\LocalCache\\local-packages\\Python312\\site-packages\\sklearn\\utils\\deprecation.py:151: FutureWarning: 'force_all_finite' was renamed to 'ensure_all_finite' in 1.6 and will be removed in 1.8.\n",
      "  warnings.warn(\n"
     ]
    },
    {
     "name": "stdout",
     "output_type": "stream",
     "text": [
      "Clusters salvos em clusters/Tools/umap/n_components256\\run_hdbscan/Tools_clusters_run_hdbscan_minsize30_minsample10.csv\n",
      "HDBSCAN - min_cluster_size = 30, min_samples = 20\n"
     ]
    },
    {
     "name": "stderr",
     "output_type": "stream",
     "text": [
      "C:\\Users\\cruzd\\AppData\\Local\\Packages\\PythonSoftwareFoundation.Python.3.12_qbz5n2kfra8p0\\LocalCache\\local-packages\\Python312\\site-packages\\sklearn\\utils\\deprecation.py:151: FutureWarning: 'force_all_finite' was renamed to 'ensure_all_finite' in 1.6 and will be removed in 1.8.\n",
      "  warnings.warn(\n",
      "C:\\Users\\cruzd\\AppData\\Local\\Packages\\PythonSoftwareFoundation.Python.3.12_qbz5n2kfra8p0\\LocalCache\\local-packages\\Python312\\site-packages\\sklearn\\utils\\deprecation.py:151: FutureWarning: 'force_all_finite' was renamed to 'ensure_all_finite' in 1.6 and will be removed in 1.8.\n",
      "  warnings.warn(\n"
     ]
    },
    {
     "name": "stdout",
     "output_type": "stream",
     "text": [
      "Clusters salvos em clusters/Tools/umap/n_components256\\run_hdbscan/Tools_clusters_run_hdbscan_minsize30_minsample20.csv\n",
      "HDBSCAN - min_cluster_size = 30, min_samples = 30\n"
     ]
    },
    {
     "name": "stderr",
     "output_type": "stream",
     "text": [
      "C:\\Users\\cruzd\\AppData\\Local\\Packages\\PythonSoftwareFoundation.Python.3.12_qbz5n2kfra8p0\\LocalCache\\local-packages\\Python312\\site-packages\\sklearn\\utils\\deprecation.py:151: FutureWarning: 'force_all_finite' was renamed to 'ensure_all_finite' in 1.6 and will be removed in 1.8.\n",
      "  warnings.warn(\n",
      "C:\\Users\\cruzd\\AppData\\Local\\Packages\\PythonSoftwareFoundation.Python.3.12_qbz5n2kfra8p0\\LocalCache\\local-packages\\Python312\\site-packages\\sklearn\\utils\\deprecation.py:151: FutureWarning: 'force_all_finite' was renamed to 'ensure_all_finite' in 1.6 and will be removed in 1.8.\n",
      "  warnings.warn(\n"
     ]
    },
    {
     "name": "stdout",
     "output_type": "stream",
     "text": [
      "Clusters salvos em clusters/Tools/umap/n_components256\\run_hdbscan/Tools_clusters_run_hdbscan_minsize30_minsample30.csv\n",
      "HDBSCAN - min_cluster_size = 30, min_samples = 50\n"
     ]
    },
    {
     "name": "stderr",
     "output_type": "stream",
     "text": [
      "C:\\Users\\cruzd\\AppData\\Local\\Packages\\PythonSoftwareFoundation.Python.3.12_qbz5n2kfra8p0\\LocalCache\\local-packages\\Python312\\site-packages\\sklearn\\utils\\deprecation.py:151: FutureWarning: 'force_all_finite' was renamed to 'ensure_all_finite' in 1.6 and will be removed in 1.8.\n",
      "  warnings.warn(\n",
      "C:\\Users\\cruzd\\AppData\\Local\\Packages\\PythonSoftwareFoundation.Python.3.12_qbz5n2kfra8p0\\LocalCache\\local-packages\\Python312\\site-packages\\sklearn\\utils\\deprecation.py:151: FutureWarning: 'force_all_finite' was renamed to 'ensure_all_finite' in 1.6 and will be removed in 1.8.\n",
      "  warnings.warn(\n"
     ]
    },
    {
     "name": "stdout",
     "output_type": "stream",
     "text": [
      "Clusters salvos em clusters/Tools/umap/n_components256\\run_hdbscan/Tools_clusters_run_hdbscan_minsize30_minsample50.csv\n",
      "HDBSCAN - min_cluster_size = 30, min_samples = 100\n"
     ]
    },
    {
     "name": "stderr",
     "output_type": "stream",
     "text": [
      "C:\\Users\\cruzd\\AppData\\Local\\Packages\\PythonSoftwareFoundation.Python.3.12_qbz5n2kfra8p0\\LocalCache\\local-packages\\Python312\\site-packages\\sklearn\\utils\\deprecation.py:151: FutureWarning: 'force_all_finite' was renamed to 'ensure_all_finite' in 1.6 and will be removed in 1.8.\n",
      "  warnings.warn(\n",
      "C:\\Users\\cruzd\\AppData\\Local\\Packages\\PythonSoftwareFoundation.Python.3.12_qbz5n2kfra8p0\\LocalCache\\local-packages\\Python312\\site-packages\\sklearn\\utils\\deprecation.py:151: FutureWarning: 'force_all_finite' was renamed to 'ensure_all_finite' in 1.6 and will be removed in 1.8.\n",
      "  warnings.warn(\n"
     ]
    },
    {
     "name": "stdout",
     "output_type": "stream",
     "text": [
      "Clusters salvos em clusters/Tools/umap/n_components256\\run_hdbscan/Tools_clusters_run_hdbscan_minsize30_minsample100.csv\n",
      "HDBSCAN - min_cluster_size = 50, min_samples = 10\n"
     ]
    },
    {
     "name": "stderr",
     "output_type": "stream",
     "text": [
      "C:\\Users\\cruzd\\AppData\\Local\\Packages\\PythonSoftwareFoundation.Python.3.12_qbz5n2kfra8p0\\LocalCache\\local-packages\\Python312\\site-packages\\sklearn\\utils\\deprecation.py:151: FutureWarning: 'force_all_finite' was renamed to 'ensure_all_finite' in 1.6 and will be removed in 1.8.\n",
      "  warnings.warn(\n",
      "C:\\Users\\cruzd\\AppData\\Local\\Packages\\PythonSoftwareFoundation.Python.3.12_qbz5n2kfra8p0\\LocalCache\\local-packages\\Python312\\site-packages\\sklearn\\utils\\deprecation.py:151: FutureWarning: 'force_all_finite' was renamed to 'ensure_all_finite' in 1.6 and will be removed in 1.8.\n",
      "  warnings.warn(\n"
     ]
    },
    {
     "name": "stdout",
     "output_type": "stream",
     "text": [
      "Clusters salvos em clusters/Tools/umap/n_components256\\run_hdbscan/Tools_clusters_run_hdbscan_minsize50_minsample10.csv\n",
      "HDBSCAN - min_cluster_size = 50, min_samples = 20\n"
     ]
    },
    {
     "name": "stderr",
     "output_type": "stream",
     "text": [
      "C:\\Users\\cruzd\\AppData\\Local\\Packages\\PythonSoftwareFoundation.Python.3.12_qbz5n2kfra8p0\\LocalCache\\local-packages\\Python312\\site-packages\\sklearn\\utils\\deprecation.py:151: FutureWarning: 'force_all_finite' was renamed to 'ensure_all_finite' in 1.6 and will be removed in 1.8.\n",
      "  warnings.warn(\n",
      "C:\\Users\\cruzd\\AppData\\Local\\Packages\\PythonSoftwareFoundation.Python.3.12_qbz5n2kfra8p0\\LocalCache\\local-packages\\Python312\\site-packages\\sklearn\\utils\\deprecation.py:151: FutureWarning: 'force_all_finite' was renamed to 'ensure_all_finite' in 1.6 and will be removed in 1.8.\n",
      "  warnings.warn(\n"
     ]
    },
    {
     "name": "stdout",
     "output_type": "stream",
     "text": [
      "Clusters salvos em clusters/Tools/umap/n_components256\\run_hdbscan/Tools_clusters_run_hdbscan_minsize50_minsample20.csv\n",
      "HDBSCAN - min_cluster_size = 50, min_samples = 30\n"
     ]
    },
    {
     "name": "stderr",
     "output_type": "stream",
     "text": [
      "C:\\Users\\cruzd\\AppData\\Local\\Packages\\PythonSoftwareFoundation.Python.3.12_qbz5n2kfra8p0\\LocalCache\\local-packages\\Python312\\site-packages\\sklearn\\utils\\deprecation.py:151: FutureWarning: 'force_all_finite' was renamed to 'ensure_all_finite' in 1.6 and will be removed in 1.8.\n",
      "  warnings.warn(\n",
      "C:\\Users\\cruzd\\AppData\\Local\\Packages\\PythonSoftwareFoundation.Python.3.12_qbz5n2kfra8p0\\LocalCache\\local-packages\\Python312\\site-packages\\sklearn\\utils\\deprecation.py:151: FutureWarning: 'force_all_finite' was renamed to 'ensure_all_finite' in 1.6 and will be removed in 1.8.\n",
      "  warnings.warn(\n"
     ]
    },
    {
     "name": "stdout",
     "output_type": "stream",
     "text": [
      "Clusters salvos em clusters/Tools/umap/n_components256\\run_hdbscan/Tools_clusters_run_hdbscan_minsize50_minsample30.csv\n",
      "HDBSCAN - min_cluster_size = 50, min_samples = 50\n"
     ]
    },
    {
     "name": "stderr",
     "output_type": "stream",
     "text": [
      "C:\\Users\\cruzd\\AppData\\Local\\Packages\\PythonSoftwareFoundation.Python.3.12_qbz5n2kfra8p0\\LocalCache\\local-packages\\Python312\\site-packages\\sklearn\\utils\\deprecation.py:151: FutureWarning: 'force_all_finite' was renamed to 'ensure_all_finite' in 1.6 and will be removed in 1.8.\n",
      "  warnings.warn(\n",
      "C:\\Users\\cruzd\\AppData\\Local\\Packages\\PythonSoftwareFoundation.Python.3.12_qbz5n2kfra8p0\\LocalCache\\local-packages\\Python312\\site-packages\\sklearn\\utils\\deprecation.py:151: FutureWarning: 'force_all_finite' was renamed to 'ensure_all_finite' in 1.6 and will be removed in 1.8.\n",
      "  warnings.warn(\n"
     ]
    },
    {
     "name": "stdout",
     "output_type": "stream",
     "text": [
      "Clusters salvos em clusters/Tools/umap/n_components256\\run_hdbscan/Tools_clusters_run_hdbscan_minsize50_minsample50.csv\n",
      "HDBSCAN - min_cluster_size = 50, min_samples = 100\n"
     ]
    },
    {
     "name": "stderr",
     "output_type": "stream",
     "text": [
      "C:\\Users\\cruzd\\AppData\\Local\\Packages\\PythonSoftwareFoundation.Python.3.12_qbz5n2kfra8p0\\LocalCache\\local-packages\\Python312\\site-packages\\sklearn\\utils\\deprecation.py:151: FutureWarning: 'force_all_finite' was renamed to 'ensure_all_finite' in 1.6 and will be removed in 1.8.\n",
      "  warnings.warn(\n",
      "C:\\Users\\cruzd\\AppData\\Local\\Packages\\PythonSoftwareFoundation.Python.3.12_qbz5n2kfra8p0\\LocalCache\\local-packages\\Python312\\site-packages\\sklearn\\utils\\deprecation.py:151: FutureWarning: 'force_all_finite' was renamed to 'ensure_all_finite' in 1.6 and will be removed in 1.8.\n",
      "  warnings.warn(\n"
     ]
    },
    {
     "name": "stdout",
     "output_type": "stream",
     "text": [
      "Clusters salvos em clusters/Tools/umap/n_components256\\run_hdbscan/Tools_clusters_run_hdbscan_minsize50_minsample100.csv\n",
      "HDBSCAN - min_cluster_size = 100, min_samples = 10\n"
     ]
    },
    {
     "name": "stderr",
     "output_type": "stream",
     "text": [
      "C:\\Users\\cruzd\\AppData\\Local\\Packages\\PythonSoftwareFoundation.Python.3.12_qbz5n2kfra8p0\\LocalCache\\local-packages\\Python312\\site-packages\\sklearn\\utils\\deprecation.py:151: FutureWarning: 'force_all_finite' was renamed to 'ensure_all_finite' in 1.6 and will be removed in 1.8.\n",
      "  warnings.warn(\n",
      "C:\\Users\\cruzd\\AppData\\Local\\Packages\\PythonSoftwareFoundation.Python.3.12_qbz5n2kfra8p0\\LocalCache\\local-packages\\Python312\\site-packages\\sklearn\\utils\\deprecation.py:151: FutureWarning: 'force_all_finite' was renamed to 'ensure_all_finite' in 1.6 and will be removed in 1.8.\n",
      "  warnings.warn(\n"
     ]
    },
    {
     "name": "stdout",
     "output_type": "stream",
     "text": [
      "Clusters salvos em clusters/Tools/umap/n_components256\\run_hdbscan/Tools_clusters_run_hdbscan_minsize100_minsample10.csv\n",
      "HDBSCAN - min_cluster_size = 100, min_samples = 20\n"
     ]
    },
    {
     "name": "stderr",
     "output_type": "stream",
     "text": [
      "C:\\Users\\cruzd\\AppData\\Local\\Packages\\PythonSoftwareFoundation.Python.3.12_qbz5n2kfra8p0\\LocalCache\\local-packages\\Python312\\site-packages\\sklearn\\utils\\deprecation.py:151: FutureWarning: 'force_all_finite' was renamed to 'ensure_all_finite' in 1.6 and will be removed in 1.8.\n",
      "  warnings.warn(\n",
      "C:\\Users\\cruzd\\AppData\\Local\\Packages\\PythonSoftwareFoundation.Python.3.12_qbz5n2kfra8p0\\LocalCache\\local-packages\\Python312\\site-packages\\sklearn\\utils\\deprecation.py:151: FutureWarning: 'force_all_finite' was renamed to 'ensure_all_finite' in 1.6 and will be removed in 1.8.\n",
      "  warnings.warn(\n"
     ]
    },
    {
     "name": "stdout",
     "output_type": "stream",
     "text": [
      "Clusters salvos em clusters/Tools/umap/n_components256\\run_hdbscan/Tools_clusters_run_hdbscan_minsize100_minsample20.csv\n",
      "HDBSCAN - min_cluster_size = 100, min_samples = 30\n"
     ]
    },
    {
     "name": "stderr",
     "output_type": "stream",
     "text": [
      "C:\\Users\\cruzd\\AppData\\Local\\Packages\\PythonSoftwareFoundation.Python.3.12_qbz5n2kfra8p0\\LocalCache\\local-packages\\Python312\\site-packages\\sklearn\\utils\\deprecation.py:151: FutureWarning: 'force_all_finite' was renamed to 'ensure_all_finite' in 1.6 and will be removed in 1.8.\n",
      "  warnings.warn(\n",
      "C:\\Users\\cruzd\\AppData\\Local\\Packages\\PythonSoftwareFoundation.Python.3.12_qbz5n2kfra8p0\\LocalCache\\local-packages\\Python312\\site-packages\\sklearn\\utils\\deprecation.py:151: FutureWarning: 'force_all_finite' was renamed to 'ensure_all_finite' in 1.6 and will be removed in 1.8.\n",
      "  warnings.warn(\n"
     ]
    },
    {
     "name": "stdout",
     "output_type": "stream",
     "text": [
      "Clusters salvos em clusters/Tools/umap/n_components256\\run_hdbscan/Tools_clusters_run_hdbscan_minsize100_minsample30.csv\n",
      "HDBSCAN - min_cluster_size = 100, min_samples = 50\n"
     ]
    },
    {
     "name": "stderr",
     "output_type": "stream",
     "text": [
      "C:\\Users\\cruzd\\AppData\\Local\\Packages\\PythonSoftwareFoundation.Python.3.12_qbz5n2kfra8p0\\LocalCache\\local-packages\\Python312\\site-packages\\sklearn\\utils\\deprecation.py:151: FutureWarning: 'force_all_finite' was renamed to 'ensure_all_finite' in 1.6 and will be removed in 1.8.\n",
      "  warnings.warn(\n",
      "C:\\Users\\cruzd\\AppData\\Local\\Packages\\PythonSoftwareFoundation.Python.3.12_qbz5n2kfra8p0\\LocalCache\\local-packages\\Python312\\site-packages\\sklearn\\utils\\deprecation.py:151: FutureWarning: 'force_all_finite' was renamed to 'ensure_all_finite' in 1.6 and will be removed in 1.8.\n",
      "  warnings.warn(\n"
     ]
    },
    {
     "name": "stdout",
     "output_type": "stream",
     "text": [
      "Clusters salvos em clusters/Tools/umap/n_components256\\run_hdbscan/Tools_clusters_run_hdbscan_minsize100_minsample50.csv\n",
      "HDBSCAN - min_cluster_size = 100, min_samples = 100\n"
     ]
    },
    {
     "name": "stderr",
     "output_type": "stream",
     "text": [
      "C:\\Users\\cruzd\\AppData\\Local\\Packages\\PythonSoftwareFoundation.Python.3.12_qbz5n2kfra8p0\\LocalCache\\local-packages\\Python312\\site-packages\\sklearn\\utils\\deprecation.py:151: FutureWarning: 'force_all_finite' was renamed to 'ensure_all_finite' in 1.6 and will be removed in 1.8.\n",
      "  warnings.warn(\n",
      "C:\\Users\\cruzd\\AppData\\Local\\Packages\\PythonSoftwareFoundation.Python.3.12_qbz5n2kfra8p0\\LocalCache\\local-packages\\Python312\\site-packages\\sklearn\\utils\\deprecation.py:151: FutureWarning: 'force_all_finite' was renamed to 'ensure_all_finite' in 1.6 and will be removed in 1.8.\n",
      "  warnings.warn(\n"
     ]
    },
    {
     "name": "stdout",
     "output_type": "stream",
     "text": [
      "Clusters salvos em clusters/Tools/umap/n_components256\\run_hdbscan/Tools_clusters_run_hdbscan_minsize100_minsample100.csv\n",
      "HDBSCAN - min_cluster_size = 200, min_samples = 10\n"
     ]
    },
    {
     "name": "stderr",
     "output_type": "stream",
     "text": [
      "C:\\Users\\cruzd\\AppData\\Local\\Packages\\PythonSoftwareFoundation.Python.3.12_qbz5n2kfra8p0\\LocalCache\\local-packages\\Python312\\site-packages\\sklearn\\utils\\deprecation.py:151: FutureWarning: 'force_all_finite' was renamed to 'ensure_all_finite' in 1.6 and will be removed in 1.8.\n",
      "  warnings.warn(\n",
      "C:\\Users\\cruzd\\AppData\\Local\\Packages\\PythonSoftwareFoundation.Python.3.12_qbz5n2kfra8p0\\LocalCache\\local-packages\\Python312\\site-packages\\sklearn\\utils\\deprecation.py:151: FutureWarning: 'force_all_finite' was renamed to 'ensure_all_finite' in 1.6 and will be removed in 1.8.\n",
      "  warnings.warn(\n"
     ]
    },
    {
     "name": "stdout",
     "output_type": "stream",
     "text": [
      "Clusters salvos em clusters/Tools/umap/n_components256\\run_hdbscan/Tools_clusters_run_hdbscan_minsize200_minsample10.csv\n",
      "HDBSCAN - min_cluster_size = 200, min_samples = 20\n"
     ]
    },
    {
     "name": "stderr",
     "output_type": "stream",
     "text": [
      "C:\\Users\\cruzd\\AppData\\Local\\Packages\\PythonSoftwareFoundation.Python.3.12_qbz5n2kfra8p0\\LocalCache\\local-packages\\Python312\\site-packages\\sklearn\\utils\\deprecation.py:151: FutureWarning: 'force_all_finite' was renamed to 'ensure_all_finite' in 1.6 and will be removed in 1.8.\n",
      "  warnings.warn(\n",
      "C:\\Users\\cruzd\\AppData\\Local\\Packages\\PythonSoftwareFoundation.Python.3.12_qbz5n2kfra8p0\\LocalCache\\local-packages\\Python312\\site-packages\\sklearn\\utils\\deprecation.py:151: FutureWarning: 'force_all_finite' was renamed to 'ensure_all_finite' in 1.6 and will be removed in 1.8.\n",
      "  warnings.warn(\n"
     ]
    },
    {
     "name": "stdout",
     "output_type": "stream",
     "text": [
      "Clusters salvos em clusters/Tools/umap/n_components256\\run_hdbscan/Tools_clusters_run_hdbscan_minsize200_minsample20.csv\n",
      "HDBSCAN - min_cluster_size = 200, min_samples = 30\n"
     ]
    },
    {
     "name": "stderr",
     "output_type": "stream",
     "text": [
      "C:\\Users\\cruzd\\AppData\\Local\\Packages\\PythonSoftwareFoundation.Python.3.12_qbz5n2kfra8p0\\LocalCache\\local-packages\\Python312\\site-packages\\sklearn\\utils\\deprecation.py:151: FutureWarning: 'force_all_finite' was renamed to 'ensure_all_finite' in 1.6 and will be removed in 1.8.\n",
      "  warnings.warn(\n",
      "C:\\Users\\cruzd\\AppData\\Local\\Packages\\PythonSoftwareFoundation.Python.3.12_qbz5n2kfra8p0\\LocalCache\\local-packages\\Python312\\site-packages\\sklearn\\utils\\deprecation.py:151: FutureWarning: 'force_all_finite' was renamed to 'ensure_all_finite' in 1.6 and will be removed in 1.8.\n",
      "  warnings.warn(\n"
     ]
    },
    {
     "name": "stdout",
     "output_type": "stream",
     "text": [
      "Clusters salvos em clusters/Tools/umap/n_components256\\run_hdbscan/Tools_clusters_run_hdbscan_minsize200_minsample30.csv\n",
      "HDBSCAN - min_cluster_size = 200, min_samples = 50\n"
     ]
    },
    {
     "name": "stderr",
     "output_type": "stream",
     "text": [
      "C:\\Users\\cruzd\\AppData\\Local\\Packages\\PythonSoftwareFoundation.Python.3.12_qbz5n2kfra8p0\\LocalCache\\local-packages\\Python312\\site-packages\\sklearn\\utils\\deprecation.py:151: FutureWarning: 'force_all_finite' was renamed to 'ensure_all_finite' in 1.6 and will be removed in 1.8.\n",
      "  warnings.warn(\n",
      "C:\\Users\\cruzd\\AppData\\Local\\Packages\\PythonSoftwareFoundation.Python.3.12_qbz5n2kfra8p0\\LocalCache\\local-packages\\Python312\\site-packages\\sklearn\\utils\\deprecation.py:151: FutureWarning: 'force_all_finite' was renamed to 'ensure_all_finite' in 1.6 and will be removed in 1.8.\n",
      "  warnings.warn(\n"
     ]
    },
    {
     "name": "stdout",
     "output_type": "stream",
     "text": [
      "Clusters salvos em clusters/Tools/umap/n_components256\\run_hdbscan/Tools_clusters_run_hdbscan_minsize200_minsample50.csv\n",
      "HDBSCAN - min_cluster_size = 200, min_samples = 100\n"
     ]
    },
    {
     "name": "stderr",
     "output_type": "stream",
     "text": [
      "C:\\Users\\cruzd\\AppData\\Local\\Packages\\PythonSoftwareFoundation.Python.3.12_qbz5n2kfra8p0\\LocalCache\\local-packages\\Python312\\site-packages\\sklearn\\utils\\deprecation.py:151: FutureWarning: 'force_all_finite' was renamed to 'ensure_all_finite' in 1.6 and will be removed in 1.8.\n",
      "  warnings.warn(\n",
      "C:\\Users\\cruzd\\AppData\\Local\\Packages\\PythonSoftwareFoundation.Python.3.12_qbz5n2kfra8p0\\LocalCache\\local-packages\\Python312\\site-packages\\sklearn\\utils\\deprecation.py:151: FutureWarning: 'force_all_finite' was renamed to 'ensure_all_finite' in 1.6 and will be removed in 1.8.\n",
      "  warnings.warn(\n"
     ]
    },
    {
     "name": "stdout",
     "output_type": "stream",
     "text": [
      "Clusters salvos em clusters/Tools/umap/n_components256\\run_hdbscan/Tools_clusters_run_hdbscan_minsize200_minsample100.csv\n",
      "HDBSCAN - min_cluster_size = 300, min_samples = 10\n"
     ]
    },
    {
     "name": "stderr",
     "output_type": "stream",
     "text": [
      "C:\\Users\\cruzd\\AppData\\Local\\Packages\\PythonSoftwareFoundation.Python.3.12_qbz5n2kfra8p0\\LocalCache\\local-packages\\Python312\\site-packages\\sklearn\\utils\\deprecation.py:151: FutureWarning: 'force_all_finite' was renamed to 'ensure_all_finite' in 1.6 and will be removed in 1.8.\n",
      "  warnings.warn(\n",
      "C:\\Users\\cruzd\\AppData\\Local\\Packages\\PythonSoftwareFoundation.Python.3.12_qbz5n2kfra8p0\\LocalCache\\local-packages\\Python312\\site-packages\\sklearn\\utils\\deprecation.py:151: FutureWarning: 'force_all_finite' was renamed to 'ensure_all_finite' in 1.6 and will be removed in 1.8.\n",
      "  warnings.warn(\n"
     ]
    },
    {
     "name": "stdout",
     "output_type": "stream",
     "text": [
      "Clusters salvos em clusters/Tools/umap/n_components256\\run_hdbscan/Tools_clusters_run_hdbscan_minsize300_minsample10.csv\n",
      "HDBSCAN - min_cluster_size = 300, min_samples = 20\n"
     ]
    },
    {
     "name": "stderr",
     "output_type": "stream",
     "text": [
      "C:\\Users\\cruzd\\AppData\\Local\\Packages\\PythonSoftwareFoundation.Python.3.12_qbz5n2kfra8p0\\LocalCache\\local-packages\\Python312\\site-packages\\sklearn\\utils\\deprecation.py:151: FutureWarning: 'force_all_finite' was renamed to 'ensure_all_finite' in 1.6 and will be removed in 1.8.\n",
      "  warnings.warn(\n",
      "C:\\Users\\cruzd\\AppData\\Local\\Packages\\PythonSoftwareFoundation.Python.3.12_qbz5n2kfra8p0\\LocalCache\\local-packages\\Python312\\site-packages\\sklearn\\utils\\deprecation.py:151: FutureWarning: 'force_all_finite' was renamed to 'ensure_all_finite' in 1.6 and will be removed in 1.8.\n",
      "  warnings.warn(\n"
     ]
    },
    {
     "name": "stdout",
     "output_type": "stream",
     "text": [
      "Clusters salvos em clusters/Tools/umap/n_components256\\run_hdbscan/Tools_clusters_run_hdbscan_minsize300_minsample20.csv\n",
      "HDBSCAN - min_cluster_size = 300, min_samples = 30\n"
     ]
    },
    {
     "name": "stderr",
     "output_type": "stream",
     "text": [
      "C:\\Users\\cruzd\\AppData\\Local\\Packages\\PythonSoftwareFoundation.Python.3.12_qbz5n2kfra8p0\\LocalCache\\local-packages\\Python312\\site-packages\\sklearn\\utils\\deprecation.py:151: FutureWarning: 'force_all_finite' was renamed to 'ensure_all_finite' in 1.6 and will be removed in 1.8.\n",
      "  warnings.warn(\n",
      "C:\\Users\\cruzd\\AppData\\Local\\Packages\\PythonSoftwareFoundation.Python.3.12_qbz5n2kfra8p0\\LocalCache\\local-packages\\Python312\\site-packages\\sklearn\\utils\\deprecation.py:151: FutureWarning: 'force_all_finite' was renamed to 'ensure_all_finite' in 1.6 and will be removed in 1.8.\n",
      "  warnings.warn(\n"
     ]
    },
    {
     "name": "stdout",
     "output_type": "stream",
     "text": [
      "Clusters salvos em clusters/Tools/umap/n_components256\\run_hdbscan/Tools_clusters_run_hdbscan_minsize300_minsample30.csv\n",
      "HDBSCAN - min_cluster_size = 300, min_samples = 50\n"
     ]
    },
    {
     "name": "stderr",
     "output_type": "stream",
     "text": [
      "C:\\Users\\cruzd\\AppData\\Local\\Packages\\PythonSoftwareFoundation.Python.3.12_qbz5n2kfra8p0\\LocalCache\\local-packages\\Python312\\site-packages\\sklearn\\utils\\deprecation.py:151: FutureWarning: 'force_all_finite' was renamed to 'ensure_all_finite' in 1.6 and will be removed in 1.8.\n",
      "  warnings.warn(\n",
      "C:\\Users\\cruzd\\AppData\\Local\\Packages\\PythonSoftwareFoundation.Python.3.12_qbz5n2kfra8p0\\LocalCache\\local-packages\\Python312\\site-packages\\sklearn\\utils\\deprecation.py:151: FutureWarning: 'force_all_finite' was renamed to 'ensure_all_finite' in 1.6 and will be removed in 1.8.\n",
      "  warnings.warn(\n"
     ]
    },
    {
     "name": "stdout",
     "output_type": "stream",
     "text": [
      "Clusters salvos em clusters/Tools/umap/n_components256\\run_hdbscan/Tools_clusters_run_hdbscan_minsize300_minsample50.csv\n",
      "HDBSCAN - min_cluster_size = 300, min_samples = 100\n"
     ]
    },
    {
     "name": "stderr",
     "output_type": "stream",
     "text": [
      "C:\\Users\\cruzd\\AppData\\Local\\Packages\\PythonSoftwareFoundation.Python.3.12_qbz5n2kfra8p0\\LocalCache\\local-packages\\Python312\\site-packages\\sklearn\\utils\\deprecation.py:151: FutureWarning: 'force_all_finite' was renamed to 'ensure_all_finite' in 1.6 and will be removed in 1.8.\n",
      "  warnings.warn(\n",
      "C:\\Users\\cruzd\\AppData\\Local\\Packages\\PythonSoftwareFoundation.Python.3.12_qbz5n2kfra8p0\\LocalCache\\local-packages\\Python312\\site-packages\\sklearn\\utils\\deprecation.py:151: FutureWarning: 'force_all_finite' was renamed to 'ensure_all_finite' in 1.6 and will be removed in 1.8.\n",
      "  warnings.warn(\n"
     ]
    },
    {
     "name": "stdout",
     "output_type": "stream",
     "text": [
      "Clusters salvos em clusters/Tools/umap/n_components256\\run_hdbscan/Tools_clusters_run_hdbscan_minsize300_minsample100.csv\n",
      "Clusterização concluída e resultados salvos\n",
      "\n",
      " Embeddings reduzidos com umap e n_components 512\n",
      "Aplicando UMAP com n_components = 512...\n"
     ]
    },
    {
     "name": "stderr",
     "output_type": "stream",
     "text": [
      "C:\\Users\\cruzd\\AppData\\Local\\Packages\\PythonSoftwareFoundation.Python.3.12_qbz5n2kfra8p0\\LocalCache\\local-packages\\Python312\\site-packages\\sklearn\\utils\\deprecation.py:151: FutureWarning: 'force_all_finite' was renamed to 'ensure_all_finite' in 1.6 and will be removed in 1.8.\n",
      "  warnings.warn(\n",
      "C:\\Users\\cruzd\\AppData\\Local\\Packages\\PythonSoftwareFoundation.Python.3.12_qbz5n2kfra8p0\\LocalCache\\local-packages\\Python312\\site-packages\\umap\\umap_.py:1952: UserWarning: n_jobs value 1 overridden to 1 by setting random_state. Use no seed for parallelism.\n",
      "  warn(\n"
     ]
    },
    {
     "name": "stdout",
     "output_type": "stream",
     "text": [
      "Dimensionalidade reduzida de 1000 para 512\n",
      "Executando run_hdbscan...\n",
      "HDBSCAN - min_cluster_size = 30, min_samples = 10\n"
     ]
    },
    {
     "name": "stderr",
     "output_type": "stream",
     "text": [
      "C:\\Users\\cruzd\\AppData\\Local\\Packages\\PythonSoftwareFoundation.Python.3.12_qbz5n2kfra8p0\\LocalCache\\local-packages\\Python312\\site-packages\\sklearn\\utils\\deprecation.py:151: FutureWarning: 'force_all_finite' was renamed to 'ensure_all_finite' in 1.6 and will be removed in 1.8.\n",
      "  warnings.warn(\n",
      "C:\\Users\\cruzd\\AppData\\Local\\Packages\\PythonSoftwareFoundation.Python.3.12_qbz5n2kfra8p0\\LocalCache\\local-packages\\Python312\\site-packages\\sklearn\\utils\\deprecation.py:151: FutureWarning: 'force_all_finite' was renamed to 'ensure_all_finite' in 1.6 and will be removed in 1.8.\n",
      "  warnings.warn(\n"
     ]
    },
    {
     "name": "stdout",
     "output_type": "stream",
     "text": [
      "Clusters salvos em clusters/Tools/umap/n_components512\\run_hdbscan/Tools_clusters_run_hdbscan_minsize30_minsample10.csv\n",
      "HDBSCAN - min_cluster_size = 30, min_samples = 20\n"
     ]
    },
    {
     "name": "stderr",
     "output_type": "stream",
     "text": [
      "C:\\Users\\cruzd\\AppData\\Local\\Packages\\PythonSoftwareFoundation.Python.3.12_qbz5n2kfra8p0\\LocalCache\\local-packages\\Python312\\site-packages\\sklearn\\utils\\deprecation.py:151: FutureWarning: 'force_all_finite' was renamed to 'ensure_all_finite' in 1.6 and will be removed in 1.8.\n",
      "  warnings.warn(\n",
      "C:\\Users\\cruzd\\AppData\\Local\\Packages\\PythonSoftwareFoundation.Python.3.12_qbz5n2kfra8p0\\LocalCache\\local-packages\\Python312\\site-packages\\sklearn\\utils\\deprecation.py:151: FutureWarning: 'force_all_finite' was renamed to 'ensure_all_finite' in 1.6 and will be removed in 1.8.\n",
      "  warnings.warn(\n"
     ]
    },
    {
     "name": "stdout",
     "output_type": "stream",
     "text": [
      "Clusters salvos em clusters/Tools/umap/n_components512\\run_hdbscan/Tools_clusters_run_hdbscan_minsize30_minsample20.csv\n",
      "HDBSCAN - min_cluster_size = 30, min_samples = 30\n"
     ]
    },
    {
     "name": "stderr",
     "output_type": "stream",
     "text": [
      "C:\\Users\\cruzd\\AppData\\Local\\Packages\\PythonSoftwareFoundation.Python.3.12_qbz5n2kfra8p0\\LocalCache\\local-packages\\Python312\\site-packages\\sklearn\\utils\\deprecation.py:151: FutureWarning: 'force_all_finite' was renamed to 'ensure_all_finite' in 1.6 and will be removed in 1.8.\n",
      "  warnings.warn(\n",
      "C:\\Users\\cruzd\\AppData\\Local\\Packages\\PythonSoftwareFoundation.Python.3.12_qbz5n2kfra8p0\\LocalCache\\local-packages\\Python312\\site-packages\\sklearn\\utils\\deprecation.py:151: FutureWarning: 'force_all_finite' was renamed to 'ensure_all_finite' in 1.6 and will be removed in 1.8.\n",
      "  warnings.warn(\n"
     ]
    },
    {
     "name": "stdout",
     "output_type": "stream",
     "text": [
      "Clusters salvos em clusters/Tools/umap/n_components512\\run_hdbscan/Tools_clusters_run_hdbscan_minsize30_minsample30.csv\n",
      "HDBSCAN - min_cluster_size = 30, min_samples = 50\n"
     ]
    },
    {
     "name": "stderr",
     "output_type": "stream",
     "text": [
      "C:\\Users\\cruzd\\AppData\\Local\\Packages\\PythonSoftwareFoundation.Python.3.12_qbz5n2kfra8p0\\LocalCache\\local-packages\\Python312\\site-packages\\sklearn\\utils\\deprecation.py:151: FutureWarning: 'force_all_finite' was renamed to 'ensure_all_finite' in 1.6 and will be removed in 1.8.\n",
      "  warnings.warn(\n",
      "C:\\Users\\cruzd\\AppData\\Local\\Packages\\PythonSoftwareFoundation.Python.3.12_qbz5n2kfra8p0\\LocalCache\\local-packages\\Python312\\site-packages\\sklearn\\utils\\deprecation.py:151: FutureWarning: 'force_all_finite' was renamed to 'ensure_all_finite' in 1.6 and will be removed in 1.8.\n",
      "  warnings.warn(\n"
     ]
    },
    {
     "name": "stdout",
     "output_type": "stream",
     "text": [
      "Clusters salvos em clusters/Tools/umap/n_components512\\run_hdbscan/Tools_clusters_run_hdbscan_minsize30_minsample50.csv\n",
      "HDBSCAN - min_cluster_size = 30, min_samples = 100\n"
     ]
    },
    {
     "name": "stderr",
     "output_type": "stream",
     "text": [
      "C:\\Users\\cruzd\\AppData\\Local\\Packages\\PythonSoftwareFoundation.Python.3.12_qbz5n2kfra8p0\\LocalCache\\local-packages\\Python312\\site-packages\\sklearn\\utils\\deprecation.py:151: FutureWarning: 'force_all_finite' was renamed to 'ensure_all_finite' in 1.6 and will be removed in 1.8.\n",
      "  warnings.warn(\n",
      "C:\\Users\\cruzd\\AppData\\Local\\Packages\\PythonSoftwareFoundation.Python.3.12_qbz5n2kfra8p0\\LocalCache\\local-packages\\Python312\\site-packages\\sklearn\\utils\\deprecation.py:151: FutureWarning: 'force_all_finite' was renamed to 'ensure_all_finite' in 1.6 and will be removed in 1.8.\n",
      "  warnings.warn(\n"
     ]
    },
    {
     "name": "stdout",
     "output_type": "stream",
     "text": [
      "Clusters salvos em clusters/Tools/umap/n_components512\\run_hdbscan/Tools_clusters_run_hdbscan_minsize30_minsample100.csv\n",
      "HDBSCAN - min_cluster_size = 50, min_samples = 10\n"
     ]
    },
    {
     "name": "stderr",
     "output_type": "stream",
     "text": [
      "C:\\Users\\cruzd\\AppData\\Local\\Packages\\PythonSoftwareFoundation.Python.3.12_qbz5n2kfra8p0\\LocalCache\\local-packages\\Python312\\site-packages\\sklearn\\utils\\deprecation.py:151: FutureWarning: 'force_all_finite' was renamed to 'ensure_all_finite' in 1.6 and will be removed in 1.8.\n",
      "  warnings.warn(\n",
      "C:\\Users\\cruzd\\AppData\\Local\\Packages\\PythonSoftwareFoundation.Python.3.12_qbz5n2kfra8p0\\LocalCache\\local-packages\\Python312\\site-packages\\sklearn\\utils\\deprecation.py:151: FutureWarning: 'force_all_finite' was renamed to 'ensure_all_finite' in 1.6 and will be removed in 1.8.\n",
      "  warnings.warn(\n"
     ]
    },
    {
     "name": "stdout",
     "output_type": "stream",
     "text": [
      "Clusters salvos em clusters/Tools/umap/n_components512\\run_hdbscan/Tools_clusters_run_hdbscan_minsize50_minsample10.csv\n",
      "HDBSCAN - min_cluster_size = 50, min_samples = 20\n"
     ]
    },
    {
     "name": "stderr",
     "output_type": "stream",
     "text": [
      "C:\\Users\\cruzd\\AppData\\Local\\Packages\\PythonSoftwareFoundation.Python.3.12_qbz5n2kfra8p0\\LocalCache\\local-packages\\Python312\\site-packages\\sklearn\\utils\\deprecation.py:151: FutureWarning: 'force_all_finite' was renamed to 'ensure_all_finite' in 1.6 and will be removed in 1.8.\n",
      "  warnings.warn(\n",
      "C:\\Users\\cruzd\\AppData\\Local\\Packages\\PythonSoftwareFoundation.Python.3.12_qbz5n2kfra8p0\\LocalCache\\local-packages\\Python312\\site-packages\\sklearn\\utils\\deprecation.py:151: FutureWarning: 'force_all_finite' was renamed to 'ensure_all_finite' in 1.6 and will be removed in 1.8.\n",
      "  warnings.warn(\n"
     ]
    },
    {
     "name": "stdout",
     "output_type": "stream",
     "text": [
      "Clusters salvos em clusters/Tools/umap/n_components512\\run_hdbscan/Tools_clusters_run_hdbscan_minsize50_minsample20.csv\n",
      "HDBSCAN - min_cluster_size = 50, min_samples = 30\n"
     ]
    },
    {
     "name": "stderr",
     "output_type": "stream",
     "text": [
      "C:\\Users\\cruzd\\AppData\\Local\\Packages\\PythonSoftwareFoundation.Python.3.12_qbz5n2kfra8p0\\LocalCache\\local-packages\\Python312\\site-packages\\sklearn\\utils\\deprecation.py:151: FutureWarning: 'force_all_finite' was renamed to 'ensure_all_finite' in 1.6 and will be removed in 1.8.\n",
      "  warnings.warn(\n",
      "C:\\Users\\cruzd\\AppData\\Local\\Packages\\PythonSoftwareFoundation.Python.3.12_qbz5n2kfra8p0\\LocalCache\\local-packages\\Python312\\site-packages\\sklearn\\utils\\deprecation.py:151: FutureWarning: 'force_all_finite' was renamed to 'ensure_all_finite' in 1.6 and will be removed in 1.8.\n",
      "  warnings.warn(\n"
     ]
    },
    {
     "name": "stdout",
     "output_type": "stream",
     "text": [
      "Clusters salvos em clusters/Tools/umap/n_components512\\run_hdbscan/Tools_clusters_run_hdbscan_minsize50_minsample30.csv\n",
      "HDBSCAN - min_cluster_size = 50, min_samples = 50\n"
     ]
    },
    {
     "name": "stderr",
     "output_type": "stream",
     "text": [
      "C:\\Users\\cruzd\\AppData\\Local\\Packages\\PythonSoftwareFoundation.Python.3.12_qbz5n2kfra8p0\\LocalCache\\local-packages\\Python312\\site-packages\\sklearn\\utils\\deprecation.py:151: FutureWarning: 'force_all_finite' was renamed to 'ensure_all_finite' in 1.6 and will be removed in 1.8.\n",
      "  warnings.warn(\n",
      "C:\\Users\\cruzd\\AppData\\Local\\Packages\\PythonSoftwareFoundation.Python.3.12_qbz5n2kfra8p0\\LocalCache\\local-packages\\Python312\\site-packages\\sklearn\\utils\\deprecation.py:151: FutureWarning: 'force_all_finite' was renamed to 'ensure_all_finite' in 1.6 and will be removed in 1.8.\n",
      "  warnings.warn(\n"
     ]
    },
    {
     "name": "stdout",
     "output_type": "stream",
     "text": [
      "Clusters salvos em clusters/Tools/umap/n_components512\\run_hdbscan/Tools_clusters_run_hdbscan_minsize50_minsample50.csv\n",
      "HDBSCAN - min_cluster_size = 50, min_samples = 100\n"
     ]
    },
    {
     "name": "stderr",
     "output_type": "stream",
     "text": [
      "C:\\Users\\cruzd\\AppData\\Local\\Packages\\PythonSoftwareFoundation.Python.3.12_qbz5n2kfra8p0\\LocalCache\\local-packages\\Python312\\site-packages\\sklearn\\utils\\deprecation.py:151: FutureWarning: 'force_all_finite' was renamed to 'ensure_all_finite' in 1.6 and will be removed in 1.8.\n",
      "  warnings.warn(\n",
      "C:\\Users\\cruzd\\AppData\\Local\\Packages\\PythonSoftwareFoundation.Python.3.12_qbz5n2kfra8p0\\LocalCache\\local-packages\\Python312\\site-packages\\sklearn\\utils\\deprecation.py:151: FutureWarning: 'force_all_finite' was renamed to 'ensure_all_finite' in 1.6 and will be removed in 1.8.\n",
      "  warnings.warn(\n"
     ]
    },
    {
     "name": "stdout",
     "output_type": "stream",
     "text": [
      "Clusters salvos em clusters/Tools/umap/n_components512\\run_hdbscan/Tools_clusters_run_hdbscan_minsize50_minsample100.csv\n",
      "HDBSCAN - min_cluster_size = 100, min_samples = 10\n"
     ]
    },
    {
     "name": "stderr",
     "output_type": "stream",
     "text": [
      "C:\\Users\\cruzd\\AppData\\Local\\Packages\\PythonSoftwareFoundation.Python.3.12_qbz5n2kfra8p0\\LocalCache\\local-packages\\Python312\\site-packages\\sklearn\\utils\\deprecation.py:151: FutureWarning: 'force_all_finite' was renamed to 'ensure_all_finite' in 1.6 and will be removed in 1.8.\n",
      "  warnings.warn(\n",
      "C:\\Users\\cruzd\\AppData\\Local\\Packages\\PythonSoftwareFoundation.Python.3.12_qbz5n2kfra8p0\\LocalCache\\local-packages\\Python312\\site-packages\\sklearn\\utils\\deprecation.py:151: FutureWarning: 'force_all_finite' was renamed to 'ensure_all_finite' in 1.6 and will be removed in 1.8.\n",
      "  warnings.warn(\n"
     ]
    },
    {
     "name": "stdout",
     "output_type": "stream",
     "text": [
      "Clusters salvos em clusters/Tools/umap/n_components512\\run_hdbscan/Tools_clusters_run_hdbscan_minsize100_minsample10.csv\n",
      "HDBSCAN - min_cluster_size = 100, min_samples = 20\n"
     ]
    },
    {
     "name": "stderr",
     "output_type": "stream",
     "text": [
      "C:\\Users\\cruzd\\AppData\\Local\\Packages\\PythonSoftwareFoundation.Python.3.12_qbz5n2kfra8p0\\LocalCache\\local-packages\\Python312\\site-packages\\sklearn\\utils\\deprecation.py:151: FutureWarning: 'force_all_finite' was renamed to 'ensure_all_finite' in 1.6 and will be removed in 1.8.\n",
      "  warnings.warn(\n",
      "C:\\Users\\cruzd\\AppData\\Local\\Packages\\PythonSoftwareFoundation.Python.3.12_qbz5n2kfra8p0\\LocalCache\\local-packages\\Python312\\site-packages\\sklearn\\utils\\deprecation.py:151: FutureWarning: 'force_all_finite' was renamed to 'ensure_all_finite' in 1.6 and will be removed in 1.8.\n",
      "  warnings.warn(\n"
     ]
    },
    {
     "name": "stdout",
     "output_type": "stream",
     "text": [
      "Clusters salvos em clusters/Tools/umap/n_components512\\run_hdbscan/Tools_clusters_run_hdbscan_minsize100_minsample20.csv\n",
      "HDBSCAN - min_cluster_size = 100, min_samples = 30\n"
     ]
    },
    {
     "name": "stderr",
     "output_type": "stream",
     "text": [
      "C:\\Users\\cruzd\\AppData\\Local\\Packages\\PythonSoftwareFoundation.Python.3.12_qbz5n2kfra8p0\\LocalCache\\local-packages\\Python312\\site-packages\\sklearn\\utils\\deprecation.py:151: FutureWarning: 'force_all_finite' was renamed to 'ensure_all_finite' in 1.6 and will be removed in 1.8.\n",
      "  warnings.warn(\n",
      "C:\\Users\\cruzd\\AppData\\Local\\Packages\\PythonSoftwareFoundation.Python.3.12_qbz5n2kfra8p0\\LocalCache\\local-packages\\Python312\\site-packages\\sklearn\\utils\\deprecation.py:151: FutureWarning: 'force_all_finite' was renamed to 'ensure_all_finite' in 1.6 and will be removed in 1.8.\n",
      "  warnings.warn(\n"
     ]
    },
    {
     "name": "stdout",
     "output_type": "stream",
     "text": [
      "Clusters salvos em clusters/Tools/umap/n_components512\\run_hdbscan/Tools_clusters_run_hdbscan_minsize100_minsample30.csv\n",
      "HDBSCAN - min_cluster_size = 100, min_samples = 50\n"
     ]
    },
    {
     "name": "stderr",
     "output_type": "stream",
     "text": [
      "C:\\Users\\cruzd\\AppData\\Local\\Packages\\PythonSoftwareFoundation.Python.3.12_qbz5n2kfra8p0\\LocalCache\\local-packages\\Python312\\site-packages\\sklearn\\utils\\deprecation.py:151: FutureWarning: 'force_all_finite' was renamed to 'ensure_all_finite' in 1.6 and will be removed in 1.8.\n",
      "  warnings.warn(\n",
      "C:\\Users\\cruzd\\AppData\\Local\\Packages\\PythonSoftwareFoundation.Python.3.12_qbz5n2kfra8p0\\LocalCache\\local-packages\\Python312\\site-packages\\sklearn\\utils\\deprecation.py:151: FutureWarning: 'force_all_finite' was renamed to 'ensure_all_finite' in 1.6 and will be removed in 1.8.\n",
      "  warnings.warn(\n"
     ]
    },
    {
     "name": "stdout",
     "output_type": "stream",
     "text": [
      "Clusters salvos em clusters/Tools/umap/n_components512\\run_hdbscan/Tools_clusters_run_hdbscan_minsize100_minsample50.csv\n",
      "HDBSCAN - min_cluster_size = 100, min_samples = 100\n"
     ]
    },
    {
     "name": "stderr",
     "output_type": "stream",
     "text": [
      "C:\\Users\\cruzd\\AppData\\Local\\Packages\\PythonSoftwareFoundation.Python.3.12_qbz5n2kfra8p0\\LocalCache\\local-packages\\Python312\\site-packages\\sklearn\\utils\\deprecation.py:151: FutureWarning: 'force_all_finite' was renamed to 'ensure_all_finite' in 1.6 and will be removed in 1.8.\n",
      "  warnings.warn(\n",
      "C:\\Users\\cruzd\\AppData\\Local\\Packages\\PythonSoftwareFoundation.Python.3.12_qbz5n2kfra8p0\\LocalCache\\local-packages\\Python312\\site-packages\\sklearn\\utils\\deprecation.py:151: FutureWarning: 'force_all_finite' was renamed to 'ensure_all_finite' in 1.6 and will be removed in 1.8.\n",
      "  warnings.warn(\n"
     ]
    },
    {
     "name": "stdout",
     "output_type": "stream",
     "text": [
      "Clusters salvos em clusters/Tools/umap/n_components512\\run_hdbscan/Tools_clusters_run_hdbscan_minsize100_minsample100.csv\n",
      "HDBSCAN - min_cluster_size = 200, min_samples = 10\n"
     ]
    },
    {
     "name": "stderr",
     "output_type": "stream",
     "text": [
      "C:\\Users\\cruzd\\AppData\\Local\\Packages\\PythonSoftwareFoundation.Python.3.12_qbz5n2kfra8p0\\LocalCache\\local-packages\\Python312\\site-packages\\sklearn\\utils\\deprecation.py:151: FutureWarning: 'force_all_finite' was renamed to 'ensure_all_finite' in 1.6 and will be removed in 1.8.\n",
      "  warnings.warn(\n",
      "C:\\Users\\cruzd\\AppData\\Local\\Packages\\PythonSoftwareFoundation.Python.3.12_qbz5n2kfra8p0\\LocalCache\\local-packages\\Python312\\site-packages\\sklearn\\utils\\deprecation.py:151: FutureWarning: 'force_all_finite' was renamed to 'ensure_all_finite' in 1.6 and will be removed in 1.8.\n",
      "  warnings.warn(\n"
     ]
    },
    {
     "name": "stdout",
     "output_type": "stream",
     "text": [
      "Clusters salvos em clusters/Tools/umap/n_components512\\run_hdbscan/Tools_clusters_run_hdbscan_minsize200_minsample10.csv\n",
      "HDBSCAN - min_cluster_size = 200, min_samples = 20\n"
     ]
    },
    {
     "name": "stderr",
     "output_type": "stream",
     "text": [
      "C:\\Users\\cruzd\\AppData\\Local\\Packages\\PythonSoftwareFoundation.Python.3.12_qbz5n2kfra8p0\\LocalCache\\local-packages\\Python312\\site-packages\\sklearn\\utils\\deprecation.py:151: FutureWarning: 'force_all_finite' was renamed to 'ensure_all_finite' in 1.6 and will be removed in 1.8.\n",
      "  warnings.warn(\n",
      "C:\\Users\\cruzd\\AppData\\Local\\Packages\\PythonSoftwareFoundation.Python.3.12_qbz5n2kfra8p0\\LocalCache\\local-packages\\Python312\\site-packages\\sklearn\\utils\\deprecation.py:151: FutureWarning: 'force_all_finite' was renamed to 'ensure_all_finite' in 1.6 and will be removed in 1.8.\n",
      "  warnings.warn(\n"
     ]
    },
    {
     "name": "stdout",
     "output_type": "stream",
     "text": [
      "Clusters salvos em clusters/Tools/umap/n_components512\\run_hdbscan/Tools_clusters_run_hdbscan_minsize200_minsample20.csv\n",
      "HDBSCAN - min_cluster_size = 200, min_samples = 30\n"
     ]
    },
    {
     "name": "stderr",
     "output_type": "stream",
     "text": [
      "C:\\Users\\cruzd\\AppData\\Local\\Packages\\PythonSoftwareFoundation.Python.3.12_qbz5n2kfra8p0\\LocalCache\\local-packages\\Python312\\site-packages\\sklearn\\utils\\deprecation.py:151: FutureWarning: 'force_all_finite' was renamed to 'ensure_all_finite' in 1.6 and will be removed in 1.8.\n",
      "  warnings.warn(\n",
      "C:\\Users\\cruzd\\AppData\\Local\\Packages\\PythonSoftwareFoundation.Python.3.12_qbz5n2kfra8p0\\LocalCache\\local-packages\\Python312\\site-packages\\sklearn\\utils\\deprecation.py:151: FutureWarning: 'force_all_finite' was renamed to 'ensure_all_finite' in 1.6 and will be removed in 1.8.\n",
      "  warnings.warn(\n"
     ]
    },
    {
     "name": "stdout",
     "output_type": "stream",
     "text": [
      "Clusters salvos em clusters/Tools/umap/n_components512\\run_hdbscan/Tools_clusters_run_hdbscan_minsize200_minsample30.csv\n",
      "HDBSCAN - min_cluster_size = 200, min_samples = 50\n"
     ]
    },
    {
     "name": "stderr",
     "output_type": "stream",
     "text": [
      "C:\\Users\\cruzd\\AppData\\Local\\Packages\\PythonSoftwareFoundation.Python.3.12_qbz5n2kfra8p0\\LocalCache\\local-packages\\Python312\\site-packages\\sklearn\\utils\\deprecation.py:151: FutureWarning: 'force_all_finite' was renamed to 'ensure_all_finite' in 1.6 and will be removed in 1.8.\n",
      "  warnings.warn(\n",
      "C:\\Users\\cruzd\\AppData\\Local\\Packages\\PythonSoftwareFoundation.Python.3.12_qbz5n2kfra8p0\\LocalCache\\local-packages\\Python312\\site-packages\\sklearn\\utils\\deprecation.py:151: FutureWarning: 'force_all_finite' was renamed to 'ensure_all_finite' in 1.6 and will be removed in 1.8.\n",
      "  warnings.warn(\n"
     ]
    },
    {
     "name": "stdout",
     "output_type": "stream",
     "text": [
      "Clusters salvos em clusters/Tools/umap/n_components512\\run_hdbscan/Tools_clusters_run_hdbscan_minsize200_minsample50.csv\n",
      "HDBSCAN - min_cluster_size = 200, min_samples = 100\n"
     ]
    },
    {
     "name": "stderr",
     "output_type": "stream",
     "text": [
      "C:\\Users\\cruzd\\AppData\\Local\\Packages\\PythonSoftwareFoundation.Python.3.12_qbz5n2kfra8p0\\LocalCache\\local-packages\\Python312\\site-packages\\sklearn\\utils\\deprecation.py:151: FutureWarning: 'force_all_finite' was renamed to 'ensure_all_finite' in 1.6 and will be removed in 1.8.\n",
      "  warnings.warn(\n",
      "C:\\Users\\cruzd\\AppData\\Local\\Packages\\PythonSoftwareFoundation.Python.3.12_qbz5n2kfra8p0\\LocalCache\\local-packages\\Python312\\site-packages\\sklearn\\utils\\deprecation.py:151: FutureWarning: 'force_all_finite' was renamed to 'ensure_all_finite' in 1.6 and will be removed in 1.8.\n",
      "  warnings.warn(\n"
     ]
    },
    {
     "name": "stdout",
     "output_type": "stream",
     "text": [
      "Clusters salvos em clusters/Tools/umap/n_components512\\run_hdbscan/Tools_clusters_run_hdbscan_minsize200_minsample100.csv\n",
      "HDBSCAN - min_cluster_size = 300, min_samples = 10\n"
     ]
    },
    {
     "name": "stderr",
     "output_type": "stream",
     "text": [
      "C:\\Users\\cruzd\\AppData\\Local\\Packages\\PythonSoftwareFoundation.Python.3.12_qbz5n2kfra8p0\\LocalCache\\local-packages\\Python312\\site-packages\\sklearn\\utils\\deprecation.py:151: FutureWarning: 'force_all_finite' was renamed to 'ensure_all_finite' in 1.6 and will be removed in 1.8.\n",
      "  warnings.warn(\n",
      "C:\\Users\\cruzd\\AppData\\Local\\Packages\\PythonSoftwareFoundation.Python.3.12_qbz5n2kfra8p0\\LocalCache\\local-packages\\Python312\\site-packages\\sklearn\\utils\\deprecation.py:151: FutureWarning: 'force_all_finite' was renamed to 'ensure_all_finite' in 1.6 and will be removed in 1.8.\n",
      "  warnings.warn(\n"
     ]
    },
    {
     "name": "stdout",
     "output_type": "stream",
     "text": [
      "Clusters salvos em clusters/Tools/umap/n_components512\\run_hdbscan/Tools_clusters_run_hdbscan_minsize300_minsample10.csv\n",
      "HDBSCAN - min_cluster_size = 300, min_samples = 20\n"
     ]
    },
    {
     "name": "stderr",
     "output_type": "stream",
     "text": [
      "C:\\Users\\cruzd\\AppData\\Local\\Packages\\PythonSoftwareFoundation.Python.3.12_qbz5n2kfra8p0\\LocalCache\\local-packages\\Python312\\site-packages\\sklearn\\utils\\deprecation.py:151: FutureWarning: 'force_all_finite' was renamed to 'ensure_all_finite' in 1.6 and will be removed in 1.8.\n",
      "  warnings.warn(\n",
      "C:\\Users\\cruzd\\AppData\\Local\\Packages\\PythonSoftwareFoundation.Python.3.12_qbz5n2kfra8p0\\LocalCache\\local-packages\\Python312\\site-packages\\sklearn\\utils\\deprecation.py:151: FutureWarning: 'force_all_finite' was renamed to 'ensure_all_finite' in 1.6 and will be removed in 1.8.\n",
      "  warnings.warn(\n"
     ]
    },
    {
     "name": "stdout",
     "output_type": "stream",
     "text": [
      "Clusters salvos em clusters/Tools/umap/n_components512\\run_hdbscan/Tools_clusters_run_hdbscan_minsize300_minsample20.csv\n",
      "HDBSCAN - min_cluster_size = 300, min_samples = 30\n"
     ]
    },
    {
     "name": "stderr",
     "output_type": "stream",
     "text": [
      "C:\\Users\\cruzd\\AppData\\Local\\Packages\\PythonSoftwareFoundation.Python.3.12_qbz5n2kfra8p0\\LocalCache\\local-packages\\Python312\\site-packages\\sklearn\\utils\\deprecation.py:151: FutureWarning: 'force_all_finite' was renamed to 'ensure_all_finite' in 1.6 and will be removed in 1.8.\n",
      "  warnings.warn(\n",
      "C:\\Users\\cruzd\\AppData\\Local\\Packages\\PythonSoftwareFoundation.Python.3.12_qbz5n2kfra8p0\\LocalCache\\local-packages\\Python312\\site-packages\\sklearn\\utils\\deprecation.py:151: FutureWarning: 'force_all_finite' was renamed to 'ensure_all_finite' in 1.6 and will be removed in 1.8.\n",
      "  warnings.warn(\n"
     ]
    },
    {
     "name": "stdout",
     "output_type": "stream",
     "text": [
      "Clusters salvos em clusters/Tools/umap/n_components512\\run_hdbscan/Tools_clusters_run_hdbscan_minsize300_minsample30.csv\n",
      "HDBSCAN - min_cluster_size = 300, min_samples = 50\n"
     ]
    },
    {
     "name": "stderr",
     "output_type": "stream",
     "text": [
      "C:\\Users\\cruzd\\AppData\\Local\\Packages\\PythonSoftwareFoundation.Python.3.12_qbz5n2kfra8p0\\LocalCache\\local-packages\\Python312\\site-packages\\sklearn\\utils\\deprecation.py:151: FutureWarning: 'force_all_finite' was renamed to 'ensure_all_finite' in 1.6 and will be removed in 1.8.\n",
      "  warnings.warn(\n",
      "C:\\Users\\cruzd\\AppData\\Local\\Packages\\PythonSoftwareFoundation.Python.3.12_qbz5n2kfra8p0\\LocalCache\\local-packages\\Python312\\site-packages\\sklearn\\utils\\deprecation.py:151: FutureWarning: 'force_all_finite' was renamed to 'ensure_all_finite' in 1.6 and will be removed in 1.8.\n",
      "  warnings.warn(\n"
     ]
    },
    {
     "name": "stdout",
     "output_type": "stream",
     "text": [
      "Clusters salvos em clusters/Tools/umap/n_components512\\run_hdbscan/Tools_clusters_run_hdbscan_minsize300_minsample50.csv\n",
      "HDBSCAN - min_cluster_size = 300, min_samples = 100\n"
     ]
    },
    {
     "name": "stderr",
     "output_type": "stream",
     "text": [
      "C:\\Users\\cruzd\\AppData\\Local\\Packages\\PythonSoftwareFoundation.Python.3.12_qbz5n2kfra8p0\\LocalCache\\local-packages\\Python312\\site-packages\\sklearn\\utils\\deprecation.py:151: FutureWarning: 'force_all_finite' was renamed to 'ensure_all_finite' in 1.6 and will be removed in 1.8.\n",
      "  warnings.warn(\n",
      "C:\\Users\\cruzd\\AppData\\Local\\Packages\\PythonSoftwareFoundation.Python.3.12_qbz5n2kfra8p0\\LocalCache\\local-packages\\Python312\\site-packages\\sklearn\\utils\\deprecation.py:151: FutureWarning: 'force_all_finite' was renamed to 'ensure_all_finite' in 1.6 and will be removed in 1.8.\n",
      "  warnings.warn(\n"
     ]
    },
    {
     "name": "stdout",
     "output_type": "stream",
     "text": [
      "Clusters salvos em clusters/Tools/umap/n_components512\\run_hdbscan/Tools_clusters_run_hdbscan_minsize300_minsample100.csv\n",
      "Clusterização concluída e resultados salvos\n",
      "\n",
      "Todos os testes para HDBSCAN concluídos\n"
     ]
    }
   ],
   "source": [
    "#teste hdbscan\n",
    "min_clusters_sizes = [30, 50, 100, 200, 300]\n",
    "min_samples_values = [10, 20, 30, 50, 100]   \n",
    " \n",
    "\n",
    "print('Testes para HDBSCAN Clustering')\n",
    "for method_red in methods_reducing:\n",
    "    for n in n_components:\n",
    "        print(f'\\n Embeddings reduzidos com {method_red} e n_components {n}')\n",
    "        reduced_embeddings = dimensionality_reduction(embeddings=embeddings, method=method_red, n_components=n)\n",
    "        if not isinstance(reduced_embeddings, torch.Tensor):\n",
    "            reduced_embeddings = torch.tensor(reduced_embeddings, dtype=torch.float32)\n",
    "        output_path = f'clusters/{dataset}/{method_red}/n_components{n}'\n",
    "        os.makedirs(output_path, exist_ok=True)               \n",
    "\n",
    "        run_hdbscan_combinations(\n",
    "            embeddings=reduced_embeddings,\n",
    "            min_cluster_sizes=min_clusters_sizes,\n",
    "            min_samples = min_samples_values,\n",
    "            output_path=output_path,\n",
    "            dataset_name=dataset\n",
    "        )\n",
    "\n",
    "print(\"\\nTodos os testes para HDBSCAN concluídos\")"
   ]
  }
 ],
 "metadata": {
  "kernelspec": {
   "display_name": "Python 3",
   "language": "python",
   "name": "python3"
  },
  "language_info": {
   "codemirror_mode": {
    "name": "ipython",
    "version": 3
   },
   "file_extension": ".py",
   "mimetype": "text/x-python",
   "name": "python",
   "nbconvert_exporter": "python",
   "pygments_lexer": "ipython3",
   "version": "3.12.10"
  }
 },
 "nbformat": 4,
 "nbformat_minor": 5
}
