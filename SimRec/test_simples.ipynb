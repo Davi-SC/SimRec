{
 "cells": [
  {
   "cell_type": "markdown",
   "id": "c3bc5dce",
   "metadata": {},
   "source": [
    "teste simples para avaliar o funcionamento das 4 funções de clusterização(run_kmeans,run_agnes,run_pam,run_clarans)"
   ]
  },
  {
   "cell_type": "code",
   "execution_count": null,
   "id": "a6e4eade",
   "metadata": {},
   "outputs": [],
   "source": [
    "import os\n",
    "import pandas as pd\n",
    "import numpy as np\n",
    "import torch\n",
    "# from torch_kmeans import KMeans\n",
    "from sklearn.cluster import KMeans\n",
    "from pyclustering.cluster.agglomerative import agglomerative as agnes\n",
    "from pyclustering.cluster.center_initializer import kmeans_plusplus_initializer\n",
    "from pyclustering.cluster.clarans import clarans\n",
    "from pyclustering.cluster.kmedoids import kmedoids\n",
    "from pyclustering.utils import distance_metric,type_metric\n",
    "from sklearn.neighbors import NearestNeighbors\n",
    "from "
   ]
  },
  {
   "cell_type": "code",
   "execution_count": 2,
   "id": "90a93a4f",
   "metadata": {},
   "outputs": [],
   "source": [
    "def optimize_embeddings(embeddings):\n",
    "    \"\"\"Converte embeddings para float32 e CPU de forma segura\"\"\"\n",
    "    if isinstance(embeddings, torch.Tensor):\n",
    "        return embeddings.float().cpu()  # Reduz precisão e remove GPU\n",
    "    return torch.tensor(embeddings).float().cpu()\n",
    "from sklearn.decomposition import PCA\n",
    "\n",
    "def smart_reduce_dim(embeddings, variance_threshold=0.95):\n",
    "    \"\"\"Reduz dimensão preservando variância explicada\"\"\"\n",
    "    pca = PCA(n_components=variance_threshold)\n",
    "    reduced = pca.fit_transform(embeddings.numpy())\n",
    "    print(f\"Reduzido de {embeddings.shape[1]} para {pca.n_components_} componentes (preserva {variance_threshold*100}% da variância)\")\n",
    "    return torch.tensor(reduced)"
   ]
  },
  {
   "cell_type": "code",
   "execution_count": null,
   "id": "3b33a40c",
   "metadata": {},
   "outputs": [],
   "source": [
    "def run_kmeans(embeddings, n_clusters):\n",
    "    embeddings = optimize_embeddings(embeddings)\n",
    "    kmeans = KMeans(n_clusters=n_clusters, random_state=42, n_init='auto')\n",
    "    cluster_ids = kmeans.fit_predict(embeddings.numpy())\n",
    "    return cluster_ids, kmeans\n",
    "def run_agnes(embeddings, n_clusters, sample_size=None):\n",
    "    embeddings = optimize_embeddings(embeddings)\n",
    "    data = embeddings.numpy()\n",
    "    \n",
    "    if sample_size and len(data) > sample_size:\n",
    "        data = data[np.random.choice(len(data), sample_size, replace=False)]\n",
    "    \n",
    "    model = agnes(data.tolist(), n_clusters)\n",
    "    model.process()\n",
    "    \n",
    "    if sample_size:\n",
    "        \n",
    "        knn = NearestNeighbors(n_neighbors=1).fit(data)\n",
    "        _, indices = knn.kneighbors(embeddings.numpy())\n",
    "        sample_clusters = model.get_clusters()\n",
    "        cluster_ids = np.array([sample_clusters[i[0]] for i in indices])\n",
    "    else:\n",
    "        clusters = model.get_clusters()\n",
    "        cluster_ids = np.zeros(len(data), dtype=int)\n",
    "        for cluster_id, indices in enumerate(clusters):\n",
    "            cluster_ids[indices] = cluster_id\n",
    "    \n",
    "    return cluster_ids, model\n",
    "def run_clarans(embeddings, n_clusters, numlocal=2, maxneighbor=3, sample_frac=0.3):\n",
    "    embeddings = optimize_embeddings(embeddings)\n",
    "    data = embeddings.numpy()\n",
    "    \n",
    "    if sample_frac < 1.0:\n",
    "        sample = data[np.random.choice(len(data), int(len(data)*sample_frac), replace=False)]\n",
    "    else:\n",
    "        sample = data\n",
    "        \n",
    "    model = clarans(sample.tolist(), n_clusters, numlocal, maxneighbor)\n",
    "    model.process()\n",
    "    \n",
    "    if sample_frac < 1.0:\n",
    "        knn = NearestNeighbors(n_neighbors=1).fit(sample)\n",
    "        _, indices = knn.kneighbors(data)\n",
    "        sample_clusters = model.get_clusters()\n",
    "        cluster_ids = np.array([sample_clusters[i[0]] for i in indices])\n",
    "    else:\n",
    "        clusters = model.get_clusters()\n",
    "        cluster_ids = np.zeros(len(data), dtype=int)\n",
    "        for cluster_id, indices in enumerate(clusters):\n",
    "            cluster_ids[indices] = cluster_id\n",
    "    \n",
    "    return cluster_ids, model\n",
    "def run_pam(embeddings, n_clusters, sample_frac=0.5):\n",
    "    embeddings = optimize_embeddings(embeddings)\n",
    "    data = embeddings.numpy()\n",
    "    \n",
    "    if sample_frac < 1.0:\n",
    "        sample = data[np.random.choice(len(data), int(len(data)*sample_frac), replace=False)]\n",
    "    else:\n",
    "        sample = data\n",
    "    \n",
    "    initial_medoids = kmeans_plusplus_initializer(sample.tolist(), n_clusters).initialize()\n",
    "    model = kmedoids(sample.tolist(), initial_medoids, data_type='points')\n",
    "    model.process()\n",
    "    \n",
    "    if sample_frac < 1.0:\n",
    "        knn = NearestNeighbors(n_neighbors=1).fit(sample)\n",
    "        _, indices = knn.kneighbors(data)\n",
    "        sample_clusters = model.get_clusters()\n",
    "        cluster_ids = np.array([sample_clusters[i[0]] for i in indices])\n",
    "    else:\n",
    "        clusters = model.get_clusters()\n",
    "        cluster_ids = np.zeros(len(data), dtype=int)\n",
    "        for cluster_id, indices in enumerate(clusters):\n",
    "            cluster_ids[indices] = cluster_id\n",
    "    \n",
    "    return cluster_ids, model"
   ]
  },
  {
   "cell_type": "code",
   "execution_count": 4,
   "id": "13e9d3ec",
   "metadata": {},
   "outputs": [],
   "source": [
    "def safe_cluster(method, embeddings, n_clusters, **kwargs):\n",
    "    try:\n",
    "        # Redução inteligente de dimensionalidade para métodos lentos\n",
    "        if method.__name__ in ['run_agnes', 'run_pam']:\n",
    "            embeddings = smart_reduce_dim(embeddings)\n",
    "        \n",
    "        return method(embeddings, n_clusters, **kwargs)\n",
    "    except Exception as e:\n",
    "        print(f\"Falha no {method.__name__}: {str(e)}\")\n",
    "        return np.zeros(len(embeddings), dtype=int), None"
   ]
  },
  {
   "cell_type": "code",
   "execution_count": 5,
   "id": "0cfc9d60",
   "metadata": {},
   "outputs": [],
   "source": [
    "import time\n",
    "import psutil"
   ]
  },
  {
   "cell_type": "code",
   "execution_count": 6,
   "id": "a4f7146e",
   "metadata": {},
   "outputs": [],
   "source": [
    "def test_method(name, func, embeddings, k):\n",
    "    print(f\"\\nTestando {name} com k={k}...\")\n",
    "    start_time = time.time()\n",
    "    \n",
    "    cluster_ids, model = safe_cluster(func, embeddings, k)\n",
    "    \n",
    "    elapsed = time.time() - start_time\n",
    "    num_clusters = len(set(cluster_ids))\n",
    "    \n",
    "    print(f\"Concluído em {elapsed:.2f}s | Clusters: {num_clusters}\")\n",
    "    print(f\"Memória: {psutil.Process().memory_info().rss / 1024 ** 2:.2f} MB\")\n",
    "    \n",
    "    assert len(cluster_ids) == len(embeddings), \"Tamanho inconsistente!\"\n",
    "    return cluster_ids"
   ]
  },
  {
   "cell_type": "code",
   "execution_count": 7,
   "id": "5aab9bf7",
   "metadata": {},
   "outputs": [],
   "source": [
    "from clusters.clusters import *\n",
    "dataset = 'Beauty'\n",
    "embedding_path = f'../data_preprocessing/{dataset}/{dataset}-similarity-values-thenlper_gte-large.pt'\n",
    "embeddings = load_embeddings(embedding_path)"
   ]
  },
  {
   "cell_type": "code",
   "execution_count": 8,
   "id": "411a847b",
   "metadata": {},
   "outputs": [
    {
     "name": "stdout",
     "output_type": "stream",
     "text": [
      "\n",
      "Testando KMeans com k=6...\n",
      "Concluído em 3.43s | Clusters: 6\n",
      "Memória: 543.29 MB\n",
      "\n",
      "Testando CLARANS com k=6...\n"
     ]
    },
    {
     "ename": "KeyboardInterrupt",
     "evalue": "",
     "output_type": "error",
     "traceback": [
      "\u001b[1;31m---------------------------------------------------------------------------\u001b[0m",
      "\u001b[1;31mKeyboardInterrupt\u001b[0m                         Traceback (most recent call last)",
      "Cell \u001b[1;32mIn[8], line 9\u001b[0m\n\u001b[0;32m      1\u001b[0m methods \u001b[38;5;241m=\u001b[39m [\n\u001b[0;32m      2\u001b[0m     (\u001b[38;5;124m\"\u001b[39m\u001b[38;5;124mKMeans\u001b[39m\u001b[38;5;124m\"\u001b[39m, run_kmeans),\n\u001b[0;32m      3\u001b[0m     (\u001b[38;5;124m\"\u001b[39m\u001b[38;5;124mCLARANS\u001b[39m\u001b[38;5;124m\"\u001b[39m, run_clarans),\n\u001b[0;32m      4\u001b[0m     (\u001b[38;5;124m\"\u001b[39m\u001b[38;5;124mPAM\u001b[39m\u001b[38;5;124m\"\u001b[39m, run_pam),\n\u001b[0;32m      5\u001b[0m     (\u001b[38;5;124m\"\u001b[39m\u001b[38;5;124mAGNES\u001b[39m\u001b[38;5;124m\"\u001b[39m, run_agnes)\n\u001b[0;32m      6\u001b[0m ]\n\u001b[0;32m      8\u001b[0m \u001b[38;5;28;01mfor\u001b[39;00m name, func \u001b[38;5;129;01min\u001b[39;00m methods:\n\u001b[1;32m----> 9\u001b[0m     \u001b[43mtest_method\u001b[49m\u001b[43m(\u001b[49m\u001b[43mname\u001b[49m\u001b[43m,\u001b[49m\u001b[43m \u001b[49m\u001b[43mfunc\u001b[49m\u001b[43m,\u001b[49m\u001b[43m \u001b[49m\u001b[43membeddings\u001b[49m\u001b[43m,\u001b[49m\u001b[43m \u001b[49m\u001b[43mk\u001b[49m\u001b[38;5;241;43m=\u001b[39;49m\u001b[38;5;241;43m6\u001b[39;49m\u001b[43m)\u001b[49m\n",
      "Cell \u001b[1;32mIn[6], line 5\u001b[0m, in \u001b[0;36mtest_method\u001b[1;34m(name, func, embeddings, k)\u001b[0m\n\u001b[0;32m      2\u001b[0m \u001b[38;5;28mprint\u001b[39m(\u001b[38;5;124mf\u001b[39m\u001b[38;5;124m\"\u001b[39m\u001b[38;5;130;01m\\n\u001b[39;00m\u001b[38;5;124mTestando \u001b[39m\u001b[38;5;132;01m{\u001b[39;00mname\u001b[38;5;132;01m}\u001b[39;00m\u001b[38;5;124m com k=\u001b[39m\u001b[38;5;132;01m{\u001b[39;00mk\u001b[38;5;132;01m}\u001b[39;00m\u001b[38;5;124m...\u001b[39m\u001b[38;5;124m\"\u001b[39m)\n\u001b[0;32m      3\u001b[0m start_time \u001b[38;5;241m=\u001b[39m time\u001b[38;5;241m.\u001b[39mtime()\n\u001b[1;32m----> 5\u001b[0m cluster_ids, model \u001b[38;5;241m=\u001b[39m \u001b[43msafe_cluster\u001b[49m\u001b[43m(\u001b[49m\u001b[43mfunc\u001b[49m\u001b[43m,\u001b[49m\u001b[43m \u001b[49m\u001b[43membeddings\u001b[49m\u001b[43m,\u001b[49m\u001b[43m \u001b[49m\u001b[43mk\u001b[49m\u001b[43m)\u001b[49m\n\u001b[0;32m      7\u001b[0m elapsed \u001b[38;5;241m=\u001b[39m time\u001b[38;5;241m.\u001b[39mtime() \u001b[38;5;241m-\u001b[39m start_time\n\u001b[0;32m      8\u001b[0m num_clusters \u001b[38;5;241m=\u001b[39m \u001b[38;5;28mlen\u001b[39m(\u001b[38;5;28mset\u001b[39m(cluster_ids))\n",
      "Cell \u001b[1;32mIn[4], line 7\u001b[0m, in \u001b[0;36msafe_cluster\u001b[1;34m(method, embeddings, n_clusters, **kwargs)\u001b[0m\n\u001b[0;32m      4\u001b[0m     \u001b[38;5;28;01mif\u001b[39;00m method\u001b[38;5;241m.\u001b[39m\u001b[38;5;18m__name__\u001b[39m \u001b[38;5;129;01min\u001b[39;00m [\u001b[38;5;124m'\u001b[39m\u001b[38;5;124mrun_agnes\u001b[39m\u001b[38;5;124m'\u001b[39m, \u001b[38;5;124m'\u001b[39m\u001b[38;5;124mrun_pam\u001b[39m\u001b[38;5;124m'\u001b[39m]:\n\u001b[0;32m      5\u001b[0m         embeddings \u001b[38;5;241m=\u001b[39m smart_reduce_dim(embeddings)\n\u001b[1;32m----> 7\u001b[0m     \u001b[38;5;28;01mreturn\u001b[39;00m method(embeddings, n_clusters, \u001b[38;5;241m*\u001b[39m\u001b[38;5;241m*\u001b[39mkwargs)\n\u001b[0;32m      8\u001b[0m \u001b[38;5;28;01mexcept\u001b[39;00m \u001b[38;5;167;01mException\u001b[39;00m \u001b[38;5;28;01mas\u001b[39;00m e:\n\u001b[0;32m      9\u001b[0m     \u001b[38;5;28mprint\u001b[39m(\u001b[38;5;124mf\u001b[39m\u001b[38;5;124m\"\u001b[39m\u001b[38;5;124mFalha no \u001b[39m\u001b[38;5;132;01m{\u001b[39;00mmethod\u001b[38;5;241m.\u001b[39m\u001b[38;5;18m__name__\u001b[39m\u001b[38;5;132;01m}\u001b[39;00m\u001b[38;5;124m: \u001b[39m\u001b[38;5;132;01m{\u001b[39;00m\u001b[38;5;28mstr\u001b[39m(e)\u001b[38;5;132;01m}\u001b[39;00m\u001b[38;5;124m\"\u001b[39m)\n",
      "File \u001b[1;32mc:\\Users\\cruzd\\OneDrive\\Área de Trabalho\\PIBIC_RecSys\\SimRec\\SimRec\\clusters\\clusters.py:57\u001b[0m, in \u001b[0;36mrun_clarans\u001b[1;34m(embeddings, n_clusters, numlocal, maxneighbor)\u001b[0m\n\u001b[0;32m     54\u001b[0m data \u001b[38;5;241m=\u001b[39m embeddings\u001b[38;5;241m.\u001b[39mcpu()\u001b[38;5;241m.\u001b[39mtolist()\n\u001b[0;32m     56\u001b[0m model \u001b[38;5;241m=\u001b[39m clarans(data, n_clusters, numlocal\u001b[38;5;241m=\u001b[39mnumlocal, maxneighbor\u001b[38;5;241m=\u001b[39mmaxneighbor)\n\u001b[1;32m---> 57\u001b[0m \u001b[43mmodel\u001b[49m\u001b[38;5;241;43m.\u001b[39;49m\u001b[43mprocess\u001b[49m\u001b[43m(\u001b[49m\u001b[43m)\u001b[49m\n\u001b[0;32m     59\u001b[0m clusters \u001b[38;5;241m=\u001b[39m model\u001b[38;5;241m.\u001b[39mget_clusters()\n\u001b[0;32m     61\u001b[0m cluster_ids \u001b[38;5;241m=\u001b[39m np\u001b[38;5;241m.\u001b[39mzeros(\u001b[38;5;28mlen\u001b[39m(data), dtype\u001b[38;5;241m=\u001b[39m\u001b[38;5;28mint\u001b[39m)\n",
      "File \u001b[1;32mc:\\Users\\cruzd\\anaconda3\\envs\\simrec-2\\lib\\site-packages\\pyclustering\\cluster\\clarans.py:94\u001b[0m, in \u001b[0;36mclarans.process\u001b[1;34m(self)\u001b[0m\n\u001b[0;32m     91\u001b[0m \u001b[38;5;28mself\u001b[39m\u001b[38;5;241m.\u001b[39m__update_clusters(\u001b[38;5;28mself\u001b[39m\u001b[38;5;241m.\u001b[39m__current)\n\u001b[0;32m     93\u001b[0m \u001b[38;5;66;03m# optimize configuration\u001b[39;00m\n\u001b[1;32m---> 94\u001b[0m \u001b[38;5;28;43mself\u001b[39;49m\u001b[38;5;241;43m.\u001b[39;49m\u001b[43m__optimize_configuration\u001b[49m\u001b[43m(\u001b[49m\u001b[43m)\u001b[49m\n\u001b[0;32m     96\u001b[0m \u001b[38;5;66;03m# obtain cost of current cluster configuration and compare it with the best obtained\u001b[39;00m\n\u001b[0;32m     97\u001b[0m estimation \u001b[38;5;241m=\u001b[39m \u001b[38;5;28mself\u001b[39m\u001b[38;5;241m.\u001b[39m__calculate_estimation()\n",
      "File \u001b[1;32mc:\\Users\\cruzd\\anaconda3\\envs\\simrec-2\\lib\\site-packages\\pyclustering\\cluster\\clarans.py:211\u001b[0m, in \u001b[0;36mclarans.__optimize_configuration\u001b[1;34m(self)\u001b[0m\n\u001b[0;32m    209\u001b[0m distance_nearest \u001b[38;5;241m=\u001b[39m \u001b[38;5;28mfloat\u001b[39m(\u001b[38;5;124m'\u001b[39m\u001b[38;5;124minf\u001b[39m\u001b[38;5;124m'\u001b[39m)\n\u001b[0;32m    210\u001b[0m \u001b[38;5;28;01mif\u001b[39;00m ( (point_medoid_index \u001b[38;5;241m!=\u001b[39m candidate_medoid_index) \u001b[38;5;129;01mand\u001b[39;00m (point_medoid_index \u001b[38;5;241m!=\u001b[39m current_medoid_cluster_index) ):\n\u001b[1;32m--> 211\u001b[0m     distance_nearest \u001b[38;5;241m=\u001b[39m \u001b[43meuclidean_distance_square\u001b[49m\u001b[43m(\u001b[49m\u001b[38;5;28;43mself\u001b[39;49m\u001b[38;5;241;43m.\u001b[39;49m\u001b[43m__pointer_data\u001b[49m\u001b[43m[\u001b[49m\u001b[43mpoint_index\u001b[49m\u001b[43m]\u001b[49m\u001b[43m,\u001b[49m\u001b[43m \u001b[49m\u001b[38;5;28;43mself\u001b[39;49m\u001b[38;5;241;43m.\u001b[39;49m\u001b[43m__pointer_data\u001b[49m\u001b[43m[\u001b[49m\u001b[43mpoint_medoid_index\u001b[49m\u001b[43m]\u001b[49m\u001b[43m)\u001b[49m\n\u001b[0;32m    213\u001b[0m \u001b[38;5;66;03m# apply rules for cost calculation\u001b[39;00m\n\u001b[0;32m    214\u001b[0m \u001b[38;5;28;01mif\u001b[39;00m (point_cluster_index \u001b[38;5;241m==\u001b[39m current_medoid_cluster_index):\n\u001b[0;32m    215\u001b[0m     \u001b[38;5;66;03m# case 1:\u001b[39;00m\n",
      "File \u001b[1;32mc:\\Users\\cruzd\\anaconda3\\envs\\simrec-2\\lib\\site-packages\\pyclustering\\utils\\__init__.py:303\u001b[0m, in \u001b[0;36meuclidean_distance_square\u001b[1;34m(a, b)\u001b[0m\n\u001b[0;32m    301\u001b[0m distance \u001b[38;5;241m=\u001b[39m \u001b[38;5;241m0.0\u001b[39m;\n\u001b[0;32m    302\u001b[0m \u001b[38;5;28;01mfor\u001b[39;00m i \u001b[38;5;129;01min\u001b[39;00m \u001b[38;5;28mrange\u001b[39m(\u001b[38;5;241m0\u001b[39m, \u001b[38;5;28mlen\u001b[39m(a)):\n\u001b[1;32m--> 303\u001b[0m     distance \u001b[38;5;241m+\u001b[39m\u001b[38;5;241m=\u001b[39m (a[i] \u001b[38;5;241m-\u001b[39m b[i])\u001b[38;5;241m*\u001b[39m\u001b[38;5;241m*\u001b[39m\u001b[38;5;241m2.0\u001b[39m;\n\u001b[0;32m    305\u001b[0m \u001b[38;5;28;01mreturn\u001b[39;00m distance\n",
      "\u001b[1;31mKeyboardInterrupt\u001b[0m: "
     ]
    }
   ],
   "source": [
    "methods = [\n",
    "    (\"KMeans\", run_kmeans),\n",
    "    (\"CLARANS\", run_clarans),\n",
    "    (\"PAM\", run_pam),\n",
    "    (\"AGNES\", run_agnes)\n",
    "]\n",
    "\n",
    "for name, func in methods:\n",
    "    test_method(name, func, embeddings, k=6)"
   ]
  }
 ],
 "metadata": {
  "kernelspec": {
   "display_name": "simrec-2",
   "language": "python",
   "name": "python3"
  },
  "language_info": {
   "codemirror_mode": {
    "name": "ipython",
    "version": 3
   },
   "file_extension": ".py",
   "mimetype": "text/x-python",
   "name": "python",
   "nbconvert_exporter": "python",
   "pygments_lexer": "ipython3",
   "version": "3.10.16"
  }
 },
 "nbformat": 4,
 "nbformat_minor": 5
}
