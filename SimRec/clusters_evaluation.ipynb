{
 "cells": [
  {
   "cell_type": "markdown",
   "id": "6f643267",
   "metadata": {},
   "source": [
    "Avaliando os clusters gerados"
   ]
  },
  {
   "cell_type": "code",
   "execution_count": 1,
   "id": "a47f999a",
   "metadata": {},
   "outputs": [],
   "source": [
    "import os\n",
    "import pandas as pd\n",
    "import numpy as np\n",
    "import matplotlib.pyplot as plt"
   ]
  },
  {
   "cell_type": "code",
   "execution_count": null,
   "id": "e86dbbc6",
   "metadata": {},
   "outputs": [
    {
     "ename": "SyntaxError",
     "evalue": "cannot assign to expression here. Maybe you meant '==' instead of '='? (2272601549.py, line 3)",
     "output_type": "error",
     "traceback": [
      "\u001b[1;36m  Cell \u001b[1;32mIn[1], line 3\u001b[1;36m\u001b[0m\n\u001b[1;33m    methods-reducing = ['pca,umap']\u001b[0m\n\u001b[1;37m    ^\u001b[0m\n\u001b[1;31mSyntaxError\u001b[0m\u001b[1;31m:\u001b[0m cannot assign to expression here. Maybe you meant '==' instead of '='?\n"
     ]
    }
   ],
   "source": [
    "base_cluster_path = \"clusters/\"\n",
    "datasets = ['Beauty', 'ML-1M', 'Steam', 'HomeKitchen', 'PetSupplies', 'Tools']\n",
    "methods_red = ['pca','umap']\n",
    "n_components = [4,8,16,32,64,128,256,512]\n",
    "\n",
    "all_results_dfs = []"
   ]
  },
  {
   "cell_type": "code",
   "execution_count": null,
   "id": "eeeca944",
   "metadata": {},
   "outputs": [
    {
     "ename": "SyntaxError",
     "evalue": "incomplete input (13984119.py, line 8)",
     "output_type": "error",
     "traceback": [
      "\u001b[1;36m  Cell \u001b[1;32mIn[4], line 8\u001b[1;36m\u001b[0m\n\u001b[1;33m    for n_comp in n_components:\u001b[0m\n\u001b[1;37m                               ^\u001b[0m\n\u001b[1;31mSyntaxError\u001b[0m\u001b[1;31m:\u001b[0m incomplete input\n"
     ]
    }
   ],
   "source": [
    "for dataset in datasets:\n",
    "    dataset_path = os.path.join(base_cluster_path, dataset)\n",
    "    for method_red in methods_red:\n",
    "        methods_red_path = os.path.join(dataset_path, method_red)\n",
    "        if not os.path.exists(methods_red_path):\n",
    "            print(f'Path {methods_red_path} does not exist')\n",
    "            continue\n",
    "        for n_comp in n_components:\n",
    "            n_comp_path = os.path.join(methods_red_path, f'n_components{n_comp}')\n",
    "            if not os.path.exists(n_comp_path):\n",
    "                print(f'Path {n_comp_path} does not exist')\n",
    "                continue\n",
    "            result_files = [f for f in os.listdir(n_comp_path) if f.endswith('.csv')]\n",
    "\n",
    "            for result_file in result_files:\n",
    "                file_path = os.path.join(n_comp_path, result_file)\n",
    "                try: \n",
    "                    df = pd.read_csv(file_path)\n",
    "                    df['Dataset'] = dataset\n",
    "                    df['Reducion_Method'] = method_red\n",
    "                    df['N_Components'] = n_comp\n",
    "\n",
    "                    if 'k' in df.columns and 'N_clusters' not in df.columns:\n",
    "                        df.rename(columns={'k': 'N_clusters'}, inplace=True)\n",
    "                    elif 'min_cluster_size' in df.columns and 'N_clusters' not in df.columns:\n",
    "                        df.rename(columns={'min_cluster_size': 'N_clusters'}, inplace=True)\n",
    "                    if 'Method' in df.columns and ('dbscan' in df['Method'].iloc[0] or 'hdbscan' in df['Method'].iloc[0]):\n",
    "                        pass\n",
    "                    all_results_dfs.append(df)\n",
    "                except Exception as e:\n",
    "                    print(f\"Error reading file {file_path}: {e}\")"
   ]
  },
  {
   "cell_type": "code",
   "execution_count": null,
   "id": "f597125d",
   "metadata": {},
   "outputs": [],
   "source": [
    "#juntar todos os dataframes\n",
    "master_results_df = pd.concat(all_results_dfs, ignore_index=True)\n",
    "print('Master dataframe')\n",
    "print(master_results_df.head())\n",
    "\n",
    "print(f'Shape of master dataframe: {master_results_df.shape}')\n"
   ]
  },
  {
   "cell_type": "code",
   "execution_count": null,
   "id": "c5dcfe2f",
   "metadata": {},
   "outputs": [],
   "source": [
    "#Ordenar todos por melhores Silhouette e dunn\n",
    "\n",
    "best_results = master_results_df.sort_values(by=['Silhouette', 'Dunn'], ascending=False)\n",
    "print('Best results by Silhouette and Dunn')\n",
    "print(best_results.head(15))"
   ]
  },
  {
   "cell_type": "code",
   "execution_count": null,
   "id": "e1b9b450",
   "metadata": {},
   "outputs": [],
   "source": [
    "#filtrando por dataset\n",
    "ml1m_results = master_results_df[master_results_df['dataset'] == 'ML-1M'].sort_values(by=['Silhouette', 'Dunn'], ascending=False)\n",
    "print('Best results for ML-1M:')\n",
    "print(ml1m_results.head(15))"
   ]
  },
  {
   "cell_type": "code",
   "execution_count": null,
   "id": "d5859e92",
   "metadata": {},
   "outputs": [],
   "source": [
    "# salvando dataframe master\n",
    "master_results_df.to_csv(os.path.join(base_cluster_path, 'master_results.csv'), index=False)\n",
    "print(f'Master results saved to {os.path.join(base_cluster_path, \"master_results.csv\")}')"
   ]
  }
 ],
 "metadata": {
  "kernelspec": {
   "display_name": "Python 3",
   "language": "python",
   "name": "python3"
  },
  "language_info": {
   "codemirror_mode": {
    "name": "ipython",
    "version": 3
   },
   "file_extension": ".py",
   "mimetype": "text/x-python",
   "name": "python",
   "nbconvert_exporter": "python",
   "pygments_lexer": "ipython3",
   "version": "3.12.10"
  }
 },
 "nbformat": 4,
 "nbformat_minor": 5
}
