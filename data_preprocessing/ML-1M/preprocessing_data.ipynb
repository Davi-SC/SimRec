{
 "cells": [
  {
   "cell_type": "code",
   "execution_count": 7,
   "metadata": {},
   "outputs": [],
   "source": [
    "from collections import defaultdict\n",
    "import os\n",
    "import wget\n",
    "import zipfile\n",
    "from tqdm.notebook import tqdm"
   ]
  },
  {
   "cell_type": "code",
   "execution_count": 9,
   "metadata": {},
   "outputs": [
    {
     "name": "stdout",
     "output_type": "stream",
     "text": [
      "100% [..........................................................................] 5917549 / 5917549"
     ]
    }
   ],
   "source": [
    "url = \"https://files.grouplens.org/datasets/movielens/ml-1m.zip\"\n",
    "zip_path = \"ml-1m.zip\"\n",
    "raw_dir =\"ml-1m\"\n",
    "items_path = os.path.join(raw_dir,\"movies.dat\")\n",
    "ratings_path = os.path.join(raw_dir,\"ratings.dat\")\n",
    "\n",
    "# download raw dataset\n",
    "if not os.path.exists(zip_path):\n",
    "    wget.download(url)\n",
    "\n",
    "if not os.path.exists(raw_dir):\n",
    "    with zipfile.ZipFile(zip_path,\"r\") as zip_ref:\n",
    "        zip_ref.extractall()"
   ]
  },
  {
   "cell_type": "code",
   "execution_count": 11,
   "metadata": {},
   "outputs": [],
   "source": [
    "ITEM_FREQ_MIN = 5\n",
    "REVIEWS_REMOVE_LESS_THAN = 5\n",
    "\n",
    "SEP=\"::\"\n",
    "INTERNAL_SEP=\"|\"\n",
    "\n",
    "out_path = \"ml-1m.txt\"\n",
    "id_to_title_map_path = \"ml-1m-titles.txt\"\n",
    "train_item_freq_path = \"ml-1m-train_item_freq.txt\"\n"
   ]
  },
  {
   "cell_type": "code",
   "execution_count": 13,
   "metadata": {},
   "outputs": [
    {
     "name": "stdout",
     "output_type": "stream",
     "text": [
      "Found 3883 items\n",
      "Found 6040 users\n",
      "Found 1000209 reviews\n",
      "Skipepd 0 item reviews without metadata\n",
      "Removed 598 reviews of items that appear less than 5 in total\n",
      "Removed 0 users with less than 5 actions\n",
      "Removed 0 users with only item count less than 5\n",
      "Total of 999611 reviews\n"
     ]
    },
    {
     "data": {
      "application/vnd.jupyter.widget-view+json": {
       "model_id": "3a8169f624684d87973c3a074c131047",
       "version_major": 2,
       "version_minor": 0
      },
      "text/plain": [
       "  0%|          | 0/3416 [00:00<?, ?it/s]"
      ]
     },
     "metadata": {},
     "output_type": "display_data"
    },
    {
     "name": "stdout",
     "output_type": "stream",
     "text": [
      "Removed 467 items that are not been reviewd\n",
      "\n",
      "Items   Reviews   Users\n",
      "3416   999611    6040 \n"
     ]
    }
   ],
   "source": [
    "# load items data\n",
    "items = dict()\n",
    "with open(items_path, \"r\", encoding ='ISO-8859-1') as f:\n",
    "    for line in f:\n",
    "        item_id, title, genres  = line.split(SEP)\n",
    "        items[item_id] = title\n",
    "\n",
    "print(f\"Found {len(items)} items\")\n",
    "\n",
    "# load rewview data\n",
    "reviews = defaultdict(list)\n",
    "item_freq = defaultdict(int)\n",
    "skipped = 0\n",
    "with open(ratings_path, \"r\", encoding=\"utf-8\") as f:\n",
    "    for line in f:\n",
    "        user_id, item_id, rating, timestemp = line.split(SEP)\n",
    "        if item_id in items:\n",
    "            reviews[user_id].append((item_id, int(timestemp)))\n",
    "            item_freq[item_id] += 1\n",
    "        else:\n",
    "            skipped += 1\n",
    "\n",
    "print(f\"Found {len(reviews)} users\")\n",
    "print(f\"Found {sum(item_freq.values())} reviews\")\n",
    "print(f\"Skipepd {skipped} item reviews without metadata\")\n",
    "      \n",
    "item_freq = {k: v for k, v in item_freq.items() if v >= ITEM_FREQ_MIN}\n",
    "\n",
    "# remove user with less than K reviews\n",
    "removed_users_less_than = 0\n",
    "removed_users_item_less_than = 0\n",
    "removed_items = 0\n",
    "updated_items = set()\n",
    "for user_id in list(reviews.keys()):\n",
    "    if len(reviews[user_id]) < REVIEWS_REMOVE_LESS_THAN:\n",
    "        del reviews[user_id]\n",
    "        removed_users_less_than += 1\n",
    "    else:\n",
    "        len_before = len(reviews[user_id])\n",
    "        reviews[user_id] = [item for item in reviews[user_id] if item[0] in item_freq]\n",
    "        updated_items.update([t[0] for t in reviews[user_id]])\n",
    "        removed_items += len_before - len(reviews[user_id])\n",
    "        if len(reviews[user_id]) <= 0:\n",
    "            del reviews[user_id]\n",
    "            removed_users_item_less_than += 1\n",
    "print(f\"Removed {removed_items} reviews of items that appear less than {ITEM_FREQ_MIN} in total\")\n",
    "print(f\"Removed {removed_users_less_than} users with less than {REVIEWS_REMOVE_LESS_THAN} actions\")\n",
    "print(f\"Removed {removed_users_item_less_than} users with only item count less than {REVIEWS_REMOVE_LESS_THAN}\")\n",
    "\n",
    "# calculate item frequencey again \n",
    "original_item_freq = item_freq\n",
    "item_freq = defaultdict(int)\n",
    "for user_id, rating_list in reviews.items():\n",
    "    for item, timestamp in rating_list:\n",
    "        item_freq[item] += 1\n",
    "        \n",
    "item_freq = dict(sorted(item_freq.items()))\n",
    "print(f\"Total of {sum(item_freq.values())} reviews\")\n",
    "\n",
    "# remove \"unused\" items\n",
    "new_items = {}\n",
    "new_item_freq = {}\n",
    "new_original_item_freq = {}\n",
    "for asin in tqdm(updated_items):\n",
    "    new_items[asin] = items[asin]\n",
    "    new_item_freq[asin] = item_freq[asin]\n",
    "    new_original_item_freq[asin] = original_item_freq[asin]\n",
    "print(f\"Removed {len(items) - len(new_items)} items that are not been reviewd\")\n",
    "item_freq = new_item_freq\n",
    "items = new_items\n",
    "original_item_freq = new_original_item_freq\n",
    "\n",
    "\n",
    "print()\n",
    "print(f\"Items   Reviews   Users\")\n",
    "print(f\"{len(items):<4}   {sum(len(v) for v in reviews.values()):<7}   {len(reviews):<5}\")\n",
    "\n",
    "# fix user id\n",
    "user_id_mapping = dict()\n",
    "i = 0\n",
    "for original_user_id in reviews:\n",
    "    user_id_mapping[original_user_id] = i\n",
    "    i += 1\n",
    "\n",
    "# fix items ids\n",
    "item_id_mapping = dict()\n",
    "i = 0\n",
    "for asin in items:\n",
    "    item_id_mapping[asin] = i\n",
    "    i += 1\n",
    "\n",
    "train_item_freq = {k: 0 for k in item_freq.keys()}\n",
    "val_item_freq = {k: 0 for k in item_freq.keys()}\n",
    "test_item_freq = {k: 0 for k in item_freq.keys()}\n",
    "for user_id, rating_list in reviews.items():\n",
    "    sorted_list = list(map(lambda t: t[0], sorted(rating_list, key=lambda t: t[1])))\n",
    "    if len(sorted_list) < 3:\n",
    "        train_list = sorted_list\n",
    "    else:\n",
    "        train_list = sorted_list[1:-2]\n",
    "        val_item_freq[sorted_list[-2]] += 1\n",
    "        test_item_freq[sorted_list[-1]] += 1    \n",
    "    for asin in train_list:\n",
    "        train_item_freq[asin] += 1\n",
    "\n",
    "with open(out_path, \"w\") as f:\n",
    "    for user_id, rating_list in reviews.items():\n",
    "        sorted_list = sorted(rating_list, key=lambda t: t[1])\n",
    "        for item_id, timestamp in sorted_list:\n",
    "            f.write(f\"{user_id_mapping[user_id] + 1} {item_id_mapping[item_id] + 1}\\n\") # start user id from 1 to match original SASRec paper,reserve the 0 index for padding\n",
    "\n",
    "with open(id_to_title_map_path, \"w\") as f:\n",
    "    for asin, title in items.items():\n",
    "        f.write(f'{item_id_mapping[asin]} \"{title}\"\\n')\n",
    "\n",
    "with open(train_item_freq_path, \"w\") as f:\n",
    "    for asin, count in train_item_freq.items():\n",
    "        f.write(f'{item_id_mapping[asin]} {count}\\n')"
   ]
  },
  {
   "cell_type": "code",
   "execution_count": null,
   "metadata": {},
   "outputs": [],
   "source": []
  },
  {
   "cell_type": "code",
   "execution_count": null,
   "metadata": {},
   "outputs": [],
   "source": []
  }
 ],
 "metadata": {
  "kernelspec": {
   "display_name": "Python [conda env:base] *",
   "language": "python",
   "name": "conda-base-py"
  },
  "language_info": {
   "codemirror_mode": {
    "name": "ipython",
    "version": 3
   },
   "file_extension": ".py",
   "mimetype": "text/x-python",
   "name": "python",
   "nbconvert_exporter": "python",
   "pygments_lexer": "ipython3",
   "version": "3.12.7"
  }
 },
 "nbformat": 4,
 "nbformat_minor": 4
}
