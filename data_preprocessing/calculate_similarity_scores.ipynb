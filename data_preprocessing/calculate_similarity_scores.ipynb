{
 "cells": [
  {
   "cell_type": "code",
   "execution_count": 40,
   "metadata": {},
   "outputs": [],
   "source": [
    "import pandas as pd\n",
    "import torch\n",
    "from tqdm.notebook import tqdm\n",
    "import numpy as np\n",
    "from sentence_transformers import SentenceTransformer"
   ]
  },
  {
   "cell_type": "code",
   "execution_count": null,
   "metadata": {},
   "outputs": [],
   "source": [
    "EMBEDDING_MODEL = 'thenlper/gte-large'\n",
    "DELIMITER=\" \"\n",
    "device = 'cuda' if torch.cuda.is_available() else 'cpu'\n",
    "batch_size = 128\n",
    "K = 1000\n"
   ]
  },
  {
   "cell_type": "markdown",
   "metadata": {},
   "source": [
    "## Datasets\n",
    "\n",
    "Uncomment the dataset you want work on."
   ]
  },
  {
   "cell_type": "code",
   "execution_count": null,
   "metadata": {},
   "outputs": [],
   "source": [
    "\n",
    "# # ml-1m\n",
    "# def ml_preprocessing(title):\n",
    "#     title = \" \".join(title.split(\" \")[:-1]).strip()\n",
    "#     if title.endswith(\", The\"):\n",
    "#         title = \"The \" + title[:-5] \n",
    "#     if title.endswith(\", A\"):\n",
    "#         title = \"A \" + title[:-3] \n",
    "#     return title\n",
    "\n",
    "# data_path = \"ML-1M/ml-1m.txt\"\n",
    "# titles_path = \"ML-1M/ml-1m-titles.txt\"\n",
    "# title_freq_path = \"ML-1M/ml-1m-train_item_freq.txt\"\n",
    "# similarity_indices_out = f\"ML-1M/ml-1m-similarity-indices-{EMBEDDING_MODEL.replace('/','_')}.pt\"\n",
    "# similarity_values_out = f\"ML-1M/ml-1m-similarity-values-{EMBEDDING_MODEL.replace('/','_')}.pt\"\n",
    "# embeddings_out = f\"ML-1M/ml-1m-embeddings-{EMBEDDING_MODEL.replace('/','_')}.pt\"\n",
    "# timestamp_path = \"ML-1M/ml-1m_timestamp.txt\"\n",
    "# preprocessing_title = ml_preprocessing\n",
    "\n",
    "\n",
    "# ok"
   ]
  },
  {
   "cell_type": "code",
   "execution_count": 8,
   "metadata": {},
   "outputs": [],
   "source": [
    "# Beauty\n",
    "# data_path = \"Beauty/Beauty.txt\"\n",
    "# titles_path = \"Beauty/Beauty-titles.txt\"\n",
    "# title_freq_path = \"Beauty/Beauty-train_item_freq.txt\"\n",
    "# similarity_indices_out = f\"Beauty/Beauty-similarity-indices-{EMBEDDING_MODEL.replace('/','_')}.pt\"\n",
    "# similarity_values_out = f\"Beauty/Beauty-similarity-values-{EMBEDDING_MODEL.replace('/','_')}.pt\"\n",
    "# timestamp_path = f\"Beauty/Beauty-{EMBEDDING_MODEL.replace('/','_')}_timestamp.txt\"\n",
    "# preprocessing_title = lambda t: t\n",
    "\n",
    "\n",
    "# ok"
   ]
  },
  {
   "cell_type": "code",
   "execution_count": 10,
   "metadata": {},
   "outputs": [],
   "source": [
    "# # Tools\n",
    "# data_path = \"Tools/Tools.txt\"\n",
    "# titles_path = \"Tools/Tools-titles.txt\"\n",
    "# title_freq_path = \"Tools/Tools-train_item_freq.txt\"\n",
    "# similarity_indices_out = f\"Tools/Tools-similarity-indices-{EMBEDDING_MODEL.replace('/','_')}.pt\"\n",
    "# similarity_values_out = f\"Tools/Tools-similarity-values-{EMBEDDING_MODEL.replace('/','_')}.pt\"\n",
    "# timestamp_path = \"Tools/Tools_timestamp.txt\"\n",
    "# preprocessing_title = lambda t: t\n",
    "\n",
    "\n",
    "# ok"
   ]
  },
  {
   "cell_type": "code",
   "execution_count": 12,
   "metadata": {},
   "outputs": [],
   "source": [
    "# # HomeKitchen\n",
    "# data_path = \"HomeKitchen/HomeKitchen.txt\"\n",
    "# titles_path = \"HomeKitchen/HomeKitchen-titles.txt\"\n",
    "# title_freq_path = \"HomeKitchen/HomeKitchen-train_item_freq.txt\"\n",
    "# similarity_indices_out = f\"HomeKitchen/HomeKitchen-similarity-indices-{EMBEDDING_MODEL.replace('/','_')}.pt\"\n",
    "# similarity_values_out = f\"HomeKitchen/HomeKitchen-similarity-values-{EMBEDDING_MODEL.replace('/','_')}.pt\"\n",
    "# timestamp_path = \"HomeKitchen/HomeKitchen_timestamp.txt\"\n",
    "# preprocessing_title = lambda t: t\n",
    "\n",
    "\n",
    "# ok"
   ]
  },
  {
   "cell_type": "code",
   "execution_count": 14,
   "metadata": {},
   "outputs": [],
   "source": [
    "# # Pet Supplies\n",
    "# data_path = \"PetSupplies/Pet.txt\"\n",
    "# titles_path = \"PetSupplies/Pet-titles.txt\"\n",
    "# title_freq_path = \"PetSupplies/Pet-train_item_freq.txt\"\n",
    "# similarity_indices_out = f\"PetSupplies/Pet-similarity-indices-{EMBEDDING_MODEL.replace('/','_')}.pt\"\n",
    "# similarity_values_out = f\"PetSupplies/Pet-similarity-values-{EMBEDDING_MODEL.replace('/','_')}.pt\"\n",
    "# timestamp_path = \"PetSupplies/Pet_timestamp.txt\"\n",
    "# preprocessing_title = lambda t: t\n",
    "\n",
    "\n",
    "# ok"
   ]
  },
  {
   "cell_type": "code",
   "execution_count": 44,
   "metadata": {},
   "outputs": [],
   "source": [
    "# # Steam\n",
    "# data_path = \"Steam/steam.txt\"\n",
    "# titles_path = \"Steam/steam-titles.txt\"\n",
    "# title_freq_path = \"Steam/steam-train_item_freq.txt\"\n",
    "# similarity_indices_out = f\"Steam/steam-similarity-indices-{EMBEDDING_MODEL.replace('/','_')}.pt\"\n",
    "# similarity_values_out = f\"Steam/steam-similarity-values-{EMBEDDING_MODEL.replace('/','_')}.pt\"\n",
    "# timestamp_path = f\"Steam/steam_timestamp.txt\"\n",
    "# preprocessing_title = lambda t: t\n",
    "\n",
    "\n",
    "# ok"
   ]
  },
  {
   "cell_type": "markdown",
   "metadata": {},
   "source": [
    "## Calcualte Similarities"
   ]
  },
  {
   "cell_type": "code",
   "execution_count": 47,
   "metadata": {},
   "outputs": [],
   "source": [
    "def sentence_transformer(model_name, batch_size, device):\n",
    "    model = SentenceTransformer(model_name, device=device)\n",
    "    def embed(sentences):\n",
    "        embeddings = []\n",
    "        batches = [sentences[x:x+batch_size] for x in range(0, len(sentences), batch_size)]\n",
    "        for batch in tqdm(batches):\n",
    "            embeddings.append(model.encode(batch, convert_to_numpy=False, convert_to_tensor=True))\n",
    "        return torch.cat(embeddings, dim=0)\n",
    "    return embed\n",
    "\n",
    "embedding_func = sentence_transformer(model_name=EMBEDDING_MODEL, batch_size=batch_size, device=device)"
   ]
  },
  {
   "cell_type": "code",
   "execution_count": 49,
   "metadata": {},
   "outputs": [
    {
     "data": {
      "text/html": [
       "<div>\n",
       "<style scoped>\n",
       "    .dataframe tbody tr th:only-of-type {\n",
       "        vertical-align: middle;\n",
       "    }\n",
       "\n",
       "    .dataframe tbody tr th {\n",
       "        vertical-align: top;\n",
       "    }\n",
       "\n",
       "    .dataframe thead th {\n",
       "        text-align: right;\n",
       "    }\n",
       "</style>\n",
       "<table border=\"1\" class=\"dataframe\">\n",
       "  <thead>\n",
       "    <tr style=\"text-align: right;\">\n",
       "      <th></th>\n",
       "      <th>id</th>\n",
       "      <th>title</th>\n",
       "    </tr>\n",
       "  </thead>\n",
       "  <tbody>\n",
       "    <tr>\n",
       "      <th>0</th>\n",
       "      <td>0</td>\n",
       "      <td>No Man's Sky</td>\n",
       "    </tr>\n",
       "    <tr>\n",
       "      <th>1</th>\n",
       "      <td>1</td>\n",
       "      <td>Defend the Highlands: World Tour</td>\n",
       "    </tr>\n",
       "    <tr>\n",
       "      <th>2</th>\n",
       "      <td>2</td>\n",
       "      <td>Titanis</td>\n",
       "    </tr>\n",
       "    <tr>\n",
       "      <th>3</th>\n",
       "      <td>3</td>\n",
       "      <td>Super Indie Karts</td>\n",
       "    </tr>\n",
       "    <tr>\n",
       "      <th>4</th>\n",
       "      <td>4</td>\n",
       "      <td>MechWarrior Onlineâ¢</td>\n",
       "    </tr>\n",
       "    <tr>\n",
       "      <th>...</th>\n",
       "      <td>...</td>\n",
       "      <td>...</td>\n",
       "    </tr>\n",
       "    <tr>\n",
       "      <th>13040</th>\n",
       "      <td>13040</td>\n",
       "      <td>Railroad Pioneer</td>\n",
       "    </tr>\n",
       "    <tr>\n",
       "      <th>13041</th>\n",
       "      <td>13041</td>\n",
       "      <td>Red Baron Pack</td>\n",
       "    </tr>\n",
       "    <tr>\n",
       "      <th>13042</th>\n",
       "      <td>13042</td>\n",
       "      <td>The Tomorrow War</td>\n",
       "    </tr>\n",
       "    <tr>\n",
       "      <th>13043</th>\n",
       "      <td>13043</td>\n",
       "      <td>Coffee Run</td>\n",
       "    </tr>\n",
       "    <tr>\n",
       "      <th>13044</th>\n",
       "      <td>13044</td>\n",
       "      <td>ASA: A Space Adventure - Remastered Edition</td>\n",
       "    </tr>\n",
       "  </tbody>\n",
       "</table>\n",
       "<p>13045 rows × 2 columns</p>\n",
       "</div>"
      ],
      "text/plain": [
       "          id                                        title\n",
       "0          0                                 No Man's Sky\n",
       "1          1             Defend the Highlands: World Tour\n",
       "2          2                                      Titanis\n",
       "3          3                            Super Indie Karts\n",
       "4          4                        MechWarrior Onlineâ¢\n",
       "...      ...                                          ...\n",
       "13040  13040                             Railroad Pioneer\n",
       "13041  13041                               Red Baron Pack\n",
       "13042  13042                             The Tomorrow War\n",
       "13043  13043                                   Coffee Run\n",
       "13044  13044  ASA: A Space Adventure - Remastered Edition\n",
       "\n",
       "[13045 rows x 2 columns]"
      ]
     },
     "execution_count": 49,
     "metadata": {},
     "output_type": "execute_result"
    }
   ],
   "source": [
    "titles_df = pd.read_csv(titles_path, names=['id', 'title'], delimiter=DELIMITER, escapechar=\"\\\\\",encoding='latin-1') \n",
    "titles_df\n",
    "#tive que adicionar o encodin latin-1 para resolver um erro de leitura no pandas pra arquivos tipo utf8(UnicodeDecodeError: 'utf-8' codec can't decode byte 0xe9 in position 829: invalid continuation byte)"
   ]
  },
  {
   "cell_type": "code",
   "execution_count": 51,
   "metadata": {},
   "outputs": [
    {
     "data": {
      "text/html": [
       "<div>\n",
       "<style scoped>\n",
       "    .dataframe tbody tr th:only-of-type {\n",
       "        vertical-align: middle;\n",
       "    }\n",
       "\n",
       "    .dataframe tbody tr th {\n",
       "        vertical-align: top;\n",
       "    }\n",
       "\n",
       "    .dataframe thead th {\n",
       "        text-align: right;\n",
       "    }\n",
       "</style>\n",
       "<table border=\"1\" class=\"dataframe\">\n",
       "  <thead>\n",
       "    <tr style=\"text-align: right;\">\n",
       "      <th></th>\n",
       "      <th>id</th>\n",
       "      <th>freq</th>\n",
       "      <th>title</th>\n",
       "    </tr>\n",
       "  </thead>\n",
       "  <tbody>\n",
       "    <tr>\n",
       "      <th>0</th>\n",
       "      <td>0</td>\n",
       "      <td>2344</td>\n",
       "      <td>No Man's Sky</td>\n",
       "    </tr>\n",
       "    <tr>\n",
       "      <th>1</th>\n",
       "      <td>1</td>\n",
       "      <td>5</td>\n",
       "      <td>Defend the Highlands: World Tour</td>\n",
       "    </tr>\n",
       "    <tr>\n",
       "      <th>2</th>\n",
       "      <td>2</td>\n",
       "      <td>5</td>\n",
       "      <td>Titanis</td>\n",
       "    </tr>\n",
       "    <tr>\n",
       "      <th>3</th>\n",
       "      <td>3</td>\n",
       "      <td>51</td>\n",
       "      <td>Super Indie Karts</td>\n",
       "    </tr>\n",
       "    <tr>\n",
       "      <th>4</th>\n",
       "      <td>4</td>\n",
       "      <td>1241</td>\n",
       "      <td>MechWarrior Onlineâ¢</td>\n",
       "    </tr>\n",
       "    <tr>\n",
       "      <th>...</th>\n",
       "      <td>...</td>\n",
       "      <td>...</td>\n",
       "      <td>...</td>\n",
       "    </tr>\n",
       "    <tr>\n",
       "      <th>13040</th>\n",
       "      <td>13040</td>\n",
       "      <td>22</td>\n",
       "      <td>Railroad Pioneer</td>\n",
       "    </tr>\n",
       "    <tr>\n",
       "      <th>13041</th>\n",
       "      <td>13041</td>\n",
       "      <td>11</td>\n",
       "      <td>Red Baron Pack</td>\n",
       "    </tr>\n",
       "    <tr>\n",
       "      <th>13042</th>\n",
       "      <td>13042</td>\n",
       "      <td>18</td>\n",
       "      <td>The Tomorrow War</td>\n",
       "    </tr>\n",
       "    <tr>\n",
       "      <th>13043</th>\n",
       "      <td>13043</td>\n",
       "      <td>11</td>\n",
       "      <td>Coffee Run</td>\n",
       "    </tr>\n",
       "    <tr>\n",
       "      <th>13044</th>\n",
       "      <td>13044</td>\n",
       "      <td>10</td>\n",
       "      <td>ASA: A Space Adventure - Remastered Edition</td>\n",
       "    </tr>\n",
       "  </tbody>\n",
       "</table>\n",
       "<p>13045 rows × 3 columns</p>\n",
       "</div>"
      ],
      "text/plain": [
       "          id  freq                                        title\n",
       "0          0  2344                                 No Man's Sky\n",
       "1          1     5             Defend the Highlands: World Tour\n",
       "2          2     5                                      Titanis\n",
       "3          3    51                            Super Indie Karts\n",
       "4          4  1241                        MechWarrior Onlineâ¢\n",
       "...      ...   ...                                          ...\n",
       "13040  13040    22                             Railroad Pioneer\n",
       "13041  13041    11                               Red Baron Pack\n",
       "13042  13042    18                             The Tomorrow War\n",
       "13043  13043    11                                   Coffee Run\n",
       "13044  13044    10  ASA: A Space Adventure - Remastered Edition\n",
       "\n",
       "[13045 rows x 3 columns]"
      ]
     },
     "execution_count": 51,
     "metadata": {},
     "output_type": "execute_result"
    }
   ],
   "source": [
    "id_to_freq_df = pd.read_csv(title_freq_path, names=['id', 'freq'], delimiter=DELIMITER)\n",
    "id_to_freq_series = pd.Series(id_to_freq_df.freq.values, index=id_to_freq_df.id)\n",
    "id_to_freq = id_to_freq_series.to_dict()\n",
    "titles_df['freq'] = id_to_freq_series\n",
    "titles_df = titles_df[['id', 'freq', 'title']]\n",
    "titles_df"
   ]
  },
  {
   "cell_type": "code",
   "execution_count": null,
   "metadata": {},
   "outputs": [
    {
     "data": {
      "text/html": [
       "<div>\n",
       "<style scoped>\n",
       "    .dataframe tbody tr th:only-of-type {\n",
       "        vertical-align: middle;\n",
       "    }\n",
       "\n",
       "    .dataframe tbody tr th {\n",
       "        vertical-align: top;\n",
       "    }\n",
       "\n",
       "    .dataframe thead th {\n",
       "        text-align: right;\n",
       "    }\n",
       "</style>\n",
       "<table border=\"1\" class=\"dataframe\">\n",
       "  <thead>\n",
       "    <tr style=\"text-align: right;\">\n",
       "      <th></th>\n",
       "      <th>id</th>\n",
       "      <th>freq</th>\n",
       "      <th>title</th>\n",
       "    </tr>\n",
       "  </thead>\n",
       "  <tbody>\n",
       "    <tr>\n",
       "      <th>0</th>\n",
       "      <td>0</td>\n",
       "      <td>2344</td>\n",
       "      <td>No Man's Sky</td>\n",
       "    </tr>\n",
       "    <tr>\n",
       "      <th>1</th>\n",
       "      <td>1</td>\n",
       "      <td>5</td>\n",
       "      <td>Defend the Highlands: World Tour</td>\n",
       "    </tr>\n",
       "    <tr>\n",
       "      <th>2</th>\n",
       "      <td>2</td>\n",
       "      <td>5</td>\n",
       "      <td>Titanis</td>\n",
       "    </tr>\n",
       "    <tr>\n",
       "      <th>3</th>\n",
       "      <td>3</td>\n",
       "      <td>51</td>\n",
       "      <td>Super Indie Karts</td>\n",
       "    </tr>\n",
       "    <tr>\n",
       "      <th>4</th>\n",
       "      <td>4</td>\n",
       "      <td>1241</td>\n",
       "      <td>MechWarrior Onlineâ¢</td>\n",
       "    </tr>\n",
       "    <tr>\n",
       "      <th>...</th>\n",
       "      <td>...</td>\n",
       "      <td>...</td>\n",
       "      <td>...</td>\n",
       "    </tr>\n",
       "    <tr>\n",
       "      <th>13040</th>\n",
       "      <td>13040</td>\n",
       "      <td>22</td>\n",
       "      <td>Railroad Pioneer</td>\n",
       "    </tr>\n",
       "    <tr>\n",
       "      <th>13041</th>\n",
       "      <td>13041</td>\n",
       "      <td>11</td>\n",
       "      <td>Red Baron Pack</td>\n",
       "    </tr>\n",
       "    <tr>\n",
       "      <th>13042</th>\n",
       "      <td>13042</td>\n",
       "      <td>18</td>\n",
       "      <td>The Tomorrow War</td>\n",
       "    </tr>\n",
       "    <tr>\n",
       "      <th>13043</th>\n",
       "      <td>13043</td>\n",
       "      <td>11</td>\n",
       "      <td>Coffee Run</td>\n",
       "    </tr>\n",
       "    <tr>\n",
       "      <th>13044</th>\n",
       "      <td>13044</td>\n",
       "      <td>10</td>\n",
       "      <td>ASA: A Space Adventure - Remastered Edition</td>\n",
       "    </tr>\n",
       "  </tbody>\n",
       "</table>\n",
       "<p>13045 rows × 3 columns</p>\n",
       "</div>"
      ],
      "text/plain": [
       "          id  freq                                        title\n",
       "0          0  2344                                 No Man's Sky\n",
       "1          1     5             Defend the Highlands: World Tour\n",
       "2          2     5                                      Titanis\n",
       "3          3    51                            Super Indie Karts\n",
       "4          4  1241                        MechWarrior Onlineâ¢\n",
       "...      ...   ...                                          ...\n",
       "13040  13040    22                             Railroad Pioneer\n",
       "13041  13041    11                               Red Baron Pack\n",
       "13042  13042    18                             The Tomorrow War\n",
       "13043  13043    11                                   Coffee Run\n",
       "13044  13044    10  ASA: A Space Adventure - Remastered Edition\n",
       "\n",
       "[13045 rows x 3 columns]"
      ]
     },
     "execution_count": 53,
     "metadata": {},
     "output_type": "execute_result"
    }
   ],
   "source": [
    "titles_df['title'] = titles_df['title'].apply(np.vectorize(preprocessing_title))\n",
    "titles_df"
   ]
  },
  {
   "cell_type": "code",
   "execution_count": null,
   "metadata": {},
   "outputs": [
    {
     "data": {
      "application/vnd.jupyter.widget-view+json": {
       "model_id": "736adbe509c34dcf82d3c831617e76a5",
       "version_major": 2,
       "version_minor": 0
      },
      "text/plain": [
       "  0%|          | 0/102 [00:00<?, ?it/s]"
      ]
     },
     "metadata": {},
     "output_type": "display_data"
    },
    {
     "data": {
      "text/plain": [
       "tensor([[-0.0004,  0.0103, -0.0106,  ..., -0.0378, -0.0367, -0.0187],\n",
       "        [-0.0043,  0.0107, -0.0173,  ..., -0.0336,  0.0030, -0.0124],\n",
       "        [-0.0121,  0.0023,  0.0209,  ...,  0.0013, -0.0111, -0.0271],\n",
       "        ...,\n",
       "        [ 0.0198, -0.0089, -0.0265,  ..., -0.0272, -0.0248, -0.0182],\n",
       "        [ 0.0059,  0.0021, -0.0147,  ...,  0.0027,  0.0039,  0.0062],\n",
       "        [ 0.0249,  0.0242, -0.0204,  ..., -0.0394, -0.0184, -0.0256]])"
      ]
     },
     "execution_count": 55,
     "metadata": {},
     "output_type": "execute_result"
    }
   ],
   "source": [
    "\n",
    "titles_list = titles_df['title'].tolist()\n",
    "titles_embeddings = embedding_func(titles_list)\n",
    "titles_embeddings"
   ]
  },
  {
   "cell_type": "code",
   "execution_count": 57,
   "metadata": {},
   "outputs": [
    {
     "data": {
      "text/plain": [
       "torch.Size([13045, 1024])"
      ]
     },
     "execution_count": 57,
     "metadata": {},
     "output_type": "execute_result"
    }
   ],
   "source": [
    "titles_embeddings.shape"
   ]
  },
  {
   "cell_type": "code",
   "execution_count": 59,
   "metadata": {},
   "outputs": [],
   "source": [
    "def get_similarity_matrix(emebddings, eps=1e-8, top_k=None):\n",
    "    embeddings_norm = emebddings.norm(dim=1).unsqueeze(dim=1)  # (num_embeddings, 1)\n",
    "    embeddings_normalized = emebddings /  torch.max(embeddings_norm, eps * torch.ones_like(embeddings_norm))\n",
    "    if top_k is None:\n",
    "        similarity_values = embeddings_normalized @ embeddings_normalized.T\n",
    "        # fix numerical percison issues - where similarity_matrix[i,i] < similarity_matrix[i, k != i]\n",
    "        similarity_values += torch.diag(torch.full((similarity_values.shape[0],), 1e-7, device=device))\n",
    "        similarity_indices = torch.arange(similarity_values.shape[0]).unsqueeze(dim=0).repeat(similarity_values.shape[0], 1)\n",
    "\n",
    "    else:\n",
    "        n_embeddings = emebddings.shape[0]\n",
    "        chunks = n_embeddings // 1000\n",
    "        value_list = []\n",
    "        indices_list = []\n",
    "        for chunk in embeddings_normalized.chunk(chunks):\n",
    "            similarity_out = chunk @ embeddings_normalized.T \n",
    "            values, indices = torch.topk(similarity_out, dim= -1, k=top_k, sorted=True)\n",
    "            value_list.append(values)\n",
    "            indices_list.append(indices)\n",
    "        similarity_values = torch.cat(value_list, dim=0)\n",
    "        similarity_indices = torch.cat(indices_list, dim=0)\n",
    "\n",
    "    return similarity_values, similarity_indices"
   ]
  },
  {
   "cell_type": "code",
   "execution_count": 61,
   "metadata": {},
   "outputs": [
    {
     "name": "stdout",
     "output_type": "stream",
     "text": [
      "tensor([[    0,  8953, 11802,  ...,  2278, 11444,  1301],\n",
      "        [    1,  6077, 11666,  ..., 12653,  6114,   953],\n",
      "        [    2, 12764,  2042,  ...,  5585,  7243,  4694],\n",
      "        ...,\n",
      "        [13042, 11929,  8186,  ...,  6941,   342,  3452],\n",
      "        [13043, 10547,  9832,  ...,  5576, 12228,  6094],\n",
      "        [13044,  2480, 11764,  ...,  3351,  5030, 11177]])\n"
     ]
    },
    {
     "data": {
      "text/plain": [
       "tensor([[1.0000, 0.8636, 0.8624,  ..., 0.8048, 0.8048, 0.8048],\n",
       "        [1.0000, 0.9304, 0.8697,  ..., 0.7795, 0.7795, 0.7795],\n",
       "        [1.0000, 0.8744, 0.8615,  ..., 0.7871, 0.7871, 0.7871],\n",
       "        ...,\n",
       "        [1.0000, 0.9324, 0.8616,  ..., 0.7937, 0.7937, 0.7937],\n",
       "        [1.0000, 0.8906, 0.8746,  ..., 0.7719, 0.7719, 0.7718],\n",
       "        [1.0000, 0.9088, 0.8871,  ..., 0.8033, 0.8033, 0.8032]])"
      ]
     },
     "execution_count": 61,
     "metadata": {},
     "output_type": "execute_result"
    }
   ],
   "source": [
    "similarity_values, similarity_indices = get_similarity_matrix(titles_embeddings, top_k=K)\n",
    "print(similarity_indices)\n",
    "similarity_values"
   ]
  },
  {
   "cell_type": "markdown",
   "metadata": {},
   "source": [
    "Save all embeddings and similarities"
   ]
  },
  {
   "cell_type": "code",
   "execution_count": 64,
   "metadata": {},
   "outputs": [],
   "source": [
    "torch.save(similarity_indices, similarity_indices_out)\n",
    "torch.save(similarity_values, similarity_values_out)"
   ]
  },
  {
   "cell_type": "code",
   "execution_count": 66,
   "metadata": {},
   "outputs": [],
   "source": [
    "! echo `date +'%I_%M_%d_%m'` > {timestamp_path}"
   ]
  },
  {
   "cell_type": "code",
   "execution_count": null,
   "metadata": {},
   "outputs": [],
   "source": []
  },
  {
   "cell_type": "code",
   "execution_count": null,
   "metadata": {},
   "outputs": [],
   "source": []
  }
 ],
 "metadata": {
  "kernelspec": {
   "display_name": "Python [conda env:base] *",
   "language": "python",
   "name": "conda-base-py"
  },
  "language_info": {
   "codemirror_mode": {
    "name": "ipython",
    "version": 3
   },
   "file_extension": ".py",
   "mimetype": "text/x-python",
   "name": "python",
   "nbconvert_exporter": "python",
   "pygments_lexer": "ipython3",
   "version": "3.12.7"
  }
 },
 "nbformat": 4,
 "nbformat_minor": 4
}
