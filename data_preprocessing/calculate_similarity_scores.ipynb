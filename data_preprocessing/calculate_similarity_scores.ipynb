{
 "cells": [
  {
   "cell_type": "code",
   "execution_count": null,
   "metadata": {},
   "outputs": [],
   "source": [
    "import pandas as pd\n",
    "import torch\n",
    "from tqdm.notebook import tqdm\n",
    "import numpy as np\n",
    "from sentence_transformers import SentenceTransformer"
   ]
  },
  {
   "cell_type": "code",
   "execution_count": null,
   "metadata": {},
   "outputs": [],
   "source": [
    "EMBEDDING_MODEL = 'thenlper/gte-large'\n",
    "DELIMITER=\" \"\n",
    "device = 'cuda' if torch.cuda.is_available() else 'cpu'\n",
    "batch_size = 128\n",
    "K = 1000"
   ]
  },
  {
   "cell_type": "markdown",
   "metadata": {},
   "source": [
    "## Datasets\n",
    "\n",
    "Uncomment the dataset you want work on."
   ]
  },
  {
   "cell_type": "code",
   "execution_count": null,
   "metadata": {},
   "outputs": [],
   "source": [
    "# # ml-1m\n",
    "# def ml_preprocessing(title):\n",
    "#     title = \" \".join(title.split(\" \")[:-1]).strip()\n",
    "#     if title.endswith(\", The\"):\n",
    "#         title = \"The \" + title[:-5] \n",
    "#     if title.endswith(\", A\"):\n",
    "#         title = \"A \" + title[:-3] \n",
    "#     return title\n",
    "\n",
    "# data_path = \"ML-1M/ml-1m.txt\"\n",
    "# titles_path = \"ML-1M/ml-1m-titles.txt\"\n",
    "# title_freq_path = \"ML-1M/ml-1m-train_item_freq.txt\"\n",
    "# similarity_indices_out = f\"ML-1M/ml-1m-similarity-indices-{EMBEDDING_MODEL.replace('/','_')}.pt\"\n",
    "# similarity_values_out = f\"ML-1M/ml-1m-similarity-values-{EMBEDDING_MODEL.replace('/','_')}.pt\"\n",
    "# embeddings_out = f\"ML-1M/ml-1m-embeddings-{EMBEDDING_MODEL.replace('/','_')}.pt\"\n",
    "# timestamp_path = \"ML-1M/ml-1m_timestamp.txt\"\n",
    "# preprocessing_title = ml_preprocessing"
   ]
  },
  {
   "cell_type": "code",
   "execution_count": null,
   "metadata": {},
   "outputs": [],
   "source": [
    "# Beauty\n",
    "data_path = \"Beauty/Beauty.txt\"\n",
    "titles_path = \"Beauty/Beauty-titles.txt\"\n",
    "title_freq_path = \"Beauty/Beauty-train_item_freq.txt\"\n",
    "similarity_indices_out = f\"Beauty/Beauty-similarity-indices-{EMBEDDING_MODEL.replace('/','_')}.pt\"\n",
    "similarity_values_out = f\"Beauty/Beauty-similarity-values-{EMBEDDING_MODEL.replace('/','_')}.pt\"\n",
    "timestamp_path = f\"Beauty/Beauty-{EMBEDDING_MODEL.replace('/','_')}_timestamp.txt\"\n",
    "preprocessing_title = lambda t: t"
   ]
  },
  {
   "cell_type": "code",
   "execution_count": null,
   "metadata": {},
   "outputs": [],
   "source": [
    "# # Tools\n",
    "# data_path = \"Tools/Tools.txt\"\n",
    "# titles_path = \"Tools/Tools-titles.txt\"\n",
    "# title_freq_path = \"Tools/Tools-train_item_freq.txt\"\n",
    "# similarity_indices_out = f\"Tools/Tools-similarity-indices-{EMBEDDING_MODEL.replace('/','_')}.pt\"\n",
    "# similarity_values_out = f\"Tools/Tools-similarity-values-{EMBEDDING_MODEL.replace('/','_')}.pt\"\n",
    "# timestamp_path = \"Tools/Tools_timestamp.txt\"\n",
    "# preprocessing_title = lambda t: t"
   ]
  },
  {
   "cell_type": "code",
   "execution_count": null,
   "metadata": {},
   "outputs": [],
   "source": [
    "# # HomeKitchen\n",
    "# data_path = \"HomeKitchen/HomeKitchen.txt\"\n",
    "# titles_path = \"HomeKitchen/HomeKitchen-titles.txt\"\n",
    "# title_freq_path = \"HomeKitchen/HomeKitchen-train_item_freq.txt\"\n",
    "# similarity_indices_out = f\"HomeKitchen/HomeKitchen-similarity-indices-{EMBEDDING_MODEL.replace('/','_')}.pt\"\n",
    "# similarity_values_out = f\"HomeKitchen/HomeKitchen-similarity-values-{EMBEDDING_MODEL.replace('/','_')}.pt\"\n",
    "# timestamp_path = \"HomeKitchen/HomeKitchen_timestamp.txt\"\n",
    "# preprocessing_title = lambda t: t"
   ]
  },
  {
   "cell_type": "code",
   "execution_count": null,
   "metadata": {},
   "outputs": [],
   "source": [
    "# # Pet Supplies\n",
    "# data_path = \"PetSupplies/Pet.txt\"\n",
    "# titles_path = \"PetSupplies/Pet-titles.txt\"\n",
    "# title_freq_path = \"PetSupplies/Pet-train_item_freq.txt\"\n",
    "# similarity_indices_out = f\"PetSupplies/Pet-similarity-indices-{EMBEDDING_MODEL.replace('/','_')}.pt\"\n",
    "# similarity_values_out = f\"PetSupplies/Pet-similarity-values-{EMBEDDING_MODEL.replace('/','_')}.pt\"\n",
    "# timestamp_path = \"PetSupplies/Pet_timestamp.txt\"\n",
    "# preprocessing_title = lambda t: t"
   ]
  },
  {
   "cell_type": "code",
   "execution_count": null,
   "metadata": {},
   "outputs": [],
   "source": [
    "# # Steam\n",
    "# data_path = \"Steam/steam.txt\"\n",
    "# titles_path = \"Steam/steam-titles.txt\"\n",
    "# title_freq_path = \"Steam/steam-train_item_freq.txt\"\n",
    "# similarity_indices_out = f\"Steam/steam-similarity-indices-{EMBEDDING_MODEL.replace('/','_')}.pt\"\n",
    "# similarity_values_out = f\"Steam/steam-similarity-values-{EMBEDDING_MODEL.replace('/','_')}.pt\"\n",
    "# timestamp_path = f\"Steam/steam_timestamp.txt\"\n",
    "# preprocessing_title = lambda t: t"
   ]
  },
  {
   "cell_type": "markdown",
   "metadata": {},
   "source": [
    "## Calcualte Similarities"
   ]
  },
  {
   "cell_type": "code",
   "execution_count": null,
   "metadata": {},
   "outputs": [],
   "source": [
    "def sentence_transformer(model_name, batch_size, device):\n",
    "    model = SentenceTransformer(model_name, device=device)\n",
    "    def embed(sentences):\n",
    "        embeddings = []\n",
    "        batches = [sentences[x:x+batch_size] for x in range(0, len(sentences), batch_size)]\n",
    "        for batch in tqdm(batches):\n",
    "            embeddings.append(model.encode(batch, convert_to_numpy=False, convert_to_tensor=True))\n",
    "        return torch.cat(embeddings, dim=0)\n",
    "    return embed\n",
    "\n",
    "embedding_func = sentence_transformer(model_name=EMBEDDING_MODEL, batch_size=batch_size, device=device)"
   ]
  },
  {
   "cell_type": "code",
   "execution_count": null,
   "metadata": {},
   "outputs": [],
   "source": [
    "titles_df = pd.read_csv(titles_path, names=['id', 'title'], delimiter=DELIMITER, escapechar=\"\\\\\")\n",
    "titles_df"
   ]
  },
  {
   "cell_type": "code",
   "execution_count": null,
   "metadata": {},
   "outputs": [],
   "source": [
    "id_to_freq_df = pd.read_csv(title_freq_path, names=['id', 'freq'], delimiter=DELIMITER)\n",
    "id_to_freq_series = pd.Series(id_to_freq_df.freq.values, index=id_to_freq_df.id)\n",
    "id_to_freq = id_to_freq_series.to_dict()\n",
    "titles_df['freq'] = id_to_freq_series\n",
    "titles_df = titles_df[['id', 'freq', 'title']]\n",
    "titles_df"
   ]
  },
  {
   "cell_type": "code",
   "execution_count": null,
   "metadata": {},
   "outputs": [],
   "source": [
    "titles_df['title'] = titles_df['title'].apply(np.vectorize(preprocessing_title))\n",
    "titles_df"
   ]
  },
  {
   "cell_type": "code",
   "execution_count": null,
   "metadata": {},
   "outputs": [],
   "source": [
    "titles_list = titles_df['title'].tolist()\n",
    "titles_embeddings = embedding_func(titles_list)\n",
    "titles_embeddings"
   ]
  },
  {
   "cell_type": "code",
   "execution_count": null,
   "metadata": {},
   "outputs": [],
   "source": [
    "titles_embeddings.shape"
   ]
  },
  {
   "cell_type": "code",
   "execution_count": null,
   "metadata": {},
   "outputs": [],
   "source": [
    "def get_similarity_matrix(emebddings, eps=1e-8, top_k=None):\n",
    "    embeddings_norm = emebddings.norm(dim=1).unsqueeze(dim=1)  # (num_embeddings, 1)\n",
    "    embeddings_normalized = emebddings /  torch.max(embeddings_norm, eps * torch.ones_like(embeddings_norm))\n",
    "    if top_k is None:\n",
    "        similarity_values = embeddings_normalized @ embeddings_normalized.T\n",
    "        # fix numerical percison issues - where similarity_matrix[i,i] < similarity_matrix[i, k != i]\n",
    "        similarity_values += torch.diag(torch.full((similarity_values.shape[0],), 1e-7, device=device))\n",
    "        similarity_indices = torch.arange(similarity_values.shape[0]).unsqueeze(dim=0).repeat(similarity_values.shape[0], 1)\n",
    "\n",
    "    else:\n",
    "        n_embeddings = emebddings.shape[0]\n",
    "        chunks = n_embeddings // 1000\n",
    "        value_list = []\n",
    "        indices_list = []\n",
    "        for chunk in embeddings_normalized.chunk(chunks):\n",
    "            similarity_out = chunk @ embeddings_normalized.T \n",
    "            values, indices = torch.topk(similarity_out, dim= -1, k=top_k, sorted=True)\n",
    "            value_list.append(values)\n",
    "            indices_list.append(indices)\n",
    "        similarity_values = torch.cat(value_list, dim=0)\n",
    "        similarity_indices = torch.cat(indices_list, dim=0)\n",
    "\n",
    "    return similarity_values, similarity_indices"
   ]
  },
  {
   "cell_type": "code",
   "execution_count": null,
   "metadata": {},
   "outputs": [],
   "source": [
    "similarity_values, similarity_indices = get_similarity_matrix(titles_embeddings, top_k=K)\n",
    "print(similarity_indices)\n",
    "similarity_values"
   ]
  },
  {
   "cell_type": "markdown",
   "metadata": {},
   "source": [
    "Save all embeddings and similarities"
   ]
  },
  {
   "cell_type": "code",
   "execution_count": null,
   "metadata": {},
   "outputs": [],
   "source": [
    "torch.save(similarity_indices, similarity_indices_out)\n",
    "torch.save(similarity_values, similarity_values_out)"
   ]
  },
  {
   "cell_type": "code",
   "execution_count": null,
   "metadata": {},
   "outputs": [],
   "source": [
    "! echo `date +'%I_%M_%d_%m'` > {timestamp_path}"
   ]
  }
 ],
 "metadata": {
  "kernelspec": {
   "display_name": "py39",
   "language": "python",
   "name": "python3"
  },
  "language_info": {
   "codemirror_mode": {
    "name": "ipython",
    "version": 3
   },
   "file_extension": ".py",
   "mimetype": "text/x-python",
   "name": "python",
   "nbconvert_exporter": "python",
   "pygments_lexer": "ipython3",
   "version": "3.9.17"
  },
  "orig_nbformat": 4
 },
 "nbformat": 4,
 "nbformat_minor": 2
}
